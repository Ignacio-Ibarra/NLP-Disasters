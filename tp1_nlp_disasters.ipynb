{
  "nbformat": 4,
  "nbformat_minor": 0,
  "metadata": {
    "colab": {
      "name": "tp1_nlp_disasters.ipynb",
      "provenance": [],
      "collapsed_sections": [
        "Q3mRLqTWM5cO"
      ],
      "authorship_tag": "ABX9TyPP+8OpNCQ7z0StwHa8/1ME",
      "include_colab_link": true
    },
    "kernelspec": {
      "name": "python3",
      "display_name": "Python 3"
    }
  },
  "cells": [
    {
      "cell_type": "markdown",
      "metadata": {
        "id": "view-in-github",
        "colab_type": "text"
      },
      "source": [
        "<a href=\"https://colab.research.google.com/github/Ignacio-Ibarra/NLP-Disasters/blob/tp1_nlp_disasters---edits/tp1_nlp_disasters.ipynb\" target=\"_parent\"><img src=\"https://colab.research.google.com/assets/colab-badge.svg\" alt=\"Open In Colab\"/></a>"
      ]
    },
    {
      "cell_type": "markdown",
      "metadata": {
        "id": "e5l_awvRQoeI",
        "colab_type": "text"
      },
      "source": [
        "## Real or Not? NLP with Disaster Tweets \n",
        "\n",
        "This is an activity for the subject 7506 - Organización de Datos of the Faculty of Engineering of the University of Buenos Aires. It is based on a [Kaggle](https://www.kaggle.com/c/nlp-getting-started) contest. The goal is to predict which Tweets are about real disasters and which ones are not. In this activity we just have to look for relationships between the length of tweets and the 'target' variable.  \n",
        "\n",
        "Author: **Ignacio Ibarra**\n"
      ]
    },
    {
      "cell_type": "markdown",
      "metadata": {
        "id": "Hu1LQ-GDa6UP",
        "colab_type": "text"
      },
      "source": [
        "## Installing TextBlob library\n"
      ]
    },
    {
      "cell_type": "code",
      "metadata": {
        "id": "jhN3-pHtbDKb",
        "colab_type": "code",
        "outputId": "84fc2c64-6690-43e3-9d9e-4a8e9babe84a",
        "colab": {
          "base_uri": "https://localhost:8080/",
          "height": 68
        }
      },
      "source": [
        "pip install textblob"
      ],
      "execution_count": 1,
      "outputs": [
        {
          "output_type": "stream",
          "text": [
            "Requirement already satisfied: textblob in /usr/local/lib/python3.6/dist-packages (0.15.3)\n",
            "Requirement already satisfied: nltk>=3.1 in /usr/local/lib/python3.6/dist-packages (from textblob) (3.2.5)\n",
            "Requirement already satisfied: six in /usr/local/lib/python3.6/dist-packages (from nltk>=3.1->textblob) (1.12.0)\n"
          ],
          "name": "stdout"
        }
      ]
    },
    {
      "cell_type": "markdown",
      "metadata": {
        "id": "EJa3quy9QAHp",
        "colab_type": "text"
      },
      "source": [
        "## Libraries loading"
      ]
    },
    {
      "cell_type": "code",
      "metadata": {
        "id": "HKp2gbIrSsGZ",
        "colab_type": "code",
        "outputId": "b61f26c6-9830-40e8-973e-e9a597202f14",
        "colab": {
          "base_uri": "https://localhost:8080/",
          "height": 224
        }
      },
      "source": [
        "# Importing mos used libraries\n",
        "import pandas as pd\n",
        "import numpy as np\n",
        "import scipy as sp\n",
        "\n",
        "#NLP libraries\n",
        "import nltk\n",
        "nltk.download('punkt')\n",
        "nltk.download('brown')\n",
        "nltk.download('wordnet')\n",
        "nltk.download('averaged_perceptron_tagger')\n",
        "\n",
        "# Importing visualitazion tools\n",
        "import matplotlib.pyplot as plt\n",
        "import seaborn as sns\n",
        "%matplotlib inline\n",
        "\n",
        "# making visualization prettier in matplotlib\n",
        "plt.style.use('default') \n",
        "#plt.rcParams['figure.figsize'] = (20, 10) \n",
        "\n",
        "sns.set(style=\"whitegrid\") # seaborn grid settings \n",
        "\n",
        "pd.options.display.float_format = '{:20,.2f}'.format # we suppressed the scientific notation in the outputs\n",
        "\n",
        "import warnings\n",
        "warnings.filterwarnings('ignore')"
      ],
      "execution_count": 2,
      "outputs": [
        {
          "output_type": "stream",
          "text": [
            "[nltk_data] Downloading package punkt to /root/nltk_data...\n",
            "[nltk_data]   Unzipping tokenizers/punkt.zip.\n",
            "[nltk_data] Downloading package brown to /root/nltk_data...\n",
            "[nltk_data]   Unzipping corpora/brown.zip.\n",
            "[nltk_data] Downloading package wordnet to /root/nltk_data...\n",
            "[nltk_data]   Unzipping corpora/wordnet.zip.\n",
            "[nltk_data] Downloading package averaged_perceptron_tagger to\n",
            "[nltk_data]     /root/nltk_data...\n",
            "[nltk_data]   Unzipping taggers/averaged_perceptron_tagger.zip.\n"
          ],
          "name": "stdout"
        },
        {
          "output_type": "stream",
          "text": [
            "/usr/local/lib/python3.6/dist-packages/statsmodels/tools/_testing.py:19: FutureWarning: pandas.util.testing is deprecated. Use the functions in the public API at pandas.testing instead.\n",
            "  import pandas.util.testing as tm\n"
          ],
          "name": "stderr"
        }
      ]
    },
    {
      "cell_type": "markdown",
      "metadata": {
        "id": "O_KlbLVYSSgO",
        "colab_type": "text"
      },
      "source": [
        "## From Google Drive via PyDrive"
      ]
    },
    {
      "cell_type": "code",
      "metadata": {
        "id": "ejpd-zjwOBj8",
        "colab_type": "code",
        "colab": {}
      },
      "source": [
        "# Code to read csv file into Colaboratory:\n",
        "!pip install -U -q PyDrive\n",
        "from pydrive.auth import GoogleAuth\n",
        "from pydrive.drive import GoogleDrive\n",
        "from google.colab import auth\n",
        "from oauth2client.client import GoogleCredentials\n",
        "\n",
        "# Authenticate and create the PyDrive client.\n",
        "auth.authenticate_user()\n",
        "gauth = GoogleAuth()\n",
        "gauth.credentials = GoogleCredentials.get_application_default()\n",
        "drive = GoogleDrive(gauth)"
      ],
      "execution_count": 0,
      "outputs": []
    },
    {
      "cell_type": "code",
      "metadata": {
        "id": "JjnuC0W3lgVS",
        "colab_type": "code",
        "outputId": "787e685d-cb1a-4aac-baec-aedc356a65d5",
        "colab": {
          "base_uri": "https://localhost:8080/",
          "height": 34
        }
      },
      "source": [
        "link='https://drive.google.com/open?id=1Wuo42Fju9VOh2m5PV7q95TTUAIkrEwDD'\n",
        "fluff, id = link.split('=')\n",
        "print (id) # Verify that you have everything after '='"
      ],
      "execution_count": 4,
      "outputs": [
        {
          "output_type": "stream",
          "text": [
            "1Wuo42Fju9VOh2m5PV7q95TTUAIkrEwDD\n"
          ],
          "name": "stdout"
        }
      ]
    },
    {
      "cell_type": "code",
      "metadata": {
        "id": "8jZvvLBPmC27",
        "colab_type": "code",
        "colab": {}
      },
      "source": [
        "downloaded = drive.CreateFile({'id':id}) \n",
        "downloaded.GetContentFile('train.csv')  "
      ],
      "execution_count": 0,
      "outputs": []
    },
    {
      "cell_type": "markdown",
      "metadata": {
        "id": "ccKFzQGlSZ5D",
        "colab_type": "text"
      },
      "source": [
        "## Reading '.csv' local file into a DataFrame"
      ]
    },
    {
      "cell_type": "code",
      "metadata": {
        "id": "HCF1pXpELt1n",
        "colab_type": "code",
        "outputId": "1c88f6c5-5dce-4c34-cf48-8cffb3940ea2",
        "colab": {
          "base_uri": "https://localhost:8080/",
          "height": 359
        }
      },
      "source": [
        "#Loading 'train.csv' into DataFrame\n",
        "\n",
        "df=pd.read_csv('train.csv')\n",
        "df.head(10) #Let's have a first view of the DataFrame"
      ],
      "execution_count": 6,
      "outputs": [
        {
          "output_type": "execute_result",
          "data": {
            "text/html": [
              "<div>\n",
              "<style scoped>\n",
              "    .dataframe tbody tr th:only-of-type {\n",
              "        vertical-align: middle;\n",
              "    }\n",
              "\n",
              "    .dataframe tbody tr th {\n",
              "        vertical-align: top;\n",
              "    }\n",
              "\n",
              "    .dataframe thead th {\n",
              "        text-align: right;\n",
              "    }\n",
              "</style>\n",
              "<table border=\"1\" class=\"dataframe\">\n",
              "  <thead>\n",
              "    <tr style=\"text-align: right;\">\n",
              "      <th></th>\n",
              "      <th>id</th>\n",
              "      <th>keyword</th>\n",
              "      <th>location</th>\n",
              "      <th>text</th>\n",
              "      <th>target</th>\n",
              "    </tr>\n",
              "  </thead>\n",
              "  <tbody>\n",
              "    <tr>\n",
              "      <th>0</th>\n",
              "      <td>1</td>\n",
              "      <td>NaN</td>\n",
              "      <td>NaN</td>\n",
              "      <td>Our Deeds are the Reason of this #earthquake M...</td>\n",
              "      <td>1</td>\n",
              "    </tr>\n",
              "    <tr>\n",
              "      <th>1</th>\n",
              "      <td>4</td>\n",
              "      <td>NaN</td>\n",
              "      <td>NaN</td>\n",
              "      <td>Forest fire near La Ronge Sask. Canada</td>\n",
              "      <td>1</td>\n",
              "    </tr>\n",
              "    <tr>\n",
              "      <th>2</th>\n",
              "      <td>5</td>\n",
              "      <td>NaN</td>\n",
              "      <td>NaN</td>\n",
              "      <td>All residents asked to 'shelter in place' are ...</td>\n",
              "      <td>1</td>\n",
              "    </tr>\n",
              "    <tr>\n",
              "      <th>3</th>\n",
              "      <td>6</td>\n",
              "      <td>NaN</td>\n",
              "      <td>NaN</td>\n",
              "      <td>13,000 people receive #wildfires evacuation or...</td>\n",
              "      <td>1</td>\n",
              "    </tr>\n",
              "    <tr>\n",
              "      <th>4</th>\n",
              "      <td>7</td>\n",
              "      <td>NaN</td>\n",
              "      <td>NaN</td>\n",
              "      <td>Just got sent this photo from Ruby #Alaska as ...</td>\n",
              "      <td>1</td>\n",
              "    </tr>\n",
              "    <tr>\n",
              "      <th>5</th>\n",
              "      <td>8</td>\n",
              "      <td>NaN</td>\n",
              "      <td>NaN</td>\n",
              "      <td>#RockyFire Update =&gt; California Hwy. 20 closed...</td>\n",
              "      <td>1</td>\n",
              "    </tr>\n",
              "    <tr>\n",
              "      <th>6</th>\n",
              "      <td>10</td>\n",
              "      <td>NaN</td>\n",
              "      <td>NaN</td>\n",
              "      <td>#flood #disaster Heavy rain causes flash flood...</td>\n",
              "      <td>1</td>\n",
              "    </tr>\n",
              "    <tr>\n",
              "      <th>7</th>\n",
              "      <td>13</td>\n",
              "      <td>NaN</td>\n",
              "      <td>NaN</td>\n",
              "      <td>I'm on top of the hill and I can see a fire in...</td>\n",
              "      <td>1</td>\n",
              "    </tr>\n",
              "    <tr>\n",
              "      <th>8</th>\n",
              "      <td>14</td>\n",
              "      <td>NaN</td>\n",
              "      <td>NaN</td>\n",
              "      <td>There's an emergency evacuation happening now ...</td>\n",
              "      <td>1</td>\n",
              "    </tr>\n",
              "    <tr>\n",
              "      <th>9</th>\n",
              "      <td>15</td>\n",
              "      <td>NaN</td>\n",
              "      <td>NaN</td>\n",
              "      <td>I'm afraid that the tornado is coming to our a...</td>\n",
              "      <td>1</td>\n",
              "    </tr>\n",
              "  </tbody>\n",
              "</table>\n",
              "</div>"
            ],
            "text/plain": [
              "   id keyword  ...                                               text target\n",
              "0   1     NaN  ...  Our Deeds are the Reason of this #earthquake M...      1\n",
              "1   4     NaN  ...             Forest fire near La Ronge Sask. Canada      1\n",
              "2   5     NaN  ...  All residents asked to 'shelter in place' are ...      1\n",
              "3   6     NaN  ...  13,000 people receive #wildfires evacuation or...      1\n",
              "4   7     NaN  ...  Just got sent this photo from Ruby #Alaska as ...      1\n",
              "5   8     NaN  ...  #RockyFire Update => California Hwy. 20 closed...      1\n",
              "6  10     NaN  ...  #flood #disaster Heavy rain causes flash flood...      1\n",
              "7  13     NaN  ...  I'm on top of the hill and I can see a fire in...      1\n",
              "8  14     NaN  ...  There's an emergency evacuation happening now ...      1\n",
              "9  15     NaN  ...  I'm afraid that the tornado is coming to our a...      1\n",
              "\n",
              "[10 rows x 5 columns]"
            ]
          },
          "metadata": {
            "tags": []
          },
          "execution_count": 6
        }
      ]
    },
    {
      "cell_type": "markdown",
      "metadata": {
        "id": "jixjkvSAVOUi",
        "colab_type": "text"
      },
      "source": [
        "# Exploratory Data Analysis\n",
        "\n",
        "\n",
        "The goal of this task is to introduct to the main characteristics of the dataset and its variables"
      ]
    },
    {
      "cell_type": "markdown",
      "metadata": {
        "id": "XFKceNBd4zVp",
        "colab_type": "text"
      },
      "source": [
        "## Basic statistics"
      ]
    },
    {
      "cell_type": "code",
      "metadata": {
        "id": "8BKjes-RVOjV",
        "colab_type": "code",
        "outputId": "c3b3d267-da0e-4c19-a801-8e8587e13c3e",
        "colab": {
          "base_uri": "https://localhost:8080/",
          "height": 51
        }
      },
      "source": [
        "#Counting rows, columns, values\n",
        "print('the shape is: ',df.shape)\n",
        "print('the size is: ', df.size)"
      ],
      "execution_count": 7,
      "outputs": [
        {
          "output_type": "stream",
          "text": [
            "the shape is:  (7613, 5)\n",
            "the size is:  38065\n"
          ],
          "name": "stdout"
        }
      ]
    },
    {
      "cell_type": "code",
      "metadata": {
        "id": "kYW_0LJaVOqT",
        "colab_type": "code",
        "outputId": "f8d6dca8-a76b-4ac2-f587-80c89deb4ecb",
        "colab": {
          "base_uri": "https://localhost:8080/",
          "height": 221
        }
      },
      "source": [
        "#Get info of each column\n",
        "df.info()"
      ],
      "execution_count": 8,
      "outputs": [
        {
          "output_type": "stream",
          "text": [
            "<class 'pandas.core.frame.DataFrame'>\n",
            "RangeIndex: 7613 entries, 0 to 7612\n",
            "Data columns (total 5 columns):\n",
            " #   Column    Non-Null Count  Dtype \n",
            "---  ------    --------------  ----- \n",
            " 0   id        7613 non-null   int64 \n",
            " 1   keyword   7552 non-null   object\n",
            " 2   location  5080 non-null   object\n",
            " 3   text      7613 non-null   object\n",
            " 4   target    7613 non-null   int64 \n",
            "dtypes: int64(2), object(3)\n",
            "memory usage: 297.5+ KB\n"
          ],
          "name": "stdout"
        }
      ]
    },
    {
      "cell_type": "code",
      "metadata": {
        "id": "XCKj9WIHVOvh",
        "colab_type": "code",
        "outputId": "43733fea-952f-492c-8f32-25e07181b07f",
        "colab": {
          "base_uri": "https://localhost:8080/",
          "height": 119
        }
      },
      "source": [
        "#Is there any null value per column?\n",
        "df.isnull().any()"
      ],
      "execution_count": 9,
      "outputs": [
        {
          "output_type": "execute_result",
          "data": {
            "text/plain": [
              "id          False\n",
              "keyword      True\n",
              "location     True\n",
              "text        False\n",
              "target      False\n",
              "dtype: bool"
            ]
          },
          "metadata": {
            "tags": []
          },
          "execution_count": 9
        }
      ]
    },
    {
      "cell_type": "code",
      "metadata": {
        "id": "ECZpTLySVO0P",
        "colab_type": "code",
        "outputId": "5c35b85a-be45-4555-d6e1-d198bc59f331",
        "colab": {
          "base_uri": "https://localhost:8080/",
          "height": 119
        }
      },
      "source": [
        "#How many nulls per column? \n",
        "df.isnull().mean()*(df['id'].count()) #We know that the 'id' column has no nulls"
      ],
      "execution_count": 10,
      "outputs": [
        {
          "output_type": "execute_result",
          "data": {
            "text/plain": [
              "id                         0.00\n",
              "keyword                   61.00\n",
              "location               2,533.00\n",
              "text                       0.00\n",
              "target                     0.00\n",
              "dtype: float64"
            ]
          },
          "metadata": {
            "tags": []
          },
          "execution_count": 10
        }
      ]
    },
    {
      "cell_type": "markdown",
      "metadata": {
        "id": "gJIJuoFZVO45",
        "colab_type": "text"
      },
      "source": [
        "The 'location' column has null values ​​in 33% (2,533) of its rows, we may have to leave it out of the analysis. On the other hand, the 'keyword' column has 0.8% (61) null values"
      ]
    },
    {
      "cell_type": "markdown",
      "metadata": {
        "id": "FGOihBbs7Ytu",
        "colab_type": "text"
      },
      "source": [
        "## Filling the null values of 'keyword' and 'location' column"
      ]
    },
    {
      "cell_type": "code",
      "metadata": {
        "id": "ifGudVsO89CK",
        "colab_type": "code",
        "outputId": "91c14f0b-5618-477c-d37b-8efb5fe1f870",
        "colab": {
          "base_uri": "https://localhost:8080/",
          "height": 419
        }
      },
      "source": [
        "#Getting the rows with nulls in keyword column\n",
        "df[df['keyword'].isnull()]"
      ],
      "execution_count": 11,
      "outputs": [
        {
          "output_type": "execute_result",
          "data": {
            "text/html": [
              "<div>\n",
              "<style scoped>\n",
              "    .dataframe tbody tr th:only-of-type {\n",
              "        vertical-align: middle;\n",
              "    }\n",
              "\n",
              "    .dataframe tbody tr th {\n",
              "        vertical-align: top;\n",
              "    }\n",
              "\n",
              "    .dataframe thead th {\n",
              "        text-align: right;\n",
              "    }\n",
              "</style>\n",
              "<table border=\"1\" class=\"dataframe\">\n",
              "  <thead>\n",
              "    <tr style=\"text-align: right;\">\n",
              "      <th></th>\n",
              "      <th>id</th>\n",
              "      <th>keyword</th>\n",
              "      <th>location</th>\n",
              "      <th>text</th>\n",
              "      <th>target</th>\n",
              "    </tr>\n",
              "  </thead>\n",
              "  <tbody>\n",
              "    <tr>\n",
              "      <th>0</th>\n",
              "      <td>1</td>\n",
              "      <td>NaN</td>\n",
              "      <td>NaN</td>\n",
              "      <td>Our Deeds are the Reason of this #earthquake M...</td>\n",
              "      <td>1</td>\n",
              "    </tr>\n",
              "    <tr>\n",
              "      <th>1</th>\n",
              "      <td>4</td>\n",
              "      <td>NaN</td>\n",
              "      <td>NaN</td>\n",
              "      <td>Forest fire near La Ronge Sask. Canada</td>\n",
              "      <td>1</td>\n",
              "    </tr>\n",
              "    <tr>\n",
              "      <th>2</th>\n",
              "      <td>5</td>\n",
              "      <td>NaN</td>\n",
              "      <td>NaN</td>\n",
              "      <td>All residents asked to 'shelter in place' are ...</td>\n",
              "      <td>1</td>\n",
              "    </tr>\n",
              "    <tr>\n",
              "      <th>3</th>\n",
              "      <td>6</td>\n",
              "      <td>NaN</td>\n",
              "      <td>NaN</td>\n",
              "      <td>13,000 people receive #wildfires evacuation or...</td>\n",
              "      <td>1</td>\n",
              "    </tr>\n",
              "    <tr>\n",
              "      <th>4</th>\n",
              "      <td>7</td>\n",
              "      <td>NaN</td>\n",
              "      <td>NaN</td>\n",
              "      <td>Just got sent this photo from Ruby #Alaska as ...</td>\n",
              "      <td>1</td>\n",
              "    </tr>\n",
              "    <tr>\n",
              "      <th>...</th>\n",
              "      <td>...</td>\n",
              "      <td>...</td>\n",
              "      <td>...</td>\n",
              "      <td>...</td>\n",
              "      <td>...</td>\n",
              "    </tr>\n",
              "    <tr>\n",
              "      <th>7608</th>\n",
              "      <td>10869</td>\n",
              "      <td>NaN</td>\n",
              "      <td>NaN</td>\n",
              "      <td>Two giant cranes holding a bridge collapse int...</td>\n",
              "      <td>1</td>\n",
              "    </tr>\n",
              "    <tr>\n",
              "      <th>7609</th>\n",
              "      <td>10870</td>\n",
              "      <td>NaN</td>\n",
              "      <td>NaN</td>\n",
              "      <td>@aria_ahrary @TheTawniest The out of control w...</td>\n",
              "      <td>1</td>\n",
              "    </tr>\n",
              "    <tr>\n",
              "      <th>7610</th>\n",
              "      <td>10871</td>\n",
              "      <td>NaN</td>\n",
              "      <td>NaN</td>\n",
              "      <td>M1.94 [01:04 UTC]?5km S of Volcano Hawaii. htt...</td>\n",
              "      <td>1</td>\n",
              "    </tr>\n",
              "    <tr>\n",
              "      <th>7611</th>\n",
              "      <td>10872</td>\n",
              "      <td>NaN</td>\n",
              "      <td>NaN</td>\n",
              "      <td>Police investigating after an e-bike collided ...</td>\n",
              "      <td>1</td>\n",
              "    </tr>\n",
              "    <tr>\n",
              "      <th>7612</th>\n",
              "      <td>10873</td>\n",
              "      <td>NaN</td>\n",
              "      <td>NaN</td>\n",
              "      <td>The Latest: More Homes Razed by Northern Calif...</td>\n",
              "      <td>1</td>\n",
              "    </tr>\n",
              "  </tbody>\n",
              "</table>\n",
              "<p>61 rows × 5 columns</p>\n",
              "</div>"
            ],
            "text/plain": [
              "         id keyword  ...                                               text target\n",
              "0         1     NaN  ...  Our Deeds are the Reason of this #earthquake M...      1\n",
              "1         4     NaN  ...             Forest fire near La Ronge Sask. Canada      1\n",
              "2         5     NaN  ...  All residents asked to 'shelter in place' are ...      1\n",
              "3         6     NaN  ...  13,000 people receive #wildfires evacuation or...      1\n",
              "4         7     NaN  ...  Just got sent this photo from Ruby #Alaska as ...      1\n",
              "...     ...     ...  ...                                                ...    ...\n",
              "7608  10869     NaN  ...  Two giant cranes holding a bridge collapse int...      1\n",
              "7609  10870     NaN  ...  @aria_ahrary @TheTawniest The out of control w...      1\n",
              "7610  10871     NaN  ...  M1.94 [01:04 UTC]?5km S of Volcano Hawaii. htt...      1\n",
              "7611  10872     NaN  ...  Police investigating after an e-bike collided ...      1\n",
              "7612  10873     NaN  ...  The Latest: More Homes Razed by Northern Calif...      1\n",
              "\n",
              "[61 rows x 5 columns]"
            ]
          },
          "metadata": {
            "tags": []
          },
          "execution_count": 11
        }
      ]
    },
    {
      "cell_type": "code",
      "metadata": {
        "id": "kDigR2wN9UlX",
        "colab_type": "code",
        "outputId": "e279d394-135d-4ab5-832c-4046d43c2b97",
        "colab": {
          "base_uri": "https://localhost:8080/",
          "height": 419
        }
      },
      "source": [
        "#Getting the rows with nulls in location column\n",
        "df[df['location'].isnull()]"
      ],
      "execution_count": 12,
      "outputs": [
        {
          "output_type": "execute_result",
          "data": {
            "text/html": [
              "<div>\n",
              "<style scoped>\n",
              "    .dataframe tbody tr th:only-of-type {\n",
              "        vertical-align: middle;\n",
              "    }\n",
              "\n",
              "    .dataframe tbody tr th {\n",
              "        vertical-align: top;\n",
              "    }\n",
              "\n",
              "    .dataframe thead th {\n",
              "        text-align: right;\n",
              "    }\n",
              "</style>\n",
              "<table border=\"1\" class=\"dataframe\">\n",
              "  <thead>\n",
              "    <tr style=\"text-align: right;\">\n",
              "      <th></th>\n",
              "      <th>id</th>\n",
              "      <th>keyword</th>\n",
              "      <th>location</th>\n",
              "      <th>text</th>\n",
              "      <th>target</th>\n",
              "    </tr>\n",
              "  </thead>\n",
              "  <tbody>\n",
              "    <tr>\n",
              "      <th>0</th>\n",
              "      <td>1</td>\n",
              "      <td>NaN</td>\n",
              "      <td>NaN</td>\n",
              "      <td>Our Deeds are the Reason of this #earthquake M...</td>\n",
              "      <td>1</td>\n",
              "    </tr>\n",
              "    <tr>\n",
              "      <th>1</th>\n",
              "      <td>4</td>\n",
              "      <td>NaN</td>\n",
              "      <td>NaN</td>\n",
              "      <td>Forest fire near La Ronge Sask. Canada</td>\n",
              "      <td>1</td>\n",
              "    </tr>\n",
              "    <tr>\n",
              "      <th>2</th>\n",
              "      <td>5</td>\n",
              "      <td>NaN</td>\n",
              "      <td>NaN</td>\n",
              "      <td>All residents asked to 'shelter in place' are ...</td>\n",
              "      <td>1</td>\n",
              "    </tr>\n",
              "    <tr>\n",
              "      <th>3</th>\n",
              "      <td>6</td>\n",
              "      <td>NaN</td>\n",
              "      <td>NaN</td>\n",
              "      <td>13,000 people receive #wildfires evacuation or...</td>\n",
              "      <td>1</td>\n",
              "    </tr>\n",
              "    <tr>\n",
              "      <th>4</th>\n",
              "      <td>7</td>\n",
              "      <td>NaN</td>\n",
              "      <td>NaN</td>\n",
              "      <td>Just got sent this photo from Ruby #Alaska as ...</td>\n",
              "      <td>1</td>\n",
              "    </tr>\n",
              "    <tr>\n",
              "      <th>...</th>\n",
              "      <td>...</td>\n",
              "      <td>...</td>\n",
              "      <td>...</td>\n",
              "      <td>...</td>\n",
              "      <td>...</td>\n",
              "    </tr>\n",
              "    <tr>\n",
              "      <th>7608</th>\n",
              "      <td>10869</td>\n",
              "      <td>NaN</td>\n",
              "      <td>NaN</td>\n",
              "      <td>Two giant cranes holding a bridge collapse int...</td>\n",
              "      <td>1</td>\n",
              "    </tr>\n",
              "    <tr>\n",
              "      <th>7609</th>\n",
              "      <td>10870</td>\n",
              "      <td>NaN</td>\n",
              "      <td>NaN</td>\n",
              "      <td>@aria_ahrary @TheTawniest The out of control w...</td>\n",
              "      <td>1</td>\n",
              "    </tr>\n",
              "    <tr>\n",
              "      <th>7610</th>\n",
              "      <td>10871</td>\n",
              "      <td>NaN</td>\n",
              "      <td>NaN</td>\n",
              "      <td>M1.94 [01:04 UTC]?5km S of Volcano Hawaii. htt...</td>\n",
              "      <td>1</td>\n",
              "    </tr>\n",
              "    <tr>\n",
              "      <th>7611</th>\n",
              "      <td>10872</td>\n",
              "      <td>NaN</td>\n",
              "      <td>NaN</td>\n",
              "      <td>Police investigating after an e-bike collided ...</td>\n",
              "      <td>1</td>\n",
              "    </tr>\n",
              "    <tr>\n",
              "      <th>7612</th>\n",
              "      <td>10873</td>\n",
              "      <td>NaN</td>\n",
              "      <td>NaN</td>\n",
              "      <td>The Latest: More Homes Razed by Northern Calif...</td>\n",
              "      <td>1</td>\n",
              "    </tr>\n",
              "  </tbody>\n",
              "</table>\n",
              "<p>2533 rows × 5 columns</p>\n",
              "</div>"
            ],
            "text/plain": [
              "         id keyword  ...                                               text target\n",
              "0         1     NaN  ...  Our Deeds are the Reason of this #earthquake M...      1\n",
              "1         4     NaN  ...             Forest fire near La Ronge Sask. Canada      1\n",
              "2         5     NaN  ...  All residents asked to 'shelter in place' are ...      1\n",
              "3         6     NaN  ...  13,000 people receive #wildfires evacuation or...      1\n",
              "4         7     NaN  ...  Just got sent this photo from Ruby #Alaska as ...      1\n",
              "...     ...     ...  ...                                                ...    ...\n",
              "7608  10869     NaN  ...  Two giant cranes holding a bridge collapse int...      1\n",
              "7609  10870     NaN  ...  @aria_ahrary @TheTawniest The out of control w...      1\n",
              "7610  10871     NaN  ...  M1.94 [01:04 UTC]?5km S of Volcano Hawaii. htt...      1\n",
              "7611  10872     NaN  ...  Police investigating after an e-bike collided ...      1\n",
              "7612  10873     NaN  ...  The Latest: More Homes Razed by Northern Calif...      1\n",
              "\n",
              "[2533 rows x 5 columns]"
            ]
          },
          "metadata": {
            "tags": []
          },
          "execution_count": 12
        }
      ]
    },
    {
      "cell_type": "code",
      "metadata": {
        "id": "rWOt9Cvo7f0B",
        "colab_type": "code",
        "colab": {}
      },
      "source": [
        "#Filling the nulls values of both columns \n",
        "values = {'keyword': 'no_keyword', 'location': 'no_location'}\n",
        "df.fillna(value=values, inplace=True)"
      ],
      "execution_count": 0,
      "outputs": []
    },
    {
      "cell_type": "code",
      "metadata": {
        "id": "HLlifq9l8ESV",
        "colab_type": "code",
        "outputId": "91fe2bec-e7d2-4d79-856d-def42aeec3ba",
        "colab": {
          "base_uri": "https://localhost:8080/",
          "height": 119
        }
      },
      "source": [
        "#No columns with null values. \n",
        "df.isnull().any()"
      ],
      "execution_count": 14,
      "outputs": [
        {
          "output_type": "execute_result",
          "data": {
            "text/plain": [
              "id          False\n",
              "keyword     False\n",
              "location    False\n",
              "text        False\n",
              "target      False\n",
              "dtype: bool"
            ]
          },
          "metadata": {
            "tags": []
          },
          "execution_count": 14
        }
      ]
    },
    {
      "cell_type": "markdown",
      "metadata": {
        "id": "SZu_tgw7u4k4",
        "colab_type": "text"
      },
      "source": [
        "## Looking at 'keyword'"
      ]
    },
    {
      "cell_type": "code",
      "metadata": {
        "id": "WtoQH4z3cquj",
        "colab_type": "code",
        "outputId": "e3d26ab2-eff0-4766-ffb2-b2f578f53372",
        "colab": {
          "base_uri": "https://localhost:8080/",
          "height": 34
        }
      },
      "source": [
        "#Inspecting the 'keyword' column. \n",
        "keyword=df['keyword']\n",
        "print(round(100.00*len(keyword.unique())/(len(keyword)),2),'% of the rows present unique values')"
      ],
      "execution_count": 15,
      "outputs": [
        {
          "output_type": "stream",
          "text": [
            "2.92 % of the rows present unique values\n"
          ],
          "name": "stdout"
        }
      ]
    },
    {
      "cell_type": "code",
      "metadata": {
        "id": "p8DgrCRxcrWf",
        "colab_type": "code",
        "outputId": "3ec16e86-77b3-42fd-ece4-a2f9e5b87e17",
        "colab": {
          "base_uri": "https://localhost:8080/",
          "height": 119
        }
      },
      "source": [
        "#Frecuency for each keyword. \n",
        "frequency_keywords=keyword.value_counts() \n",
        "frequency_keywords.head()"
      ],
      "execution_count": 16,
      "outputs": [
        {
          "output_type": "execute_result",
          "data": {
            "text/plain": [
              "no_keyword    61\n",
              "fatalities    45\n",
              "deluge        42\n",
              "armageddon    42\n",
              "harm          41\n",
              "Name: keyword, dtype: int64"
            ]
          },
          "metadata": {
            "tags": []
          },
          "execution_count": 16
        }
      ]
    },
    {
      "cell_type": "code",
      "metadata": {
        "id": "tDMWTvhgAkZu",
        "colab_type": "code",
        "outputId": "6520ea9c-7d9f-4dad-adee-0941ff026e3a",
        "colab": {
          "base_uri": "https://localhost:8080/",
          "height": 255
        }
      },
      "source": [
        "#This strikes me a lot. \n",
        "frequency_keywords.values"
      ],
      "execution_count": 17,
      "outputs": [
        {
          "output_type": "execute_result",
          "data": {
            "text/plain": [
              "array([61, 45, 42, 42, 41, 41, 41, 41, 40, 40, 40, 40, 40, 40, 40, 39, 39,\n",
              "       39, 39, 39, 39, 39, 39, 39, 39, 39, 39, 39, 39, 38, 38, 38, 38, 38,\n",
              "       38, 38, 38, 38, 38, 38, 38, 38, 38, 38, 38, 37, 37, 37, 37, 37, 37,\n",
              "       37, 37, 37, 37, 37, 37, 37, 37, 37, 37, 37, 37, 37, 36, 36, 36, 36,\n",
              "       36, 36, 36, 36, 36, 36, 36, 36, 36, 36, 36, 36, 36, 36, 36, 36, 35,\n",
              "       35, 35, 35, 35, 35, 35, 35, 35, 35, 35, 35, 35, 35, 35, 35, 35, 35,\n",
              "       35, 35, 35, 35, 35, 35, 35, 35, 35, 35, 35, 35, 35, 34, 34, 34, 34,\n",
              "       34, 34, 34, 34, 34, 34, 34, 34, 34, 34, 34, 34, 34, 34, 34, 34, 34,\n",
              "       34, 34, 34, 34, 34, 34, 34, 34, 34, 33, 33, 33, 33, 33, 33, 33, 33,\n",
              "       33, 33, 33, 33, 33, 33, 33, 33, 33, 33, 33, 33, 33, 33, 33, 33, 33,\n",
              "       33, 32, 32, 32, 32, 32, 32, 32, 32, 32, 32, 32, 32, 32, 32, 32, 31,\n",
              "       31, 31, 31, 31, 31, 31, 31, 31, 30, 30, 30, 30, 30, 30, 29, 29, 29,\n",
              "       29, 29, 29, 29, 29, 28, 28, 27, 27, 26, 25, 24, 22, 19, 12, 11, 10,\n",
              "        9])"
            ]
          },
          "metadata": {
            "tags": []
          },
          "execution_count": 17
        }
      ]
    },
    {
      "cell_type": "code",
      "metadata": {
        "id": "r9zJR2f1vc-h",
        "colab_type": "code",
        "outputId": "f5b1b215-ac0d-4a50-80f2-8e5803c5db34",
        "colab": {
          "base_uri": "https://localhost:8080/",
          "height": 451
        }
      },
      "source": [
        "#Frecuency of frecuencies\n",
        "freq_freq_keywords=pd.Series(frequency_keywords.values)\n",
        "freq_freq_keywords.plot.hist(bins=20)"
      ],
      "execution_count": 18,
      "outputs": [
        {
          "output_type": "execute_result",
          "data": {
            "text/plain": [
              "<matplotlib.axes._subplots.AxesSubplot at 0x7f463b1e1748>"
            ]
          },
          "metadata": {
            "tags": []
          },
          "execution_count": 18
        },
        {
          "output_type": "display_data",
          "data": {
            "image/png": "[encoded data removed]",
            "text/plain": [
              "<Figure size 640x480 with 1 Axes>"
            ]
          },
          "metadata": {
            "tags": []
          }
        }
      ]
    },
    {
      "cell_type": "code",
      "metadata": {
        "id": "FRQ7UBUOxCqf",
        "colab_type": "code",
        "outputId": "24469ffd-8124-4ea1-9ab1-41ce7f49bfd8",
        "colab": {
          "base_uri": "https://localhost:8080/",
          "height": 170
        }
      },
      "source": [
        "#Some stats \n",
        "freq_freq_keywords.describe()"
      ],
      "execution_count": 19,
      "outputs": [
        {
          "output_type": "execute_result",
          "data": {
            "text/plain": [
              "count                 222.00\n",
              "mean                   34.29\n",
              "std                     5.10\n",
              "min                     9.00\n",
              "25%                    33.00\n",
              "50%                    35.00\n",
              "75%                    37.00\n",
              "max                    61.00\n",
              "dtype: float64"
            ]
          },
          "metadata": {
            "tags": []
          },
          "execution_count": 19
        }
      ]
    },
    {
      "cell_type": "code",
      "metadata": {
        "id": "3ED5jNGocriB",
        "colab_type": "code",
        "outputId": "560a0642-4eb4-4a61-aa9e-322ce4222564",
        "colab": {
          "base_uri": "https://localhost:8080/",
          "height": 1000
        }
      },
      "source": [
        "# Plotting keywords values counts up 35 repetitions. \n",
        "frequency_keywords[frequency_keywords>35].sort_values(ascending=True).plot(kind='barh', figsize=(10,40))"
      ],
      "execution_count": 20,
      "outputs": [
        {
          "output_type": "execute_result",
          "data": {
            "text/plain": [
              "<matplotlib.axes._subplots.AxesSubplot at 0x7f463c45ecc0>"
            ]
          },
          "metadata": {
            "tags": []
          },
          "execution_count": 20
        },
        {
          "output_type": "display_data",
          "data": {
            "image/png": "[encoded data removed]",
            "text/plain": [
              "<Figure size 1000x4000 with 1 Axes>"
            ]
          },
          "metadata": {
            "tags": []
          }
        }
      ]
    },
    {
      "cell_type": "code",
      "metadata": {
        "id": "L2OJp4TOFzDg",
        "colab_type": "code",
        "outputId": "14d1255a-15ff-40a1-ce69-19ff49732283",
        "colab": {
          "base_uri": "https://localhost:8080/",
          "height": 289
        }
      },
      "source": [
        "most_freq_keywords=frequency_keywords[frequency_keywords>35].index\n",
        "most_freq_keywords"
      ],
      "execution_count": 21,
      "outputs": [
        {
          "output_type": "execute_result",
          "data": {
            "text/plain": [
              "Index(['no_keyword', 'fatalities', 'deluge', 'armageddon', 'harm',\n",
              "       'body%20bags', 'sinking', 'damage', 'fear', 'evacuate', 'siren',\n",
              "       'twister', 'collided', 'windstorm', 'outbreak', 'flames', 'wreckage',\n",
              "       'hellfire', 'earthquake', 'weapon', 'weapons', 'sunk', 'sinkhole',\n",
              "       'explosion', 'famine', 'collision', 'wrecked', 'whirlwind',\n",
              "       'derailment', 'bombed', 'fatal', 'blaze', 'ambulance', 'fire', 'deaths',\n",
              "       'typhoon', 'explode', 'oil%20spill', 'upheaval', 'drowned', 'thunder',\n",
              "       'injury', 'derailed', 'flooding', 'hurricane', 'fatality', 'emergency',\n",
              "       'blizzard', 'sandstorm', 'quarantined', 'wreck', 'destroy', 'ruin',\n",
              "       'crush', 'mudslide', 'debris', 'curfew', 'wounded', 'pandemonium',\n",
              "       'hostages', 'burning%20buildings', 'panic', 'bioterror', 'police',\n",
              "       'displaced', 'dust%20storm', 'devastation', 'nuclear%20reactor',\n",
              "       'danger', 'massacre', 'catastrophe', 'evacuation', 'engulfed',\n",
              "       'refugees', 'ablaze', 'cliff%20fall', 'detonate', 'screaming',\n",
              "       'tragedy', 'floods', 'death', 'desolation', 'attack', 'evacuated'],\n",
              "      dtype='object')"
            ]
          },
          "metadata": {
            "tags": []
          },
          "execution_count": 21
        }
      ]
    },
    {
      "cell_type": "code",
      "metadata": {
        "id": "GRvJZaUM-i5j",
        "colab_type": "code",
        "outputId": "4e75812c-f0ef-4a00-b99e-b02696ce9fa1",
        "colab": {
          "base_uri": "https://localhost:8080/",
          "height": 68
        }
      },
      "source": [
        "keyword_target_df=df[['keyword','target']]\n",
        "keyword_target_df.count()"
      ],
      "execution_count": 22,
      "outputs": [
        {
          "output_type": "execute_result",
          "data": {
            "text/plain": [
              "keyword    7613\n",
              "target     7613\n",
              "dtype: int64"
            ]
          },
          "metadata": {
            "tags": []
          },
          "execution_count": 22
        }
      ]
    },
    {
      "cell_type": "code",
      "metadata": {
        "id": "YggHnxTMGK4I",
        "colab_type": "code",
        "outputId": "69b15846-fa3b-4a32-d0e6-779f3f36a465",
        "colab": {
          "base_uri": "https://localhost:8080/",
          "height": 68
        }
      },
      "source": [
        "keyword_target_most_freq=keyword_target_df[keyword_target_df.loc[:,'keyword'].isin(most_freq_keywords)]\n",
        "keyword_target_most_freq.count()"
      ],
      "execution_count": 23,
      "outputs": [
        {
          "output_type": "execute_result",
          "data": {
            "text/plain": [
              "keyword    3211\n",
              "target     3211\n",
              "dtype: int64"
            ]
          },
          "metadata": {
            "tags": []
          },
          "execution_count": 23
        }
      ]
    },
    {
      "cell_type": "code",
      "metadata": {
        "id": "iC-OJhs93ODT",
        "colab_type": "code",
        "outputId": "59557693-4ec2-41a4-cdcd-f061d7755e9b",
        "colab": {
          "base_uri": "https://localhost:8080/",
          "height": 1000
        }
      },
      "source": [
        "#Plotting Crosstab with the keywords that has a frequency more than 35. \n",
        "pd.crosstab(keyword_target_most_freq.keyword, keyword_target_most_freq.target).plot.barh(stacked=True, figsize=(10,30))"
      ],
      "execution_count": 24,
      "outputs": [
        {
          "output_type": "execute_result",
          "data": {
            "text/plain": [
              "<matplotlib.axes._subplots.AxesSubplot at 0x7f463aa596d8>"
            ]
          },
          "metadata": {
            "tags": []
          },
          "execution_count": 24
        },
        {
          "output_type": "display_data",
          "data": {
            "image/png": "[encoded data removed]",
            "text/plain": [
              "<Figure size 1000x3000 with 1 Axes>"
            ]
          },
          "metadata": {
            "tags": []
          }
        }
      ]
    },
    {
      "cell_type": "code",
      "metadata": {
        "id": "fZiZQ8hDgiB_",
        "colab_type": "code",
        "outputId": "6e947ff9-d342-4de9-9d1d-148111ddaa08",
        "colab": {
          "base_uri": "https://localhost:8080/",
          "height": 272
        }
      },
      "source": [
        "print('Top keywords in disaster tweets:')\n",
        "print(df[df['target'] == 1]['keyword'].value_counts().head(), '\\n')\n",
        "print('Top keywords in non-disaster tweets:')\n",
        "print(df[df['target'] == 0]['keyword'].value_counts().head())"
      ],
      "execution_count": 25,
      "outputs": [
        {
          "output_type": "stream",
          "text": [
            "Top keywords in disaster tweets:\n",
            "no_keyword    42\n",
            "derailment    39\n",
            "wreckage      39\n",
            "outbreak      39\n",
            "typhoon       37\n",
            "Name: keyword, dtype: int64 \n",
            "\n",
            "Top keywords in non-disaster tweets:\n",
            "body%20bags    40\n",
            "armageddon     37\n",
            "harm           37\n",
            "deluge         36\n",
            "wrecked        36\n",
            "Name: keyword, dtype: int64\n"
          ],
          "name": "stdout"
        }
      ]
    },
    {
      "cell_type": "code",
      "metadata": {
        "id": "LT284s413N-x",
        "colab_type": "code",
        "colab": {}
      },
      "source": [
        "keyword_target_crosstab=pd.crosstab(df.keyword, df.target)"
      ],
      "execution_count": 0,
      "outputs": []
    },
    {
      "cell_type": "code",
      "metadata": {
        "id": "A3gHdshN3N7L",
        "colab_type": "code",
        "colab": {}
      },
      "source": [
        "level0=keyword_target_crosstab.columns.get_level_values(0)"
      ],
      "execution_count": 0,
      "outputs": []
    },
    {
      "cell_type": "code",
      "metadata": {
        "id": "zMpkF_JA3N4B",
        "colab_type": "code",
        "outputId": "fd163a7f-7772-4e47-c5d4-459866227365",
        "colab": {
          "base_uri": "https://localhost:8080/",
          "height": 419
        }
      },
      "source": [
        "keyword_target_noindex=keyword_target_crosstab.reset_index()\n",
        "keyword_target_noindex.columns=['keyword','target_0','target_1']\n",
        "keyword_target_noindex.sort_values(by=['target_1'],ascending=False)"
      ],
      "execution_count": 28,
      "outputs": [
        {
          "output_type": "execute_result",
          "data": {
            "text/html": [
              "<div>\n",
              "<style scoped>\n",
              "    .dataframe tbody tr th:only-of-type {\n",
              "        vertical-align: middle;\n",
              "    }\n",
              "\n",
              "    .dataframe tbody tr th {\n",
              "        vertical-align: top;\n",
              "    }\n",
              "\n",
              "    .dataframe thead th {\n",
              "        text-align: right;\n",
              "    }\n",
              "</style>\n",
              "<table border=\"1\" class=\"dataframe\">\n",
              "  <thead>\n",
              "    <tr style=\"text-align: right;\">\n",
              "      <th></th>\n",
              "      <th>keyword</th>\n",
              "      <th>target_0</th>\n",
              "      <th>target_1</th>\n",
              "    </tr>\n",
              "  </thead>\n",
              "  <tbody>\n",
              "    <tr>\n",
              "      <th>147</th>\n",
              "      <td>no_keyword</td>\n",
              "      <td>19</td>\n",
              "      <td>42</td>\n",
              "    </tr>\n",
              "    <tr>\n",
              "      <th>154</th>\n",
              "      <td>outbreak</td>\n",
              "      <td>1</td>\n",
              "      <td>39</td>\n",
              "    </tr>\n",
              "    <tr>\n",
              "      <th>70</th>\n",
              "      <td>derailment</td>\n",
              "      <td>0</td>\n",
              "      <td>39</td>\n",
              "    </tr>\n",
              "    <tr>\n",
              "      <th>220</th>\n",
              "      <td>wreckage</td>\n",
              "      <td>0</td>\n",
              "      <td>39</td>\n",
              "    </tr>\n",
              "    <tr>\n",
              "      <th>206</th>\n",
              "      <td>typhoon</td>\n",
              "      <td>1</td>\n",
              "      <td>37</td>\n",
              "    </tr>\n",
              "    <tr>\n",
              "      <th>...</th>\n",
              "      <td>...</td>\n",
              "      <td>...</td>\n",
              "      <td>...</td>\n",
              "    </tr>\n",
              "    <tr>\n",
              "      <th>27</th>\n",
              "      <td>body%20bag</td>\n",
              "      <td>32</td>\n",
              "      <td>1</td>\n",
              "    </tr>\n",
              "    <tr>\n",
              "      <th>88</th>\n",
              "      <td>electrocute</td>\n",
              "      <td>31</td>\n",
              "      <td>1</td>\n",
              "    </tr>\n",
              "    <tr>\n",
              "      <th>29</th>\n",
              "      <td>body%20bags</td>\n",
              "      <td>40</td>\n",
              "      <td>1</td>\n",
              "    </tr>\n",
              "    <tr>\n",
              "      <th>171</th>\n",
              "      <td>ruin</td>\n",
              "      <td>36</td>\n",
              "      <td>1</td>\n",
              "    </tr>\n",
              "    <tr>\n",
              "      <th>2</th>\n",
              "      <td>aftershock</td>\n",
              "      <td>34</td>\n",
              "      <td>0</td>\n",
              "    </tr>\n",
              "  </tbody>\n",
              "</table>\n",
              "<p>222 rows × 3 columns</p>\n",
              "</div>"
            ],
            "text/plain": [
              "         keyword  target_0  target_1\n",
              "147   no_keyword        19        42\n",
              "154     outbreak         1        39\n",
              "70    derailment         0        39\n",
              "220     wreckage         0        39\n",
              "206      typhoon         1        37\n",
              "..           ...       ...       ...\n",
              "27    body%20bag        32         1\n",
              "88   electrocute        31         1\n",
              "29   body%20bags        40         1\n",
              "171         ruin        36         1\n",
              "2     aftershock        34         0\n",
              "\n",
              "[222 rows x 3 columns]"
            ]
          },
          "metadata": {
            "tags": []
          },
          "execution_count": 28
        }
      ]
    },
    {
      "cell_type": "code",
      "metadata": {
        "id": "3UgjQPaa3N0T",
        "colab_type": "code",
        "colab": {}
      },
      "source": [
        "keyword_target_noindex['percentage']=100*(keyword_target_noindex['target_1'])/((keyword_target_noindex['target_1'])+(keyword_target_noindex['target_0']))"
      ],
      "execution_count": 0,
      "outputs": []
    },
    {
      "cell_type": "code",
      "metadata": {
        "id": "ccW9fATf3Nqb",
        "colab_type": "code",
        "colab": {}
      },
      "source": [
        "keyword_target_noindex['count']=(keyword_target_noindex['target_1'])+(keyword_target_noindex['target_0'])"
      ],
      "execution_count": 0,
      "outputs": []
    },
    {
      "cell_type": "code",
      "metadata": {
        "id": "2iW5YM9A3Nm2",
        "colab_type": "code",
        "outputId": "abb58937-8d51-44d9-b15d-c28f0db42d1c",
        "colab": {
          "base_uri": "https://localhost:8080/",
          "height": 669
        }
      },
      "source": [
        "keyword_target_noindex.sort_values(by=['percentage'],ascending=False).head(20)"
      ],
      "execution_count": 31,
      "outputs": [
        {
          "output_type": "execute_result",
          "data": {
            "text/html": [
              "<div>\n",
              "<style scoped>\n",
              "    .dataframe tbody tr th:only-of-type {\n",
              "        vertical-align: middle;\n",
              "    }\n",
              "\n",
              "    .dataframe tbody tr th {\n",
              "        vertical-align: top;\n",
              "    }\n",
              "\n",
              "    .dataframe thead th {\n",
              "        text-align: right;\n",
              "    }\n",
              "</style>\n",
              "<table border=\"1\" class=\"dataframe\">\n",
              "  <thead>\n",
              "    <tr style=\"text-align: right;\">\n",
              "      <th></th>\n",
              "      <th>keyword</th>\n",
              "      <th>target_0</th>\n",
              "      <th>target_1</th>\n",
              "      <th>percentage</th>\n",
              "      <th>count</th>\n",
              "    </tr>\n",
              "  </thead>\n",
              "  <tbody>\n",
              "    <tr>\n",
              "      <th>220</th>\n",
              "      <td>wreckage</td>\n",
              "      <td>0</td>\n",
              "      <td>39</td>\n",
              "      <td>100.00</td>\n",
              "      <td>39</td>\n",
              "    </tr>\n",
              "    <tr>\n",
              "      <th>70</th>\n",
              "      <td>derailment</td>\n",
              "      <td>0</td>\n",
              "      <td>39</td>\n",
              "      <td>100.00</td>\n",
              "      <td>39</td>\n",
              "    </tr>\n",
              "    <tr>\n",
              "      <th>62</th>\n",
              "      <td>debris</td>\n",
              "      <td>0</td>\n",
              "      <td>37</td>\n",
              "      <td>100.00</td>\n",
              "      <td>37</td>\n",
              "    </tr>\n",
              "    <tr>\n",
              "      <th>154</th>\n",
              "      <td>outbreak</td>\n",
              "      <td>1</td>\n",
              "      <td>39</td>\n",
              "      <td>97.50</td>\n",
              "      <td>40</td>\n",
              "    </tr>\n",
              "    <tr>\n",
              "      <th>206</th>\n",
              "      <td>typhoon</td>\n",
              "      <td>1</td>\n",
              "      <td>37</td>\n",
              "      <td>97.37</td>\n",
              "      <td>38</td>\n",
              "    </tr>\n",
              "    <tr>\n",
              "      <th>153</th>\n",
              "      <td>oil%20spill</td>\n",
              "      <td>1</td>\n",
              "      <td>37</td>\n",
              "      <td>97.37</td>\n",
              "      <td>38</td>\n",
              "    </tr>\n",
              "    <tr>\n",
              "      <th>188</th>\n",
              "      <td>suicide%20bombing</td>\n",
              "      <td>1</td>\n",
              "      <td>32</td>\n",
              "      <td>96.97</td>\n",
              "      <td>33</td>\n",
              "    </tr>\n",
              "    <tr>\n",
              "      <th>187</th>\n",
              "      <td>suicide%20bomber</td>\n",
              "      <td>1</td>\n",
              "      <td>30</td>\n",
              "      <td>96.77</td>\n",
              "      <td>31</td>\n",
              "    </tr>\n",
              "    <tr>\n",
              "      <th>32</th>\n",
              "      <td>bombing</td>\n",
              "      <td>2</td>\n",
              "      <td>27</td>\n",
              "      <td>93.10</td>\n",
              "      <td>29</td>\n",
              "    </tr>\n",
              "    <tr>\n",
              "      <th>186</th>\n",
              "      <td>suicide%20bomb</td>\n",
              "      <td>3</td>\n",
              "      <td>32</td>\n",
              "      <td>91.43</td>\n",
              "      <td>35</td>\n",
              "    </tr>\n",
              "    <tr>\n",
              "      <th>167</th>\n",
              "      <td>rescuers</td>\n",
              "      <td>3</td>\n",
              "      <td>32</td>\n",
              "      <td>91.43</td>\n",
              "      <td>35</td>\n",
              "    </tr>\n",
              "    <tr>\n",
              "      <th>148</th>\n",
              "      <td>nuclear%20disaster</td>\n",
              "      <td>3</td>\n",
              "      <td>31</td>\n",
              "      <td>91.18</td>\n",
              "      <td>34</td>\n",
              "    </tr>\n",
              "    <tr>\n",
              "      <th>96</th>\n",
              "      <td>evacuated</td>\n",
              "      <td>4</td>\n",
              "      <td>32</td>\n",
              "      <td>88.89</td>\n",
              "      <td>36</td>\n",
              "    </tr>\n",
              "    <tr>\n",
              "      <th>163</th>\n",
              "      <td>razed</td>\n",
              "      <td>4</td>\n",
              "      <td>31</td>\n",
              "      <td>88.57</td>\n",
              "      <td>35</td>\n",
              "    </tr>\n",
              "    <tr>\n",
              "      <th>215</th>\n",
              "      <td>wildfire</td>\n",
              "      <td>4</td>\n",
              "      <td>29</td>\n",
              "      <td>87.88</td>\n",
              "      <td>33</td>\n",
              "    </tr>\n",
              "    <tr>\n",
              "      <th>214</th>\n",
              "      <td>wild%20fires</td>\n",
              "      <td>4</td>\n",
              "      <td>27</td>\n",
              "      <td>87.10</td>\n",
              "      <td>31</td>\n",
              "    </tr>\n",
              "    <tr>\n",
              "      <th>3</th>\n",
              "      <td>airplane%20accident</td>\n",
              "      <td>5</td>\n",
              "      <td>30</td>\n",
              "      <td>85.71</td>\n",
              "      <td>35</td>\n",
              "    </tr>\n",
              "    <tr>\n",
              "      <th>139</th>\n",
              "      <td>mass%20murder</td>\n",
              "      <td>5</td>\n",
              "      <td>28</td>\n",
              "      <td>84.85</td>\n",
              "      <td>33</td>\n",
              "    </tr>\n",
              "    <tr>\n",
              "      <th>35</th>\n",
              "      <td>buildings%20on%20fire</td>\n",
              "      <td>5</td>\n",
              "      <td>28</td>\n",
              "      <td>84.85</td>\n",
              "      <td>33</td>\n",
              "    </tr>\n",
              "    <tr>\n",
              "      <th>116</th>\n",
              "      <td>forest%20fires</td>\n",
              "      <td>5</td>\n",
              "      <td>27</td>\n",
              "      <td>84.38</td>\n",
              "      <td>32</td>\n",
              "    </tr>\n",
              "  </tbody>\n",
              "</table>\n",
              "</div>"
            ],
            "text/plain": [
              "                   keyword  target_0  target_1           percentage  count\n",
              "220               wreckage         0        39               100.00     39\n",
              "70              derailment         0        39               100.00     39\n",
              "62                  debris         0        37               100.00     37\n",
              "154               outbreak         1        39                97.50     40\n",
              "206                typhoon         1        37                97.37     38\n",
              "153            oil%20spill         1        37                97.37     38\n",
              "188      suicide%20bombing         1        32                96.97     33\n",
              "187       suicide%20bomber         1        30                96.77     31\n",
              "32                 bombing         2        27                93.10     29\n",
              "186         suicide%20bomb         3        32                91.43     35\n",
              "167               rescuers         3        32                91.43     35\n",
              "148     nuclear%20disaster         3        31                91.18     34\n",
              "96               evacuated         4        32                88.89     36\n",
              "163                  razed         4        31                88.57     35\n",
              "215               wildfire         4        29                87.88     33\n",
              "214           wild%20fires         4        27                87.10     31\n",
              "3      airplane%20accident         5        30                85.71     35\n",
              "139          mass%20murder         5        28                84.85     33\n",
              "35   buildings%20on%20fire         5        28                84.85     33\n",
              "116         forest%20fires         5        27                84.38     32"
            ]
          },
          "metadata": {
            "tags": []
          },
          "execution_count": 31
        }
      ]
    },
    {
      "cell_type": "code",
      "metadata": {
        "id": "EwAzpW393NiN",
        "colab_type": "code",
        "outputId": "607feb2f-30e7-4ee9-af26-a8c4ec82f378",
        "colab": {
          "base_uri": "https://localhost:8080/",
          "height": 34
        }
      },
      "source": [
        "#Calculating the number of keyword that contains '%20' over the total. \n",
        "round(100*(keyword_target_noindex[keyword_target_noindex['keyword'].str.contains('%20')]['keyword'].count())/(keyword_target_noindex['keyword'].count()),2)"
      ],
      "execution_count": 32,
      "outputs": [
        {
          "output_type": "execute_result",
          "data": {
            "text/plain": [
              "16.22"
            ]
          },
          "metadata": {
            "tags": []
          },
          "execution_count": 32
        }
      ]
    },
    {
      "cell_type": "code",
      "metadata": {
        "id": "m21d8jVB3NY7",
        "colab_type": "code",
        "colab": {}
      },
      "source": [
        ""
      ],
      "execution_count": 0,
      "outputs": []
    },
    {
      "cell_type": "markdown",
      "metadata": {
        "id": "2in_m-Om3Mf7",
        "colab_type": "text"
      },
      "source": [
        "## Looking at 'text'"
      ]
    },
    {
      "cell_type": "markdown",
      "metadata": {
        "id": "L1Vv1yWgZoSI",
        "colab_type": "text"
      },
      "source": [
        "### Analizing 'tweet_len'"
      ]
    },
    {
      "cell_type": "markdown",
      "metadata": {
        "id": "rUSW1KqojG_L",
        "colab_type": "text"
      },
      "source": [
        "#### Before dropping stopwords\n",
        "\n"
      ]
    },
    {
      "cell_type": "code",
      "metadata": {
        "id": "Fo52ev6Icrl1",
        "colab_type": "code",
        "outputId": "f733fb9b-29a0-4db5-8065-ef2050c090c5",
        "colab": {
          "base_uri": "https://localhost:8080/",
          "height": 475
        }
      },
      "source": [
        "df['tweet_len']=df['text'].apply(lambda x: len(x))\n",
        "sns.distplot(df[\"tweet_len\"], hist=True)"
      ],
      "execution_count": 33,
      "outputs": [
        {
          "output_type": "execute_result",
          "data": {
            "text/plain": [
              "<matplotlib.axes._subplots.AxesSubplot at 0x7f4638f4e0f0>"
            ]
          },
          "metadata": {
            "tags": []
          },
          "execution_count": 33
        },
        {
          "output_type": "display_data",
          "data": {
            "image/png": "[encoded data removed]",
            "text/plain": [
              "<Figure size 640x480 with 1 Axes>"
            ]
          },
          "metadata": {
            "tags": []
          }
        }
      ]
    },
    {
      "cell_type": "code",
      "metadata": {
        "id": "7_hOsHTDcrpf",
        "colab_type": "code",
        "outputId": "cd206496-eab4-4843-91bf-6dc543919c9f",
        "colab": {
          "base_uri": "https://localhost:8080/",
          "height": 170
        }
      },
      "source": [
        "#Tweets_len stats\n",
        "df['tweet_len'].describe()"
      ],
      "execution_count": 34,
      "outputs": [
        {
          "output_type": "execute_result",
          "data": {
            "text/plain": [
              "count               7,613.00\n",
              "mean                  101.04\n",
              "std                    33.78\n",
              "min                     7.00\n",
              "25%                    78.00\n",
              "50%                   107.00\n",
              "75%                   133.00\n",
              "max                   157.00\n",
              "Name: tweet_len, dtype: float64"
            ]
          },
          "metadata": {
            "tags": []
          },
          "execution_count": 34
        }
      ]
    },
    {
      "cell_type": "code",
      "metadata": {
        "id": "ZVnLRpxdcrtD",
        "colab_type": "code",
        "outputId": "03cadedd-4032-42c3-8fac-50050c941aaa",
        "colab": {
          "base_uri": "https://localhost:8080/",
          "height": 34
        }
      },
      "source": [
        "#how many exactly are above the average length?\n",
        "print(round(100.00*(df[(df['tweet_len'])>(df['tweet_len']).mean()]['tweet_len'].count())/(len(df['tweet_len'])),2),'% of the tweets have a length superior to the avg')"
      ],
      "execution_count": 35,
      "outputs": [
        {
          "output_type": "stream",
          "text": [
            "54.39 % of the tweets have a length superior to the avg\n"
          ],
          "name": "stdout"
        }
      ]
    },
    {
      "cell_type": "code",
      "metadata": {
        "id": "Vc6NpdXLh8X_",
        "colab_type": "code",
        "outputId": "f71d28c4-16e8-43b1-dac0-ab5543b1559a",
        "colab": {
          "base_uri": "https://localhost:8080/",
          "height": 34
        }
      },
      "source": [
        "#That's why is right skewed\n",
        "df['tweet_len'].skew()"
      ],
      "execution_count": 36,
      "outputs": [
        {
          "output_type": "execute_result",
          "data": {
            "text/plain": [
              "-0.6190089979526021"
            ]
          },
          "metadata": {
            "tags": []
          },
          "execution_count": 36
        }
      ]
    },
    {
      "cell_type": "code",
      "metadata": {
        "id": "eLCFABLmijdq",
        "colab_type": "code",
        "outputId": "ee05b181-ac98-415c-e079-2b3edecba8eb",
        "colab": {
          "base_uri": "https://localhost:8080/",
          "height": 51
        }
      },
      "source": [
        "#Calculating the mode\n",
        "df['tweet_len'].mode()"
      ],
      "execution_count": 37,
      "outputs": [
        {
          "output_type": "execute_result",
          "data": {
            "text/plain": [
              "0    136\n",
              "dtype: int64"
            ]
          },
          "metadata": {
            "tags": []
          },
          "execution_count": 37
        }
      ]
    },
    {
      "cell_type": "code",
      "metadata": {
        "id": "KiQX0a7zjupV",
        "colab_type": "code",
        "outputId": "ef0e7dc5-7edf-4f7a-a54f-27df3affcc2c",
        "colab": {
          "base_uri": "https://localhost:8080/",
          "height": 68
        }
      },
      "source": [
        "df['tweet_len_37.5']=np.where(df['tweet_len']<=37.5,1,0)\n",
        "df['tweet_len_37.5'].value_counts()"
      ],
      "execution_count": 38,
      "outputs": [
        {
          "output_type": "execute_result",
          "data": {
            "text/plain": [
              "0    7214\n",
              "1     399\n",
              "Name: tweet_len_37.5, dtype: int64"
            ]
          },
          "metadata": {
            "tags": []
          },
          "execution_count": 38
        }
      ]
    },
    {
      "cell_type": "code",
      "metadata": {
        "id": "5bFsaLADjupX",
        "colab_type": "code",
        "outputId": "a09bb505-8b72-4434-8ce3-5a7463dd7183",
        "colab": {
          "base_uri": "https://localhost:8080/",
          "height": 68
        }
      },
      "source": [
        "df['tweet_len_37.5_and_75']=np.where((df['tweet_len']>37.5) & (df['tweet_len']<=75),1,0)\n",
        "df['tweet_len_37.5_and_75'].value_counts()"
      ],
      "execution_count": 39,
      "outputs": [
        {
          "output_type": "execute_result",
          "data": {
            "text/plain": [
              "0    6224\n",
              "1    1389\n",
              "Name: tweet_len_37.5_and_75, dtype: int64"
            ]
          },
          "metadata": {
            "tags": []
          },
          "execution_count": 39
        }
      ]
    },
    {
      "cell_type": "code",
      "metadata": {
        "id": "o_HPUBmDjupZ",
        "colab_type": "code",
        "outputId": "1084ac30-9974-4b28-8bbd-5fad5f936356",
        "colab": {
          "base_uri": "https://localhost:8080/",
          "height": 68
        }
      },
      "source": [
        "df['tweet_len_75_and_112.5']=np.where((df['tweet_len']>75) & (df['tweet_len']<=112.5),1,0)\n",
        "df['tweet_len_75_and_112.5'].value_counts()"
      ],
      "execution_count": 40,
      "outputs": [
        {
          "output_type": "execute_result",
          "data": {
            "text/plain": [
              "0    5244\n",
              "1    2369\n",
              "Name: tweet_len_75_and_112.5, dtype: int64"
            ]
          },
          "metadata": {
            "tags": []
          },
          "execution_count": 40
        }
      ]
    },
    {
      "cell_type": "code",
      "metadata": {
        "id": "S-LvQAfAjupc",
        "colab_type": "code",
        "outputId": "fcb84705-813c-4e31-83dc-359314172e5e",
        "colab": {
          "base_uri": "https://localhost:8080/",
          "height": 68
        }
      },
      "source": [
        "df['tweet_len_up112.5']=np.where(df['tweet_len']>112.5,1,0)\n",
        "df['tweet_len_up112.5'].value_counts()"
      ],
      "execution_count": 41,
      "outputs": [
        {
          "output_type": "execute_result",
          "data": {
            "text/plain": [
              "0    4157\n",
              "1    3456\n",
              "Name: tweet_len_up112.5, dtype: int64"
            ]
          },
          "metadata": {
            "tags": []
          },
          "execution_count": 41
        }
      ]
    },
    {
      "cell_type": "code",
      "metadata": {
        "id": "YgCigcEYjupe",
        "colab_type": "code",
        "colab": {}
      },
      "source": [
        "grouped=df.groupby('target').agg({'tweet_len_37.5':['mean'], 'tweet_len_37.5_and_75':['mean'],\\\n",
        "                                'tweet_len_75_and_112.5':['mean'], 'tweet_len_up112.5':['mean']})"
      ],
      "execution_count": 0,
      "outputs": []
    },
    {
      "cell_type": "code",
      "metadata": {
        "id": "WSnk9OEAjupk",
        "colab_type": "code",
        "colab": {}
      },
      "source": [
        "level_0=grouped.columns.get_level_values(0)"
      ],
      "execution_count": 0,
      "outputs": []
    },
    {
      "cell_type": "code",
      "metadata": {
        "id": "uecVvhHQjupp",
        "colab_type": "code",
        "colab": {}
      },
      "source": [
        "grouped.columns=level_0"
      ],
      "execution_count": 0,
      "outputs": []
    },
    {
      "cell_type": "code",
      "metadata": {
        "id": "GnJZPl9Cjups",
        "colab_type": "code",
        "outputId": "55f5c460-90b3-47ed-e8a0-d11c93b1afc2",
        "colab": {
          "base_uri": "https://localhost:8080/",
          "height": 142
        }
      },
      "source": [
        "grouped_for_barchart=grouped*100\n",
        "grouped_for_barchart"
      ],
      "execution_count": 45,
      "outputs": [
        {
          "output_type": "execute_result",
          "data": {
            "text/html": [
              "<div>\n",
              "<style scoped>\n",
              "    .dataframe tbody tr th:only-of-type {\n",
              "        vertical-align: middle;\n",
              "    }\n",
              "\n",
              "    .dataframe tbody tr th {\n",
              "        vertical-align: top;\n",
              "    }\n",
              "\n",
              "    .dataframe thead th {\n",
              "        text-align: right;\n",
              "    }\n",
              "</style>\n",
              "<table border=\"1\" class=\"dataframe\">\n",
              "  <thead>\n",
              "    <tr style=\"text-align: right;\">\n",
              "      <th></th>\n",
              "      <th>tweet_len_37.5</th>\n",
              "      <th>tweet_len_37.5_and_75</th>\n",
              "      <th>tweet_len_75_and_112.5</th>\n",
              "      <th>tweet_len_up112.5</th>\n",
              "    </tr>\n",
              "    <tr>\n",
              "      <th>target</th>\n",
              "      <th></th>\n",
              "      <th></th>\n",
              "      <th></th>\n",
              "      <th></th>\n",
              "    </tr>\n",
              "  </thead>\n",
              "  <tbody>\n",
              "    <tr>\n",
              "      <th>0</th>\n",
              "      <td>7.60</td>\n",
              "      <td>22.50</td>\n",
              "      <td>29.39</td>\n",
              "      <td>40.51</td>\n",
              "    </tr>\n",
              "    <tr>\n",
              "      <th>1</th>\n",
              "      <td>2.11</td>\n",
              "      <td>12.60</td>\n",
              "      <td>33.41</td>\n",
              "      <td>51.88</td>\n",
              "    </tr>\n",
              "  </tbody>\n",
              "</table>\n",
              "</div>"
            ],
            "text/plain": [
              "             tweet_len_37.5  ...    tweet_len_up112.5\n",
              "target                       ...                     \n",
              "0                      7.60  ...                40.51\n",
              "1                      2.11  ...                51.88\n",
              "\n",
              "[2 rows x 4 columns]"
            ]
          },
          "metadata": {
            "tags": []
          },
          "execution_count": 45
        }
      ]
    },
    {
      "cell_type": "code",
      "metadata": {
        "id": "qTpg2eD_jupv",
        "colab_type": "code",
        "outputId": "d9911193-96c1-4b28-915a-57a2b72609b4",
        "colab": {
          "base_uri": "https://localhost:8080/",
          "height": 173
        }
      },
      "source": [
        "grouped_for_barchart=grouped_for_barchart.stack().unstack(0)\n",
        "grouped_for_barchart"
      ],
      "execution_count": 46,
      "outputs": [
        {
          "output_type": "execute_result",
          "data": {
            "text/html": [
              "<div>\n",
              "<style scoped>\n",
              "    .dataframe tbody tr th:only-of-type {\n",
              "        vertical-align: middle;\n",
              "    }\n",
              "\n",
              "    .dataframe tbody tr th {\n",
              "        vertical-align: top;\n",
              "    }\n",
              "\n",
              "    .dataframe thead th {\n",
              "        text-align: right;\n",
              "    }\n",
              "</style>\n",
              "<table border=\"1\" class=\"dataframe\">\n",
              "  <thead>\n",
              "    <tr style=\"text-align: right;\">\n",
              "      <th>target</th>\n",
              "      <th>0</th>\n",
              "      <th>1</th>\n",
              "    </tr>\n",
              "  </thead>\n",
              "  <tbody>\n",
              "    <tr>\n",
              "      <th>tweet_len_37.5</th>\n",
              "      <td>7.60</td>\n",
              "      <td>2.11</td>\n",
              "    </tr>\n",
              "    <tr>\n",
              "      <th>tweet_len_37.5_and_75</th>\n",
              "      <td>22.50</td>\n",
              "      <td>12.60</td>\n",
              "    </tr>\n",
              "    <tr>\n",
              "      <th>tweet_len_75_and_112.5</th>\n",
              "      <td>29.39</td>\n",
              "      <td>33.41</td>\n",
              "    </tr>\n",
              "    <tr>\n",
              "      <th>tweet_len_up112.5</th>\n",
              "      <td>40.51</td>\n",
              "      <td>51.88</td>\n",
              "    </tr>\n",
              "  </tbody>\n",
              "</table>\n",
              "</div>"
            ],
            "text/plain": [
              "target                                    0                    1\n",
              "tweet_len_37.5                         7.60                 2.11\n",
              "tweet_len_37.5_and_75                 22.50                12.60\n",
              "tweet_len_75_and_112.5                29.39                33.41\n",
              "tweet_len_up112.5                     40.51                51.88"
            ]
          },
          "metadata": {
            "tags": []
          },
          "execution_count": 46
        }
      ]
    },
    {
      "cell_type": "code",
      "metadata": {
        "id": "_YkWUvt7jupy",
        "colab_type": "code",
        "outputId": "72e51bcd-5230-4606-94f0-68207273cdf0",
        "colab": {
          "base_uri": "https://localhost:8080/",
          "height": 102
        }
      },
      "source": [
        "target0=grouped_for_barchart.iloc[:,0]\n",
        "target0"
      ],
      "execution_count": 47,
      "outputs": [
        {
          "output_type": "execute_result",
          "data": {
            "text/plain": [
              "tweet_len_37.5                           7.60\n",
              "tweet_len_37.5_and_75                   22.50\n",
              "tweet_len_75_and_112.5                  29.39\n",
              "tweet_len_up112.5                       40.51\n",
              "Name: 0, dtype: float64"
            ]
          },
          "metadata": {
            "tags": []
          },
          "execution_count": 47
        }
      ]
    },
    {
      "cell_type": "code",
      "metadata": {
        "id": "zefpvvrrjup0",
        "colab_type": "code",
        "outputId": "62fcd59c-5bd4-4176-abe0-92501ff848d8",
        "colab": {
          "base_uri": "https://localhost:8080/",
          "height": 102
        }
      },
      "source": [
        "target1=grouped_for_barchart.iloc[:,1]\n",
        "target1"
      ],
      "execution_count": 48,
      "outputs": [
        {
          "output_type": "execute_result",
          "data": {
            "text/plain": [
              "tweet_len_37.5                           2.11\n",
              "tweet_len_37.5_and_75                   12.60\n",
              "tweet_len_75_and_112.5                  33.41\n",
              "tweet_len_up112.5                       51.88\n",
              "Name: 1, dtype: float64"
            ]
          },
          "metadata": {
            "tags": []
          },
          "execution_count": 48
        }
      ]
    },
    {
      "cell_type": "code",
      "metadata": {
        "id": "nqQJr_A8lfrk",
        "colab_type": "code",
        "outputId": "759bc1ae-d9a7-45e8-aabd-64f2d9e1d767",
        "colab": {
          "base_uri": "https://localhost:8080/",
          "height": 632
        }
      },
      "source": [
        "#Plotting bar chart\n",
        "\n",
        "# Setting width of bar\n",
        "barWidth = 0.25\n",
        "\n",
        "# Setting position of bar on X axis\n",
        "p0 = np.arange(len(target0))\n",
        "p1 = [x + barWidth for x in p0] \n",
        "\n",
        "# Making the plot\n",
        "plt.bar(p0, target0, color='#7f6d5f', width=barWidth, edgecolor='white', label='Not Real')\n",
        "plt.bar(p1, target1, color='#557f2d', width=barWidth, edgecolor='white', label='Real')\n",
        "\n",
        "# Setting ticks and labels of axes\n",
        "plt.xlabel('Groups by Tweets Length', fontweight='bold')\n",
        "plt.ylabel('Lenght of Tweets (number of characters)',fontweight='bold')\n",
        "plt.xticks([r + barWidth for r in range(len(target0))], ['Under 38 charac', 'Between 38 and 75', 'Between 75 and 112', 'Up 112'],rotation='vertical')\n",
        "\n",
        "# Setting title. \n",
        "plt.title('Percentage of tweets by target',fontsize =20)\n",
        "\n",
        "# Create legend & Show graphic\n",
        "plt.legend()\n",
        "plt.show()"
      ],
      "execution_count": 49,
      "outputs": [
        {
          "output_type": "display_data",
          "data": {
            "image/png": "[encoded data removed]",
            "text/plain": [
              "<Figure size 640x480 with 1 Axes>"
            ]
          },
          "metadata": {
            "tags": []
          }
        }
      ]
    },
    {
      "cell_type": "code",
      "metadata": {
        "id": "IrbrqVGdsnnP",
        "colab_type": "code",
        "outputId": "37a6104a-d0a7-461a-9f65-d1c2223b6e66",
        "colab": {
          "base_uri": "https://localhost:8080/",
          "height": 488
        }
      },
      "source": [
        "#Plotting histogram\n",
        "\n",
        "# Making the plot\n",
        "plt.hist(df[df['target']==0]['tweet_len'], color='#7f6d5f', label='Not Real', bins=15)\n",
        "plt.hist(df[df['target']==1]['tweet_len'], color='#557f2d', label='Real', bins=15)\n",
        "\n",
        "# Setting ticks and labels of axes\n",
        "plt.xlabel('Tweets Lenght', fontweight='bold')\n",
        "plt.ylabel('Frecuency',fontweight='bold')\n",
        "\n",
        "# Setting title. \n",
        "plt.title('Tweet Lenght Histogram by Target',fontsize =20)\n",
        "\n",
        "# Create legend & Show graphic\n",
        "plt.legend()\n",
        "plt.show()"
      ],
      "execution_count": 50,
      "outputs": [
        {
          "output_type": "display_data",
          "data": {
            "image/png": "[encoded data removed]",
            "text/plain": [
              "<Figure size 640x480 with 1 Axes>"
            ]
          },
          "metadata": {
            "tags": []
          }
        }
      ]
    },
    {
      "cell_type": "code",
      "metadata": {
        "id": "NDzXgL_Cq1P6",
        "colab_type": "code",
        "outputId": "875dc70a-1323-4588-d3ac-c9017d521ef1",
        "colab": {
          "base_uri": "https://localhost:8080/",
          "height": 697
        }
      },
      "source": [
        "#Playing with tweet length intervals and the target variable. \n",
        "for a,b in zip([120,125,130,135,140],[140,145,150,155,160]): \n",
        "  print('Tweet Lenght Range from',a,'to',b,':\\n')\n",
        "  print('the amount of tweets in this range is: ', df.loc[(df['tweet_len']>a) & (df['tweet_len']<b),'target'].value_counts().sum())\n",
        "  print('The value_counts is:\\n',df.loc[(df['tweet_len']>a) &(df['tweet_len']<b),'target'].value_counts())\n",
        "  print(\"-\" * 75)"
      ],
      "execution_count": 51,
      "outputs": [
        {
          "output_type": "stream",
          "text": [
            "Tweet Lenght Range from 120 to 140 :\n",
            "\n",
            "the amount of tweets in this range is:  2495\n",
            "The value_counts is:\n",
            " 0    1254\n",
            "1    1241\n",
            "Name: target, dtype: int64\n",
            "---------------------------------------------------------------------------\n",
            "Tweet Lenght Range from 125 to 145 :\n",
            "\n",
            "the amount of tweets in this range is:  2539\n",
            "The value_counts is:\n",
            " 1    1294\n",
            "0    1245\n",
            "Name: target, dtype: int64\n",
            "---------------------------------------------------------------------------\n",
            "Tweet Lenght Range from 130 to 150 :\n",
            "\n",
            "the amount of tweets in this range is:  2182\n",
            "The value_counts is:\n",
            " 1    1142\n",
            "0    1040\n",
            "Name: target, dtype: int64\n",
            "---------------------------------------------------------------------------\n",
            "Tweet Lenght Range from 135 to 155 :\n",
            "\n",
            "the amount of tweets in this range is:  1562\n",
            "The value_counts is:\n",
            " 1    826\n",
            "0    736\n",
            "Name: target, dtype: int64\n",
            "---------------------------------------------------------------------------\n",
            "Tweet Lenght Range from 140 to 160 :\n",
            "\n",
            "the amount of tweets in this range is:  203\n",
            "The value_counts is:\n",
            " 0    109\n",
            "1     94\n",
            "Name: target, dtype: int64\n",
            "---------------------------------------------------------------------------\n"
          ],
          "name": "stdout"
        }
      ]
    },
    {
      "cell_type": "markdown",
      "metadata": {
        "id": "pFRvMVru4WVF",
        "colab_type": "text"
      },
      "source": [
        "### Analizing the words before dropping stopwords\n"
      ]
    },
    {
      "cell_type": "markdown",
      "metadata": {
        "id": "2CChR6LABE57",
        "colab_type": "text"
      },
      "source": [
        "#### Transforming text to a list of words\n"
      ]
    },
    {
      "cell_type": "code",
      "metadata": {
        "id": "oqdiOsYw609q",
        "colab_type": "code",
        "outputId": "890854a5-e4e2-49a7-80ca-8b7f6db743a4",
        "colab": {
          "base_uri": "https://localhost:8080/",
          "height": 221
        }
      },
      "source": [
        "#Getting a serie cointaining in each row the list of words of each tweet\n",
        "df['list_words']=df['text'].apply(lambda x: x.split())\n",
        "df['list_words']"
      ],
      "execution_count": 52,
      "outputs": [
        {
          "output_type": "execute_result",
          "data": {
            "text/plain": [
              "0       [Our, Deeds, are, the, Reason, of, this, #eart...\n",
              "1          [Forest, fire, near, La, Ronge, Sask., Canada]\n",
              "2       [All, residents, asked, to, 'shelter, in, plac...\n",
              "3       [13,000, people, receive, #wildfires, evacuati...\n",
              "4       [Just, got, sent, this, photo, from, Ruby, #Al...\n",
              "                              ...                        \n",
              "7608    [Two, giant, cranes, holding, a, bridge, colla...\n",
              "7609    [@aria_ahrary, @TheTawniest, The, out, of, con...\n",
              "7610    [M1.94, [01:04, UTC]?5km, S, of, Volcano, Hawa...\n",
              "7611    [Police, investigating, after, an, e-bike, col...\n",
              "7612    [The, Latest:, More, Homes, Razed, by, Norther...\n",
              "Name: list_words, Length: 7613, dtype: object"
            ]
          },
          "metadata": {
            "tags": []
          },
          "execution_count": 52
        }
      ]
    },
    {
      "cell_type": "markdown",
      "metadata": {
        "id": "zpFpkVV6BnvC",
        "colab_type": "text"
      },
      "source": [
        "#### Counting the words of each 'list_words'"
      ]
    },
    {
      "cell_type": "code",
      "metadata": {
        "id": "O6IZa8Bh7MtV",
        "colab_type": "code",
        "outputId": "7f808e0f-bfd0-44bf-dd4c-1ceb2674c08d",
        "colab": {
          "base_uri": "https://localhost:8080/",
          "height": 457
        }
      },
      "source": [
        "df['words_count']=df['list_words'].apply(lambda x: len(x))\n",
        "\n",
        "#Plotting two histograms\n",
        "plt.hist(df[df['target']==0]['words_count'], color='#7f6d5f', label='Not Real', bins=10)\n",
        "plt.hist(df[df['target']==1]['words_count'], color='#557f2d', label='Real', bins=10)\n",
        "\n",
        "#Plotting x_lines for means\n",
        "plt.axvline(df[df['target']==0]['words_count'].mean(), color='black', linestyle='dashed', linewidth=3)\n",
        "plt.axvline(df[df['target']==1]['words_count'].mean(), color='blue', linestyle='dashed', linewidth=3)\n",
        "\n",
        "#Plotting text\n",
        "min_ylim, max_ylim = plt.ylim()\n",
        "plt.text(df[df['target']==0]['words_count'].mean()*(0.00), max_ylim*0.85, '\"Not Real\" Mean: {:.2f}'.format(df[df['target']==0]['words_count'].mean()))\n",
        "plt.text(df[df['target']==1]['words_count'].mean()*1.05, max_ylim*0.3, '\"Real\" Mean: {:.2f}'.format(df[df['target']==1]['words_count'].mean()))\n",
        "\n",
        "plt.title('Overlaid Histograms: Word Counts by Target')\n",
        "\n",
        "plt.legend()\n",
        "plt.show()"
      ],
      "execution_count": 53,
      "outputs": [
        {
          "output_type": "display_data",
          "data": {
            "image/png": "[encoded data removed]",
            "text/plain": [
              "<Figure size 640x480 with 1 Axes>"
            ]
          },
          "metadata": {
            "tags": []
          }
        }
      ]
    },
    {
      "cell_type": "code",
      "metadata": {
        "id": "nFsMeIvrQdX7",
        "colab_type": "code",
        "outputId": "830c7d25-4719-4b83-d831-f21f81218f41",
        "colab": {
          "base_uri": "https://localhost:8080/",
          "height": 34
        }
      },
      "source": [
        "#T-test for words_count\n",
        "from scipy import stats\n",
        "\n",
        "stats.ttest_ind(df[df['target']==0]['words_count'],df[df['target']==1]['words_count'],equal_var=False)"
      ],
      "execution_count": 54,
      "outputs": [
        {
          "output_type": "execute_result",
          "data": {
            "text/plain": [
              "Ttest_indResult(statistic=-3.5827341440382523, pvalue=0.0003421596979870606)"
            ]
          },
          "metadata": {
            "tags": []
          },
          "execution_count": 54
        }
      ]
    },
    {
      "cell_type": "markdown",
      "metadata": {
        "id": "Dks5-NfZByL7",
        "colab_type": "text"
      },
      "source": [
        "#### Number of character per word. "
      ]
    },
    {
      "cell_type": "code",
      "metadata": {
        "id": "HzyFwXCU72mN",
        "colab_type": "code",
        "outputId": "9db92477-51dd-4c03-d3c7-fdf035088a73",
        "colab": {
          "base_uri": "https://localhost:8080/",
          "height": 457
        }
      },
      "source": [
        "df['avg_characters_per_word']=df['tweet_len']/df['words_count']\n",
        "\n",
        "#Plotting both hist together\n",
        "plt.hist(df[df['target']==0]['avg_characters_per_word'], color='#7f6d5f', label='Not Real', bins=30)\n",
        "plt.hist(df[df['target']==1]['avg_characters_per_word'], color='#557f2d', label='Real', bins=30)\n",
        "\n",
        "#plotting avg lines. \n",
        "plt.axvline(df[df['target']==0]['avg_characters_per_word'].mean(), color='black', linestyle='dashed', linewidth=3)\n",
        "plt.axvline(df[df['target']==1]['avg_characters_per_word'].mean(), color='blue', linestyle='dashed', linewidth=3)\n",
        "\n",
        "#Plotting text\n",
        "min_ylim, max_ylim = plt.ylim()\n",
        "plt.text(df[df['target']==0]['avg_characters_per_word'].mean()*(-0.05), max_ylim*0.85,\\\n",
        "         '\"Not Real\" Mean: {:.2f}'.format(df[df['target']==0]['avg_characters_per_word'].mean()))\n",
        "plt.text(df[df['target']==1]['avg_characters_per_word'].mean()*1.05, max_ylim*0.3, \\\n",
        "         '\"Real\" Mean: {:.2f}'.format(df[df['target']==1]['avg_characters_per_word'].mean()))\n",
        "\n",
        "plt.title('Overlaid Histograms: Average Characters per word by Target')\n",
        "\n",
        "\n",
        "plt.legend()\n",
        "plt.show()"
      ],
      "execution_count": 55,
      "outputs": [
        {
          "output_type": "display_data",
          "data": {
            "image/png": "[encoded data removed]",
            "text/plain": [
              "<Figure size 640x480 with 1 Axes>"
            ]
          },
          "metadata": {
            "tags": []
          }
        }
      ]
    },
    {
      "cell_type": "code",
      "metadata": {
        "id": "d5DgOED-8-8M",
        "colab_type": "code",
        "outputId": "8bdc5cbd-78c8-4ed7-8b2c-ddaab7cb7da9",
        "colab": {
          "base_uri": "https://localhost:8080/",
          "height": 34
        }
      },
      "source": [
        "#T-test for avg_characters_per_word\n",
        "stats.ttest_ind(df[df['target']==0]['avg_characters_per_word'],df[df['target']==1]['avg_characters_per_word'],equal_var=False)"
      ],
      "execution_count": 56,
      "outputs": [
        {
          "output_type": "execute_result",
          "data": {
            "text/plain": [
              "Ttest_indResult(statistic=-16.507057390104332, pvalue=3.7846040039667963e-60)"
            ]
          },
          "metadata": {
            "tags": []
          },
          "execution_count": 56
        }
      ]
    },
    {
      "cell_type": "markdown",
      "metadata": {
        "id": "Pvo0sPoJSK6T",
        "colab_type": "text"
      },
      "source": [
        "Although it no means that `woirds_count` and `avg_characters_per_word` are good predictor or not, it's important having statistical significance in the means difference test "
      ]
    },
    {
      "cell_type": "markdown",
      "metadata": {
        "id": "cCYns3COeUsb",
        "colab_type": "text"
      },
      "source": [
        "#### Hashtags"
      ]
    },
    {
      "cell_type": "code",
      "metadata": {
        "id": "4maBDwTPe6TL",
        "colab_type": "code",
        "outputId": "6f0aaef1-8940-4477-d9de-e75e05617c9c",
        "colab": {
          "base_uri": "https://localhost:8080/",
          "height": 204
        }
      },
      "source": [
        "text_df=df[['list_words','words_count','target','keyword']]\n",
        "text_df.head()"
      ],
      "execution_count": 77,
      "outputs": [
        {
          "output_type": "execute_result",
          "data": {
            "text/html": [
              "<div>\n",
              "<style scoped>\n",
              "    .dataframe tbody tr th:only-of-type {\n",
              "        vertical-align: middle;\n",
              "    }\n",
              "\n",
              "    .dataframe tbody tr th {\n",
              "        vertical-align: top;\n",
              "    }\n",
              "\n",
              "    .dataframe thead th {\n",
              "        text-align: right;\n",
              "    }\n",
              "</style>\n",
              "<table border=\"1\" class=\"dataframe\">\n",
              "  <thead>\n",
              "    <tr style=\"text-align: right;\">\n",
              "      <th></th>\n",
              "      <th>list_words</th>\n",
              "      <th>words_count</th>\n",
              "      <th>target</th>\n",
              "      <th>keyword</th>\n",
              "    </tr>\n",
              "  </thead>\n",
              "  <tbody>\n",
              "    <tr>\n",
              "      <th>0</th>\n",
              "      <td>[Our, Deeds, are, the, Reason, of, this, #eart...</td>\n",
              "      <td>13</td>\n",
              "      <td>1</td>\n",
              "      <td>no_keyword</td>\n",
              "    </tr>\n",
              "    <tr>\n",
              "      <th>1</th>\n",
              "      <td>[Forest, fire, near, La, Ronge, Sask., Canada]</td>\n",
              "      <td>7</td>\n",
              "      <td>1</td>\n",
              "      <td>no_keyword</td>\n",
              "    </tr>\n",
              "    <tr>\n",
              "      <th>2</th>\n",
              "      <td>[All, residents, asked, to, 'shelter, in, plac...</td>\n",
              "      <td>22</td>\n",
              "      <td>1</td>\n",
              "      <td>no_keyword</td>\n",
              "    </tr>\n",
              "    <tr>\n",
              "      <th>3</th>\n",
              "      <td>[13,000, people, receive, #wildfires, evacuati...</td>\n",
              "      <td>8</td>\n",
              "      <td>1</td>\n",
              "      <td>no_keyword</td>\n",
              "    </tr>\n",
              "    <tr>\n",
              "      <th>4</th>\n",
              "      <td>[Just, got, sent, this, photo, from, Ruby, #Al...</td>\n",
              "      <td>16</td>\n",
              "      <td>1</td>\n",
              "      <td>no_keyword</td>\n",
              "    </tr>\n",
              "  </tbody>\n",
              "</table>\n",
              "</div>"
            ],
            "text/plain": [
              "                                          list_words  ...     keyword\n",
              "0  [Our, Deeds, are, the, Reason, of, this, #eart...  ...  no_keyword\n",
              "1     [Forest, fire, near, La, Ronge, Sask., Canada]  ...  no_keyword\n",
              "2  [All, residents, asked, to, 'shelter, in, plac...  ...  no_keyword\n",
              "3  [13,000, people, receive, #wildfires, evacuati...  ...  no_keyword\n",
              "4  [Just, got, sent, this, photo, from, Ruby, #Al...  ...  no_keyword\n",
              "\n",
              "[5 rows x 4 columns]"
            ]
          },
          "metadata": {
            "tags": []
          },
          "execution_count": 77
        }
      ]
    },
    {
      "cell_type": "code",
      "metadata": {
        "id": "20btKMSVhte1",
        "colab_type": "code",
        "colab": {}
      },
      "source": [
        "#Defining a function that returns a list of hashtags or empty list\n",
        "\n",
        "def has_hashtags(list_of_words):\n",
        "  i=0\n",
        "  hashtags=[]\n",
        "  while i<len(list_of_words): \n",
        "    if '#' in list_of_words[i]:\n",
        "        word=list(list_of_words[i])\n",
        "        word=word[1:]\n",
        "        word=''.join(map(str, word))\n",
        "        hashtags.append(word)\n",
        "    \n",
        "    i=i+1\n",
        "  return hashtags\n",
        "    \n"
      ],
      "execution_count": 0,
      "outputs": []
    },
    {
      "cell_type": "code",
      "metadata": {
        "id": "YiUjIL3Ih8X9",
        "colab_type": "code",
        "outputId": "ccd214ce-8dd1-450b-f3fe-0476d67615e6",
        "colab": {
          "base_uri": "https://localhost:8080/",
          "height": 419
        }
      },
      "source": [
        "text_df['hashtags']=df['list_words'].apply(has_hashtags)\n",
        "text_df"
      ],
      "execution_count": 79,
      "outputs": [
        {
          "output_type": "execute_result",
          "data": {
            "text/html": [
              "<div>\n",
              "<style scoped>\n",
              "    .dataframe tbody tr th:only-of-type {\n",
              "        vertical-align: middle;\n",
              "    }\n",
              "\n",
              "    .dataframe tbody tr th {\n",
              "        vertical-align: top;\n",
              "    }\n",
              "\n",
              "    .dataframe thead th {\n",
              "        text-align: right;\n",
              "    }\n",
              "</style>\n",
              "<table border=\"1\" class=\"dataframe\">\n",
              "  <thead>\n",
              "    <tr style=\"text-align: right;\">\n",
              "      <th></th>\n",
              "      <th>list_words</th>\n",
              "      <th>words_count</th>\n",
              "      <th>target</th>\n",
              "      <th>keyword</th>\n",
              "      <th>hashtags</th>\n",
              "    </tr>\n",
              "  </thead>\n",
              "  <tbody>\n",
              "    <tr>\n",
              "      <th>0</th>\n",
              "      <td>[Our, Deeds, are, the, Reason, of, this, #eart...</td>\n",
              "      <td>13</td>\n",
              "      <td>1</td>\n",
              "      <td>no_keyword</td>\n",
              "      <td>[earthquake]</td>\n",
              "    </tr>\n",
              "    <tr>\n",
              "      <th>1</th>\n",
              "      <td>[Forest, fire, near, La, Ronge, Sask., Canada]</td>\n",
              "      <td>7</td>\n",
              "      <td>1</td>\n",
              "      <td>no_keyword</td>\n",
              "      <td>[]</td>\n",
              "    </tr>\n",
              "    <tr>\n",
              "      <th>2</th>\n",
              "      <td>[All, residents, asked, to, 'shelter, in, plac...</td>\n",
              "      <td>22</td>\n",
              "      <td>1</td>\n",
              "      <td>no_keyword</td>\n",
              "      <td>[]</td>\n",
              "    </tr>\n",
              "    <tr>\n",
              "      <th>3</th>\n",
              "      <td>[13,000, people, receive, #wildfires, evacuati...</td>\n",
              "      <td>8</td>\n",
              "      <td>1</td>\n",
              "      <td>no_keyword</td>\n",
              "      <td>[wildfires]</td>\n",
              "    </tr>\n",
              "    <tr>\n",
              "      <th>4</th>\n",
              "      <td>[Just, got, sent, this, photo, from, Ruby, #Al...</td>\n",
              "      <td>16</td>\n",
              "      <td>1</td>\n",
              "      <td>no_keyword</td>\n",
              "      <td>[Alaska, wildfires]</td>\n",
              "    </tr>\n",
              "    <tr>\n",
              "      <th>...</th>\n",
              "      <td>...</td>\n",
              "      <td>...</td>\n",
              "      <td>...</td>\n",
              "      <td>...</td>\n",
              "      <td>...</td>\n",
              "    </tr>\n",
              "    <tr>\n",
              "      <th>7608</th>\n",
              "      <td>[Two, giant, cranes, holding, a, bridge, colla...</td>\n",
              "      <td>11</td>\n",
              "      <td>1</td>\n",
              "      <td>no_keyword</td>\n",
              "      <td>[]</td>\n",
              "    </tr>\n",
              "    <tr>\n",
              "      <th>7609</th>\n",
              "      <td>[@aria_ahrary, @TheTawniest, The, out, of, con...</td>\n",
              "      <td>20</td>\n",
              "      <td>1</td>\n",
              "      <td>no_keyword</td>\n",
              "      <td>[]</td>\n",
              "    </tr>\n",
              "    <tr>\n",
              "      <th>7610</th>\n",
              "      <td>[M1.94, [01:04, UTC]?5km, S, of, Volcano, Hawa...</td>\n",
              "      <td>8</td>\n",
              "      <td>1</td>\n",
              "      <td>no_keyword</td>\n",
              "      <td>[]</td>\n",
              "    </tr>\n",
              "    <tr>\n",
              "      <th>7611</th>\n",
              "      <td>[Police, investigating, after, an, e-bike, col...</td>\n",
              "      <td>19</td>\n",
              "      <td>1</td>\n",
              "      <td>no_keyword</td>\n",
              "      <td>[]</td>\n",
              "    </tr>\n",
              "    <tr>\n",
              "      <th>7612</th>\n",
              "      <td>[The, Latest:, More, Homes, Razed, by, Norther...</td>\n",
              "      <td>13</td>\n",
              "      <td>1</td>\n",
              "      <td>no_keyword</td>\n",
              "      <td>[]</td>\n",
              "    </tr>\n",
              "  </tbody>\n",
              "</table>\n",
              "<p>7613 rows × 5 columns</p>\n",
              "</div>"
            ],
            "text/plain": [
              "                                             list_words  ...             hashtags\n",
              "0     [Our, Deeds, are, the, Reason, of, this, #eart...  ...         [earthquake]\n",
              "1        [Forest, fire, near, La, Ronge, Sask., Canada]  ...                   []\n",
              "2     [All, residents, asked, to, 'shelter, in, plac...  ...                   []\n",
              "3     [13,000, people, receive, #wildfires, evacuati...  ...          [wildfires]\n",
              "4     [Just, got, sent, this, photo, from, Ruby, #Al...  ...  [Alaska, wildfires]\n",
              "...                                                 ...  ...                  ...\n",
              "7608  [Two, giant, cranes, holding, a, bridge, colla...  ...                   []\n",
              "7609  [@aria_ahrary, @TheTawniest, The, out, of, con...  ...                   []\n",
              "7610  [M1.94, [01:04, UTC]?5km, S, of, Volcano, Hawa...  ...                   []\n",
              "7611  [Police, investigating, after, an, e-bike, col...  ...                   []\n",
              "7612  [The, Latest:, More, Homes, Razed, by, Norther...  ...                   []\n",
              "\n",
              "[7613 rows x 5 columns]"
            ]
          },
          "metadata": {
            "tags": []
          },
          "execution_count": 79
        }
      ]
    },
    {
      "cell_type": "markdown",
      "metadata": {
        "id": "bVciekiwFx5N",
        "colab_type": "text"
      },
      "source": [
        "Once we get a column with a list of hashtags per row it's possible to make some calculus related with this task:\n",
        "\n",
        "  -Number of hashtags per row\n",
        "\n",
        "  -Top 20 of used hashtags\n",
        "\n",
        "  -Relationships between hashtags and keyword\n",
        "\n",
        "  -Analyzing the rows with empty list in the hashtag column"
      ]
    },
    {
      "cell_type": "markdown",
      "metadata": {
        "id": "QX40VldwHWds",
        "colab_type": "text"
      },
      "source": [
        "##### Number of hashtags per row\n"
      ]
    },
    {
      "cell_type": "code",
      "metadata": {
        "id": "owqMrw2Gz-KQ",
        "colab_type": "code",
        "colab": {}
      },
      "source": [
        "text_df['number_of_hashtags'] = text_df['hashtags'].apply(lambda x: len(x)) "
      ],
      "execution_count": 0,
      "outputs": []
    },
    {
      "cell_type": "code",
      "metadata": {
        "id": "m4ElY0DHAUSh",
        "colab_type": "code",
        "outputId": "591f4b5a-0bb9-47c1-c8ce-351e3f5995e5",
        "colab": {
          "base_uri": "https://localhost:8080/",
          "height": 221
        }
      },
      "source": [
        "text_df[text_df['target']==1]['number_of_hashtags'].value_counts(normalize=True)*100.00"
      ],
      "execution_count": 81,
      "outputs": [
        {
          "output_type": "execute_result",
          "data": {
            "text/plain": [
              "0                   73.25\n",
              "1                   14.89\n",
              "2                    6.14\n",
              "3                    2.97\n",
              "4                    1.19\n",
              "5                    0.67\n",
              "10                   0.21\n",
              "8                    0.21\n",
              "6                    0.21\n",
              "13                   0.12\n",
              "7                    0.12\n",
              "Name: number_of_hashtags, dtype: float64"
            ]
          },
          "metadata": {
            "tags": []
          },
          "execution_count": 81
        }
      ]
    },
    {
      "cell_type": "code",
      "metadata": {
        "id": "rYembzZqERTw",
        "colab_type": "code",
        "outputId": "6c4f65ef-dfc6-4322-cab6-cbdaf38cde30",
        "colab": {
          "base_uri": "https://localhost:8080/",
          "height": 238
        }
      },
      "source": [
        "text_df[text_df['target']==0]['number_of_hashtags'].value_counts(normalize=True)*100.00"
      ],
      "execution_count": 82,
      "outputs": [
        {
          "output_type": "execute_result",
          "data": {
            "text/plain": [
              "0                   79.59\n",
              "1                   11.19\n",
              "2                    4.61\n",
              "3                    2.46\n",
              "4                    1.06\n",
              "6                    0.41\n",
              "5                    0.39\n",
              "7                    0.09\n",
              "10                   0.07\n",
              "11                   0.05\n",
              "9                    0.05\n",
              "8                    0.02\n",
              "Name: number_of_hashtags, dtype: float64"
            ]
          },
          "metadata": {
            "tags": []
          },
          "execution_count": 82
        }
      ]
    },
    {
      "cell_type": "code",
      "metadata": {
        "id": "ijH924WsEHQi",
        "colab_type": "code",
        "outputId": "0bebdea0-2709-4c10-c441-554f2143831c",
        "colab": {
          "base_uri": "https://localhost:8080/",
          "height": 474
        }
      },
      "source": [
        "#Plotting the number of hashtags by target for number_of_hashtags>0\n",
        "sns.kdeplot(text_df[(text_df['target']==1) & (text_df['number_of_hashtags']>0)]['number_of_hashtags'], color='green', label='Real', shade=True)\n",
        "sns.kdeplot(text_df[(text_df['target']==0) & (text_df['number_of_hashtags']>0)]['number_of_hashtags'], color='grey', label='Not Real', shade=True)  \n",
        "plt.title('Overlaid Density Plot: Number of hashtags by target for number_of_hashtags>0')"
      ],
      "execution_count": 83,
      "outputs": [
        {
          "output_type": "execute_result",
          "data": {
            "text/plain": [
              "Text(0.5, 1.0, 'Overlaid Density Plot: Number of hashtags by target for number_of_hashtags>0')"
            ]
          },
          "metadata": {
            "tags": []
          },
          "execution_count": 83
        },
        {
          "output_type": "display_data",
          "data": {
            "image/png": "[encoded data removed]",
            "text/plain": [
              "<Figure size 640x480 with 1 Axes>"
            ]
          },
          "metadata": {
            "tags": []
          }
        }
      ]
    },
    {
      "cell_type": "markdown",
      "metadata": {
        "id": "Q3mRLqTWM5cO",
        "colab_type": "text"
      },
      "source": [
        "##### Top 20 used hashtags (don't do it yet)\n"
      ]
    },
    {
      "cell_type": "code",
      "metadata": {
        "id": "RmOvXaGENC54",
        "colab_type": "code",
        "colab": {}
      },
      "source": [
        ""
      ],
      "execution_count": 0,
      "outputs": []
    },
    {
      "cell_type": "markdown",
      "metadata": {
        "id": "YnmS6PyVIrlS",
        "colab_type": "text"
      },
      "source": [
        "##### Relationships between keyword and hashtag"
      ]
    },
    {
      "cell_type": "markdown",
      "metadata": {
        "id": "UtKdaG7wI3K_",
        "colab_type": "text"
      },
      "source": [
        "Is the `keyword` in the `hashtag` column? (under construction)"
      ]
    },
    {
      "cell_type": "code",
      "metadata": {
        "id": "NCca-Gc-JYJP",
        "colab_type": "code",
        "colab": {}
      },
      "source": [
        "#Creating a function that returns a binary list of ones or zero if meets the condition or not and the position of the keyword in the list of hashtags. \n",
        "def func(valueA, listB):\n",
        "    new_list = []\n",
        "    for i in range(len(listB)): \n",
        "        if listB[i] == valueA:\n",
        "            new_list.append(1)\n",
        "        else:\n",
        "            new_list.append(0)\n",
        "    return new_list"
      ],
      "execution_count": 0,
      "outputs": []
    },
    {
      "cell_type": "code",
      "metadata": {
        "id": "HaujaeK41b6m",
        "colab_type": "code",
        "colab": {
          "base_uri": "https://localhost:8080/",
          "height": 419
        },
        "outputId": "9c3f96f3-aa7e-4a5d-aa9b-b6a539600db6"
      },
      "source": [
        "#Creating a new column of binary lists that indicates if the keyword is in the hashtags\n",
        "text_df['keyword_in_hashtag']=text_df.apply(lambda x: func(x.keyword,x.hashtags), axis=1)\n",
        "text_df"
      ],
      "execution_count": 86,
      "outputs": [
        {
          "output_type": "execute_result",
          "data": {
            "text/html": [
              "<div>\n",
              "<style scoped>\n",
              "    .dataframe tbody tr th:only-of-type {\n",
              "        vertical-align: middle;\n",
              "    }\n",
              "\n",
              "    .dataframe tbody tr th {\n",
              "        vertical-align: top;\n",
              "    }\n",
              "\n",
              "    .dataframe thead th {\n",
              "        text-align: right;\n",
              "    }\n",
              "</style>\n",
              "<table border=\"1\" class=\"dataframe\">\n",
              "  <thead>\n",
              "    <tr style=\"text-align: right;\">\n",
              "      <th></th>\n",
              "      <th>list_words</th>\n",
              "      <th>words_count</th>\n",
              "      <th>target</th>\n",
              "      <th>keyword</th>\n",
              "      <th>hashtags</th>\n",
              "      <th>number_of_hashtags</th>\n",
              "      <th>keyword_in_hashtag</th>\n",
              "    </tr>\n",
              "  </thead>\n",
              "  <tbody>\n",
              "    <tr>\n",
              "      <th>0</th>\n",
              "      <td>[Our, Deeds, are, the, Reason, of, this, #eart...</td>\n",
              "      <td>13</td>\n",
              "      <td>1</td>\n",
              "      <td>no_keyword</td>\n",
              "      <td>[earthquake]</td>\n",
              "      <td>1</td>\n",
              "      <td>[0]</td>\n",
              "    </tr>\n",
              "    <tr>\n",
              "      <th>1</th>\n",
              "      <td>[Forest, fire, near, La, Ronge, Sask., Canada]</td>\n",
              "      <td>7</td>\n",
              "      <td>1</td>\n",
              "      <td>no_keyword</td>\n",
              "      <td>[]</td>\n",
              "      <td>0</td>\n",
              "      <td>[]</td>\n",
              "    </tr>\n",
              "    <tr>\n",
              "      <th>2</th>\n",
              "      <td>[All, residents, asked, to, 'shelter, in, plac...</td>\n",
              "      <td>22</td>\n",
              "      <td>1</td>\n",
              "      <td>no_keyword</td>\n",
              "      <td>[]</td>\n",
              "      <td>0</td>\n",
              "      <td>[]</td>\n",
              "    </tr>\n",
              "    <tr>\n",
              "      <th>3</th>\n",
              "      <td>[13,000, people, receive, #wildfires, evacuati...</td>\n",
              "      <td>8</td>\n",
              "      <td>1</td>\n",
              "      <td>no_keyword</td>\n",
              "      <td>[wildfires]</td>\n",
              "      <td>1</td>\n",
              "      <td>[0]</td>\n",
              "    </tr>\n",
              "    <tr>\n",
              "      <th>4</th>\n",
              "      <td>[Just, got, sent, this, photo, from, Ruby, #Al...</td>\n",
              "      <td>16</td>\n",
              "      <td>1</td>\n",
              "      <td>no_keyword</td>\n",
              "      <td>[Alaska, wildfires]</td>\n",
              "      <td>2</td>\n",
              "      <td>[0, 0]</td>\n",
              "    </tr>\n",
              "    <tr>\n",
              "      <th>...</th>\n",
              "      <td>...</td>\n",
              "      <td>...</td>\n",
              "      <td>...</td>\n",
              "      <td>...</td>\n",
              "      <td>...</td>\n",
              "      <td>...</td>\n",
              "      <td>...</td>\n",
              "    </tr>\n",
              "    <tr>\n",
              "      <th>7608</th>\n",
              "      <td>[Two, giant, cranes, holding, a, bridge, colla...</td>\n",
              "      <td>11</td>\n",
              "      <td>1</td>\n",
              "      <td>no_keyword</td>\n",
              "      <td>[]</td>\n",
              "      <td>0</td>\n",
              "      <td>[]</td>\n",
              "    </tr>\n",
              "    <tr>\n",
              "      <th>7609</th>\n",
              "      <td>[@aria_ahrary, @TheTawniest, The, out, of, con...</td>\n",
              "      <td>20</td>\n",
              "      <td>1</td>\n",
              "      <td>no_keyword</td>\n",
              "      <td>[]</td>\n",
              "      <td>0</td>\n",
              "      <td>[]</td>\n",
              "    </tr>\n",
              "    <tr>\n",
              "      <th>7610</th>\n",
              "      <td>[M1.94, [01:04, UTC]?5km, S, of, Volcano, Hawa...</td>\n",
              "      <td>8</td>\n",
              "      <td>1</td>\n",
              "      <td>no_keyword</td>\n",
              "      <td>[]</td>\n",
              "      <td>0</td>\n",
              "      <td>[]</td>\n",
              "    </tr>\n",
              "    <tr>\n",
              "      <th>7611</th>\n",
              "      <td>[Police, investigating, after, an, e-bike, col...</td>\n",
              "      <td>19</td>\n",
              "      <td>1</td>\n",
              "      <td>no_keyword</td>\n",
              "      <td>[]</td>\n",
              "      <td>0</td>\n",
              "      <td>[]</td>\n",
              "    </tr>\n",
              "    <tr>\n",
              "      <th>7612</th>\n",
              "      <td>[The, Latest:, More, Homes, Razed, by, Norther...</td>\n",
              "      <td>13</td>\n",
              "      <td>1</td>\n",
              "      <td>no_keyword</td>\n",
              "      <td>[]</td>\n",
              "      <td>0</td>\n",
              "      <td>[]</td>\n",
              "    </tr>\n",
              "  </tbody>\n",
              "</table>\n",
              "<p>7613 rows × 7 columns</p>\n",
              "</div>"
            ],
            "text/plain": [
              "                                             list_words  ...  keyword_in_hashtag\n",
              "0     [Our, Deeds, are, the, Reason, of, this, #eart...  ...                 [0]\n",
              "1        [Forest, fire, near, La, Ronge, Sask., Canada]  ...                  []\n",
              "2     [All, residents, asked, to, 'shelter, in, plac...  ...                  []\n",
              "3     [13,000, people, receive, #wildfires, evacuati...  ...                 [0]\n",
              "4     [Just, got, sent, this, photo, from, Ruby, #Al...  ...              [0, 0]\n",
              "...                                                 ...  ...                 ...\n",
              "7608  [Two, giant, cranes, holding, a, bridge, colla...  ...                  []\n",
              "7609  [@aria_ahrary, @TheTawniest, The, out, of, con...  ...                  []\n",
              "7610  [M1.94, [01:04, UTC]?5km, S, of, Volcano, Hawa...  ...                  []\n",
              "7611  [Police, investigating, after, an, e-bike, col...  ...                  []\n",
              "7612  [The, Latest:, More, Homes, Razed, by, Norther...  ...                  []\n",
              "\n",
              "[7613 rows x 7 columns]"
            ]
          },
          "metadata": {
            "tags": []
          },
          "execution_count": 86
        }
      ]
    },
    {
      "cell_type": "code",
      "metadata": {
        "id": "_Zbexfg041O6",
        "colab_type": "code",
        "colab": {
          "base_uri": "https://localhost:8080/",
          "height": 419
        },
        "outputId": "eaabcc9a-e13e-414c-f764-244e996ab272"
      },
      "source": [
        "#Getting a subset with keyword!='no_keyword' and keyword_in_hashtag!=[]\n",
        "text_df[(text_df.apply(lambda x: x.keyword_in_hashtag!=[], axis=1)) & (text_df.loc[:,'keyword']!='no_keyword')]"
      ],
      "execution_count": 111,
      "outputs": [
        {
          "output_type": "execute_result",
          "data": {
            "text/html": [
              "<div>\n",
              "<style scoped>\n",
              "    .dataframe tbody tr th:only-of-type {\n",
              "        vertical-align: middle;\n",
              "    }\n",
              "\n",
              "    .dataframe tbody tr th {\n",
              "        vertical-align: top;\n",
              "    }\n",
              "\n",
              "    .dataframe thead th {\n",
              "        text-align: right;\n",
              "    }\n",
              "</style>\n",
              "<table border=\"1\" class=\"dataframe\">\n",
              "  <thead>\n",
              "    <tr style=\"text-align: right;\">\n",
              "      <th></th>\n",
              "      <th>list_words</th>\n",
              "      <th>words_count</th>\n",
              "      <th>target</th>\n",
              "      <th>keyword</th>\n",
              "      <th>hashtags</th>\n",
              "      <th>number_of_hashtags</th>\n",
              "      <th>keyword_in_hashtag</th>\n",
              "    </tr>\n",
              "  </thead>\n",
              "  <tbody>\n",
              "    <tr>\n",
              "      <th>32</th>\n",
              "      <td>[We, always, try, to, bring, the, heavy., #met...</td>\n",
              "      <td>10</td>\n",
              "      <td>0</td>\n",
              "      <td>ablaze</td>\n",
              "      <td>[metal, RT]</td>\n",
              "      <td>2</td>\n",
              "      <td>[0, 0]</td>\n",
              "    </tr>\n",
              "    <tr>\n",
              "      <th>33</th>\n",
              "      <td>[#AFRICANBAZE:, Breaking, news:Nigeria, flag, ...</td>\n",
              "      <td>9</td>\n",
              "      <td>1</td>\n",
              "      <td>ablaze</td>\n",
              "      <td>[AFRICANBAZE:]</td>\n",
              "      <td>1</td>\n",
              "      <td>[0]</td>\n",
              "    </tr>\n",
              "    <tr>\n",
              "      <th>36</th>\n",
              "      <td>[@PhDSquares, #mufc, they've, built, so, much,...</td>\n",
              "      <td>21</td>\n",
              "      <td>0</td>\n",
              "      <td>ablaze</td>\n",
              "      <td>[mufc]</td>\n",
              "      <td>1</td>\n",
              "      <td>[0]</td>\n",
              "    </tr>\n",
              "    <tr>\n",
              "      <th>38</th>\n",
              "      <td>[Barbados, #Bridgetown, JAMAICA, ÛÒ, Two, car...</td>\n",
              "      <td>19</td>\n",
              "      <td>1</td>\n",
              "      <td>ablaze</td>\n",
              "      <td>[Bridgetown]</td>\n",
              "      <td>1</td>\n",
              "      <td>[0]</td>\n",
              "    </tr>\n",
              "    <tr>\n",
              "      <th>40</th>\n",
              "      <td>[Check, these, out:, http://t.co/rOI2NSmEJJ, h...</td>\n",
              "      <td>8</td>\n",
              "      <td>0</td>\n",
              "      <td>ablaze</td>\n",
              "      <td>[nsfw]</td>\n",
              "      <td>1</td>\n",
              "      <td>[0]</td>\n",
              "    </tr>\n",
              "    <tr>\n",
              "      <th>...</th>\n",
              "      <td>...</td>\n",
              "      <td>...</td>\n",
              "      <td>...</td>\n",
              "      <td>...</td>\n",
              "      <td>...</td>\n",
              "      <td>...</td>\n",
              "      <td>...</td>\n",
              "    </tr>\n",
              "    <tr>\n",
              "      <th>7554</th>\n",
              "      <td>[James, Kunstler:, How, bad, architecture, wre...</td>\n",
              "      <td>11</td>\n",
              "      <td>0</td>\n",
              "      <td>wrecked</td>\n",
              "      <td>[residualincome, mlm]</td>\n",
              "      <td>2</td>\n",
              "      <td>[0, 0]</td>\n",
              "    </tr>\n",
              "    <tr>\n",
              "      <th>7558</th>\n",
              "      <td>[coleslaw, #wrecked, http://t.co/sijNBmCZIJ]</td>\n",
              "      <td>3</td>\n",
              "      <td>0</td>\n",
              "      <td>wrecked</td>\n",
              "      <td>[wrecked]</td>\n",
              "      <td>1</td>\n",
              "      <td>[1]</td>\n",
              "    </tr>\n",
              "    <tr>\n",
              "      <th>7570</th>\n",
              "      <td>[Cramer:, Iger's, 3, words, that, wrecked, Dis...</td>\n",
              "      <td>11</td>\n",
              "      <td>0</td>\n",
              "      <td>wrecked</td>\n",
              "      <td>[cnbc, topnews]</td>\n",
              "      <td>2</td>\n",
              "      <td>[0, 0]</td>\n",
              "    </tr>\n",
              "    <tr>\n",
              "      <th>7577</th>\n",
              "      <td>[@widda16, ..., He's, gone., You, can, relax.,...</td>\n",
              "      <td>21</td>\n",
              "      <td>0</td>\n",
              "      <td>wrecked</td>\n",
              "      <td>[whoops]</td>\n",
              "      <td>1</td>\n",
              "      <td>[0]</td>\n",
              "    </tr>\n",
              "    <tr>\n",
              "      <th>7580</th>\n",
              "      <td>[#FX, #forex, #trading, Cramer:, Iger's, 3, wo...</td>\n",
              "      <td>12</td>\n",
              "      <td>0</td>\n",
              "      <td>wrecked</td>\n",
              "      <td>[FX, forex, trading]</td>\n",
              "      <td>3</td>\n",
              "      <td>[0, 0, 0]</td>\n",
              "    </tr>\n",
              "  </tbody>\n",
              "</table>\n",
              "<p>1740 rows × 7 columns</p>\n",
              "</div>"
            ],
            "text/plain": [
              "                                             list_words  ...  keyword_in_hashtag\n",
              "32    [We, always, try, to, bring, the, heavy., #met...  ...              [0, 0]\n",
              "33    [#AFRICANBAZE:, Breaking, news:Nigeria, flag, ...  ...                 [0]\n",
              "36    [@PhDSquares, #mufc, they've, built, so, much,...  ...                 [0]\n",
              "38    [Barbados, #Bridgetown, JAMAICA, ÛÒ, Two, car...  ...                 [0]\n",
              "40    [Check, these, out:, http://t.co/rOI2NSmEJJ, h...  ...                 [0]\n",
              "...                                                 ...  ...                 ...\n",
              "7554  [James, Kunstler:, How, bad, architecture, wre...  ...              [0, 0]\n",
              "7558       [coleslaw, #wrecked, http://t.co/sijNBmCZIJ]  ...                 [1]\n",
              "7570  [Cramer:, Iger's, 3, words, that, wrecked, Dis...  ...              [0, 0]\n",
              "7577  [@widda16, ..., He's, gone., You, can, relax.,...  ...                 [0]\n",
              "7580  [#FX, #forex, #trading, Cramer:, Iger's, 3, wo...  ...           [0, 0, 0]\n",
              "\n",
              "[1740 rows x 7 columns]"
            ]
          },
          "metadata": {
            "tags": []
          },
          "execution_count": 111
        }
      ]
    },
    {
      "cell_type": "code",
      "metadata": {
        "id": "8HsAnSPn_ipp",
        "colab_type": "code",
        "colab": {
          "base_uri": "https://localhost:8080/",
          "height": 34
        },
        "outputId": "034df110-5fc3-42b8-e81e-ec3ddd61c0e4"
      },
      "source": [
        "#It's a subset of 1740 rows. \n",
        "len(text_df[(text_df.apply(lambda x: x.keyword_in_hashtag!=[], axis=1)) & (text_df.loc[:,'keyword']!='no_keyword')])"
      ],
      "execution_count": 112,
      "outputs": [
        {
          "output_type": "execute_result",
          "data": {
            "text/plain": [
              "1740"
            ]
          },
          "metadata": {
            "tags": []
          },
          "execution_count": 112
        }
      ]
    },
    {
      "cell_type": "code",
      "metadata": {
        "id": "JRrDCzZlAGMM",
        "colab_type": "code",
        "colab": {
          "base_uri": "https://localhost:8080/",
          "height": 419
        },
        "outputId": "e66266a8-5790-4695-f084-ca3e762221bd"
      },
      "source": [
        "#A subset with keyword in hashtag\n",
        "text_df[text_df.apply(lambda x: sum(x.keyword_in_hashtag)==1, axis=1)]"
      ],
      "execution_count": 137,
      "outputs": [
        {
          "output_type": "execute_result",
          "data": {
            "text/html": [
              "<div>\n",
              "<style scoped>\n",
              "    .dataframe tbody tr th:only-of-type {\n",
              "        vertical-align: middle;\n",
              "    }\n",
              "\n",
              "    .dataframe tbody tr th {\n",
              "        vertical-align: top;\n",
              "    }\n",
              "\n",
              "    .dataframe thead th {\n",
              "        text-align: right;\n",
              "    }\n",
              "</style>\n",
              "<table border=\"1\" class=\"dataframe\">\n",
              "  <thead>\n",
              "    <tr style=\"text-align: right;\">\n",
              "      <th></th>\n",
              "      <th>list_words</th>\n",
              "      <th>words_count</th>\n",
              "      <th>target</th>\n",
              "      <th>keyword</th>\n",
              "      <th>hashtags</th>\n",
              "      <th>number_of_hashtags</th>\n",
              "      <th>keyword_in_hashtag</th>\n",
              "    </tr>\n",
              "  </thead>\n",
              "  <tbody>\n",
              "    <tr>\n",
              "      <th>122</th>\n",
              "      <td>[That, moment, when, you, get, on, a, scary, r...</td>\n",
              "      <td>23</td>\n",
              "      <td>0</td>\n",
              "      <td>aftershock</td>\n",
              "      <td>[silverwood, aftershock]</td>\n",
              "      <td>2</td>\n",
              "      <td>[0, 1]</td>\n",
              "    </tr>\n",
              "    <tr>\n",
              "      <th>189</th>\n",
              "      <td>[EMS1:, NY, EMTs, petition, for, $17, per, hou...</td>\n",
              "      <td>14</td>\n",
              "      <td>0</td>\n",
              "      <td>ambulance</td>\n",
              "      <td>[ems, paramedics, ambulance]</td>\n",
              "      <td>3</td>\n",
              "      <td>[0, 0, 1]</td>\n",
              "    </tr>\n",
              "    <tr>\n",
              "      <th>612</th>\n",
              "      <td>[#anthrax, #bioterrorism, CDC, To, Carry, Out,...</td>\n",
              "      <td>16</td>\n",
              "      <td>1</td>\n",
              "      <td>bioterrorism</td>\n",
              "      <td>[anthrax, bioterrorism]</td>\n",
              "      <td>2</td>\n",
              "      <td>[0, 1]</td>\n",
              "    </tr>\n",
              "    <tr>\n",
              "      <th>616</th>\n",
              "      <td>[A, Tale, of, Two, Pox, -, Body, Horrors, http...</td>\n",
              "      <td>12</td>\n",
              "      <td>1</td>\n",
              "      <td>bioterrorism</td>\n",
              "      <td>[virus, infectiousdiseases, bioterrorism]</td>\n",
              "      <td>3</td>\n",
              "      <td>[0, 0, 1]</td>\n",
              "    </tr>\n",
              "    <tr>\n",
              "      <th>639</th>\n",
              "      <td>[#bioterrorism, Authorities, allay, #glanders,...</td>\n",
              "      <td>15</td>\n",
              "      <td>1</td>\n",
              "      <td>bioterrorism</td>\n",
              "      <td>[bioterrorism, glanders]</td>\n",
              "      <td>2</td>\n",
              "      <td>[1, 0]</td>\n",
              "    </tr>\n",
              "    <tr>\n",
              "      <th>...</th>\n",
              "      <td>...</td>\n",
              "      <td>...</td>\n",
              "      <td>...</td>\n",
              "      <td>...</td>\n",
              "      <td>...</td>\n",
              "      <td>...</td>\n",
              "      <td>...</td>\n",
              "    </tr>\n",
              "    <tr>\n",
              "      <th>7280</th>\n",
              "      <td>[Feel, like, I've, got, no, control, of, anyth...</td>\n",
              "      <td>19</td>\n",
              "      <td>1</td>\n",
              "      <td>whirlwind</td>\n",
              "      <td>[whirlwind, drained]</td>\n",
              "      <td>2</td>\n",
              "      <td>[1, 0]</td>\n",
              "    </tr>\n",
              "    <tr>\n",
              "      <th>7340</th>\n",
              "      <td>[Dr., Bengston, on, #wildfire, management:, Û...</td>\n",
              "      <td>22</td>\n",
              "      <td>1</td>\n",
              "      <td>wildfire</td>\n",
              "      <td>[wildfire, smem]</td>\n",
              "      <td>2</td>\n",
              "      <td>[1, 0]</td>\n",
              "    </tr>\n",
              "    <tr>\n",
              "      <th>7350</th>\n",
              "      <td>[This, machine, really, captured, my, attentio...</td>\n",
              "      <td>12</td>\n",
              "      <td>1</td>\n",
              "      <td>wildfire</td>\n",
              "      <td>[helicopter, firefighting, wildfire, oregon, e...</td>\n",
              "      <td>5</td>\n",
              "      <td>[0, 0, 1, 0, 0]</td>\n",
              "    </tr>\n",
              "    <tr>\n",
              "      <th>7357</th>\n",
              "      <td>[#California, #wildfire, destroys, more, homes...</td>\n",
              "      <td>10</td>\n",
              "      <td>1</td>\n",
              "      <td>wildfire</td>\n",
              "      <td>[California, wildfire]</td>\n",
              "      <td>2</td>\n",
              "      <td>[0, 1]</td>\n",
              "    </tr>\n",
              "    <tr>\n",
              "      <th>7558</th>\n",
              "      <td>[coleslaw, #wrecked, http://t.co/sijNBmCZIJ]</td>\n",
              "      <td>3</td>\n",
              "      <td>0</td>\n",
              "      <td>wrecked</td>\n",
              "      <td>[wrecked]</td>\n",
              "      <td>1</td>\n",
              "      <td>[1]</td>\n",
              "    </tr>\n",
              "  </tbody>\n",
              "</table>\n",
              "<p>76 rows × 7 columns</p>\n",
              "</div>"
            ],
            "text/plain": [
              "                                             list_words  ...  keyword_in_hashtag\n",
              "122   [That, moment, when, you, get, on, a, scary, r...  ...              [0, 1]\n",
              "189   [EMS1:, NY, EMTs, petition, for, $17, per, hou...  ...           [0, 0, 1]\n",
              "612   [#anthrax, #bioterrorism, CDC, To, Carry, Out,...  ...              [0, 1]\n",
              "616   [A, Tale, of, Two, Pox, -, Body, Horrors, http...  ...           [0, 0, 1]\n",
              "639   [#bioterrorism, Authorities, allay, #glanders,...  ...              [1, 0]\n",
              "...                                                 ...  ...                 ...\n",
              "7280  [Feel, like, I've, got, no, control, of, anyth...  ...              [1, 0]\n",
              "7340  [Dr., Bengston, on, #wildfire, management:, Û...  ...              [1, 0]\n",
              "7350  [This, machine, really, captured, my, attentio...  ...     [0, 0, 1, 0, 0]\n",
              "7357  [#California, #wildfire, destroys, more, homes...  ...              [0, 1]\n",
              "7558       [coleslaw, #wrecked, http://t.co/sijNBmCZIJ]  ...                 [1]\n",
              "\n",
              "[76 rows x 7 columns]"
            ]
          },
          "metadata": {
            "tags": []
          },
          "execution_count": 137
        }
      ]
    },
    {
      "cell_type": "code",
      "metadata": {
        "id": "GRZYPahaFxJd",
        "colab_type": "code",
        "colab": {
          "base_uri": "https://localhost:8080/",
          "height": 136
        },
        "outputId": "66858960-003b-4597-eb01-61b98a9523c2"
      },
      "source": [
        "#has only 76 rows and 44 of them are target = 1\n",
        "print('This subset has ',len(text_df[text_df.apply(lambda x: sum(x.keyword_in_hashtag)==1, axis=1)]),'rows')\n",
        "print(('-')*75)\n",
        "print('The value counts of target is \\n',text_df[text_df.apply(lambda x: sum(x.keyword_in_hashtag)==1, axis=1)]['target'].value_counts())\n",
        "print(('-')*75)"
      ],
      "execution_count": 144,
      "outputs": [
        {
          "output_type": "stream",
          "text": [
            "This subset has  76 rows\n",
            "---------------------------------------------------------------------------\n",
            "The value counts of target is \n",
            " 1    44\n",
            "0    32\n",
            "Name: target, dtype: int64\n",
            "---------------------------------------------------------------------------\n"
          ],
          "name": "stdout"
        }
      ]
    },
    {
      "cell_type": "code",
      "metadata": {
        "id": "gzV0iEuhB3R0",
        "colab_type": "code",
        "colab": {
          "base_uri": "https://localhost:8080/",
          "height": 589
        },
        "outputId": "8d578d65-1dea-46e9-f6c4-6eb435777cd4"
      },
      "source": [
        "text_df['bool_key_in_hash']=text_df.apply(lambda x: sum(x.keyword_in_hashtag)==1, axis=1)\n",
        "text_df"
      ],
      "execution_count": 149,
      "outputs": [
        {
          "output_type": "execute_result",
          "data": {
            "text/html": [
              "<div>\n",
              "<style scoped>\n",
              "    .dataframe tbody tr th:only-of-type {\n",
              "        vertical-align: middle;\n",
              "    }\n",
              "\n",
              "    .dataframe tbody tr th {\n",
              "        vertical-align: top;\n",
              "    }\n",
              "\n",
              "    .dataframe thead th {\n",
              "        text-align: right;\n",
              "    }\n",
              "</style>\n",
              "<table border=\"1\" class=\"dataframe\">\n",
              "  <thead>\n",
              "    <tr style=\"text-align: right;\">\n",
              "      <th></th>\n",
              "      <th>list_words</th>\n",
              "      <th>words_count</th>\n",
              "      <th>target</th>\n",
              "      <th>keyword</th>\n",
              "      <th>hashtags</th>\n",
              "      <th>number_of_hashtags</th>\n",
              "      <th>keyword_in_hashtag</th>\n",
              "      <th>sum_key_in_hash</th>\n",
              "      <th>bool_key_in_hash</th>\n",
              "    </tr>\n",
              "  </thead>\n",
              "  <tbody>\n",
              "    <tr>\n",
              "      <th>0</th>\n",
              "      <td>[Our, Deeds, are, the, Reason, of, this, #eart...</td>\n",
              "      <td>13</td>\n",
              "      <td>1</td>\n",
              "      <td>no_keyword</td>\n",
              "      <td>[earthquake]</td>\n",
              "      <td>1</td>\n",
              "      <td>[0]</td>\n",
              "      <td>False</td>\n",
              "      <td>False</td>\n",
              "    </tr>\n",
              "    <tr>\n",
              "      <th>1</th>\n",
              "      <td>[Forest, fire, near, La, Ronge, Sask., Canada]</td>\n",
              "      <td>7</td>\n",
              "      <td>1</td>\n",
              "      <td>no_keyword</td>\n",
              "      <td>[]</td>\n",
              "      <td>0</td>\n",
              "      <td>[]</td>\n",
              "      <td>False</td>\n",
              "      <td>False</td>\n",
              "    </tr>\n",
              "    <tr>\n",
              "      <th>2</th>\n",
              "      <td>[All, residents, asked, to, 'shelter, in, plac...</td>\n",
              "      <td>22</td>\n",
              "      <td>1</td>\n",
              "      <td>no_keyword</td>\n",
              "      <td>[]</td>\n",
              "      <td>0</td>\n",
              "      <td>[]</td>\n",
              "      <td>False</td>\n",
              "      <td>False</td>\n",
              "    </tr>\n",
              "    <tr>\n",
              "      <th>3</th>\n",
              "      <td>[13,000, people, receive, #wildfires, evacuati...</td>\n",
              "      <td>8</td>\n",
              "      <td>1</td>\n",
              "      <td>no_keyword</td>\n",
              "      <td>[wildfires]</td>\n",
              "      <td>1</td>\n",
              "      <td>[0]</td>\n",
              "      <td>False</td>\n",
              "      <td>False</td>\n",
              "    </tr>\n",
              "    <tr>\n",
              "      <th>4</th>\n",
              "      <td>[Just, got, sent, this, photo, from, Ruby, #Al...</td>\n",
              "      <td>16</td>\n",
              "      <td>1</td>\n",
              "      <td>no_keyword</td>\n",
              "      <td>[Alaska, wildfires]</td>\n",
              "      <td>2</td>\n",
              "      <td>[0, 0]</td>\n",
              "      <td>False</td>\n",
              "      <td>False</td>\n",
              "    </tr>\n",
              "    <tr>\n",
              "      <th>...</th>\n",
              "      <td>...</td>\n",
              "      <td>...</td>\n",
              "      <td>...</td>\n",
              "      <td>...</td>\n",
              "      <td>...</td>\n",
              "      <td>...</td>\n",
              "      <td>...</td>\n",
              "      <td>...</td>\n",
              "      <td>...</td>\n",
              "    </tr>\n",
              "    <tr>\n",
              "      <th>7608</th>\n",
              "      <td>[Two, giant, cranes, holding, a, bridge, colla...</td>\n",
              "      <td>11</td>\n",
              "      <td>1</td>\n",
              "      <td>no_keyword</td>\n",
              "      <td>[]</td>\n",
              "      <td>0</td>\n",
              "      <td>[]</td>\n",
              "      <td>False</td>\n",
              "      <td>False</td>\n",
              "    </tr>\n",
              "    <tr>\n",
              "      <th>7609</th>\n",
              "      <td>[@aria_ahrary, @TheTawniest, The, out, of, con...</td>\n",
              "      <td>20</td>\n",
              "      <td>1</td>\n",
              "      <td>no_keyword</td>\n",
              "      <td>[]</td>\n",
              "      <td>0</td>\n",
              "      <td>[]</td>\n",
              "      <td>False</td>\n",
              "      <td>False</td>\n",
              "    </tr>\n",
              "    <tr>\n",
              "      <th>7610</th>\n",
              "      <td>[M1.94, [01:04, UTC]?5km, S, of, Volcano, Hawa...</td>\n",
              "      <td>8</td>\n",
              "      <td>1</td>\n",
              "      <td>no_keyword</td>\n",
              "      <td>[]</td>\n",
              "      <td>0</td>\n",
              "      <td>[]</td>\n",
              "      <td>False</td>\n",
              "      <td>False</td>\n",
              "    </tr>\n",
              "    <tr>\n",
              "      <th>7611</th>\n",
              "      <td>[Police, investigating, after, an, e-bike, col...</td>\n",
              "      <td>19</td>\n",
              "      <td>1</td>\n",
              "      <td>no_keyword</td>\n",
              "      <td>[]</td>\n",
              "      <td>0</td>\n",
              "      <td>[]</td>\n",
              "      <td>False</td>\n",
              "      <td>False</td>\n",
              "    </tr>\n",
              "    <tr>\n",
              "      <th>7612</th>\n",
              "      <td>[The, Latest:, More, Homes, Razed, by, Norther...</td>\n",
              "      <td>13</td>\n",
              "      <td>1</td>\n",
              "      <td>no_keyword</td>\n",
              "      <td>[]</td>\n",
              "      <td>0</td>\n",
              "      <td>[]</td>\n",
              "      <td>False</td>\n",
              "      <td>False</td>\n",
              "    </tr>\n",
              "  </tbody>\n",
              "</table>\n",
              "<p>7613 rows × 9 columns</p>\n",
              "</div>"
            ],
            "text/plain": [
              "                                             list_words  ...  bool_key_in_hash\n",
              "0     [Our, Deeds, are, the, Reason, of, this, #eart...  ...             False\n",
              "1        [Forest, fire, near, La, Ronge, Sask., Canada]  ...             False\n",
              "2     [All, residents, asked, to, 'shelter, in, plac...  ...             False\n",
              "3     [13,000, people, receive, #wildfires, evacuati...  ...             False\n",
              "4     [Just, got, sent, this, photo, from, Ruby, #Al...  ...             False\n",
              "...                                                 ...  ...               ...\n",
              "7608  [Two, giant, cranes, holding, a, bridge, colla...  ...             False\n",
              "7609  [@aria_ahrary, @TheTawniest, The, out, of, con...  ...             False\n",
              "7610  [M1.94, [01:04, UTC]?5km, S, of, Volcano, Hawa...  ...             False\n",
              "7611  [Police, investigating, after, an, e-bike, col...  ...             False\n",
              "7612  [The, Latest:, More, Homes, Razed, by, Norther...  ...             False\n",
              "\n",
              "[7613 rows x 9 columns]"
            ]
          },
          "metadata": {
            "tags": []
          },
          "execution_count": 149
        }
      ]
    },
    {
      "cell_type": "code",
      "metadata": {
        "id": "rLjW9aH4Idrt",
        "colab_type": "code",
        "colab": {
          "base_uri": "https://localhost:8080/",
          "height": 111
        },
        "outputId": "42afaddd-113e-428c-cbbb-98998a3b86b4"
      },
      "source": [
        "#Correlation \n",
        "text_df[['target','bool_key_in_hash']].corr()"
      ],
      "execution_count": 155,
      "outputs": [
        {
          "output_type": "execute_result",
          "data": {
            "text/html": [
              "<div>\n",
              "<style scoped>\n",
              "    .dataframe tbody tr th:only-of-type {\n",
              "        vertical-align: middle;\n",
              "    }\n",
              "\n",
              "    .dataframe tbody tr th {\n",
              "        vertical-align: top;\n",
              "    }\n",
              "\n",
              "    .dataframe thead th {\n",
              "        text-align: right;\n",
              "    }\n",
              "</style>\n",
              "<table border=\"1\" class=\"dataframe\">\n",
              "  <thead>\n",
              "    <tr style=\"text-align: right;\">\n",
              "      <th></th>\n",
              "      <th>target</th>\n",
              "      <th>bool_key_in_hash</th>\n",
              "    </tr>\n",
              "  </thead>\n",
              "  <tbody>\n",
              "    <tr>\n",
              "      <th>target</th>\n",
              "      <td>1.00</td>\n",
              "      <td>0.03</td>\n",
              "    </tr>\n",
              "    <tr>\n",
              "      <th>bool_key_in_hash</th>\n",
              "      <td>0.03</td>\n",
              "      <td>1.00</td>\n",
              "    </tr>\n",
              "  </tbody>\n",
              "</table>\n",
              "</div>"
            ],
            "text/plain": [
              "                               target     bool_key_in_hash\n",
              "target                           1.00                 0.03\n",
              "bool_key_in_hash                 0.03                 1.00"
            ]
          },
          "metadata": {
            "tags": []
          },
          "execution_count": 155
        }
      ]
    },
    {
      "cell_type": "code",
      "metadata": {
        "id": "k2ZytLz8KLzR",
        "colab_type": "code",
        "colab": {}
      },
      "source": [
        ""
      ],
      "execution_count": 0,
      "outputs": []
    },
    {
      "cell_type": "markdown",
      "metadata": {
        "id": "v8EmgOhRbpF6",
        "colab_type": "text"
      },
      "source": [
        "#### Polarity\n"
      ]
    },
    {
      "cell_type": "code",
      "metadata": {
        "id": "PlHU6vv4YGfr",
        "colab_type": "code",
        "colab": {}
      },
      "source": [
        "tweet_sample=df.text.sample(1).iloc[0]\n",
        "print(tweet_sample)"
      ],
      "execution_count": 0,
      "outputs": []
    },
    {
      "cell_type": "code",
      "metadata": {
        "id": "pnXufqpPZtCK",
        "colab_type": "code",
        "colab": {}
      },
      "source": [
        "from textblob import TextBlob"
      ],
      "execution_count": 0,
      "outputs": []
    },
    {
      "cell_type": "code",
      "metadata": {
        "id": "BlFEVsfIav9p",
        "colab_type": "code",
        "colab": {}
      },
      "source": [
        "def detect_polarity(text):\n",
        "    return TextBlob(text).sentiment.polarity\n",
        "\n",
        "\n",
        "df['polarity']=df['text'].apply(detect_polarity)"
      ],
      "execution_count": 0,
      "outputs": []
    },
    {
      "cell_type": "code",
      "metadata": {
        "id": "ZDqaEECCbWUe",
        "colab_type": "code",
        "colab": {}
      },
      "source": [
        "df['polarity'].describe()"
      ],
      "execution_count": 0,
      "outputs": []
    },
    {
      "cell_type": "code",
      "metadata": {
        "id": "2qfbYWJRa-69",
        "colab_type": "code",
        "colab": {}
      },
      "source": [
        "df['polarity'].plot(kind='kde')\n",
        "plt.title('Density plot: Polarity of tweets text without cleanning')"
      ],
      "execution_count": 0,
      "outputs": []
    },
    {
      "cell_type": "markdown",
      "metadata": {
        "id": "0Kitr-a2bz-q",
        "colab_type": "text"
      },
      "source": [
        "#### Subjectivity"
      ]
    },
    {
      "cell_type": "code",
      "metadata": {
        "id": "6wqeahqUb3pY",
        "colab_type": "code",
        "colab": {}
      },
      "source": [
        "def detect_subjectivity(text): \n",
        "  return TextBlob(text).sentiment.subjectivity\n",
        "\n",
        "df['subjectivity']=df['text'].apply(detect_subjectivity)"
      ],
      "execution_count": 0,
      "outputs": []
    },
    {
      "cell_type": "code",
      "metadata": {
        "id": "mcGTGhr2cXP-",
        "colab_type": "code",
        "colab": {}
      },
      "source": [
        "df['subjectivity'].describe()"
      ],
      "execution_count": 0,
      "outputs": []
    },
    {
      "cell_type": "code",
      "metadata": {
        "id": "_tw1wwtUci94",
        "colab_type": "code",
        "colab": {}
      },
      "source": [
        "df['subjectivity'].plot(kind='kde')\n",
        "plt.title('Density Plot: Subjectivity of Tweets Text')"
      ],
      "execution_count": 0,
      "outputs": []
    }
  ]
}