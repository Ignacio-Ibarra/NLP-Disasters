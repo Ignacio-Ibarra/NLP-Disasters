{
  "nbformat": 4,
  "nbformat_minor": 0,
  "metadata": {
    "colab": {
      "name": "tp1_nlp_disasters.ipynb",
      "provenance": [],
      "collapsed_sections": [
        "XFKceNBd4zVp",
        "SZu_tgw7u4k4",
        "rUSW1KqojG_L"
      ],
      "authorship_tag": "ABX9TyMhbSzDwVZfo340Y5213/Kv",
      "include_colab_link": true
    },
    "kernelspec": {
      "name": "python3",
      "display_name": "Python 3"
    }
  },
  "cells": [
    {
      "cell_type": "markdown",
      "metadata": {
        "id": "view-in-github",
        "colab_type": "text"
      },
      "source": [
        "<a href=\"https://colab.research.google.com/github/Ignacio-Ibarra/NLP-Disasters/blob/master/tp1_nlp_disasters.ipynb\" target=\"_parent\"><img src=\"https://colab.research.google.com/assets/colab-badge.svg\" alt=\"Open In Colab\"/></a>"
      ]
    },
    {
      "cell_type": "markdown",
      "metadata": {
        "id": "e5l_awvRQoeI",
        "colab_type": "text"
      },
      "source": [
        "## Real or Not? NLP with Disaster Tweets \n",
        "\n",
        "This is an activity for the subject 7506 - Organización de Datos of the Faculty of Engineering of the University of Buenos Aires. It is based on a [Kaggle](https://www.kaggle.com/c/nlp-getting-started) contest. The goal is to predict which Tweets are about real disasters and which ones are not. In this activity we just have to look for relationships between the length of tweets and the 'target' variable.  \n",
        "\n",
        "Author: **Ignacio Ibarra**\n"
      ]
    },
    {
      "cell_type": "markdown",
      "metadata": {
        "id": "Hu1LQ-GDa6UP",
        "colab_type": "text"
      },
      "source": [
        "## Installing TextBlob library\n"
      ]
    },
    {
      "cell_type": "code",
      "metadata": {
        "id": "jhN3-pHtbDKb",
        "colab_type": "code",
        "outputId": "ddbbcf6f-0134-49d5-bc36-828989c089e8",
        "colab": {
          "base_uri": "https://localhost:8080/",
          "height": 68
        }
      },
      "source": [
        "pip install textblob"
      ],
      "execution_count": 2,
      "outputs": [
        {
          "output_type": "stream",
          "text": [
            "Requirement already satisfied: textblob in /usr/local/lib/python3.6/dist-packages (0.15.3)\n",
            "Requirement already satisfied: nltk>=3.1 in /usr/local/lib/python3.6/dist-packages (from textblob) (3.2.5)\n",
            "Requirement already satisfied: six in /usr/local/lib/python3.6/dist-packages (from nltk>=3.1->textblob) (1.12.0)\n"
          ],
          "name": "stdout"
        }
      ]
    },
    {
      "cell_type": "markdown",
      "metadata": {
        "id": "EJa3quy9QAHp",
        "colab_type": "text"
      },
      "source": [
        "## Libraries loading"
      ]
    },
    {
      "cell_type": "code",
      "metadata": {
        "id": "HKp2gbIrSsGZ",
        "colab_type": "code",
        "colab": {
          "base_uri": "https://localhost:8080/",
          "height": 187
        },
        "outputId": "4e0960c1-5aa2-48bd-c92b-f7708973c412"
      },
      "source": [
        "# Importing libraries and visualization tools\n",
        "import pandas as pd\n",
        "import numpy as np\n",
        "import scipy as sp\n",
        "\n",
        "import nltk\n",
        "nltk.download('punkt')\n",
        "nltk.download('brown')\n",
        "nltk.download('wordnet')\n",
        "nltk.download('averaged_perceptron_tagger')\n",
        "\n",
        "import matplotlib.pyplot as plt\n",
        "import seaborn as sns\n",
        "\n",
        "\n",
        "%matplotlib inline\n",
        "\n",
        "plt.style.use('default') # making visualization prettier in matplotlib\n",
        "#plt.rcParams['figure.figsize'] = (20, 10)\n",
        "\n",
        "sns.set(style=\"whitegrid\") # seaborn grid settings \n",
        "\n",
        "pd.options.display.float_format = '{:20,.2f}'.format # we suppressed the scientific notation in the outputs\n",
        "\n",
        "import warnings\n",
        "warnings.filterwarnings('ignore')"
      ],
      "execution_count": 122,
      "outputs": [
        {
          "output_type": "stream",
          "text": [
            "[nltk_data] Downloading package punkt to /root/nltk_data...\n",
            "[nltk_data]   Package punkt is already up-to-date!\n",
            "[nltk_data] Downloading package brown to /root/nltk_data...\n",
            "[nltk_data]   Package brown is already up-to-date!\n",
            "[nltk_data] Downloading package wordnet to /root/nltk_data...\n",
            "[nltk_data]   Package wordnet is already up-to-date!\n",
            "[nltk_data] Downloading package averaged_perceptron_tagger to\n",
            "[nltk_data]     /root/nltk_data...\n",
            "[nltk_data]   Package averaged_perceptron_tagger is already up-to-\n",
            "[nltk_data]       date!\n"
          ],
          "name": "stdout"
        }
      ]
    },
    {
      "cell_type": "markdown",
      "metadata": {
        "id": "O_KlbLVYSSgO",
        "colab_type": "text"
      },
      "source": [
        "## From Google Drive via PyDrive"
      ]
    },
    {
      "cell_type": "code",
      "metadata": {
        "id": "ejpd-zjwOBj8",
        "colab_type": "code",
        "colab": {}
      },
      "source": [
        "# Code to read csv file into Colaboratory:\n",
        "!pip install -U -q PyDrive\n",
        "from pydrive.auth import GoogleAuth\n",
        "from pydrive.drive import GoogleDrive\n",
        "from google.colab import auth\n",
        "from oauth2client.client import GoogleCredentials\n",
        "\n",
        "# Authenticate and create the PyDrive client.\n",
        "auth.authenticate_user()\n",
        "gauth = GoogleAuth()\n",
        "gauth.credentials = GoogleCredentials.get_application_default()\n",
        "drive = GoogleDrive(gauth)"
      ],
      "execution_count": 0,
      "outputs": []
    },
    {
      "cell_type": "code",
      "metadata": {
        "id": "JjnuC0W3lgVS",
        "colab_type": "code",
        "colab": {
          "base_uri": "https://localhost:8080/",
          "height": 34
        },
        "outputId": "2aa7b8d2-b491-43e8-fcde-f7ba84488209"
      },
      "source": [
        "link='https://drive.google.com/open?id=1Wuo42Fju9VOh2m5PV7q95TTUAIkrEwDD'\n",
        "fluff, id = link.split('=')\n",
        "print (id) # Verify that you have everything after '='"
      ],
      "execution_count": 5,
      "outputs": [
        {
          "output_type": "stream",
          "text": [
            "1Wuo42Fju9VOh2m5PV7q95TTUAIkrEwDD\n"
          ],
          "name": "stdout"
        }
      ]
    },
    {
      "cell_type": "code",
      "metadata": {
        "id": "8jZvvLBPmC27",
        "colab_type": "code",
        "colab": {}
      },
      "source": [
        "downloaded = drive.CreateFile({'id':id}) \n",
        "downloaded.GetContentFile('train.csv')  "
      ],
      "execution_count": 0,
      "outputs": []
    },
    {
      "cell_type": "markdown",
      "metadata": {
        "id": "ccKFzQGlSZ5D",
        "colab_type": "text"
      },
      "source": [
        "## Reading '.csv' local file into a DataFrame"
      ]
    },
    {
      "cell_type": "code",
      "metadata": {
        "id": "HCF1pXpELt1n",
        "colab_type": "code",
        "colab": {
          "base_uri": "https://localhost:8080/",
          "height": 359
        },
        "outputId": "41798ba4-c82d-4789-9f76-0ac1a63d8b0b"
      },
      "source": [
        "#Loading 'train.csv' into DataFrame\n",
        "\n",
        "df=pd.read_csv('train.csv')\n",
        "df.head(10) #Let's have a first view of the DataFrame"
      ],
      "execution_count": 7,
      "outputs": [
        {
          "output_type": "execute_result",
          "data": {
            "text/html": [
              "<div>\n",
              "<style scoped>\n",
              "    .dataframe tbody tr th:only-of-type {\n",
              "        vertical-align: middle;\n",
              "    }\n",
              "\n",
              "    .dataframe tbody tr th {\n",
              "        vertical-align: top;\n",
              "    }\n",
              "\n",
              "    .dataframe thead th {\n",
              "        text-align: right;\n",
              "    }\n",
              "</style>\n",
              "<table border=\"1\" class=\"dataframe\">\n",
              "  <thead>\n",
              "    <tr style=\"text-align: right;\">\n",
              "      <th></th>\n",
              "      <th>id</th>\n",
              "      <th>keyword</th>\n",
              "      <th>location</th>\n",
              "      <th>text</th>\n",
              "      <th>target</th>\n",
              "    </tr>\n",
              "  </thead>\n",
              "  <tbody>\n",
              "    <tr>\n",
              "      <th>0</th>\n",
              "      <td>1</td>\n",
              "      <td>NaN</td>\n",
              "      <td>NaN</td>\n",
              "      <td>Our Deeds are the Reason of this #earthquake M...</td>\n",
              "      <td>1</td>\n",
              "    </tr>\n",
              "    <tr>\n",
              "      <th>1</th>\n",
              "      <td>4</td>\n",
              "      <td>NaN</td>\n",
              "      <td>NaN</td>\n",
              "      <td>Forest fire near La Ronge Sask. Canada</td>\n",
              "      <td>1</td>\n",
              "    </tr>\n",
              "    <tr>\n",
              "      <th>2</th>\n",
              "      <td>5</td>\n",
              "      <td>NaN</td>\n",
              "      <td>NaN</td>\n",
              "      <td>All residents asked to 'shelter in place' are ...</td>\n",
              "      <td>1</td>\n",
              "    </tr>\n",
              "    <tr>\n",
              "      <th>3</th>\n",
              "      <td>6</td>\n",
              "      <td>NaN</td>\n",
              "      <td>NaN</td>\n",
              "      <td>13,000 people receive #wildfires evacuation or...</td>\n",
              "      <td>1</td>\n",
              "    </tr>\n",
              "    <tr>\n",
              "      <th>4</th>\n",
              "      <td>7</td>\n",
              "      <td>NaN</td>\n",
              "      <td>NaN</td>\n",
              "      <td>Just got sent this photo from Ruby #Alaska as ...</td>\n",
              "      <td>1</td>\n",
              "    </tr>\n",
              "    <tr>\n",
              "      <th>5</th>\n",
              "      <td>8</td>\n",
              "      <td>NaN</td>\n",
              "      <td>NaN</td>\n",
              "      <td>#RockyFire Update =&gt; California Hwy. 20 closed...</td>\n",
              "      <td>1</td>\n",
              "    </tr>\n",
              "    <tr>\n",
              "      <th>6</th>\n",
              "      <td>10</td>\n",
              "      <td>NaN</td>\n",
              "      <td>NaN</td>\n",
              "      <td>#flood #disaster Heavy rain causes flash flood...</td>\n",
              "      <td>1</td>\n",
              "    </tr>\n",
              "    <tr>\n",
              "      <th>7</th>\n",
              "      <td>13</td>\n",
              "      <td>NaN</td>\n",
              "      <td>NaN</td>\n",
              "      <td>I'm on top of the hill and I can see a fire in...</td>\n",
              "      <td>1</td>\n",
              "    </tr>\n",
              "    <tr>\n",
              "      <th>8</th>\n",
              "      <td>14</td>\n",
              "      <td>NaN</td>\n",
              "      <td>NaN</td>\n",
              "      <td>There's an emergency evacuation happening now ...</td>\n",
              "      <td>1</td>\n",
              "    </tr>\n",
              "    <tr>\n",
              "      <th>9</th>\n",
              "      <td>15</td>\n",
              "      <td>NaN</td>\n",
              "      <td>NaN</td>\n",
              "      <td>I'm afraid that the tornado is coming to our a...</td>\n",
              "      <td>1</td>\n",
              "    </tr>\n",
              "  </tbody>\n",
              "</table>\n",
              "</div>"
            ],
            "text/plain": [
              "   id keyword  ...                                               text target\n",
              "0   1     NaN  ...  Our Deeds are the Reason of this #earthquake M...      1\n",
              "1   4     NaN  ...             Forest fire near La Ronge Sask. Canada      1\n",
              "2   5     NaN  ...  All residents asked to 'shelter in place' are ...      1\n",
              "3   6     NaN  ...  13,000 people receive #wildfires evacuation or...      1\n",
              "4   7     NaN  ...  Just got sent this photo from Ruby #Alaska as ...      1\n",
              "5   8     NaN  ...  #RockyFire Update => California Hwy. 20 closed...      1\n",
              "6  10     NaN  ...  #flood #disaster Heavy rain causes flash flood...      1\n",
              "7  13     NaN  ...  I'm on top of the hill and I can see a fire in...      1\n",
              "8  14     NaN  ...  There's an emergency evacuation happening now ...      1\n",
              "9  15     NaN  ...  I'm afraid that the tornado is coming to our a...      1\n",
              "\n",
              "[10 rows x 5 columns]"
            ]
          },
          "metadata": {
            "tags": []
          },
          "execution_count": 7
        }
      ]
    },
    {
      "cell_type": "markdown",
      "metadata": {
        "id": "jixjkvSAVOUi",
        "colab_type": "text"
      },
      "source": [
        "# Exploratory Data Analysis\n",
        "\n",
        "\n",
        "The goal of this task is to introduct to the main characteristics of the dataset and its variables"
      ]
    },
    {
      "cell_type": "markdown",
      "metadata": {
        "id": "XFKceNBd4zVp",
        "colab_type": "text"
      },
      "source": [
        "## Basic statistics"
      ]
    },
    {
      "cell_type": "code",
      "metadata": {
        "id": "8BKjes-RVOjV",
        "colab_type": "code",
        "colab": {}
      },
      "source": [
        "#Counting rows, columns, values\n",
        "print('the shape is: ',df.shape)\n",
        "print('the size is: ', df.size)"
      ],
      "execution_count": 0,
      "outputs": []
    },
    {
      "cell_type": "code",
      "metadata": {
        "id": "kYW_0LJaVOqT",
        "colab_type": "code",
        "colab": {}
      },
      "source": [
        "#Get info of each column\n",
        "df.info()"
      ],
      "execution_count": 0,
      "outputs": []
    },
    {
      "cell_type": "code",
      "metadata": {
        "id": "XCKj9WIHVOvh",
        "colab_type": "code",
        "colab": {}
      },
      "source": [
        "#Is there any null value per column?\n",
        "df.isnull().any()"
      ],
      "execution_count": 0,
      "outputs": []
    },
    {
      "cell_type": "code",
      "metadata": {
        "id": "ECZpTLySVO0P",
        "colab_type": "code",
        "colab": {}
      },
      "source": [
        "#How many nulls per column? \n",
        "df.isnull().mean()*(df['id'].count()) #We know that the 'id' column has no nulls"
      ],
      "execution_count": 0,
      "outputs": []
    },
    {
      "cell_type": "markdown",
      "metadata": {
        "id": "gJIJuoFZVO45",
        "colab_type": "text"
      },
      "source": [
        "The 'location' column has null values ​​in 33% (2,533) of its rows, we may have to leave it out of the analysis. On the other hand, the 'keyword' column has 0.8% (61) null values"
      ]
    },
    {
      "cell_type": "markdown",
      "metadata": {
        "id": "FGOihBbs7Ytu",
        "colab_type": "text"
      },
      "source": [
        "## Filling the null values of 'keyword' and 'location' column"
      ]
    },
    {
      "cell_type": "code",
      "metadata": {
        "id": "ifGudVsO89CK",
        "colab_type": "code",
        "colab": {}
      },
      "source": [
        "#Getting the rows with nulls in keyword column\n",
        "df[df['keyword'].isnull()]"
      ],
      "execution_count": 0,
      "outputs": []
    },
    {
      "cell_type": "code",
      "metadata": {
        "id": "kDigR2wN9UlX",
        "colab_type": "code",
        "colab": {}
      },
      "source": [
        "#Getting the rows with nulls in location column\n",
        "df[df['location'].isnull()]"
      ],
      "execution_count": 0,
      "outputs": []
    },
    {
      "cell_type": "code",
      "metadata": {
        "id": "rWOt9Cvo7f0B",
        "colab_type": "code",
        "colab": {}
      },
      "source": [
        "#Filling the nulls values of both columns \n",
        "values = {'keyword': 'no_keyword', 'location': 'no_location'}\n",
        "df.fillna(value=values, inplace=True)"
      ],
      "execution_count": 0,
      "outputs": []
    },
    {
      "cell_type": "code",
      "metadata": {
        "id": "HLlifq9l8ESV",
        "colab_type": "code",
        "colab": {}
      },
      "source": [
        "#No columns with null values. \n",
        "df.isnull().any()"
      ],
      "execution_count": 0,
      "outputs": []
    },
    {
      "cell_type": "markdown",
      "metadata": {
        "id": "SZu_tgw7u4k4",
        "colab_type": "text"
      },
      "source": [
        "## Looking at 'keyword'"
      ]
    },
    {
      "cell_type": "code",
      "metadata": {
        "id": "WtoQH4z3cquj",
        "colab_type": "code",
        "colab": {}
      },
      "source": [
        "#Inspecting the 'keyword' column. \n",
        "keyword=df['keyword']\n",
        "print(round(100.00*len(keyword.unique())/(len(keyword)),2),'% of the rows present unique values')"
      ],
      "execution_count": 0,
      "outputs": []
    },
    {
      "cell_type": "code",
      "metadata": {
        "id": "p8DgrCRxcrWf",
        "colab_type": "code",
        "colab": {}
      },
      "source": [
        "#Frecuency for each keyword. \n",
        "frequency_keywords=keyword.value_counts() \n",
        "frequency_keywords.head()"
      ],
      "execution_count": 0,
      "outputs": []
    },
    {
      "cell_type": "code",
      "metadata": {
        "id": "tDMWTvhgAkZu",
        "colab_type": "code",
        "colab": {}
      },
      "source": [
        "#This strikes me a lot. \n",
        "frequency_keywords.values"
      ],
      "execution_count": 0,
      "outputs": []
    },
    {
      "cell_type": "code",
      "metadata": {
        "id": "r9zJR2f1vc-h",
        "colab_type": "code",
        "colab": {}
      },
      "source": [
        "#Frecuency of frecuencies\n",
        "freq_freq_keywords=pd.Series(frequency_keywords.values)\n",
        "freq_freq_keywords.plot.hist(bins=20)"
      ],
      "execution_count": 0,
      "outputs": []
    },
    {
      "cell_type": "code",
      "metadata": {
        "id": "FRQ7UBUOxCqf",
        "colab_type": "code",
        "colab": {}
      },
      "source": [
        "#Some stats \n",
        "freq_freq_keywords.describe()"
      ],
      "execution_count": 0,
      "outputs": []
    },
    {
      "cell_type": "code",
      "metadata": {
        "id": "3ED5jNGocriB",
        "colab_type": "code",
        "colab": {}
      },
      "source": [
        "# Plotting keywords values counts up 35 repetitions. \n",
        "frequency_keywords[frequency_keywords>35].sort_values(ascending=True).plot(kind='barh', figsize=(10,40))"
      ],
      "execution_count": 0,
      "outputs": []
    },
    {
      "cell_type": "code",
      "metadata": {
        "id": "L2OJp4TOFzDg",
        "colab_type": "code",
        "colab": {}
      },
      "source": [
        "most_freq_keywords=frequency_keywords[frequency_keywords>35].index\n",
        "most_freq_keywords"
      ],
      "execution_count": 0,
      "outputs": []
    },
    {
      "cell_type": "code",
      "metadata": {
        "id": "GRvJZaUM-i5j",
        "colab_type": "code",
        "colab": {}
      },
      "source": [
        "keyword_target_df=df[['keyword','target']]\n",
        "keyword_target_df.count()"
      ],
      "execution_count": 0,
      "outputs": []
    },
    {
      "cell_type": "code",
      "metadata": {
        "id": "YggHnxTMGK4I",
        "colab_type": "code",
        "colab": {}
      },
      "source": [
        "keyword_target_most_freq=keyword_target_df[keyword_target_df.loc[:,'keyword'].isin(most_freq_keywords)]\n",
        "keyword_target_most_freq.count()"
      ],
      "execution_count": 0,
      "outputs": []
    },
    {
      "cell_type": "code",
      "metadata": {
        "id": "iC-OJhs93ODT",
        "colab_type": "code",
        "colab": {}
      },
      "source": [
        "#Plotting Crosstab with the keywords that has a frequency more than 35. \n",
        "pd.crosstab(keyword_target_most_freq.keyword, keyword_target_most_freq.target).plot.barh(stacked=True, figsize=(10,30))"
      ],
      "execution_count": 0,
      "outputs": []
    },
    {
      "cell_type": "code",
      "metadata": {
        "id": "fZiZQ8hDgiB_",
        "colab_type": "code",
        "outputId": "2bc0a2d5-ce8f-49a3-da5f-31fa28208e8f",
        "colab": {
          "base_uri": "https://localhost:8080/",
          "height": 272
        }
      },
      "source": [
        "print('Top keywords in disaster tweets:')\n",
        "print(df[df['target'] == 1]['keyword'].value_counts().head(), '\\n')\n",
        "print('Top keywords in non-disaster tweets:')\n",
        "print(df[df['target'] == 0]['keyword'].value_counts().head())"
      ],
      "execution_count": 0,
      "outputs": [
        {
          "output_type": "stream",
          "text": [
            "Top keywords in disaster tweets:\n",
            "no_keyword    42\n",
            "wreckage      39\n",
            "outbreak      39\n",
            "derailment    39\n",
            "typhoon       37\n",
            "Name: keyword, dtype: int64 \n",
            "\n",
            "Top keywords in non-disaster tweets:\n",
            "body%20bags    40\n",
            "armageddon     37\n",
            "harm           37\n",
            "ruin           36\n",
            "deluge         36\n",
            "Name: keyword, dtype: int64\n"
          ],
          "name": "stdout"
        }
      ]
    },
    {
      "cell_type": "code",
      "metadata": {
        "id": "LT284s413N-x",
        "colab_type": "code",
        "colab": {}
      },
      "source": [
        "keyword_target_crosstab=pd.crosstab(df.keyword, df.target)"
      ],
      "execution_count": 0,
      "outputs": []
    },
    {
      "cell_type": "code",
      "metadata": {
        "id": "A3gHdshN3N7L",
        "colab_type": "code",
        "colab": {}
      },
      "source": [
        "level0=keyword_target_crosstab.columns.get_level_values(0)"
      ],
      "execution_count": 0,
      "outputs": []
    },
    {
      "cell_type": "code",
      "metadata": {
        "id": "zMpkF_JA3N4B",
        "colab_type": "code",
        "colab": {}
      },
      "source": [
        "keyword_target_noindex=keyword_target_crosstab.reset_index()\n",
        "keyword_target_noindex.columns=['keyword','target_0','target_1']\n",
        "keyword_target_noindex.sort_values(by=['target_1'],ascending=False)"
      ],
      "execution_count": 0,
      "outputs": []
    },
    {
      "cell_type": "code",
      "metadata": {
        "id": "3UgjQPaa3N0T",
        "colab_type": "code",
        "colab": {}
      },
      "source": [
        "keyword_target_noindex['percentage']=100*(keyword_target_noindex['target_1'])/((keyword_target_noindex['target_1'])+(keyword_target_noindex['target_0']))"
      ],
      "execution_count": 0,
      "outputs": []
    },
    {
      "cell_type": "code",
      "metadata": {
        "id": "ccW9fATf3Nqb",
        "colab_type": "code",
        "colab": {}
      },
      "source": [
        "keyword_target_noindex['count']=(keyword_target_noindex['target_1'])+(keyword_target_noindex['target_0'])"
      ],
      "execution_count": 0,
      "outputs": []
    },
    {
      "cell_type": "code",
      "metadata": {
        "id": "2iW5YM9A3Nm2",
        "colab_type": "code",
        "colab": {}
      },
      "source": [
        "keyword_target_noindex.sort_values(by=['percentage'],ascending=False).head(20)"
      ],
      "execution_count": 0,
      "outputs": []
    },
    {
      "cell_type": "code",
      "metadata": {
        "id": "EwAzpW393NiN",
        "colab_type": "code",
        "colab": {}
      },
      "source": [
        "#Calculating the number of keyword that contains '%20' over the total. \n",
        "round(100*(keyword_target_noindex[keyword_target_noindex['keyword'].str.contains('%20')]['keyword'].count())/(keyword_target_noindex['keyword'].count()),2)"
      ],
      "execution_count": 0,
      "outputs": []
    },
    {
      "cell_type": "code",
      "metadata": {
        "id": "m21d8jVB3NY7",
        "colab_type": "code",
        "colab": {}
      },
      "source": [
        ""
      ],
      "execution_count": 0,
      "outputs": []
    },
    {
      "cell_type": "markdown",
      "metadata": {
        "id": "2in_m-Om3Mf7",
        "colab_type": "text"
      },
      "source": [
        "## Looking at 'text'"
      ]
    },
    {
      "cell_type": "markdown",
      "metadata": {
        "id": "L1Vv1yWgZoSI",
        "colab_type": "text"
      },
      "source": [
        "### Analizing 'tweet_len'"
      ]
    },
    {
      "cell_type": "markdown",
      "metadata": {
        "id": "rUSW1KqojG_L",
        "colab_type": "text"
      },
      "source": [
        "#### Before dropping stopwords\n",
        "\n"
      ]
    },
    {
      "cell_type": "code",
      "metadata": {
        "id": "Fo52ev6Icrl1",
        "colab_type": "code",
        "colab": {
          "base_uri": "https://localhost:8080/",
          "height": 475
        },
        "outputId": "ed3267d3-4cdc-43b4-db7f-0692771cdacc"
      },
      "source": [
        "df['tweet_len']=df['text'].apply(lambda x: len(x))\n",
        "sns.distplot(df[\"tweet_len\"], hist=True)"
      ],
      "execution_count": 9,
      "outputs": [
        {
          "output_type": "execute_result",
          "data": {
            "text/plain": [
              "<matplotlib.axes._subplots.AxesSubplot at 0x7f781d29f208>"
            ]
          },
          "metadata": {
            "tags": []
          },
          "execution_count": 9
        },
        {
          "output_type": "display_data",
          "data": {
            "image/png": "[encoded data removed]",
            "text/plain": [
              "<Figure size 640x480 with 1 Axes>"
            ]
          },
          "metadata": {
            "tags": []
          }
        }
      ]
    },
    {
      "cell_type": "code",
      "metadata": {
        "id": "7_hOsHTDcrpf",
        "colab_type": "code",
        "colab": {
          "base_uri": "https://localhost:8080/",
          "height": 170
        },
        "outputId": "9856ea92-2bb0-41c9-a95e-77e9e571e880"
      },
      "source": [
        "#Tweets_len stats\n",
        "df['tweet_len'].describe()"
      ],
      "execution_count": 10,
      "outputs": [
        {
          "output_type": "execute_result",
          "data": {
            "text/plain": [
              "count               7,613.00\n",
              "mean                  101.04\n",
              "std                    33.78\n",
              "min                     7.00\n",
              "25%                    78.00\n",
              "50%                   107.00\n",
              "75%                   133.00\n",
              "max                   157.00\n",
              "Name: tweet_len, dtype: float64"
            ]
          },
          "metadata": {
            "tags": []
          },
          "execution_count": 10
        }
      ]
    },
    {
      "cell_type": "code",
      "metadata": {
        "id": "ZVnLRpxdcrtD",
        "colab_type": "code",
        "colab": {
          "base_uri": "https://localhost:8080/",
          "height": 34
        },
        "outputId": "0e59a5b0-5648-49e3-be46-663ae374a634"
      },
      "source": [
        "#how many exactly are above the average length?\n",
        "print(round(100.00*(df[(df['tweet_len'])>(df['tweet_len']).mean()]['tweet_len'].count())/(len(df['tweet_len'])),2),'% of the tweets have a length superior to the avg')"
      ],
      "execution_count": 57,
      "outputs": [
        {
          "output_type": "stream",
          "text": [
            "54.39 % of the tweets have a length superior to the avg\n"
          ],
          "name": "stdout"
        }
      ]
    },
    {
      "cell_type": "code",
      "metadata": {
        "id": "Vc6NpdXLh8X_",
        "colab_type": "code",
        "outputId": "7ea2e336-606e-4e68-cbf6-9eae2ad45fbe",
        "colab": {
          "base_uri": "https://localhost:8080/",
          "height": 34
        }
      },
      "source": [
        "#That's why is right skewed\n",
        "df['tweet_len'].skew()"
      ],
      "execution_count": 56,
      "outputs": [
        {
          "output_type": "execute_result",
          "data": {
            "text/plain": [
              "-0.6190089979526021"
            ]
          },
          "metadata": {
            "tags": []
          },
          "execution_count": 56
        }
      ]
    },
    {
      "cell_type": "code",
      "metadata": {
        "id": "eLCFABLmijdq",
        "colab_type": "code",
        "colab": {
          "base_uri": "https://localhost:8080/",
          "height": 51
        },
        "outputId": "599e5435-fafa-415c-b76d-bd10659ae962"
      },
      "source": [
        "#Calculating the mode\n",
        "df['tweet_len'].mode()"
      ],
      "execution_count": 61,
      "outputs": [
        {
          "output_type": "execute_result",
          "data": {
            "text/plain": [
              "0    136\n",
              "dtype: int64"
            ]
          },
          "metadata": {
            "tags": []
          },
          "execution_count": 61
        }
      ]
    },
    {
      "cell_type": "code",
      "metadata": {
        "id": "KiQX0a7zjupV",
        "colab_type": "code",
        "colab": {
          "base_uri": "https://localhost:8080/",
          "height": 68
        },
        "outputId": "91d6d89c-ed45-4932-dfe0-a9e17ffbb969"
      },
      "source": [
        "df['tweet_len_37.5']=np.where(df['tweet_len']<=37.5,1,0)\n",
        "df['tweet_len_37.5'].value_counts()"
      ],
      "execution_count": 11,
      "outputs": [
        {
          "output_type": "execute_result",
          "data": {
            "text/plain": [
              "0    7214\n",
              "1     399\n",
              "Name: tweet_len_37.5, dtype: int64"
            ]
          },
          "metadata": {
            "tags": []
          },
          "execution_count": 11
        }
      ]
    },
    {
      "cell_type": "code",
      "metadata": {
        "id": "5bFsaLADjupX",
        "colab_type": "code",
        "colab": {
          "base_uri": "https://localhost:8080/",
          "height": 68
        },
        "outputId": "6e2af139-fdbf-4af2-a1f7-fb3549672f00"
      },
      "source": [
        "df['tweet_len_37.5_and_75']=np.where((df['tweet_len']>37.5) & (df['tweet_len']<=75),1,0)\n",
        "df['tweet_len_37.5_and_75'].value_counts()"
      ],
      "execution_count": 12,
      "outputs": [
        {
          "output_type": "execute_result",
          "data": {
            "text/plain": [
              "0    6224\n",
              "1    1389\n",
              "Name: tweet_len_37.5_and_75, dtype: int64"
            ]
          },
          "metadata": {
            "tags": []
          },
          "execution_count": 12
        }
      ]
    },
    {
      "cell_type": "code",
      "metadata": {
        "id": "o_HPUBmDjupZ",
        "colab_type": "code",
        "colab": {
          "base_uri": "https://localhost:8080/",
          "height": 68
        },
        "outputId": "077ce7b6-7b23-41d8-bf8c-dcc7c773bcbd"
      },
      "source": [
        "df['tweet_len_75_and_112.5']=np.where((df['tweet_len']>75) & (df['tweet_len']<=112.5),1,0)\n",
        "df['tweet_len_75_and_112.5'].value_counts()"
      ],
      "execution_count": 13,
      "outputs": [
        {
          "output_type": "execute_result",
          "data": {
            "text/plain": [
              "0    5244\n",
              "1    2369\n",
              "Name: tweet_len_75_and_112.5, dtype: int64"
            ]
          },
          "metadata": {
            "tags": []
          },
          "execution_count": 13
        }
      ]
    },
    {
      "cell_type": "code",
      "metadata": {
        "id": "S-LvQAfAjupc",
        "colab_type": "code",
        "colab": {
          "base_uri": "https://localhost:8080/",
          "height": 68
        },
        "outputId": "4c59a819-0485-47b8-c93a-c0536422560e"
      },
      "source": [
        "df['tweet_len_up112.5']=np.where(df['tweet_len']>112.5,1,0)\n",
        "df['tweet_len_up112.5'].value_counts()"
      ],
      "execution_count": 14,
      "outputs": [
        {
          "output_type": "execute_result",
          "data": {
            "text/plain": [
              "0    4157\n",
              "1    3456\n",
              "Name: tweet_len_up112.5, dtype: int64"
            ]
          },
          "metadata": {
            "tags": []
          },
          "execution_count": 14
        }
      ]
    },
    {
      "cell_type": "code",
      "metadata": {
        "id": "YgCigcEYjupe",
        "colab_type": "code",
        "colab": {}
      },
      "source": [
        "grouped=df.groupby('target').agg({'tweet_len_37.5':['mean'], 'tweet_len_37.5_and_75':['mean'],\\\n",
        "                                'tweet_len_75_and_112.5':['mean'], 'tweet_len_up112.5':['mean']})"
      ],
      "execution_count": 0,
      "outputs": []
    },
    {
      "cell_type": "code",
      "metadata": {
        "id": "WSnk9OEAjupk",
        "colab_type": "code",
        "colab": {}
      },
      "source": [
        "level_0=grouped.columns.get_level_values(0)"
      ],
      "execution_count": 0,
      "outputs": []
    },
    {
      "cell_type": "code",
      "metadata": {
        "id": "QSjTGUrhjupn",
        "colab_type": "code",
        "colab": {}
      },
      "source": [
        "level_1=grouped.columns.get_level_values(1)"
      ],
      "execution_count": 0,
      "outputs": []
    },
    {
      "cell_type": "code",
      "metadata": {
        "id": "uecVvhHQjupp",
        "colab_type": "code",
        "colab": {}
      },
      "source": [
        "grouped.columns=level_0"
      ],
      "execution_count": 0,
      "outputs": []
    },
    {
      "cell_type": "code",
      "metadata": {
        "id": "GnJZPl9Cjups",
        "colab_type": "code",
        "colab": {
          "base_uri": "https://localhost:8080/",
          "height": 142
        },
        "outputId": "8aa1d5af-f5c3-43ab-99d4-c3ab6220002e"
      },
      "source": [
        "grouped_for_barchart=grouped*100\n",
        "grouped_for_barchart"
      ],
      "execution_count": 18,
      "outputs": [
        {
          "output_type": "execute_result",
          "data": {
            "text/html": [
              "<div>\n",
              "<style scoped>\n",
              "    .dataframe tbody tr th:only-of-type {\n",
              "        vertical-align: middle;\n",
              "    }\n",
              "\n",
              "    .dataframe tbody tr th {\n",
              "        vertical-align: top;\n",
              "    }\n",
              "\n",
              "    .dataframe thead th {\n",
              "        text-align: right;\n",
              "    }\n",
              "</style>\n",
              "<table border=\"1\" class=\"dataframe\">\n",
              "  <thead>\n",
              "    <tr style=\"text-align: right;\">\n",
              "      <th></th>\n",
              "      <th>tweet_len_37.5</th>\n",
              "      <th>tweet_len_37.5_and_75</th>\n",
              "      <th>tweet_len_75_and_112.5</th>\n",
              "      <th>tweet_len_up112.5</th>\n",
              "    </tr>\n",
              "    <tr>\n",
              "      <th>target</th>\n",
              "      <th></th>\n",
              "      <th></th>\n",
              "      <th></th>\n",
              "      <th></th>\n",
              "    </tr>\n",
              "  </thead>\n",
              "  <tbody>\n",
              "    <tr>\n",
              "      <th>0</th>\n",
              "      <td>7.60</td>\n",
              "      <td>22.50</td>\n",
              "      <td>29.39</td>\n",
              "      <td>40.51</td>\n",
              "    </tr>\n",
              "    <tr>\n",
              "      <th>1</th>\n",
              "      <td>2.11</td>\n",
              "      <td>12.60</td>\n",
              "      <td>33.41</td>\n",
              "      <td>51.88</td>\n",
              "    </tr>\n",
              "  </tbody>\n",
              "</table>\n",
              "</div>"
            ],
            "text/plain": [
              "             tweet_len_37.5  ...    tweet_len_up112.5\n",
              "target                       ...                     \n",
              "0                      7.60  ...                40.51\n",
              "1                      2.11  ...                51.88\n",
              "\n",
              "[2 rows x 4 columns]"
            ]
          },
          "metadata": {
            "tags": []
          },
          "execution_count": 18
        }
      ]
    },
    {
      "cell_type": "code",
      "metadata": {
        "id": "qTpg2eD_jupv",
        "colab_type": "code",
        "colab": {
          "base_uri": "https://localhost:8080/",
          "height": 173
        },
        "outputId": "924be039-0a7f-4183-ba68-e010925c3437"
      },
      "source": [
        "grouped_for_barchart=grouped_for_barchart.stack().unstack(0)\n",
        "grouped_for_barchart"
      ],
      "execution_count": 19,
      "outputs": [
        {
          "output_type": "execute_result",
          "data": {
            "text/html": [
              "<div>\n",
              "<style scoped>\n",
              "    .dataframe tbody tr th:only-of-type {\n",
              "        vertical-align: middle;\n",
              "    }\n",
              "\n",
              "    .dataframe tbody tr th {\n",
              "        vertical-align: top;\n",
              "    }\n",
              "\n",
              "    .dataframe thead th {\n",
              "        text-align: right;\n",
              "    }\n",
              "</style>\n",
              "<table border=\"1\" class=\"dataframe\">\n",
              "  <thead>\n",
              "    <tr style=\"text-align: right;\">\n",
              "      <th>target</th>\n",
              "      <th>0</th>\n",
              "      <th>1</th>\n",
              "    </tr>\n",
              "  </thead>\n",
              "  <tbody>\n",
              "    <tr>\n",
              "      <th>tweet_len_37.5</th>\n",
              "      <td>7.60</td>\n",
              "      <td>2.11</td>\n",
              "    </tr>\n",
              "    <tr>\n",
              "      <th>tweet_len_37.5_and_75</th>\n",
              "      <td>22.50</td>\n",
              "      <td>12.60</td>\n",
              "    </tr>\n",
              "    <tr>\n",
              "      <th>tweet_len_75_and_112.5</th>\n",
              "      <td>29.39</td>\n",
              "      <td>33.41</td>\n",
              "    </tr>\n",
              "    <tr>\n",
              "      <th>tweet_len_up112.5</th>\n",
              "      <td>40.51</td>\n",
              "      <td>51.88</td>\n",
              "    </tr>\n",
              "  </tbody>\n",
              "</table>\n",
              "</div>"
            ],
            "text/plain": [
              "target                                    0                    1\n",
              "tweet_len_37.5                         7.60                 2.11\n",
              "tweet_len_37.5_and_75                 22.50                12.60\n",
              "tweet_len_75_and_112.5                29.39                33.41\n",
              "tweet_len_up112.5                     40.51                51.88"
            ]
          },
          "metadata": {
            "tags": []
          },
          "execution_count": 19
        }
      ]
    },
    {
      "cell_type": "code",
      "metadata": {
        "id": "_YkWUvt7jupy",
        "colab_type": "code",
        "colab": {
          "base_uri": "https://localhost:8080/",
          "height": 102
        },
        "outputId": "29f890ee-491b-4109-e244-bae4f3321ec0"
      },
      "source": [
        "target0=grouped_for_barchart.iloc[:,0]\n",
        "target0"
      ],
      "execution_count": 20,
      "outputs": [
        {
          "output_type": "execute_result",
          "data": {
            "text/plain": [
              "tweet_len_37.5                           7.60\n",
              "tweet_len_37.5_and_75                   22.50\n",
              "tweet_len_75_and_112.5                  29.39\n",
              "tweet_len_up112.5                       40.51\n",
              "Name: 0, dtype: float64"
            ]
          },
          "metadata": {
            "tags": []
          },
          "execution_count": 20
        }
      ]
    },
    {
      "cell_type": "code",
      "metadata": {
        "id": "zefpvvrrjup0",
        "colab_type": "code",
        "colab": {
          "base_uri": "https://localhost:8080/",
          "height": 102
        },
        "outputId": "2a2396a4-e807-4aa5-c8e4-cd5a7d7e288c"
      },
      "source": [
        "target1=grouped_for_barchart.iloc[:,1]\n",
        "target1"
      ],
      "execution_count": 21,
      "outputs": [
        {
          "output_type": "execute_result",
          "data": {
            "text/plain": [
              "tweet_len_37.5                           2.11\n",
              "tweet_len_37.5_and_75                   12.60\n",
              "tweet_len_75_and_112.5                  33.41\n",
              "tweet_len_up112.5                       51.88\n",
              "Name: 1, dtype: float64"
            ]
          },
          "metadata": {
            "tags": []
          },
          "execution_count": 21
        }
      ]
    },
    {
      "cell_type": "code",
      "metadata": {
        "id": "nqQJr_A8lfrk",
        "colab_type": "code",
        "colab": {
          "base_uri": "https://localhost:8080/",
          "height": 632
        },
        "outputId": "c4808b33-1581-4543-fab7-a2b93860411c"
      },
      "source": [
        "#Plotting bar chart\n",
        "\n",
        "# Setting width of bar\n",
        "barWidth = 0.25\n",
        "\n",
        "# Setting position of bar on X axis\n",
        "p0 = np.arange(len(target0))\n",
        "p1 = [x + barWidth for x in p0] \n",
        "\n",
        "# Making the plot\n",
        "plt.bar(p0, target0, color='#7f6d5f', width=barWidth, edgecolor='white', label='Not Real')\n",
        "plt.bar(p1, target1, color='#557f2d', width=barWidth, edgecolor='white', label='Real')\n",
        "\n",
        "# Setting ticks and labels of axes\n",
        "plt.xlabel('Groups by Tweets Length', fontweight='bold')\n",
        "plt.ylabel('Lenght of Tweets (number of characters)',fontweight='bold')\n",
        "plt.xticks([r + barWidth for r in range(len(target0))], ['Under 38 charac', 'Between 38 and 75', 'Between 75 and 112', 'Up 112'],rotation='vertical')\n",
        "\n",
        "# Setting title. \n",
        "plt.title('Percentage of tweets by target',fontsize =20)\n",
        "\n",
        "# Create legend & Show graphic\n",
        "plt.legend()\n",
        "plt.show()"
      ],
      "execution_count": 22,
      "outputs": [
        {
          "output_type": "display_data",
          "data": {
            "image/png": "[encoded data removed]",
            "text/plain": [
              "<Figure size 640x480 with 1 Axes>"
            ]
          },
          "metadata": {
            "tags": []
          }
        }
      ]
    },
    {
      "cell_type": "code",
      "metadata": {
        "id": "IrbrqVGdsnnP",
        "colab_type": "code",
        "colab": {
          "base_uri": "https://localhost:8080/",
          "height": 488
        },
        "outputId": "ca8bb5fb-d382-4bb9-c330-cd17634c8479"
      },
      "source": [
        "#Plotting histogram\n",
        "\n",
        "# Making the plot\n",
        "plt.hist(df[df['target']==0]['tweet_len'], color='#7f6d5f', label='Not Real', bins=15)\n",
        "plt.hist(df[df['target']==1]['tweet_len'], color='#557f2d', label='Real', bins=15)\n",
        "\n",
        "# Setting ticks and labels of axes\n",
        "plt.xlabel('Tweets Lenght', fontweight='bold')\n",
        "plt.ylabel('Frecuency',fontweight='bold')\n",
        "\n",
        "# Setting title. \n",
        "plt.title('Tweet Lenght Histogram by Target',fontsize =20)\n",
        "\n",
        "# Create legend & Show graphic\n",
        "plt.legend()\n",
        "plt.show()"
      ],
      "execution_count": 56,
      "outputs": [
        {
          "output_type": "display_data",
          "data": {
            "image/png": "[encoded data removed]",
            "text/plain": [
              "<Figure size 640x480 with 1 Axes>"
            ]
          },
          "metadata": {
            "tags": []
          }
        }
      ]
    },
    {
      "cell_type": "code",
      "metadata": {
        "id": "NDzXgL_Cq1P6",
        "colab_type": "code",
        "colab": {
          "base_uri": "https://localhost:8080/",
          "height": 697
        },
        "outputId": "d4c0e0e6-dec8-457f-856f-a57fc4aa439a"
      },
      "source": [
        "#Playing with tweet length intervals and the target variable. \n",
        "for a,b in zip([120,125,130,135,140],[140,145,150,155,160]): \n",
        "  print('Tweet Lenght Range from',a,'to',b,':\\n')\n",
        "  print('the amount of tweets in this range is: ', df.loc[(df['tweet_len']>a) & (df['tweet_len']<b),'target'].value_counts().sum())\n",
        "  print('The value_counts is:\\n',df.loc[(df['tweet_len']>a) &(df['tweet_len']<b),'target'].value_counts())\n",
        "  print(\"-\" * 75)"
      ],
      "execution_count": 55,
      "outputs": [
        {
          "output_type": "stream",
          "text": [
            "Tweet Lenght Range from 120 to 140 :\n",
            "\n",
            "the amount of tweets in this range is:  2495\n",
            "The value_counts is:\n",
            " 0    1254\n",
            "1    1241\n",
            "Name: target, dtype: int64\n",
            "---------------------------------------------------------------------------\n",
            "Tweet Lenght Range from 125 to 145 :\n",
            "\n",
            "the amount of tweets in this range is:  2539\n",
            "The value_counts is:\n",
            " 1    1294\n",
            "0    1245\n",
            "Name: target, dtype: int64\n",
            "---------------------------------------------------------------------------\n",
            "Tweet Lenght Range from 130 to 150 :\n",
            "\n",
            "the amount of tweets in this range is:  2182\n",
            "The value_counts is:\n",
            " 1    1142\n",
            "0    1040\n",
            "Name: target, dtype: int64\n",
            "---------------------------------------------------------------------------\n",
            "Tweet Lenght Range from 135 to 155 :\n",
            "\n",
            "the amount of tweets in this range is:  1562\n",
            "The value_counts is:\n",
            " 1    826\n",
            "0    736\n",
            "Name: target, dtype: int64\n",
            "---------------------------------------------------------------------------\n",
            "Tweet Lenght Range from 140 to 160 :\n",
            "\n",
            "the amount of tweets in this range is:  203\n",
            "The value_counts is:\n",
            " 0    109\n",
            "1     94\n",
            "Name: target, dtype: int64\n",
            "---------------------------------------------------------------------------\n"
          ],
          "name": "stdout"
        }
      ]
    },
    {
      "cell_type": "markdown",
      "metadata": {
        "id": "pFRvMVru4WVF",
        "colab_type": "text"
      },
      "source": [
        "### Analizing the words"
      ]
    },
    {
      "cell_type": "markdown",
      "metadata": {
        "id": "NLQ-Ij856poN",
        "colab_type": "text"
      },
      "source": [
        "#### Before dropping stopwords"
      ]
    },
    {
      "cell_type": "code",
      "metadata": {
        "id": "oqdiOsYw609q",
        "colab_type": "code",
        "colab": {
          "base_uri": "https://localhost:8080/",
          "height": 221
        },
        "outputId": "ba7c1025-a5ac-4009-f369-a01c9af790de"
      },
      "source": [
        "#Getting a serie cointaining in each row the list of words of each tweet\n",
        "df['list_words']=df['text'].apply(lambda x: x.split())\n",
        "df['list_words']"
      ],
      "execution_count": 66,
      "outputs": [
        {
          "output_type": "execute_result",
          "data": {
            "text/plain": [
              "0       [Our, Deeds, are, the, Reason, of, this, #eart...\n",
              "1          [Forest, fire, near, La, Ronge, Sask., Canada]\n",
              "2       [All, residents, asked, to, 'shelter, in, plac...\n",
              "3       [13,000, people, receive, #wildfires, evacuati...\n",
              "4       [Just, got, sent, this, photo, from, Ruby, #Al...\n",
              "                              ...                        \n",
              "7608    [Two, giant, cranes, holding, a, bridge, colla...\n",
              "7609    [@aria_ahrary, @TheTawniest, The, out, of, con...\n",
              "7610    [M1.94, [01:04, UTC]?5km, S, of, Volcano, Hawa...\n",
              "7611    [Police, investigating, after, an, e-bike, col...\n",
              "7612    [The, Latest:, More, Homes, Razed, by, Norther...\n",
              "Name: list_words, Length: 7613, dtype: object"
            ]
          },
          "metadata": {
            "tags": []
          },
          "execution_count": 66
        }
      ]
    },
    {
      "cell_type": "code",
      "metadata": {
        "id": "O6IZa8Bh7MtV",
        "colab_type": "code",
        "colab": {
          "base_uri": "https://localhost:8080/",
          "height": 434
        },
        "outputId": "648db425-b3bb-4885-85bb-13d1351669ce"
      },
      "source": [
        "#Counting the words of each 'list_words'\n",
        "df['words_count']=df['list_words'].apply(lambda x: len(x))\n",
        "\n",
        "#Plotting two histograms\n",
        "plt.hist(df[df['target']==0]['words_count'], color='#7f6d5f', label='Not Real', bins=10)\n",
        "plt.hist(df[df['target']==1]['words_count'], color='#557f2d', label='Real', bins=10)\n",
        "\n",
        "#Plotting x_lines for means\n",
        "plt.axvline(df[df['target']==0]['words_count'].mean(), color='black', linestyle='dashed', linewidth=3)\n",
        "plt.axvline(df[df['target']==1]['words_count'].mean(), color='blue', linestyle='dashed', linewidth=3)\n",
        "\n",
        "#Plotting text\n",
        "min_ylim, max_ylim = plt.ylim()\n",
        "plt.text(df[df['target']==0]['words_count'].mean()*(0.00), max_ylim*0.85, '\"Not Real\" Mean: {:.2f}'.format(df[df['target']==0]['words_count'].mean()))\n",
        "plt.text(df[df['target']==1]['words_count'].mean()*1.05, max_ylim*0.3, '\"Real\" Mean: {:.2f}'.format(df[df['target']==1]['words_count'].mean()))\n",
        "\n",
        "\n",
        "plt.legend()\n",
        "plt.show()"
      ],
      "execution_count": 121,
      "outputs": [
        {
          "output_type": "display_data",
          "data": {
            "image/png": "[encoded data removed]",
            "text/plain": [
              "<Figure size 640x480 with 1 Axes>"
            ]
          },
          "metadata": {
            "tags": []
          }
        }
      ]
    },
    {
      "cell_type": "code",
      "metadata": {
        "id": "nFsMeIvrQdX7",
        "colab_type": "code",
        "colab": {
          "base_uri": "https://localhost:8080/",
          "height": 34
        },
        "outputId": "eb2948e0-a347-48cc-d96f-5e1a401eb091"
      },
      "source": [
        "#T-test for words_count\n",
        "from scipy import stats\n",
        "\n",
        "stats.ttest_ind(df[df['target']==0]['words_count'],df[df['target']==1]['words_count'],equal_var=False)"
      ],
      "execution_count": 125,
      "outputs": [
        {
          "output_type": "execute_result",
          "data": {
            "text/plain": [
              "Ttest_indResult(statistic=-3.5827341440382523, pvalue=0.0003421596979870606)"
            ]
          },
          "metadata": {
            "tags": []
          },
          "execution_count": 125
        }
      ]
    },
    {
      "cell_type": "code",
      "metadata": {
        "id": "HzyFwXCU72mN",
        "colab_type": "code",
        "colab": {
          "base_uri": "https://localhost:8080/",
          "height": 434
        },
        "outputId": "75eaebd5-3957-4fba-d052-2395b1cafcf5"
      },
      "source": [
        "#Number of character per word. \n",
        "df['avg_characters_per_word']=df['tweet_len']/df['words_count']\n",
        "\n",
        "#Plotting both hist together\n",
        "plt.hist(df[df['target']==0]['avg_characters_per_word'], color='#7f6d5f', label='Not Real', bins=30)\n",
        "plt.hist(df[df['target']==1]['avg_characters_per_word'], color='#557f2d', label='Real', bins=30)\n",
        "\n",
        "#plotting avg lines. \n",
        "plt.axvline(df[df['target']==0]['avg_characters_per_word'].mean(), color='black', linestyle='dashed', linewidth=3)\n",
        "plt.axvline(df[df['target']==1]['avg_characters_per_word'].mean(), color='blue', linestyle='dashed', linewidth=3)\n",
        "\n",
        "#Plotting text\n",
        "min_ylim, max_ylim = plt.ylim()\n",
        "plt.text(df[df['target']==0]['avg_characters_per_word'].mean()*(-0.05), max_ylim*0.85,\\\n",
        "         '\"Not Real\" Mean: {:.2f}'.format(df[df['target']==0]['avg_characters_per_word'].mean()))\n",
        "plt.text(df[df['target']==1]['avg_characters_per_word'].mean()*1.05, max_ylim*0.3, \\\n",
        "         '\"Real\" Mean: {:.2f}'.format(df[df['target']==1]['avg_characters_per_word'].mean()))\n",
        "\n",
        "plt.legend()\n",
        "plt.show()"
      ],
      "execution_count": 120,
      "outputs": [
        {
          "output_type": "display_data",
          "data": {
            "image/png": "[encoded data removed]",
            "text/plain": [
              "<Figure size 640x480 with 1 Axes>"
            ]
          },
          "metadata": {
            "tags": []
          }
        }
      ]
    },
    {
      "cell_type": "code",
      "metadata": {
        "id": "d5DgOED-8-8M",
        "colab_type": "code",
        "colab": {
          "base_uri": "https://localhost:8080/",
          "height": 34
        },
        "outputId": "30bd4cd2-4921-4acc-afe4-638599eba268"
      },
      "source": [
        "#T-test for avg_characters_per_word\n",
        "stats.ttest_ind(df[df['target']==0]['avg_characters_per_word'],df[df['target']==1]['avg_characters_per_word'],equal_var=False)"
      ],
      "execution_count": 126,
      "outputs": [
        {
          "output_type": "execute_result",
          "data": {
            "text/plain": [
              "Ttest_indResult(statistic=-16.507057390104332, pvalue=3.7846040039667963e-60)"
            ]
          },
          "metadata": {
            "tags": []
          },
          "execution_count": 126
        }
      ]
    }
  ]
}