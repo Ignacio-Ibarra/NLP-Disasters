{
  "nbformat": 4,
  "nbformat_minor": 0,
  "metadata": {
    "colab": {
      "name": "LSTM over text_cleaned with Data Augmentation.ipynb",
      "provenance": [],
      "collapsed_sections": [],
      "authorship_tag": "ABX9TyPE7ZL/vrdsgr4FfW0UCUQ/",
      "include_colab_link": true
    },
    "kernelspec": {
      "name": "python3",
      "display_name": "Python 3"
    }
  },
  "cells": [
    {
      "cell_type": "markdown",
      "metadata": {
        "id": "view-in-github",
        "colab_type": "text"
      },
      "source": [
        "<a href=\"https://colab.research.google.com/github/Ignacio-Ibarra/NLP-Disasters/blob/master/VERSION%20FINAL/TP%202/Modelos/LSTM/Using%20Data%20Augmentation/LSTM_Data_Augmentation_synonym_replacement.ipynb\" target=\"_parent\"><img src=\"https://colab.research.google.com/assets/colab-badge.svg\" alt=\"Open In Colab\"/></a>"
      ]
    },
    {
      "cell_type": "markdown",
      "metadata": {
        "id": "KgRLlP2Np0Wv",
        "colab_type": "text"
      },
      "source": [
        "We're going to implement a data augmentation via random synonyms replacement of any word in each sentence. "
      ]
    },
    {
      "cell_type": "markdown",
      "metadata": {
        "id": "fg9rYtXU6jFF",
        "colab_type": "text"
      },
      "source": [
        "# Libraries"
      ]
    },
    {
      "cell_type": "code",
      "metadata": {
        "id": "ZmfYhcuPgmvn",
        "colab_type": "code",
        "colab": {
          "base_uri": "https://localhost:8080/",
          "height": 34
        },
        "outputId": "2b041679-6e57-4be0-871c-6ccd97eb90f4"
      },
      "source": [
        "from keras.preprocessing.text import Tokenizer\n",
        "from keras.preprocessing.sequence import pad_sequences\n",
        "from keras.preprocessing import sequence\n",
        "import pandas as pd\n",
        "import numpy as np\n",
        "import matplotlib.pyplot as plt\n",
        "%matplotlib inline"
      ],
      "execution_count": null,
      "outputs": [
        {
          "output_type": "stream",
          "text": [
            "Using TensorFlow backend.\n"
          ],
          "name": "stderr"
        }
      ]
    },
    {
      "cell_type": "markdown",
      "metadata": {
        "id": "yTgjv7q4k4JS",
        "colab_type": "text"
      },
      "source": [
        "# Reading CSV files"
      ]
    },
    {
      "cell_type": "code",
      "metadata": {
        "id": "nS76xTlGgijN",
        "colab_type": "code",
        "colab": {}
      },
      "source": [
        "x_train = pd.read_csv(r'https://raw.githubusercontent.com/Ignacio-Ibarra/NLP-Disasters/intento_4/intento_4/csv/x_train_cleaned.csv', \n",
        "                    usecols = ['text_cleaned','location_cleaned','keyword_cleaned'])\n",
        "x_test = pd.read_csv(r'https://raw.githubusercontent.com/Ignacio-Ibarra/NLP-Disasters/intento_4/intento_4/csv/x_test_cleaned.csv',\n",
        "                    usecols = ['text_cleaned','location_cleaned','keyword_cleaned'])\n",
        "id_test = pd.read_csv(r'https://raw.githubusercontent.com/Ignacio-Ibarra/NLP-Disasters/intento_4/intento_4/csv/x_test_cleaned.csv',\n",
        "                    usecols = ['id'])\n",
        "y_train = pd.read_csv(r'https://raw.githubusercontent.com/Ignacio-Ibarra/NLP-Disasters/intento_4/intento_4/csv/y_train_cleaned.csv')"
      ],
      "execution_count": null,
      "outputs": []
    },
    {
      "cell_type": "code",
      "metadata": {
        "id": "Sflp5rdVhWom",
        "colab_type": "code",
        "colab": {
          "base_uri": "https://localhost:8080/",
          "height": 34
        },
        "outputId": "b8a1f6fc-e5fd-4ad0-d74e-fa76b0339098"
      },
      "source": [
        "len(x_train) "
      ],
      "execution_count": null,
      "outputs": [
        {
          "output_type": "execute_result",
          "data": {
            "text/plain": [
              "6879"
            ]
          },
          "metadata": {
            "tags": []
          },
          "execution_count": 9
        }
      ]
    },
    {
      "cell_type": "code",
      "metadata": {
        "id": "MJSl2nZZ4fIh",
        "colab_type": "code",
        "colab": {}
      },
      "source": [
        "x_train['text_cleaned'] = x_train['text_cleaned'].apply(lambda x: \" \".join([str(i) for i in str(x).split()]))\n",
        "x_train['keyword_cleaned'] = x_train['keyword_cleaned'].apply(lambda x: \" \".join([str(i) for i in str(x).split()]))\n",
        "x_train['location_cleaned'] = x_train['location_cleaned'].apply(lambda x: \" \".join([str(i) for i in str(x).split()]))\n",
        "\n",
        "x_test['text_cleaned'] = x_test['text_cleaned'].apply(lambda x: \" \".join([str(i) for i in str(x).split()]))\n",
        "x_test['keyword_cleaned'] = x_test['keyword_cleaned'].apply(lambda x: \" \".join([str(i) for i in str(x).split()]))\n",
        "x_test['location_cleaned'] = x_test['location_cleaned'].apply(lambda x: \" \".join([str(i) for i in str(x).split()]))"
      ],
      "execution_count": null,
      "outputs": []
    },
    {
      "cell_type": "markdown",
      "metadata": {
        "id": "QioWonKF0gky",
        "colab_type": "text"
      },
      "source": [
        "# Data Augmentation"
      ]
    },
    {
      "cell_type": "code",
      "metadata": {
        "id": "29PRzgcU0kfW",
        "colab_type": "code",
        "colab": {
          "base_uri": "https://localhost:8080/",
          "height": 87
        },
        "outputId": "5a91010e-d779-4681-d2f6-b9cf8a26e367"
      },
      "source": [
        "import nltk\n",
        "from nltk.corpus import wordnet as wn\n",
        "from nltk.corpus import stopwords\n",
        "nltk.download('wordnet')\n",
        "nltk.download('stopwords')\n",
        "import random"
      ],
      "execution_count": null,
      "outputs": [
        {
          "output_type": "stream",
          "text": [
            "[nltk_data] Downloading package wordnet to /root/nltk_data...\n",
            "[nltk_data]   Package wordnet is already up-to-date!\n",
            "[nltk_data] Downloading package stopwords to /root/nltk_data...\n",
            "[nltk_data]   Package stopwords is already up-to-date!\n"
          ],
          "name": "stdout"
        }
      ]
    },
    {
      "cell_type": "markdown",
      "metadata": {
        "id": "a_P2cfOO2uxl",
        "colab_type": "text"
      },
      "source": [
        "We will get another sentence for every sentence we have. "
      ]
    },
    {
      "cell_type": "code",
      "metadata": {
        "id": "wiMhyARB3mm2",
        "colab_type": "code",
        "colab": {
          "base_uri": "https://localhost:8080/",
          "height": 160
        },
        "outputId": "4ec5fd79-5420-4c29-dcba-8c5a703ce1f9"
      },
      "source": [
        "text = 'we will get another sentence for every sentence we have'\n",
        "synonym_replacement(text,2)"
      ],
      "execution_count": null,
      "outputs": [
        {
          "output_type": "stream",
          "text": [
            "['we', 'will', 'get', 'another', 'sentence', 'for', 'every', 'sentence', 'we', 'have']\n",
            "random list:  ['every', 'another', 'get', 'sentence']\n",
            "random list post-shuffle : ['get', 'sentence', 'every', 'another']\n",
            "get\n",
            "synonym:  convey\n",
            "sentence\n",
            "synonym:  prison term\n"
          ],
          "name": "stdout"
        },
        {
          "output_type": "execute_result",
          "data": {
            "application/vnd.google.colaboratory.intrinsic+json": {
              "type": "string"
            },
            "text/plain": [
              "'we will convey another prison term for every prison term we have'"
            ]
          },
          "metadata": {
            "tags": []
          },
          "execution_count": 8
        }
      ]
    },
    {
      "cell_type": "markdown",
      "metadata": {
        "id": "WDZUjALZGcB_",
        "colab_type": "text"
      },
      "source": [
        "Uy funciona muuuy mal"
      ]
    },
    {
      "cell_type": "markdown",
      "metadata": {
        "id": "Kl9zD9Pn3Je2",
        "colab_type": "text"
      },
      "source": [
        "## Using pre-trained vectors to obtain similarity"
      ]
    },
    {
      "cell_type": "code",
      "metadata": {
        "id": "kxvzOb9tR3Ys",
        "colab_type": "code",
        "colab": {
          "base_uri": "https://localhost:8080/",
          "height": 141
        },
        "outputId": "6eb2b2f6-0987-4571-a01a-9fb8bc9fba36"
      },
      "source": [
        "import numpy as np\n",
        "\n",
        "!wget -P /root/input/ -c \"https://s3.amazonaws.com/dl4j-distribution/GoogleNews-vectors-negative300.bin.gz\""
      ],
      "execution_count": null,
      "outputs": [
        {
          "output_type": "stream",
          "text": [
            "--2020-08-02 22:07:16--  https://s3.amazonaws.com/dl4j-distribution/GoogleNews-vectors-negative300.bin.gz\n",
            "Resolving s3.amazonaws.com (s3.amazonaws.com)... 52.217.96.62\n",
            "Connecting to s3.amazonaws.com (s3.amazonaws.com)|52.217.96.62|:443... connected.\n",
            "HTTP request sent, awaiting response... 416 Requested Range Not Satisfiable\n",
            "\n",
            "    The file is already fully retrieved; nothing to do.\n",
            "\n"
          ],
          "name": "stdout"
        }
      ]
    },
    {
      "cell_type": "code",
      "metadata": {
        "id": "tHbHuM-5R_19",
        "colab_type": "code",
        "colab": {
          "base_uri": "https://localhost:8080/",
          "height": 318
        },
        "outputId": "71360c23-f6cf-4e22-ce73-76cb35dc9886"
      },
      "source": [
        "!pip install gensim\n",
        "from gensim.models import KeyedVectors"
      ],
      "execution_count": null,
      "outputs": [
        {
          "output_type": "stream",
          "text": [
            "Requirement already satisfied: gensim in /usr/local/lib/python3.6/dist-packages (3.6.0)\n",
            "Requirement already satisfied: scipy>=0.18.1 in /usr/local/lib/python3.6/dist-packages (from gensim) (1.4.1)\n",
            "Requirement already satisfied: six>=1.5.0 in /usr/local/lib/python3.6/dist-packages (from gensim) (1.15.0)\n",
            "Requirement already satisfied: smart-open>=1.2.1 in /usr/local/lib/python3.6/dist-packages (from gensim) (2.1.0)\n",
            "Requirement already satisfied: numpy>=1.11.3 in /usr/local/lib/python3.6/dist-packages (from gensim) (1.18.5)\n",
            "Requirement already satisfied: requests in /usr/local/lib/python3.6/dist-packages (from smart-open>=1.2.1->gensim) (2.23.0)\n",
            "Requirement already satisfied: boto in /usr/local/lib/python3.6/dist-packages (from smart-open>=1.2.1->gensim) (2.49.0)\n",
            "Requirement already satisfied: boto3 in /usr/local/lib/python3.6/dist-packages (from smart-open>=1.2.1->gensim) (1.14.30)\n",
            "Requirement already satisfied: urllib3!=1.25.0,!=1.25.1,<1.26,>=1.21.1 in /usr/local/lib/python3.6/dist-packages (from requests->smart-open>=1.2.1->gensim) (1.24.3)\n",
            "Requirement already satisfied: idna<3,>=2.5 in /usr/local/lib/python3.6/dist-packages (from requests->smart-open>=1.2.1->gensim) (2.10)\n",
            "Requirement already satisfied: certifi>=2017.4.17 in /usr/local/lib/python3.6/dist-packages (from requests->smart-open>=1.2.1->gensim) (2020.6.20)\n",
            "Requirement already satisfied: chardet<4,>=3.0.2 in /usr/local/lib/python3.6/dist-packages (from requests->smart-open>=1.2.1->gensim) (3.0.4)\n",
            "Requirement already satisfied: jmespath<1.0.0,>=0.7.1 in /usr/local/lib/python3.6/dist-packages (from boto3->smart-open>=1.2.1->gensim) (0.10.0)\n",
            "Requirement already satisfied: botocore<1.18.0,>=1.17.30 in /usr/local/lib/python3.6/dist-packages (from boto3->smart-open>=1.2.1->gensim) (1.17.30)\n",
            "Requirement already satisfied: s3transfer<0.4.0,>=0.3.0 in /usr/local/lib/python3.6/dist-packages (from boto3->smart-open>=1.2.1->gensim) (0.3.3)\n",
            "Requirement already satisfied: python-dateutil<3.0.0,>=2.1 in /usr/local/lib/python3.6/dist-packages (from botocore<1.18.0,>=1.17.30->boto3->smart-open>=1.2.1->gensim) (2.8.1)\n",
            "Requirement already satisfied: docutils<0.16,>=0.10 in /usr/local/lib/python3.6/dist-packages (from botocore<1.18.0,>=1.17.30->boto3->smart-open>=1.2.1->gensim) (0.15.2)\n"
          ],
          "name": "stdout"
        }
      ]
    },
    {
      "cell_type": "code",
      "metadata": {
        "id": "KzCMgubzSAih",
        "colab_type": "code",
        "colab": {
          "base_uri": "https://localhost:8080/",
          "height": 72
        },
        "outputId": "3248560f-d87b-4edc-bb97-023535985251"
      },
      "source": [
        "EMBEDDING_FILE = '/root/input/GoogleNews-vectors-negative300.bin.gz' # from above\n",
        "word2vec = KeyedVectors.load_word2vec_format(EMBEDDING_FILE, binary=True)"
      ],
      "execution_count": null,
      "outputs": [
        {
          "output_type": "stream",
          "text": [
            "/usr/local/lib/python3.6/dist-packages/smart_open/smart_open_lib.py:254: UserWarning: This function is deprecated, use smart_open.open instead. See the migration notes for details: https://github.com/RaRe-Technologies/smart_open/blob/master/README.rst#migrating-to-the-new-open-function\n",
            "  'See the migration notes for details: %s' % _MIGRATION_NOTES_URL\n"
          ],
          "name": "stderr"
        }
      ]
    },
    {
      "cell_type": "code",
      "metadata": {
        "id": "H_ip2JeiKNDz",
        "colab_type": "code",
        "colab": {
          "base_uri": "https://localhost:8080/",
          "height": 1000
        },
        "outputId": "596f2b0b-9e3c-4e9b-859b-cfb4fcf29949"
      },
      "source": [
        "word2vec.vocab"
      ],
      "execution_count": null,
      "outputs": [
        {
          "output_type": "execute_result",
          "data": {
            "text/plain": [
              "{'</s>': <gensim.models.keyedvectors.Vocab at 0x7f97fdcd7940>,\n",
              " 'in': <gensim.models.keyedvectors.Vocab at 0x7f97fdcd7a20>,\n",
              " 'for': <gensim.models.keyedvectors.Vocab at 0x7f97fdcd7a90>,\n",
              " 'that': <gensim.models.keyedvectors.Vocab at 0x7f97fdcd7b00>,\n",
              " 'is': <gensim.models.keyedvectors.Vocab at 0x7f97fdcd7b70>,\n",
              " 'on': <gensim.models.keyedvectors.Vocab at 0x7f97fdcd7be0>,\n",
              " '##': <gensim.models.keyedvectors.Vocab at 0x7f97fdcd7c50>,\n",
              " 'The': <gensim.models.keyedvectors.Vocab at 0x7f97fdcd7cc0>,\n",
              " 'with': <gensim.models.keyedvectors.Vocab at 0x7f97fdcd7d30>,\n",
              " 'said': <gensim.models.keyedvectors.Vocab at 0x7f97fdcd7da0>,\n",
              " 'was': <gensim.models.keyedvectors.Vocab at 0x7f97fdcd7e10>,\n",
              " 'the': <gensim.models.keyedvectors.Vocab at 0x7f97fdcd7e80>,\n",
              " 'at': <gensim.models.keyedvectors.Vocab at 0x7f97fdcd7ef0>,\n",
              " 'not': <gensim.models.keyedvectors.Vocab at 0x7f97fdcd7f60>,\n",
              " 'as': <gensim.models.keyedvectors.Vocab at 0x7f97fdcd7fd0>,\n",
              " 'it': <gensim.models.keyedvectors.Vocab at 0x7f97fdce5080>,\n",
              " 'be': <gensim.models.keyedvectors.Vocab at 0x7f97fdce50f0>,\n",
              " 'from': <gensim.models.keyedvectors.Vocab at 0x7f97fdce5160>,\n",
              " 'by': <gensim.models.keyedvectors.Vocab at 0x7f97fdce51d0>,\n",
              " 'are': <gensim.models.keyedvectors.Vocab at 0x7f97fdce5240>,\n",
              " 'I': <gensim.models.keyedvectors.Vocab at 0x7f97fdce5278>,\n",
              " 'have': <gensim.models.keyedvectors.Vocab at 0x7f97fdce52e8>,\n",
              " 'he': <gensim.models.keyedvectors.Vocab at 0x7f97fdce5358>,\n",
              " 'will': <gensim.models.keyedvectors.Vocab at 0x7f97fdce53c8>,\n",
              " 'has': <gensim.models.keyedvectors.Vocab at 0x7f97fdce5438>,\n",
              " '####': <gensim.models.keyedvectors.Vocab at 0x7f97fdce54a8>,\n",
              " 'his': <gensim.models.keyedvectors.Vocab at 0x7f97fdce5518>,\n",
              " 'an': <gensim.models.keyedvectors.Vocab at 0x7f97fdce5588>,\n",
              " 'this': <gensim.models.keyedvectors.Vocab at 0x7f97fdce55f8>,\n",
              " 'or': <gensim.models.keyedvectors.Vocab at 0x7f97fdce5668>,\n",
              " 'their': <gensim.models.keyedvectors.Vocab at 0x7f97fdce56d8>,\n",
              " 'who': <gensim.models.keyedvectors.Vocab at 0x7f97fdce5748>,\n",
              " 'they': <gensim.models.keyedvectors.Vocab at 0x7f97fdce57b8>,\n",
              " 'but': <gensim.models.keyedvectors.Vocab at 0x7f97fdce5828>,\n",
              " '$': <gensim.models.keyedvectors.Vocab at 0x7f97fdce5860>,\n",
              " 'had': <gensim.models.keyedvectors.Vocab at 0x7f97fdce58d0>,\n",
              " 'year': <gensim.models.keyedvectors.Vocab at 0x7f97fdce5940>,\n",
              " 'were': <gensim.models.keyedvectors.Vocab at 0x7f97fdce59b0>,\n",
              " 'we': <gensim.models.keyedvectors.Vocab at 0x7f97fdce5a20>,\n",
              " 'more': <gensim.models.keyedvectors.Vocab at 0x7f97fdce5a90>,\n",
              " '###': <gensim.models.keyedvectors.Vocab at 0x7f97fdce5b00>,\n",
              " 'up': <gensim.models.keyedvectors.Vocab at 0x7f97fdce5b70>,\n",
              " 'been': <gensim.models.keyedvectors.Vocab at 0x7f97fdce5be0>,\n",
              " 'you': <gensim.models.keyedvectors.Vocab at 0x7f97fdce5c50>,\n",
              " 'its': <gensim.models.keyedvectors.Vocab at 0x7f97fdce5cc0>,\n",
              " 'one': <gensim.models.keyedvectors.Vocab at 0x7f97fdce5d30>,\n",
              " 'about': <gensim.models.keyedvectors.Vocab at 0x7f97fdce5da0>,\n",
              " 'would': <gensim.models.keyedvectors.Vocab at 0x7f97fdce5e10>,\n",
              " 'which': <gensim.models.keyedvectors.Vocab at 0x7f97fdce5e80>,\n",
              " 'out': <gensim.models.keyedvectors.Vocab at 0x7f97fdce5ef0>,\n",
              " 'can': <gensim.models.keyedvectors.Vocab at 0x7f97fdce5f60>,\n",
              " 'It': <gensim.models.keyedvectors.Vocab at 0x7f97fdce5fd0>,\n",
              " 'all': <gensim.models.keyedvectors.Vocab at 0x7f97fdce8080>,\n",
              " 'also': <gensim.models.keyedvectors.Vocab at 0x7f97fdce80f0>,\n",
              " 'two': <gensim.models.keyedvectors.Vocab at 0x7f97fdce8160>,\n",
              " 'after': <gensim.models.keyedvectors.Vocab at 0x7f97fdce81d0>,\n",
              " 'first': <gensim.models.keyedvectors.Vocab at 0x7f97fdce8240>,\n",
              " 'He': <gensim.models.keyedvectors.Vocab at 0x7f97fdce82b0>,\n",
              " 'do': <gensim.models.keyedvectors.Vocab at 0x7f97fdce8320>,\n",
              " 'time': <gensim.models.keyedvectors.Vocab at 0x7f97fdce8390>,\n",
              " 'than': <gensim.models.keyedvectors.Vocab at 0x7f97fdce8400>,\n",
              " 'when': <gensim.models.keyedvectors.Vocab at 0x7f97fdce8470>,\n",
              " 'We': <gensim.models.keyedvectors.Vocab at 0x7f97fdce84e0>,\n",
              " 'over': <gensim.models.keyedvectors.Vocab at 0x7f97fdce8550>,\n",
              " 'last': <gensim.models.keyedvectors.Vocab at 0x7f97fdce85c0>,\n",
              " 'new': <gensim.models.keyedvectors.Vocab at 0x7f97fdce8630>,\n",
              " 'other': <gensim.models.keyedvectors.Vocab at 0x7f97fdce86a0>,\n",
              " 'her': <gensim.models.keyedvectors.Vocab at 0x7f97fdce8710>,\n",
              " 'people': <gensim.models.keyedvectors.Vocab at 0x7f97fdce8780>,\n",
              " 'into': <gensim.models.keyedvectors.Vocab at 0x7f97fdce87f0>,\n",
              " 'In': <gensim.models.keyedvectors.Vocab at 0x7f97fdce8860>,\n",
              " 'our': <gensim.models.keyedvectors.Vocab at 0x7f97fdce88d0>,\n",
              " 'there': <gensim.models.keyedvectors.Vocab at 0x7f97fdce8940>,\n",
              " 'A': <gensim.models.keyedvectors.Vocab at 0x7f97fdce8978>,\n",
              " 'she': <gensim.models.keyedvectors.Vocab at 0x7f97fdce89e8>,\n",
              " 'could': <gensim.models.keyedvectors.Vocab at 0x7f97fdce8a58>,\n",
              " 'just': <gensim.models.keyedvectors.Vocab at 0x7f97fdce8ac8>,\n",
              " 'years': <gensim.models.keyedvectors.Vocab at 0x7f97fdce8b38>,\n",
              " 'some': <gensim.models.keyedvectors.Vocab at 0x7f97fdce8ba8>,\n",
              " 'U.S.': <gensim.models.keyedvectors.Vocab at 0x7f97fdce8c18>,\n",
              " 'three': <gensim.models.keyedvectors.Vocab at 0x7f97fdce8c88>,\n",
              " 'million': <gensim.models.keyedvectors.Vocab at 0x7f97fdce8cf8>,\n",
              " 'them': <gensim.models.keyedvectors.Vocab at 0x7f97fdce8d68>,\n",
              " 'what': <gensim.models.keyedvectors.Vocab at 0x7f97fdce8dd8>,\n",
              " 'But': <gensim.models.keyedvectors.Vocab at 0x7f97fdce8e48>,\n",
              " 'so': <gensim.models.keyedvectors.Vocab at 0x7f97fdce8eb8>,\n",
              " 'no': <gensim.models.keyedvectors.Vocab at 0x7f97fdce8f28>,\n",
              " 'like': <gensim.models.keyedvectors.Vocab at 0x7f97fdce8f98>,\n",
              " 'if': <gensim.models.keyedvectors.Vocab at 0x7f97fdcea048>,\n",
              " 'only': <gensim.models.keyedvectors.Vocab at 0x7f97fdcea0b8>,\n",
              " 'percent': <gensim.models.keyedvectors.Vocab at 0x7f97fdcea128>,\n",
              " 'get': <gensim.models.keyedvectors.Vocab at 0x7f97fdcea198>,\n",
              " 'did': <gensim.models.keyedvectors.Vocab at 0x7f97fdcea208>,\n",
              " 'him': <gensim.models.keyedvectors.Vocab at 0x7f97fdcea278>,\n",
              " 'game': <gensim.models.keyedvectors.Vocab at 0x7f97fdcea2e8>,\n",
              " 'back': <gensim.models.keyedvectors.Vocab at 0x7f97fdcea358>,\n",
              " 'because': <gensim.models.keyedvectors.Vocab at 0x7f97fdcea3c8>,\n",
              " 'now': <gensim.models.keyedvectors.Vocab at 0x7f97fdcea438>,\n",
              " '#.#': <gensim.models.keyedvectors.Vocab at 0x7f97fdcea4a8>,\n",
              " 'before': <gensim.models.keyedvectors.Vocab at 0x7f97fdcea518>,\n",
              " 'company': <gensim.models.keyedvectors.Vocab at 0x7f97fdcea588>,\n",
              " 'any': <gensim.models.keyedvectors.Vocab at 0x7f97fdcea5f8>,\n",
              " 'team': <gensim.models.keyedvectors.Vocab at 0x7f97fdcea668>,\n",
              " 'against': <gensim.models.keyedvectors.Vocab at 0x7f97fdcea6d8>,\n",
              " 'off': <gensim.models.keyedvectors.Vocab at 0x7f97fdcea748>,\n",
              " 'This': <gensim.models.keyedvectors.Vocab at 0x7f97fdcea7b8>,\n",
              " 'most': <gensim.models.keyedvectors.Vocab at 0x7f97fdcea828>,\n",
              " 'made': <gensim.models.keyedvectors.Vocab at 0x7f97fdcea898>,\n",
              " 'through': <gensim.models.keyedvectors.Vocab at 0x7f97fdcea908>,\n",
              " 'make': <gensim.models.keyedvectors.Vocab at 0x7f97fdcea978>,\n",
              " 'second': <gensim.models.keyedvectors.Vocab at 0x7f97fdcea9e8>,\n",
              " 'state': <gensim.models.keyedvectors.Vocab at 0x7f97fdceaa58>,\n",
              " 'well': <gensim.models.keyedvectors.Vocab at 0x7f97fdceaac8>,\n",
              " 'day': <gensim.models.keyedvectors.Vocab at 0x7f97fdceab38>,\n",
              " 'season': <gensim.models.keyedvectors.Vocab at 0x7f97fdceaba8>,\n",
              " 'says': <gensim.models.keyedvectors.Vocab at 0x7f97fdceac18>,\n",
              " 'week': <gensim.models.keyedvectors.Vocab at 0x7f97fdceac88>,\n",
              " 'where': <gensim.models.keyedvectors.Vocab at 0x7f97fdceacf8>,\n",
              " 'while': <gensim.models.keyedvectors.Vocab at 0x7f97fdcead68>,\n",
              " 'down': <gensim.models.keyedvectors.Vocab at 0x7f97fdceadd8>,\n",
              " 'being': <gensim.models.keyedvectors.Vocab at 0x7f97fdceae48>,\n",
              " 'government': <gensim.models.keyedvectors.Vocab at 0x7f97fdceae80>,\n",
              " 'your': <gensim.models.keyedvectors.Vocab at 0x7f97fdceaef0>,\n",
              " '#-#': <gensim.models.keyedvectors.Vocab at 0x7f97fdceaf60>,\n",
              " 'home': <gensim.models.keyedvectors.Vocab at 0x7f97fdceafd0>,\n",
              " 'going': <gensim.models.keyedvectors.Vocab at 0x7f97fdced080>,\n",
              " 'my': <gensim.models.keyedvectors.Vocab at 0x7f97fdced0f0>,\n",
              " 'good': <gensim.models.keyedvectors.Vocab at 0x7f97fdced160>,\n",
              " 'They': <gensim.models.keyedvectors.Vocab at 0x7f97fdced1d0>,\n",
              " \"'re\": <gensim.models.keyedvectors.Vocab at 0x7f97fdced240>,\n",
              " 'should': <gensim.models.keyedvectors.Vocab at 0x7f97fdced2b0>,\n",
              " 'many': <gensim.models.keyedvectors.Vocab at 0x7f97fdced320>,\n",
              " 'way': <gensim.models.keyedvectors.Vocab at 0x7f97fdced390>,\n",
              " 'those': <gensim.models.keyedvectors.Vocab at 0x7f97fdced400>,\n",
              " 'four': <gensim.models.keyedvectors.Vocab at 0x7f97fdced470>,\n",
              " 'during': <gensim.models.keyedvectors.Vocab at 0x7f97fdced4e0>,\n",
              " 'such': <gensim.models.keyedvectors.Vocab at 0x7f97fdced550>,\n",
              " 'may': <gensim.models.keyedvectors.Vocab at 0x7f97fdced5c0>,\n",
              " 'very': <gensim.models.keyedvectors.Vocab at 0x7f97fdced630>,\n",
              " 'how': <gensim.models.keyedvectors.Vocab at 0x7f97fdced6a0>,\n",
              " 'since': <gensim.models.keyedvectors.Vocab at 0x7f97fdced710>,\n",
              " 'work': <gensim.models.keyedvectors.Vocab at 0x7f97fdced780>,\n",
              " 'take': <gensim.models.keyedvectors.Vocab at 0x7f97fdced7f0>,\n",
              " 'including': <gensim.models.keyedvectors.Vocab at 0x7f97fdced828>,\n",
              " 'high': <gensim.models.keyedvectors.Vocab at 0x7f97fdced898>,\n",
              " 'then': <gensim.models.keyedvectors.Vocab at 0x7f97fdced908>,\n",
              " '%': <gensim.models.keyedvectors.Vocab at 0x7f97fdced940>,\n",
              " 'next': <gensim.models.keyedvectors.Vocab at 0x7f97fdced9b0>,\n",
              " '#,###': <gensim.models.keyedvectors.Vocab at 0x7f97fdceda20>,\n",
              " 'By': <gensim.models.keyedvectors.Vocab at 0x7f97fdceda90>,\n",
              " 'much': <gensim.models.keyedvectors.Vocab at 0x7f97fdcedb00>,\n",
              " 'still': <gensim.models.keyedvectors.Vocab at 0x7f97fdcedb70>,\n",
              " 'go': <gensim.models.keyedvectors.Vocab at 0x7f97fdcedbe0>,\n",
              " 'think': <gensim.models.keyedvectors.Vocab at 0x7f97fdcedc50>,\n",
              " 'old': <gensim.models.keyedvectors.Vocab at 0x7f97fdcedcc0>,\n",
              " 'even': <gensim.models.keyedvectors.Vocab at 0x7f97fdcedd30>,\n",
              " '#.##': <gensim.models.keyedvectors.Vocab at 0x7f97fdcedda0>,\n",
              " 'world': <gensim.models.keyedvectors.Vocab at 0x7f97fdcede10>,\n",
              " 'see': <gensim.models.keyedvectors.Vocab at 0x7f97fdcede80>,\n",
              " 'say': <gensim.models.keyedvectors.Vocab at 0x7f97fdcedef0>,\n",
              " 'business': <gensim.models.keyedvectors.Vocab at 0x7f97fdcedf28>,\n",
              " 'five': <gensim.models.keyedvectors.Vocab at 0x7f97fdcedf98>,\n",
              " 'told': <gensim.models.keyedvectors.Vocab at 0x7f97fdcee048>,\n",
              " 'under': <gensim.models.keyedvectors.Vocab at 0x7f97fdcee0b8>,\n",
              " 'us': <gensim.models.keyedvectors.Vocab at 0x7f97fdcee128>,\n",
              " '1': <gensim.models.keyedvectors.Vocab at 0x7f97fdcee160>,\n",
              " 'these': <gensim.models.keyedvectors.Vocab at 0x7f97fdcee1d0>,\n",
              " 'If': <gensim.models.keyedvectors.Vocab at 0x7f97fdcee240>,\n",
              " 'right': <gensim.models.keyedvectors.Vocab at 0x7f97fdcee2b0>,\n",
              " 'And': <gensim.models.keyedvectors.Vocab at 0x7f97fdcee320>,\n",
              " 'me': <gensim.models.keyedvectors.Vocab at 0x7f97fdcee390>,\n",
              " 'between': <gensim.models.keyedvectors.Vocab at 0x7f97fdcee400>,\n",
              " 'play': <gensim.models.keyedvectors.Vocab at 0x7f97fdcee470>,\n",
              " 'help': <gensim.models.keyedvectors.Vocab at 0x7f97fdcee4e0>,\n",
              " '##,###': <gensim.models.keyedvectors.Vocab at 0x7f97fdcee550>,\n",
              " 'market': <gensim.models.keyedvectors.Vocab at 0x7f97fdcee5c0>,\n",
              " 'That': <gensim.models.keyedvectors.Vocab at 0x7f97fdcee630>,\n",
              " 'know': <gensim.models.keyedvectors.Vocab at 0x7f97fdcee6a0>,\n",
              " 'end': <gensim.models.keyedvectors.Vocab at 0x7f97fdcee710>,\n",
              " 'AP': <gensim.models.keyedvectors.Vocab at 0x7f97fdcee780>,\n",
              " 'long': <gensim.models.keyedvectors.Vocab at 0x7f97fdcee7f0>,\n",
              " 'information': <gensim.models.keyedvectors.Vocab at 0x7f97fdcee828>,\n",
              " 'points': <gensim.models.keyedvectors.Vocab at 0x7f97fdcee898>,\n",
              " 'does': <gensim.models.keyedvectors.Vocab at 0x7f97fdcee908>,\n",
              " 'both': <gensim.models.keyedvectors.Vocab at 0x7f97fdcee978>,\n",
              " 'There': <gensim.models.keyedvectors.Vocab at 0x7f97fdcee9e8>,\n",
              " 'part': <gensim.models.keyedvectors.Vocab at 0x7f97fdceea58>,\n",
              " 'around': <gensim.models.keyedvectors.Vocab at 0x7f97fdceeac8>,\n",
              " 'police': <gensim.models.keyedvectors.Vocab at 0x7f97fdceeb38>,\n",
              " 'want': <gensim.models.keyedvectors.Vocab at 0x7f97fdceeba8>,\n",
              " \"'ve\": <gensim.models.keyedvectors.Vocab at 0x7f97fdceec18>,\n",
              " 'based': <gensim.models.keyedvectors.Vocab at 0x7f97fdceec88>,\n",
              " 'For': <gensim.models.keyedvectors.Vocab at 0x7f97fdceecf8>,\n",
              " 'got': <gensim.models.keyedvectors.Vocab at 0x7f97fdceed68>,\n",
              " 'third': <gensim.models.keyedvectors.Vocab at 0x7f97fdceedd8>,\n",
              " 'school': <gensim.models.keyedvectors.Vocab at 0x7f97fdceee48>,\n",
              " 'left': <gensim.models.keyedvectors.Vocab at 0x7f97fdceeeb8>,\n",
              " 'another': <gensim.models.keyedvectors.Vocab at 0x7f97fdceef28>,\n",
              " 'country': <gensim.models.keyedvectors.Vocab at 0x7f97fdceef98>,\n",
              " 'need': <gensim.models.keyedvectors.Vocab at 0x7f97fdcf1048>,\n",
              " '2': <gensim.models.keyedvectors.Vocab at 0x7f97fdcf1080>,\n",
              " 'best': <gensim.models.keyedvectors.Vocab at 0x7f97fdcf10f0>,\n",
              " 'win': <gensim.models.keyedvectors.Vocab at 0x7f97fdcf1160>,\n",
              " 'quarter': <gensim.models.keyedvectors.Vocab at 0x7f97fdcf11d0>,\n",
              " 'use': <gensim.models.keyedvectors.Vocab at 0x7f97fdcf1240>,\n",
              " 'today': <gensim.models.keyedvectors.Vocab at 0x7f97fdcf12b0>,\n",
              " '##.#': <gensim.models.keyedvectors.Vocab at 0x7f97fdcf1320>,\n",
              " 'same': <gensim.models.keyedvectors.Vocab at 0x7f97fdcf1390>,\n",
              " 'public': <gensim.models.keyedvectors.Vocab at 0x7f97fdcf1400>,\n",
              " 'run': <gensim.models.keyedvectors.Vocab at 0x7f97fdcf1470>,\n",
              " 'Friday': <gensim.models.keyedvectors.Vocab at 0x7f97fdcf14e0>,\n",
              " 'set': <gensim.models.keyedvectors.Vocab at 0x7f97fdcf1550>,\n",
              " 'month': <gensim.models.keyedvectors.Vocab at 0x7f97fdcf15c0>,\n",
              " 'top': <gensim.models.keyedvectors.Vocab at 0x7f97fdcf1630>,\n",
              " 'billion': <gensim.models.keyedvectors.Vocab at 0x7f97fdcf16a0>,\n",
              " 'Tuesday': <gensim.models.keyedvectors.Vocab at 0x7f97fdcf1710>,\n",
              " 'come': <gensim.models.keyedvectors.Vocab at 0x7f97fdcf1780>,\n",
              " 'Monday': <gensim.models.keyedvectors.Vocab at 0x7f97fdcf17f0>,\n",
              " 'She': <gensim.models.keyedvectors.Vocab at 0x7f97fdcf1860>,\n",
              " 'city': <gensim.models.keyedvectors.Vocab at 0x7f97fdcf18d0>,\n",
              " 'place': <gensim.models.keyedvectors.Vocab at 0x7f97fdcf1940>,\n",
              " 'night': <gensim.models.keyedvectors.Vocab at 0x7f97fdcf19b0>,\n",
              " 'six': <gensim.models.keyedvectors.Vocab at 0x7f97fdcf1a20>,\n",
              " 'each': <gensim.models.keyedvectors.Vocab at 0x7f97fdcf1a90>,\n",
              " 'Thursday': <gensim.models.keyedvectors.Vocab at 0x7f97fdcf1ac8>,\n",
              " '###,###': <gensim.models.keyedvectors.Vocab at 0x7f97fdcf1b38>,\n",
              " 'Wednesday': <gensim.models.keyedvectors.Vocab at 0x7f97fdcf1b70>,\n",
              " 'here': <gensim.models.keyedvectors.Vocab at 0x7f97fdcf1be0>,\n",
              " 'You': <gensim.models.keyedvectors.Vocab at 0x7f97fdcf1c50>,\n",
              " 'group': <gensim.models.keyedvectors.Vocab at 0x7f97fdcf1cc0>,\n",
              " 'really': <gensim.models.keyedvectors.Vocab at 0x7f97fdcf1d30>,\n",
              " 'found': <gensim.models.keyedvectors.Vocab at 0x7f97fdcf1da0>,\n",
              " 'As': <gensim.models.keyedvectors.Vocab at 0x7f97fdcf1e10>,\n",
              " 'used': <gensim.models.keyedvectors.Vocab at 0x7f97fdcf1e80>,\n",
              " '3': <gensim.models.keyedvectors.Vocab at 0x7f97fdcf1eb8>,\n",
              " 'lot': <gensim.models.keyedvectors.Vocab at 0x7f97fdcf1f28>,\n",
              " \"'m\": <gensim.models.keyedvectors.Vocab at 0x7f97fdcf1f98>,\n",
              " 'money': <gensim.models.keyedvectors.Vocab at 0x7f97fdcf4048>,\n",
              " 'put': <gensim.models.keyedvectors.Vocab at 0x7f97fdcf40b8>,\n",
              " 'games': <gensim.models.keyedvectors.Vocab at 0x7f97fdcf4128>,\n",
              " 'support': <gensim.models.keyedvectors.Vocab at 0x7f97fdcf4198>,\n",
              " 'program': <gensim.models.keyedvectors.Vocab at 0x7f97fdcf4208>,\n",
              " 'half': <gensim.models.keyedvectors.Vocab at 0x7f97fdcf4278>,\n",
              " 'report': <gensim.models.keyedvectors.Vocab at 0x7f97fdcf42e8>,\n",
              " 'family': <gensim.models.keyedvectors.Vocab at 0x7f97fdcf4358>,\n",
              " 'months': <gensim.models.keyedvectors.Vocab at 0x7f97fdcf43c8>,\n",
              " 'number': <gensim.models.keyedvectors.Vocab at 0x7f97fdcf4438>,\n",
              " 'officials': <gensim.models.keyedvectors.Vocab at 0x7f97fdcf4470>,\n",
              " 'am': <gensim.models.keyedvectors.Vocab at 0x7f97fdcf44e0>,\n",
              " 'former': <gensim.models.keyedvectors.Vocab at 0x7f97fdcf4550>,\n",
              " 'own': <gensim.models.keyedvectors.Vocab at 0x7f97fdcf45c0>,\n",
              " 'man': <gensim.models.keyedvectors.Vocab at 0x7f97fdcf4630>,\n",
              " 'Saturday': <gensim.models.keyedvectors.Vocab at 0x7f97fdcf4668>,\n",
              " 'too': <gensim.models.keyedvectors.Vocab at 0x7f97fdcf46d8>,\n",
              " 'better': <gensim.models.keyedvectors.Vocab at 0x7f97fdcf4748>,\n",
              " 'days': <gensim.models.keyedvectors.Vocab at 0x7f97fdcf47b8>,\n",
              " 'came': <gensim.models.keyedvectors.Vocab at 0x7f97fdcf4828>,\n",
              " 'lead': <gensim.models.keyedvectors.Vocab at 0x7f97fdcf4898>,\n",
              " 'life': <gensim.models.keyedvectors.Vocab at 0x7f97fdcf4908>,\n",
              " 'American': <gensim.models.keyedvectors.Vocab at 0x7f97fdcf4940>,\n",
              " '##-##': <gensim.models.keyedvectors.Vocab at 0x7f97fdcf49b0>,\n",
              " 'show': <gensim.models.keyedvectors.Vocab at 0x7f97fdcf4a20>,\n",
              " 'past': <gensim.models.keyedvectors.Vocab at 0x7f97fdcf4a90>,\n",
              " 'took': <gensim.models.keyedvectors.Vocab at 0x7f97fdcf4b00>,\n",
              " 'added': <gensim.models.keyedvectors.Vocab at 0x7f97fdcf4b70>,\n",
              " 'expected': <gensim.models.keyedvectors.Vocab at 0x7f97fdcf4ba8>,\n",
              " 'called': <gensim.models.keyedvectors.Vocab at 0x7f97fdcf4c18>,\n",
              " 'great': <gensim.models.keyedvectors.Vocab at 0x7f97fdcf4c88>,\n",
              " 'State': <gensim.models.keyedvectors.Vocab at 0x7f97fdcf4cf8>,\n",
              " 'services': <gensim.models.keyedvectors.Vocab at 0x7f97fdcf4d30>,\n",
              " 'children': <gensim.models.keyedvectors.Vocab at 0x7f97fdcf4d68>,\n",
              " 'hit': <gensim.models.keyedvectors.Vocab at 0x7f97fdcf4dd8>,\n",
              " 'area': <gensim.models.keyedvectors.Vocab at 0x7f97fdcf4e48>,\n",
              " 'system': <gensim.models.keyedvectors.Vocab at 0x7f97fdcf4eb8>,\n",
              " 'every': <gensim.models.keyedvectors.Vocab at 0x7f97fdcf4f28>,\n",
              " 'pm': <gensim.models.keyedvectors.Vocab at 0x7f97fdcf4f98>,\n",
              " 'big': <gensim.models.keyedvectors.Vocab at 0x7f97fdcf7048>,\n",
              " 'service': <gensim.models.keyedvectors.Vocab at 0x7f97fdcf70b8>,\n",
              " 'few': <gensim.models.keyedvectors.Vocab at 0x7f97fdcf7128>,\n",
              " 'per': <gensim.models.keyedvectors.Vocab at 0x7f97fdcf7198>,\n",
              " 'members': <gensim.models.keyedvectors.Vocab at 0x7f97fdcf7208>,\n",
              " 'Sunday': <gensim.models.keyedvectors.Vocab at 0x7f97fdcf7278>,\n",
              " 'early': <gensim.models.keyedvectors.Vocab at 0x7f97fdcf72e8>,\n",
              " 'point': <gensim.models.keyedvectors.Vocab at 0x7f97fdcf7358>,\n",
              " 'start': <gensim.models.keyedvectors.Vocab at 0x7f97fdcf73c8>,\n",
              " 'companies': <gensim.models.keyedvectors.Vocab at 0x7f97fdcf7400>,\n",
              " 'little': <gensim.models.keyedvectors.Vocab at 0x7f97fdcf7470>,\n",
              " '&': <gensim.models.keyedvectors.Vocab at 0x7f97fdcf74a8>,\n",
              " 'case': <gensim.models.keyedvectors.Vocab at 0x7f97fdcf7518>,\n",
              " 'ago': <gensim.models.keyedvectors.Vocab at 0x7f97fdcf7588>,\n",
              " 'local': <gensim.models.keyedvectors.Vocab at 0x7f97fdcf75f8>,\n",
              " 'according': <gensim.models.keyedvectors.Vocab at 0x7f97fdcf7630>,\n",
              " 'never': <gensim.models.keyedvectors.Vocab at 0x7f97fdcf76a0>,\n",
              " '5': <gensim.models.keyedvectors.Vocab at 0x7f97fdcf76d8>,\n",
              " 'without': <gensim.models.keyedvectors.Vocab at 0x7f97fdcf7748>,\n",
              " 'sales': <gensim.models.keyedvectors.Vocab at 0x7f97fdcf77b8>,\n",
              " 'until': <gensim.models.keyedvectors.Vocab at 0x7f97fdcf7828>,\n",
              " 'went': <gensim.models.keyedvectors.Vocab at 0x7f97fdcf7898>,\n",
              " 'players': <gensim.models.keyedvectors.Vocab at 0x7f97fdcf7908>,\n",
              " '##th': <gensim.models.keyedvectors.Vocab at 0x7f97fdcf7978>,\n",
              " 'New_York': <gensim.models.keyedvectors.Vocab at 0x7f97fdcf79b0>,\n",
              " 'won': <gensim.models.keyedvectors.Vocab at 0x7f97fdcf7a20>,\n",
              " 'financial': <gensim.models.keyedvectors.Vocab at 0x7f97fdcf7a58>,\n",
              " 'news': <gensim.models.keyedvectors.Vocab at 0x7f97fdcf7ac8>,\n",
              " '4': <gensim.models.keyedvectors.Vocab at 0x7f97fdcf7b00>,\n",
              " 'When': <gensim.models.keyedvectors.Vocab at 0x7f97fdcf7b70>,\n",
              " 'share': <gensim.models.keyedvectors.Vocab at 0x7f97fdcf7be0>,\n",
              " 'several': <gensim.models.keyedvectors.Vocab at 0x7f97fdcf7c50>,\n",
              " 'free': <gensim.models.keyedvectors.Vocab at 0x7f97fdcf7cc0>,\n",
              " 'away': <gensim.models.keyedvectors.Vocab at 0x7f97fdcf7d30>,\n",
              " '##.##': <gensim.models.keyedvectors.Vocab at 0x7f97fdcf7da0>,\n",
              " 'already': <gensim.models.keyedvectors.Vocab at 0x7f97fdcf7e10>,\n",
              " 'On': <gensim.models.keyedvectors.Vocab at 0x7f97fdcf7e80>,\n",
              " 'industry': <gensim.models.keyedvectors.Vocab at 0x7f97fdcf7eb8>,\n",
              " \"'ll\": <gensim.models.keyedvectors.Vocab at 0x7f97fdcf7f28>,\n",
              " 'call': <gensim.models.keyedvectors.Vocab at 0x7f97fdcf7f98>,\n",
              " 'With': <gensim.models.keyedvectors.Vocab at 0x7f97fdcfa048>,\n",
              " 'students': <gensim.models.keyedvectors.Vocab at 0x7f97fdcfa080>,\n",
              " 'line': <gensim.models.keyedvectors.Vocab at 0x7f97fdcfa0f0>,\n",
              " 'available': <gensim.models.keyedvectors.Vocab at 0x7f97fdcfa128>,\n",
              " 'County': <gensim.models.keyedvectors.Vocab at 0x7f97fdcfa198>,\n",
              " 'making': <gensim.models.keyedvectors.Vocab at 0x7f97fdcfa208>,\n",
              " 'held': <gensim.models.keyedvectors.Vocab at 0x7f97fdcfa278>,\n",
              " 'final': <gensim.models.keyedvectors.Vocab at 0x7f97fdcfa2e8>,\n",
              " '#:##': <gensim.models.keyedvectors.Vocab at 0x7f97fdcfa358>,\n",
              " 'power': <gensim.models.keyedvectors.Vocab at 0x7f97fdcfa3c8>,\n",
              " 'plan': <gensim.models.keyedvectors.Vocab at 0x7f97fdcfa438>,\n",
              " 'might': <gensim.models.keyedvectors.Vocab at 0x7f97fdcfa4a8>,\n",
              " 'least': <gensim.models.keyedvectors.Vocab at 0x7f97fdcfa518>,\n",
              " 'look': <gensim.models.keyedvectors.Vocab at 0x7f97fdcfa588>,\n",
              " 'forward': <gensim.models.keyedvectors.Vocab at 0x7f97fdcfa5f8>,\n",
              " 'give': <gensim.models.keyedvectors.Vocab at 0x7f97fdcfa668>,\n",
              " 'At': <gensim.models.keyedvectors.Vocab at 0x7f97fdcfa6d8>,\n",
              " 'again': <gensim.models.keyedvectors.Vocab at 0x7f97fdcfa748>,\n",
              " 'later': <gensim.models.keyedvectors.Vocab at 0x7f97fdcfa7b8>,\n",
              " 'full': <gensim.models.keyedvectors.Vocab at 0x7f97fdcfa828>,\n",
              " 'must': <gensim.models.keyedvectors.Vocab at 0x7f97fdcfa898>,\n",
              " 'things': <gensim.models.keyedvectors.Vocab at 0x7f97fdcfa908>,\n",
              " 'major': <gensim.models.keyedvectors.Vocab at 0x7f97fdcfa978>,\n",
              " 'community': <gensim.models.keyedvectors.Vocab at 0x7f97fdcfa9b0>,\n",
              " 'announced': <gensim.models.keyedvectors.Vocab at 0x7f97fdcfa9e8>,\n",
              " 'open': <gensim.models.keyedvectors.Vocab at 0x7f97fdcfaa58>,\n",
              " 'record': <gensim.models.keyedvectors.Vocab at 0x7f97fdcfaac8>,\n",
              " 'reported': <gensim.models.keyedvectors.Vocab at 0x7f97fdcfab00>,\n",
              " 'court': <gensim.models.keyedvectors.Vocab at 0x7f97fdcfab70>,\n",
              " 'working': <gensim.models.keyedvectors.Vocab at 0x7f97fdcfabe0>,\n",
              " 'able': <gensim.models.keyedvectors.Vocab at 0x7f97fdcfac50>,\n",
              " 'something': <gensim.models.keyedvectors.Vocab at 0x7f97fdcfac88>,\n",
              " 'president': <gensim.models.keyedvectors.Vocab at 0x7f97fdcfacc0>,\n",
              " 'meeting': <gensim.models.keyedvectors.Vocab at 0x7f97fdcfad30>,\n",
              " 'keep': <gensim.models.keyedvectors.Vocab at 0x7f97fdcfada0>,\n",
              " 'March': <gensim.models.keyedvectors.Vocab at 0x7f97fdcfae10>,\n",
              " 'future': <gensim.models.keyedvectors.Vocab at 0x7f97fdcfae80>,\n",
              " 'far': <gensim.models.keyedvectors.Vocab at 0x7f97fdcfaef0>,\n",
              " 'deal': <gensim.models.keyedvectors.Vocab at 0x7f97fdcfaf60>,\n",
              " 'City': <gensim.models.keyedvectors.Vocab at 0x7f97fdcfafd0>,\n",
              " 'May': <gensim.models.keyedvectors.Vocab at 0x7f97fdcfd080>,\n",
              " 'development': <gensim.models.keyedvectors.Vocab at 0x7f97fdcfd0b8>,\n",
              " 'University': <gensim.models.keyedvectors.Vocab at 0x7f97fdcfd0f0>,\n",
              " 'find': <gensim.models.keyedvectors.Vocab at 0x7f97fdcfd160>,\n",
              " 'times': <gensim.models.keyedvectors.Vocab at 0x7f97fdcfd1d0>,\n",
              " 'After': <gensim.models.keyedvectors.Vocab at 0x7f97fdcfd240>,\n",
              " 'office': <gensim.models.keyedvectors.Vocab at 0x7f97fdcfd2b0>,\n",
              " 'led': <gensim.models.keyedvectors.Vocab at 0x7f97fdcfd320>,\n",
              " 'among': <gensim.models.keyedvectors.Vocab at 0x7f97fdcfd390>,\n",
              " 'June': <gensim.models.keyedvectors.Vocab at 0x7f97fdcfd400>,\n",
              " 'increase': <gensim.models.keyedvectors.Vocab at 0x7f97fdcfd438>,\n",
              " 'China': <gensim.models.keyedvectors.Vocab at 0x7f97fdcfd4a8>,\n",
              " 'John': <gensim.models.keyedvectors.Vocab at 0x7f97fdcfd518>,\n",
              " 'whether': <gensim.models.keyedvectors.Vocab at 0x7f97fdcfd588>,\n",
              " 'cost': <gensim.models.keyedvectors.Vocab at 0x7f97fdcfd5f8>,\n",
              " 'security': <gensim.models.keyedvectors.Vocab at 0x7f97fdcfd630>,\n",
              " 'job': <gensim.models.keyedvectors.Vocab at 0x7f97fdcfd6a0>,\n",
              " 'less': <gensim.models.keyedvectors.Vocab at 0x7f97fdcfd710>,\n",
              " 'head': <gensim.models.keyedvectors.Vocab at 0x7f97fdcfd780>,\n",
              " 'seven': <gensim.models.keyedvectors.Vocab at 0x7f97fdcfd7f0>,\n",
              " 'growth': <gensim.models.keyedvectors.Vocab at 0x7f97fdcfd860>,\n",
              " 'lost': <gensim.models.keyedvectors.Vocab at 0x7f97fdcfd8d0>,\n",
              " 'pay': <gensim.models.keyedvectors.Vocab at 0x7f97fdcfd940>,\n",
              " 'looking': <gensim.models.keyedvectors.Vocab at 0x7f97fdcfd9b0>,\n",
              " 'provide': <gensim.models.keyedvectors.Vocab at 0x7f97fdcfda20>,\n",
              " '6': <gensim.models.keyedvectors.Vocab at 0x7f97fdcfda58>,\n",
              " 'To': <gensim.models.keyedvectors.Vocab at 0x7f97fdcfdac8>,\n",
              " 'plans': <gensim.models.keyedvectors.Vocab at 0x7f97fdcfdb38>,\n",
              " 'products': <gensim.models.keyedvectors.Vocab at 0x7f97fdcfdb70>,\n",
              " 'car': <gensim.models.keyedvectors.Vocab at 0x7f97fdcfdbe0>,\n",
              " 'recent': <gensim.models.keyedvectors.Vocab at 0x7f97fdcfdc50>,\n",
              " 'hard': <gensim.models.keyedvectors.Vocab at 0x7f97fdcfdcc0>,\n",
              " 'always': <gensim.models.keyedvectors.Vocab at 0x7f97fdcfdd30>,\n",
              " 'include': <gensim.models.keyedvectors.Vocab at 0x7f97fdcfdda0>,\n",
              " 'women': <gensim.models.keyedvectors.Vocab at 0x7f97fdcfde10>,\n",
              " 'across': <gensim.models.keyedvectors.Vocab at 0x7f97fdcfde80>,\n",
              " 'tax': <gensim.models.keyedvectors.Vocab at 0x7f97fdcfdef0>,\n",
              " 'water': <gensim.models.keyedvectors.Vocab at 0x7f97fdcfdf60>,\n",
              " 'April': <gensim.models.keyedvectors.Vocab at 0x7f97fdcfdfd0>,\n",
              " 'continue': <gensim.models.keyedvectors.Vocab at 0x7f97fdcfe048>,\n",
              " 'important': <gensim.models.keyedvectors.Vocab at 0x7f97fdcfe080>,\n",
              " 'different': <gensim.models.keyedvectors.Vocab at 0x7f97fdcfe0b8>,\n",
              " 'close': <gensim.models.keyedvectors.Vocab at 0x7f97fdcfe128>,\n",
              " '7': <gensim.models.keyedvectors.Vocab at 0x7f97fdcfe160>,\n",
              " 'One': <gensim.models.keyedvectors.Vocab at 0x7f97fdcfe1d0>,\n",
              " 'late': <gensim.models.keyedvectors.Vocab at 0x7f97fdcfe240>,\n",
              " 'decision': <gensim.models.keyedvectors.Vocab at 0x7f97fdcfe278>,\n",
              " 'current': <gensim.models.keyedvectors.Vocab at 0x7f97fdcfe2e8>,\n",
              " 'law': <gensim.models.keyedvectors.Vocab at 0x7f97fdcfe358>,\n",
              " 'within': <gensim.models.keyedvectors.Vocab at 0x7f97fdcfe3c8>,\n",
              " 'along': <gensim.models.keyedvectors.Vocab at 0x7f97fdcfe438>,\n",
              " 'played': <gensim.models.keyedvectors.Vocab at 0x7f97fdcfe4a8>,\n",
              " 'move': <gensim.models.keyedvectors.Vocab at 0x7f97fdcfe518>,\n",
              " 'United_States': <gensim.models.keyedvectors.Vocab at 0x7f97fdcfe550>,\n",
              " 'enough': <gensim.models.keyedvectors.Vocab at 0x7f97fdcfe5c0>,\n",
              " 'become': <gensim.models.keyedvectors.Vocab at 0x7f97fdcfe630>,\n",
              " 'side': <gensim.models.keyedvectors.Vocab at 0x7f97fdcfe6a0>,\n",
              " 'national': <gensim.models.keyedvectors.Vocab at 0x7f97fdcfe6d8>,\n",
              " 'Inc.': <gensim.models.keyedvectors.Vocab at 0x7f97fdcfe748>,\n",
              " 'results': <gensim.models.keyedvectors.Vocab at 0x7f97fdcfe7b8>,\n",
              " 'level': <gensim.models.keyedvectors.Vocab at 0x7f97fdcfe828>,\n",
              " 'loss': <gensim.models.keyedvectors.Vocab at 0x7f97fdcfe898>,\n",
              " 'economic': <gensim.models.keyedvectors.Vocab at 0x7f97fdcfe8d0>,\n",
              " 'coach': <gensim.models.keyedvectors.Vocab at 0x7f97fdcfe940>,\n",
              " 'near': <gensim.models.keyedvectors.Vocab at 0x7f97fdcfe9b0>,\n",
              " 'getting': <gensim.models.keyedvectors.Vocab at 0x7f97fdcfea20>,\n",
              " 'price': <gensim.models.keyedvectors.Vocab at 0x7f97fdcfea90>,\n",
              " 'Department': <gensim.models.keyedvectors.Vocab at 0x7f97fdcfeac8>,\n",
              " 'event': <gensim.models.keyedvectors.Vocab at 0x7f97fdcfeb38>,\n",
              " 'fourth': <gensim.models.keyedvectors.Vocab at 0x7f97fdcfeba8>,\n",
              " 'change': <gensim.models.keyedvectors.Vocab at 0x7f97fdcfec18>,\n",
              " 'All': <gensim.models.keyedvectors.Vocab at 0x7f97fdcfec88>,\n",
              " 'small': <gensim.models.keyedvectors.Vocab at 0x7f97fdcfecf8>,\n",
              " 'board': <gensim.models.keyedvectors.Vocab at 0x7f97fdcfed68>,\n",
              " 'National': <gensim.models.keyedvectors.Vocab at 0x7f97fdcfeda0>,\n",
              " 'So': <gensim.models.keyedvectors.Vocab at 0x7f97fdcfee10>,\n",
              " 'goal': <gensim.models.keyedvectors.Vocab at 0x7f97fdcfee80>,\n",
              " 'taken': <gensim.models.keyedvectors.Vocab at 0x7f97fdcfeef0>,\n",
              " 'field': <gensim.models.keyedvectors.Vocab at 0x7f97fdcfef60>,\n",
              " 'prices': <gensim.models.keyedvectors.Vocab at 0x7f97fdcfefd0>,\n",
              " 'weeks': <gensim.models.keyedvectors.Vocab at 0x7f97fdc82080>,\n",
              " 'men': <gensim.models.keyedvectors.Vocab at 0x7f97fdc820f0>,\n",
              " 'asked': <gensim.models.keyedvectors.Vocab at 0x7f97fdc82160>,\n",
              " 'eight': <gensim.models.keyedvectors.Vocab at 0x7f97fdc821d0>,\n",
              " 'data': <gensim.models.keyedvectors.Vocab at 0x7f97fdc82240>,\n",
              " 'shot': <gensim.models.keyedvectors.Vocab at 0x7f97fdc822b0>,\n",
              " 'New': <gensim.models.keyedvectors.Vocab at 0x7f97fdc82320>,\n",
              " 'started': <gensim.models.keyedvectors.Vocab at 0x7f97fdc82390>,\n",
              " 'July': <gensim.models.keyedvectors.Vocab at 0x7f97fdc82400>,\n",
              " 'director': <gensim.models.keyedvectors.Vocab at 0x7f97fdc82438>,\n",
              " 'President': <gensim.models.keyedvectors.Vocab at 0x7f97fdc82470>,\n",
              " 'party': <gensim.models.keyedvectors.Vocab at 0x7f97fdc824e0>,\n",
              " 'federal': <gensim.models.keyedvectors.Vocab at 0x7f97fdc82550>,\n",
              " 'done': <gensim.models.keyedvectors.Vocab at 0x7f97fdc825c0>,\n",
              " 'political': <gensim.models.keyedvectors.Vocab at 0x7f97fdc825f8>,\n",
              " 'minutes': <gensim.models.keyedvectors.Vocab at 0x7f97fdc82668>,\n",
              " 'taking': <gensim.models.keyedvectors.Vocab at 0x7f97fdc826d8>,\n",
              " 'Company': <gensim.models.keyedvectors.Vocab at 0x7f97fdc82748>,\n",
              " 'technology': <gensim.models.keyedvectors.Vocab at 0x7f97fdc82780>,\n",
              " 'project': <gensim.models.keyedvectors.Vocab at 0x7f97fdc827f0>,\n",
              " 'center': <gensim.models.keyedvectors.Vocab at 0x7f97fdc82860>,\n",
              " 'leading': <gensim.models.keyedvectors.Vocab at 0x7f97fdc828d0>,\n",
              " 'issue': <gensim.models.keyedvectors.Vocab at 0x7f97fdc82940>,\n",
              " 'though': <gensim.models.keyedvectors.Vocab at 0x7f97fdc829b0>,\n",
              " 'having': <gensim.models.keyedvectors.Vocab at 0x7f97fdc82a20>,\n",
              " 'period': <gensim.models.keyedvectors.Vocab at 0x7f97fdc82a90>,\n",
              " 'likely': <gensim.models.keyedvectors.Vocab at 0x7f97fdc82b00>,\n",
              " 'scored': <gensim.models.keyedvectors.Vocab at 0x7f97fdc82b70>,\n",
              " '8': <gensim.models.keyedvectors.Vocab at 0x7f97fdc82ba8>,\n",
              " 'strong': <gensim.models.keyedvectors.Vocab at 0x7f97fdc82c18>,\n",
              " 'series': <gensim.models.keyedvectors.Vocab at 0x7f97fdc82c88>,\n",
              " 'military': <gensim.models.keyedvectors.Vocab at 0x7f97fdc82cc0>,\n",
              " 'seen': <gensim.models.keyedvectors.Vocab at 0x7f97fdc82d30>,\n",
              " 'trying': <gensim.models.keyedvectors.Vocab at 0x7f97fdc82da0>,\n",
              " 'What': <gensim.models.keyedvectors.Vocab at 0x7f97fdc82e10>,\n",
              " 'coming': <gensim.models.keyedvectors.Vocab at 0x7f97fdc82e80>,\n",
              " 'process': <gensim.models.keyedvectors.Vocab at 0x7f97fdc82ef0>,\n",
              " 'building': <gensim.models.keyedvectors.Vocab at 0x7f97fdc82f28>,\n",
              " 'behind': <gensim.models.keyedvectors.Vocab at 0x7f97fdc82f98>,\n",
              " 'performance': <gensim.models.keyedvectors.Vocab at 0x7f97fdc82fd0>,\n",
              " 'management': <gensim.models.keyedvectors.Vocab at 0x7f97fdc85048>,\n",
              " 'Iraq': <gensim.models.keyedvectors.Vocab at 0x7f97fdc850b8>,\n",
              " 'saying': <gensim.models.keyedvectors.Vocab at 0x7f97fdc85128>,\n",
              " 'earlier': <gensim.models.keyedvectors.Vocab at 0x7f97fdc85198>,\n",
              " 'believe': <gensim.models.keyedvectors.Vocab at 0x7f97fdc85208>,\n",
              " 'oil': <gensim.models.keyedvectors.Vocab at 0x7f97fdc85278>,\n",
              " 'given': <gensim.models.keyedvectors.Vocab at 0x7f97fdc852e8>,\n",
              " 'Police': <gensim.models.keyedvectors.Vocab at 0x7f97fdc85358>,\n",
              " 'customers': <gensim.models.keyedvectors.Vocab at 0x7f97fdc85390>,\n",
              " 'due': <gensim.models.keyedvectors.Vocab at 0x7f97fdc85400>,\n",
              " 'following': <gensim.models.keyedvectors.Vocab at 0x7f97fdc85438>,\n",
              " 'term': <gensim.models.keyedvectors.Vocab at 0x7f97fdc854a8>,\n",
              " 'others': <gensim.models.keyedvectors.Vocab at 0x7f97fdc85518>,\n",
              " 'statement': <gensim.models.keyedvectors.Vocab at 0x7f97fdc85550>,\n",
              " 'international': <gensim.models.keyedvectors.Vocab at 0x7f97fdc85588>,\n",
              " 'economy': <gensim.models.keyedvectors.Vocab at 0x7f97fdc855f8>,\n",
              " 'health': <gensim.models.keyedvectors.Vocab at 0x7f97fdc85668>,\n",
              " 'thing': <gensim.models.keyedvectors.Vocab at 0x7f97fdc856d8>,\n",
              " 'Obama': <gensim.models.keyedvectors.Vocab at 0x7f97fdc85748>,\n",
              " 'return': <gensim.models.keyedvectors.Vocab at 0x7f97fdc857b8>,\n",
              " 'killed': <gensim.models.keyedvectors.Vocab at 0x7f97fdc85828>,\n",
              " 'Washington': <gensim.models.keyedvectors.Vocab at 0x7f97fdc85860>,\n",
              " 'further': <gensim.models.keyedvectors.Vocab at 0x7f97fdc858d0>,\n",
              " 'However': <gensim.models.keyedvectors.Vocab at 0x7f97fdc85940>,\n",
              " 'doing': <gensim.models.keyedvectors.Vocab at 0x7f97fdc859b0>,\n",
              " 'face': <gensim.models.keyedvectors.Vocab at 0x7f97fdc85a20>,\n",
              " 'low': <gensim.models.keyedvectors.Vocab at 0x7f97fdc85a90>,\n",
              " 'higher': <gensim.models.keyedvectors.Vocab at 0x7f97fdc85b00>,\n",
              " 'site': <gensim.models.keyedvectors.Vocab at 0x7f97fdc85b70>,\n",
              " 'once': <gensim.models.keyedvectors.Vocab at 0x7f97fdc85be0>,\n",
              " 'yet': <gensim.models.keyedvectors.Vocab at 0x7f97fdc85c50>,\n",
              " 'hours': <gensim.models.keyedvectors.Vocab at 0x7f97fdc85cc0>,\n",
              " 'America': <gensim.models.keyedvectors.Vocab at 0x7f97fdc85d30>,\n",
              " 'control': <gensim.models.keyedvectors.Vocab at 0x7f97fdc85da0>,\n",
              " 'received': <gensim.models.keyedvectors.Vocab at 0x7f97fdc85dd8>,\n",
              " 'rate': <gensim.models.keyedvectors.Vocab at 0x7f97fdc85e48>,\n",
              " 'career': <gensim.models.keyedvectors.Vocab at 0x7f97fdc85eb8>,\n",
              " 'Bush': <gensim.models.keyedvectors.Vocab at 0x7f97fdc85f28>,\n",
              " 'teams': <gensim.models.keyedvectors.Vocab at 0x7f97fdc85f98>,\n",
              " 'known': <gensim.models.keyedvectors.Vocab at 0x7f97fdc88048>,\n",
              " 'offer': <gensim.models.keyedvectors.Vocab at 0x7f97fdc880b8>,\n",
              " 'race': <gensim.models.keyedvectors.Vocab at 0x7f97fdc88128>,\n",
              " 'ever': <gensim.models.keyedvectors.Vocab at 0x7f97fdc88198>,\n",
              " 'experience': <gensim.models.keyedvectors.Vocab at 0x7f97fdc881d0>,\n",
              " 'playing': <gensim.models.keyedvectors.Vocab at 0x7f97fdc88240>,\n",
              " 'name': <gensim.models.keyedvectors.Vocab at 0x7f97fdc882b0>,\n",
              " 'possible': <gensim.models.keyedvectors.Vocab at 0x7f97fdc882e8>,\n",
              " 'countries': <gensim.models.keyedvectors.Vocab at 0x7f97fdc88320>,\n",
              " 'Mr.': <gensim.models.keyedvectors.Vocab at 0x7f97fdc88390>,\n",
              " 'average': <gensim.models.keyedvectors.Vocab at 0x7f97fdc88400>,\n",
              " 'together': <gensim.models.keyedvectors.Vocab at 0x7f97fdc88438>,\n",
              " 'using': <gensim.models.keyedvectors.Vocab at 0x7f97fdc884a8>,\n",
              " '9': <gensim.models.keyedvectors.Vocab at 0x7f97fdc884e0>,\n",
              " 'cut': <gensim.models.keyedvectors.Vocab at 0x7f97fdc88550>,\n",
              " 'While': <gensim.models.keyedvectors.Vocab at 0x7f97fdc885c0>,\n",
              " 'total': <gensim.models.keyedvectors.Vocab at 0x7f97fdc88630>,\n",
              " 'round': <gensim.models.keyedvectors.Vocab at 0x7f97fdc886a0>,\n",
              " 'young': <gensim.models.keyedvectors.Vocab at 0x7f97fdc88710>,\n",
              " 'nearly': <gensim.models.keyedvectors.Vocab at 0x7f97fdc88780>,\n",
              " 'shares': <gensim.models.keyedvectors.Vocab at 0x7f97fdc887f0>,\n",
              " 'member': <gensim.models.keyedvectors.Vocab at 0x7f97fdc88860>,\n",
              " 'campaign': <gensim.models.keyedvectors.Vocab at 0x7f97fdc88898>,\n",
              " 'media': <gensim.models.keyedvectors.Vocab at 0x7f97fdc88908>,\n",
              " 'needs': <gensim.models.keyedvectors.Vocab at 0x7f97fdc88978>,\n",
              " 'why': <gensim.models.keyedvectors.Vocab at 0x7f97fdc889e8>,\n",
              " 'house': <gensim.models.keyedvectors.Vocab at 0x7f97fdc88a58>,\n",
              " 'issues': <gensim.models.keyedvectors.Vocab at 0x7f97fdc88ac8>,\n",
              " 'costs': <gensim.models.keyedvectors.Vocab at 0x7f97fdc88b38>,\n",
              " 'fire': <gensim.models.keyedvectors.Vocab at 0x7f97fdc88ba8>,\n",
              " '##-#': <gensim.models.keyedvectors.Vocab at 0x7f97fdc88c18>,\n",
              " 'victory': <gensim.models.keyedvectors.Vocab at 0x7f97fdc88c88>,\n",
              " 'player': <gensim.models.keyedvectors.Vocab at 0x7f97fdc88cf8>,\n",
              " 'began': <gensim.models.keyedvectors.Vocab at 0x7f97fdc88d68>,\n",
              " 'sure': <gensim.models.keyedvectors.Vocab at 0x7f97fdc88dd8>,\n",
              " 'story': <gensim.models.keyedvectors.Vocab at 0x7f97fdc88e48>,\n",
              " 'per_cent': <gensim.models.keyedvectors.Vocab at 0x7f97fdc88e80>,\n",
              " 'North': <gensim.models.keyedvectors.Vocab at 0x7f97fdc88ef0>,\n",
              " 'His': <gensim.models.keyedvectors.Vocab at 0x7f97fdc88f60>,\n",
              " 'staff': <gensim.models.keyedvectors.Vocab at 0x7f97fdc88fd0>,\n",
              " 'order': <gensim.models.keyedvectors.Vocab at 0x7f97fdc8a080>,\n",
              " 'war': <gensim.models.keyedvectors.Vocab at 0x7f97fdc8a0f0>,\n",
              " 'large': <gensim.models.keyedvectors.Vocab at 0x7f97fdc8a160>,\n",
              " 'interest': <gensim.models.keyedvectors.Vocab at 0x7f97fdc8a198>,\n",
              " 'stock': <gensim.models.keyedvectors.Vocab at 0x7f97fdc8a208>,\n",
              " 'food': <gensim.models.keyedvectors.Vocab at 0x7f97fdc8a278>,\n",
              " 'research': <gensim.models.keyedvectors.Vocab at 0x7f97fdc8a2b0>,\n",
              " 'key': <gensim.models.keyedvectors.Vocab at 0x7f97fdc8a320>,\n",
              " 'India': <gensim.models.keyedvectors.Vocab at 0x7f97fdc8a390>,\n",
              " 'South': <gensim.models.keyedvectors.Vocab at 0x7f97fdc8a400>,\n",
              " 'morning': <gensim.models.keyedvectors.Vocab at 0x7f97fdc8a470>,\n",
              " 'conference': <gensim.models.keyedvectors.Vocab at 0x7f97fdc8a4a8>,\n",
              " 'senior': <gensim.models.keyedvectors.Vocab at 0x7f97fdc8a518>,\n",
              " 'global': <gensim.models.keyedvectors.Vocab at 0x7f97fdc8a588>,\n",
              " 'Center': <gensim.models.keyedvectors.Vocab at 0x7f97fdc8a5f8>,\n",
              " 'death': <gensim.models.keyedvectors.Vocab at 0x7f97fdc8a668>,\n",
              " 'person': <gensim.models.keyedvectors.Vocab at 0x7f97fdc8a6d8>,\n",
              " 'thought': <gensim.models.keyedvectors.Vocab at 0x7f97fdc8a748>,\n",
              " 'gave': <gensim.models.keyedvectors.Vocab at 0x7f97fdc8a7b8>,\n",
              " 'feel': <gensim.models.keyedvectors.Vocab at 0x7f97fdc8a828>,\n",
              " 'energy': <gensim.models.keyedvectors.Vocab at 0x7f97fdc8a898>,\n",
              " 'history': <gensim.models.keyedvectors.Vocab at 0x7f97fdc8a908>,\n",
              " 'recently': <gensim.models.keyedvectors.Vocab at 0x7f97fdc8a940>,\n",
              " 'largest': <gensim.models.keyedvectors.Vocab at 0x7f97fdc8a9b0>,\n",
              " 'No.': <gensim.models.keyedvectors.Vocab at 0x7f97fdc8aa20>,\n",
              " 'general': <gensim.models.keyedvectors.Vocab at 0x7f97fdc8aa90>,\n",
              " 'official': <gensim.models.keyedvectors.Vocab at 0x7f97fdc8aac8>,\n",
              " 'released': <gensim.models.keyedvectors.Vocab at 0x7f97fdc8ab00>,\n",
              " 'wanted': <gensim.models.keyedvectors.Vocab at 0x7f97fdc8ab70>,\n",
              " 'meet': <gensim.models.keyedvectors.Vocab at 0x7f97fdc8abe0>,\n",
              " 'short': <gensim.models.keyedvectors.Vocab at 0x7f97fdc8ac50>,\n",
              " 'outside': <gensim.models.keyedvectors.Vocab at 0x7f97fdc8acc0>,\n",
              " 'running': <gensim.models.keyedvectors.Vocab at 0x7f97fdc8ad30>,\n",
              " 'live': <gensim.models.keyedvectors.Vocab at 0x7f97fdc8ada0>,\n",
              " 'ball': <gensim.models.keyedvectors.Vocab at 0x7f97fdc8ae10>,\n",
              " 'online': <gensim.models.keyedvectors.Vocab at 0x7f97fdc8ae80>,\n",
              " 'real': <gensim.models.keyedvectors.Vocab at 0x7f97fdc8aef0>,\n",
              " 'position': <gensim.models.keyedvectors.Vocab at 0x7f97fdc8af28>,\n",
              " 'fact': <gensim.models.keyedvectors.Vocab at 0x7f97fdc8af98>,\n",
              " 'fell': <gensim.models.keyedvectors.Vocab at 0x7f97fdc8d048>,\n",
              " 'nine': <gensim.models.keyedvectors.Vocab at 0x7f97fdc8d0b8>,\n",
              " 'December': <gensim.models.keyedvectors.Vocab at 0x7f97fdc8d0f0>,\n",
              " 'front': <gensim.models.keyedvectors.Vocab at 0x7f97fdc8d160>,\n",
              " 'action': <gensim.models.keyedvectors.Vocab at 0x7f97fdc8d1d0>,\n",
              " 'defense': <gensim.models.keyedvectors.Vocab at 0x7f97fdc8d240>,\n",
              " 'problem': <gensim.models.keyedvectors.Vocab at 0x7f97fdc8d2b0>,\n",
              " 'problems': <gensim.models.keyedvectors.Vocab at 0x7f97fdc8d2e8>,\n",
              " 'Mr': <gensim.models.keyedvectors.Vocab at 0x7f97fdc8d358>,\n",
              " 'nation': <gensim.models.keyedvectors.Vocab at 0x7f97fdc8d3c8>,\n",
              " 'needed': <gensim.models.keyedvectors.Vocab at 0x7f97fdc8d438>,\n",
              " 'special': <gensim.models.keyedvectors.Vocab at 0x7f97fdc8d4a8>,\n",
              " 'January': <gensim.models.keyedvectors.Vocab at 0x7f97fdc8d518>,\n",
              " 'almost': <gensim.models.keyedvectors.Vocab at 0x7f97fdc8d588>,\n",
              " 'chance': <gensim.models.keyedvectors.Vocab at 0x7f97fdc8d5f8>,\n",
              " \"'d\": <gensim.models.keyedvectors.Vocab at 0x7f97fdc8d668>,\n",
              " 'result': <gensim.models.keyedvectors.Vocab at 0x7f97fdc8d6d8>,\n",
              " 'West': <gensim.models.keyedvectors.Vocab at 0x7f97fdc8d748>,\n",
              " 'September': <gensim.models.keyedvectors.Vocab at 0x7f97fdc8d780>,\n",
              " 'reports': <gensim.models.keyedvectors.Vocab at 0x7f97fdc8d7f0>,\n",
              " 'leader': <gensim.models.keyedvectors.Vocab at 0x7f97fdc8d860>,\n",
              " 'investment': <gensim.models.keyedvectors.Vocab at 0x7f97fdc8d898>,\n",
              " 'yesterday': <gensim.models.keyedvectors.Vocab at 0x7f97fdc8d8d0>,\n",
              " 'Some': <gensim.models.keyedvectors.Vocab at 0x7f97fdc8d940>,\n",
              " 'leaders': <gensim.models.keyedvectors.Vocab at 0x7f97fdc8d9b0>,\n",
              " 'ahead': <gensim.models.keyedvectors.Vocab at 0x7f97fdc8da20>,\n",
              " 'production': <gensim.models.keyedvectors.Vocab at 0x7f97fdc8da58>,\n",
              " 'comes': <gensim.models.keyedvectors.Vocab at 0x7f97fdc8dac8>,\n",
              " 'No': <gensim.models.keyedvectors.Vocab at 0x7f97fdc8db38>,\n",
              " 'runs': <gensim.models.keyedvectors.Vocab at 0x7f97fdc8dba8>,\n",
              " 'match': <gensim.models.keyedvectors.Vocab at 0x7f97fdc8dc18>,\n",
              " 'role': <gensim.models.keyedvectors.Vocab at 0x7f97fdc8dc88>,\n",
              " 'kind': <gensim.models.keyedvectors.Vocab at 0x7f97fdc8dcf8>,\n",
              " 'try': <gensim.models.keyedvectors.Vocab at 0x7f97fdc8dd68>,\n",
              " 'ended': <gensim.models.keyedvectors.Vocab at 0x7f97fdc8ddd8>,\n",
              " 'risk': <gensim.models.keyedvectors.Vocab at 0x7f97fdc8de48>,\n",
              " 'areas': <gensim.models.keyedvectors.Vocab at 0x7f97fdc8deb8>,\n",
              " 'election': <gensim.models.keyedvectors.Vocab at 0x7f97fdc8def0>,\n",
              " 'workers': <gensim.models.keyedvectors.Vocab at 0x7f97fdc8df60>,\n",
              " 'visit': <gensim.models.keyedvectors.Vocab at 0x7f97fdc8dfd0>,\n",
              " 'bring': <gensim.models.keyedvectors.Vocab at 0x7f97fdc91080>,\n",
              " 'road': <gensim.models.keyedvectors.Vocab at 0x7f97fdc910f0>,\n",
              " 'music': <gensim.models.keyedvectors.Vocab at 0x7f97fdc91160>,\n",
              " 'study': <gensim.models.keyedvectors.Vocab at 0x7f97fdc911d0>,\n",
              " 'makes': <gensim.models.keyedvectors.Vocab at 0x7f97fdc91240>,\n",
              " 'often': <gensim.models.keyedvectors.Vocab at 0x7f97fdc912b0>,\n",
              " 'release': <gensim.models.keyedvectors.Vocab at 0x7f97fdc91320>,\n",
              " 'woman': <gensim.models.keyedvectors.Vocab at 0x7f97fdc91390>,\n",
              " 'vote': <gensim.models.keyedvectors.Vocab at 0x7f97fdc91400>,\n",
              " 'care': <gensim.models.keyedvectors.Vocab at 0x7f97fdc91470>,\n",
              " 'town': <gensim.models.keyedvectors.Vocab at 0x7f97fdc914e0>,\n",
              " 'clear': <gensim.models.keyedvectors.Vocab at 0x7f97fdc91550>,\n",
              " 'comment': <gensim.models.keyedvectors.Vocab at 0x7f97fdc915c0>,\n",
              " 'budget': <gensim.models.keyedvectors.Vocab at 0x7f97fdc91630>,\n",
              " 'potential': <gensim.models.keyedvectors.Vocab at 0x7f97fdc91668>,\n",
              " 'single': <gensim.models.keyedvectors.Vocab at 0x7f97fdc916d8>,\n",
              " 'markets': <gensim.models.keyedvectors.Vocab at 0x7f97fdc91748>,\n",
              " 'policy': <gensim.models.keyedvectors.Vocab at 0x7f97fdc917b8>,\n",
              " 'capital': <gensim.models.keyedvectors.Vocab at 0x7f97fdc91828>,\n",
              " 'saw': <gensim.models.keyedvectors.Vocab at 0x7f97fdc91898>,\n",
              " 'access': <gensim.models.keyedvectors.Vocab at 0x7f97fdc91908>,\n",
              " 'weekend': <gensim.models.keyedvectors.Vocab at 0x7f97fdc91978>,\n",
              " 'operations': <gensim.models.keyedvectors.Vocab at 0x7f97fdc919b0>,\n",
              " 'whose': <gensim.models.keyedvectors.Vocab at 0x7f97fdc91a20>,\n",
              " 'net': <gensim.models.keyedvectors.Vocab at 0x7f97fdc91a90>,\n",
              " 'House': <gensim.models.keyedvectors.Vocab at 0x7f97fdc91b00>,\n",
              " 'hand': <gensim.models.keyedvectors.Vocab at 0x7f97fdc91b70>,\n",
              " 'increased': <gensim.models.keyedvectors.Vocab at 0x7f97fdc91ba8>,\n",
              " 'charges': <gensim.models.keyedvectors.Vocab at 0x7f97fdc91c18>,\n",
              " 'winning': <gensim.models.keyedvectors.Vocab at 0x7f97fdc91c88>,\n",
              " 'trade': <gensim.models.keyedvectors.Vocab at 0x7f97fdc91cf8>,\n",
              " 'These': <gensim.models.keyedvectors.Vocab at 0x7f97fdc91d68>,\n",
              " 'income': <gensim.models.keyedvectors.Vocab at 0x7f97fdc91dd8>,\n",
              " 'value': <gensim.models.keyedvectors.Vocab at 0x7f97fdc91e48>,\n",
              " 'involved': <gensim.models.keyedvectors.Vocab at 0x7f97fdc91e80>,\n",
              " 'Bank': <gensim.models.keyedvectors.Vocab at 0x7f97fdc91ef0>,\n",
              " 'November': <gensim.models.keyedvectors.Vocab at 0x7f97fdc91f28>,\n",
              " 'bill': <gensim.models.keyedvectors.Vocab at 0x7f97fdc91f98>,\n",
              " 'compared': <gensim.models.keyedvectors.Vocab at 0x7f97fdc91fd0>,\n",
              " 'anything': <gensim.models.keyedvectors.Vocab at 0x7f97fdc93048>,\n",
              " 'manager': <gensim.models.keyedvectors.Vocab at 0x7f97fdc930b8>,\n",
              " 'Texas': <gensim.models.keyedvectors.Vocab at 0x7f97fdc93128>,\n",
              " 'property': <gensim.models.keyedvectors.Vocab at 0x7f97fdc93160>,\n",
              " 'stop': <gensim.models.keyedvectors.Vocab at 0x7f97fdc931d0>,\n",
              " 'annual': <gensim.models.keyedvectors.Vocab at 0x7f97fdc93240>,\n",
              " 'private': <gensim.models.keyedvectors.Vocab at 0x7f97fdc932b0>,\n",
              " 'contract': <gensim.models.keyedvectors.Vocab at 0x7f97fdc932e8>,\n",
              " 'died': <gensim.models.keyedvectors.Vocab at 0x7f97fdc93358>,\n",
              " 'Now': <gensim.models.keyedvectors.Vocab at 0x7f97fdc933c8>,\n",
              " 'hope': <gensim.models.keyedvectors.Vocab at 0x7f97fdc93438>,\n",
              " 'product': <gensim.models.keyedvectors.Vocab at 0x7f97fdc934a8>,\n",
              " 'fans': <gensim.models.keyedvectors.Vocab at 0x7f97fdc93518>,\n",
              " 'lower': <gensim.models.keyedvectors.Vocab at 0x7f97fdc93588>,\n",
              " 'demand': <gensim.models.keyedvectors.Vocab at 0x7f97fdc935f8>,\n",
              " 'News': <gensim.models.keyedvectors.Vocab at 0x7f97fdc93668>,\n",
              " 'David': <gensim.models.keyedvectors.Vocab at 0x7f97fdc936d8>,\n",
              " 'club': <gensim.models.keyedvectors.Vocab at 0x7f97fdc93748>,\n",
              " 'comments': <gensim.models.keyedvectors.Vocab at 0x7f97fdc93780>,\n",
              " 'film': <gensim.models.keyedvectors.Vocab at 0x7f97fdc937f0>,\n",
              " 'yards': <gensim.models.keyedvectors.Vocab at 0x7f97fdc93860>,\n",
              " 'quality': <gensim.models.keyedvectors.Vocab at 0x7f97fdc938d0>,\n",
              " 'currently': <gensim.models.keyedvectors.Vocab at 0x7f97fdc93908>,\n",
              " 'events': <gensim.models.keyedvectors.Vocab at 0x7f97fdc93978>,\n",
              " 'addition': <gensim.models.keyedvectors.Vocab at 0x7f97fdc939b0>,\n",
              " 'couple': <gensim.models.keyedvectors.Vocab at 0x7f97fdc93a20>,\n",
              " 'schools': <gensim.models.keyedvectors.Vocab at 0x7f97fdc93a90>,\n",
              " 'attack': <gensim.models.keyedvectors.Vocab at 0x7f97fdc93b00>,\n",
              " 'region': <gensim.models.keyedvectors.Vocab at 0x7f97fdc93b70>,\n",
              " 'latest': <gensim.models.keyedvectors.Vocab at 0x7f97fdc93be0>,\n",
              " 'opportunity': <gensim.models.keyedvectors.Vocab at 0x7f97fdc93c18>,\n",
              " 'worked': <gensim.models.keyedvectors.Vocab at 0x7f97fdc93c88>,\n",
              " 'course': <gensim.models.keyedvectors.Vocab at 0x7f97fdc93cf8>,\n",
              " 'bad': <gensim.models.keyedvectors.Vocab at 0x7f97fdc93d68>,\n",
              " 'fall': <gensim.models.keyedvectors.Vocab at 0x7f97fdc93dd8>,\n",
              " 'Group': <gensim.models.keyedvectors.Vocab at 0x7f97fdc93e48>,\n",
              " 'October': <gensim.models.keyedvectors.Vocab at 0x7f97fdc93eb8>,\n",
              " 'jobs': <gensim.models.keyedvectors.Vocab at 0x7f97fdc93f28>,\n",
              " 'list': <gensim.models.keyedvectors.Vocab at 0x7f97fdc93f98>,\n",
              " 'let': <gensim.models.keyedvectors.Vocab at 0x7f97fdc96048>,\n",
              " 'however': <gensim.models.keyedvectors.Vocab at 0x7f97fdc960b8>,\n",
              " 'chief': <gensim.models.keyedvectors.Vocab at 0x7f97fdc96128>,\n",
              " 'summer': <gensim.models.keyedvectors.Vocab at 0x7f97fdc96198>,\n",
              " 'programs': <gensim.models.keyedvectors.Vocab at 0x7f97fdc961d0>,\n",
              " 'According': <gensim.models.keyedvectors.Vocab at 0x7f97fdc96208>,\n",
              " 'revenue': <gensim.models.keyedvectors.Vocab at 0x7f97fdc96278>,\n",
              " 'Our': <gensim.models.keyedvectors.Vocab at 0x7f97fdc962e8>,\n",
              " 'rose': <gensim.models.keyedvectors.Vocab at 0x7f97fdc96358>,\n",
              " 'previous': <gensim.models.keyedvectors.Vocab at 0x7f97fdc96390>,\n",
              " 'TV': <gensim.models.keyedvectors.Vocab at 0x7f97fdc96400>,\n",
              " 'football': <gensim.models.keyedvectors.Vocab at 0x7f97fdc96438>,\n",
              " 'biggest': <gensim.models.keyedvectors.Vocab at 0x7f97fdc964a8>,\n",
              " 'employees': <gensim.models.keyedvectors.Vocab at 0x7f97fdc964e0>,\n",
              " 'changes': <gensim.models.keyedvectors.Vocab at 0x7f97fdc96550>,\n",
              " 'residents': <gensim.models.keyedvectors.Vocab at 0x7f97fdc96588>,\n",
              " 'means': <gensim.models.keyedvectors.Vocab at 0x7f97fdc965f8>,\n",
              " 'agreement': <gensim.models.keyedvectors.Vocab at 0x7f97fdc96630>,\n",
              " 'includes': <gensim.models.keyedvectors.Vocab at 0x7f97fdc96668>,\n",
              " 'post': <gensim.models.keyedvectors.Vocab at 0x7f97fdc966d8>,\n",
              " 'Canada': <gensim.models.keyedvectors.Vocab at 0x7f97fdc96748>,\n",
              " 'probably': <gensim.models.keyedvectors.Vocab at 0x7f97fdc96780>,\n",
              " 'related': <gensim.models.keyedvectors.Vocab at 0x7f97fdc967f0>,\n",
              " 'training': <gensim.models.keyedvectors.Vocab at 0x7f97fdc96828>,\n",
              " 'allowed': <gensim.models.keyedvectors.Vocab at 0x7f97fdc96898>,\n",
              " 'class': <gensim.models.keyedvectors.Vocab at 0x7f97fdc96908>,\n",
              " 'bit': <gensim.models.keyedvectors.Vocab at 0x7f97fdc96978>,\n",
              " 'video': <gensim.models.keyedvectors.Vocab at 0x7f97fdc969e8>,\n",
              " 'Michael': <gensim.models.keyedvectors.Vocab at 0x7f97fdc96a58>,\n",
              " 'An': <gensim.models.keyedvectors.Vocab at 0x7f97fdc96ac8>,\n",
              " 'sent': <gensim.models.keyedvectors.Vocab at 0x7f97fdc96b38>,\n",
              " 'education': <gensim.models.keyedvectors.Vocab at 0x7f97fdc96b70>,\n",
              " 'states': <gensim.models.keyedvectors.Vocab at 0x7f97fdc96be0>,\n",
              " 'straight': <gensim.models.keyedvectors.Vocab at 0x7f97fdc96c18>,\n",
              " 'love': <gensim.models.keyedvectors.Vocab at 0x7f97fdc96c88>,\n",
              " 'beat': <gensim.models.keyedvectors.Vocab at 0x7f97fdc96cf8>,\n",
              " 'hold': <gensim.models.keyedvectors.Vocab at 0x7f97fdc96d68>,\n",
              " 'turn': <gensim.models.keyedvectors.Vocab at 0x7f97fdc96dd8>,\n",
              " 'finished': <gensim.models.keyedvectors.Vocab at 0x7f97fdc96e10>,\n",
              " 'network': <gensim.models.keyedvectors.Vocab at 0x7f97fdc96e80>,\n",
              " 'Smith': <gensim.models.keyedvectors.Vocab at 0x7f97fdc96ef0>,\n",
              " 'buy': <gensim.models.keyedvectors.Vocab at 0x7f97fdc96f60>,\n",
              " 'foreign': <gensim.models.keyedvectors.Vocab at 0x7f97fdc96fd0>,\n",
              " 'especially': <gensim.models.keyedvectors.Vocab at 0x7f97fdc99048>,\n",
              " 'groups': <gensim.models.keyedvectors.Vocab at 0x7f97fdc990b8>,\n",
              " 'wants': <gensim.models.keyedvectors.Vocab at 0x7f97fdc99128>,\n",
              " 'title': <gensim.models.keyedvectors.Vocab at 0x7f97fdc99198>,\n",
              " 'included': <gensim.models.keyedvectors.Vocab at 0x7f97fdc991d0>,\n",
              " 'turned': <gensim.models.keyedvectors.Vocab at 0x7f97fdc99240>,\n",
              " 'bank': <gensim.models.keyedvectors.Vocab at 0x7f97fdc992b0>,\n",
              " 'Florida': <gensim.models.keyedvectors.Vocab at 0x7f97fdc99320>,\n",
              " 'efforts': <gensim.models.keyedvectors.Vocab at 0x7f97fdc99390>,\n",
              " 'personal': <gensim.models.keyedvectors.Vocab at 0x7f97fdc993c8>,\n",
              " 'businesses': <gensim.models.keyedvectors.Vocab at 0x7f97fdc99400>,\n",
              " 'August': <gensim.models.keyedvectors.Vocab at 0x7f97fdc99470>,\n",
              " 'California': <gensim.models.keyedvectors.Vocab at 0x7f97fdc994a8>,\n",
              " 'situation': <gensim.models.keyedvectors.Vocab at 0x7f97fdc994e0>,\n",
              " 'district': <gensim.models.keyedvectors.Vocab at 0x7f97fdc99518>,\n",
              " 'allow': <gensim.models.keyedvectors.Vocab at 0x7f97fdc99588>,\n",
              " 'helped': <gensim.models.keyedvectors.Vocab at 0x7f97fdc995f8>,\n",
              " 'body': <gensim.models.keyedvectors.Vocab at 0x7f97fdc99668>,\n",
              " 'nothing': <gensim.models.keyedvectors.Vocab at 0x7f97fdc996d8>,\n",
              " 'soon': <gensim.models.keyedvectors.Vocab at 0x7f97fdc99748>,\n",
              " 'safety': <gensim.models.keyedvectors.Vocab at 0x7f97fdc997b8>,\n",
              " 'officer': <gensim.models.keyedvectors.Vocab at 0x7f97fdc99828>,\n",
              " 'cents': <gensim.models.keyedvectors.Vocab at 0x7f97fdc99898>,\n",
              " 'Europe': <gensim.models.keyedvectors.Vocab at 0x7f97fdc99908>,\n",
              " 'St.': <gensim.models.keyedvectors.Vocab at 0x7f97fdc99978>,\n",
              " 'additional': <gensim.models.keyedvectors.Vocab at 0x7f97fdc999b0>,\n",
              " 'spokesman': <gensim.models.keyedvectors.Vocab at 0x7f97fdc999e8>,\n",
              " 'February': <gensim.models.keyedvectors.Vocab at 0x7f97fdc99a20>,\n",
              " 'wife': <gensim.models.keyedvectors.Vocab at 0x7f97fdc99a90>,\n",
              " 'showed': <gensim.models.keyedvectors.Vocab at 0x7f97fdc99b00>,\n",
              " 'leave': <gensim.models.keyedvectors.Vocab at 0x7f97fdc99b70>,\n",
              " 'investors': <gensim.models.keyedvectors.Vocab at 0x7f97fdc99ba8>,\n",
              " 'parents': <gensim.models.keyedvectors.Vocab at 0x7f97fdc99c18>,\n",
              " 'medical': <gensim.models.keyedvectors.Vocab at 0x7f97fdc99c88>,\n",
              " 'spending': <gensim.models.keyedvectors.Vocab at 0x7f97fdc99cc0>,\n",
              " 'non': <gensim.models.keyedvectors.Vocab at 0x7f97fdc99d30>,\n",
              " 'London': <gensim.models.keyedvectors.Vocab at 0x7f97fdc99da0>,\n",
              " 'Council': <gensim.models.keyedvectors.Vocab at 0x7f97fdc99e10>,\n",
              " 'matter': <gensim.models.keyedvectors.Vocab at 0x7f97fdc99e80>,\n",
              " 'spent': <gensim.models.keyedvectors.Vocab at 0x7f97fdc99ef0>,\n",
              " 'child': <gensim.models.keyedvectors.Vocab at 0x7f97fdc99f60>,\n",
              " 'World': <gensim.models.keyedvectors.Vocab at 0x7f97fdc99fd0>,\n",
              " 'effort': <gensim.models.keyedvectors.Vocab at 0x7f97fdc9c080>,\n",
              " 'opening': <gensim.models.keyedvectors.Vocab at 0x7f97fdc9c0f0>,\n",
              " 'either': <gensim.models.keyedvectors.Vocab at 0x7f97fdc9c160>,\n",
              " 'range': <gensim.models.keyedvectors.Vocab at 0x7f97fdc9c1d0>,\n",
              " 'question': <gensim.models.keyedvectors.Vocab at 0x7f97fdc9c208>,\n",
              " 'European': <gensim.models.keyedvectors.Vocab at 0x7f97fdc9c240>,\n",
              " 'goals': <gensim.models.keyedvectors.Vocab at 0x7f97fdc9c2b0>,\n",
              " 'administration': <gensim.models.keyedvectors.Vocab at 0x7f97fdc9c2e8>,\n",
              " 'friends': <gensim.models.keyedvectors.Vocab at 0x7f97fdc9c358>,\n",
              " 'himself': <gensim.models.keyedvectors.Vocab at 0x7f97fdc9c3c8>,\n",
              " 'shows': <gensim.models.keyedvectors.Vocab at 0x7f97fdc9c438>,\n",
              " 'difficult': <gensim.models.keyedvectors.Vocab at 0x7f97fdc9c470>,\n",
              " 'kids': <gensim.models.keyedvectors.Vocab at 0x7f97fdc9c4e0>,\n",
              " 'paid': <gensim.models.keyedvectors.Vocab at 0x7f97fdc9c550>,\n",
              " 'create': <gensim.models.keyedvectors.Vocab at 0x7f97fdc9c5c0>,\n",
              " 'cash': <gensim.models.keyedvectors.Vocab at 0x7f97fdc9c630>,\n",
              " 'age': <gensim.models.keyedvectors.Vocab at 0x7f97fdc9c6a0>,\n",
              " 'league': <gensim.models.keyedvectors.Vocab at 0x7f97fdc9c710>,\n",
              " 'form': <gensim.models.keyedvectors.Vocab at 0x7f97fdc9c780>,\n",
              " 'impact': <gensim.models.keyedvectors.Vocab at 0x7f97fdc9c7f0>,\n",
              " 'drive': <gensim.models.keyedvectors.Vocab at 0x7f97fdc9c860>,\n",
              " 'someone': <gensim.models.keyedvectors.Vocab at 0x7f97fdc9c8d0>,\n",
              " 'became': <gensim.models.keyedvectors.Vocab at 0x7f97fdc9c940>,\n",
              " 'stay': <gensim.models.keyedvectors.Vocab at 0x7f97fdc9c9b0>,\n",
              " 'fight': <gensim.models.keyedvectors.Vocab at 0x7f97fdc9ca20>,\n",
              " 'significant': <gensim.models.keyedvectors.Vocab at 0x7f97fdc9ca58>,\n",
              " 'firm': <gensim.models.keyedvectors.Vocab at 0x7f97fdc9cac8>,\n",
              " 'Senate': <gensim.models.keyedvectors.Vocab at 0x7f97fdc9cb38>,\n",
              " 'hospital': <gensim.models.keyedvectors.Vocab at 0x7f97fdc9cb70>,\n",
              " 'charged': <gensim.models.keyedvectors.Vocab at 0x7f97fdc9cbe0>,\n",
              " 'operating': <gensim.models.keyedvectors.Vocab at 0x7f97fdc9cc18>,\n",
              " 'main': <gensim.models.keyedvectors.Vocab at 0x7f97fdc9cc88>,\n",
              " 'book': <gensim.models.keyedvectors.Vocab at 0x7f97fdc9ccf8>,\n",
              " 'success': <gensim.models.keyedvectors.Vocab at 0x7f97fdc9cd68>,\n",
              " 'son': <gensim.models.keyedvectors.Vocab at 0x7f97fdc9cdd8>,\n",
              " 'trading': <gensim.models.keyedvectors.Vocab at 0x7f97fdc9ce48>,\n",
              " '###-####': <gensim.models.keyedvectors.Vocab at 0x7f97fdc9ce80>,\n",
              " 'focus': <gensim.models.keyedvectors.Vocab at 0x7f97fdc9cef0>,\n",
              " 'room': <gensim.models.keyedvectors.Vocab at 0x7f97fdc9cf60>,\n",
              " 'continued': <gensim.models.keyedvectors.Vocab at 0x7f97fdc9cf98>,\n",
              " 'Congress': <gensim.models.keyedvectors.Vocab at 0x7f97fdc9cfd0>,\n",
              " 'everything': <gensim.models.keyedvectors.Vocab at 0x7f97fdc9e048>,\n",
              " 'Park': <gensim.models.keyedvectors.Vocab at 0x7f97fdc9e0b8>,\n",
              " 'agency': <gensim.models.keyedvectors.Vocab at 0x7f97fdc9e128>,\n",
              " 'brought': <gensim.models.keyedvectors.Vocab at 0x7f97fdc9e198>,\n",
              " 'talk': <gensim.models.keyedvectors.Vocab at 0x7f97fdc9e208>,\n",
              " 'break': <gensim.models.keyedvectors.Vocab at 0x7f97fdc9e278>,\n",
              " 'air': <gensim.models.keyedvectors.Vocab at 0x7f97fdc9e2e8>,\n",
              " 'software': <gensim.models.keyedvectors.Vocab at 0x7f97fdc9e320>,\n",
              " 'decided': <gensim.models.keyedvectors.Vocab at 0x7f97fdc9e390>,\n",
              " 'Do': <gensim.models.keyedvectors.Vocab at 0x7f97fdc9e400>,\n",
              " 'ready': <gensim.models.keyedvectors.Vocab at 0x7f97fdc9e470>,\n",
              " 'arrested': <gensim.models.keyedvectors.Vocab at 0x7f97fdc9e4a8>,\n",
              " 'track': <gensim.models.keyedvectors.Vocab at 0x7f97fdc9e518>,\n",
              " 'provides': <gensim.models.keyedvectors.Vocab at 0x7f97fdc9e550>,\n",
              " 'mother': <gensim.models.keyedvectors.Vocab at 0x7f97fdc9e5c0>,\n",
              " 'base': <gensim.models.keyedvectors.Vocab at 0x7f97fdc9e630>,\n",
              " 'trial': <gensim.models.keyedvectors.Vocab at 0x7f97fdc9e6a0>,\n",
              " 'phone': <gensim.models.keyedvectors.Vocab at 0x7f97fdc9e710>,\n",
              " 'My': <gensim.models.keyedvectors.Vocab at 0x7f97fdc9e780>,\n",
              " 'build': <gensim.models.keyedvectors.Vocab at 0x7f97fdc9e7f0>,\n",
              " 'conditions': <gensim.models.keyedvectors.Vocab at 0x7f97fdc9e828>,\n",
              " 'rest': <gensim.models.keyedvectors.Vocab at 0x7f97fdc9e898>,\n",
              " 'Johnson': <gensim.models.keyedvectors.Vocab at 0x7f97fdc9e908>,\n",
              " 'terms': <gensim.models.keyedvectors.Vocab at 0x7f97fdc9e978>,\n",
              " 'expect': <gensim.models.keyedvectors.Vocab at 0x7f97fdc9e9e8>,\n",
              " 'England': <gensim.models.keyedvectors.Vocab at 0x7f97fdc9ea58>,\n",
              " 'Israel': <gensim.models.keyedvectors.Vocab at 0x7f97fdc9eac8>,\n",
              " 'despite': <gensim.models.keyedvectors.Vocab at 0x7f97fdc9eb38>,\n",
              " 'closed': <gensim.models.keyedvectors.Vocab at 0x7f97fdc9eba8>,\n",
              " 'starting': <gensim.models.keyedvectors.Vocab at 0x7f97fdc9ebe0>,\n",
              " 'provided': <gensim.models.keyedvectors.Vocab at 0x7f97fdc9ec18>,\n",
              " 'pressure': <gensim.models.keyedvectors.Vocab at 0x7f97fdc9ec50>,\n",
              " 'lives': <gensim.models.keyedvectors.Vocab at 0x7f97fdc9ecc0>,\n",
              " 'step': <gensim.models.keyedvectors.Vocab at 0x7f97fdc9ed30>,\n",
              " 'remain': <gensim.models.keyedvectors.Vocab at 0x7f97fdc9eda0>,\n",
              " 'similar': <gensim.models.keyedvectors.Vocab at 0x7f97fdc9ee10>,\n",
              " 'charge': <gensim.models.keyedvectors.Vocab at 0x7f97fdc9ee80>,\n",
              " 'date': <gensim.models.keyedvectors.Vocab at 0x7f97fdc9eef0>,\n",
              " 'whole': <gensim.models.keyedvectors.Vocab at 0x7f97fdc9ef60>,\n",
              " 'land': <gensim.models.keyedvectors.Vocab at 0x7f97fdc9efd0>,\n",
              " 'growing': <gensim.models.keyedvectors.Vocab at 0x7f97fdca1080>,\n",
              " 'James': <gensim.models.keyedvectors.Vocab at 0x7f97fdca10f0>,\n",
              " 'Internet': <gensim.models.keyedvectors.Vocab at 0x7f97fdca1128>,\n",
              " 'projects': <gensim.models.keyedvectors.Vocab at 0x7f97fdca1160>,\n",
              " 'British': <gensim.models.keyedvectors.Vocab at 0x7f97fdca11d0>,\n",
              " 'cases': <gensim.models.keyedvectors.Vocab at 0x7f97fdca1240>,\n",
              " 'ground': <gensim.models.keyedvectors.Vocab at 0x7f97fdca12b0>,\n",
              " 'legal': <gensim.models.keyedvectors.Vocab at 0x7f97fdca1320>,\n",
              " 'International': <gensim.models.keyedvectors.Vocab at 0x7f97fdca1358>,\n",
              " 'agreed': <gensim.models.keyedvectors.Vocab at 0x7f97fdca13c8>,\n",
              " 'tell': <gensim.models.keyedvectors.Vocab at 0x7f97fdca1438>,\n",
              " 'test': <gensim.models.keyedvectors.Vocab at 0x7f97fdca14a8>,\n",
              " 'everyone': <gensim.models.keyedvectors.Vocab at 0x7f97fdca14e0>,\n",
              " 'pretty': <gensim.models.keyedvectors.Vocab at 0x7f97fdca1550>,\n",
              " 'authorities': <gensim.models.keyedvectors.Vocab at 0x7f97fdca1588>,\n",
              " 'Two': <gensim.models.keyedvectors.Vocab at 0x7f97fdca15f8>,\n",
              " 'above': <gensim.models.keyedvectors.Vocab at 0x7f97fdca1668>,\n",
              " 'moved': <gensim.models.keyedvectors.Vocab at 0x7f97fdca16d8>,\n",
              " 'profit': <gensim.models.keyedvectors.Vocab at 0x7f97fdca1748>,\n",
              " 'throughout': <gensim.models.keyedvectors.Vocab at 0x7f97fdca1780>,\n",
              " 'inside': <gensim.models.keyedvectors.Vocab at 0x7f97fdca17f0>,\n",
              " 'ability': <gensim.models.keyedvectors.Vocab at 0x7f97fdca1860>,\n",
              " 'overall': <gensim.models.keyedvectors.Vocab at 0x7f97fdca18d0>,\n",
              " 'pass': <gensim.models.keyedvectors.Vocab at 0x7f97fdca1940>,\n",
              " 'officers': <gensim.models.keyedvectors.Vocab at 0x7f97fdca1978>,\n",
              " 'rather': <gensim.models.keyedvectors.Vocab at 0x7f97fdca19e8>,\n",
              " 'Australia': <gensim.models.keyedvectors.Vocab at 0x7f97fdca1a20>,\n",
              " 'actually': <gensim.models.keyedvectors.Vocab at 0x7f97fdca1a58>,\n",
              " 'county': <gensim.models.keyedvectors.Vocab at 0x7f97fdca1ac8>,\n",
              " 'amount': <gensim.models.keyedvectors.Vocab at 0x7f97fdca1b38>,\n",
              " 'scheduled': <gensim.models.keyedvectors.Vocab at 0x7f97fdca1b70>,\n",
              " 'themselves': <gensim.models.keyedvectors.Vocab at 0x7f97fdca1ba8>,\n",
              " 'organization': <gensim.models.keyedvectors.Vocab at 0x7f97fdca1be0>,\n",
              " 'giving': <gensim.models.keyedvectors.Vocab at 0x7f97fdca1c50>,\n",
              " 'credit': <gensim.models.keyedvectors.Vocab at 0x7f97fdca1cc0>,\n",
              " 'father': <gensim.models.keyedvectors.Vocab at 0x7f97fdca1d30>,\n",
              " 'drug': <gensim.models.keyedvectors.Vocab at 0x7f97fdca1da0>,\n",
              " 'investigation': <gensim.models.keyedvectors.Vocab at 0x7f97fdca1dd8>,\n",
              " 'families': <gensim.models.keyedvectors.Vocab at 0x7f97fdca1e10>,\n",
              " 'Republican': <gensim.models.keyedvectors.Vocab at 0x7f97fdca1e48>,\n",
              " 'funds': <gensim.models.keyedvectors.Vocab at 0x7f97fdca1eb8>,\n",
              " 'patients': <gensim.models.keyedvectors.Vocab at 0x7f97fdca1ef0>,\n",
              " 'takes': <gensim.models.keyedvectors.Vocab at 0x7f97fdca1f60>,\n",
              " 'systems': <gensim.models.keyedvectors.Vocab at 0x7f97fdca1fd0>,\n",
              " 'Japan': <gensim.models.keyedvectors.Vocab at 0x7f97fdca6080>,\n",
              " 'complete': <gensim.models.keyedvectors.Vocab at 0x7f97fdca60b8>,\n",
              " 'sold': <gensim.models.keyedvectors.Vocab at 0x7f97fdca6128>,\n",
              " 'practice': <gensim.models.keyedvectors.Vocab at 0x7f97fdca6160>,\n",
              " 'calls': <gensim.models.keyedvectors.Vocab at 0x7f97fdca61d0>,\n",
              " '•': <gensim.models.keyedvectors.Vocab at 0x7f97fdca6208>,\n",
              " 'UK': <gensim.models.keyedvectors.Vocab at 0x7f97fdca6278>,\n",
              " 'force': <gensim.models.keyedvectors.Vocab at 0x7f97fdca62e8>,\n",
              " 'student': <gensim.models.keyedvectors.Vocab at 0x7f97fdca6358>,\n",
              " 'idea': <gensim.models.keyedvectors.Vocab at 0x7f97fdca63c8>,\n",
              " 'reached': <gensim.models.keyedvectors.Vocab at 0x7f97fdca6438>,\n",
              " 'reason': <gensim.models.keyedvectors.Vocab at 0x7f97fdca64a8>,\n",
              " 'levels': <gensim.models.keyedvectors.Vocab at 0x7f97fdca6518>,\n",
              " 'space': <gensim.models.keyedvectors.Vocab at 0x7f97fdca6588>,\n",
              " 'competition': <gensim.models.keyedvectors.Vocab at 0x7f97fdca65c0>,\n",
              " 'forces': <gensim.models.keyedvectors.Vocab at 0x7f97fdca6630>,\n",
              " 'sector': <gensim.models.keyedvectors.Vocab at 0x7f97fdca66a0>,\n",
              " 'Last': <gensim.models.keyedvectors.Vocab at 0x7f97fdca6710>,\n",
              " 'tried': <gensim.models.keyedvectors.Vocab at 0x7f97fdca6780>,\n",
              " 'common': <gensim.models.keyedvectors.Vocab at 0x7f97fdca67f0>,\n",
              " 'homes': <gensim.models.keyedvectors.Vocab at 0x7f97fdca6860>,\n",
              " 'stage': <gensim.models.keyedvectors.Vocab at 0x7f97fdca68d0>,\n",
              " 'department': <gensim.models.keyedvectors.Vocab at 0x7f97fdca6908>,\n",
              " 'named': <gensim.models.keyedvectors.Vocab at 0x7f97fdca6978>,\n",
              " 'earnings': <gensim.models.keyedvectors.Vocab at 0x7f97fdca69b0>,\n",
              " 'offers': <gensim.models.keyedvectors.Vocab at 0x7f97fdca6a20>,\n",
              " 'star': <gensim.models.keyedvectors.Vocab at 0x7f97fdca6a90>,\n",
              " 'certain': <gensim.models.keyedvectors.Vocab at 0x7f97fdca6b00>,\n",
              " 'double': <gensim.models.keyedvectors.Vocab at 0x7f97fdca6b70>,\n",
              " 'longer': <gensim.models.keyedvectors.Vocab at 0x7f97fdca6be0>,\n",
              " 'followed': <gensim.models.keyedvectors.Vocab at 0x7f97fdca6c18>,\n",
              " 'cause': <gensim.models.keyedvectors.Vocab at 0x7f97fdca6c88>,\n",
              " 'Association': <gensim.models.keyedvectors.Vocab at 0x7f97fdca6cc0>,\n",
              " 'signed': <gensim.models.keyedvectors.Vocab at 0x7f97fdca6d30>,\n",
              " 'committee': <gensim.models.keyedvectors.Vocab at 0x7f97fdca6d68>,\n",
              " 'hour': <gensim.models.keyedvectors.Vocab at 0x7f97fdca6dd8>,\n",
              " 'college': <gensim.models.keyedvectors.Vocab at 0x7f97fdca6e48>,\n",
              " 'Pakistan': <gensim.models.keyedvectors.Vocab at 0x7f97fdca6e80>,\n",
              " 'users': <gensim.models.keyedvectors.Vocab at 0x7f97fdca6ef0>,\n",
              " 'Iran': <gensim.models.keyedvectors.Vocab at 0x7f97fdca6f60>,\n",
              " 'sign': <gensim.models.keyedvectors.Vocab at 0x7f97fdca6fd0>,\n",
              " 'living': <gensim.models.keyedvectors.Vocab at 0x7f97fdca8080>,\n",
              " 'failed': <gensim.models.keyedvectors.Vocab at 0x7f97fdca80f0>,\n",
              " 'reach': <gensim.models.keyedvectors.Vocab at 0x7f97fdca8160>,\n",
              " 'quickly': <gensim.models.keyedvectors.Vocab at 0x7f97fdca81d0>,\n",
              " 'receive': <gensim.models.keyedvectors.Vocab at 0x7f97fdca8240>,\n",
              " 'debt': <gensim.models.keyedvectors.Vocab at 0x7f97fdca82b0>,\n",
              " 'sale': <gensim.models.keyedvectors.Vocab at 0x7f97fdca8320>,\n",
              " 'Board': <gensim.models.keyedvectors.Vocab at 0x7f97fdca8390>,\n",
              " 'Americans': <gensim.models.keyedvectors.Vocab at 0x7f97fdca83c8>,\n",
              " 'Road': <gensim.models.keyedvectors.Vocab at 0x7f97fdca8438>,\n",
              " 'Brown': <gensim.models.keyedvectors.Vocab at 0x7f97fdca84a8>,\n",
              " 'insurance': <gensim.models.keyedvectors.Vocab at 0x7f97fdca84e0>,\n",
              " '##:##': <gensim.models.keyedvectors.Vocab at 0x7f97fdca8550>,\n",
              " 'anyone': <gensim.models.keyedvectors.Vocab at 0x7f97fdca85c0>,\n",
              " 'tournament': <gensim.models.keyedvectors.Vocab at 0x7f97fdca85f8>,\n",
              " 'More': <gensim.models.keyedvectors.Vocab at 0x7f97fdca8668>,\n",
              " 'gas': <gensim.models.keyedvectors.Vocab at 0x7f97fdca86d8>,\n",
              " 'talks': <gensim.models.keyedvectors.Vocab at 0x7f97fdca8748>,\n",
              " 'serious': <gensim.models.keyedvectors.Vocab at 0x7f97fdca87b8>,\n",
              " 'required': <gensim.models.keyedvectors.Vocab at 0x7f97fdca87f0>,\n",
              " 'sell': <gensim.models.keyedvectors.Vocab at 0x7f97fdca8860>,\n",
              " 'construction': <gensim.models.keyedvectors.Vocab at 0x7f97fdca8898>,\n",
              " 'evidence': <gensim.models.keyedvectors.Vocab at 0x7f97fdca88d0>,\n",
              " 'remains': <gensim.models.keyedvectors.Vocab at 0x7f97fdca8940>,\n",
              " 'black': <gensim.models.keyedvectors.Vocab at 0x7f97fdca89b0>,\n",
              " 'below': <gensim.models.keyedvectors.Vocab at 0x7f97fdca8a20>,\n",
              " 'improve': <gensim.models.keyedvectors.Vocab at 0x7f97fdca8a90>,\n",
              " 'crisis': <gensim.models.keyedvectors.Vocab at 0x7f97fdca8b00>,\n",
              " 'address': <gensim.models.keyedvectors.Vocab at 0x7f97fdca8b70>,\n",
              " 'questions': <gensim.models.keyedvectors.Vocab at 0x7f97fdca8ba8>,\n",
              " 'easy': <gensim.models.keyedvectors.Vocab at 0x7f97fdca8c18>,\n",
              " 'begin': <gensim.models.keyedvectors.Vocab at 0x7f97fdca8c88>,\n",
              " 'view': <gensim.models.keyedvectors.Vocab at 0x7f97fdca8cf8>,\n",
              " 'School': <gensim.models.keyedvectors.Vocab at 0x7f97fdca8d68>,\n",
              " 'heard': <gensim.models.keyedvectors.Vocab at 0x7f97fdca8dd8>,\n",
              " 'executive': <gensim.models.keyedvectors.Vocab at 0x7f97fdca8e10>,\n",
              " 'raised': <gensim.models.keyedvectors.Vocab at 0x7f97fdca8e80>,\n",
              " ...}"
            ]
          },
          "metadata": {
            "tags": []
          },
          "execution_count": 9
        }
      ]
    },
    {
      "cell_type": "code",
      "metadata": {
        "id": "HyDrFRdv0vux",
        "colab_type": "code",
        "colab": {}
      },
      "source": [
        "# def get_synonyms(word):\n",
        "#     \"\"\"\n",
        "#     Get synonyms of a word\n",
        "#     \"\"\"\n",
        "#     synonyms = set()\n",
        "    \n",
        "#     for syn in wn.synsets(word): \n",
        "#         for l in syn.lemmas(): \n",
        "#             synonym = l.name().replace(\"_\", \" \").replace(\"-\", \" \").lower()\n",
        "#             synonym = \"\".join([char for char in synonym if char in ' qwertyuiopasdfghjklzxcvbnm'])\n",
        "#             synonyms.add(synonym) \n",
        "    \n",
        "#     if word in synonyms:\n",
        "#         synonyms.remove(word)\n",
        "    \n",
        "#     return list(synonyms)"
      ],
      "execution_count": null,
      "outputs": []
    },
    {
      "cell_type": "code",
      "metadata": {
        "id": "7pwP6aFQLy3g",
        "colab_type": "code",
        "colab": {}
      },
      "source": [
        ""
      ],
      "execution_count": null,
      "outputs": []
    },
    {
      "cell_type": "code",
      "metadata": {
        "id": "D7fSi5Bz1Gp-",
        "colab_type": "code",
        "colab": {}
      },
      "source": [
        "wn_lemma = set(wn.all_lemma_names())\n",
        "w2vocab = set(word2vec.vocab)\n",
        "# def get_synonyms2(word,number_syns): \n",
        "#   output = []\n",
        "#   if word in w2vocab: \n",
        "#     syn_list =  [syn for syn,similarity in word2vec.most_similar(word)]\n",
        "#     output_lenght = 0\n",
        "#     for i in range(len(syn_list)): \n",
        "#       if syn_list[i] in wn_lemma:\n",
        "#         output.append(syn_list[i])\n",
        "#         output_lenght += 1\n",
        "#       if output_lenght >= number_syns:\n",
        "#         break\n",
        "#   return output\n",
        "\n",
        "\n",
        "# def synonym_replacement2(number_syns, number_replacements, inicio, fin):\n",
        "    \n",
        "#     for in in range(inicio, fin): \n",
        "      \n",
        "#       words = words.split()\n",
        "      \n",
        "#       new_words = words.copy()\n",
        "#       random_word_list = list(set([word for word in words if word not in stopwords.words('english')]))\n",
        "      \n",
        "#       random.shuffle(random_word_list)\n",
        "      \n",
        "#       num_replaced = 0\n",
        "      \n",
        "#       for random_word in random_word_list:\n",
        "#           if num_replaced >= number_replacements:\n",
        "#             break\n",
        "          \n",
        "#           if get_synonyms2(random_word, number_syns) != []:\n",
        "                        \n",
        "#             synonym = random.choice(get_synonyms2(random_word, number_syns))\n",
        "#             synonym = re.sub('_',' ',synonym)\n",
        "#             synonym = re.sub('[@#!:?]','',synonym)\n",
        "#             new_words = [synonym.lower() if word == random_word else word for word in new_words]\n",
        "#             num_replaced += 1\n",
        "            \n",
        "#       sentence = ' '.join(new_words)\n",
        "\n",
        "#       return sentence"
      ],
      "execution_count": null,
      "outputs": []
    },
    {
      "cell_type": "code",
      "metadata": {
        "id": "5CAo1beE3bGV",
        "colab_type": "code",
        "colab": {
          "base_uri": "https://localhost:8080/",
          "height": 356
        },
        "outputId": "060b3708-deda-4441-ad92-241e7b4dbf29"
      },
      "source": [
        "#let's see how it works and the time of execution. \n",
        "\n",
        "import time\n",
        "samples = x_train.text_cleaned.sample(5).tolist()\n",
        "start = time.time()\n",
        "for i in range(len(samples)):\n",
        "  print(samples[i],'\\n',synonym_replacement2(samples[i],4,2),'\\n','***'*75)\n",
        "print('If I run this code i would spent {} hours'.format((time.time() - start)*7000/(5*3600)))"
      ],
      "execution_count": null,
      "outputs": [
        {
          "output_type": "stream",
          "text": [
            "/usr/local/lib/python3.6/dist-packages/gensim/matutils.py:737: FutureWarning: Conversion of the second argument of issubdtype from `int` to `np.signedinteger` is deprecated. In future, it will be treated as `np.int64 == np.dtype(int).type`.\n",
            "  if np.issubdtype(vec.dtype, np.int):\n"
          ],
          "name": "stderr"
        },
        {
          "output_type": "stream",
          "text": [
            "liked couture video benedict cumberbatch gets video bombed \n",
            " liked couturier video benedict cumberbatch gets video bombing \n",
            " *********************************************************************************************************************************************************************************************************************************\n",
            "soon maintenance ends everyone floods servers servers destroyed extreme load maintenance starts anew \n",
            " soon maintenance ends everyone floods servers servers demolished severe load maintenance starts anew \n",
            " *********************************************************************************************************************************************************************************************************************************\n",
            "would trapped collapsed circus tent bunch clowns \n",
            " would stuck collapsed circus tent slew clowns \n",
            " *********************************************************************************************************************************************************************************************************************************\n",
            "sodamntrue know u bleeding heart wannabe pickup artist \n",
            " sodamntrue know u bleeding heart aspiring pickup sculptor \n",
            " *********************************************************************************************************************************************************************************************************************************\n",
            "nightmare elm street getting remade \n",
            " horrible elm boulevard getting remade \n",
            " *********************************************************************************************************************************************************************************************************************************\n",
            "If I run this code i would spent 2.891394707891676 hours\n"
          ],
          "name": "stdout"
        }
      ]
    },
    {
      "cell_type": "markdown",
      "metadata": {
        "id": "EURR-peFbCs5",
        "colab_type": "text"
      },
      "source": [
        "We're going to exectue the function above by threads"
      ]
    },
    {
      "cell_type": "code",
      "metadata": {
        "id": "rH6JR0wIVeM5",
        "colab_type": "code",
        "colab": {}
      },
      "source": [
        "#Threading\n",
        "import threading\n",
        "\n",
        "#Serie to list\n",
        "text_list = x_train.text_cleaned.tolist()\n",
        "\n",
        "#Fijamos la cantidad de hilos\n",
        "n_threads = 16"
      ],
      "execution_count": null,
      "outputs": []
    },
    {
      "cell_type": "code",
      "metadata": {
        "id": "X10UEGxgV2Sb",
        "colab_type": "code",
        "colab": {
          "base_uri": "https://localhost:8080/",
          "height": 107
        },
        "outputId": "519f943c-d588-4144-927a-ff85cb33f356"
      },
      "source": [
        "#Vamos a determinar la cantidad de elementos que va a tener que analizar cada thread. \n",
        "p=len(text_list)//n_threads # Acá hacemos división entera para que me divida la cantidad de elementos en n partes iguales.\n",
        "inicios = []\n",
        "fines = []\n",
        "inicio=0\n",
        "fin=p\n",
        "\n",
        "#Acá vamos a crear los inicios y los fines. \n",
        "for i in range(n_threads):\n",
        "  inicios.append(inicio)\n",
        "  fines.append(fin)\n",
        "  inicio= inicio + p \n",
        "  fin= fin + p\n",
        "\n",
        "#Print de inicios y fines\n",
        "print(inicios)\n",
        "print(fines)"
      ],
      "execution_count": null,
      "outputs": [
        {
          "output_type": "stream",
          "text": [
            "[0, 429, 858, 1287, 1716, 2145, 2574, 3003, 3432, 3861, 4290, 4719, 5148, 5577, 6006, 6435]\n",
            "[429, 858, 1287, 1716, 2145, 2574, 3003, 3432, 3861, 4290, 4719, 5148, 5577, 6006, 6435, 6864]\n"
          ],
          "name": "stdout"
        },
        {
          "output_type": "stream",
          "text": [
            "/usr/local/lib/python3.6/dist-packages/gensim/matutils.py:737: FutureWarning: Conversion of the second argument of issubdtype from `int` to `np.signedinteger` is deprecated. In future, it will be treated as `np.int64 == np.dtype(int).type`.\n",
            "  if np.issubdtype(vec.dtype, np.int):\n"
          ],
          "name": "stderr"
        }
      ]
    },
    {
      "cell_type": "code",
      "metadata": {
        "id": "xoLJMNriV7rV",
        "colab_type": "code",
        "colab": {}
      },
      "source": [
        "def get_synonyms2(word,number_syns): \n",
        "  output = []\n",
        "  if word in w2vocab: \n",
        "    syn_list =  [syn for syn,similarity in word2vec.most_similar(word)]\n",
        "    output_lenght = 0\n",
        "    for i in range(len(syn_list)): \n",
        "      if syn_list[i] in wn_lemma:\n",
        "        output.append(syn_list[i])\n",
        "        output_lenght += 1\n",
        "      if output_lenght >= number_syns:\n",
        "        break\n",
        "  return output\n",
        "\n",
        "\n",
        "def synonym_replacement3(number_syns, number_replacements, inicio, fin):\n",
        "    lista = []\n",
        "    for i in range(inicio, fin): \n",
        "      \n",
        "      words = text_list[i].split()\n",
        "      \n",
        "      new_words = words.copy()\n",
        "      random_word_list = list(set([word for word in words if word not in stopwords.words('english')]))\n",
        "      \n",
        "      random.shuffle(random_word_list)\n",
        "      \n",
        "      num_replaced = 0\n",
        "      \n",
        "      for random_word in random_word_list:\n",
        "          if num_replaced >= number_replacements:\n",
        "            break\n",
        "          \n",
        "          if get_synonyms2(random_word, number_syns) != []:\n",
        "                        \n",
        "            synonym = random.choice(get_synonyms2(random_word, number_syns))\n",
        "            synonym = re.sub('_',' ',synonym)\n",
        "            synonym = re.sub('[@#!:?]','',synonym)\n",
        "            new_words = [synonym.lower() if word == random_word else word for word in new_words]\n",
        "            num_replaced += 1\n",
        "            \n",
        "      lista.append(' '.join(new_words))\n",
        "\n",
        "    return lista"
      ],
      "execution_count": null,
      "outputs": []
    },
    {
      "cell_type": "code",
      "metadata": {
        "id": "gR5mfctnSNaH",
        "colab_type": "code",
        "colab": {
          "base_uri": "https://localhost:8080/",
          "height": 72
        },
        "outputId": "28592306-27bd-406b-8e4b-4ee0c6e6d8ed"
      },
      "source": [
        "t0=time.time()\n",
        "threads=[]\n",
        "for i in range(len(inicios)):\n",
        "  t=threading.Thread(target=synonym_replacement3, args=(4,2,inicios[i], fines[i],))\n",
        "  threads.append(t)\n",
        "  t.start()\n",
        "\n",
        "for t in threads:\n",
        "  t.join()\n",
        "  print(t)\n",
        "\n",
        "tf=time.time() - t0\n",
        "\n",
        "print(tf)"
      ],
      "execution_count": null,
      "outputs": [
        {
          "output_type": "stream",
          "text": [
            "/usr/local/lib/python3.6/dist-packages/gensim/matutils.py:737: FutureWarning: Conversion of the second argument of issubdtype from `int` to `np.signedinteger` is deprecated. In future, it will be treated as `np.int64 == np.dtype(int).type`.\n",
            "  if np.issubdtype(vec.dtype, np.int):\n"
          ],
          "name": "stderr"
        }
      ]
    },
    {
      "cell_type": "code",
      "metadata": {
        "id": "9YgXu85hbVHh",
        "colab_type": "code",
        "colab": {}
      },
      "source": [
        "data = np.array(lista)\n",
        "fake_text = pd.Series(data)\n",
        "fake_text.to_csv('fake_text.csv',index=False)\n",
        "files.download('fake_text.csv')"
      ],
      "execution_count": null,
      "outputs": []
    },
    {
      "cell_type": "markdown",
      "metadata": {
        "id": "NiWrqWjIk_rK",
        "colab_type": "text"
      },
      "source": [
        "# Tokenizer"
      ]
    },
    {
      "cell_type": "code",
      "metadata": {
        "id": "5OszUwSYtNWZ",
        "colab_type": "code",
        "colab": {
          "base_uri": "https://localhost:8080/",
          "height": 123
        },
        "outputId": "8fea8e5a-9596-4a3e-e74a-9c30e0e9bf3a"
      },
      "source": [
        "pd.set_option('max_colwidth', 200)\n",
        "(x_train['text_cleaned'] + (' ') + x_train['keyword_cleaned'] + (' ') + x_train['location_cleaned']).head()"
      ],
      "execution_count": null,
      "outputs": [
        {
          "output_type": "execute_result",
          "data": {
            "text/plain": [
              "0                                                deeds reason earthquake may allah forgive us keyword location\n",
              "1                                                        forest fire near la range ask canada keyword location\n",
              "2    residents asked shelter place notified officers evacuation shelter place orders expected keyword location\n",
              "3                                  13000 people receive wildfire evacuation orders california keyword location\n",
              "4                                      got sent photo ruby alaska smoke wildfire pours school keyword location\n",
              "dtype: object"
            ]
          },
          "metadata": {
            "tags": []
          },
          "execution_count": 12
        }
      ]
    },
    {
      "cell_type": "markdown",
      "metadata": {
        "id": "acLGHaLlzErC",
        "colab_type": "text"
      },
      "source": [
        "## Instantiating the Tokenizer"
      ]
    },
    {
      "cell_type": "code",
      "metadata": {
        "id": "OnF92Z8dztyS",
        "colab_type": "code",
        "colab": {}
      },
      "source": [
        "#Top word is the quantity of differents words that our word_index will have. \n",
        "top_word = 35000"
      ],
      "execution_count": null,
      "outputs": []
    },
    {
      "cell_type": "code",
      "metadata": {
        "id": "T9f3bgFxg7CD",
        "colab_type": "code",
        "colab": {}
      },
      "source": [
        "#Here we instantiate the tokenizer\n",
        "tokenizer = Tokenizer(num_words=top_word)\n",
        "\n",
        "#Here we make the fit we three features that are strings\n",
        "tokenizer.fit_on_texts((x_train['text_cleaned'] + (' ') + x_train['keyword_cleaned'] + (' ') + x_train['location_cleaned']))"
      ],
      "execution_count": null,
      "outputs": []
    },
    {
      "cell_type": "markdown",
      "metadata": {
        "id": "YhWZc6pCzzSa",
        "colab_type": "text"
      },
      "source": [
        "## Text to sequences of word_indexes"
      ]
    },
    {
      "cell_type": "markdown",
      "metadata": {
        "id": "WqXyZEemzVzs",
        "colab_type": "text"
      },
      "source": [
        "Converting the text into a sequence of integers, all of them are indexes of the tokenizer.word_index"
      ]
    },
    {
      "cell_type": "code",
      "metadata": {
        "id": "YI9rgZd6yOJW",
        "colab_type": "code",
        "colab": {}
      },
      "source": [
        "#Training set to sequence\n",
        "x_train_txt = tokenizer.texts_to_sequences(x_train['text_cleaned'])\n",
        "x_train_key = tokenizer.texts_to_sequences(x_train['keyword_cleaned'])\n",
        "x_train_loc = tokenizer.texts_to_sequences(x_train['location_cleaned'])\n",
        "\n",
        "#Test set to sequence\n",
        "x_test_txt = tokenizer.texts_to_sequences(x_test['text_cleaned'])\n",
        "x_test_key = tokenizer.texts_to_sequences(x_test['keyword_cleaned'])\n",
        "x_test_loc = tokenizer.texts_to_sequences(x_test['location_cleaned'])\n"
      ],
      "execution_count": null,
      "outputs": []
    },
    {
      "cell_type": "markdown",
      "metadata": {
        "id": "8XWho2Vi0cBl",
        "colab_type": "text"
      },
      "source": [
        "## Padding sequence"
      ]
    },
    {
      "cell_type": "markdown",
      "metadata": {
        "id": "d7y2yRFD0gNA",
        "colab_type": "text"
      },
      "source": [
        "We add zeros into each sequence unitl complete a maximum of lenght"
      ]
    },
    {
      "cell_type": "code",
      "metadata": {
        "id": "N0x1TpDY1Zlq",
        "colab_type": "code",
        "colab": {
          "base_uri": "https://localhost:8080/",
          "height": 87
        },
        "outputId": "17d3cce1-5ea4-4f46-da0a-9a1c726ceee8"
      },
      "source": [
        "#MAXLEN for text, location and keyword\n",
        "max_words_txt = max([len(x) for x in x_train_txt]) + 1\n",
        "max_words_key = max([len(x) for x in x_train_key]) + 1\n",
        "max_words_loc = max([len(x) for x in x_train_loc]) + 1\n",
        "\n",
        "print(\"top_word: \", str(top_word))\n",
        "print(\"max_words: \", str(max_words_txt))\n",
        "print(\"max_words_ky: \", str(max_words_key))\n",
        "print(\"max_words_lc: \", str(max_words_loc))"
      ],
      "execution_count": null,
      "outputs": [
        {
          "output_type": "stream",
          "text": [
            "top_word:  35000\n",
            "max_words:  25\n",
            "max_words_ky:  4\n",
            "max_words_lc:  8\n"
          ],
          "name": "stdout"
        }
      ]
    },
    {
      "cell_type": "code",
      "metadata": {
        "id": "ig1DpbgL3RKy",
        "colab_type": "code",
        "colab": {
          "base_uri": "https://localhost:8080/",
          "height": 70
        },
        "outputId": "228346a7-f746-4bee-f721-d6eda8d24a0b"
      },
      "source": [
        "#Padding\n",
        "\n",
        "\n",
        "x_train_txt = sequence.pad_sequences(x_train_txt, maxlen=max_words_txt)\n",
        "x_train_key = sequence.pad_sequences(x_train_key, maxlen=max_words_key)\n",
        "x_train_loc = sequence.pad_sequences(x_train_loc, maxlen=max_words_loc)\n",
        "\n",
        "x_test_txt = sequence.pad_sequences(x_test_txt, maxlen=max_words_txt)\n",
        "x_test_key = sequence.pad_sequences(x_test_key, maxlen=max_words_key)\n",
        "x_test_loc = sequence.pad_sequences(x_test_loc, maxlen=max_words_loc)\n",
        "\n",
        "print(\"X_train_txt.shape: \", x_train_txt.shape)\n",
        "print(\"X_train_key.shape: \", x_train_key.shape)\n",
        "print(\"X_train_loc.shape: \", x_train_loc.shape)"
      ],
      "execution_count": null,
      "outputs": [
        {
          "output_type": "stream",
          "text": [
            "X_train_tx.shape:  (6879, 25)\n",
            "X_train_ky.shape:  (6879, 4)\n",
            "X_train_lc.shape:  (6879, 8)\n"
          ],
          "name": "stdout"
        }
      ]
    },
    {
      "cell_type": "markdown",
      "metadata": {
        "id": "EYSoOqDWlGwK",
        "colab_type": "text"
      },
      "source": [
        "# y_train to_categorical"
      ]
    },
    {
      "cell_type": "code",
      "metadata": {
        "id": "F42OTM5Yj-3F",
        "colab_type": "code",
        "colab": {
          "base_uri": "https://localhost:8080/",
          "height": 34
        },
        "outputId": "5b91406b-c584-448b-9bdd-d813d1398614"
      },
      "source": [
        "# One-hot category\n",
        "from keras.utils import to_categorical\n",
        "y_train = to_categorical(y_train)\n",
        "print(\"y_train.shape: \", y_train.shape)"
      ],
      "execution_count": null,
      "outputs": [
        {
          "output_type": "stream",
          "text": [
            "y_train.shape:  (6879, 2)\n"
          ],
          "name": "stdout"
        }
      ]
    },
    {
      "cell_type": "markdown",
      "metadata": {
        "id": "HeMD42LLhlTJ",
        "colab_type": "text"
      },
      "source": [
        "## Loading word embedding file\n",
        "\n",
        "---\n",
        "\n"
      ]
    },
    {
      "cell_type": "code",
      "metadata": {
        "id": "Vs7hSCnqZt7-",
        "colab_type": "code",
        "colab": {
          "base_uri": "https://localhost:8080/",
          "height": 265
        },
        "outputId": "471fa5be-b84b-436a-878e-7c01c7e638fb"
      },
      "source": [
        "#Installing PyDrive\n",
        "!pip install PyDrive"
      ],
      "execution_count": null,
      "outputs": [
        {
          "output_type": "stream",
          "text": [
            "Requirement already satisfied: PyDrive in /usr/local/lib/python3.6/dist-packages (1.3.1)\n",
            "Requirement already satisfied: oauth2client>=4.0.0 in /usr/local/lib/python3.6/dist-packages (from PyDrive) (4.1.3)\n",
            "Requirement already satisfied: PyYAML>=3.0 in /usr/local/lib/python3.6/dist-packages (from PyDrive) (3.13)\n",
            "Requirement already satisfied: google-api-python-client>=1.2 in /usr/local/lib/python3.6/dist-packages (from PyDrive) (1.7.12)\n",
            "Requirement already satisfied: six>=1.6.1 in /usr/local/lib/python3.6/dist-packages (from oauth2client>=4.0.0->PyDrive) (1.15.0)\n",
            "Requirement already satisfied: rsa>=3.1.4 in /usr/local/lib/python3.6/dist-packages (from oauth2client>=4.0.0->PyDrive) (4.6)\n",
            "Requirement already satisfied: pyasn1>=0.1.7 in /usr/local/lib/python3.6/dist-packages (from oauth2client>=4.0.0->PyDrive) (0.4.8)\n",
            "Requirement already satisfied: pyasn1-modules>=0.0.5 in /usr/local/lib/python3.6/dist-packages (from oauth2client>=4.0.0->PyDrive) (0.2.8)\n",
            "Requirement already satisfied: httplib2>=0.9.1 in /usr/local/lib/python3.6/dist-packages (from oauth2client>=4.0.0->PyDrive) (0.17.4)\n",
            "Requirement already satisfied: uritemplate<4dev,>=3.0.0 in /usr/local/lib/python3.6/dist-packages (from google-api-python-client>=1.2->PyDrive) (3.0.1)\n",
            "Requirement already satisfied: google-auth-httplib2>=0.0.3 in /usr/local/lib/python3.6/dist-packages (from google-api-python-client>=1.2->PyDrive) (0.0.4)\n",
            "Requirement already satisfied: google-auth>=1.4.1 in /usr/local/lib/python3.6/dist-packages (from google-api-python-client>=1.2->PyDrive) (1.17.2)\n",
            "Requirement already satisfied: setuptools>=40.3.0 in /usr/local/lib/python3.6/dist-packages (from google-auth>=1.4.1->google-api-python-client>=1.2->PyDrive) (49.2.0)\n",
            "Requirement already satisfied: cachetools<5.0,>=2.0.0 in /usr/local/lib/python3.6/dist-packages (from google-auth>=1.4.1->google-api-python-client>=1.2->PyDrive) (4.1.1)\n"
          ],
          "name": "stdout"
        }
      ]
    },
    {
      "cell_type": "code",
      "metadata": {
        "id": "eRclqajX71NJ",
        "colab_type": "code",
        "colab": {}
      },
      "source": [
        "#Importing modules\n",
        "from pydrive.auth import GoogleAuth\n",
        "from pydrive.drive import GoogleDrive\n",
        "from google.colab import auth\n",
        "from oauth2client.client import GoogleCredentials"
      ],
      "execution_count": null,
      "outputs": []
    },
    {
      "cell_type": "code",
      "metadata": {
        "id": "AZRrfStr7SnT",
        "colab_type": "code",
        "colab": {}
      },
      "source": [
        "#Authenticating and creating the PyDrive client (ACA TENES QUE ENTRAR AL LINK, ENTRAR CON TU CUENTA DE GMAIL, TE VA A DAR UN ID UNA VEZ QUE LE DES 'ALLOW' \n",
        "#Y LUEGO TENES QUE COPIAR EL ID EN EL CAMPO QUE TE VA A GENERAR EN ESTA CELDA)\n",
        "auth.authenticate_user()\n",
        "gauth = GoogleAuth()\n",
        "gauth.credentials = GoogleCredentials.get_application_default()\n",
        "drive = GoogleDrive(gauth)"
      ],
      "execution_count": null,
      "outputs": []
    },
    {
      "cell_type": "code",
      "metadata": {
        "id": "0z33WZr8C5XB",
        "colab_type": "code",
        "colab": {}
      },
      "source": [
        "#Getting the file\n",
        "downloaded2 = drive.CreateFile({'id':\"1LA2yR5TRNPQu2btbbFVVHMqcHsj3yCuS\"})   # replace the id with id of file you want to access\n",
        "downloaded2.GetContentFile('glove.twitter.27B.200d.txt')                             # replace the filename of file you want to access   "
      ],
      "execution_count": null,
      "outputs": []
    },
    {
      "cell_type": "code",
      "metadata": {
        "id": "mMwja2QLkZ99",
        "colab_type": "code",
        "colab": {}
      },
      "source": [
        "embeddings_dictionary = dict()\n",
        "glove_file = open('glove.twitter.27B.200d.txt', encoding=\"utf8\")"
      ],
      "execution_count": null,
      "outputs": []
    },
    {
      "cell_type": "code",
      "metadata": {
        "id": "IR-DYysrl80g",
        "colab_type": "code",
        "colab": {}
      },
      "source": [
        "from numpy import array\n",
        "from numpy import asarray\n",
        "from numpy import zeros\n",
        "\n",
        "for line in glove_file:\n",
        "    records = line.split()\n",
        "    word = records[0]\n",
        "    vector_dimensions = asarray(records[1:], dtype='float32')\n",
        "    \n",
        "    embeddings_dictionary [word] = vector_dimensions\n",
        "\n",
        "glove_file.close()"
      ],
      "execution_count": null,
      "outputs": []
    },
    {
      "cell_type": "code",
      "metadata": {
        "id": "b6LE4atAmAid",
        "colab_type": "code",
        "colab": {}
      },
      "source": [
        "embedding_dim = 200\n",
        "embedding_matrix = zeros((top_word, embedding_dim))\n",
        "for word, index in tokenizer.word_index.items():\n",
        "    embedding_vector = embeddings_dictionary.get(word)\n",
        "    if embedding_vector is not None:\n",
        "        embedding_matrix[index] = embedding_vector"
      ],
      "execution_count": null,
      "outputs": []
    },
    {
      "cell_type": "markdown",
      "metadata": {
        "id": "BxjIgytUm9gk",
        "colab_type": "text"
      },
      "source": [
        "# LSTM Model"
      ]
    },
    {
      "cell_type": "code",
      "metadata": {
        "id": "gWA8cx9DnA71",
        "colab_type": "code",
        "colab": {}
      },
      "source": [
        "from keras.models import Sequential\n",
        "from keras.models import Model\n",
        "from keras.layers import Dense, Dropout, Embedding, LSTM, Input, Conv2D, MaxPooling2D,Conv1D,MaxPooling1D\n",
        "from keras.layers import Bidirectional,  Reshape, Flatten, GRU\n",
        "from keras.layers.merge import concatenate"
      ],
      "execution_count": null,
      "outputs": []
    },
    {
      "cell_type": "markdown",
      "metadata": {
        "id": "zomaxM-IpwrY",
        "colab_type": "text"
      },
      "source": [
        "## Model 1 - Muy baja 'val_accuracy'[location, text, keyword] in Kaggle 0.79098"
      ]
    },
    {
      "cell_type": "code",
      "metadata": {
        "id": "6odO6k5MhoFj",
        "colab_type": "code",
        "colab": {
          "base_uri": "https://localhost:8080/",
          "height": 1000
        },
        "outputId": "16c4cb85-e3c3-424a-caf0-49b576cc2da1"
      },
      "source": [
        "# Defining the LSTM model 1\n",
        "\n",
        "input1 = Input(shape=(max_words_txt,))\n",
        "embedding_layer1 = Embedding(top_word, embedding_dim, weights=[embedding_matrix], input_length=max_words_txt, trainable=False)(input1)\n",
        "dropout1 = Dropout(0.2)(embedding_layer1)\n",
        "lstm1_1 = LSTM(128,return_sequences = True)(dropout1)\n",
        "lstm1_2 = LSTM(128,return_sequences = True)(lstm1_1)\n",
        "lstm1_2a = LSTM(128,return_sequences = True)(lstm1_2)\n",
        "lstm1_3 = LSTM(128)(lstm1_2a)\n",
        "\n",
        "input2 = Input(shape=(max_words_key,))\n",
        "embedding_layer2 = Embedding(top_word, embedding_dim, weights=[embedding_matrix], input_length=max_words_key, trainable=False)(input2)\n",
        "dropout2 = Dropout(0.2)(embedding_layer2)\n",
        "lstm2_1 = LSTM(64,return_sequences = True)(dropout2)\n",
        "lstm2_2 = LSTM(64,return_sequences = True)(lstm2_1)\n",
        "lstm2_3 = LSTM(64)(lstm2_2)\n",
        "\n",
        "input3 = Input(shape=(max_words_loc,))\n",
        "embedding_layer3 = Embedding(top_word, embedding_dim, weights=[embedding_matrix], input_length=max_words_loc, trainable=False)(input3)\n",
        "dropout3 = Dropout(0.2)(embedding_layer3)\n",
        "lstm3_1 = LSTM(32,return_sequences = True)(dropout3)\n",
        "lstm3_2 = LSTM(32,return_sequences = True)(lstm3_1)\n",
        "lstm3_3 = LSTM(32)(lstm3_2)\n",
        "\n",
        "merge = concatenate([lstm1_3, lstm2_3,lstm3_3])\n",
        "\n",
        "dropout = Dropout(0.8)(merge)\n",
        "dense1 = Dense(256, activation='relu')(dropout)\n",
        "dense2 = Dense(128, activation='relu')(dense1)\n",
        "output = Dense(2, activation='softmax')(dense2)\n",
        "model1 = Model(inputs=[input1,input2,input3], outputs=output)\n",
        "model1.summary()"
      ],
      "execution_count": null,
      "outputs": [
        {
          "output_type": "stream",
          "text": [
            "Model: \"model_3\"\n",
            "__________________________________________________________________________________________________\n",
            "Layer (type)                    Output Shape         Param #     Connected to                     \n",
            "==================================================================================================\n",
            "input_8 (InputLayer)            (None, 25)           0                                            \n",
            "__________________________________________________________________________________________________\n",
            "embedding_7 (Embedding)         (None, 25, 200)      7000000     input_8[0][0]                    \n",
            "__________________________________________________________________________________________________\n",
            "input_9 (InputLayer)            (None, 4)            0                                            \n",
            "__________________________________________________________________________________________________\n",
            "input_10 (InputLayer)           (None, 8)            0                                            \n",
            "__________________________________________________________________________________________________\n",
            "dropout_9 (Dropout)             (None, 25, 200)      0           embedding_7[0][0]                \n",
            "__________________________________________________________________________________________________\n",
            "embedding_8 (Embedding)         (None, 4, 200)       7000000     input_9[0][0]                    \n",
            "__________________________________________________________________________________________________\n",
            "embedding_9 (Embedding)         (None, 8, 200)       7000000     input_10[0][0]                   \n",
            "__________________________________________________________________________________________________\n",
            "lstm_21 (LSTM)                  (None, 25, 128)      168448      dropout_9[0][0]                  \n",
            "__________________________________________________________________________________________________\n",
            "dropout_10 (Dropout)            (None, 4, 200)       0           embedding_8[0][0]                \n",
            "__________________________________________________________________________________________________\n",
            "dropout_11 (Dropout)            (None, 8, 200)       0           embedding_9[0][0]                \n",
            "__________________________________________________________________________________________________\n",
            "lstm_22 (LSTM)                  (None, 25, 128)      131584      lstm_21[0][0]                    \n",
            "__________________________________________________________________________________________________\n",
            "lstm_25 (LSTM)                  (None, 4, 64)        67840       dropout_10[0][0]                 \n",
            "__________________________________________________________________________________________________\n",
            "lstm_28 (LSTM)                  (None, 8, 32)        29824       dropout_11[0][0]                 \n",
            "__________________________________________________________________________________________________\n",
            "lstm_23 (LSTM)                  (None, 25, 128)      131584      lstm_22[0][0]                    \n",
            "__________________________________________________________________________________________________\n",
            "lstm_26 (LSTM)                  (None, 4, 64)        33024       lstm_25[0][0]                    \n",
            "__________________________________________________________________________________________________\n",
            "lstm_29 (LSTM)                  (None, 8, 32)        8320        lstm_28[0][0]                    \n",
            "__________________________________________________________________________________________________\n",
            "lstm_24 (LSTM)                  (None, 128)          131584      lstm_23[0][0]                    \n",
            "__________________________________________________________________________________________________\n",
            "lstm_27 (LSTM)                  (None, 64)           33024       lstm_26[0][0]                    \n",
            "__________________________________________________________________________________________________\n",
            "lstm_30 (LSTM)                  (None, 32)           8320        lstm_29[0][0]                    \n",
            "__________________________________________________________________________________________________\n",
            "concatenate_3 (Concatenate)     (None, 224)          0           lstm_24[0][0]                    \n",
            "                                                                 lstm_27[0][0]                    \n",
            "                                                                 lstm_30[0][0]                    \n",
            "__________________________________________________________________________________________________\n",
            "dropout_12 (Dropout)            (None, 224)          0           concatenate_3[0][0]              \n",
            "__________________________________________________________________________________________________\n",
            "dense_7 (Dense)                 (None, 256)          57600       dropout_12[0][0]                 \n",
            "__________________________________________________________________________________________________\n",
            "dense_8 (Dense)                 (None, 128)          32896       dense_7[0][0]                    \n",
            "__________________________________________________________________________________________________\n",
            "dense_9 (Dense)                 (None, 2)            258         dense_8[0][0]                    \n",
            "==================================================================================================\n",
            "Total params: 21,834,306\n",
            "Trainable params: 834,306\n",
            "Non-trainable params: 21,000,000\n",
            "__________________________________________________________________________________________________\n"
          ],
          "name": "stdout"
        }
      ]
    },
    {
      "cell_type": "markdown",
      "metadata": {
        "id": "ROz4GYOG0Ext",
        "colab_type": "text"
      },
      "source": [
        "### Optimizer"
      ]
    },
    {
      "cell_type": "code",
      "metadata": {
        "id": "YfRT8N_qh-Si",
        "colab_type": "code",
        "colab": {}
      },
      "source": [
        "from keras.optimizers import Adam\n",
        "\n",
        "optimizer1 = Adam(lr = .0001, beta_1 = .9, beta_2 = .999, epsilon = 1e-10, decay = .0, amsgrad = False)\n",
        "model1.compile(loss=\"binary_crossentropy\", optimizer=optimizer1,\n",
        "              metrics=[\"accuracy\"])\n"
      ],
      "execution_count": null,
      "outputs": []
    },
    {
      "cell_type": "markdown",
      "metadata": {
        "id": "ygPgr54C0Hze",
        "colab_type": "text"
      },
      "source": [
        "### Training"
      ]
    },
    {
      "cell_type": "code",
      "metadata": {
        "id": "npv5TchGpC8J",
        "colab_type": "code",
        "colab": {
          "base_uri": "https://localhost:8080/",
          "height": 301
        },
        "outputId": "d17444bd-e84f-4674-ec01-a6c93e37d8d9"
      },
      "source": [
        "from keras.callbacks import EarlyStopping, ReduceLROnPlateau\n",
        "es = EarlyStopping(monitor='val_loss', mode='min',verbose=1, patience = 4)\n",
        "learning_rate_reduction = ReduceLROnPlateau(monitor = 'val_accuracy', patience = 2, verbose = 1, \n",
        "                                           factor = 0.5, min_lr = 1e-8, cooldown=1)\n",
        "\n",
        "prueba  = model1.fit([x_train_txt,x_train_key,x_train_loc], y_train, validation_split=0.2, epochs=20, batch_size=16, verbose=2, callbacks=[es, learning_rate_reduction])"
      ],
      "execution_count": null,
      "outputs": [
        {
          "output_type": "stream",
          "text": [
            "Train on 5503 samples, validate on 1376 samples\n",
            "Epoch 1/20\n",
            " - 49s - loss: 0.4351 - accuracy: 0.8094 - val_loss: 0.4488 - val_accuracy: 0.7958\n",
            "Epoch 2/20\n",
            " - 50s - loss: 0.4258 - accuracy: 0.8143 - val_loss: 0.4578 - val_accuracy: 0.7871\n",
            "Epoch 3/20\n",
            " - 50s - loss: 0.4163 - accuracy: 0.8196 - val_loss: 0.4582 - val_accuracy: 0.7958\n",
            "\n",
            "Epoch 00003: ReduceLROnPlateau reducing learning rate to 4.999999873689376e-05.\n",
            "Epoch 4/20\n",
            " - 50s - loss: 0.4083 - accuracy: 0.8243 - val_loss: 0.4514 - val_accuracy: 0.7900\n",
            "Epoch 5/20\n",
            " - 50s - loss: 0.4015 - accuracy: 0.8268 - val_loss: 0.4828 - val_accuracy: 0.7674\n",
            "\n",
            "Epoch 00005: ReduceLROnPlateau reducing learning rate to 2.499999936844688e-05.\n",
            "Epoch 00005: early stopping\n"
          ],
          "name": "stdout"
        }
      ]
    },
    {
      "cell_type": "markdown",
      "metadata": {
        "id": "EnvrBsUVrjGy",
        "colab_type": "text"
      },
      "source": [
        "### Plotting results"
      ]
    },
    {
      "cell_type": "code",
      "metadata": {
        "id": "avWQdMO1rmUP",
        "colab_type": "code",
        "colab": {}
      },
      "source": [
        "#Function to plot loss + accuracy in training and validation sets\n",
        "\n",
        "def result_eva (loss,val_loss,acc,val_acc):\n",
        "       \n",
        "    epochs = range(1,len(loss)+1)\n",
        "    plt.plot(epochs, loss,'b-o', label ='Training Loss')\n",
        "    plt.plot(epochs, val_loss,'r-o', label ='Validation Loss')\n",
        "    plt.title(\"Training and Validation Loss\")\n",
        "    plt.xlabel('Epochs')\n",
        "    plt.ylabel('Loss')\n",
        "    plt.legend()\n",
        "    plt.show()\n",
        "    \n",
        "    epochs = range(1, len(acc)+1)\n",
        "    plt.plot(epochs, acc, \"b-o\", label=\"Training Acc\")\n",
        "    plt.plot(epochs, val_acc, \"r-o\", label=\"Validation Acc\")\n",
        "    plt.title(\"Training and Validation Accuracy\")\n",
        "    plt.xlabel(\"Epochs\")\n",
        "    plt.ylabel(\"Accuracy\")\n",
        "    plt.legend()\n",
        "    plt.show()"
      ],
      "execution_count": null,
      "outputs": []
    },
    {
      "cell_type": "code",
      "metadata": {
        "id": "VdDJyZr6rtNm",
        "colab_type": "code",
        "colab": {
          "base_uri": "https://localhost:8080/",
          "height": 573
        },
        "outputId": "732ccc33-2f7c-4885-9db2-cc11aa26cb2f"
      },
      "source": [
        "result_eva(prueba.history['loss'], prueba.history['val_loss'], prueba.history['accuracy'], prueba.history['val_accuracy'])"
      ],
      "execution_count": null,
      "outputs": [
        {
          "output_type": "display_data",
          "data": {
            "image/png": "[encoded data removed]",
            "text/plain": [
              "<Figure size 432x288 with 1 Axes>"
            ]
          },
          "metadata": {
            "tags": [],
            "needs_background": "light"
          }
        },
        {
          "output_type": "display_data",
          "data": {
            "image/png": "[encoded data removed]",
            "text/plain": [
              "<Figure size 432x288 with 1 Axes>"
            ]
          },
          "metadata": {
            "tags": [],
            "needs_background": "light"
          }
        }
      ]
    },
    {
      "cell_type": "markdown",
      "metadata": {
        "id": "GRgvxtIrxnlI",
        "colab_type": "text"
      },
      "source": [
        "### Predicting"
      ]
    },
    {
      "cell_type": "code",
      "metadata": {
        "id": "4A8gole4fQ4q",
        "colab_type": "code",
        "colab": {}
      },
      "source": [
        "#Predicting test data\n",
        "\n",
        "y_pred = model1.predict([x_test_txt,x_test_key,x_test_loc], batch_size=16, verbose=2)"
      ],
      "execution_count": null,
      "outputs": []
    },
    {
      "cell_type": "code",
      "metadata": {
        "id": "rgijxuZQstQ4",
        "colab_type": "code",
        "colab": {}
      },
      "source": [
        "y_pred = np.argmax(y_pred,axis=1)"
      ],
      "execution_count": null,
      "outputs": []
    },
    {
      "cell_type": "markdown",
      "metadata": {
        "id": "_IGqm9_ZxsfW",
        "colab_type": "text"
      },
      "source": [
        "### Creating df for make the submission"
      ]
    },
    {
      "cell_type": "code",
      "metadata": {
        "id": "oE3cNOCQ2SpV",
        "colab_type": "code",
        "colab": {}
      },
      "source": [
        "df = pd.DataFrame()\n",
        "df['id'] = [int(x) for x in id_test.values]\n",
        "df['target'] = y_pred\n"
      ],
      "execution_count": null,
      "outputs": []
    },
    {
      "cell_type": "code",
      "metadata": {
        "id": "ma-5pF752tfa",
        "colab_type": "code",
        "colab": {
          "base_uri": "https://localhost:8080/",
          "height": 16
        },
        "outputId": "17215ae8-63f7-4711-ee7d-5d68bbcd763f"
      },
      "source": [
        "from google.colab import files\n",
        "df.to_csv('24.submit.csv', index=False)\n",
        "files.download('24.submit.csv')"
      ],
      "execution_count": null,
      "outputs": [
        {
          "output_type": "display_data",
          "data": {
            "application/javascript": [
              "\n",
              "    async function download(id, filename, size) {\n",
              "      if (!google.colab.kernel.accessAllowed) {\n",
              "        return;\n",
              "      }\n",
              "      const div = document.createElement('div');\n",
              "      const label = document.createElement('label');\n",
              "      label.textContent = `Downloading \"${filename}\": `;\n",
              "      div.appendChild(label);\n",
              "      const progress = document.createElement('progress');\n",
              "      progress.max = size;\n",
              "      div.appendChild(progress);\n",
              "      document.body.appendChild(div);\n",
              "\n",
              "      const buffers = [];\n",
              "      let downloaded = 0;\n",
              "\n",
              "      const channel = await google.colab.kernel.comms.open(id);\n",
              "      // Send a message to notify the kernel that we're ready.\n",
              "      channel.send({})\n",
              "\n",
              "      for await (const message of channel.messages) {\n",
              "        // Send a message to notify the kernel that we're ready.\n",
              "        channel.send({})\n",
              "        if (message.buffers) {\n",
              "          for (const buffer of message.buffers) {\n",
              "            buffers.push(buffer);\n",
              "            downloaded += buffer.byteLength;\n",
              "            progress.value = downloaded;\n",
              "          }\n",
              "        }\n",
              "      }\n",
              "      const blob = new Blob(buffers, {type: 'application/binary'});\n",
              "      const a = document.createElement('a');\n",
              "      a.href = window.URL.createObjectURL(blob);\n",
              "      a.download = filename;\n",
              "      div.appendChild(a);\n",
              "      a.click();\n",
              "      div.remove();\n",
              "    }\n",
              "  "
            ],
            "text/plain": [
              "<IPython.core.display.Javascript object>"
            ]
          },
          "metadata": {
            "tags": []
          }
        },
        {
          "output_type": "display_data",
          "data": {
            "application/javascript": [
              "download(\"download_ef350a00-8805-404c-90a5-eaaa3dcbbea0\", \"24.submit.csv\", 22746)"
            ],
            "text/plain": [
              "<IPython.core.display.Javascript object>"
            ]
          },
          "metadata": {
            "tags": []
          }
        }
      ]
    },
    {
      "cell_type": "markdown",
      "metadata": {
        "id": "_5uUuLexyB1o",
        "colab_type": "text"
      },
      "source": [
        "## Model 2 - LSTM+CNN over [location, text, keyword] - in Kaggle  0.80386\n",
        "\n"
      ]
    },
    {
      "cell_type": "code",
      "metadata": {
        "id": "Qs95kPjMyEfi",
        "colab_type": "code",
        "colab": {
          "base_uri": "https://localhost:8080/",
          "height": 1000
        },
        "outputId": "34a49f54-8810-4a49-ab22-97363135f266"
      },
      "source": [
        "input1 = Input(shape=(max_words_txt,))\n",
        "embedding_layer1 = Embedding(top_word, embedding_dim, weights=[embedding_matrix], input_length=max_words_txt, trainable=False)(input1)\n",
        "lstm1_1 = Bidirectional(LSTM(100, return_sequences=True,dropout = 0.2))(embedding_layer1)\n",
        "lstm1_1a = Bidirectional(LSTM(100, return_sequences=True,dropout = 0.2))(lstm1_1)\n",
        "lstm1_1b = Bidirectional(LSTM(100, return_sequences=True,dropout = 0.2))(lstm1_1a)\n",
        "res = Reshape((-1, x_train_txt.shape[1], 100))(lstm1_1b)\n",
        "conv1 = Conv2D(100, (3,3), padding='same',activation=\"relu\")(res)\n",
        "pool1 = MaxPooling2D(pool_size=(2,2))(conv1)\n",
        "flat1 = Flatten()(pool1)\n",
        "\n",
        "input2 = Input(shape=(max_words_key,))\n",
        "embedding_layer2 = Embedding(top_word, embedding_dim, weights=[embedding_matrix], input_length=max_words_key, trainable=False)(input2)\n",
        "lstm2_1 = Bidirectional(LSTM(100, return_sequences=True,dropout = 0.2))(embedding_layer2)\n",
        "lstm2_1a = Bidirectional(LSTM(100, return_sequences=True,dropout = 0.2))(lstm2_1)\n",
        "lstm2_1b = Bidirectional(LSTM(100, return_sequences=True,dropout = 0.2))(lstm2_1a)\n",
        "res2 = Reshape((-1, x_train_key.shape[1], 100))(lstm2_1b)\n",
        "conv2 = Conv2D(100, (3,3), padding='same',activation=\"relu\")(res2)\n",
        "pool2 = MaxPooling2D(pool_size=(2,2))(conv2)\n",
        "flat2 = Flatten()(pool2)\n",
        "\n",
        "input3 = Input(shape=(max_words_loc,))\n",
        "embedding_layer3 = Embedding(top_word, embedding_dim, weights=[embedding_matrix], input_length=max_words_loc, trainable=False)(input3)\n",
        "lstm3_1 = Bidirectional(LSTM(100, return_sequences=True,dropout = 0.2))(embedding_layer3)\n",
        "lstm3_1a = Bidirectional(LSTM(100, return_sequences=True,dropout = 0.2))(lstm3_1)\n",
        "lstm3_1b = Bidirectional(LSTM(100, return_sequences=True,dropout = 0.2))(lstm3_1a)\n",
        "res3 = Reshape((-1, x_train_loc.shape[1], 100))(lstm3_1b)\n",
        "conv3 = Conv2D(100, (3,3), padding='same',activation=\"relu\")(res3)\n",
        "pool3 = MaxPooling2D(pool_size=(2,2))(conv3)\n",
        "flat3 = Flatten()(pool3)\n",
        "\n",
        "merge = concatenate([flat1, flat2, flat3])\n",
        "\n",
        "dropout = Dropout(0.4)(merge)\n",
        "dense1 = Dense(256, activation='relu')(dropout)\n",
        "dense2 = Dense(128, activation='relu')(dense1)\n",
        "output = Dense(2, activation='softmax')(dense2)\n",
        "model2 = Model(inputs=[input1,input2,input3], outputs=output)\n",
        "model2.summary()"
      ],
      "execution_count": null,
      "outputs": [
        {
          "output_type": "stream",
          "text": [
            "Model: \"model_4\"\n",
            "__________________________________________________________________________________________________\n",
            "Layer (type)                    Output Shape         Param #     Connected to                     \n",
            "==================================================================================================\n",
            "input_12 (InputLayer)           (None, 25)           0                                            \n",
            "__________________________________________________________________________________________________\n",
            "input_13 (InputLayer)           (None, 4)            0                                            \n",
            "__________________________________________________________________________________________________\n",
            "input_14 (InputLayer)           (None, 8)            0                                            \n",
            "__________________________________________________________________________________________________\n",
            "embedding_11 (Embedding)        (None, 25, 200)      7000000     input_12[0][0]                   \n",
            "__________________________________________________________________________________________________\n",
            "embedding_12 (Embedding)        (None, 4, 200)       7000000     input_13[0][0]                   \n",
            "__________________________________________________________________________________________________\n",
            "embedding_13 (Embedding)        (None, 8, 200)       7000000     input_14[0][0]                   \n",
            "__________________________________________________________________________________________________\n",
            "bidirectional_4 (Bidirectional) (None, 25, 200)      240800      embedding_11[0][0]               \n",
            "__________________________________________________________________________________________________\n",
            "bidirectional_7 (Bidirectional) (None, 4, 200)       240800      embedding_12[0][0]               \n",
            "__________________________________________________________________________________________________\n",
            "bidirectional_10 (Bidirectional (None, 8, 200)       240800      embedding_13[0][0]               \n",
            "__________________________________________________________________________________________________\n",
            "bidirectional_5 (Bidirectional) (None, 25, 200)      240800      bidirectional_4[0][0]            \n",
            "__________________________________________________________________________________________________\n",
            "bidirectional_8 (Bidirectional) (None, 4, 200)       240800      bidirectional_7[0][0]            \n",
            "__________________________________________________________________________________________________\n",
            "bidirectional_11 (Bidirectional (None, 8, 200)       240800      bidirectional_10[0][0]           \n",
            "__________________________________________________________________________________________________\n",
            "bidirectional_6 (Bidirectional) (None, 25, 200)      240800      bidirectional_5[0][0]            \n",
            "__________________________________________________________________________________________________\n",
            "bidirectional_9 (Bidirectional) (None, 4, 200)       240800      bidirectional_8[0][0]            \n",
            "__________________________________________________________________________________________________\n",
            "bidirectional_12 (Bidirectional (None, 8, 200)       240800      bidirectional_11[0][0]           \n",
            "__________________________________________________________________________________________________\n",
            "reshape_1 (Reshape)             (None, 2, 25, 100)   0           bidirectional_6[0][0]            \n",
            "__________________________________________________________________________________________________\n",
            "reshape_2 (Reshape)             (None, 2, 4, 100)    0           bidirectional_9[0][0]            \n",
            "__________________________________________________________________________________________________\n",
            "reshape_3 (Reshape)             (None, 2, 8, 100)    0           bidirectional_12[0][0]           \n",
            "__________________________________________________________________________________________________\n",
            "conv2d_1 (Conv2D)               (None, 2, 25, 100)   90100       reshape_1[0][0]                  \n",
            "__________________________________________________________________________________________________\n",
            "conv2d_2 (Conv2D)               (None, 2, 4, 100)    90100       reshape_2[0][0]                  \n",
            "__________________________________________________________________________________________________\n",
            "conv2d_3 (Conv2D)               (None, 2, 8, 100)    90100       reshape_3[0][0]                  \n",
            "__________________________________________________________________________________________________\n",
            "max_pooling2d_1 (MaxPooling2D)  (None, 1, 12, 100)   0           conv2d_1[0][0]                   \n",
            "__________________________________________________________________________________________________\n",
            "max_pooling2d_2 (MaxPooling2D)  (None, 1, 2, 100)    0           conv2d_2[0][0]                   \n",
            "__________________________________________________________________________________________________\n",
            "max_pooling2d_3 (MaxPooling2D)  (None, 1, 4, 100)    0           conv2d_3[0][0]                   \n",
            "__________________________________________________________________________________________________\n",
            "flatten_1 (Flatten)             (None, 1200)         0           max_pooling2d_1[0][0]            \n",
            "__________________________________________________________________________________________________\n",
            "flatten_2 (Flatten)             (None, 200)          0           max_pooling2d_2[0][0]            \n",
            "__________________________________________________________________________________________________\n",
            "flatten_3 (Flatten)             (None, 400)          0           max_pooling2d_3[0][0]            \n",
            "__________________________________________________________________________________________________\n",
            "concatenate_4 (Concatenate)     (None, 1800)         0           flatten_1[0][0]                  \n",
            "                                                                 flatten_2[0][0]                  \n",
            "                                                                 flatten_3[0][0]                  \n",
            "__________________________________________________________________________________________________\n",
            "dropout_13 (Dropout)            (None, 1800)         0           concatenate_4[0][0]              \n",
            "__________________________________________________________________________________________________\n",
            "dense_10 (Dense)                (None, 256)          461056      dropout_13[0][0]                 \n",
            "__________________________________________________________________________________________________\n",
            "dense_11 (Dense)                (None, 128)          32896       dense_10[0][0]                   \n",
            "__________________________________________________________________________________________________\n",
            "dense_12 (Dense)                (None, 2)            258         dense_11[0][0]                   \n",
            "==================================================================================================\n",
            "Total params: 23,931,710\n",
            "Trainable params: 2,931,710\n",
            "Non-trainable params: 21,000,000\n",
            "__________________________________________________________________________________________________\n"
          ],
          "name": "stdout"
        }
      ]
    },
    {
      "cell_type": "code",
      "metadata": {
        "id": "Hz7SAlWxzN87",
        "colab_type": "code",
        "colab": {}
      },
      "source": [
        "optimizer2 = Adam(lr = .0001, beta_1 = .9, beta_2 = .999, epsilon = 1e-10, decay = .0, amsgrad = False)"
      ],
      "execution_count": null,
      "outputs": []
    },
    {
      "cell_type": "code",
      "metadata": {
        "id": "wn2rEWqSzliO",
        "colab_type": "code",
        "colab": {}
      },
      "source": [
        "model2.compile(loss=\"binary_crossentropy\", optimizer=optimizer2,\n",
        "              metrics=[\"accuracy\"])"
      ],
      "execution_count": null,
      "outputs": []
    },
    {
      "cell_type": "code",
      "metadata": {
        "id": "xF_xXi5Jzn4J",
        "colab_type": "code",
        "colab": {
          "base_uri": "https://localhost:8080/",
          "height": 176
        },
        "outputId": "ed488d83-d90a-490a-da7a-c150357a3587"
      },
      "source": [
        "from keras.callbacks import EarlyStopping, ReduceLROnPlateau\n",
        "es = EarlyStopping(monitor='val_loss', mode='min',verbose=1, patience = 4)\n",
        "learning_rate_reduction = ReduceLROnPlateau(monitor = 'val_accuracy', patience = 2, verbose = 1, \n",
        "                                           factor = 0.5, min_lr = 1e-8, cooldown=1)\n",
        "\n",
        "prueba2 = model2.fit([x_train_txt,x_train_key,x_train_loc], y_train, validation_split=0.2, epochs=3, batch_size=16, verbose=2, callbacks=[es, learning_rate_reduction])"
      ],
      "execution_count": null,
      "outputs": [
        {
          "output_type": "stream",
          "text": [
            "Train on 5503 samples, validate on 1376 samples\n",
            "Epoch 1/3\n",
            " - 91s - loss: 0.3935 - accuracy: 0.8305 - val_loss: 0.4571 - val_accuracy: 0.8045\n",
            "Epoch 2/3\n",
            " - 92s - loss: 0.3895 - accuracy: 0.8357 - val_loss: 0.4533 - val_accuracy: 0.8001\n",
            "Epoch 3/3\n",
            " - 91s - loss: 0.3838 - accuracy: 0.8359 - val_loss: 0.4560 - val_accuracy: 0.7972\n",
            "\n",
            "Epoch 00003: ReduceLROnPlateau reducing learning rate to 1.249999968422344e-05.\n"
          ],
          "name": "stdout"
        }
      ]
    },
    {
      "cell_type": "code",
      "metadata": {
        "id": "UzLxQsv00Wo1",
        "colab_type": "code",
        "colab": {
          "base_uri": "https://localhost:8080/",
          "height": 573
        },
        "outputId": "c9374200-d420-44f5-8d5e-598841d47514"
      },
      "source": [
        "result_eva(prueba2.history['loss'], prueba2.history['val_loss'], prueba2.history['accuracy'], prueba2.history['val_accuracy'])"
      ],
      "execution_count": null,
      "outputs": [
        {
          "output_type": "display_data",
          "data": {
            "image/png": "[encoded data removed]",
            "text/plain": [
              "<Figure size 432x288 with 1 Axes>"
            ]
          },
          "metadata": {
            "tags": [],
            "needs_background": "light"
          }
        },
        {
          "output_type": "display_data",
          "data": {
            "image/png": "[encoded data removed]",
            "text/plain": [
              "<Figure size 432x288 with 1 Axes>"
            ]
          },
          "metadata": {
            "tags": [],
            "needs_background": "light"
          }
        }
      ]
    },
    {
      "cell_type": "code",
      "metadata": {
        "id": "CITB_YwL2DyF",
        "colab_type": "code",
        "colab": {}
      },
      "source": [
        "#Predicting test data\n",
        "\n",
        "y_pred = model2.predict([x_test_txt,x_test_key,x_test_loc], batch_size=16, verbose=2)"
      ],
      "execution_count": null,
      "outputs": []
    },
    {
      "cell_type": "code",
      "metadata": {
        "id": "G90dzdjw2UK2",
        "colab_type": "code",
        "colab": {}
      },
      "source": [
        "y_pred = np.argmax(y_pred,axis=1)"
      ],
      "execution_count": null,
      "outputs": []
    },
    {
      "cell_type": "code",
      "metadata": {
        "id": "iQ42xFNb2VK2",
        "colab_type": "code",
        "colab": {}
      },
      "source": [
        "df = pd.DataFrame()\n",
        "df['id'] = [int(x) for x in id_test.values]\n",
        "df['target'] = y_pred\n",
        "df.to_csv('23.submit.csv', index=False)"
      ],
      "execution_count": null,
      "outputs": []
    },
    {
      "cell_type": "code",
      "metadata": {
        "id": "HN8xADOiv81z",
        "colab_type": "code",
        "colab": {
          "base_uri": "https://localhost:8080/",
          "height": 16
        },
        "outputId": "f059c359-342e-47ca-9506-bd36c9128347"
      },
      "source": [
        "from google.colab import files\n",
        "files.download('23.submit.csv')"
      ],
      "execution_count": null,
      "outputs": [
        {
          "output_type": "display_data",
          "data": {
            "application/javascript": [
              "\n",
              "    async function download(id, filename, size) {\n",
              "      if (!google.colab.kernel.accessAllowed) {\n",
              "        return;\n",
              "      }\n",
              "      const div = document.createElement('div');\n",
              "      const label = document.createElement('label');\n",
              "      label.textContent = `Downloading \"${filename}\": `;\n",
              "      div.appendChild(label);\n",
              "      const progress = document.createElement('progress');\n",
              "      progress.max = size;\n",
              "      div.appendChild(progress);\n",
              "      document.body.appendChild(div);\n",
              "\n",
              "      const buffers = [];\n",
              "      let downloaded = 0;\n",
              "\n",
              "      const channel = await google.colab.kernel.comms.open(id);\n",
              "      // Send a message to notify the kernel that we're ready.\n",
              "      channel.send({})\n",
              "\n",
              "      for await (const message of channel.messages) {\n",
              "        // Send a message to notify the kernel that we're ready.\n",
              "        channel.send({})\n",
              "        if (message.buffers) {\n",
              "          for (const buffer of message.buffers) {\n",
              "            buffers.push(buffer);\n",
              "            downloaded += buffer.byteLength;\n",
              "            progress.value = downloaded;\n",
              "          }\n",
              "        }\n",
              "      }\n",
              "      const blob = new Blob(buffers, {type: 'application/binary'});\n",
              "      const a = document.createElement('a');\n",
              "      a.href = window.URL.createObjectURL(blob);\n",
              "      a.download = filename;\n",
              "      div.appendChild(a);\n",
              "      a.click();\n",
              "      div.remove();\n",
              "    }\n",
              "  "
            ],
            "text/plain": [
              "<IPython.core.display.Javascript object>"
            ]
          },
          "metadata": {
            "tags": []
          }
        },
        {
          "output_type": "display_data",
          "data": {
            "application/javascript": [
              "download(\"download_7ecb3f70-d0b5-4981-b27d-304378c21793\", \"23.submit.csv\", 22746)"
            ],
            "text/plain": [
              "<IPython.core.display.Javascript object>"
            ]
          },
          "metadata": {
            "tags": []
          }
        }
      ]
    }
  ]
}