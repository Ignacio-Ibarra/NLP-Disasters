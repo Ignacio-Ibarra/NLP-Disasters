{
  "nbformat": 4,
  "nbformat_minor": 0,
  "metadata": {
    "colab": {
      "name": "V2 - LSTM over text_cleaned with Data Augmentation.ipynb",
      "provenance": [],
      "collapsed_sections": [],
      "authorship_tag": "ABX9TyPV11u1p0W4IONTx+nwbMWf",
      "include_colab_link": true
    },
    "kernelspec": {
      "name": "python3",
      "display_name": "Python 3"
    }
  },
  "cells": [
    {
      "cell_type": "markdown",
      "metadata": {
        "id": "view-in-github",
        "colab_type": "text"
      },
      "source": [
        "<a href=\"https://colab.research.google.com/github/Ignacio-Ibarra/NLP-Disasters/blob/master/VERSION%20FINAL/TP%202/Modelos/LSTM/Using%20Data%20Augmentation/LSTM_Data_Augmentation_synonym_replacement.ipynb\" target=\"_parent\"><img src=\"https://colab.research.google.com/assets/colab-badge.svg\" alt=\"Open In Colab\"/></a>"
      ]
    },
    {
      "cell_type": "markdown",
      "metadata": {
        "id": "KgRLlP2Np0Wv",
        "colab_type": "text"
      },
      "source": [
        "We're going to implement a data augmentation via random synonyms replacement of any word in each sentence. "
      ]
    },
    {
      "cell_type": "markdown",
      "metadata": {
        "id": "fg9rYtXU6jFF",
        "colab_type": "text"
      },
      "source": [
        "# Libraries"
      ]
    },
    {
      "cell_type": "code",
      "metadata": {
        "id": "ZmfYhcuPgmvn",
        "colab_type": "code",
        "colab": {}
      },
      "source": [
        "from keras.preprocessing.text import Tokenizer\n",
        "from keras.preprocessing.sequence import pad_sequences\n",
        "from keras.preprocessing import sequence\n",
        "import pandas as pd\n",
        "import numpy as np\n",
        "import matplotlib.pyplot as plt\n",
        "%matplotlib inline"
      ],
      "execution_count": null,
      "outputs": []
    },
    {
      "cell_type": "markdown",
      "metadata": {
        "id": "yTgjv7q4k4JS",
        "colab_type": "text"
      },
      "source": [
        "# Reading CSV files"
      ]
    },
    {
      "cell_type": "code",
      "metadata": {
        "id": "nS76xTlGgijN",
        "colab_type": "code",
        "colab": {}
      },
      "source": [
        "x_train = pd.read_csv(r'https://raw.githubusercontent.com/Ignacio-Ibarra/NLP-Disasters/intento_4/intento_4/csv/x_train_cleaned.csv', \n",
        "                    usecols = ['text_cleaned','location_cleaned','keyword_cleaned'])\n",
        "x_test = pd.read_csv(r'https://raw.githubusercontent.com/Ignacio-Ibarra/NLP-Disasters/intento_4/intento_4/csv/x_test_cleaned.csv',\n",
        "                    usecols = ['text_cleaned','location_cleaned','keyword_cleaned'])\n",
        "id_test = pd.read_csv(r'https://raw.githubusercontent.com/Ignacio-Ibarra/NLP-Disasters/intento_4/intento_4/csv/x_test_cleaned.csv',\n",
        "                    usecols = ['id'])\n",
        "y_train = pd.read_csv(r'https://raw.githubusercontent.com/Ignacio-Ibarra/NLP-Disasters/intento_4/intento_4/csv/y_train_cleaned.csv')"
      ],
      "execution_count": null,
      "outputs": []
    },
    {
      "cell_type": "code",
      "metadata": {
        "id": "Sflp5rdVhWom",
        "colab_type": "code",
        "colab": {
          "base_uri": "https://localhost:8080/",
          "height": 34
        },
        "outputId": "c799bf3e-f8ca-457d-fded-f5660d4d77e1"
      },
      "source": [
        "len(x_train) "
      ],
      "execution_count": null,
      "outputs": [
        {
          "output_type": "execute_result",
          "data": {
            "text/plain": [
              "6879"
            ]
          },
          "metadata": {
            "tags": []
          },
          "execution_count": 3
        }
      ]
    },
    {
      "cell_type": "code",
      "metadata": {
        "id": "MJSl2nZZ4fIh",
        "colab_type": "code",
        "colab": {}
      },
      "source": [
        "x_train['text_cleaned'] = x_train['text_cleaned'].apply(lambda x: \" \".join([str(i) for i in str(x).split()]))\n",
        "x_train['keyword_cleaned'] = x_train['keyword_cleaned'].apply(lambda x: \" \".join([str(i) for i in str(x).split()]))\n",
        "x_train['location_cleaned'] = x_train['location_cleaned'].apply(lambda x: \" \".join([str(i) for i in str(x).split()]))\n",
        "\n",
        "x_test['text_cleaned'] = x_test['text_cleaned'].apply(lambda x: \" \".join([str(i) for i in str(x).split()]))\n",
        "x_test['keyword_cleaned'] = x_test['keyword_cleaned'].apply(lambda x: \" \".join([str(i) for i in str(x).split()]))\n",
        "x_test['location_cleaned'] = x_test['location_cleaned'].apply(lambda x: \" \".join([str(i) for i in str(x).split()]))"
      ],
      "execution_count": null,
      "outputs": []
    },
    {
      "cell_type": "markdown",
      "metadata": {
        "id": "QioWonKF0gky",
        "colab_type": "text"
      },
      "source": [
        "# Data Augmentation"
      ]
    },
    {
      "cell_type": "code",
      "metadata": {
        "id": "29PRzgcU0kfW",
        "colab_type": "code",
        "colab": {
          "base_uri": "https://localhost:8080/",
          "height": 87
        },
        "outputId": "378c1940-adde-47bc-b9c4-5e5f22d7d1de"
      },
      "source": [
        "import nltk\n",
        "from nltk.corpus import wordnet as wn\n",
        "from nltk.corpus import stopwords\n",
        "nltk.download('wordnet')\n",
        "nltk.download('stopwords')\n",
        "import random"
      ],
      "execution_count": null,
      "outputs": [
        {
          "output_type": "stream",
          "text": [
            "[nltk_data] Downloading package wordnet to /root/nltk_data...\n",
            "[nltk_data]   Unzipping corpora/wordnet.zip.\n",
            "[nltk_data] Downloading package stopwords to /root/nltk_data...\n",
            "[nltk_data]   Unzipping corpora/stopwords.zip.\n"
          ],
          "name": "stdout"
        }
      ]
    },
    {
      "cell_type": "markdown",
      "metadata": {
        "id": "a_P2cfOO2uxl",
        "colab_type": "text"
      },
      "source": [
        "We will get another sentence for every sentence we have. "
      ]
    },
    {
      "cell_type": "markdown",
      "metadata": {
        "id": "WDZUjALZGcB_",
        "colab_type": "text"
      },
      "source": [
        "Uy funciona muuuy mal"
      ]
    },
    {
      "cell_type": "markdown",
      "metadata": {
        "id": "Kl9zD9Pn3Je2",
        "colab_type": "text"
      },
      "source": [
        "## Using pre-trained vectors to obtain similarity"
      ]
    },
    {
      "cell_type": "code",
      "metadata": {
        "id": "kxvzOb9tR3Ys",
        "colab_type": "code",
        "colab": {
          "base_uri": "https://localhost:8080/",
          "height": 212
        },
        "outputId": "3fcfe1ec-19ee-43b4-997c-ee4ea8d0a652"
      },
      "source": [
        "import numpy as np\n",
        "\n",
        "!wget -P /root/input/ -c \"https://s3.amazonaws.com/dl4j-distribution/GoogleNews-vectors-negative300.bin.gz\""
      ],
      "execution_count": null,
      "outputs": [
        {
          "output_type": "stream",
          "text": [
            "--2020-08-02 23:26:06--  https://s3.amazonaws.com/dl4j-distribution/GoogleNews-vectors-negative300.bin.gz\n",
            "Resolving s3.amazonaws.com (s3.amazonaws.com)... 52.217.47.166\n",
            "Connecting to s3.amazonaws.com (s3.amazonaws.com)|52.217.47.166|:443... connected.\n",
            "HTTP request sent, awaiting response... 200 OK\n",
            "Length: 1647046227 (1.5G) [application/x-gzip]\n",
            "Saving to: ‘/root/input/GoogleNews-vectors-negative300.bin.gz’\n",
            "\n",
            "GoogleNews-vectors- 100%[===================>]   1.53G  16.6MB/s    in 97s     \n",
            "\n",
            "2020-08-02 23:27:44 (16.2 MB/s) - ‘/root/input/GoogleNews-vectors-negative300.bin.gz’ saved [1647046227/1647046227]\n",
            "\n"
          ],
          "name": "stdout"
        }
      ]
    },
    {
      "cell_type": "code",
      "metadata": {
        "id": "tHbHuM-5R_19",
        "colab_type": "code",
        "colab": {
          "base_uri": "https://localhost:8080/",
          "height": 338
        },
        "outputId": "a64d9cf4-0733-44e2-caa5-527805a387b5"
      },
      "source": [
        "!pip install gensim\n",
        "from gensim.models import KeyedVectors"
      ],
      "execution_count": null,
      "outputs": [
        {
          "output_type": "stream",
          "text": [
            "Requirement already satisfied: gensim in /usr/local/lib/python3.6/dist-packages (3.6.0)\n",
            "Requirement already satisfied: six>=1.5.0 in /usr/local/lib/python3.6/dist-packages (from gensim) (1.15.0)\n",
            "Requirement already satisfied: smart-open>=1.2.1 in /usr/local/lib/python3.6/dist-packages (from gensim) (2.1.0)\n",
            "Requirement already satisfied: scipy>=0.18.1 in /usr/local/lib/python3.6/dist-packages (from gensim) (1.4.1)\n",
            "Requirement already satisfied: numpy>=1.11.3 in /usr/local/lib/python3.6/dist-packages (from gensim) (1.18.5)\n",
            "Requirement already satisfied: requests in /usr/local/lib/python3.6/dist-packages (from smart-open>=1.2.1->gensim) (2.23.0)\n",
            "Requirement already satisfied: boto in /usr/local/lib/python3.6/dist-packages (from smart-open>=1.2.1->gensim) (2.49.0)\n",
            "Requirement already satisfied: boto3 in /usr/local/lib/python3.6/dist-packages (from smart-open>=1.2.1->gensim) (1.14.30)\n",
            "Requirement already satisfied: chardet<4,>=3.0.2 in /usr/local/lib/python3.6/dist-packages (from requests->smart-open>=1.2.1->gensim) (3.0.4)\n",
            "Requirement already satisfied: idna<3,>=2.5 in /usr/local/lib/python3.6/dist-packages (from requests->smart-open>=1.2.1->gensim) (2.10)\n",
            "Requirement already satisfied: certifi>=2017.4.17 in /usr/local/lib/python3.6/dist-packages (from requests->smart-open>=1.2.1->gensim) (2020.6.20)\n",
            "Requirement already satisfied: urllib3!=1.25.0,!=1.25.1,<1.26,>=1.21.1 in /usr/local/lib/python3.6/dist-packages (from requests->smart-open>=1.2.1->gensim) (1.24.3)\n",
            "Requirement already satisfied: jmespath<1.0.0,>=0.7.1 in /usr/local/lib/python3.6/dist-packages (from boto3->smart-open>=1.2.1->gensim) (0.10.0)\n",
            "Requirement already satisfied: botocore<1.18.0,>=1.17.30 in /usr/local/lib/python3.6/dist-packages (from boto3->smart-open>=1.2.1->gensim) (1.17.30)\n",
            "Requirement already satisfied: s3transfer<0.4.0,>=0.3.0 in /usr/local/lib/python3.6/dist-packages (from boto3->smart-open>=1.2.1->gensim) (0.3.3)\n",
            "Requirement already satisfied: python-dateutil<3.0.0,>=2.1 in /usr/local/lib/python3.6/dist-packages (from botocore<1.18.0,>=1.17.30->boto3->smart-open>=1.2.1->gensim) (2.8.1)\n",
            "Requirement already satisfied: docutils<0.16,>=0.10 in /usr/local/lib/python3.6/dist-packages (from botocore<1.18.0,>=1.17.30->boto3->smart-open>=1.2.1->gensim) (0.15.2)\n"
          ],
          "name": "stdout"
        }
      ]
    },
    {
      "cell_type": "code",
      "metadata": {
        "id": "KzCMgubzSAih",
        "colab_type": "code",
        "colab": {
          "base_uri": "https://localhost:8080/",
          "height": 72
        },
        "outputId": "dedb74eb-23e7-43db-d1b9-195a814e056c"
      },
      "source": [
        "EMBEDDING_FILE = '/root/input/GoogleNews-vectors-negative300.bin.gz' # from above\n",
        "word2vec = KeyedVectors.load_word2vec_format(EMBEDDING_FILE, binary=True)"
      ],
      "execution_count": null,
      "outputs": [
        {
          "output_type": "stream",
          "text": [
            "/usr/local/lib/python3.6/dist-packages/smart_open/smart_open_lib.py:254: UserWarning: This function is deprecated, use smart_open.open instead. See the migration notes for details: https://github.com/RaRe-Technologies/smart_open/blob/master/README.rst#migrating-to-the-new-open-function\n",
            "  'See the migration notes for details: %s' % _MIGRATION_NOTES_URL\n"
          ],
          "name": "stderr"
        }
      ]
    },
    {
      "cell_type": "code",
      "metadata": {
        "id": "D7fSi5Bz1Gp-",
        "colab_type": "code",
        "colab": {}
      },
      "source": [
        "wn_lemma = set(wn.all_lemma_names())\n",
        "w2vocab = set(word2vec.vocab)\n",
        "def get_synonyms2(word,number_syns): \n",
        "  output = []\n",
        "  if word in w2vocab: \n",
        "    syn_list =  [syn for syn,similarity in word2vec.most_similar(word)]\n",
        "    output_lenght = 0\n",
        "    for i in range(len(syn_list)): \n",
        "      if syn_list[i] in wn_lemma:\n",
        "        output.append(syn_list[i])\n",
        "        output_lenght += 1\n",
        "      if output_lenght >= number_syns:\n",
        "        break\n",
        "  return output\n",
        "\n",
        "\n",
        "def synonym_replacement2(words,number_syns, number_replacements):\n",
        "    \n",
        "    \n",
        "      words = words.split()\n",
        "      \n",
        "      new_words = words.copy()\n",
        "      random_word_list = list(set([word for word in words if word not in stopwords.words('english')]))\n",
        "      \n",
        "      random.shuffle(random_word_list)\n",
        "      \n",
        "      num_replaced = 0\n",
        "      \n",
        "      for random_word in random_word_list:\n",
        "          if num_replaced >= number_replacements:\n",
        "            break\n",
        "          \n",
        "          if get_synonyms2(random_word, number_syns) != []:\n",
        "                        \n",
        "            synonym = random.choice(get_synonyms2(random_word, number_syns))\n",
        "            synonym = re.sub('_',' ',synonym)\n",
        "            synonym = re.sub('[@#!:?]','',synonym)\n",
        "            new_words = [synonym.lower() if word == random_word else word for word in new_words]\n",
        "            num_replaced += 1\n",
        "            \n",
        "      sentence = ' '.join(new_words)\n",
        "\n",
        "      return sentence"
      ],
      "execution_count": null,
      "outputs": []
    },
    {
      "cell_type": "code",
      "metadata": {
        "id": "cWEI2nMDfP6c",
        "colab_type": "code",
        "colab": {
          "base_uri": "https://localhost:8080/",
          "height": 72
        },
        "outputId": "491dc43d-ea05-4738-d4e0-de3bee40fbae"
      },
      "source": [
        "import re\n",
        "x_train['fake_text'] = x_train['text_cleaned'].apply(lambda x: synonym_replacement2(x,4,2))"
      ],
      "execution_count": null,
      "outputs": [
        {
          "output_type": "stream",
          "text": [
            "/usr/local/lib/python3.6/dist-packages/gensim/matutils.py:737: FutureWarning: Conversion of the second argument of issubdtype from `int` to `np.signedinteger` is deprecated. In future, it will be treated as `np.int64 == np.dtype(int).type`.\n",
            "  if np.issubdtype(vec.dtype, np.int):\n"
          ],
          "name": "stderr"
        }
      ]
    },
    {
      "cell_type": "code",
      "metadata": {
        "id": "UUdmrKRRblD-",
        "colab_type": "code",
        "colab": {}
      },
      "source": [
        "text = x_train.text_cleaned.append(x_train.fake_text,ignore_index=True)"
      ],
      "execution_count": null,
      "outputs": []
    },
    {
      "cell_type": "code",
      "metadata": {
        "id": "HbNVCWmdZojY",
        "colab_type": "code",
        "colab": {}
      },
      "source": [
        "targets = y_train.target.append(y_train.target,ignore_index=True)"
      ],
      "execution_count": null,
      "outputs": []
    },
    {
      "cell_type": "code",
      "metadata": {
        "id": "-zhKMvaDkIpr",
        "colab_type": "code",
        "colab": {
          "base_uri": "https://localhost:8080/",
          "height": 16
        },
        "outputId": "ac91bed9-9658-4be2-e5fd-6202caaa0597"
      },
      "source": [
        "from google.colab import files\n",
        "\n",
        "x_train.to_csv('xtrain_with_fake_txt.csv',index=False)\n",
        "files.download('xtrain_with_fake_txt.csv')"
      ],
      "execution_count": null,
      "outputs": [
        {
          "output_type": "display_data",
          "data": {
            "application/javascript": [
              "\n",
              "    async function download(id, filename, size) {\n",
              "      if (!google.colab.kernel.accessAllowed) {\n",
              "        return;\n",
              "      }\n",
              "      const div = document.createElement('div');\n",
              "      const label = document.createElement('label');\n",
              "      label.textContent = `Downloading \"${filename}\": `;\n",
              "      div.appendChild(label);\n",
              "      const progress = document.createElement('progress');\n",
              "      progress.max = size;\n",
              "      div.appendChild(progress);\n",
              "      document.body.appendChild(div);\n",
              "\n",
              "      const buffers = [];\n",
              "      let downloaded = 0;\n",
              "\n",
              "      const channel = await google.colab.kernel.comms.open(id);\n",
              "      // Send a message to notify the kernel that we're ready.\n",
              "      channel.send({})\n",
              "\n",
              "      for await (const message of channel.messages) {\n",
              "        // Send a message to notify the kernel that we're ready.\n",
              "        channel.send({})\n",
              "        if (message.buffers) {\n",
              "          for (const buffer of message.buffers) {\n",
              "            buffers.push(buffer);\n",
              "            downloaded += buffer.byteLength;\n",
              "            progress.value = downloaded;\n",
              "          }\n",
              "        }\n",
              "      }\n",
              "      const blob = new Blob(buffers, {type: 'application/binary'});\n",
              "      const a = document.createElement('a');\n",
              "      a.href = window.URL.createObjectURL(blob);\n",
              "      a.download = filename;\n",
              "      div.appendChild(a);\n",
              "      a.click();\n",
              "      div.remove();\n",
              "    }\n",
              "  "
            ],
            "text/plain": [
              "<IPython.core.display.Javascript object>"
            ]
          },
          "metadata": {
            "tags": []
          }
        },
        {
          "output_type": "display_data",
          "data": {
            "application/javascript": [
              "download(\"download_f9673422-7e2c-45c8-8f9a-b4ac3fe5da11\", \"xtrain_with_fake_txt.csv\", 1048117)"
            ],
            "text/plain": [
              "<IPython.core.display.Javascript object>"
            ]
          },
          "metadata": {
            "tags": []
          }
        }
      ]
    },
    {
      "cell_type": "markdown",
      "metadata": {
        "id": "iSP2aGvjegfr",
        "colab_type": "text"
      },
      "source": [
        "# Loading dataset if runtime disconect"
      ]
    },
    {
      "cell_type": "code",
      "metadata": {
        "id": "A6PWpEe1enGe",
        "colab_type": "code",
        "colab": {}
      },
      "source": [
        "x_train = pd.read_csv('xtrain_with_fake_txt.csv')\n",
        "x_test = pd.read_csv(r'https://raw.githubusercontent.com/Ignacio-Ibarra/NLP-Disasters/intento_4/intento_4/csv/x_test_cleaned.csv',\n",
        "                    usecols = ['text_cleaned','location_cleaned','keyword_cleaned'])\n",
        "id_test = pd.read_csv(r'https://raw.githubusercontent.com/Ignacio-Ibarra/NLP-Disasters/intento_4/intento_4/csv/x_test_cleaned.csv',\n",
        "                    usecols = ['id'])\n",
        "y_train = pd.read_csv(r'https://raw.githubusercontent.com/Ignacio-Ibarra/NLP-Disasters/intento_4/intento_4/csv/y_train_cleaned.csv')\n",
        "\n"
      ],
      "execution_count": null,
      "outputs": []
    },
    {
      "cell_type": "markdown",
      "metadata": {
        "id": "NiWrqWjIk_rK",
        "colab_type": "text"
      },
      "source": [
        "# Tokenizer"
      ]
    },
    {
      "cell_type": "code",
      "metadata": {
        "id": "5OszUwSYtNWZ",
        "colab_type": "code",
        "colab": {
          "base_uri": "https://localhost:8080/",
          "height": 143
        },
        "outputId": "ab43d4c7-4b07-455f-99ec-2964c4b85ec4"
      },
      "source": [
        "pd.set_option('max_colwidth', 200)\n",
        "(x_train['text_cleaned'] + (' ') + x_train['keyword_cleaned'] + (' ') + x_train['location_cleaned']).head()"
      ],
      "execution_count": null,
      "outputs": [
        {
          "output_type": "execute_result",
          "data": {
            "text/plain": [
              "0                                                                                            deeds reason earthquake may allah forgive us keyword location deed excuse earthquake may allah forgive us\n",
              "1                                                                                                      forest fire near la range ask canada keyword location forest grassfire near le range ask canada\n",
              "2    residents asked shelter place notified officers evacuation shelter place orders expected keyword location residents asked shelter place informed officers evacuation shelter place order expected\n",
              "3                                                                 13000 people receive wildfire evacuation orders california keyword location 13000 people receive wildfire evacuation ordering nevada\n",
              "4                                                                got sent photo ruby alaska smoke wildfire pours school keyword location got sent photo peridot alaska smoke wildfire pours elementary\n",
              "dtype: object"
            ]
          },
          "metadata": {
            "tags": []
          },
          "execution_count": 30
        }
      ]
    },
    {
      "cell_type": "markdown",
      "metadata": {
        "id": "acLGHaLlzErC",
        "colab_type": "text"
      },
      "source": [
        "## Instantiating the Tokenizer"
      ]
    },
    {
      "cell_type": "code",
      "metadata": {
        "id": "OnF92Z8dztyS",
        "colab_type": "code",
        "colab": {}
      },
      "source": [
        "#Top word is the quantity of differents words that our word_index will have. \n",
        "top_word = 35000"
      ],
      "execution_count": null,
      "outputs": []
    },
    {
      "cell_type": "code",
      "metadata": {
        "id": "T9f3bgFxg7CD",
        "colab_type": "code",
        "colab": {}
      },
      "source": [
        "#Here we instantiate the tokenizer\n",
        "tokenizer = Tokenizer(num_words=top_word)\n",
        "\n",
        "#Here we make the fit we three features that are strings\n",
        "tokenizer.fit_on_texts(text)"
      ],
      "execution_count": null,
      "outputs": []
    },
    {
      "cell_type": "markdown",
      "metadata": {
        "id": "YhWZc6pCzzSa",
        "colab_type": "text"
      },
      "source": [
        "## Text to sequences of word_indexes"
      ]
    },
    {
      "cell_type": "markdown",
      "metadata": {
        "id": "WqXyZEemzVzs",
        "colab_type": "text"
      },
      "source": [
        "Converting the text into a sequence of integers, all of them are indexes of the tokenizer.word_index"
      ]
    },
    {
      "cell_type": "code",
      "metadata": {
        "id": "YI9rgZd6yOJW",
        "colab_type": "code",
        "colab": {}
      },
      "source": [
        "#Training set to sequence\n",
        "x_train_txt = tokenizer.texts_to_sequences(text)\n",
        "\n",
        "#Test set to sequence\n",
        "x_test_txt = tokenizer.texts_to_sequences(x_test['text_cleaned'].astype('str'))"
      ],
      "execution_count": null,
      "outputs": []
    },
    {
      "cell_type": "markdown",
      "metadata": {
        "id": "8XWho2Vi0cBl",
        "colab_type": "text"
      },
      "source": [
        "## Padding sequence"
      ]
    },
    {
      "cell_type": "markdown",
      "metadata": {
        "id": "d7y2yRFD0gNA",
        "colab_type": "text"
      },
      "source": [
        "We add zeros into each sequence unitl complete a maximum of lenght"
      ]
    },
    {
      "cell_type": "code",
      "metadata": {
        "id": "N0x1TpDY1Zlq",
        "colab_type": "code",
        "colab": {
          "base_uri": "https://localhost:8080/",
          "height": 52
        },
        "outputId": "5c432647-0359-42cb-ed14-fea6e43d4102"
      },
      "source": [
        "#MAXLEN for text, location and keyword\n",
        "max_words_txt = max([len(x) for x in x_train_txt]) + 1\n",
        "\n",
        "print(\"top_word: \", str(top_word))\n",
        "print(\"max_words_txt: \", str(max_words_txt))"
      ],
      "execution_count": null,
      "outputs": [
        {
          "output_type": "stream",
          "text": [
            "top_word:  35000\n",
            "max_words_txt:  25\n"
          ],
          "name": "stdout"
        }
      ]
    },
    {
      "cell_type": "code",
      "metadata": {
        "id": "ig1DpbgL3RKy",
        "colab_type": "code",
        "colab": {
          "base_uri": "https://localhost:8080/",
          "height": 34
        },
        "outputId": "b5c57089-b78d-4657-ea0e-72517d82a900"
      },
      "source": [
        "#Padding\n",
        "\n",
        "\n",
        "x_train_txt = sequence.pad_sequences(x_train_txt, maxlen=max_words_txt)\n",
        "\n",
        "x_test_txt = sequence.pad_sequences(x_test_txt, maxlen=max_words_txt)\n",
        "\n",
        "print(\"X_train_txt.shape: \", x_train_txt.shape)\n"
      ],
      "execution_count": null,
      "outputs": [
        {
          "output_type": "stream",
          "text": [
            "X_train_txt.shape:  (13758, 25)\n"
          ],
          "name": "stdout"
        }
      ]
    },
    {
      "cell_type": "markdown",
      "metadata": {
        "id": "EYSoOqDWlGwK",
        "colab_type": "text"
      },
      "source": [
        "# y_train to_categorical"
      ]
    },
    {
      "cell_type": "code",
      "metadata": {
        "id": "F42OTM5Yj-3F",
        "colab_type": "code",
        "colab": {
          "base_uri": "https://localhost:8080/",
          "height": 34
        },
        "outputId": "353c292a-0daa-421f-c78e-e1f6f671d599"
      },
      "source": [
        "# One-hot category\n",
        "from keras.utils import to_categorical\n",
        "targets = to_categorical(targets)\n",
        "print(\"y_train.shape: \", targets.shape)"
      ],
      "execution_count": null,
      "outputs": [
        {
          "output_type": "stream",
          "text": [
            "y_train.shape:  (13758, 2)\n"
          ],
          "name": "stdout"
        }
      ]
    },
    {
      "cell_type": "markdown",
      "metadata": {
        "id": "HeMD42LLhlTJ",
        "colab_type": "text"
      },
      "source": [
        "## Loading word embedding file\n",
        "\n",
        "---\n",
        "\n"
      ]
    },
    {
      "cell_type": "code",
      "metadata": {
        "id": "Vs7hSCnqZt7-",
        "colab_type": "code",
        "colab": {
          "base_uri": "https://localhost:8080/",
          "height": 285
        },
        "outputId": "10ae7141-8717-4120-cce1-0f3a3e6e67c0"
      },
      "source": [
        "#Installing PyDrive\n",
        "!pip install PyDrive"
      ],
      "execution_count": null,
      "outputs": [
        {
          "output_type": "stream",
          "text": [
            "Requirement already satisfied: PyDrive in /usr/local/lib/python3.6/dist-packages (1.3.1)\n",
            "Requirement already satisfied: PyYAML>=3.0 in /usr/local/lib/python3.6/dist-packages (from PyDrive) (3.13)\n",
            "Requirement already satisfied: oauth2client>=4.0.0 in /usr/local/lib/python3.6/dist-packages (from PyDrive) (4.1.3)\n",
            "Requirement already satisfied: google-api-python-client>=1.2 in /usr/local/lib/python3.6/dist-packages (from PyDrive) (1.7.12)\n",
            "Requirement already satisfied: httplib2>=0.9.1 in /usr/local/lib/python3.6/dist-packages (from oauth2client>=4.0.0->PyDrive) (0.17.4)\n",
            "Requirement already satisfied: six>=1.6.1 in /usr/local/lib/python3.6/dist-packages (from oauth2client>=4.0.0->PyDrive) (1.15.0)\n",
            "Requirement already satisfied: pyasn1-modules>=0.0.5 in /usr/local/lib/python3.6/dist-packages (from oauth2client>=4.0.0->PyDrive) (0.2.8)\n",
            "Requirement already satisfied: rsa>=3.1.4 in /usr/local/lib/python3.6/dist-packages (from oauth2client>=4.0.0->PyDrive) (4.6)\n",
            "Requirement already satisfied: pyasn1>=0.1.7 in /usr/local/lib/python3.6/dist-packages (from oauth2client>=4.0.0->PyDrive) (0.4.8)\n",
            "Requirement already satisfied: uritemplate<4dev,>=3.0.0 in /usr/local/lib/python3.6/dist-packages (from google-api-python-client>=1.2->PyDrive) (3.0.1)\n",
            "Requirement already satisfied: google-auth-httplib2>=0.0.3 in /usr/local/lib/python3.6/dist-packages (from google-api-python-client>=1.2->PyDrive) (0.0.4)\n",
            "Requirement already satisfied: google-auth>=1.4.1 in /usr/local/lib/python3.6/dist-packages (from google-api-python-client>=1.2->PyDrive) (1.17.2)\n",
            "Requirement already satisfied: setuptools>=40.3.0 in /usr/local/lib/python3.6/dist-packages (from google-auth>=1.4.1->google-api-python-client>=1.2->PyDrive) (49.2.0)\n",
            "Requirement already satisfied: cachetools<5.0,>=2.0.0 in /usr/local/lib/python3.6/dist-packages (from google-auth>=1.4.1->google-api-python-client>=1.2->PyDrive) (4.1.1)\n"
          ],
          "name": "stdout"
        }
      ]
    },
    {
      "cell_type": "code",
      "metadata": {
        "id": "eRclqajX71NJ",
        "colab_type": "code",
        "colab": {}
      },
      "source": [
        "#Importing modules\n",
        "from pydrive.auth import GoogleAuth\n",
        "from pydrive.drive import GoogleDrive\n",
        "from google.colab import auth\n",
        "from oauth2client.client import GoogleCredentials"
      ],
      "execution_count": null,
      "outputs": []
    },
    {
      "cell_type": "code",
      "metadata": {
        "id": "AZRrfStr7SnT",
        "colab_type": "code",
        "colab": {}
      },
      "source": [
        "#Authenticating and creating the PyDrive client (ACA TENES QUE ENTRAR AL LINK, ENTRAR CON TU CUENTA DE GMAIL, TE VA A DAR UN ID UNA VEZ QUE LE DES 'ALLOW' \n",
        "#Y LUEGO TENES QUE COPIAR EL ID EN EL CAMPO QUE TE VA A GENERAR EN ESTA CELDA)\n",
        "auth.authenticate_user()\n",
        "gauth = GoogleAuth()\n",
        "gauth.credentials = GoogleCredentials.get_application_default()\n",
        "drive = GoogleDrive(gauth)"
      ],
      "execution_count": null,
      "outputs": []
    },
    {
      "cell_type": "code",
      "metadata": {
        "id": "0z33WZr8C5XB",
        "colab_type": "code",
        "colab": {}
      },
      "source": [
        "#Getting the file\n",
        "downloaded2 = drive.CreateFile({'id':\"1LA2yR5TRNPQu2btbbFVVHMqcHsj3yCuS\"})   # replace the id with id of file you want to access\n",
        "downloaded2.GetContentFile('glove.twitter.27B.200d.txt')                             # replace the filename of file you want to access   "
      ],
      "execution_count": null,
      "outputs": []
    },
    {
      "cell_type": "code",
      "metadata": {
        "id": "mMwja2QLkZ99",
        "colab_type": "code",
        "colab": {}
      },
      "source": [
        "embeddings_dictionary = dict()\n",
        "glove_file = open('glove.twitter.27B.200d.txt', encoding=\"utf8\")"
      ],
      "execution_count": null,
      "outputs": []
    },
    {
      "cell_type": "code",
      "metadata": {
        "id": "IR-DYysrl80g",
        "colab_type": "code",
        "colab": {}
      },
      "source": [
        "from numpy import array\n",
        "from numpy import asarray\n",
        "from numpy import zeros\n",
        "\n",
        "for line in glove_file:\n",
        "    records = line.split()\n",
        "    word = records[0]\n",
        "    vector_dimensions = asarray(records[1:], dtype='float32')\n",
        "    \n",
        "    embeddings_dictionary [word] = vector_dimensions\n",
        "\n",
        "glove_file.close()"
      ],
      "execution_count": null,
      "outputs": []
    },
    {
      "cell_type": "code",
      "metadata": {
        "id": "b6LE4atAmAid",
        "colab_type": "code",
        "colab": {}
      },
      "source": [
        "embedding_dim = 200\n",
        "embedding_matrix = zeros((top_word, embedding_dim))\n",
        "for word, index in tokenizer.word_index.items():\n",
        "    embedding_vector = embeddings_dictionary.get(word)\n",
        "    if embedding_vector is not None:\n",
        "        embedding_matrix[index] = embedding_vector"
      ],
      "execution_count": null,
      "outputs": []
    },
    {
      "cell_type": "markdown",
      "metadata": {
        "id": "BxjIgytUm9gk",
        "colab_type": "text"
      },
      "source": [
        "# LSTM Model"
      ]
    },
    {
      "cell_type": "code",
      "metadata": {
        "id": "gWA8cx9DnA71",
        "colab_type": "code",
        "colab": {}
      },
      "source": [
        "from keras.models import Sequential\n",
        "from keras.models import Model\n",
        "from keras.layers import Dense, Dropout, Embedding, LSTM, Input, Conv2D, MaxPooling2D,Conv1D,MaxPooling1D\n",
        "from keras.layers import Bidirectional,  Reshape, Flatten, GRU\n",
        "from keras.layers.merge import concatenate"
      ],
      "execution_count": null,
      "outputs": []
    },
    {
      "cell_type": "markdown",
      "metadata": {
        "id": "zomaxM-IpwrY",
        "colab_type": "text"
      },
      "source": [
        "## Model 1 - [text + fake_text] in Kaggle 0.79926"
      ]
    },
    {
      "cell_type": "code",
      "metadata": {
        "id": "6odO6k5MhoFj",
        "colab_type": "code",
        "colab": {
          "base_uri": "https://localhost:8080/",
          "height": 550
        },
        "outputId": "c335b93e-002b-4a54-9009-b423997eb36e"
      },
      "source": [
        "# Defining the LSTM model 1\n",
        "\n",
        "input1 = Input(shape=(max_words_txt,))\n",
        "embedding_layer1 = Embedding(top_word, embedding_dim, weights=[embedding_matrix], input_length=max_words_txt, trainable=False)(input1)\n",
        "dropout1 = Dropout(0.2)(embedding_layer1)\n",
        "lstm1_1 = LSTM(128,return_sequences = True)(dropout1)\n",
        "lstm1_2 = LSTM(128,return_sequences = True)(lstm1_1)\n",
        "lstm1_2a = LSTM(128,return_sequences = True)(lstm1_2)\n",
        "lstm1_3 = LSTM(128)(lstm1_2a)\n",
        "\n",
        "# input2 = Input(shape=(max_words_key,))\n",
        "# embedding_layer2 = Embedding(top_word, embedding_dim, weights=[embedding_matrix], input_length=max_words_key, trainable=False)(input2)\n",
        "# dropout2 = Dropout(0.2)(embedding_layer2)\n",
        "# lstm2_1 = LSTM(64,return_sequences = True)(dropout2)\n",
        "# lstm2_2 = LSTM(64,return_sequences = True)(lstm2_1)\n",
        "# lstm2_3 = LSTM(64)(lstm2_2)\n",
        "\n",
        "# input3 = Input(shape=(max_words_loc,))\n",
        "# embedding_layer3 = Embedding(top_word, embedding_dim, weights=[embedding_matrix], input_length=max_words_loc, trainable=False)(input3)\n",
        "# dropout3 = Dropout(0.2)(embedding_layer3)\n",
        "# lstm3_1 = LSTM(32,return_sequences = True)(dropout3)\n",
        "# lstm3_2 = LSTM(32,return_sequences = True)(lstm3_1)\n",
        "# lstm3_3 = LSTM(32)(lstm3_2)\n",
        "\n",
        "# merge = concatenate([lstm1_3, lstm2_3,lstm3_3])\n",
        "\n",
        "dropout = Dropout(0.8)(lstm1_3)\n",
        "dense1 = Dense(256, activation='relu')(dropout)\n",
        "dense2 = Dense(128, activation='relu')(dense1)\n",
        "output = Dense(2, activation='softmax')(dense2)\n",
        "model1 = Model(inputs=input1, outputs=output)\n",
        "model1.summary()"
      ],
      "execution_count": null,
      "outputs": [
        {
          "output_type": "stream",
          "text": [
            "Model: \"model_1\"\n",
            "_________________________________________________________________\n",
            "Layer (type)                 Output Shape              Param #   \n",
            "=================================================================\n",
            "input_2 (InputLayer)         (None, 25)                0         \n",
            "_________________________________________________________________\n",
            "embedding_2 (Embedding)      (None, 25, 200)           7000000   \n",
            "_________________________________________________________________\n",
            "dropout_3 (Dropout)          (None, 25, 200)           0         \n",
            "_________________________________________________________________\n",
            "lstm_5 (LSTM)                (None, 25, 128)           168448    \n",
            "_________________________________________________________________\n",
            "lstm_6 (LSTM)                (None, 25, 128)           131584    \n",
            "_________________________________________________________________\n",
            "lstm_7 (LSTM)                (None, 25, 128)           131584    \n",
            "_________________________________________________________________\n",
            "lstm_8 (LSTM)                (None, 128)               131584    \n",
            "_________________________________________________________________\n",
            "dropout_4 (Dropout)          (None, 128)               0         \n",
            "_________________________________________________________________\n",
            "dense_4 (Dense)              (None, 256)               33024     \n",
            "_________________________________________________________________\n",
            "dense_5 (Dense)              (None, 128)               32896     \n",
            "_________________________________________________________________\n",
            "dense_6 (Dense)              (None, 2)                 258       \n",
            "=================================================================\n",
            "Total params: 7,629,378\n",
            "Trainable params: 629,378\n",
            "Non-trainable params: 7,000,000\n",
            "_________________________________________________________________\n"
          ],
          "name": "stdout"
        }
      ]
    },
    {
      "cell_type": "markdown",
      "metadata": {
        "id": "ROz4GYOG0Ext",
        "colab_type": "text"
      },
      "source": [
        "### Optimizer"
      ]
    },
    {
      "cell_type": "code",
      "metadata": {
        "id": "YfRT8N_qh-Si",
        "colab_type": "code",
        "colab": {}
      },
      "source": [
        "from keras.optimizers import Adam\n",
        "\n",
        "optimizer1 = Adam(lr = .0001, beta_1 = .9, beta_2 = .999, epsilon = 1e-10, decay = .0, amsgrad = False)\n",
        "model1.compile(loss=\"binary_crossentropy\", optimizer=optimizer1,\n",
        "              metrics=[\"accuracy\"])\n"
      ],
      "execution_count": null,
      "outputs": []
    },
    {
      "cell_type": "markdown",
      "metadata": {
        "id": "ygPgr54C0Hze",
        "colab_type": "text"
      },
      "source": [
        "### Training"
      ]
    },
    {
      "cell_type": "code",
      "metadata": {
        "id": "npv5TchGpC8J",
        "colab_type": "code",
        "colab": {
          "base_uri": "https://localhost:8080/",
          "height": 852
        },
        "outputId": "9078c4b6-14e1-4725-8c6d-6538fee199e6"
      },
      "source": [
        "from keras.callbacks import EarlyStopping, ReduceLROnPlateau\n",
        "es = EarlyStopping(monitor='val_loss', mode='min',verbose=1, patience = 4)\n",
        "learning_rate_reduction = ReduceLROnPlateau(monitor = 'val_accuracy', patience = 2, verbose = 1, \n",
        "                                           factor = 0.5, min_lr = 1e-8, cooldown=1)\n",
        "\n",
        "prueba  = model1.fit(x_train_txt, targets, validation_split=0.2, epochs=20, batch_size=16, verbose=2, callbacks=[es, learning_rate_reduction])"
      ],
      "execution_count": null,
      "outputs": [
        {
          "output_type": "stream",
          "text": [
            "Train on 11006 samples, validate on 2752 samples\n",
            "Epoch 1/20\n",
            " - 96s - loss: 0.5532 - accuracy: 0.7242 - val_loss: 0.4921 - val_accuracy: 0.7703\n",
            "Epoch 2/20\n",
            " - 90s - loss: 0.4787 - accuracy: 0.7831 - val_loss: 0.4787 - val_accuracy: 0.7823\n",
            "Epoch 3/20\n",
            " - 90s - loss: 0.4619 - accuracy: 0.7948 - val_loss: 0.4563 - val_accuracy: 0.7947\n",
            "Epoch 4/20\n",
            " - 89s - loss: 0.4437 - accuracy: 0.8029 - val_loss: 0.4528 - val_accuracy: 0.7998\n",
            "Epoch 5/20\n",
            " - 89s - loss: 0.4317 - accuracy: 0.8074 - val_loss: 0.4394 - val_accuracy: 0.8041\n",
            "Epoch 6/20\n",
            " - 89s - loss: 0.4150 - accuracy: 0.8193 - val_loss: 0.4260 - val_accuracy: 0.8136\n",
            "Epoch 7/20\n",
            " - 91s - loss: 0.4016 - accuracy: 0.8250 - val_loss: 0.4196 - val_accuracy: 0.8194\n",
            "Epoch 8/20\n",
            " - 89s - loss: 0.3894 - accuracy: 0.8305 - val_loss: 0.4117 - val_accuracy: 0.8212\n",
            "Epoch 9/20\n",
            " - 90s - loss: 0.3772 - accuracy: 0.8403 - val_loss: 0.4068 - val_accuracy: 0.8270\n",
            "Epoch 10/20\n",
            " - 89s - loss: 0.3555 - accuracy: 0.8492 - val_loss: 0.3927 - val_accuracy: 0.8318\n",
            "Epoch 11/20\n",
            " - 89s - loss: 0.3442 - accuracy: 0.8553 - val_loss: 0.3918 - val_accuracy: 0.8318\n",
            "Epoch 12/20\n",
            " - 89s - loss: 0.3213 - accuracy: 0.8638 - val_loss: 0.4018 - val_accuracy: 0.8249\n",
            "\n",
            "Epoch 00012: ReduceLROnPlateau reducing learning rate to 4.999999873689376e-05.\n",
            "Epoch 13/20\n",
            " - 90s - loss: 0.2977 - accuracy: 0.8769 - val_loss: 0.3612 - val_accuracy: 0.8507\n",
            "Epoch 14/20\n",
            " - 89s - loss: 0.2818 - accuracy: 0.8843 - val_loss: 0.3594 - val_accuracy: 0.8528\n",
            "Epoch 15/20\n",
            " - 89s - loss: 0.2705 - accuracy: 0.8931 - val_loss: 0.3565 - val_accuracy: 0.8477\n",
            "Epoch 16/20\n",
            " - 90s - loss: 0.2641 - accuracy: 0.8942 - val_loss: 0.3886 - val_accuracy: 0.8452\n",
            "\n",
            "Epoch 00016: ReduceLROnPlateau reducing learning rate to 2.499999936844688e-05.\n",
            "Epoch 17/20\n",
            " - 89s - loss: 0.2472 - accuracy: 0.9006 - val_loss: 0.3430 - val_accuracy: 0.8630\n",
            "Epoch 18/20\n",
            " - 89s - loss: 0.2350 - accuracy: 0.9093 - val_loss: 0.3457 - val_accuracy: 0.8605\n",
            "Epoch 19/20\n",
            " - 89s - loss: 0.2367 - accuracy: 0.9093 - val_loss: 0.3423 - val_accuracy: 0.8608\n",
            "\n",
            "Epoch 00019: ReduceLROnPlateau reducing learning rate to 1.249999968422344e-05.\n",
            "Epoch 20/20\n",
            " - 90s - loss: 0.2309 - accuracy: 0.9052 - val_loss: 0.3333 - val_accuracy: 0.8648\n"
          ],
          "name": "stdout"
        }
      ]
    },
    {
      "cell_type": "markdown",
      "metadata": {
        "id": "EnvrBsUVrjGy",
        "colab_type": "text"
      },
      "source": [
        "### Plotting results"
      ]
    },
    {
      "cell_type": "code",
      "metadata": {
        "id": "avWQdMO1rmUP",
        "colab_type": "code",
        "colab": {}
      },
      "source": [
        "#Function to plot loss + accuracy in training and validation sets\n",
        "\n",
        "def result_eva (loss,val_loss,acc,val_acc):\n",
        "       \n",
        "    epochs = range(1,len(loss)+1)\n",
        "    plt.plot(epochs, loss,'b-o', label ='Training Loss')\n",
        "    plt.plot(epochs, val_loss,'r-o', label ='Validation Loss')\n",
        "    plt.title(\"Training and Validation Loss\")\n",
        "    plt.xlabel('Epochs')\n",
        "    plt.ylabel('Loss')\n",
        "    plt.legend()\n",
        "    plt.show()\n",
        "    \n",
        "    epochs = range(1, len(acc)+1)\n",
        "    plt.plot(epochs, acc, \"b-o\", label=\"Training Acc\")\n",
        "    plt.plot(epochs, val_acc, \"r-o\", label=\"Validation Acc\")\n",
        "    plt.title(\"Training and Validation Accuracy\")\n",
        "    plt.xlabel(\"Epochs\")\n",
        "    plt.ylabel(\"Accuracy\")\n",
        "    plt.legend()\n",
        "    plt.show()"
      ],
      "execution_count": null,
      "outputs": []
    },
    {
      "cell_type": "code",
      "metadata": {
        "id": "VdDJyZr6rtNm",
        "colab_type": "code",
        "colab": {
          "base_uri": "https://localhost:8080/",
          "height": 573
        },
        "outputId": "706b2aa1-9565-4ab2-99d5-5543ed3b6d0a"
      },
      "source": [
        "result_eva(prueba.history['loss'], prueba.history['val_loss'], prueba.history['accuracy'], prueba.history['val_accuracy'])"
      ],
      "execution_count": null,
      "outputs": [
        {
          "output_type": "display_data",
          "data": {
            "image/png": "[encoded data removed]",
            "text/plain": [
              "<Figure size 432x288 with 1 Axes>"
            ]
          },
          "metadata": {
            "tags": [],
            "needs_background": "light"
          }
        },
        {
          "output_type": "display_data",
          "data": {
            "image/png": "[encoded data removed]",
            "text/plain": [
              "<Figure size 432x288 with 1 Axes>"
            ]
          },
          "metadata": {
            "tags": [],
            "needs_background": "light"
          }
        }
      ]
    },
    {
      "cell_type": "markdown",
      "metadata": {
        "id": "GRgvxtIrxnlI",
        "colab_type": "text"
      },
      "source": [
        "### Predicting"
      ]
    },
    {
      "cell_type": "code",
      "metadata": {
        "id": "4A8gole4fQ4q",
        "colab_type": "code",
        "colab": {}
      },
      "source": [
        "#Predicting test data\n",
        "\n",
        "y_pred = model1.predict(x_test_txt, batch_size=16, verbose=2)"
      ],
      "execution_count": null,
      "outputs": []
    },
    {
      "cell_type": "code",
      "metadata": {
        "id": "rgijxuZQstQ4",
        "colab_type": "code",
        "colab": {}
      },
      "source": [
        "y_pred = np.argmax(y_pred,axis=1)"
      ],
      "execution_count": null,
      "outputs": []
    },
    {
      "cell_type": "markdown",
      "metadata": {
        "id": "_IGqm9_ZxsfW",
        "colab_type": "text"
      },
      "source": [
        "### Creating df for make the submission"
      ]
    },
    {
      "cell_type": "code",
      "metadata": {
        "id": "oE3cNOCQ2SpV",
        "colab_type": "code",
        "colab": {}
      },
      "source": [
        "df = pd.DataFrame()\n",
        "df['id'] = [int(x) for x in id_test.values]\n",
        "df['target'] = y_pred\n"
      ],
      "execution_count": null,
      "outputs": []
    },
    {
      "cell_type": "code",
      "metadata": {
        "id": "ma-5pF752tfa",
        "colab_type": "code",
        "colab": {
          "base_uri": "https://localhost:8080/",
          "height": 16
        },
        "outputId": "7801861c-f37e-4e89-fe37-b7128fc88a6d"
      },
      "source": [
        "from google.colab import files\n",
        "df.to_csv('26.submit.csv', index=False)\n",
        "files.download('26.submit.csv')"
      ],
      "execution_count": null,
      "outputs": [
        {
          "output_type": "display_data",
          "data": {
            "application/javascript": [
              "\n",
              "    async function download(id, filename, size) {\n",
              "      if (!google.colab.kernel.accessAllowed) {\n",
              "        return;\n",
              "      }\n",
              "      const div = document.createElement('div');\n",
              "      const label = document.createElement('label');\n",
              "      label.textContent = `Downloading \"${filename}\": `;\n",
              "      div.appendChild(label);\n",
              "      const progress = document.createElement('progress');\n",
              "      progress.max = size;\n",
              "      div.appendChild(progress);\n",
              "      document.body.appendChild(div);\n",
              "\n",
              "      const buffers = [];\n",
              "      let downloaded = 0;\n",
              "\n",
              "      const channel = await google.colab.kernel.comms.open(id);\n",
              "      // Send a message to notify the kernel that we're ready.\n",
              "      channel.send({})\n",
              "\n",
              "      for await (const message of channel.messages) {\n",
              "        // Send a message to notify the kernel that we're ready.\n",
              "        channel.send({})\n",
              "        if (message.buffers) {\n",
              "          for (const buffer of message.buffers) {\n",
              "            buffers.push(buffer);\n",
              "            downloaded += buffer.byteLength;\n",
              "            progress.value = downloaded;\n",
              "          }\n",
              "        }\n",
              "      }\n",
              "      const blob = new Blob(buffers, {type: 'application/binary'});\n",
              "      const a = document.createElement('a');\n",
              "      a.href = window.URL.createObjectURL(blob);\n",
              "      a.download = filename;\n",
              "      div.appendChild(a);\n",
              "      a.click();\n",
              "      div.remove();\n",
              "    }\n",
              "  "
            ],
            "text/plain": [
              "<IPython.core.display.Javascript object>"
            ]
          },
          "metadata": {
            "tags": []
          }
        },
        {
          "output_type": "display_data",
          "data": {
            "application/javascript": [
              "download(\"download_6788e20d-4463-4658-a509-82d1cb85c457\", \"26.submit.csv\", 22746)"
            ],
            "text/plain": [
              "<IPython.core.display.Javascript object>"
            ]
          },
          "metadata": {
            "tags": []
          }
        }
      ]
    },
    {
      "cell_type": "markdown",
      "metadata": {
        "id": "_5uUuLexyB1o",
        "colab_type": "text"
      },
      "source": [
        "## Model 2 - LSTM+CNN over [location, text, keyword] - in Kaggle  0.80386\n",
        "\n"
      ]
    },
    {
      "cell_type": "code",
      "metadata": {
        "id": "Qs95kPjMyEfi",
        "colab_type": "code",
        "colab": {
          "base_uri": "https://localhost:8080/",
          "height": 621
        },
        "outputId": "3aa1ab24-06bd-44cc-9cec-9ef0158e22fa"
      },
      "source": [
        "input1 = Input(shape=(max_words_txt,))\n",
        "embedding_layer1 = Embedding(top_word, embedding_dim, weights=[embedding_matrix], input_length=max_words_txt, trainable=False)(input1)\n",
        "lstm1_1 = Bidirectional(LSTM(100, return_sequences=True,dropout = 0.2))(embedding_layer1)\n",
        "lstm1_1a = Bidirectional(LSTM(100, return_sequences=True,dropout = 0.2))(lstm1_1)\n",
        "lstm1_1b = Bidirectional(LSTM(100, return_sequences=True,dropout = 0.2))(lstm1_1a)\n",
        "res = Reshape((-1, x_train_txt.shape[1], 100))(lstm1_1b)\n",
        "conv1 = Conv2D(100, (3,3), padding='same',activation=\"relu\")(res)\n",
        "pool1 = MaxPooling2D(pool_size=(2,2))(conv1)\n",
        "flat1 = Flatten()(pool1)\n",
        "\n",
        "# input2 = Input(shape=(max_words_key,))\n",
        "# embedding_layer2 = Embedding(top_word, embedding_dim, weights=[embedding_matrix], input_length=max_words_key, trainable=False)(input2)\n",
        "# lstm2_1 = Bidirectional(LSTM(100, return_sequences=True,dropout = 0.2))(embedding_layer2)\n",
        "# lstm2_1a = Bidirectional(LSTM(100, return_sequences=True,dropout = 0.2))(lstm2_1)\n",
        "# lstm2_1b = Bidirectional(LSTM(100, return_sequences=True,dropout = 0.2))(lstm2_1a)\n",
        "# res2 = Reshape((-1, x_train_key.shape[1], 100))(lstm2_1b)\n",
        "# conv2 = Conv2D(100, (3,3), padding='same',activation=\"relu\")(res2)\n",
        "# pool2 = MaxPooling2D(pool_size=(2,2))(conv2)\n",
        "# flat2 = Flatten()(pool2)\n",
        "\n",
        "# input3 = Input(shape=(max_words_loc,))\n",
        "# embedding_layer3 = Embedding(top_word, embedding_dim, weights=[embedding_matrix], input_length=max_words_loc, trainable=False)(input3)\n",
        "# lstm3_1 = Bidirectional(LSTM(100, return_sequences=True,dropout = 0.2))(embedding_layer3)\n",
        "# lstm3_1a = Bidirectional(LSTM(100, return_sequences=True,dropout = 0.2))(lstm3_1)\n",
        "# lstm3_1b = Bidirectional(LSTM(100, return_sequences=True,dropout = 0.2))(lstm3_1a)\n",
        "# res3 = Reshape((-1, x_train_loc.shape[1], 100))(lstm3_1b)\n",
        "# conv3 = Conv2D(100, (3,3), padding='same',activation=\"relu\")(res3)\n",
        "# pool3 = MaxPooling2D(pool_size=(2,2))(conv3)\n",
        "# flat3 = Flatten()(pool3)\n",
        "\n",
        "# merge = concatenate([flat1, flat2, flat3])\n",
        "\n",
        "dropout = Dropout(0.4)(flat1)\n",
        "dense1 = Dense(256, activation='relu')(dropout)\n",
        "dense2 = Dense(128, activation='relu')(dense1)\n",
        "output = Dense(2, activation='softmax')(dense2)\n",
        "model2 = Model(inputs=input1, outputs=output)\n",
        "model2.summary()"
      ],
      "execution_count": null,
      "outputs": [
        {
          "output_type": "stream",
          "text": [
            "Model: \"model_2\"\n",
            "_________________________________________________________________\n",
            "Layer (type)                 Output Shape              Param #   \n",
            "=================================================================\n",
            "input_3 (InputLayer)         (None, 25)                0         \n",
            "_________________________________________________________________\n",
            "embedding_3 (Embedding)      (None, 25, 200)           7000000   \n",
            "_________________________________________________________________\n",
            "bidirectional_1 (Bidirection (None, 25, 200)           240800    \n",
            "_________________________________________________________________\n",
            "bidirectional_2 (Bidirection (None, 25, 200)           240800    \n",
            "_________________________________________________________________\n",
            "bidirectional_3 (Bidirection (None, 25, 200)           240800    \n",
            "_________________________________________________________________\n",
            "reshape_1 (Reshape)          (None, 2, 25, 100)        0         \n",
            "_________________________________________________________________\n",
            "conv2d_1 (Conv2D)            (None, 2, 25, 100)        90100     \n",
            "_________________________________________________________________\n",
            "max_pooling2d_1 (MaxPooling2 (None, 1, 12, 100)        0         \n",
            "_________________________________________________________________\n",
            "flatten_1 (Flatten)          (None, 1200)              0         \n",
            "_________________________________________________________________\n",
            "dropout_5 (Dropout)          (None, 1200)              0         \n",
            "_________________________________________________________________\n",
            "dense_7 (Dense)              (None, 256)               307456    \n",
            "_________________________________________________________________\n",
            "dense_8 (Dense)              (None, 128)               32896     \n",
            "_________________________________________________________________\n",
            "dense_9 (Dense)              (None, 2)                 258       \n",
            "=================================================================\n",
            "Total params: 8,153,110\n",
            "Trainable params: 1,153,110\n",
            "Non-trainable params: 7,000,000\n",
            "_________________________________________________________________\n"
          ],
          "name": "stdout"
        }
      ]
    },
    {
      "cell_type": "code",
      "metadata": {
        "id": "Hz7SAlWxzN87",
        "colab_type": "code",
        "colab": {}
      },
      "source": [
        "optimizer2 = Adam(lr = .0001, beta_1 = .9, beta_2 = .999, epsilon = 1e-10, decay = .0, amsgrad = False)"
      ],
      "execution_count": null,
      "outputs": []
    },
    {
      "cell_type": "code",
      "metadata": {
        "id": "wn2rEWqSzliO",
        "colab_type": "code",
        "colab": {}
      },
      "source": [
        "model2.compile(loss=\"binary_crossentropy\", optimizer=optimizer2,\n",
        "              metrics=[\"accuracy\"])"
      ],
      "execution_count": null,
      "outputs": []
    },
    {
      "cell_type": "code",
      "metadata": {
        "id": "xF_xXi5Jzn4J",
        "colab_type": "code",
        "colab": {
          "base_uri": "https://localhost:8080/",
          "height": 745
        },
        "outputId": "3d4916cc-7d28-4995-a886-269b43288f72"
      },
      "source": [
        "from keras.callbacks import EarlyStopping, ReduceLROnPlateau\n",
        "es = EarlyStopping(monitor='val_loss', mode='min',verbose=1, patience = 4)\n",
        "learning_rate_reduction = ReduceLROnPlateau(monitor = 'val_accuracy', patience = 2, verbose = 1, \n",
        "                                           factor = 0.5, min_lr = 1e-8, cooldown=1)\n",
        "\n",
        "prueba2 = model2.fit(x_train_txt, targets, validation_split=0.2, epochs=20, batch_size=16, verbose=2, callbacks=[es, learning_rate_reduction])"
      ],
      "execution_count": null,
      "outputs": [
        {
          "output_type": "stream",
          "text": [
            "Train on 11006 samples, validate on 2752 samples\n",
            "Epoch 1/20\n",
            " - 122s - loss: 0.5021 - accuracy: 0.7679 - val_loss: 0.4692 - val_accuracy: 0.7809\n",
            "Epoch 2/20\n",
            " - 121s - loss: 0.4519 - accuracy: 0.7973 - val_loss: 0.4537 - val_accuracy: 0.7914\n",
            "Epoch 3/20\n",
            " - 122s - loss: 0.4412 - accuracy: 0.8023 - val_loss: 0.4511 - val_accuracy: 0.7947\n",
            "Epoch 4/20\n",
            " - 121s - loss: 0.4288 - accuracy: 0.8093 - val_loss: 0.4362 - val_accuracy: 0.7958\n",
            "Epoch 5/20\n",
            " - 122s - loss: 0.4178 - accuracy: 0.8146 - val_loss: 0.4427 - val_accuracy: 0.7991\n",
            "Epoch 6/20\n",
            " - 120s - loss: 0.4069 - accuracy: 0.8211 - val_loss: 0.4197 - val_accuracy: 0.8092\n",
            "Epoch 7/20\n",
            " - 119s - loss: 0.3939 - accuracy: 0.8251 - val_loss: 0.4070 - val_accuracy: 0.8176\n",
            "Epoch 8/20\n",
            " - 121s - loss: 0.3828 - accuracy: 0.8355 - val_loss: 0.3961 - val_accuracy: 0.8234\n",
            "Epoch 9/20\n",
            " - 120s - loss: 0.3685 - accuracy: 0.8381 - val_loss: 0.3967 - val_accuracy: 0.8259\n",
            "Epoch 10/20\n",
            " - 122s - loss: 0.3546 - accuracy: 0.8455 - val_loss: 0.3813 - val_accuracy: 0.8314\n",
            "Epoch 11/20\n",
            " - 121s - loss: 0.3406 - accuracy: 0.8556 - val_loss: 0.3703 - val_accuracy: 0.8405\n",
            "Epoch 12/20\n",
            " - 121s - loss: 0.3223 - accuracy: 0.8622 - val_loss: 0.3664 - val_accuracy: 0.8481\n",
            "Epoch 13/20\n",
            " - 122s - loss: 0.3097 - accuracy: 0.8694 - val_loss: 0.3645 - val_accuracy: 0.8496\n",
            "Epoch 14/20\n",
            " - 121s - loss: 0.2955 - accuracy: 0.8757 - val_loss: 0.3388 - val_accuracy: 0.8543\n",
            "Epoch 15/20\n",
            " - 120s - loss: 0.2826 - accuracy: 0.8836 - val_loss: 0.3317 - val_accuracy: 0.8572\n",
            "Epoch 16/20\n",
            " - 120s - loss: 0.2671 - accuracy: 0.8900 - val_loss: 0.3204 - val_accuracy: 0.8648\n",
            "Epoch 17/20\n",
            " - 119s - loss: 0.2496 - accuracy: 0.9001 - val_loss: 0.3154 - val_accuracy: 0.8710\n",
            "Epoch 18/20\n",
            " - 121s - loss: 0.2438 - accuracy: 0.8991 - val_loss: 0.3174 - val_accuracy: 0.8623\n",
            "Epoch 19/20\n",
            " - 120s - loss: 0.2264 - accuracy: 0.9096 - val_loss: 0.2931 - val_accuracy: 0.8735\n",
            "Epoch 20/20\n",
            " - 119s - loss: 0.2176 - accuracy: 0.9127 - val_loss: 0.3076 - val_accuracy: 0.8677\n"
          ],
          "name": "stdout"
        }
      ]
    },
    {
      "cell_type": "code",
      "metadata": {
        "id": "UzLxQsv00Wo1",
        "colab_type": "code",
        "colab": {
          "base_uri": "https://localhost:8080/",
          "height": 573
        },
        "outputId": "49189794-9376-443c-956b-43af05766c21"
      },
      "source": [
        "result_eva(prueba2.history['loss'], prueba2.history['val_loss'], prueba2.history['accuracy'], prueba2.history['val_accuracy'])"
      ],
      "execution_count": null,
      "outputs": [
        {
          "output_type": "display_data",
          "data": {
            "image/png": "[encoded data removed]",
            "text/plain": [
              "<Figure size 432x288 with 1 Axes>"
            ]
          },
          "metadata": {
            "tags": [],
            "needs_background": "light"
          }
        },
        {
          "output_type": "display_data",
          "data": {
            "image/png": "[encoded data removed]",
            "text/plain": [
              "<Figure size 432x288 with 1 Axes>"
            ]
          },
          "metadata": {
            "tags": [],
            "needs_background": "light"
          }
        }
      ]
    },
    {
      "cell_type": "code",
      "metadata": {
        "id": "CITB_YwL2DyF",
        "colab_type": "code",
        "colab": {}
      },
      "source": [
        "#Predicting test data\n",
        "\n",
        "y_pred = model2.predict(x_test_txt, batch_size=16, verbose=2)"
      ],
      "execution_count": null,
      "outputs": []
    },
    {
      "cell_type": "code",
      "metadata": {
        "id": "G90dzdjw2UK2",
        "colab_type": "code",
        "colab": {}
      },
      "source": [
        "y_pred = np.argmax(y_pred,axis=1)"
      ],
      "execution_count": null,
      "outputs": []
    },
    {
      "cell_type": "code",
      "metadata": {
        "id": "iQ42xFNb2VK2",
        "colab_type": "code",
        "colab": {}
      },
      "source": [
        "df = pd.DataFrame()\n",
        "df['id'] = [int(x) for x in id_test.values]\n",
        "df['target'] = y_pred\n",
        "df.to_csv('27.submit.csv', index=False)"
      ],
      "execution_count": null,
      "outputs": []
    },
    {
      "cell_type": "code",
      "metadata": {
        "id": "HN8xADOiv81z",
        "colab_type": "code",
        "colab": {
          "base_uri": "https://localhost:8080/",
          "height": 16
        },
        "outputId": "13f37498-af1d-4712-b2b2-be3c7a339b4d"
      },
      "source": [
        "from google.colab import files\n",
        "files.download('27.submit.csv')"
      ],
      "execution_count": null,
      "outputs": [
        {
          "output_type": "display_data",
          "data": {
            "application/javascript": [
              "\n",
              "    async function download(id, filename, size) {\n",
              "      if (!google.colab.kernel.accessAllowed) {\n",
              "        return;\n",
              "      }\n",
              "      const div = document.createElement('div');\n",
              "      const label = document.createElement('label');\n",
              "      label.textContent = `Downloading \"${filename}\": `;\n",
              "      div.appendChild(label);\n",
              "      const progress = document.createElement('progress');\n",
              "      progress.max = size;\n",
              "      div.appendChild(progress);\n",
              "      document.body.appendChild(div);\n",
              "\n",
              "      const buffers = [];\n",
              "      let downloaded = 0;\n",
              "\n",
              "      const channel = await google.colab.kernel.comms.open(id);\n",
              "      // Send a message to notify the kernel that we're ready.\n",
              "      channel.send({})\n",
              "\n",
              "      for await (const message of channel.messages) {\n",
              "        // Send a message to notify the kernel that we're ready.\n",
              "        channel.send({})\n",
              "        if (message.buffers) {\n",
              "          for (const buffer of message.buffers) {\n",
              "            buffers.push(buffer);\n",
              "            downloaded += buffer.byteLength;\n",
              "            progress.value = downloaded;\n",
              "          }\n",
              "        }\n",
              "      }\n",
              "      const blob = new Blob(buffers, {type: 'application/binary'});\n",
              "      const a = document.createElement('a');\n",
              "      a.href = window.URL.createObjectURL(blob);\n",
              "      a.download = filename;\n",
              "      div.appendChild(a);\n",
              "      a.click();\n",
              "      div.remove();\n",
              "    }\n",
              "  "
            ],
            "text/plain": [
              "<IPython.core.display.Javascript object>"
            ]
          },
          "metadata": {
            "tags": []
          }
        },
        {
          "output_type": "display_data",
          "data": {
            "application/javascript": [
              "download(\"download_0ebe2b95-c5e9-4a86-8129-b8b999acb16a\", \"27.submit.csv\", 22746)"
            ],
            "text/plain": [
              "<IPython.core.display.Javascript object>"
            ]
          },
          "metadata": {
            "tags": []
          }
        }
      ]
    }
  ]
}