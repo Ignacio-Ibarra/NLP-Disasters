{
  "nbformat": 4,
  "nbformat_minor": 0,
  "metadata": {
    "colab": {
      "name": "LSTM with Data Augmentation - GPT-2.ipynb",
      "provenance": [],
      "collapsed_sections": [],
      "authorship_tag": "ABX9TyNvlF7kkvooO06wVHcOGdkC",
      "include_colab_link": true
    },
    "kernelspec": {
      "name": "python3",
      "display_name": "Python 3"
    }
  },
  "cells": [
    {
      "cell_type": "markdown",
      "metadata": {
        "id": "view-in-github",
        "colab_type": "text"
      },
      "source": [
        "<a href=\"https://colab.research.google.com/github/Ignacio-Ibarra/NLP-Disasters/blob/intento_4/intento_5/model/LSTM_with_Data_Augmentation_GPT_2.ipynb\" target=\"_parent\"><img src=\"https://colab.research.google.com/assets/colab-badge.svg\" alt=\"Open In Colab\"/></a>"
      ]
    },
    {
      "cell_type": "code",
      "metadata": {
        "id": "L-up59GM5okB",
        "colab_type": "code",
        "colab": {
          "base_uri": "https://localhost:8080/",
          "height": 125
        },
        "outputId": "01f3ef8e-e289-4d8b-e9f5-8ab43ef0a569"
      },
      "source": [
        "from google.colab import drive \n",
        "drive.mount('/content/gdrive')"
      ],
      "execution_count": 1,
      "outputs": [
        {
          "output_type": "stream",
          "text": [
            "Go to this URL in a browser: https://accounts.google.com/o/oauth2/auth?client_id=947318989803-6bn6qk8qdgf4n4g3pfee6491hc0brc4i.apps.googleusercontent.com&redirect_uri=urn%3aietf%3awg%3aoauth%3a2.0%3aoob&response_type=code&scope=email%20https%3a%2f%2fwww.googleapis.com%2fauth%2fdocs.test%20https%3a%2f%2fwww.googleapis.com%2fauth%2fdrive%20https%3a%2f%2fwww.googleapis.com%2fauth%2fdrive.photos.readonly%20https%3a%2f%2fwww.googleapis.com%2fauth%2fpeopleapi.readonly\n",
            "\n",
            "Enter your authorization code:\n",
            "··········\n",
            "Mounted at /content/gdrive\n"
          ],
          "name": "stdout"
        }
      ]
    },
    {
      "cell_type": "markdown",
      "metadata": {
        "id": "fg9rYtXU6jFF",
        "colab_type": "text"
      },
      "source": [
        "# Libraries"
      ]
    },
    {
      "cell_type": "code",
      "metadata": {
        "id": "ZmfYhcuPgmvn",
        "colab_type": "code",
        "colab": {}
      },
      "source": [
        "from keras.preprocessing.text import Tokenizer\n",
        "from keras.preprocessing.sequence import pad_sequences\n",
        "from keras.preprocessing import sequence\n",
        "import pandas as pd\n",
        "import numpy as np\n",
        "import matplotlib.pyplot as plt\n",
        "%matplotlib inline"
      ],
      "execution_count": 2,
      "outputs": []
    },
    {
      "cell_type": "markdown",
      "metadata": {
        "id": "yTgjv7q4k4JS",
        "colab_type": "text"
      },
      "source": [
        "# Reading CSV files"
      ]
    },
    {
      "cell_type": "code",
      "metadata": {
        "id": "nS76xTlGgijN",
        "colab_type": "code",
        "colab": {}
      },
      "source": [
        "complete = pd.read_csv('https://raw.githubusercontent.com/Ignacio-Ibarra/NLP-Disasters/intento_4/intento_4/csv/complete_cleaned.csv')"
      ],
      "execution_count": 3,
      "outputs": []
    },
    {
      "cell_type": "code",
      "metadata": {
        "id": "w9bgg8_Rgfgp",
        "colab_type": "code",
        "colab": {}
      },
      "source": [
        "complete.drop(columns='Unnamed: 0', inplace=True)"
      ],
      "execution_count": 4,
      "outputs": []
    },
    {
      "cell_type": "code",
      "metadata": {
        "id": "Sflp5rdVhWom",
        "colab_type": "code",
        "colab": {}
      },
      "source": [
        "test = complete[complete.istrain == 0].reset_index(drop=True)\n",
        "test.drop(columns='target',inplace=True)\n",
        "x_test = test.drop(columns='istrain')"
      ],
      "execution_count": 5,
      "outputs": []
    },
    {
      "cell_type": "code",
      "metadata": {
        "id": "jb3UDQQSkOxj",
        "colab_type": "code",
        "colab": {}
      },
      "source": [
        "id_test=x_test.id"
      ],
      "execution_count": 6,
      "outputs": []
    },
    {
      "cell_type": "code",
      "metadata": {
        "id": "HyVzJD0v6Teb",
        "colab_type": "code",
        "colab": {
          "base_uri": "https://localhost:8080/",
          "height": 34
        },
        "outputId": "422f50d0-25dc-4754-847c-020ce5a53bfb"
      },
      "source": [
        "train_df_augmented = pd.read_csv('/content/gdrive/My Drive/Organizacion_de_datos/train_df_combined.csv')\n",
        "x_train = train_df_augmented['text']\n",
        "len(x_train)"
      ],
      "execution_count": 9,
      "outputs": [
        {
          "output_type": "execute_result",
          "data": {
            "text/plain": [
              "11552"
            ]
          },
          "metadata": {
            "tags": []
          },
          "execution_count": 9
        }
      ]
    },
    {
      "cell_type": "code",
      "metadata": {
        "id": "eSyl-zxC7KbL",
        "colab_type": "code",
        "colab": {}
      },
      "source": [
        "y_train = train_df_augmented['target']"
      ],
      "execution_count": 11,
      "outputs": []
    },
    {
      "cell_type": "code",
      "metadata": {
        "id": "MJSl2nZZ4fIh",
        "colab_type": "code",
        "colab": {}
      },
      "source": [
        "x_train = x_train.apply(lambda x: \" \".join([str(i) for i in str(x).split()]))\n",
        "x_test = x_test['text'].apply(lambda x: \" \".join([str(i) for i in str(x).split()]))"
      ],
      "execution_count": 12,
      "outputs": []
    },
    {
      "cell_type": "markdown",
      "metadata": {
        "id": "NiWrqWjIk_rK",
        "colab_type": "text"
      },
      "source": [
        "# Tokenizer"
      ]
    },
    {
      "cell_type": "markdown",
      "metadata": {
        "id": "acLGHaLlzErC",
        "colab_type": "text"
      },
      "source": [
        "## Instantiating the Tokenizer"
      ]
    },
    {
      "cell_type": "code",
      "metadata": {
        "id": "S_rrQak47roF",
        "colab_type": "code",
        "colab": {
          "base_uri": "https://localhost:8080/",
          "height": 34
        },
        "outputId": "339b2086-de78-418f-f3aa-123db40d60e5"
      },
      "source": [
        "uniques = []\n",
        "for i in x_train.values:\n",
        "  words = str(i).split()\n",
        "  for word in words:\n",
        "    if word not in uniques:\n",
        "      uniques.append(word)\n",
        "len(uniques)"
      ],
      "execution_count": 13,
      "outputs": [
        {
          "output_type": "execute_result",
          "data": {
            "text/plain": [
              "38451"
            ]
          },
          "metadata": {
            "tags": []
          },
          "execution_count": 13
        }
      ]
    },
    {
      "cell_type": "code",
      "metadata": {
        "id": "OnF92Z8dztyS",
        "colab_type": "code",
        "colab": {}
      },
      "source": [
        "#Top word is the quantity of differents words that our word_index will have. \n",
        "top_word = 40000"
      ],
      "execution_count": 14,
      "outputs": []
    },
    {
      "cell_type": "code",
      "metadata": {
        "id": "T9f3bgFxg7CD",
        "colab_type": "code",
        "colab": {}
      },
      "source": [
        "#Here we instantiate the tokenizer\n",
        "tokenizer = Tokenizer(num_words=top_word)\n",
        "\n",
        "#Here we make the fit we three features that are strings\n",
        "tokenizer.fit_on_texts(x_train)"
      ],
      "execution_count": 15,
      "outputs": []
    },
    {
      "cell_type": "markdown",
      "metadata": {
        "id": "YhWZc6pCzzSa",
        "colab_type": "text"
      },
      "source": [
        "## Text to sequences of word_indexes"
      ]
    },
    {
      "cell_type": "markdown",
      "metadata": {
        "id": "WqXyZEemzVzs",
        "colab_type": "text"
      },
      "source": [
        "Converting the text into a sequence of integers, all of them are indexes of the tokenizer.word_index"
      ]
    },
    {
      "cell_type": "code",
      "metadata": {
        "id": "YI9rgZd6yOJW",
        "colab_type": "code",
        "colab": {}
      },
      "source": [
        "#Training set to sequence\n",
        "x_train = tokenizer.texts_to_sequences(x_train)\n",
        "\n",
        "#Test set to sequence\n",
        "x_test = tokenizer.texts_to_sequences(x_test)\n",
        "\n"
      ],
      "execution_count": 16,
      "outputs": []
    },
    {
      "cell_type": "markdown",
      "metadata": {
        "id": "8XWho2Vi0cBl",
        "colab_type": "text"
      },
      "source": [
        "## Padding sequence"
      ]
    },
    {
      "cell_type": "markdown",
      "metadata": {
        "id": "d7y2yRFD0gNA",
        "colab_type": "text"
      },
      "source": [
        "We add zeros into each sequence unitl complete a maximum of lenght"
      ]
    },
    {
      "cell_type": "code",
      "metadata": {
        "id": "N0x1TpDY1Zlq",
        "colab_type": "code",
        "colab": {
          "base_uri": "https://localhost:8080/",
          "height": 52
        },
        "outputId": "3b99e315-6ad1-4dd6-e28f-b81dcbb87e01"
      },
      "source": [
        "#MAXLEN for text, location and keyword\n",
        "max_words = max([len(x) for x in x_train]) + 1\n",
        "\n",
        "\n",
        "print(\"top_word: \", str(top_word))\n",
        "print(\"max_words: \", str(max_words))\n"
      ],
      "execution_count": 17,
      "outputs": [
        {
          "output_type": "stream",
          "text": [
            "top_word:  40000\n",
            "max_words:  48\n"
          ],
          "name": "stdout"
        }
      ]
    },
    {
      "cell_type": "code",
      "metadata": {
        "id": "ig1DpbgL3RKy",
        "colab_type": "code",
        "colab": {
          "base_uri": "https://localhost:8080/",
          "height": 34
        },
        "outputId": "5c3acdf2-602e-44d7-dd78-0bd500cd8eeb"
      },
      "source": [
        "#Padding\n",
        "\n",
        "\n",
        "x_train = sequence.pad_sequences(x_train, maxlen=max_words,padding='post')\n",
        "\n",
        "\n",
        "x_test = sequence.pad_sequences(x_test, maxlen=max_words, padding='post')\n",
        "\n",
        "print(\"X_train_txt.shape: \", x_train.shape)\n"
      ],
      "execution_count": 19,
      "outputs": [
        {
          "output_type": "stream",
          "text": [
            "X_train_txt.shape:  (11552, 48)\n"
          ],
          "name": "stdout"
        }
      ]
    },
    {
      "cell_type": "markdown",
      "metadata": {
        "id": "EYSoOqDWlGwK",
        "colab_type": "text"
      },
      "source": [
        "# y_train to_categorical"
      ]
    },
    {
      "cell_type": "code",
      "metadata": {
        "id": "F42OTM5Yj-3F",
        "colab_type": "code",
        "colab": {
          "base_uri": "https://localhost:8080/",
          "height": 34
        },
        "outputId": "3e18b8d5-cb23-4d01-a8e8-b932a5a9312d"
      },
      "source": [
        "# One-hot category\n",
        "from keras.utils import to_categorical\n",
        "y_train = to_categorical(y_train)\n",
        "print(\"y_train.shape: \", y_train.shape)"
      ],
      "execution_count": 20,
      "outputs": [
        {
          "output_type": "stream",
          "text": [
            "y_train.shape:  (11552, 2)\n"
          ],
          "name": "stdout"
        }
      ]
    },
    {
      "cell_type": "markdown",
      "metadata": {
        "id": "HeMD42LLhlTJ",
        "colab_type": "text"
      },
      "source": [
        "## Loading word embedding file\n",
        "\n",
        "---\n",
        "\n"
      ]
    },
    {
      "cell_type": "code",
      "metadata": {
        "id": "Vs7hSCnqZt7-",
        "colab_type": "code",
        "colab": {
          "base_uri": "https://localhost:8080/",
          "height": 265
        },
        "outputId": "91ca67b1-1fb2-4260-8eb9-1610fa0eb6a0"
      },
      "source": [
        "#Installing PyDrive\n",
        "!pip install PyDrive"
      ],
      "execution_count": 21,
      "outputs": [
        {
          "output_type": "stream",
          "text": [
            "Requirement already satisfied: PyDrive in /usr/local/lib/python3.6/dist-packages (1.3.1)\n",
            "Requirement already satisfied: oauth2client>=4.0.0 in /usr/local/lib/python3.6/dist-packages (from PyDrive) (4.1.3)\n",
            "Requirement already satisfied: PyYAML>=3.0 in /usr/local/lib/python3.6/dist-packages (from PyDrive) (3.13)\n",
            "Requirement already satisfied: google-api-python-client>=1.2 in /usr/local/lib/python3.6/dist-packages (from PyDrive) (1.7.12)\n",
            "Requirement already satisfied: httplib2>=0.9.1 in /usr/local/lib/python3.6/dist-packages (from oauth2client>=4.0.0->PyDrive) (0.17.4)\n",
            "Requirement already satisfied: pyasn1-modules>=0.0.5 in /usr/local/lib/python3.6/dist-packages (from oauth2client>=4.0.0->PyDrive) (0.2.8)\n",
            "Requirement already satisfied: six>=1.6.1 in /usr/local/lib/python3.6/dist-packages (from oauth2client>=4.0.0->PyDrive) (1.15.0)\n",
            "Requirement already satisfied: pyasn1>=0.1.7 in /usr/local/lib/python3.6/dist-packages (from oauth2client>=4.0.0->PyDrive) (0.4.8)\n",
            "Requirement already satisfied: rsa>=3.1.4 in /usr/local/lib/python3.6/dist-packages (from oauth2client>=4.0.0->PyDrive) (4.6)\n",
            "Requirement already satisfied: google-auth>=1.4.1 in /usr/local/lib/python3.6/dist-packages (from google-api-python-client>=1.2->PyDrive) (1.17.2)\n",
            "Requirement already satisfied: google-auth-httplib2>=0.0.3 in /usr/local/lib/python3.6/dist-packages (from google-api-python-client>=1.2->PyDrive) (0.0.4)\n",
            "Requirement already satisfied: uritemplate<4dev,>=3.0.0 in /usr/local/lib/python3.6/dist-packages (from google-api-python-client>=1.2->PyDrive) (3.0.1)\n",
            "Requirement already satisfied: cachetools<5.0,>=2.0.0 in /usr/local/lib/python3.6/dist-packages (from google-auth>=1.4.1->google-api-python-client>=1.2->PyDrive) (4.1.1)\n",
            "Requirement already satisfied: setuptools>=40.3.0 in /usr/local/lib/python3.6/dist-packages (from google-auth>=1.4.1->google-api-python-client>=1.2->PyDrive) (49.2.0)\n"
          ],
          "name": "stdout"
        }
      ]
    },
    {
      "cell_type": "code",
      "metadata": {
        "id": "eRclqajX71NJ",
        "colab_type": "code",
        "colab": {}
      },
      "source": [
        "#Importing modules\n",
        "from pydrive.auth import GoogleAuth\n",
        "from pydrive.drive import GoogleDrive\n",
        "from google.colab import auth\n",
        "from oauth2client.client import GoogleCredentials"
      ],
      "execution_count": 22,
      "outputs": []
    },
    {
      "cell_type": "code",
      "metadata": {
        "id": "AZRrfStr7SnT",
        "colab_type": "code",
        "colab": {}
      },
      "source": [
        "#Authenticating and creating the PyDrive client (ACA TENES QUE ENTRAR AL LINK, ENTRAR CON TU CUENTA DE GMAIL, TE VA A DAR UN ID UNA VEZ QUE LE DES 'ALLOW' \n",
        "#Y LUEGO TENES QUE COPIAR EL ID EN EL CAMPO QUE TE VA A GENERAR EN ESTA CELDA)\n",
        "auth.authenticate_user()\n",
        "gauth = GoogleAuth()\n",
        "gauth.credentials = GoogleCredentials.get_application_default()\n",
        "drive = GoogleDrive(gauth)"
      ],
      "execution_count": 23,
      "outputs": []
    },
    {
      "cell_type": "code",
      "metadata": {
        "id": "0z33WZr8C5XB",
        "colab_type": "code",
        "colab": {}
      },
      "source": [
        "#Getting the file\n",
        "downloaded2 = drive.CreateFile({'id':\"1LA2yR5TRNPQu2btbbFVVHMqcHsj3yCuS\"})   # replace the id with id of file you want to access\n",
        "downloaded2.GetContentFile('glove.twitter.27B.200d.txt')                             # replace the filename of file you want to access   "
      ],
      "execution_count": 24,
      "outputs": []
    },
    {
      "cell_type": "code",
      "metadata": {
        "id": "mMwja2QLkZ99",
        "colab_type": "code",
        "colab": {}
      },
      "source": [
        "embeddings_dictionary = dict()\n",
        "glove_file = open('glove.twitter.27B.200d.txt', encoding=\"utf8\")"
      ],
      "execution_count": 25,
      "outputs": []
    },
    {
      "cell_type": "code",
      "metadata": {
        "id": "IR-DYysrl80g",
        "colab_type": "code",
        "colab": {}
      },
      "source": [
        "from numpy import array\n",
        "from numpy import asarray\n",
        "from numpy import zeros\n",
        "\n",
        "for line in glove_file:\n",
        "    records = line.split()\n",
        "    word = records[0]\n",
        "    vector_dimensions = asarray(records[1:], dtype='float32')\n",
        "    \n",
        "    embeddings_dictionary [word] = vector_dimensions\n",
        "\n",
        "glove_file.close()"
      ],
      "execution_count": 26,
      "outputs": []
    },
    {
      "cell_type": "code",
      "metadata": {
        "id": "b6LE4atAmAid",
        "colab_type": "code",
        "colab": {}
      },
      "source": [
        "embedding_dim = 200\n",
        "embedding_matrix = zeros((top_word, embedding_dim))\n",
        "for word, index in tokenizer.word_index.items():\n",
        "    embedding_vector = embeddings_dictionary.get(word)\n",
        "    if embedding_vector is not None:\n",
        "        embedding_matrix[index] = embedding_vector"
      ],
      "execution_count": 27,
      "outputs": []
    },
    {
      "cell_type": "markdown",
      "metadata": {
        "id": "BxjIgytUm9gk",
        "colab_type": "text"
      },
      "source": [
        "# LSTM Model"
      ]
    },
    {
      "cell_type": "code",
      "metadata": {
        "id": "gWA8cx9DnA71",
        "colab_type": "code",
        "colab": {}
      },
      "source": [
        "from keras.models import Sequential\n",
        "from keras.models import Model\n",
        "from keras.layers import Dense, Dropout, Embedding, LSTM, Input, Conv2D, MaxPooling2D,Conv1D,MaxPooling1D\n",
        "from keras.layers import Bidirectional,  Reshape, Flatten, GRU\n",
        "from keras.layers.merge import concatenate\n",
        "from keras.optimizers import Adam\n",
        "from keras.callbacks import EarlyStopping, ReduceLROnPlateau"
      ],
      "execution_count": 28,
      "outputs": []
    },
    {
      "cell_type": "markdown",
      "metadata": {
        "id": "zomaxM-IpwrY",
        "colab_type": "text"
      },
      "source": [
        "## Model 1 - 'Text' Augmented with GPT-2"
      ]
    },
    {
      "cell_type": "code",
      "metadata": {
        "id": "6odO6k5MhoFj",
        "colab_type": "code",
        "colab": {
          "base_uri": "https://localhost:8080/",
          "height": 550
        },
        "outputId": "f62c9e53-d30e-4e1a-f1a3-499fa27fa4ab"
      },
      "source": [
        "# Defining the LSTM model 1\n",
        "\n",
        "input1 = Input(shape=(max_words,))\n",
        "embedding_layer1 = Embedding(top_word, embedding_dim, weights=[embedding_matrix], input_length=max_words, trainable=False)(input1)\n",
        "dropout1 = Dropout(0.2)(embedding_layer1)\n",
        "lstm1_1 = LSTM(128,return_sequences = True)(dropout1)\n",
        "lstm1_2 = LSTM(128,return_sequences = True)(lstm1_1)\n",
        "lstm1_2a = LSTM(128,return_sequences = True)(lstm1_2)\n",
        "lstm1_3 = LSTM(128)(lstm1_2a)\n",
        "\n",
        "# input2 = Input(shape=(max_words_key,))\n",
        "# embedding_layer2 = Embedding(top_word, embedding_dim, weights=[embedding_matrix], input_length=max_words_key, trainable=False)(input2)\n",
        "# dropout2 = Dropout(0.2)(embedding_layer2)\n",
        "# lstm2_1 = LSTM(64,return_sequences = True)(dropout2)\n",
        "# lstm2_2 = LSTM(64,return_sequences = True)(lstm2_1)\n",
        "# lstm2_3 = LSTM(64)(lstm2_2)\n",
        "\n",
        "# input3 = Input(shape=(max_words_loc,))\n",
        "# embedding_layer3 = Embedding(top_word, embedding_dim, weights=[embedding_matrix], input_length=max_words_loc, trainable=False)(input3)\n",
        "# dropout3 = Dropout(0.2)(embedding_layer3)\n",
        "# lstm3_1 = LSTM(32,return_sequences = True)(dropout3)\n",
        "# lstm3_2 = LSTM(32,return_sequences = True)(lstm3_1)\n",
        "# lstm3_3 = LSTM(32)(lstm3_2)\n",
        "\n",
        "# mlp = create_mlp(continuous_shape,log_regress=False)\n",
        "\n",
        "# merge = concatenate([lstm1_3, lstm2_3,lstm3_3,mlp.output])\n",
        "\n",
        "dropout = Dropout(0.8)(lstm1_3)\n",
        "dense1 = Dense(256, activation='relu')(dropout)\n",
        "dense2 = Dense(128, activation='relu')(dense1)\n",
        "output = Dense(2, activation='softmax')(dense2)\n",
        "model1 = Model(inputs=input1, outputs=output)\n",
        "model1.summary()"
      ],
      "execution_count": 29,
      "outputs": [
        {
          "output_type": "stream",
          "text": [
            "Model: \"functional_1\"\n",
            "_________________________________________________________________\n",
            "Layer (type)                 Output Shape              Param #   \n",
            "=================================================================\n",
            "input_1 (InputLayer)         [(None, 48)]              0         \n",
            "_________________________________________________________________\n",
            "embedding (Embedding)        (None, 48, 200)           8000000   \n",
            "_________________________________________________________________\n",
            "dropout (Dropout)            (None, 48, 200)           0         \n",
            "_________________________________________________________________\n",
            "lstm (LSTM)                  (None, 48, 128)           168448    \n",
            "_________________________________________________________________\n",
            "lstm_1 (LSTM)                (None, 48, 128)           131584    \n",
            "_________________________________________________________________\n",
            "lstm_2 (LSTM)                (None, 48, 128)           131584    \n",
            "_________________________________________________________________\n",
            "lstm_3 (LSTM)                (None, 128)               131584    \n",
            "_________________________________________________________________\n",
            "dropout_1 (Dropout)          (None, 128)               0         \n",
            "_________________________________________________________________\n",
            "dense (Dense)                (None, 256)               33024     \n",
            "_________________________________________________________________\n",
            "dense_1 (Dense)              (None, 128)               32896     \n",
            "_________________________________________________________________\n",
            "dense_2 (Dense)              (None, 2)                 258       \n",
            "=================================================================\n",
            "Total params: 8,629,378\n",
            "Trainable params: 629,378\n",
            "Non-trainable params: 8,000,000\n",
            "_________________________________________________________________\n"
          ],
          "name": "stdout"
        }
      ]
    },
    {
      "cell_type": "markdown",
      "metadata": {
        "id": "ROz4GYOG0Ext",
        "colab_type": "text"
      },
      "source": [
        "### Optimizer"
      ]
    },
    {
      "cell_type": "code",
      "metadata": {
        "id": "YfRT8N_qh-Si",
        "colab_type": "code",
        "colab": {}
      },
      "source": [
        "from keras.optimizers import Adam\n",
        "\n",
        "optimizer1 = Adam(lr = .0001, beta_1 = .9, beta_2 = .999, epsilon = 1e-10, decay = .0, amsgrad = False)\n",
        "model1.compile(loss=\"binary_crossentropy\", optimizer=optimizer1,\n",
        "              metrics=[\"accuracy\"])\n"
      ],
      "execution_count": 30,
      "outputs": []
    },
    {
      "cell_type": "markdown",
      "metadata": {
        "id": "ygPgr54C0Hze",
        "colab_type": "text"
      },
      "source": [
        "### Training"
      ]
    },
    {
      "cell_type": "code",
      "metadata": {
        "id": "npv5TchGpC8J",
        "colab_type": "code",
        "colab": {
          "base_uri": "https://localhost:8080/",
          "height": 461
        },
        "outputId": "66ede962-d5bc-4c37-fe69-67b0c19f2acf"
      },
      "source": [
        "from keras.callbacks import EarlyStopping, ReduceLROnPlateau\n",
        "es = EarlyStopping(monitor='val_loss', mode='min',verbose=1, patience = 4)\n",
        "learning_rate_reduction = ReduceLROnPlateau(monitor = 'val_accuracy', patience = 2, verbose = 1, \n",
        "                                           factor = 0.5, min_lr = 1e-8, cooldown=1)\n",
        "\n",
        "prueba  = model1.fit(x_train, y_train, validation_split=0.2, epochs=20, batch_size=16, verbose=2, callbacks=[es, learning_rate_reduction])"
      ],
      "execution_count": 31,
      "outputs": [
        {
          "output_type": "stream",
          "text": [
            "Epoch 1/20\n",
            "578/578 - 117s - loss: 0.5567 - accuracy: 0.7243 - val_loss: 0.5825 - val_accuracy: 0.7118\n",
            "Epoch 2/20\n",
            "578/578 - 112s - loss: 0.4958 - accuracy: 0.7788 - val_loss: 0.5748 - val_accuracy: 0.7109\n",
            "Epoch 3/20\n",
            "578/578 - 116s - loss: 0.4832 - accuracy: 0.7818 - val_loss: 0.5759 - val_accuracy: 0.7213\n",
            "Epoch 4/20\n",
            "578/578 - 116s - loss: 0.4746 - accuracy: 0.7844 - val_loss: 0.5867 - val_accuracy: 0.7084\n",
            "Epoch 5/20\n",
            "\n",
            "Epoch 00005: ReduceLROnPlateau reducing learning rate to 4.999999873689376e-05.\n",
            "578/578 - 117s - loss: 0.4697 - accuracy: 0.7905 - val_loss: 0.5694 - val_accuracy: 0.7157\n",
            "Epoch 6/20\n",
            "578/578 - 118s - loss: 0.4572 - accuracy: 0.7928 - val_loss: 0.5754 - val_accuracy: 0.7187\n",
            "Epoch 7/20\n",
            "\n",
            "Epoch 00007: ReduceLROnPlateau reducing learning rate to 2.499999936844688e-05.\n",
            "578/578 - 117s - loss: 0.4522 - accuracy: 0.7959 - val_loss: 0.5707 - val_accuracy: 0.7174\n",
            "Epoch 8/20\n",
            "578/578 - 114s - loss: 0.4426 - accuracy: 0.7974 - val_loss: 0.5773 - val_accuracy: 0.7135\n",
            "Epoch 9/20\n",
            "\n",
            "Epoch 00009: ReduceLROnPlateau reducing learning rate to 1.249999968422344e-05.\n",
            "578/578 - 114s - loss: 0.4402 - accuracy: 0.8012 - val_loss: 0.5814 - val_accuracy: 0.7079\n",
            "Epoch 00009: early stopping\n"
          ],
          "name": "stdout"
        }
      ]
    },
    {
      "cell_type": "markdown",
      "metadata": {
        "id": "EnvrBsUVrjGy",
        "colab_type": "text"
      },
      "source": [
        "### Plotting results"
      ]
    },
    {
      "cell_type": "code",
      "metadata": {
        "id": "avWQdMO1rmUP",
        "colab_type": "code",
        "colab": {}
      },
      "source": [
        "#Function to plot loss + accuracy in training and validation sets\n",
        "\n",
        "def result_eva (loss,val_loss,acc,val_acc):\n",
        "       \n",
        "    epochs = range(1,len(loss)+1)\n",
        "    plt.plot(epochs, loss,'b-o', label ='Training Loss')\n",
        "    plt.plot(epochs, val_loss,'r-o', label ='Validation Loss')\n",
        "    plt.title(\"Training and Validation Loss\")\n",
        "    plt.xlabel('Epochs')\n",
        "    plt.ylabel('Loss')\n",
        "    plt.legend()\n",
        "    plt.show()\n",
        "    \n",
        "    epochs = range(1, len(acc)+1)\n",
        "    plt.plot(epochs, acc, \"b-o\", label=\"Training Acc\")\n",
        "    plt.plot(epochs, val_acc, \"r-o\", label=\"Validation Acc\")\n",
        "    plt.title(\"Training and Validation Accuracy\")\n",
        "    plt.xlabel(\"Epochs\")\n",
        "    plt.ylabel(\"Accuracy\")\n",
        "    plt.legend()\n",
        "    plt.show()"
      ],
      "execution_count": 32,
      "outputs": []
    },
    {
      "cell_type": "code",
      "metadata": {
        "id": "VdDJyZr6rtNm",
        "colab_type": "code",
        "colab": {
          "base_uri": "https://localhost:8080/",
          "height": 573
        },
        "outputId": "3aec4cd4-fc0f-4504-9c8f-563064ff5e88"
      },
      "source": [
        "result_eva(prueba.history['loss'], prueba.history['val_loss'], prueba.history['accuracy'], prueba.history['val_accuracy'])"
      ],
      "execution_count": 33,
      "outputs": [
        {
          "output_type": "display_data",
          "data": {
            "image/png": "[encoded data removed]",
            "text/plain": [
              "<Figure size 432x288 with 1 Axes>"
            ]
          },
          "metadata": {
            "tags": [],
            "needs_background": "light"
          }
        },
        {
          "output_type": "display_data",
          "data": {
            "image/png": "[encoded data removed]",
            "text/plain": [
              "<Figure size 432x288 with 1 Axes>"
            ]
          },
          "metadata": {
            "tags": [],
            "needs_background": "light"
          }
        }
      ]
    },
    {
      "cell_type": "markdown",
      "metadata": {
        "id": "GRgvxtIrxnlI",
        "colab_type": "text"
      },
      "source": [
        "### Predicting"
      ]
    },
    {
      "cell_type": "code",
      "metadata": {
        "id": "4A8gole4fQ4q",
        "colab_type": "code",
        "colab": {
          "base_uri": "https://localhost:8080/",
          "height": 34
        },
        "outputId": "a39fa329-3662-4dc0-ecfe-e2b5f1694b5f"
      },
      "source": [
        "#Predicting test data\n",
        "\n",
        "y_pred = model1.predict([x_test_txt,x_test_key,x_test_loc,x_test_continuous], batch_size=16, verbose=2)"
      ],
      "execution_count": null,
      "outputs": [
        {
          "output_type": "stream",
          "text": [
            "204/204 - 13s\n"
          ],
          "name": "stdout"
        }
      ]
    },
    {
      "cell_type": "code",
      "metadata": {
        "id": "rgijxuZQstQ4",
        "colab_type": "code",
        "colab": {}
      },
      "source": [
        "y_pred = np.argmax(y_pred,axis=1)"
      ],
      "execution_count": null,
      "outputs": []
    },
    {
      "cell_type": "markdown",
      "metadata": {
        "id": "_IGqm9_ZxsfW",
        "colab_type": "text"
      },
      "source": [
        "### Creating df for make the submission"
      ]
    },
    {
      "cell_type": "code",
      "metadata": {
        "id": "oE3cNOCQ2SpV",
        "colab_type": "code",
        "colab": {}
      },
      "source": [
        "df = pd.DataFrame()\n",
        "df['id'] = [int(x) for x in id_test.values]\n",
        "df['target'] = y_pred\n"
      ],
      "execution_count": null,
      "outputs": []
    },
    {
      "cell_type": "code",
      "metadata": {
        "id": "ma-5pF752tfa",
        "colab_type": "code",
        "colab": {
          "base_uri": "https://localhost:8080/",
          "height": 16
        },
        "outputId": "04071c6e-4ad8-45f6-acef-4cc57d621d9d"
      },
      "source": [
        "from google.colab import files\n",
        "df.to_csv('29.submit.csv', index=False)\n",
        "files.download('29.submit.csv')"
      ],
      "execution_count": null,
      "outputs": [
        {
          "output_type": "display_data",
          "data": {
            "application/javascript": [
              "\n",
              "    async function download(id, filename, size) {\n",
              "      if (!google.colab.kernel.accessAllowed) {\n",
              "        return;\n",
              "      }\n",
              "      const div = document.createElement('div');\n",
              "      const label = document.createElement('label');\n",
              "      label.textContent = `Downloading \"${filename}\": `;\n",
              "      div.appendChild(label);\n",
              "      const progress = document.createElement('progress');\n",
              "      progress.max = size;\n",
              "      div.appendChild(progress);\n",
              "      document.body.appendChild(div);\n",
              "\n",
              "      const buffers = [];\n",
              "      let downloaded = 0;\n",
              "\n",
              "      const channel = await google.colab.kernel.comms.open(id);\n",
              "      // Send a message to notify the kernel that we're ready.\n",
              "      channel.send({})\n",
              "\n",
              "      for await (const message of channel.messages) {\n",
              "        // Send a message to notify the kernel that we're ready.\n",
              "        channel.send({})\n",
              "        if (message.buffers) {\n",
              "          for (const buffer of message.buffers) {\n",
              "            buffers.push(buffer);\n",
              "            downloaded += buffer.byteLength;\n",
              "            progress.value = downloaded;\n",
              "          }\n",
              "        }\n",
              "      }\n",
              "      const blob = new Blob(buffers, {type: 'application/binary'});\n",
              "      const a = document.createElement('a');\n",
              "      a.href = window.URL.createObjectURL(blob);\n",
              "      a.download = filename;\n",
              "      div.appendChild(a);\n",
              "      a.click();\n",
              "      div.remove();\n",
              "    }\n",
              "  "
            ],
            "text/plain": [
              "<IPython.core.display.Javascript object>"
            ]
          },
          "metadata": {
            "tags": []
          }
        },
        {
          "output_type": "display_data",
          "data": {
            "application/javascript": [
              "download(\"download_4c6938de-ad94-44cb-9eeb-70eaaf2aa578\", \"29.submit.csv\", 22746)"
            ],
            "text/plain": [
              "<IPython.core.display.Javascript object>"
            ]
          },
          "metadata": {
            "tags": []
          }
        }
      ]
    },
    {
      "cell_type": "markdown",
      "metadata": {
        "id": "_5uUuLexyB1o",
        "colab_type": "text"
      },
      "source": [
        "## Model 2 - LSTM+CNN with Data Augmentation - in Kaggle  0.80845\n",
        "\n"
      ]
    },
    {
      "cell_type": "code",
      "metadata": {
        "id": "Qs95kPjMyEfi",
        "colab_type": "code",
        "colab": {
          "base_uri": "https://localhost:8080/",
          "height": 621
        },
        "outputId": "566654cb-0d6c-48a2-f441-027666b0fd90"
      },
      "source": [
        "input1 = Input(shape=(max_words,))\n",
        "embedding_layer1 = Embedding(top_word, embedding_dim, weights=[embedding_matrix], input_length=max_words, trainable=False)(input1)\n",
        "lstm1_1 = Bidirectional(LSTM(100, return_sequences=True,dropout = 0.2))(embedding_layer1)\n",
        "lstm1_1a = Bidirectional(LSTM(100, return_sequences=True,dropout = 0.2))(lstm1_1)\n",
        "lstm1_1b = Bidirectional(LSTM(100, return_sequences=True,dropout = 0.2))(lstm1_1a)\n",
        "res = Reshape((-1, x_train.shape[1], 100))(lstm1_1b)\n",
        "conv1 = Conv2D(100, (3,3), padding='same',activation=\"relu\")(res)\n",
        "pool1 = MaxPooling2D(pool_size=(2,2))(conv1)\n",
        "flat1 = Flatten()(pool1)\n",
        "\n",
        "# input2 = Input(shape=(max_words_key,))\n",
        "# embedding_layer2 = Embedding(top_word, embedding_dim, weights=[embedding_matrix], input_length=max_words_key, trainable=False)(input2)\n",
        "# lstm2_1 = Bidirectional(LSTM(200, return_sequences=True,dropout = 0.2))(embedding_layer2)\n",
        "# lstm2_1a = Bidirectional(LSTM(200, return_sequences=True,dropout = 0.2))(lstm2_1)\n",
        "# lstm2_1b = Bidirectional(LSTM(200, return_sequences=True,dropout = 0.2))(lstm2_1a)\n",
        "# res2 = Reshape((-1, x_train_key.shape[1], 200))(lstm2_1b)\n",
        "# conv2 = Conv2D(200, (3,3), padding='same',activation=\"relu\")(res2)\n",
        "# pool2 = MaxPooling2D(pool_size=(2,2))(conv2)\n",
        "# flat2 = Flatten()(pool2)\n",
        "\n",
        "# input3 = Input(shape=(max_words_loc,))\n",
        "# embedding_layer3 = Embedding(top_word, embedding_dim, weights=[embedding_matrix], input_length=max_words_loc, trainable=False)(input3)\n",
        "# lstm3_1 = Bidirectional(LSTM(200, return_sequences=True,dropout = 0.2))(embedding_layer3)\n",
        "# lstm3_1a = Bidirectional(LSTM(200, return_sequences=True,dropout = 0.2))(lstm3_1)\n",
        "# lstm3_1b = Bidirectional(LSTM(200, return_sequences=True,dropout = 0.2))(lstm3_1a)\n",
        "# res3 = Reshape((-1, x_train_loc.shape[1], 200))(lstm3_1b)\n",
        "# conv3 = Conv2D(200, (3,3), padding='same',activation=\"relu\")(res3)\n",
        "# pool3 = MaxPooling2D(pool_size=(2,2))(conv3)\n",
        "# flat3 = Flatten()(pool3)\n",
        "\n",
        "# mlp = create_mlp(continuous_shape,log_regress=False)\n",
        "\n",
        "# merge = concatenate([flat1, flat2, flat3, mlp.output])\n",
        "\n",
        "dropout = Dropout(0.4)(flat1)\n",
        "dense1 = Dense(256, activation='relu')(dropout)\n",
        "dense2 = Dense(128, activation='relu')(dense1)\n",
        "output = Dense(2, activation='softmax')(dense2)\n",
        "model2 = Model(inputs=input1, outputs=output)\n",
        "model2.summary()"
      ],
      "execution_count": 35,
      "outputs": [
        {
          "output_type": "stream",
          "text": [
            "Model: \"functional_3\"\n",
            "_________________________________________________________________\n",
            "Layer (type)                 Output Shape              Param #   \n",
            "=================================================================\n",
            "input_3 (InputLayer)         [(None, 48)]              0         \n",
            "_________________________________________________________________\n",
            "embedding_2 (Embedding)      (None, 48, 200)           8000000   \n",
            "_________________________________________________________________\n",
            "bidirectional_3 (Bidirection (None, 48, 200)           240800    \n",
            "_________________________________________________________________\n",
            "bidirectional_4 (Bidirection (None, 48, 200)           240800    \n",
            "_________________________________________________________________\n",
            "bidirectional_5 (Bidirection (None, 48, 200)           240800    \n",
            "_________________________________________________________________\n",
            "reshape_1 (Reshape)          (None, 2, 48, 100)        0         \n",
            "_________________________________________________________________\n",
            "conv2d_1 (Conv2D)            (None, 2, 48, 100)        90100     \n",
            "_________________________________________________________________\n",
            "max_pooling2d_1 (MaxPooling2 (None, 1, 24, 100)        0         \n",
            "_________________________________________________________________\n",
            "flatten (Flatten)            (None, 2400)              0         \n",
            "_________________________________________________________________\n",
            "dropout_2 (Dropout)          (None, 2400)              0         \n",
            "_________________________________________________________________\n",
            "dense_3 (Dense)              (None, 256)               614656    \n",
            "_________________________________________________________________\n",
            "dense_4 (Dense)              (None, 128)               32896     \n",
            "_________________________________________________________________\n",
            "dense_5 (Dense)              (None, 2)                 258       \n",
            "=================================================================\n",
            "Total params: 9,460,310\n",
            "Trainable params: 1,460,310\n",
            "Non-trainable params: 8,000,000\n",
            "_________________________________________________________________\n"
          ],
          "name": "stdout"
        }
      ]
    },
    {
      "cell_type": "code",
      "metadata": {
        "id": "Hz7SAlWxzN87",
        "colab_type": "code",
        "colab": {}
      },
      "source": [
        "from keras.optimizers import Adam\n",
        "\n",
        "optimizer2 = Adam(lr = .0001, beta_1 = .9, beta_2 = .999, epsilon = 1e-10, decay = .0, amsgrad = False)"
      ],
      "execution_count": 36,
      "outputs": []
    },
    {
      "cell_type": "code",
      "metadata": {
        "id": "wn2rEWqSzliO",
        "colab_type": "code",
        "colab": {}
      },
      "source": [
        "model2.compile(loss=\"binary_crossentropy\", optimizer=optimizer2,\n",
        "              metrics=[\"accuracy\"])"
      ],
      "execution_count": 37,
      "outputs": []
    },
    {
      "cell_type": "code",
      "metadata": {
        "id": "xF_xXi5Jzn4J",
        "colab_type": "code",
        "colab": {
          "base_uri": "https://localhost:8080/",
          "height": 178
        },
        "outputId": "a9e9b195-eb15-4831-f4c3-319a49ecdaea"
      },
      "source": [
        "from keras.callbacks import EarlyStopping, ReduceLROnPlateau\n",
        "es = EarlyStopping(monitor='val_loss', mode='min',verbose=1, patience = 4)\n",
        "learning_rate_reduction = ReduceLROnPlateau(monitor = 'val_accuracy', patience = 2, verbose = 1, \n",
        "                                           factor = 0.5, min_lr = 1e-8, cooldown=1)\n",
        "\n",
        "prueba2 = model2.fit(x_train, y_train, validation_split=0.2, epochs=20, batch_size=18, verbose=2, callbacks=[es, learning_rate_reduction])"
      ],
      "execution_count": 43,
      "outputs": [
        {
          "output_type": "stream",
          "text": [
            "WARNING:tensorflow:From /usr/local/lib/python3.6/dist-packages/tensorflow/python/ops/summary_ops_v2.py:1277: stop (from tensorflow.python.eager.profiler) is deprecated and will be removed after 2020-07-01.\n",
            "Instructions for updating:\n",
            "use `tf.profiler.experimental.stop` instead.\n",
            "\n",
            "Epoch 00004: ReduceLROnPlateau reducing learning rate to 4.999999873689376e-05.\n",
            "\n",
            "Epoch 00006: ReduceLROnPlateau reducing learning rate to 2.499999936844688e-05.\n",
            "Epoch 00007: early stopping\n"
          ],
          "name": "stdout"
        }
      ]
    },
    {
      "cell_type": "code",
      "metadata": {
        "id": "UzLxQsv00Wo1",
        "colab_type": "code",
        "colab": {
          "base_uri": "https://localhost:8080/",
          "height": 573
        },
        "outputId": "2f622903-14e6-45b4-e4f6-6540da4efa03"
      },
      "source": [
        "result_eva(prueba2.history['loss'], prueba2.history['val_loss'], prueba2.history['accuracy'], prueba2.history['val_accuracy'])"
      ],
      "execution_count": 46,
      "outputs": [
        {
          "output_type": "display_data",
          "data": {
            "image/png": "[encoded data removed]",
            "text/plain": [
              "<Figure size 432x288 with 1 Axes>"
            ]
          },
          "metadata": {
            "tags": [],
            "needs_background": "light"
          }
        },
        {
          "output_type": "display_data",
          "data": {
            "image/png": "[encoded data removed]",
            "text/plain": [
              "<Figure size 432x288 with 1 Axes>"
            ]
          },
          "metadata": {
            "tags": [],
            "needs_background": "light"
          }
        }
      ]
    },
    {
      "cell_type": "code",
      "metadata": {
        "id": "CITB_YwL2DyF",
        "colab_type": "code",
        "colab": {
          "base_uri": "https://localhost:8080/",
          "height": 34
        },
        "outputId": "e0f6c30b-ae4c-4f69-aa61-d648d2569085"
      },
      "source": [
        "#Predicting test data\n",
        "\n",
        "y_pred = model2.predict(x_test, batch_size=16, verbose=2)"
      ],
      "execution_count": 51,
      "outputs": [
        {
          "output_type": "stream",
          "text": [
            "204/204 - 13s\n"
          ],
          "name": "stdout"
        }
      ]
    },
    {
      "cell_type": "code",
      "metadata": {
        "id": "G90dzdjw2UK2",
        "colab_type": "code",
        "colab": {}
      },
      "source": [
        "y_pred = np.argmax(y_pred,axis=1)"
      ],
      "execution_count": 52,
      "outputs": []
    },
    {
      "cell_type": "code",
      "metadata": {
        "id": "iQ42xFNb2VK2",
        "colab_type": "code",
        "colab": {}
      },
      "source": [
        "df = pd.DataFrame()\n",
        "df['id'] = [int(x) for x in id_test.values]\n",
        "df['target'] = y_pred\n",
        "df.to_csv('33.submit.csv', index=False)"
      ],
      "execution_count": 53,
      "outputs": []
    },
    {
      "cell_type": "code",
      "metadata": {
        "id": "HN8xADOiv81z",
        "colab_type": "code",
        "colab": {
          "base_uri": "https://localhost:8080/",
          "height": 16
        },
        "outputId": "d95fb279-4da8-4549-cfc6-8476e502376d"
      },
      "source": [
        "from google.colab import files\n",
        "files.download('33.submit.csv')"
      ],
      "execution_count": 54,
      "outputs": [
        {
          "output_type": "display_data",
          "data": {
            "application/javascript": [
              "\n",
              "    async function download(id, filename, size) {\n",
              "      if (!google.colab.kernel.accessAllowed) {\n",
              "        return;\n",
              "      }\n",
              "      const div = document.createElement('div');\n",
              "      const label = document.createElement('label');\n",
              "      label.textContent = `Downloading \"${filename}\": `;\n",
              "      div.appendChild(label);\n",
              "      const progress = document.createElement('progress');\n",
              "      progress.max = size;\n",
              "      div.appendChild(progress);\n",
              "      document.body.appendChild(div);\n",
              "\n",
              "      const buffers = [];\n",
              "      let downloaded = 0;\n",
              "\n",
              "      const channel = await google.colab.kernel.comms.open(id);\n",
              "      // Send a message to notify the kernel that we're ready.\n",
              "      channel.send({})\n",
              "\n",
              "      for await (const message of channel.messages) {\n",
              "        // Send a message to notify the kernel that we're ready.\n",
              "        channel.send({})\n",
              "        if (message.buffers) {\n",
              "          for (const buffer of message.buffers) {\n",
              "            buffers.push(buffer);\n",
              "            downloaded += buffer.byteLength;\n",
              "            progress.value = downloaded;\n",
              "          }\n",
              "        }\n",
              "      }\n",
              "      const blob = new Blob(buffers, {type: 'application/binary'});\n",
              "      const a = document.createElement('a');\n",
              "      a.href = window.URL.createObjectURL(blob);\n",
              "      a.download = filename;\n",
              "      div.appendChild(a);\n",
              "      a.click();\n",
              "      div.remove();\n",
              "    }\n",
              "  "
            ],
            "text/plain": [
              "<IPython.core.display.Javascript object>"
            ]
          },
          "metadata": {
            "tags": []
          }
        },
        {
          "output_type": "display_data",
          "data": {
            "application/javascript": [
              "download(\"download_ef7d39a5-fe42-414e-b862-b6d0209a6ac5\", \"33.submit.csv\", 22746)"
            ],
            "text/plain": [
              "<IPython.core.display.Javascript object>"
            ]
          },
          "metadata": {
            "tags": []
          }
        }
      ]
    }
  ]
}