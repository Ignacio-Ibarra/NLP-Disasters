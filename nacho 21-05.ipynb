{
  "nbformat": 4,
  "nbformat_minor": 0,
  "metadata": {
    "colab": {
      "name": "Copy of Copia_de_TP1_cambios_v4.ipynb",
      "provenance": [],
      "collapsed_sections": [
        "1TViThuFzIpn",
        "eEdGGvBGamx1"
      ],
      "include_colab_link": true
    },
    "kernelspec": {
      "name": "python3",
      "display_name": "Python 3"
    }
  },
  "cells": [
    {
      "cell_type": "markdown",
      "metadata": {
        "id": "view-in-github",
        "colab_type": "text"
      },
      "source": [
        "<a href=\"https://colab.research.google.com/github/Ignacio-Ibarra/NLP-Disasters/blob/master/Copia_de_TP1_cambios_v4.ipynb\" target=\"_parent\"><img src=\"https://colab.research.google.com/assets/colab-badge.svg\" alt=\"Open In Colab\"/></a>"
      ]
    },
    {
      "cell_type": "markdown",
      "metadata": {
        "id": "YJlc0AI_QZYr",
        "colab_type": "text"
      },
      "source": [
        "# Librerias\n"
      ]
    },
    {
      "cell_type": "code",
      "metadata": {
        "id": "AD5hp2AiNQDz",
        "colab_type": "code",
        "outputId": "beff8261-c587-4adf-c93c-1bd5942b73f4",
        "colab": {
          "base_uri": "https://localhost:8080/",
          "height": 196
        }
      },
      "source": [
        "import pandas as pd\n",
        "import numpy as np\n",
        "import matplotlib.pyplot as plt\n",
        "import seaborn as sns\n",
        "plt.style.use('ggplot')\n",
        "from wordcloud import WordCloud\n",
        "import PIL\n",
        "import itertools\n",
        "from collections import defaultdict\n",
        "import nltk\n",
        "nltk.download('stopwords')\n",
        "from nltk.corpus import stopwords\n",
        "stop=set(stopwords.words('english'))\n",
        "from nltk.tokenize import word_tokenize\n",
        "nltk.download('punkt')\n",
        "nltk.download('averaged_perceptron_tagger')\n",
        "import string\n",
        "import re\n",
        "from PIL import Image    # to import the image\n",
        "from google.colab import files\n",
        "from nltk.util import ngrams # function for making ngrams\n",
        "import collections\n",
        "\n",
        "sns.set_context('paper',font_scale=1.5)\n",
        "\n",
        "\n",
        "\n",
        "\n",
        "%matplotlib inline\n",
        "\n",
        "#para suprimir notacion cientifica en los outputs\n",
        "pd.options.display.float_format='{:20,.2f}'.format\n",
        "\n",
        "import warnings\n",
        "warnings.filterwarnings('ignore')"
      ],
      "execution_count": 3,
      "outputs": [
        {
          "output_type": "stream",
          "text": [
            "/usr/local/lib/python3.6/dist-packages/statsmodels/tools/_testing.py:19: FutureWarning: pandas.util.testing is deprecated. Use the functions in the public API at pandas.testing instead.\n",
            "  import pandas.util.testing as tm\n"
          ],
          "name": "stderr"
        },
        {
          "output_type": "stream",
          "text": [
            "[nltk_data] Downloading package stopwords to /root/nltk_data...\n",
            "[nltk_data]   Unzipping corpora/stopwords.zip.\n",
            "[nltk_data] Downloading package punkt to /root/nltk_data...\n",
            "[nltk_data]   Unzipping tokenizers/punkt.zip.\n",
            "[nltk_data] Downloading package averaged_perceptron_tagger to\n",
            "[nltk_data]     /root/nltk_data...\n",
            "[nltk_data]   Unzipping taggers/averaged_perceptron_tagger.zip.\n"
          ],
          "name": "stdout"
        }
      ]
    },
    {
      "cell_type": "markdown",
      "metadata": {
        "id": "PAUmA9iHTe--",
        "colab_type": "text"
      },
      "source": [
        "# Google Drive"
      ]
    },
    {
      "cell_type": "code",
      "metadata": {
        "id": "BI1kyzzgSAbM",
        "colab_type": "code",
        "colab": {}
      },
      "source": [
        "# Code to read csv file into Colaboratory:\n",
        "!pip install -U -q PyDrive\n",
        "from pydrive.auth import GoogleAuth\n",
        "from pydrive.drive import GoogleDrive\n",
        "from google.colab import auth\n",
        "from oauth2client.client import GoogleCredentials\n",
        "\n",
        "# Authenticate and create the PyDrive client.\n",
        "auth.authenticate_user()\n",
        "gauth = GoogleAuth()\n",
        "gauth.credentials = GoogleCredentials.get_application_default()\n",
        "drive = GoogleDrive(gauth)"
      ],
      "execution_count": 0,
      "outputs": []
    },
    {
      "cell_type": "code",
      "metadata": {
        "id": "4Ui6ouJ_SVwz",
        "colab_type": "code",
        "outputId": "cb182f60-6451-476d-b339-ec86b307d1f7",
        "colab": {
          "base_uri": "https://localhost:8080/",
          "height": 34
        }
      },
      "source": [
        "link='https://drive.google.com/open?id=1Wuo42Fju9VOh2m5PV7q95TTUAIkrEwDD'\n",
        "fluff, id = link.split('=')\n",
        "print (id) # Verify that you have everything after '='"
      ],
      "execution_count": 5,
      "outputs": [
        {
          "output_type": "stream",
          "text": [
            "1Wuo42Fju9VOh2m5PV7q95TTUAIkrEwDD\n"
          ],
          "name": "stdout"
        }
      ]
    },
    {
      "cell_type": "code",
      "metadata": {
        "id": "_FljNTbTSigo",
        "colab_type": "code",
        "colab": {}
      },
      "source": [
        "downloaded = drive.CreateFile({'id':id}) \n",
        "downloaded.GetContentFile('train.csv')"
      ],
      "execution_count": 0,
      "outputs": []
    },
    {
      "cell_type": "markdown",
      "metadata": {
        "id": "mkZHvF9eSUqL",
        "colab_type": "text"
      },
      "source": [
        "# Carga DF"
      ]
    },
    {
      "cell_type": "code",
      "metadata": {
        "id": "AHLtylTOSxYC",
        "colab_type": "code",
        "outputId": "891c87ae-2d1d-4da2-9f16-1bd8c1e8cdf6",
        "colab": {
          "base_uri": "https://localhost:8080/",
          "height": 347
        }
      },
      "source": [
        "#Loading 'train.csv' into DataFrame\n",
        "train=pd.read_csv('train.csv')\n",
        "train.head(10) #Let's have a first view of the DataFrame"
      ],
      "execution_count": 7,
      "outputs": [
        {
          "output_type": "execute_result",
          "data": {
            "text/html": [
              "<div>\n",
              "<style scoped>\n",
              "    .dataframe tbody tr th:only-of-type {\n",
              "        vertical-align: middle;\n",
              "    }\n",
              "\n",
              "    .dataframe tbody tr th {\n",
              "        vertical-align: top;\n",
              "    }\n",
              "\n",
              "    .dataframe thead th {\n",
              "        text-align: right;\n",
              "    }\n",
              "</style>\n",
              "<table border=\"1\" class=\"dataframe\">\n",
              "  <thead>\n",
              "    <tr style=\"text-align: right;\">\n",
              "      <th></th>\n",
              "      <th>id</th>\n",
              "      <th>keyword</th>\n",
              "      <th>location</th>\n",
              "      <th>text</th>\n",
              "      <th>target</th>\n",
              "    </tr>\n",
              "  </thead>\n",
              "  <tbody>\n",
              "    <tr>\n",
              "      <th>0</th>\n",
              "      <td>1</td>\n",
              "      <td>NaN</td>\n",
              "      <td>NaN</td>\n",
              "      <td>Our Deeds are the Reason of this #earthquake M...</td>\n",
              "      <td>1</td>\n",
              "    </tr>\n",
              "    <tr>\n",
              "      <th>1</th>\n",
              "      <td>4</td>\n",
              "      <td>NaN</td>\n",
              "      <td>NaN</td>\n",
              "      <td>Forest fire near La Ronge Sask. Canada</td>\n",
              "      <td>1</td>\n",
              "    </tr>\n",
              "    <tr>\n",
              "      <th>2</th>\n",
              "      <td>5</td>\n",
              "      <td>NaN</td>\n",
              "      <td>NaN</td>\n",
              "      <td>All residents asked to 'shelter in place' are ...</td>\n",
              "      <td>1</td>\n",
              "    </tr>\n",
              "    <tr>\n",
              "      <th>3</th>\n",
              "      <td>6</td>\n",
              "      <td>NaN</td>\n",
              "      <td>NaN</td>\n",
              "      <td>13,000 people receive #wildfires evacuation or...</td>\n",
              "      <td>1</td>\n",
              "    </tr>\n",
              "    <tr>\n",
              "      <th>4</th>\n",
              "      <td>7</td>\n",
              "      <td>NaN</td>\n",
              "      <td>NaN</td>\n",
              "      <td>Just got sent this photo from Ruby #Alaska as ...</td>\n",
              "      <td>1</td>\n",
              "    </tr>\n",
              "    <tr>\n",
              "      <th>5</th>\n",
              "      <td>8</td>\n",
              "      <td>NaN</td>\n",
              "      <td>NaN</td>\n",
              "      <td>#RockyFire Update =&gt; California Hwy. 20 closed...</td>\n",
              "      <td>1</td>\n",
              "    </tr>\n",
              "    <tr>\n",
              "      <th>6</th>\n",
              "      <td>10</td>\n",
              "      <td>NaN</td>\n",
              "      <td>NaN</td>\n",
              "      <td>#flood #disaster Heavy rain causes flash flood...</td>\n",
              "      <td>1</td>\n",
              "    </tr>\n",
              "    <tr>\n",
              "      <th>7</th>\n",
              "      <td>13</td>\n",
              "      <td>NaN</td>\n",
              "      <td>NaN</td>\n",
              "      <td>I'm on top of the hill and I can see a fire in...</td>\n",
              "      <td>1</td>\n",
              "    </tr>\n",
              "    <tr>\n",
              "      <th>8</th>\n",
              "      <td>14</td>\n",
              "      <td>NaN</td>\n",
              "      <td>NaN</td>\n",
              "      <td>There's an emergency evacuation happening now ...</td>\n",
              "      <td>1</td>\n",
              "    </tr>\n",
              "    <tr>\n",
              "      <th>9</th>\n",
              "      <td>15</td>\n",
              "      <td>NaN</td>\n",
              "      <td>NaN</td>\n",
              "      <td>I'm afraid that the tornado is coming to our a...</td>\n",
              "      <td>1</td>\n",
              "    </tr>\n",
              "  </tbody>\n",
              "</table>\n",
              "</div>"
            ],
            "text/plain": [
              "   id keyword  ...                                               text target\n",
              "0   1     NaN  ...  Our Deeds are the Reason of this #earthquake M...      1\n",
              "1   4     NaN  ...             Forest fire near La Ronge Sask. Canada      1\n",
              "2   5     NaN  ...  All residents asked to 'shelter in place' are ...      1\n",
              "3   6     NaN  ...  13,000 people receive #wildfires evacuation or...      1\n",
              "4   7     NaN  ...  Just got sent this photo from Ruby #Alaska as ...      1\n",
              "5   8     NaN  ...  #RockyFire Update => California Hwy. 20 closed...      1\n",
              "6  10     NaN  ...  #flood #disaster Heavy rain causes flash flood...      1\n",
              "7  13     NaN  ...  I'm on top of the hill and I can see a fire in...      1\n",
              "8  14     NaN  ...  There's an emergency evacuation happening now ...      1\n",
              "9  15     NaN  ...  I'm afraid that the tornado is coming to our a...      1\n",
              "\n",
              "[10 rows x 5 columns]"
            ]
          },
          "metadata": {
            "tags": []
          },
          "execution_count": 7
        }
      ]
    },
    {
      "cell_type": "markdown",
      "metadata": {
        "id": "-7OZlJ90ViIM",
        "colab_type": "text"
      },
      "source": [
        "# Primer análisis"
      ]
    },
    {
      "cell_type": "code",
      "metadata": {
        "id": "xM8fF1mfLlQG",
        "colab_type": "code",
        "outputId": "4aa5d87a-616e-49eb-9335-37ed58dce816",
        "colab": {
          "base_uri": "https://localhost:8080/",
          "height": 34
        }
      },
      "source": [
        "print('El DataFrame cuenta con {} filas y {} columnas'.format(train.shape[0],train.shape[1]))"
      ],
      "execution_count": 8,
      "outputs": [
        {
          "output_type": "stream",
          "text": [
            "El DataFrame cuenta con 7613 filas y 5 columnas\n"
          ],
          "name": "stdout"
        }
      ]
    },
    {
      "cell_type": "code",
      "metadata": {
        "id": "3URAudSlVlI5",
        "colab_type": "code",
        "outputId": "03c922f0-a13f-4830-e625-71604e9b5718",
        "colab": {
          "base_uri": "https://localhost:8080/",
          "height": 230
        }
      },
      "source": [
        "train.info()"
      ],
      "execution_count": 9,
      "outputs": [
        {
          "output_type": "stream",
          "text": [
            "<class 'pandas.core.frame.DataFrame'>\n",
            "RangeIndex: 7613 entries, 0 to 7612\n",
            "Data columns (total 5 columns):\n",
            " #   Column    Non-Null Count  Dtype \n",
            "---  ------    --------------  ----- \n",
            " 0   id        7613 non-null   int64 \n",
            " 1   keyword   7552 non-null   object\n",
            " 2   location  5080 non-null   object\n",
            " 3   text      7613 non-null   object\n",
            " 4   target    7613 non-null   int64 \n",
            "dtypes: int64(2), object(3)\n",
            "memory usage: 297.5+ KB\n"
          ],
          "name": "stdout"
        }
      ]
    },
    {
      "cell_type": "markdown",
      "metadata": {
        "id": "erasBATmVwIp",
        "colab_type": "text"
      },
      "source": [
        "Se observa que no se tienen todos los keywords ni todas las locations. A esos objetos se les asignarán los valores \"no_keyword\" y \"no_location\" respectivamente"
      ]
    },
    {
      "cell_type": "code",
      "metadata": {
        "id": "tKljmaVYWllU",
        "colab_type": "code",
        "colab": {}
      },
      "source": [
        "train['keyword']=train['keyword'].fillna('no_keyword')\n",
        "train['location']=train['location'].fillna('no_location')"
      ],
      "execution_count": 0,
      "outputs": []
    },
    {
      "cell_type": "markdown",
      "metadata": {
        "id": "G3UR2pUBYYAi",
        "colab_type": "text"
      },
      "source": [
        "Analicemos \"location\" y veamos si tiene sentido mantenerlo en el análisis..."
      ]
    },
    {
      "cell_type": "code",
      "metadata": {
        "id": "LR9Rfe2aYd6l",
        "colab_type": "code",
        "outputId": "d99a15b9-b7b2-4333-c003-f4f986cd037f",
        "colab": {
          "base_uri": "https://localhost:8080/",
          "height": 34
        }
      },
      "source": [
        "locations=train.location.value_counts()\n",
        "print('El {} % de los locations son valores únicos en el DF'.format(((locations==1).value_counts(normalize=True))[1]*100))"
      ],
      "execution_count": 11,
      "outputs": [
        {
          "output_type": "stream",
          "text": [
            "El 84.32076600837821 % de los locations son valores únicos en el DF\n"
          ],
          "name": "stdout"
        }
      ]
    },
    {
      "cell_type": "markdown",
      "metadata": {
        "id": "KS-bjmEQcd1o",
        "colab_type": "text"
      },
      "source": [
        "El 84.32% de los locations son valores únicos en el DF. Esto se debe a que la ubicación es un input que genera el usuario. No se considerará esta columna en el análisis exploratorio"
      ]
    },
    {
      "cell_type": "markdown",
      "metadata": {
        "id": "rZNmQNq2XafS",
        "colab_type": "text"
      },
      "source": [
        "# Cleaning de tweets repetidos"
      ]
    },
    {
      "cell_type": "markdown",
      "metadata": {
        "id": "S4lex527G6R1",
        "colab_type": "text"
      },
      "source": [
        "Pasos del cleaning:\n",
        "\n",
        "\n",
        "1.   En columna 'text', identificar strings repetidos\n",
        "2.   Para los strings identificados en el punto 1, identificar los que tengan 2 targets distintos\n",
        "3. Eliminar las filas identificadas en el punto 2\n",
        "4. Generar un nuevo DF (train_no_duplicates), con una columna que indique cantidad de repeticiones de cada 'text'(con target único)\n",
        "5. Descartar las repeticiones de 'text' salvo por la primera ocurrencia\n",
        "6. Eliminar mentions y urls de cada 'text' y asignar los resultados a una nueva columna 'text_clean'\n",
        "7. Eliminar signos de puntuación y caracteres especiales de cada 'text_clean'\n",
        "8. Para 'text_clean' repetir los pasos 1-5 dentro del DF train_no_duplicates.\n",
        "\n",
        "\n"
      ]
    },
    {
      "cell_type": "markdown",
      "metadata": {
        "id": "Kfkb-ANd_gAL",
        "colab_type": "text"
      },
      "source": [
        "Se busca ver si los textos se repiten o no, y en caso de repetirse si contienen targets distintos."
      ]
    },
    {
      "cell_type": "code",
      "metadata": {
        "id": "5uj3rciXX0Yp",
        "colab_type": "code",
        "outputId": "f68ead2b-b5f2-4ff1-d057-37013999f848",
        "colab": {
          "base_uri": "https://localhost:8080/",
          "height": 436
        }
      },
      "source": [
        "duplicated=train.groupby(['text']).agg({'target':['count','nunique']}).reset_index()\n",
        "duplicated.sort_values(by=('target','count'),ascending=False)"
      ],
      "execution_count": 12,
      "outputs": [
        {
          "output_type": "execute_result",
          "data": {
            "text/html": [
              "<div>\n",
              "<style scoped>\n",
              "    .dataframe tbody tr th:only-of-type {\n",
              "        vertical-align: middle;\n",
              "    }\n",
              "\n",
              "    .dataframe tbody tr th {\n",
              "        vertical-align: top;\n",
              "    }\n",
              "\n",
              "    .dataframe thead tr th {\n",
              "        text-align: left;\n",
              "    }\n",
              "</style>\n",
              "<table border=\"1\" class=\"dataframe\">\n",
              "  <thead>\n",
              "    <tr>\n",
              "      <th></th>\n",
              "      <th>text</th>\n",
              "      <th colspan=\"2\" halign=\"left\">target</th>\n",
              "    </tr>\n",
              "    <tr>\n",
              "      <th></th>\n",
              "      <th></th>\n",
              "      <th>count</th>\n",
              "      <th>nunique</th>\n",
              "    </tr>\n",
              "  </thead>\n",
              "  <tbody>\n",
              "    <tr>\n",
              "      <th>646</th>\n",
              "      <td>11-Year-Old Boy Charged With Manslaughter of T...</td>\n",
              "      <td>10</td>\n",
              "      <td>1</td>\n",
              "    </tr>\n",
              "    <tr>\n",
              "      <th>45</th>\n",
              "      <td>#Bestnaijamade: 16yr old PKK suicide bomber wh...</td>\n",
              "      <td>6</td>\n",
              "      <td>1</td>\n",
              "    </tr>\n",
              "    <tr>\n",
              "      <th>6131</th>\n",
              "      <td>The Prophet (peace be upon him) said 'Save you...</td>\n",
              "      <td>6</td>\n",
              "      <td>2</td>\n",
              "    </tr>\n",
              "    <tr>\n",
              "      <th>3589</th>\n",
              "      <td>He came to a land which was engulfed in tribal...</td>\n",
              "      <td>6</td>\n",
              "      <td>2</td>\n",
              "    </tr>\n",
              "    <tr>\n",
              "      <th>4589</th>\n",
              "      <td>Madhya Pradesh Train Derailment: Village Youth...</td>\n",
              "      <td>5</td>\n",
              "      <td>1</td>\n",
              "    </tr>\n",
              "    <tr>\n",
              "      <th>...</th>\n",
              "      <td>...</td>\n",
              "      <td>...</td>\n",
              "      <td>...</td>\n",
              "    </tr>\n",
              "    <tr>\n",
              "      <th>2507</th>\n",
              "      <td>Bamenda Floods Kill Animals Birds - http://t.c...</td>\n",
              "      <td>1</td>\n",
              "      <td>1</td>\n",
              "    </tr>\n",
              "    <tr>\n",
              "      <th>2506</th>\n",
              "      <td>Baltimore City : I-95 NORTH AT MP 54.8 (FORT M...</td>\n",
              "      <td>1</td>\n",
              "      <td>1</td>\n",
              "    </tr>\n",
              "    <tr>\n",
              "      <th>2505</th>\n",
              "      <td>Bairstow dropped his buffet ticket there. Deva...</td>\n",
              "      <td>1</td>\n",
              "      <td>1</td>\n",
              "    </tr>\n",
              "    <tr>\n",
              "      <th>2504</th>\n",
              "      <td>Bad day</td>\n",
              "      <td>1</td>\n",
              "      <td>1</td>\n",
              "    </tr>\n",
              "    <tr>\n",
              "      <th>7502</th>\n",
              "      <td>åÈMGN-AFRICAå¨ pin:263789F4 åÈ Correction: Ten...</td>\n",
              "      <td>1</td>\n",
              "      <td>1</td>\n",
              "    </tr>\n",
              "  </tbody>\n",
              "</table>\n",
              "<p>7503 rows × 3 columns</p>\n",
              "</div>"
            ],
            "text/plain": [
              "                                                   text target        \n",
              "                                                         count nunique\n",
              "646   11-Year-Old Boy Charged With Manslaughter of T...     10       1\n",
              "45    #Bestnaijamade: 16yr old PKK suicide bomber wh...      6       1\n",
              "6131  The Prophet (peace be upon him) said 'Save you...      6       2\n",
              "3589  He came to a land which was engulfed in tribal...      6       2\n",
              "4589  Madhya Pradesh Train Derailment: Village Youth...      5       1\n",
              "...                                                 ...    ...     ...\n",
              "2507  Bamenda Floods Kill Animals Birds - http://t.c...      1       1\n",
              "2506  Baltimore City : I-95 NORTH AT MP 54.8 (FORT M...      1       1\n",
              "2505  Bairstow dropped his buffet ticket there. Deva...      1       1\n",
              "2504                                            Bad day      1       1\n",
              "7502  åÈMGN-AFRICAå¨ pin:263789F4 åÈ Correction: Ten...      1       1\n",
              "\n",
              "[7503 rows x 3 columns]"
            ]
          },
          "metadata": {
            "tags": []
          },
          "execution_count": 12
        }
      ]
    },
    {
      "cell_type": "markdown",
      "metadata": {
        "id": "8sBs9zTH_rWi",
        "colab_type": "text"
      },
      "source": [
        "Se observa que hay tweets que se repiten hasta 10 veces. A su vez, existen tweets a los que se les asignaron 2 targets al mismo tiempo (columna nunique). Esos datos se deben eliminar ya que afectan al set de entrenamiento."
      ]
    },
    {
      "cell_type": "markdown",
      "metadata": {
        "id": "jkwPg5FK-2hk",
        "colab_type": "text"
      },
      "source": [
        "Incorporaremos una columna donde diga cuántas veces se repiten los tweets. "
      ]
    },
    {
      "cell_type": "code",
      "metadata": {
        "id": "X-oU8LFHnXQ3",
        "colab_type": "code",
        "colab": {}
      },
      "source": [
        "train_no_duplicates=train\n",
        "duplicate_texts=train_no_duplicates.loc[:,['text','target']].groupby(['text']).transform('count')\n",
        "train_no_duplicates['duplicate_text_count']=duplicate_texts\n"
      ],
      "execution_count": 0,
      "outputs": []
    },
    {
      "cell_type": "markdown",
      "metadata": {
        "id": "3fUR24geTUgc",
        "colab_type": "text"
      },
      "source": [
        "Eliminamos los textos duplicados con tweets contradictorios\n"
      ]
    },
    {
      "cell_type": "code",
      "metadata": {
        "id": "TH3PF_CqYLJ2",
        "colab_type": "code",
        "colab": {}
      },
      "source": [
        "contradiction=train_no_duplicates.loc[:,['text','target']].groupby(['text']).transform('nunique')\n",
        "train_no_duplicates['count_targets']=contradiction\n",
        "train_no_duplicates=train_no_duplicates[train.count_targets==1]\n",
        "train_no_duplicates.drop('count_targets',axis=1,inplace=True)"
      ],
      "execution_count": 0,
      "outputs": []
    },
    {
      "cell_type": "markdown",
      "metadata": {
        "id": "GjhM7POiQXRo",
        "colab_type": "text"
      },
      "source": [
        "Una vez eliminados los tweets contradictorios, se eliminan los tweets duplicados (salvo la primera ocurrencia)"
      ]
    },
    {
      "cell_type": "code",
      "metadata": {
        "id": "PG-uiorsSw4z",
        "colab_type": "code",
        "colab": {}
      },
      "source": [
        "train_no_duplicates.drop_duplicates(subset ='text', keep = 'first', inplace = True)"
      ],
      "execution_count": 0,
      "outputs": []
    },
    {
      "cell_type": "code",
      "metadata": {
        "id": "VPHIwA-YR_4e",
        "colab_type": "code",
        "outputId": "6bf886dd-7be2-40f3-ab38-43eb0868a195",
        "colab": {
          "base_uri": "https://localhost:8080/",
          "height": 34
        }
      },
      "source": [
        "print('El DataFrame post cleaning cuenta con {} filas y {} columnas'.format(train_no_duplicates.shape[0],train.shape[1]))"
      ],
      "execution_count": 384,
      "outputs": [
        {
          "output_type": "stream",
          "text": [
            "El DataFrame post cleaning cuenta con 7485 filas y 7 columnas\n"
          ],
          "name": "stdout"
        }
      ]
    },
    {
      "cell_type": "markdown",
      "metadata": {
        "id": "cw4-TBdcNly4",
        "colab_type": "text"
      },
      "source": [
        "Se eliminan urls y mentions de cada 'text'"
      ]
    },
    {
      "cell_type": "code",
      "metadata": {
        "id": "wYLvppmOJfRS",
        "colab_type": "code",
        "colab": {}
      },
      "source": [
        "def cleanText(inputString):\n",
        "  text = re.sub(r'http\\S+', '', inputString)  \n",
        "  text2 = re.sub(r'@\\S+', '', text)\n",
        "  text3 = re.sub(r'&\\S+', '', text2)\n",
        "  text4 = re.sub(r'Ã\\S+', '', text3)\n",
        "  text5 = re.sub(r'www\\S+','',text4)\n",
        "    \n",
        "  return (text5)\n",
        " \n",
        "train_no_duplicates['text_clean'] = train_no_duplicates['text'].apply(lambda x: cleanText(x))\n"
      ],
      "execution_count": 0,
      "outputs": []
    },
    {
      "cell_type": "markdown",
      "metadata": {
        "id": "8r87zSW0G1-Z",
        "colab_type": "text"
      },
      "source": [
        "Se eliminan los signos de puntuación\n"
      ]
    },
    {
      "cell_type": "code",
      "metadata": {
        "id": "Va4LQ0CfIgDD",
        "colab_type": "code",
        "colab": {}
      },
      "source": [
        "def deletePunctuation(inputString):\n",
        "  aux=string.punctuation\n",
        "  special_characters='ÃŒ©‰¥¼ªû'\n",
        "  #puncts=aux.translate(str.maketrans(\"#@:/.\",\"     \"))\n",
        "  auxstring=\" \" * len(aux)\n",
        "  auxstring2=\" \" * len(special_characters)\n",
        "  outputString=inputString.translate(str.maketrans(aux,auxstring))\n",
        "  outputString=outputString.translate(str.maketrans(special_characters,auxstring2))\n",
        "  return outputString\n",
        "\n",
        "train_no_duplicates['text_clean'] = train_no_duplicates['text_clean'].apply(lambda x:deletePunctuation(x))"
      ],
      "execution_count": 0,
      "outputs": []
    },
    {
      "cell_type": "code",
      "metadata": {
        "id": "JyNf7iGTIjWw",
        "colab_type": "code",
        "outputId": "9de7f3fa-1c64-47c7-a9bb-ce78a2b8cee1",
        "colab": {
          "base_uri": "https://localhost:8080/",
          "height": 647
        }
      },
      "source": [
        "train_no_duplicates.head(20)"
      ],
      "execution_count": 18,
      "outputs": [
        {
          "output_type": "execute_result",
          "data": {
            "text/html": [
              "<div>\n",
              "<style scoped>\n",
              "    .dataframe tbody tr th:only-of-type {\n",
              "        vertical-align: middle;\n",
              "    }\n",
              "\n",
              "    .dataframe tbody tr th {\n",
              "        vertical-align: top;\n",
              "    }\n",
              "\n",
              "    .dataframe thead th {\n",
              "        text-align: right;\n",
              "    }\n",
              "</style>\n",
              "<table border=\"1\" class=\"dataframe\">\n",
              "  <thead>\n",
              "    <tr style=\"text-align: right;\">\n",
              "      <th></th>\n",
              "      <th>id</th>\n",
              "      <th>keyword</th>\n",
              "      <th>location</th>\n",
              "      <th>text</th>\n",
              "      <th>target</th>\n",
              "      <th>duplicate_text_count</th>\n",
              "      <th>text_clean</th>\n",
              "    </tr>\n",
              "  </thead>\n",
              "  <tbody>\n",
              "    <tr>\n",
              "      <th>0</th>\n",
              "      <td>1</td>\n",
              "      <td>no_keyword</td>\n",
              "      <td>no_location</td>\n",
              "      <td>Our Deeds are the Reason of this #earthquake M...</td>\n",
              "      <td>1</td>\n",
              "      <td>1</td>\n",
              "      <td>Our Deeds are the Reason of this  earthquake M...</td>\n",
              "    </tr>\n",
              "    <tr>\n",
              "      <th>1</th>\n",
              "      <td>4</td>\n",
              "      <td>no_keyword</td>\n",
              "      <td>no_location</td>\n",
              "      <td>Forest fire near La Ronge Sask. Canada</td>\n",
              "      <td>1</td>\n",
              "      <td>1</td>\n",
              "      <td>Forest fire near La Ronge Sask  Canada</td>\n",
              "    </tr>\n",
              "    <tr>\n",
              "      <th>2</th>\n",
              "      <td>5</td>\n",
              "      <td>no_keyword</td>\n",
              "      <td>no_location</td>\n",
              "      <td>All residents asked to 'shelter in place' are ...</td>\n",
              "      <td>1</td>\n",
              "      <td>1</td>\n",
              "      <td>All residents asked to  shelter in place  are ...</td>\n",
              "    </tr>\n",
              "    <tr>\n",
              "      <th>3</th>\n",
              "      <td>6</td>\n",
              "      <td>no_keyword</td>\n",
              "      <td>no_location</td>\n",
              "      <td>13,000 people receive #wildfires evacuation or...</td>\n",
              "      <td>1</td>\n",
              "      <td>1</td>\n",
              "      <td>13 000 people receive  wildfires evacuation or...</td>\n",
              "    </tr>\n",
              "    <tr>\n",
              "      <th>4</th>\n",
              "      <td>7</td>\n",
              "      <td>no_keyword</td>\n",
              "      <td>no_location</td>\n",
              "      <td>Just got sent this photo from Ruby #Alaska as ...</td>\n",
              "      <td>1</td>\n",
              "      <td>1</td>\n",
              "      <td>Just got sent this photo from Ruby  Alaska as ...</td>\n",
              "    </tr>\n",
              "    <tr>\n",
              "      <th>5</th>\n",
              "      <td>8</td>\n",
              "      <td>no_keyword</td>\n",
              "      <td>no_location</td>\n",
              "      <td>#RockyFire Update =&gt; California Hwy. 20 closed...</td>\n",
              "      <td>1</td>\n",
              "      <td>1</td>\n",
              "      <td>RockyFire Update    California Hwy  20 closed...</td>\n",
              "    </tr>\n",
              "    <tr>\n",
              "      <th>6</th>\n",
              "      <td>10</td>\n",
              "      <td>no_keyword</td>\n",
              "      <td>no_location</td>\n",
              "      <td>#flood #disaster Heavy rain causes flash flood...</td>\n",
              "      <td>1</td>\n",
              "      <td>1</td>\n",
              "      <td>flood  disaster Heavy rain causes flash flood...</td>\n",
              "    </tr>\n",
              "    <tr>\n",
              "      <th>7</th>\n",
              "      <td>13</td>\n",
              "      <td>no_keyword</td>\n",
              "      <td>no_location</td>\n",
              "      <td>I'm on top of the hill and I can see a fire in...</td>\n",
              "      <td>1</td>\n",
              "      <td>1</td>\n",
              "      <td>I m on top of the hill and I can see a fire in...</td>\n",
              "    </tr>\n",
              "    <tr>\n",
              "      <th>8</th>\n",
              "      <td>14</td>\n",
              "      <td>no_keyword</td>\n",
              "      <td>no_location</td>\n",
              "      <td>There's an emergency evacuation happening now ...</td>\n",
              "      <td>1</td>\n",
              "      <td>1</td>\n",
              "      <td>There s an emergency evacuation happening now ...</td>\n",
              "    </tr>\n",
              "    <tr>\n",
              "      <th>9</th>\n",
              "      <td>15</td>\n",
              "      <td>no_keyword</td>\n",
              "      <td>no_location</td>\n",
              "      <td>I'm afraid that the tornado is coming to our a...</td>\n",
              "      <td>1</td>\n",
              "      <td>1</td>\n",
              "      <td>I m afraid that the tornado is coming to our a...</td>\n",
              "    </tr>\n",
              "    <tr>\n",
              "      <th>10</th>\n",
              "      <td>16</td>\n",
              "      <td>no_keyword</td>\n",
              "      <td>no_location</td>\n",
              "      <td>Three people died from the heat wave so far</td>\n",
              "      <td>1</td>\n",
              "      <td>1</td>\n",
              "      <td>Three people died from the heat wave so far</td>\n",
              "    </tr>\n",
              "    <tr>\n",
              "      <th>11</th>\n",
              "      <td>17</td>\n",
              "      <td>no_keyword</td>\n",
              "      <td>no_location</td>\n",
              "      <td>Haha South Tampa is getting flooded hah- WAIT ...</td>\n",
              "      <td>1</td>\n",
              "      <td>1</td>\n",
              "      <td>Haha South Tampa is getting flooded hah  WAIT ...</td>\n",
              "    </tr>\n",
              "    <tr>\n",
              "      <th>12</th>\n",
              "      <td>18</td>\n",
              "      <td>no_keyword</td>\n",
              "      <td>no_location</td>\n",
              "      <td>#raining #flooding #Florida #TampaBay #Tampa 1...</td>\n",
              "      <td>1</td>\n",
              "      <td>1</td>\n",
              "      <td>raining  flooding  Florida  TampaBay  Tampa 1...</td>\n",
              "    </tr>\n",
              "    <tr>\n",
              "      <th>13</th>\n",
              "      <td>19</td>\n",
              "      <td>no_keyword</td>\n",
              "      <td>no_location</td>\n",
              "      <td>#Flood in Bago Myanmar #We arrived Bago</td>\n",
              "      <td>1</td>\n",
              "      <td>1</td>\n",
              "      <td>Flood in Bago Myanmar  We arrived Bago</td>\n",
              "    </tr>\n",
              "    <tr>\n",
              "      <th>14</th>\n",
              "      <td>20</td>\n",
              "      <td>no_keyword</td>\n",
              "      <td>no_location</td>\n",
              "      <td>Damage to school bus on 80 in multi car crash ...</td>\n",
              "      <td>1</td>\n",
              "      <td>1</td>\n",
              "      <td>Damage to school bus on 80 in multi car crash ...</td>\n",
              "    </tr>\n",
              "    <tr>\n",
              "      <th>15</th>\n",
              "      <td>23</td>\n",
              "      <td>no_keyword</td>\n",
              "      <td>no_location</td>\n",
              "      <td>What's up man?</td>\n",
              "      <td>0</td>\n",
              "      <td>1</td>\n",
              "      <td>What s up man</td>\n",
              "    </tr>\n",
              "    <tr>\n",
              "      <th>16</th>\n",
              "      <td>24</td>\n",
              "      <td>no_keyword</td>\n",
              "      <td>no_location</td>\n",
              "      <td>I love fruits</td>\n",
              "      <td>0</td>\n",
              "      <td>1</td>\n",
              "      <td>I love fruits</td>\n",
              "    </tr>\n",
              "    <tr>\n",
              "      <th>17</th>\n",
              "      <td>25</td>\n",
              "      <td>no_keyword</td>\n",
              "      <td>no_location</td>\n",
              "      <td>Summer is lovely</td>\n",
              "      <td>0</td>\n",
              "      <td>1</td>\n",
              "      <td>Summer is lovely</td>\n",
              "    </tr>\n",
              "    <tr>\n",
              "      <th>18</th>\n",
              "      <td>26</td>\n",
              "      <td>no_keyword</td>\n",
              "      <td>no_location</td>\n",
              "      <td>My car is so fast</td>\n",
              "      <td>0</td>\n",
              "      <td>1</td>\n",
              "      <td>My car is so fast</td>\n",
              "    </tr>\n",
              "    <tr>\n",
              "      <th>19</th>\n",
              "      <td>28</td>\n",
              "      <td>no_keyword</td>\n",
              "      <td>no_location</td>\n",
              "      <td>What a goooooooaaaaaal!!!!!!</td>\n",
              "      <td>0</td>\n",
              "      <td>1</td>\n",
              "      <td>What a goooooooaaaaaal</td>\n",
              "    </tr>\n",
              "  </tbody>\n",
              "</table>\n",
              "</div>"
            ],
            "text/plain": [
              "    id  ...                                         text_clean\n",
              "0    1  ...  Our Deeds are the Reason of this  earthquake M...\n",
              "1    4  ...             Forest fire near La Ronge Sask  Canada\n",
              "2    5  ...  All residents asked to  shelter in place  are ...\n",
              "3    6  ...  13 000 people receive  wildfires evacuation or...\n",
              "4    7  ...  Just got sent this photo from Ruby  Alaska as ...\n",
              "5    8  ...   RockyFire Update    California Hwy  20 closed...\n",
              "6   10  ...   flood  disaster Heavy rain causes flash flood...\n",
              "7   13  ...  I m on top of the hill and I can see a fire in...\n",
              "8   14  ...  There s an emergency evacuation happening now ...\n",
              "9   15  ...  I m afraid that the tornado is coming to our a...\n",
              "10  16  ...        Three people died from the heat wave so far\n",
              "11  17  ...  Haha South Tampa is getting flooded hah  WAIT ...\n",
              "12  18  ...   raining  flooding  Florida  TampaBay  Tampa 1...\n",
              "13  19  ...             Flood in Bago Myanmar  We arrived Bago\n",
              "14  20  ...  Damage to school bus on 80 in multi car crash ...\n",
              "15  23  ...                                     What s up man \n",
              "16  24  ...                                      I love fruits\n",
              "17  25  ...                                   Summer is lovely\n",
              "18  26  ...                                  My car is so fast\n",
              "19  28  ...                       What a goooooooaaaaaal      \n",
              "\n",
              "[20 rows x 7 columns]"
            ]
          },
          "metadata": {
            "tags": []
          },
          "execution_count": 18
        }
      ]
    },
    {
      "cell_type": "markdown",
      "metadata": {
        "id": "0IkgMp8bG4nS",
        "colab_type": "text"
      },
      "source": [
        "Se debe repetir el mismo análisis de tweets duplicados"
      ]
    },
    {
      "cell_type": "code",
      "metadata": {
        "id": "KFD2HZFbN-Tb",
        "colab_type": "code",
        "outputId": "9c79dfc4-4a40-41f2-9b3b-9dcb21d7fc25",
        "colab": {
          "base_uri": "https://localhost:8080/",
          "height": 436
        }
      },
      "source": [
        "duplicated_clean=train_no_duplicates.groupby(['text_clean']).agg({'target':['count','nunique']}).reset_index()\n",
        "duplicated_clean=duplicated_clean.sort_values(by=('target','count'),ascending=False)\n",
        "duplicated_clean"
      ],
      "execution_count": 19,
      "outputs": [
        {
          "output_type": "execute_result",
          "data": {
            "text/html": [
              "<div>\n",
              "<style scoped>\n",
              "    .dataframe tbody tr th:only-of-type {\n",
              "        vertical-align: middle;\n",
              "    }\n",
              "\n",
              "    .dataframe tbody tr th {\n",
              "        vertical-align: top;\n",
              "    }\n",
              "\n",
              "    .dataframe thead tr th {\n",
              "        text-align: left;\n",
              "    }\n",
              "</style>\n",
              "<table border=\"1\" class=\"dataframe\">\n",
              "  <thead>\n",
              "    <tr>\n",
              "      <th></th>\n",
              "      <th>text_clean</th>\n",
              "      <th colspan=\"2\" halign=\"left\">target</th>\n",
              "    </tr>\n",
              "    <tr>\n",
              "      <th></th>\n",
              "      <th></th>\n",
              "      <th>count</th>\n",
              "      <th>nunique</th>\n",
              "    </tr>\n",
              "  </thead>\n",
              "  <tbody>\n",
              "    <tr>\n",
              "      <th>6241</th>\n",
              "      <td>Watch This Airport Get Swallowed Up By A Sands...</td>\n",
              "      <td>24</td>\n",
              "      <td>1</td>\n",
              "    </tr>\n",
              "    <tr>\n",
              "      <th>6467</th>\n",
              "      <td>Wreckage  Conclusively Confirmed  as From MH37...</td>\n",
              "      <td>20</td>\n",
              "      <td>1</td>\n",
              "    </tr>\n",
              "    <tr>\n",
              "      <th>3151</th>\n",
              "      <td>Families to sue over Legionnaires  More than 4...</td>\n",
              "      <td>19</td>\n",
              "      <td>1</td>\n",
              "    </tr>\n",
              "    <tr>\n",
              "      <th>1583</th>\n",
              "      <td>hot  Funtenna  hijacking computers to send da...</td>\n",
              "      <td>17</td>\n",
              "      <td>2</td>\n",
              "    </tr>\n",
              "    <tr>\n",
              "      <th>2728</th>\n",
              "      <td>Christian Attacked by Muslims at the Temple Mo...</td>\n",
              "      <td>15</td>\n",
              "      <td>1</td>\n",
              "    </tr>\n",
              "    <tr>\n",
              "      <th>...</th>\n",
              "      <td>...</td>\n",
              "      <td>...</td>\n",
              "      <td>...</td>\n",
              "    </tr>\n",
              "    <tr>\n",
              "      <th>2332</th>\n",
              "      <td>Another hour  It s August 05 2015 at 08 02PM H...</td>\n",
              "      <td>1</td>\n",
              "      <td>1</td>\n",
              "    </tr>\n",
              "    <tr>\n",
              "      <th>2331</th>\n",
              "      <td>Another fake hate crime Lesbians burn their ow...</td>\n",
              "      <td>1</td>\n",
              "      <td>1</td>\n",
              "    </tr>\n",
              "    <tr>\n",
              "      <th>2330</th>\n",
              "      <td>Another entity forced to close in Montego Bay ...</td>\n",
              "      <td>1</td>\n",
              "      <td>1</td>\n",
              "    </tr>\n",
              "    <tr>\n",
              "      <th>2329</th>\n",
              "      <td>Another day has passed and THANKFULLY Central ...</td>\n",
              "      <td>1</td>\n",
              "      <td>1</td>\n",
              "    </tr>\n",
              "    <tr>\n",
              "      <th>6939</th>\n",
              "      <td>åÈMGN AFRICAå¨ pin 263789F4 åÈ Correction  Ten...</td>\n",
              "      <td>1</td>\n",
              "      <td>1</td>\n",
              "    </tr>\n",
              "  </tbody>\n",
              "</table>\n",
              "<p>6940 rows × 3 columns</p>\n",
              "</div>"
            ],
            "text/plain": [
              "                                             text_clean target        \n",
              "                                                         count nunique\n",
              "6241  Watch This Airport Get Swallowed Up By A Sands...     24       1\n",
              "6467  Wreckage  Conclusively Confirmed  as From MH37...     20       1\n",
              "3151  Families to sue over Legionnaires  More than 4...     19       1\n",
              "1583   hot  Funtenna  hijacking computers to send da...     17       2\n",
              "2728  Christian Attacked by Muslims at the Temple Mo...     15       1\n",
              "...                                                 ...    ...     ...\n",
              "2332  Another hour  It s August 05 2015 at 08 02PM H...      1       1\n",
              "2331  Another fake hate crime Lesbians burn their ow...      1       1\n",
              "2330  Another entity forced to close in Montego Bay ...      1       1\n",
              "2329  Another day has passed and THANKFULLY Central ...      1       1\n",
              "6939  åÈMGN AFRICAå¨ pin 263789F4 åÈ Correction  Ten...      1       1\n",
              "\n",
              "[6940 rows x 3 columns]"
            ]
          },
          "metadata": {
            "tags": []
          },
          "execution_count": 19
        }
      ]
    },
    {
      "cell_type": "markdown",
      "metadata": {
        "id": "frRmqx2rQODo",
        "colab_type": "text"
      },
      "source": [
        "Se agrega una columna que especifique cuantos text_clean se repiten"
      ]
    },
    {
      "cell_type": "code",
      "metadata": {
        "id": "Hi5hrYr0QNTw",
        "colab_type": "code",
        "outputId": "ad95494e-63ce-424a-e81a-3d6b15d07554",
        "colab": {
          "base_uri": "https://localhost:8080/",
          "height": 406
        }
      },
      "source": [
        "duplicate_texts_clean=train_no_duplicates.loc[:,['text_clean','target']].groupby(['text_clean']).transform('count')\n",
        "train_no_duplicates['duplicate_text_clean_count']=duplicate_texts_clean\n",
        "train_no_duplicates"
      ],
      "execution_count": 20,
      "outputs": [
        {
          "output_type": "execute_result",
          "data": {
            "text/html": [
              "<div>\n",
              "<style scoped>\n",
              "    .dataframe tbody tr th:only-of-type {\n",
              "        vertical-align: middle;\n",
              "    }\n",
              "\n",
              "    .dataframe tbody tr th {\n",
              "        vertical-align: top;\n",
              "    }\n",
              "\n",
              "    .dataframe thead th {\n",
              "        text-align: right;\n",
              "    }\n",
              "</style>\n",
              "<table border=\"1\" class=\"dataframe\">\n",
              "  <thead>\n",
              "    <tr style=\"text-align: right;\">\n",
              "      <th></th>\n",
              "      <th>id</th>\n",
              "      <th>keyword</th>\n",
              "      <th>location</th>\n",
              "      <th>text</th>\n",
              "      <th>target</th>\n",
              "      <th>duplicate_text_count</th>\n",
              "      <th>text_clean</th>\n",
              "      <th>duplicate_text_clean_count</th>\n",
              "    </tr>\n",
              "  </thead>\n",
              "  <tbody>\n",
              "    <tr>\n",
              "      <th>0</th>\n",
              "      <td>1</td>\n",
              "      <td>no_keyword</td>\n",
              "      <td>no_location</td>\n",
              "      <td>Our Deeds are the Reason of this #earthquake M...</td>\n",
              "      <td>1</td>\n",
              "      <td>1</td>\n",
              "      <td>Our Deeds are the Reason of this  earthquake M...</td>\n",
              "      <td>1</td>\n",
              "    </tr>\n",
              "    <tr>\n",
              "      <th>1</th>\n",
              "      <td>4</td>\n",
              "      <td>no_keyword</td>\n",
              "      <td>no_location</td>\n",
              "      <td>Forest fire near La Ronge Sask. Canada</td>\n",
              "      <td>1</td>\n",
              "      <td>1</td>\n",
              "      <td>Forest fire near La Ronge Sask  Canada</td>\n",
              "      <td>1</td>\n",
              "    </tr>\n",
              "    <tr>\n",
              "      <th>2</th>\n",
              "      <td>5</td>\n",
              "      <td>no_keyword</td>\n",
              "      <td>no_location</td>\n",
              "      <td>All residents asked to 'shelter in place' are ...</td>\n",
              "      <td>1</td>\n",
              "      <td>1</td>\n",
              "      <td>All residents asked to  shelter in place  are ...</td>\n",
              "      <td>1</td>\n",
              "    </tr>\n",
              "    <tr>\n",
              "      <th>3</th>\n",
              "      <td>6</td>\n",
              "      <td>no_keyword</td>\n",
              "      <td>no_location</td>\n",
              "      <td>13,000 people receive #wildfires evacuation or...</td>\n",
              "      <td>1</td>\n",
              "      <td>1</td>\n",
              "      <td>13 000 people receive  wildfires evacuation or...</td>\n",
              "      <td>1</td>\n",
              "    </tr>\n",
              "    <tr>\n",
              "      <th>4</th>\n",
              "      <td>7</td>\n",
              "      <td>no_keyword</td>\n",
              "      <td>no_location</td>\n",
              "      <td>Just got sent this photo from Ruby #Alaska as ...</td>\n",
              "      <td>1</td>\n",
              "      <td>1</td>\n",
              "      <td>Just got sent this photo from Ruby  Alaska as ...</td>\n",
              "      <td>1</td>\n",
              "    </tr>\n",
              "    <tr>\n",
              "      <th>...</th>\n",
              "      <td>...</td>\n",
              "      <td>...</td>\n",
              "      <td>...</td>\n",
              "      <td>...</td>\n",
              "      <td>...</td>\n",
              "      <td>...</td>\n",
              "      <td>...</td>\n",
              "      <td>...</td>\n",
              "    </tr>\n",
              "    <tr>\n",
              "      <th>7604</th>\n",
              "      <td>10863</td>\n",
              "      <td>no_keyword</td>\n",
              "      <td>no_location</td>\n",
              "      <td>#WorldNews Fallen powerlines on G:link tram: U...</td>\n",
              "      <td>1</td>\n",
              "      <td>1</td>\n",
              "      <td>WorldNews Fallen powerlines on G link tram  U...</td>\n",
              "      <td>1</td>\n",
              "    </tr>\n",
              "    <tr>\n",
              "      <th>7605</th>\n",
              "      <td>10864</td>\n",
              "      <td>no_keyword</td>\n",
              "      <td>no_location</td>\n",
              "      <td>on the flip side I'm at Walmart and there is a...</td>\n",
              "      <td>1</td>\n",
              "      <td>1</td>\n",
              "      <td>on the flip side I m at Walmart and there is a...</td>\n",
              "      <td>1</td>\n",
              "    </tr>\n",
              "    <tr>\n",
              "      <th>7606</th>\n",
              "      <td>10866</td>\n",
              "      <td>no_keyword</td>\n",
              "      <td>no_location</td>\n",
              "      <td>Suicide bomber kills 15 in Saudi security site...</td>\n",
              "      <td>1</td>\n",
              "      <td>1</td>\n",
              "      <td>Suicide bomber kills 15 in Saudi security site...</td>\n",
              "      <td>1</td>\n",
              "    </tr>\n",
              "    <tr>\n",
              "      <th>7608</th>\n",
              "      <td>10869</td>\n",
              "      <td>no_keyword</td>\n",
              "      <td>no_location</td>\n",
              "      <td>Two giant cranes holding a bridge collapse int...</td>\n",
              "      <td>1</td>\n",
              "      <td>1</td>\n",
              "      <td>Two giant cranes holding a bridge collapse int...</td>\n",
              "      <td>8</td>\n",
              "    </tr>\n",
              "    <tr>\n",
              "      <th>7612</th>\n",
              "      <td>10873</td>\n",
              "      <td>no_keyword</td>\n",
              "      <td>no_location</td>\n",
              "      <td>The Latest: More Homes Razed by Northern Calif...</td>\n",
              "      <td>1</td>\n",
              "      <td>1</td>\n",
              "      <td>The Latest  More Homes Razed by Northern Calif...</td>\n",
              "      <td>13</td>\n",
              "    </tr>\n",
              "  </tbody>\n",
              "</table>\n",
              "<p>7485 rows × 8 columns</p>\n",
              "</div>"
            ],
            "text/plain": [
              "         id  ... duplicate_text_clean_count\n",
              "0         1  ...                          1\n",
              "1         4  ...                          1\n",
              "2         5  ...                          1\n",
              "3         6  ...                          1\n",
              "4         7  ...                          1\n",
              "...     ...  ...                        ...\n",
              "7604  10863  ...                          1\n",
              "7605  10864  ...                          1\n",
              "7606  10866  ...                          1\n",
              "7608  10869  ...                          8\n",
              "7612  10873  ...                         13\n",
              "\n",
              "[7485 rows x 8 columns]"
            ]
          },
          "metadata": {
            "tags": []
          },
          "execution_count": 20
        }
      ]
    },
    {
      "cell_type": "markdown",
      "metadata": {
        "id": "2WwJtVHIQlj0",
        "colab_type": "text"
      },
      "source": [
        "Eliminar los que tienen targets contradictorios"
      ]
    },
    {
      "cell_type": "code",
      "metadata": {
        "id": "aFUoXNsZQuc7",
        "colab_type": "code",
        "colab": {}
      },
      "source": [
        "contradiction_clean=train_no_duplicates.loc[:,['text_clean','target']].groupby(['text_clean']).transform('nunique')\n",
        "train_no_duplicates['count_targets']=contradiction_clean\n",
        "train_no_duplicates=train_no_duplicates[train_no_duplicates.count_targets==1]\n",
        "train_no_duplicates.drop('count_targets',axis=1,inplace=True)"
      ],
      "execution_count": 0,
      "outputs": []
    },
    {
      "cell_type": "markdown",
      "metadata": {
        "id": "BIr7wwX4Qpi4",
        "colab_type": "text"
      },
      "source": [
        "Elimino rows de duplicados salvo primera ocurrencia"
      ]
    },
    {
      "cell_type": "code",
      "metadata": {
        "id": "hmNh8XefRJbC",
        "colab_type": "code",
        "colab": {}
      },
      "source": [
        "train_no_duplicates.drop_duplicates(subset ='text_clean', keep = 'first', inplace = True)"
      ],
      "execution_count": 0,
      "outputs": []
    },
    {
      "cell_type": "code",
      "metadata": {
        "id": "DN9q2RupRP3d",
        "colab_type": "code",
        "outputId": "b67269b9-b8b7-4f8f-de18-6d02d53bcf64",
        "colab": {
          "base_uri": "https://localhost:8080/",
          "height": 34
        }
      },
      "source": [
        "print('El DataFrame post cleaning cuenta con {} filas y {} columnas'.format(train_no_duplicates.shape[0],train.shape[1]))"
      ],
      "execution_count": 24,
      "outputs": [
        {
          "output_type": "stream",
          "text": [
            "El DataFrame post cleaning cuenta con 6889 filas y 7 columnas\n"
          ],
          "name": "stdout"
        }
      ]
    },
    {
      "cell_type": "markdown",
      "metadata": {
        "id": "s6PP7R515dFv",
        "colab_type": "text"
      },
      "source": [
        "# Eliminación de stopwords"
      ]
    },
    {
      "cell_type": "code",
      "metadata": {
        "id": "ARfvfqF-5g5h",
        "colab_type": "code",
        "colab": {}
      },
      "source": [
        "def deleteStopwords(inputString):\n",
        "  inputString= inputString.lower()\n",
        "  text_tokens = word_tokenize(inputString)\n",
        "  tokens_without_sw = [word for word in text_tokens if not word in stopwords.words('english')]\n",
        "  filtered_sentence = (\" \").join(tokens_without_sw)\n",
        "  return filtered_sentence\n",
        "\n",
        "train_no_duplicates['text_clean_no_sw'] = train_no_duplicates['text_clean'].apply(lambda x:deleteStopwords(x))"
      ],
      "execution_count": 0,
      "outputs": []
    },
    {
      "cell_type": "markdown",
      "metadata": {
        "id": "BPfL1H9INgqJ",
        "colab_type": "text"
      },
      "source": [
        "# Proporción de Target Real/Not Real"
      ]
    },
    {
      "cell_type": "code",
      "metadata": {
        "id": "aRYvc-RRNqAz",
        "colab_type": "code",
        "outputId": "24dc043c-b95a-4353-8413-71daa15dbc84",
        "colab": {
          "base_uri": "https://localhost:8080/",
          "height": 303
        }
      },
      "source": [
        "#Cantidad de registros\n",
        "\n",
        "x=train_no_duplicates['target'].value_counts()\n",
        "g=sns.barplot(x.index,x)\n",
        "g.set_title('Barplot: Cantidad de tweets por Target\\n',fontsize=14)\n",
        "g.set_ylabel('Cantidad')\n",
        "plt.xticks([0, 1], ['Not Real', 'Real'])\n",
        "plt.show()\n"
      ],
      "execution_count": 26,
      "outputs": [
        {
          "output_type": "display_data",
          "data": {
            "image/png": "[encoded data removed]",
            "text/plain": [
              "<Figure size 432x288 with 1 Axes>"
            ]
          },
          "metadata": {
            "tags": [],
            "needs_background": "light"
          }
        }
      ]
    },
    {
      "cell_type": "code",
      "metadata": {
        "id": "9q50NXU9OF9L",
        "colab_type": "code",
        "outputId": "fa663463-47d5-4e71-ad69-2f418ac79777",
        "colab": {
          "base_uri": "https://localhost:8080/",
          "height": 264
        }
      },
      "source": [
        "labels='Not Real','Real'\n",
        "g2=plt.pie(x,labels=labels,autopct='%1.1f%%',startangle=140)\n",
        "plt.axis('equal')\n",
        "plt.title('Pie chart:  Porcentaje de tweets por Target')\n",
        "plt.show()\n"
      ],
      "execution_count": 27,
      "outputs": [
        {
          "output_type": "display_data",
          "data": {
            "image/png": "[encoded data removed]",
            "text/plain": [
              "<Figure size 432x288 with 1 Axes>"
            ]
          },
          "metadata": {
            "tags": []
          }
        }
      ]
    },
    {
      "cell_type": "markdown",
      "metadata": {
        "id": "zZou9mMjOQ_S",
        "colab_type": "text"
      },
      "source": [
        "Se observa mayor proporción de tweets de clase \"Not Real\" sobre los de clase \"Real\". "
      ]
    },
    {
      "cell_type": "markdown",
      "metadata": {
        "id": "LBQCRHaV2WK0",
        "colab_type": "text"
      },
      "source": [
        "Se puede dividir el DF en 2 subsets"
      ]
    },
    {
      "cell_type": "code",
      "metadata": {
        "id": "CgsgsgTr2bbK",
        "colab_type": "code",
        "colab": {}
      },
      "source": [
        "train1=train_no_duplicates[train_no_duplicates['target']==1]\n",
        "train0=train_no_duplicates[train_no_duplicates['target']==0]"
      ],
      "execution_count": 0,
      "outputs": []
    },
    {
      "cell_type": "markdown",
      "metadata": {
        "id": "bxKae_zvPHxh",
        "colab_type": "text"
      },
      "source": [
        "# Análisis de Keywords"
      ]
    },
    {
      "cell_type": "code",
      "metadata": {
        "id": "Annu4qvFPOD_",
        "colab_type": "code",
        "colab": {}
      },
      "source": [
        "def percent_real_disaster(x):\n",
        "    return x.mean()*100 \n",
        "\n",
        "\n",
        "grouped=train_no_duplicates.groupby(['keyword']).agg({'target':[percent_real_disaster]}).sort_values(by=('target','percent_real_disaster'),ascending=False)\n",
        "grouped=grouped.reset_index()\n"
      ],
      "execution_count": 0,
      "outputs": []
    },
    {
      "cell_type": "code",
      "metadata": {
        "id": "LDwMGdaDPffb",
        "colab_type": "code",
        "outputId": "b9a3fe52-6274-44be-be41-7818850e96bf",
        "colab": {
          "base_uri": "https://localhost:8080/",
          "height": 631
        }
      },
      "source": [
        "#Plot \n",
        "#Ploteo el total de tweets por keyword\n",
        "f, axes = plt.subplots(1,2, figsize=(20, 10), sharex=True)\n",
        "\n",
        "#Los keywords con mayor proporción de tweets Reales\n",
        "sns.set_color_codes(\"pastel\")\n",
        "g1=sns.barplot(ax=axes[0],x=100,y='keyword',data=grouped.head(25),label='Not Real', color=\"b\")\n",
        "sns.set_color_codes(\"muted\")\n",
        "sns.barplot(ax=axes[0],x=('target','percent_real_disaster'),y='keyword',data=grouped.head(25), label='Real',color=\"b\")\n",
        "g1.set_ylabel('keywords')\n",
        "g1.set_xlabel('Porcentaje')\n",
        "g1.set_title('Top 25 Real Disasters by Keyword')\n",
        "\n",
        "#los peores 10\n",
        "sns.set_color_codes(\"pastel\")\n",
        "g2=sns.barplot(ax=axes[1],x=100,y='keyword',data=grouped.tail(25), label='Not Real',color=\"r\")\n",
        "sns.set_color_codes(\"muted\")\n",
        "sns.barplot(ax=axes[1],x=('target','percent_real_disaster'),y='keyword',data=grouped.tail(25),label='Real', color=\"r\")\n",
        "g2.set_ylabel('')\n",
        "g2.set_xlabel('Porcentaje')\n",
        "g2.set_title('Top 25 NOT Real Disasters by Keyword')\n",
        "\n",
        "# Legend\n",
        "g1.legend(ncol=1, loc=\"lower right\", frameon=True)\n",
        "g2.legend(ncol=1, loc=\"lower right\", frameon=True)\n",
        "\n",
        "plt.show()"
      ],
      "execution_count": 30,
      "outputs": [
        {
          "output_type": "display_data",
          "data": {
            "image/png": "[encoded data removed]",
            "text/plain": [
              "<Figure size 1440x720 with 2 Axes>"
            ]
          },
          "metadata": {
            "tags": [],
            "needs_background": "light"
          }
        }
      ]
    },
    {
      "cell_type": "markdown",
      "metadata": {
        "id": "1ZTHL46kRJlz",
        "colab_type": "text"
      },
      "source": [
        "En la figura se la izquiera se ilustran 25 keywords con porcentajes de Target \"Real\" mayores al 75%. Se observan keywords referentes a desastres naturales (*drought, forest fire, violent storm)* o edilicios (*bridge collapse, buildings on fire*). También se encuentran tragedias mortales (*mass murder, airplane accident, nuclear disaster, suicide bombing*). Otros keywords incluyen lenguaje de noticias (*casualties, evacuated, rescuers*). \n",
        "\n",
        "Por otro lado, en la figura de la derecha, se observan los 25 keywords con menores porcentajes de veracidad. En su mayoría se trata de palabras que servirían para describir tragedias pero que a su vez pueden usarse en muchos otros contextos. Un ejemplo de esto es el keyword \"body bag\", con un porcentaje de targets Reales menor al 5%. El término por si solo sonaría alarmante, pero veamos las acepciones de la palabra:\n",
        "\n",
        "1.   Bolsa para guardar cadáveres\n",
        "2.   Una clase de cartera/mochila\n",
        "3.   Según *Urban Dictionary*, \"To boddybag an oponent\" es asegurar la victoria sobre el oponente (algo así como \"kick ass\"), slang muy utilizado en las batallas de rap.\n",
        "4.   Otra acepción de *Urban Dictionary*, \"Bodybagging\" es robarle un chiste a otro comediante y hacerlo pasar como propio. \n",
        "\n",
        "Se observa también mayor cantidad de verbos y adjetivos que en el otro target.\n",
        "\n",
        "\n"
      ]
    },
    {
      "cell_type": "markdown",
      "metadata": {
        "id": "uMyjy7lL8jdY",
        "colab_type": "text"
      },
      "source": [
        "# Análisis de características de tweets"
      ]
    },
    {
      "cell_type": "code",
      "metadata": {
        "id": "pCURBzI68oz6",
        "colab_type": "code",
        "colab": {}
      },
      "source": [
        "def Numbers_count(inputString):\n",
        "  count=0\n",
        "  i=0\n",
        "  inputString=inputString.split()\n",
        "  while i < len(inputString):\n",
        "    if inputString[i].isdigit() == True:\n",
        "      count=count+1\n",
        "    i=i+1\n",
        "    return count\n",
        "\n",
        "train_no_duplicates['url_count'] = train_no_duplicates['text'].apply(lambda x: len([w for w in str(x).lower().split() if ('http' or 'www') in w]))\n",
        "train_no_duplicates['hashtag_count'] = train_no_duplicates['text'].apply(lambda x: len([c for c in str(x) if c == '#']))\n",
        "train_no_duplicates['mention_count'] = train_no_duplicates['text'].apply(lambda x: len([c for c in str(x) if c == '@']))\n",
        "train_no_duplicates['digits_count'] = train_no_duplicates['text_clean'].apply(lambda x: Numbers_count(x))\n",
        "train_no_duplicates['characters_count'] = train_no_duplicates['text'].apply(lambda x: len(str(x)))\n",
        "train_no_duplicates['characters_count_clean'] = train_no_duplicates['text_clean'].apply(lambda x: len(str(x)))\n",
        "train_no_duplicates['characters_count_clean_sw'] = train_no_duplicates['text_clean_no_sw'].apply(lambda x: len(str(x)))\n",
        "train_no_duplicates['word_count'] = train_no_duplicates['text'].apply(lambda x: len(str(x).split()))\n",
        "train_no_duplicates['word_count_clean'] = train_no_duplicates['text_clean'].apply(lambda x: len(str(x).split()))\n",
        "train_no_duplicates['word_count_clean_sw'] = train_no_duplicates['text_clean_no_sw'].apply(lambda x: len(str(x).split()))"
      ],
      "execution_count": 0,
      "outputs": []
    },
    {
      "cell_type": "code",
      "metadata": {
        "id": "WSJIVxHy48la",
        "colab_type": "code",
        "colab": {}
      },
      "source": [
        "cols_stats= ['url_count','hashtag_count','mention_count','digits_count','characters_count','characters_count_clean_sw','word_count','word_count_clean_sw','target']"
      ],
      "execution_count": 0,
      "outputs": []
    },
    {
      "cell_type": "code",
      "metadata": {
        "id": "4Y0XQPW741bN",
        "colab_type": "code",
        "outputId": "7ce565ee-50a5-4069-d95e-8a89b6705034",
        "colab": {
          "base_uri": "https://localhost:8080/",
          "height": 167
        }
      },
      "source": [
        "train_no_duplicates[cols_stats].groupby('target').agg(['mean','std','skew'])"
      ],
      "execution_count": 33,
      "outputs": [
        {
          "output_type": "execute_result",
          "data": {
            "text/html": [
              "<div>\n",
              "<style scoped>\n",
              "    .dataframe tbody tr th:only-of-type {\n",
              "        vertical-align: middle;\n",
              "    }\n",
              "\n",
              "    .dataframe tbody tr th {\n",
              "        vertical-align: top;\n",
              "    }\n",
              "\n",
              "    .dataframe thead tr th {\n",
              "        text-align: left;\n",
              "    }\n",
              "\n",
              "    .dataframe thead tr:last-of-type th {\n",
              "        text-align: right;\n",
              "    }\n",
              "</style>\n",
              "<table border=\"1\" class=\"dataframe\">\n",
              "  <thead>\n",
              "    <tr>\n",
              "      <th></th>\n",
              "      <th colspan=\"3\" halign=\"left\">url_count</th>\n",
              "      <th colspan=\"3\" halign=\"left\">hashtag_count</th>\n",
              "      <th colspan=\"3\" halign=\"left\">mention_count</th>\n",
              "      <th colspan=\"3\" halign=\"left\">digits_count</th>\n",
              "      <th colspan=\"3\" halign=\"left\">characters_count</th>\n",
              "      <th colspan=\"3\" halign=\"left\">characters_count_clean_sw</th>\n",
              "      <th colspan=\"3\" halign=\"left\">word_count</th>\n",
              "      <th colspan=\"3\" halign=\"left\">word_count_clean_sw</th>\n",
              "    </tr>\n",
              "    <tr>\n",
              "      <th></th>\n",
              "      <th>mean</th>\n",
              "      <th>std</th>\n",
              "      <th>skew</th>\n",
              "      <th>mean</th>\n",
              "      <th>std</th>\n",
              "      <th>skew</th>\n",
              "      <th>mean</th>\n",
              "      <th>std</th>\n",
              "      <th>skew</th>\n",
              "      <th>mean</th>\n",
              "      <th>std</th>\n",
              "      <th>skew</th>\n",
              "      <th>mean</th>\n",
              "      <th>std</th>\n",
              "      <th>skew</th>\n",
              "      <th>mean</th>\n",
              "      <th>std</th>\n",
              "      <th>skew</th>\n",
              "      <th>mean</th>\n",
              "      <th>std</th>\n",
              "      <th>skew</th>\n",
              "      <th>mean</th>\n",
              "      <th>std</th>\n",
              "      <th>skew</th>\n",
              "    </tr>\n",
              "    <tr>\n",
              "      <th>target</th>\n",
              "      <th></th>\n",
              "      <th></th>\n",
              "      <th></th>\n",
              "      <th></th>\n",
              "      <th></th>\n",
              "      <th></th>\n",
              "      <th></th>\n",
              "      <th></th>\n",
              "      <th></th>\n",
              "      <th></th>\n",
              "      <th></th>\n",
              "      <th></th>\n",
              "      <th></th>\n",
              "      <th></th>\n",
              "      <th></th>\n",
              "      <th></th>\n",
              "      <th></th>\n",
              "      <th></th>\n",
              "      <th></th>\n",
              "      <th></th>\n",
              "      <th></th>\n",
              "      <th></th>\n",
              "      <th></th>\n",
              "      <th></th>\n",
              "    </tr>\n",
              "  </thead>\n",
              "  <tbody>\n",
              "    <tr>\n",
              "      <th>0</th>\n",
              "      <td>0.46</td>\n",
              "      <td>0.64</td>\n",
              "      <td>1.15</td>\n",
              "      <td>0.36</td>\n",
              "      <td>0.94</td>\n",
              "      <td>3.97</td>\n",
              "      <td>0.44</td>\n",
              "      <td>0.78</td>\n",
              "      <td>2.74</td>\n",
              "      <td>0.02</td>\n",
              "      <td>0.12</td>\n",
              "      <td>7.85</td>\n",
              "      <td>94.42</td>\n",
              "      <td>36.12</td>\n",
              "      <td>-0.39</td>\n",
              "      <td>54.81</td>\n",
              "      <td>25.50</td>\n",
              "      <td>0.06</td>\n",
              "      <td>14.66</td>\n",
              "      <td>6.24</td>\n",
              "      <td>0.08</td>\n",
              "      <td>8.41</td>\n",
              "      <td>3.88</td>\n",
              "      <td>0.20</td>\n",
              "    </tr>\n",
              "    <tr>\n",
              "      <th>1</th>\n",
              "      <td>0.73</td>\n",
              "      <td>0.63</td>\n",
              "      <td>0.32</td>\n",
              "      <td>0.52</td>\n",
              "      <td>1.14</td>\n",
              "      <td>3.86</td>\n",
              "      <td>0.30</td>\n",
              "      <td>0.66</td>\n",
              "      <td>2.77</td>\n",
              "      <td>0.03</td>\n",
              "      <td>0.18</td>\n",
              "      <td>5.11</td>\n",
              "      <td>107.30</td>\n",
              "      <td>29.90</td>\n",
              "      <td>-0.75</td>\n",
              "      <td>66.59</td>\n",
              "      <td>23.70</td>\n",
              "      <td>-0.14</td>\n",
              "      <td>15.18</td>\n",
              "      <td>5.23</td>\n",
              "      <td>0.00</td>\n",
              "      <td>9.81</td>\n",
              "      <td>3.66</td>\n",
              "      <td>0.23</td>\n",
              "    </tr>\n",
              "  </tbody>\n",
              "</table>\n",
              "</div>"
            ],
            "text/plain": [
              "                  url_count  ...  word_count_clean_sw\n",
              "                       mean  ...                 skew\n",
              "target                       ...                     \n",
              "0                      0.46  ...                 0.20\n",
              "1                      0.73  ...                 0.23\n",
              "\n",
              "[2 rows x 24 columns]"
            ]
          },
          "metadata": {
            "tags": []
          },
          "execution_count": 33
        }
      ]
    },
    {
      "cell_type": "code",
      "metadata": {
        "id": "1Tn5oQmg9qgi",
        "colab_type": "code",
        "outputId": "ce8910c7-b123-4b37-e620-1df02096fba3",
        "colab": {
          "base_uri": "https://localhost:8080/",
          "height": 283
        }
      },
      "source": [
        "(train_no_duplicates.corr())['target']"
      ],
      "execution_count": 34,
      "outputs": [
        {
          "output_type": "execute_result",
          "data": {
            "text/plain": [
              "id                                           0.05\n",
              "target                                       1.00\n",
              "duplicate_text_count                         0.05\n",
              "duplicate_text_clean_count                   0.06\n",
              "url_count                                    0.20\n",
              "hashtag_count                                0.08\n",
              "mention_count                               -0.09\n",
              "digits_count                                 0.06\n",
              "characters_count                             0.18\n",
              "characters_count_clean                       0.13\n",
              "characters_count_clean_sw                    0.23\n",
              "word_count                                   0.04\n",
              "word_count_clean                             0.04\n",
              "word_count_clean_sw                          0.18\n",
              "Name: target, dtype: float64"
            ]
          },
          "metadata": {
            "tags": []
          },
          "execution_count": 34
        }
      ]
    },
    {
      "cell_type": "code",
      "metadata": {
        "id": "OmjJrJg7srAs",
        "colab_type": "code",
        "outputId": "d11bfc79-0dcf-4f9c-d866-0317b15ec553",
        "colab": {
          "base_uri": "https://localhost:8080/",
          "height": 443
        }
      },
      "source": [
        "!pip install ptitprince"
      ],
      "execution_count": 35,
      "outputs": [
        {
          "output_type": "stream",
          "text": [
            "Collecting ptitprince\n",
            "  Downloading https://files.pythonhosted.org/packages/5a/af/276dd53cdd46642a04bd34f29fc4c08e0519557960860be0d1114752590b/ptitprince-0.2.3.tar.gz\n",
            "Requirement already satisfied: seaborn>=0.10 in /usr/local/lib/python3.6/dist-packages (from ptitprince) (0.10.1)\n",
            "Requirement already satisfied: matplotlib in /usr/local/lib/python3.6/dist-packages (from ptitprince) (3.2.1)\n",
            "Requirement already satisfied: numpy in /usr/local/lib/python3.6/dist-packages (from ptitprince) (1.18.4)\n",
            "Requirement already satisfied: scipy in /usr/local/lib/python3.6/dist-packages (from ptitprince) (1.4.1)\n",
            "Collecting PyHamcrest>=1.9.0\n",
            "\u001b[?25l  Downloading https://files.pythonhosted.org/packages/40/16/e54cc65891f01cb62893540f44ffd3e8dab0a22443e1b438f1a9f5574bee/PyHamcrest-2.0.2-py3-none-any.whl (52kB)\n",
            "\u001b[K     |████████████████████████████████| 61kB 3.0MB/s \n",
            "\u001b[?25hRequirement already satisfied: cython in /usr/local/lib/python3.6/dist-packages (from ptitprince) (0.29.18)\n",
            "Requirement already satisfied: pandas>=0.22.0 in /usr/local/lib/python3.6/dist-packages (from seaborn>=0.10->ptitprince) (1.0.3)\n",
            "Requirement already satisfied: pyparsing!=2.0.4,!=2.1.2,!=2.1.6,>=2.0.1 in /usr/local/lib/python3.6/dist-packages (from matplotlib->ptitprince) (2.4.7)\n",
            "Requirement already satisfied: kiwisolver>=1.0.1 in /usr/local/lib/python3.6/dist-packages (from matplotlib->ptitprince) (1.2.0)\n",
            "Requirement already satisfied: cycler>=0.10 in /usr/local/lib/python3.6/dist-packages (from matplotlib->ptitprince) (0.10.0)\n",
            "Requirement already satisfied: python-dateutil>=2.1 in /usr/local/lib/python3.6/dist-packages (from matplotlib->ptitprince) (2.8.1)\n",
            "Requirement already satisfied: pytz>=2017.2 in /usr/local/lib/python3.6/dist-packages (from pandas>=0.22.0->seaborn>=0.10->ptitprince) (2018.9)\n",
            "Requirement already satisfied: six in /usr/local/lib/python3.6/dist-packages (from cycler>=0.10->matplotlib->ptitprince) (1.12.0)\n",
            "Building wheels for collected packages: ptitprince\n",
            "  Building wheel for ptitprince (setup.py) ... \u001b[?25l\u001b[?25hdone\n",
            "  Created wheel for ptitprince: filename=ptitprince-0.2.3-cp36-none-any.whl size=8445 sha256=2b39a57f5a6ba466d5f4e84f0c94bed0c91b108317b5d01ca0dc562648188251\n",
            "  Stored in directory: /root/.cache/pip/wheels/0a/f8/51/69b54ac713d656ee1a792a3cd5f33deb742156183882b01c10\n",
            "Successfully built ptitprince\n",
            "Installing collected packages: PyHamcrest, ptitprince\n",
            "Successfully installed PyHamcrest-2.0.2 ptitprince-0.2.3\n"
          ],
          "name": "stdout"
        }
      ]
    },
    {
      "cell_type": "code",
      "metadata": {
        "id": "6DAMOX7AsEhS",
        "colab_type": "code",
        "outputId": "522333e2-11f2-43d5-8f9c-53ff3a43356e",
        "colab": {
          "base_uri": "https://localhost:8080/",
          "height": 304
        }
      },
      "source": [
        "import ptitprince as pt\n",
        "ax=pt.RainCloud(x='target',y='characters_count',data=train_no_duplicates, showmeans=True,\n",
        "width_viol=1.2,\n",
        "width_box=0.1,\n",
        "figsize=(8,15),\n",
        "orient='h')\n",
        "ax.set_title('RainCloud Plot: Distribución Largo del Tweet por Target - Before Cleaning',fontsize=14,fontweight='bold')\n",
        "ax.set_xlabel('Cantidad de caracteres')\n",
        "ax.set_ylabel('')\n",
        "plt.yticks([0, 1], ['Not Real', 'Real'])\n",
        "plt.show()"
      ],
      "execution_count": 36,
      "outputs": [
        {
          "output_type": "display_data",
          "data": {
            "image/png": "[encoded data removed]",
            "text/plain": [
              "<Figure size 432x288 with 1 Axes>"
            ]
          },
          "metadata": {
            "tags": [],
            "needs_background": "light"
          }
        }
      ]
    },
    {
      "cell_type": "code",
      "metadata": {
        "id": "A_x6JBNfpGst",
        "colab_type": "code",
        "outputId": "cd449fa0-4a81-4ed2-bd27-426870acb7a5",
        "colab": {
          "base_uri": "https://localhost:8080/",
          "height": 304
        }
      },
      "source": [
        "import ptitprince as pt\n",
        "ax=pt.RainCloud(x='target',y='characters_count_clean',data=train_no_duplicates, showmeans=True,\n",
        "width_viol=1.2,\n",
        "width_box=0.1,\n",
        "figsize=(8,15),\n",
        "orient='h')\n",
        "ax.set_title('RainCloud Plot: Distribución Largo del Tweet por Target?',fontsize=14,fontweight='bold')\n",
        "ax.set_xlabel('Cantidad de caracteres')\n",
        "ax.set_ylabel('')\n",
        "plt.yticks([0, 1], ['Not Real', 'Real'])\n",
        "plt.show()"
      ],
      "execution_count": 37,
      "outputs": [
        {
          "output_type": "display_data",
          "data": {
            "image/png": "[encoded data removed]",
            "text/plain": [
              "<Figure size 432x288 with 1 Axes>"
            ]
          },
          "metadata": {
            "tags": [],
            "needs_background": "light"
          }
        }
      ]
    },
    {
      "cell_type": "code",
      "metadata": {
        "id": "5mxEhx-tuZ7o",
        "colab_type": "code",
        "outputId": "5e565cf9-d694-40dc-c4b5-eab73880fa68",
        "colab": {
          "base_uri": "https://localhost:8080/",
          "height": 304
        }
      },
      "source": [
        "import ptitprince as pt\n",
        "ax=pt.RainCloud(x='target',y='characters_count_clean_sw',data=train_no_duplicates, showmeans=True,\n",
        "width_viol=1.2,\n",
        "width_box=0.1,\n",
        "figsize=(8,15),\n",
        "orient='h')\n",
        "ax.set_title('RainCloud Plot: Distribución Largo del Tweet por Target - After Cleaning',fontsize=14,fontweight='bold')\n",
        "ax.set_xlabel('Cantidad de caracteres')\n",
        "ax.set_ylabel('')\n",
        "plt.yticks([0, 1], ['Not Real', 'Real'])\n",
        "plt.show()"
      ],
      "execution_count": 38,
      "outputs": [
        {
          "output_type": "display_data",
          "data": {
            "image/png": "[encoded data removed]",
            "text/plain": [
              "<Figure size 432x288 with 1 Axes>"
            ]
          },
          "metadata": {
            "tags": [],
            "needs_background": "light"
          }
        }
      ]
    },
    {
      "cell_type": "code",
      "metadata": {
        "id": "TDCE3wFuxsnr",
        "colab_type": "code",
        "outputId": "2aadb9b6-4d07-4e35-c23d-f2bac0cebeba",
        "colab": {
          "base_uri": "https://localhost:8080/",
          "height": 304
        }
      },
      "source": [
        "ax=pt.RainCloud(x='target',y='word_count',data=train_no_duplicates, showmeans=True,\n",
        "width_viol=1.2,\n",
        "width_box=0.1,\n",
        "figsize=(8,15),\n",
        "orient='h')\n",
        "ax.set_title('RainCloud Plot: Distribución Cantidad de Palabras por Target - Before Cleaning',fontsize=14,fontweight='bold')\n",
        "ax.set_xlabel('Cantidad de palabras')\n",
        "ax.set_ylabel('')\n",
        "plt.yticks([0, 1], ['Not Real', 'Real'])\n",
        "plt.show()"
      ],
      "execution_count": 39,
      "outputs": [
        {
          "output_type": "display_data",
          "data": {
            "image/png": "[encoded data removed]",
            "text/plain": [
              "<Figure size 432x288 with 1 Axes>"
            ]
          },
          "metadata": {
            "tags": [],
            "needs_background": "light"
          }
        }
      ]
    },
    {
      "cell_type": "code",
      "metadata": {
        "id": "G0E6fwA4yrQj",
        "colab_type": "code",
        "outputId": "787b7dce-7c73-4f22-f727-634dcd3988e7",
        "colab": {
          "base_uri": "https://localhost:8080/",
          "height": 304
        }
      },
      "source": [
        "ax=pt.RainCloud(x='target',y='word_count_clean_sw',data=train_no_duplicates, showmeans=True,\n",
        "width_viol=1.2,\n",
        "width_box=0.1,\n",
        "figsize=(8,15),\n",
        "orient='h')\n",
        "ax.set_title('RainCloud Plot: Distribución Cantidad de Palabras por Target - After Cleaning',fontsize=14,fontweight='bold')\n",
        "ax.set_xlabel('Cantidad de palabras')\n",
        "ax.set_ylabel('')\n",
        "plt.yticks([0, 1], ['Not Real', 'Real'])\n",
        "plt.show()"
      ],
      "execution_count": 40,
      "outputs": [
        {
          "output_type": "display_data",
          "data": {
            "image/png": "[encoded data removed]",
            "text/plain": [
              "<Figure size 432x288 with 1 Axes>"
            ]
          },
          "metadata": {
            "tags": [],
            "needs_background": "light"
          }
        }
      ]
    },
    {
      "cell_type": "code",
      "metadata": {
        "id": "Vb9-Y_sTl_yw",
        "colab_type": "code",
        "outputId": "3d33b47b-a351-40dc-8c23-f074edee9080",
        "colab": {
          "base_uri": "https://localhost:8080/",
          "height": 304
        }
      },
      "source": [
        "#Comparamos las distribuciones de url count por target. \n",
        "import ptitprince as pt\n",
        "ax=pt.RainCloud(x='target',y='url_count',data=train_no_duplicates, showmeans=True,\n",
        "width_viol=1.2,\n",
        "width_box=0.1,\n",
        "figsize=(8,15),\n",
        "orient='h')\n",
        "ax.set_title('RainCloud Plot: Distribución de Cantidad de URLs por Target',fontsize=14,fontweight='bold')\n",
        "ax.set_xlabel('Cantidad de URL')\n",
        "ax.set_ylabel('')\n",
        "plt.yticks([0, 1], ['Not Real', 'Real'])\n",
        "plt.show()\n",
        "\n"
      ],
      "execution_count": 41,
      "outputs": [
        {
          "output_type": "display_data",
          "data": {
            "image/png": "[encoded data removed]",
            "text/plain": [
              "<Figure size 432x288 with 1 Axes>"
            ]
          },
          "metadata": {
            "tags": [],
            "needs_background": "light"
          }
        }
      ]
    },
    {
      "cell_type": "code",
      "metadata": {
        "id": "py8S3w3_3xIY",
        "colab_type": "code",
        "outputId": "00974cbc-8111-478e-ef0f-789be59ec325",
        "colab": {
          "base_uri": "https://localhost:8080/",
          "height": 107
        }
      },
      "source": [
        "#Veamos la correlación entre estas dos variables. \n",
        "train_no_duplicates[['target','url_count']].corr()"
      ],
      "execution_count": 42,
      "outputs": [
        {
          "output_type": "execute_result",
          "data": {
            "text/html": [
              "<div>\n",
              "<style scoped>\n",
              "    .dataframe tbody tr th:only-of-type {\n",
              "        vertical-align: middle;\n",
              "    }\n",
              "\n",
              "    .dataframe tbody tr th {\n",
              "        vertical-align: top;\n",
              "    }\n",
              "\n",
              "    .dataframe thead th {\n",
              "        text-align: right;\n",
              "    }\n",
              "</style>\n",
              "<table border=\"1\" class=\"dataframe\">\n",
              "  <thead>\n",
              "    <tr style=\"text-align: right;\">\n",
              "      <th></th>\n",
              "      <th>target</th>\n",
              "      <th>url_count</th>\n",
              "    </tr>\n",
              "  </thead>\n",
              "  <tbody>\n",
              "    <tr>\n",
              "      <th>target</th>\n",
              "      <td>1.00</td>\n",
              "      <td>0.20</td>\n",
              "    </tr>\n",
              "    <tr>\n",
              "      <th>url_count</th>\n",
              "      <td>0.20</td>\n",
              "      <td>1.00</td>\n",
              "    </tr>\n",
              "  </tbody>\n",
              "</table>\n",
              "</div>"
            ],
            "text/plain": [
              "                        target            url_count\n",
              "target                    1.00                 0.20\n",
              "url_count                 0.20                 1.00"
            ]
          },
          "metadata": {
            "tags": []
          },
          "execution_count": 42
        }
      ]
    },
    {
      "cell_type": "code",
      "metadata": {
        "id": "5lOpUUl2wU-n",
        "colab_type": "code",
        "outputId": "793775b8-219f-455d-9dcc-ab0dfa303f56",
        "colab": {
          "base_uri": "https://localhost:8080/",
          "height": 304
        }
      },
      "source": [
        "#Comparamos la distribuciones de hashtags por target. \n",
        "import ptitprince as pt\n",
        "ax=pt.RainCloud(x='target',y='hashtag_count',data=train_no_duplicates, showmeans=True,\n",
        "width_viol=1.2,\n",
        "width_box=0.1,\n",
        "figsize=(8,15),\n",
        "orient='h')\n",
        "ax.set_title('RainCloud Plot: Distribución de Cantidad de Hashtags por Target',fontsize=14,fontweight='bold')\n",
        "ax.set_xlabel('Cantidad de Hashtags')\n",
        "ax.set_ylabel('')\n",
        "plt.yticks([0, 1], ['Not Real', 'Real'])\n",
        "plt.show()"
      ],
      "execution_count": 43,
      "outputs": [
        {
          "output_type": "display_data",
          "data": {
            "image/png": "[encoded data removed]",
            "text/plain": [
              "<Figure size 432x288 with 1 Axes>"
            ]
          },
          "metadata": {
            "tags": [],
            "needs_background": "light"
          }
        }
      ]
    },
    {
      "cell_type": "code",
      "metadata": {
        "id": "Uab0Bst025XX",
        "colab_type": "code",
        "outputId": "3f98496b-c186-4a94-9392-cd43f2609b16",
        "colab": {
          "base_uri": "https://localhost:8080/",
          "height": 304
        }
      },
      "source": [
        "#Comparamos la distribuciones de mentions_count por target. \n",
        "import ptitprince as pt\n",
        "ax=pt.RainCloud(x='target',y='mention_count',data=train_no_duplicates, showmeans=True,\n",
        "width_viol=1.2,\n",
        "width_box=0.1,\n",
        "figsize=(8,15),\n",
        "orient='h')\n",
        "ax.set_title('RainCloud Plot: Distribución de Cantidad de Mentions por Target',fontsize=14,fontweight='bold')\n",
        "ax.set_xlabel('Cantidad de Mentions')\n",
        "ax.set_ylabel('')\n",
        "plt.yticks([0, 1], ['Not Real', 'Real'])\n",
        "plt.show()"
      ],
      "execution_count": 44,
      "outputs": [
        {
          "output_type": "display_data",
          "data": {
            "image/png": "[encoded data removed]",
            "text/plain": [
              "<Figure size 432x288 with 1 Axes>"
            ]
          },
          "metadata": {
            "tags": [],
            "needs_background": "light"
          }
        }
      ]
    },
    {
      "cell_type": "code",
      "metadata": {
        "id": "gpVxg8F2_xZc",
        "colab_type": "code",
        "outputId": "1732f45b-7c3e-46b6-bf56-17d2f9986c37",
        "colab": {
          "base_uri": "https://localhost:8080/",
          "height": 305
        }
      },
      "source": [
        "#Comparamos la distribuciones de digits_count por target. \n",
        "import ptitprince as pt\n",
        "ax=pt.RainCloud(x='target',y='digits_count',data=train_no_duplicates, showmeans=True,\n",
        "width_viol=1.2,\n",
        "width_box=0.1,\n",
        "figsize=(8,15),\n",
        "orient='h')\n",
        "ax.set_title('RainCloud Plot: Distribución de Cantidad de Dígitos por Target',fontsize=14,fontweight='bold')\n",
        "ax.set_xlabel('Cantidad de Dígitos')\n",
        "ax.set_ylabel('')\n",
        "plt.yticks([0, 1], ['Not Real', 'Real'])\n",
        "plt.show()"
      ],
      "execution_count": 45,
      "outputs": [
        {
          "output_type": "display_data",
          "data": {
            "image/png": "[encoded data removed]",
            "text/plain": [
              "<Figure size 432x288 with 1 Axes>"
            ]
          },
          "metadata": {
            "tags": [],
            "needs_background": "light"
          }
        }
      ]
    },
    {
      "cell_type": "code",
      "metadata": {
        "id": "vR3glUR-EvF_",
        "colab_type": "code",
        "outputId": "3e51b1c5-9e86-4915-f110-75d825704ebb",
        "colab": {
          "base_uri": "https://localhost:8080/",
          "height": 70
        }
      },
      "source": [
        "#Value Counts de digits_count\n",
        "train_no_duplicates.digits_count.value_counts(normalize=True)"
      ],
      "execution_count": 46,
      "outputs": [
        {
          "output_type": "execute_result",
          "data": {
            "text/plain": [
              "0                   0.98\n",
              "1                   0.02\n",
              "Name: digits_count, dtype: float64"
            ]
          },
          "metadata": {
            "tags": []
          },
          "execution_count": 46
        }
      ]
    },
    {
      "cell_type": "markdown",
      "metadata": {
        "id": "1TViThuFzIpn",
        "colab_type": "text"
      },
      "source": [
        "#Analisis de Stopwords "
      ]
    },
    {
      "cell_type": "code",
      "metadata": {
        "id": "oFr90V0szM_J",
        "colab_type": "code",
        "colab": {}
      },
      "source": [
        "sw = stopwords.words(\"english\")\n",
        "\n",
        "def generate_tokens(target):\n",
        "    text_tokens=[]\n",
        "    for x in train_no_duplicates[train_no_duplicates['target']==target]['text_clean'].str.split():\n",
        "        for i in x:\n",
        "            text_tokens.append(i)\n",
        "    return text_tokens\n",
        "\n",
        "#Analizo stopwords para target Not Real\n",
        "tokens_0=generate_tokens(0)\n",
        "\n",
        "dic=defaultdict(int)\n",
        "\n",
        "for word in tokens_0:\n",
        "    if word in sw:\n",
        "        dic[word]+=1\n",
        "\n",
        "stopwords_0=dic\n",
        "\n",
        "\n",
        "#Analizo stopwords para target Real\n",
        "\n",
        "tokens_1=generate_tokens(1)\n",
        "\n",
        "dic=defaultdict(int)\n",
        "\n",
        "for word in tokens_1:\n",
        "    if word in sw:\n",
        "        dic[word]+=1\n",
        "\n",
        "stopwords_1=dic\n"
      ],
      "execution_count": 0,
      "outputs": []
    },
    {
      "cell_type": "code",
      "metadata": {
        "id": "9zsGE11q5mZM",
        "colab_type": "code",
        "colab": {}
      },
      "source": [
        "stopwords_0=pd.DataFrame.from_dict(stopwords_0,orient='index').reset_index()\n",
        "stopwords_1=pd.DataFrame.from_dict(stopwords_1,orient='index').reset_index()"
      ],
      "execution_count": 0,
      "outputs": []
    },
    {
      "cell_type": "code",
      "metadata": {
        "id": "uynxyjN9BYLP",
        "colab_type": "code",
        "colab": {}
      },
      "source": [
        "stopwords_merged=pd.merge(stopwords_0,stopwords_1,how='outer',on='index')"
      ],
      "execution_count": 0,
      "outputs": []
    },
    {
      "cell_type": "code",
      "metadata": {
        "id": "UMOc2VsBDNSu",
        "colab_type": "code",
        "colab": {}
      },
      "source": [
        "stopwords_merged.columns=['stopwords','target_0','target_1']"
      ],
      "execution_count": 0,
      "outputs": []
    },
    {
      "cell_type": "code",
      "metadata": {
        "id": "HYwRIZvaIrP-",
        "colab_type": "code",
        "colab": {}
      },
      "source": [
        "stopwords_merged['target_0']=pd.to_numeric(stopwords_merged.target_0)\n",
        "stopwords_merged['target_1']=pd.to_numeric(stopwords_merged.target_1)"
      ],
      "execution_count": 0,
      "outputs": []
    },
    {
      "cell_type": "code",
      "metadata": {
        "id": "Vs5ptJCjEul0",
        "colab_type": "code",
        "outputId": "3d8d7f9e-3fc9-4463-b2b7-53191f60de51",
        "colab": {
          "base_uri": "https://localhost:8080/",
          "height": 0
        }
      },
      "source": [
        "stopwords_merged.target_0.fillna(0,inplace=True)\n",
        "stopwords_merged.target_1.fillna(0,inplace=True)\n",
        "stopwords_merged"
      ],
      "execution_count": 52,
      "outputs": [
        {
          "output_type": "execute_result",
          "data": {
            "text/html": [
              "<div>\n",
              "<style scoped>\n",
              "    .dataframe tbody tr th:only-of-type {\n",
              "        vertical-align: middle;\n",
              "    }\n",
              "\n",
              "    .dataframe tbody tr th {\n",
              "        vertical-align: top;\n",
              "    }\n",
              "\n",
              "    .dataframe thead th {\n",
              "        text-align: right;\n",
              "    }\n",
              "</style>\n",
              "<table border=\"1\" class=\"dataframe\">\n",
              "  <thead>\n",
              "    <tr style=\"text-align: right;\">\n",
              "      <th></th>\n",
              "      <th>stopwords</th>\n",
              "      <th>target_0</th>\n",
              "      <th>target_1</th>\n",
              "    </tr>\n",
              "  </thead>\n",
              "  <tbody>\n",
              "    <tr>\n",
              "      <th>0</th>\n",
              "      <td>s</td>\n",
              "      <td>522.00</td>\n",
              "      <td>296.00</td>\n",
              "    </tr>\n",
              "    <tr>\n",
              "      <th>1</th>\n",
              "      <td>up</td>\n",
              "      <td>180.00</td>\n",
              "      <td>85.00</td>\n",
              "    </tr>\n",
              "    <tr>\n",
              "      <th>2</th>\n",
              "      <td>is</td>\n",
              "      <td>494.00</td>\n",
              "      <td>284.00</td>\n",
              "    </tr>\n",
              "    <tr>\n",
              "      <th>3</th>\n",
              "      <td>so</td>\n",
              "      <td>185.00</td>\n",
              "      <td>48.00</td>\n",
              "    </tr>\n",
              "    <tr>\n",
              "      <th>4</th>\n",
              "      <td>a</td>\n",
              "      <td>1,088.00</td>\n",
              "      <td>690.00</td>\n",
              "    </tr>\n",
              "    <tr>\n",
              "      <th>...</th>\n",
              "      <td>...</td>\n",
              "      <td>...</td>\n",
              "      <td>...</td>\n",
              "    </tr>\n",
              "    <tr>\n",
              "      <th>142</th>\n",
              "      <td>ourselves</td>\n",
              "      <td>2.00</td>\n",
              "      <td>0.00</td>\n",
              "    </tr>\n",
              "    <tr>\n",
              "      <th>143</th>\n",
              "      <td>above</td>\n",
              "      <td>4.00</td>\n",
              "      <td>2.00</td>\n",
              "    </tr>\n",
              "    <tr>\n",
              "      <th>144</th>\n",
              "      <td>theirs</td>\n",
              "      <td>1.00</td>\n",
              "      <td>0.00</td>\n",
              "    </tr>\n",
              "    <tr>\n",
              "      <th>145</th>\n",
              "      <td>hers</td>\n",
              "      <td>0.00</td>\n",
              "      <td>1.00</td>\n",
              "    </tr>\n",
              "    <tr>\n",
              "      <th>146</th>\n",
              "      <td>ma</td>\n",
              "      <td>0.00</td>\n",
              "      <td>1.00</td>\n",
              "    </tr>\n",
              "  </tbody>\n",
              "</table>\n",
              "<p>147 rows × 3 columns</p>\n",
              "</div>"
            ],
            "text/plain": [
              "     stopwords             target_0             target_1\n",
              "0            s               522.00               296.00\n",
              "1           up               180.00                85.00\n",
              "2           is               494.00               284.00\n",
              "3           so               185.00                48.00\n",
              "4            a             1,088.00               690.00\n",
              "..         ...                  ...                  ...\n",
              "142  ourselves                 2.00                 0.00\n",
              "143      above                 4.00                 2.00\n",
              "144     theirs                 1.00                 0.00\n",
              "145       hers                 0.00                 1.00\n",
              "146         ma                 0.00                 1.00\n",
              "\n",
              "[147 rows x 3 columns]"
            ]
          },
          "metadata": {
            "tags": []
          },
          "execution_count": 52
        }
      ]
    },
    {
      "cell_type": "code",
      "metadata": {
        "id": "JQcPqxbRDjiX",
        "colab_type": "code",
        "colab": {}
      },
      "source": [
        "stopwords_merged['total_count']=stopwords_merged['target_0']+stopwords_merged['target_1']\n",
        "stopwords_merged['truthfulness']=stopwords_merged['target_1']/stopwords_merged['total_count']"
      ],
      "execution_count": 0,
      "outputs": []
    },
    {
      "cell_type": "code",
      "metadata": {
        "id": "2iQsZZLgMF2o",
        "colab_type": "code",
        "outputId": "2a77d6d6-b3fd-4662-9031-5a91e8639df4",
        "colab": {
          "base_uri": "https://localhost:8080/",
          "height": 0
        }
      },
      "source": [
        "#Le pido que me muestre cuando target_1 es mayor a target_0\n",
        "stopwords_merged[stopwords_merged.loc[:,'target_1']>stopwords_merged.loc[:,'target_0']].sort_values(by='total_count', ascending=False).head(20)"
      ],
      "execution_count": 54,
      "outputs": [
        {
          "output_type": "execute_result",
          "data": {
            "text/html": [
              "<div>\n",
              "<style scoped>\n",
              "    .dataframe tbody tr th:only-of-type {\n",
              "        vertical-align: middle;\n",
              "    }\n",
              "\n",
              "    .dataframe tbody tr th {\n",
              "        vertical-align: top;\n",
              "    }\n",
              "\n",
              "    .dataframe thead th {\n",
              "        text-align: right;\n",
              "    }\n",
              "</style>\n",
              "<table border=\"1\" class=\"dataframe\">\n",
              "  <thead>\n",
              "    <tr style=\"text-align: right;\">\n",
              "      <th></th>\n",
              "      <th>stopwords</th>\n",
              "      <th>target_0</th>\n",
              "      <th>target_1</th>\n",
              "      <th>total_count</th>\n",
              "      <th>truthfulness</th>\n",
              "    </tr>\n",
              "  </thead>\n",
              "  <tbody>\n",
              "    <tr>\n",
              "      <th>9</th>\n",
              "      <td>in</td>\n",
              "      <td>692.00</td>\n",
              "      <td>890.00</td>\n",
              "      <td>1,582.00</td>\n",
              "      <td>0.56</td>\n",
              "    </tr>\n",
              "    <tr>\n",
              "      <th>34</th>\n",
              "      <td>at</td>\n",
              "      <td>204.00</td>\n",
              "      <td>244.00</td>\n",
              "      <td>448.00</td>\n",
              "      <td>0.54</td>\n",
              "    </tr>\n",
              "    <tr>\n",
              "      <th>67</th>\n",
              "      <td>from</td>\n",
              "      <td>156.00</td>\n",
              "      <td>178.00</td>\n",
              "      <td>334.00</td>\n",
              "      <td>0.53</td>\n",
              "    </tr>\n",
              "    <tr>\n",
              "      <th>99</th>\n",
              "      <td>after</td>\n",
              "      <td>61.00</td>\n",
              "      <td>112.00</td>\n",
              "      <td>173.00</td>\n",
              "      <td>0.65</td>\n",
              "    </tr>\n",
              "    <tr>\n",
              "      <th>57</th>\n",
              "      <td>over</td>\n",
              "      <td>55.00</td>\n",
              "      <td>76.00</td>\n",
              "      <td>131.00</td>\n",
              "      <td>0.58</td>\n",
              "    </tr>\n",
              "    <tr>\n",
              "      <th>86</th>\n",
              "      <td>than</td>\n",
              "      <td>51.00</td>\n",
              "      <td>54.00</td>\n",
              "      <td>105.00</td>\n",
              "      <td>0.51</td>\n",
              "    </tr>\n",
              "    <tr>\n",
              "      <th>60</th>\n",
              "      <td>were</td>\n",
              "      <td>30.00</td>\n",
              "      <td>64.00</td>\n",
              "      <td>94.00</td>\n",
              "      <td>0.68</td>\n",
              "    </tr>\n",
              "    <tr>\n",
              "      <th>100</th>\n",
              "      <td>during</td>\n",
              "      <td>13.00</td>\n",
              "      <td>29.00</td>\n",
              "      <td>42.00</td>\n",
              "      <td>0.69</td>\n",
              "    </tr>\n",
              "    <tr>\n",
              "      <th>85</th>\n",
              "      <td>those</td>\n",
              "      <td>17.00</td>\n",
              "      <td>24.00</td>\n",
              "      <td>41.00</td>\n",
              "      <td>0.59</td>\n",
              "    </tr>\n",
              "    <tr>\n",
              "      <th>120</th>\n",
              "      <td>isn</td>\n",
              "      <td>5.00</td>\n",
              "      <td>9.00</td>\n",
              "      <td>14.00</td>\n",
              "      <td>0.64</td>\n",
              "    </tr>\n",
              "    <tr>\n",
              "      <th>79</th>\n",
              "      <td>between</td>\n",
              "      <td>6.00</td>\n",
              "      <td>7.00</td>\n",
              "      <td>13.00</td>\n",
              "      <td>0.54</td>\n",
              "    </tr>\n",
              "    <tr>\n",
              "      <th>145</th>\n",
              "      <td>hers</td>\n",
              "      <td>0.00</td>\n",
              "      <td>1.00</td>\n",
              "      <td>1.00</td>\n",
              "      <td>1.00</td>\n",
              "    </tr>\n",
              "    <tr>\n",
              "      <th>146</th>\n",
              "      <td>ma</td>\n",
              "      <td>0.00</td>\n",
              "      <td>1.00</td>\n",
              "      <td>1.00</td>\n",
              "      <td>1.00</td>\n",
              "    </tr>\n",
              "  </tbody>\n",
              "</table>\n",
              "</div>"
            ],
            "text/plain": [
              "    stopwords             target_0  ...          total_count         truthfulness\n",
              "9          in               692.00  ...             1,582.00                 0.56\n",
              "34         at               204.00  ...               448.00                 0.54\n",
              "67       from               156.00  ...               334.00                 0.53\n",
              "99      after                61.00  ...               173.00                 0.65\n",
              "57       over                55.00  ...               131.00                 0.58\n",
              "86       than                51.00  ...               105.00                 0.51\n",
              "60       were                30.00  ...                94.00                 0.68\n",
              "100    during                13.00  ...                42.00                 0.69\n",
              "85      those                17.00  ...                41.00                 0.59\n",
              "120       isn                 5.00  ...                14.00                 0.64\n",
              "79    between                 6.00  ...                13.00                 0.54\n",
              "145      hers                 0.00  ...                 1.00                 1.00\n",
              "146        ma                 0.00  ...                 1.00                 1.00\n",
              "\n",
              "[13 rows x 5 columns]"
            ]
          },
          "metadata": {
            "tags": []
          },
          "execution_count": 54
        }
      ]
    },
    {
      "cell_type": "code",
      "metadata": {
        "id": "P5Wgb08kMHnS",
        "colab_type": "code",
        "outputId": "4ecc6c84-e640-4b8b-cafb-f04a322daed9",
        "colab": {
          "base_uri": "https://localhost:8080/",
          "height": 0
        }
      },
      "source": [
        "#Le pido que me muestre cuando target_0 es mayor que target_1\n",
        "stopwords_merged[stopwords_merged.loc[:,'target_0']>stopwords_merged.loc[:,'target_1']].sort_values(by='total_count', ascending=False).head(20)"
      ],
      "execution_count": 55,
      "outputs": [
        {
          "output_type": "execute_result",
          "data": {
            "text/html": [
              "<div>\n",
              "<style scoped>\n",
              "    .dataframe tbody tr th:only-of-type {\n",
              "        vertical-align: middle;\n",
              "    }\n",
              "\n",
              "    .dataframe tbody tr th {\n",
              "        vertical-align: top;\n",
              "    }\n",
              "\n",
              "    .dataframe thead th {\n",
              "        text-align: right;\n",
              "    }\n",
              "</style>\n",
              "<table border=\"1\" class=\"dataframe\">\n",
              "  <thead>\n",
              "    <tr style=\"text-align: right;\">\n",
              "      <th></th>\n",
              "      <th>stopwords</th>\n",
              "      <th>target_0</th>\n",
              "      <th>target_1</th>\n",
              "      <th>total_count</th>\n",
              "      <th>truthfulness</th>\n",
              "    </tr>\n",
              "  </thead>\n",
              "  <tbody>\n",
              "    <tr>\n",
              "      <th>13</th>\n",
              "      <td>the</td>\n",
              "      <td>1,471.00</td>\n",
              "      <td>934.00</td>\n",
              "      <td>2,405.00</td>\n",
              "      <td>0.39</td>\n",
              "    </tr>\n",
              "    <tr>\n",
              "      <th>4</th>\n",
              "      <td>a</td>\n",
              "      <td>1,088.00</td>\n",
              "      <td>690.00</td>\n",
              "      <td>1,778.00</td>\n",
              "      <td>0.39</td>\n",
              "    </tr>\n",
              "    <tr>\n",
              "      <th>12</th>\n",
              "      <td>to</td>\n",
              "      <td>1,060.00</td>\n",
              "      <td>633.00</td>\n",
              "      <td>1,693.00</td>\n",
              "      <td>0.37</td>\n",
              "    </tr>\n",
              "    <tr>\n",
              "      <th>27</th>\n",
              "      <td>of</td>\n",
              "      <td>793.00</td>\n",
              "      <td>738.00</td>\n",
              "      <td>1,531.00</td>\n",
              "      <td>0.48</td>\n",
              "    </tr>\n",
              "    <tr>\n",
              "      <th>25</th>\n",
              "      <td>and</td>\n",
              "      <td>810.00</td>\n",
              "      <td>416.00</td>\n",
              "      <td>1,226.00</td>\n",
              "      <td>0.34</td>\n",
              "    </tr>\n",
              "    <tr>\n",
              "      <th>0</th>\n",
              "      <td>s</td>\n",
              "      <td>522.00</td>\n",
              "      <td>296.00</td>\n",
              "      <td>818.00</td>\n",
              "      <td>0.36</td>\n",
              "    </tr>\n",
              "    <tr>\n",
              "      <th>2</th>\n",
              "      <td>is</td>\n",
              "      <td>494.00</td>\n",
              "      <td>284.00</td>\n",
              "      <td>778.00</td>\n",
              "      <td>0.37</td>\n",
              "    </tr>\n",
              "    <tr>\n",
              "      <th>23</th>\n",
              "      <td>on</td>\n",
              "      <td>388.00</td>\n",
              "      <td>368.00</td>\n",
              "      <td>756.00</td>\n",
              "      <td>0.49</td>\n",
              "    </tr>\n",
              "    <tr>\n",
              "      <th>15</th>\n",
              "      <td>for</td>\n",
              "      <td>436.00</td>\n",
              "      <td>304.00</td>\n",
              "      <td>740.00</td>\n",
              "      <td>0.41</td>\n",
              "    </tr>\n",
              "    <tr>\n",
              "      <th>11</th>\n",
              "      <td>you</td>\n",
              "      <td>593.00</td>\n",
              "      <td>110.00</td>\n",
              "      <td>703.00</td>\n",
              "      <td>0.16</td>\n",
              "    </tr>\n",
              "    <tr>\n",
              "      <th>31</th>\n",
              "      <td>it</td>\n",
              "      <td>408.00</td>\n",
              "      <td>167.00</td>\n",
              "      <td>575.00</td>\n",
              "      <td>0.29</td>\n",
              "    </tr>\n",
              "    <tr>\n",
              "      <th>10</th>\n",
              "      <td>my</td>\n",
              "      <td>437.00</td>\n",
              "      <td>100.00</td>\n",
              "      <td>537.00</td>\n",
              "      <td>0.19</td>\n",
              "    </tr>\n",
              "    <tr>\n",
              "      <th>8</th>\n",
              "      <td>that</td>\n",
              "      <td>356.00</td>\n",
              "      <td>174.00</td>\n",
              "      <td>530.00</td>\n",
              "      <td>0.33</td>\n",
              "    </tr>\n",
              "    <tr>\n",
              "      <th>28</th>\n",
              "      <td>with</td>\n",
              "      <td>342.00</td>\n",
              "      <td>143.00</td>\n",
              "      <td>485.00</td>\n",
              "      <td>0.29</td>\n",
              "    </tr>\n",
              "    <tr>\n",
              "      <th>7</th>\n",
              "      <td>t</td>\n",
              "      <td>344.00</td>\n",
              "      <td>134.00</td>\n",
              "      <td>478.00</td>\n",
              "      <td>0.28</td>\n",
              "    </tr>\n",
              "    <tr>\n",
              "      <th>42</th>\n",
              "      <td>by</td>\n",
              "      <td>196.00</td>\n",
              "      <td>170.00</td>\n",
              "      <td>366.00</td>\n",
              "      <td>0.46</td>\n",
              "    </tr>\n",
              "    <tr>\n",
              "      <th>39</th>\n",
              "      <td>be</td>\n",
              "      <td>262.00</td>\n",
              "      <td>99.00</td>\n",
              "      <td>361.00</td>\n",
              "      <td>0.27</td>\n",
              "    </tr>\n",
              "    <tr>\n",
              "      <th>37</th>\n",
              "      <td>was</td>\n",
              "      <td>199.00</td>\n",
              "      <td>156.00</td>\n",
              "      <td>355.00</td>\n",
              "      <td>0.44</td>\n",
              "    </tr>\n",
              "    <tr>\n",
              "      <th>32</th>\n",
              "      <td>have</td>\n",
              "      <td>216.00</td>\n",
              "      <td>122.00</td>\n",
              "      <td>338.00</td>\n",
              "      <td>0.36</td>\n",
              "    </tr>\n",
              "    <tr>\n",
              "      <th>5</th>\n",
              "      <td>this</td>\n",
              "      <td>227.00</td>\n",
              "      <td>110.00</td>\n",
              "      <td>337.00</td>\n",
              "      <td>0.33</td>\n",
              "    </tr>\n",
              "  </tbody>\n",
              "</table>\n",
              "</div>"
            ],
            "text/plain": [
              "   stopwords             target_0  ...          total_count         truthfulness\n",
              "13       the             1,471.00  ...             2,405.00                 0.39\n",
              "4          a             1,088.00  ...             1,778.00                 0.39\n",
              "12        to             1,060.00  ...             1,693.00                 0.37\n",
              "27        of               793.00  ...             1,531.00                 0.48\n",
              "25       and               810.00  ...             1,226.00                 0.34\n",
              "0          s               522.00  ...               818.00                 0.36\n",
              "2         is               494.00  ...               778.00                 0.37\n",
              "23        on               388.00  ...               756.00                 0.49\n",
              "15       for               436.00  ...               740.00                 0.41\n",
              "11       you               593.00  ...               703.00                 0.16\n",
              "31        it               408.00  ...               575.00                 0.29\n",
              "10        my               437.00  ...               537.00                 0.19\n",
              "8       that               356.00  ...               530.00                 0.33\n",
              "28      with               342.00  ...               485.00                 0.29\n",
              "7          t               344.00  ...               478.00                 0.28\n",
              "42        by               196.00  ...               366.00                 0.46\n",
              "39        be               262.00  ...               361.00                 0.27\n",
              "37       was               199.00  ...               355.00                 0.44\n",
              "32      have               216.00  ...               338.00                 0.36\n",
              "5       this               227.00  ...               337.00                 0.33\n",
              "\n",
              "[20 rows x 5 columns]"
            ]
          },
          "metadata": {
            "tags": []
          },
          "execution_count": 55
        }
      ]
    },
    {
      "cell_type": "markdown",
      "metadata": {
        "id": "8b7VDXjXHoTd",
        "colab_type": "text"
      },
      "source": [
        "Falta gráfico acá. "
      ]
    },
    {
      "cell_type": "markdown",
      "metadata": {
        "id": "BdM5u4gsH3ss",
        "colab_type": "text"
      },
      "source": [
        "# Análisis de clase de palabras"
      ]
    },
    {
      "cell_type": "markdown",
      "metadata": {
        "id": "QtMaSBnLNUQv",
        "colab_type": "text"
      },
      "source": [
        "Se requiere uso de librería TweetTokenizer para poder interpretar correctamente la clase de cada palabra, dado que no se puede realizar sacando las palabras de su contexto. Hay que hacerlo primero obteniendo los tags para cada fila, luego unificarlos. Los tags provienen del tagset Penn Treebank Tokenization. Hemos agrupado las sub-clases en clases. \n"
      ]
    },
    {
      "cell_type": "code",
      "metadata": {
        "id": "cbg2Lxy103ar",
        "colab_type": "code",
        "colab": {}
      },
      "source": [
        "clases_y_subclases = {'noun': [('NN','singular comon noun'), \n",
        "                             ('NNP','singular poper noun'),\n",
        "                             ('NNS', 'plural comon noun'),\n",
        "                             ('NNPS', 'plural proper noun')],\n",
        "                      'verb':  [('VB', 'base form verb'),\n",
        "                              ('VBD', 'past tense verb'),\n",
        "                              ('VBG','verb, present participle or gerund'),\n",
        "                              ('VBN', 'verb, past participle'),\n",
        "                              ('VBP','verb, present tense, not 3rd person singular'), \n",
        "                              ('VBZ','verb, present tense, 3rd person singular'),\n",
        "                              ('MD','modal auxiliary')],\n",
        "                      'adjetives': [('JJ','adjective or numeral, ordinal'),\n",
        "                                    ('JJR','adjective, comparative'),\n",
        "                                    ('JJS','adjective, superlative')],\n",
        "                      'pronouns': [('PRP','pronoun, personal'),\n",
        "                                   ('PRP$','pronoun, possessive'),\n",
        "                                   ('WP','WH-pronoun'),\n",
        "                                   ('WP$','WH-pronoun, possessive')],\n",
        "                      'determiners': [('PDT','pre-determiner'),\n",
        "                                      ('DT','determiner'),\n",
        "                                      ('WDT','WH-determiner')],\n",
        "                      'adverbs': [('RB','adverb'),\n",
        "                                  ('RBR','adverb, comparative'),\n",
        "                                  ('RBS','adverb, superlative'),\n",
        "                                  ('RP','particle'),\n",
        "                                  ('EX','existential there')],\n",
        "                      'prepositions': [('IN','preposition or conjunction, subordinating'),\n",
        "                                       ('TO','to as preposition or infinitive marker')],\n",
        "                      'conjuctions': [('CC','conjunction, coordinating')],\n",
        "                      'numerals_cardinals': [('CD','numeral, cardinal')],\n",
        "                      'foreing_words': [('FW','foreing word')],\n",
        "                      'quotes': [(\"''\",'quotes')],\n",
        "                      'interjections': [('UH','interjection')],\n",
        "                      '$': [('$','dolar')],\n",
        "                      'symbols': [('SYM','symbol')]\n",
        "}"
      ],
      "execution_count": 0,
      "outputs": []
    },
    {
      "cell_type": "code",
      "metadata": {
        "id": "aqSViCeBH-ZQ",
        "colab_type": "code",
        "outputId": "61fd792f-84eb-4f10-c4b2-9819627fd0ae",
        "colab": {
          "base_uri": "https://localhost:8080/",
          "height": 230
        }
      },
      "source": [
        "#Obtenemos el token de cada texto. \n",
        "from nltk.tokenize import TweetTokenizer\n",
        "tt = TweetTokenizer()\n",
        "train_no_duplicates['tokenized_text']=train_no_duplicates['text_clean'].apply(lambda x: x.lower()).apply(tt.tokenize) \n",
        "train_no_duplicates['tokenized_text']"
      ],
      "execution_count": 57,
      "outputs": [
        {
          "output_type": "execute_result",
          "data": {
            "text/plain": [
              "0       [our, deeds, are, the, reason, of, this, earth...\n",
              "1           [forest, fire, near, la, ronge, sask, canada]\n",
              "2       [all, residents, asked, to, shelter, in, place...\n",
              "3       [13, 000, people, receive, wildfires, evacuati...\n",
              "4       [just, got, sent, this, photo, from, ruby, ala...\n",
              "                              ...                        \n",
              "7602    [a, siren, just, went, off, and, it, wasn, t, ...\n",
              "7603    [officials, say, a, quarantine, is, in, place,...\n",
              "7604    [worldnews, fallen, powerlines, on, g, link, t...\n",
              "7605    [on, the, flip, side, i, m, at, walmart, and, ...\n",
              "7606    [suicide, bomber, kills, 15, in, saudi, securi...\n",
              "Name: tokenized_text, Length: 6889, dtype: object"
            ]
          },
          "metadata": {
            "tags": []
          },
          "execution_count": 57
        }
      ]
    },
    {
      "cell_type": "code",
      "metadata": {
        "id": "xosVWiOQL1Gi",
        "colab_type": "code",
        "outputId": "835ec0e8-ecf1-4b10-ba7a-8a4a21c5d36f",
        "colab": {
          "base_uri": "https://localhost:8080/",
          "height": 230
        }
      },
      "source": [
        "#Para cada token obtenemos el tag (clase de palabra)\n",
        "train_no_duplicates['pos_tagged_text'] = train_no_duplicates['tokenized_text'].apply(nltk.Text).apply(nltk.pos_tag) #Este paso me transforma la lista en \n",
        "#un texto entre paréntesis (que no sé qué es) y luego me arma una lista de tuplas (k,v) con la palabra y la clase de palabra. \n",
        "train_no_duplicates['pos_tagged_text'] "
      ],
      "execution_count": 58,
      "outputs": [
        {
          "output_type": "execute_result",
          "data": {
            "text/plain": [
              "0       [(our, PRP$), (deeds, NNS), (are, VBP), (the, ...\n",
              "1       [(forest, JJS), (fire, NN), (near, IN), (la, J...\n",
              "2       [(all, DT), (residents, NNS), (asked, VBD), (t...\n",
              "3       [(13, CD), (000, CD), (people, NNS), (receive,...\n",
              "4       [(just, RB), (got, VBN), (sent, VBD), (this, D...\n",
              "                              ...                        \n",
              "7602    [(a, DT), (siren, NN), (just, RB), (went, VBD)...\n",
              "7603    [(officials, NNS), (say, VBP), (a, DT), (quara...\n",
              "7604    [(worldnews, NNS), (fallen, VBN), (powerlines,...\n",
              "7605    [(on, IN), (the, DT), (flip, JJ), (side, NN), ...\n",
              "7606    [(suicide, JJ), (bomber, NN), (kills, NNS), (1...\n",
              "Name: pos_tagged_text, Length: 6889, dtype: object"
            ]
          },
          "metadata": {
            "tags": []
          },
          "execution_count": 58
        }
      ]
    },
    {
      "cell_type": "code",
      "metadata": {
        "id": "k79hUagNSdf-",
        "colab_type": "code",
        "outputId": "93b8f711-02b5-4f17-838f-2aca7ad13343",
        "colab": {
          "base_uri": "https://localhost:8080/",
          "height": 230
        }
      },
      "source": [
        "#En cada fila contamos la frecuencia de las clases de palabras\n",
        "from collections import Counter\n",
        "train_no_duplicates['pos_tagg_counts']=train_no_duplicates['pos_tagged_text'].apply(lambda x: Counter(tag for word,tag in x))\n",
        "train_no_duplicates['pos_tagg_counts']"
      ],
      "execution_count": 59,
      "outputs": [
        {
          "output_type": "execute_result",
          "data": {
            "text/plain": [
              "0       {'PRP$': 1, 'NNS': 1, 'VBP': 1, 'DT': 3, 'NN':...\n",
              "1                   {'JJS': 1, 'NN': 4, 'IN': 1, 'JJ': 1}\n",
              "2       {'DT': 2, 'NNS': 3, 'VBD': 1, 'TO': 1, 'VB': 1...\n",
              "3          {'CD': 2, 'NNS': 3, 'JJ': 1, 'NN': 2, 'IN': 1}\n",
              "4       {'RB': 1, 'VBN': 1, 'VBD': 1, 'DT': 2, 'NN': 4...\n",
              "                              ...                        \n",
              "7602    {'DT': 2, 'NN': 4, 'RB': 2, 'VBD': 1, 'CC': 1,...\n",
              "7603    {'NNS': 2, 'VBP': 1, 'DT': 3, 'NN': 6, 'VBZ': ...\n",
              "7604    {'NNS': 5, 'VBN': 2, 'IN': 1, 'NN': 4, 'JJ': 1...\n",
              "7605    {'IN': 4, 'DT': 2, 'JJ': 2, 'NN': 5, 'VBP': 2,...\n",
              "7606       {'JJ': 2, 'NN': 8, 'NNS': 2, 'CD': 1, 'IN': 2}\n",
              "Name: pos_tagg_counts, Length: 6889, dtype: object"
            ]
          },
          "metadata": {
            "tags": []
          },
          "execution_count": 59
        }
      ]
    },
    {
      "cell_type": "code",
      "metadata": {
        "id": "ZTQdAcqbckQg",
        "colab_type": "code",
        "outputId": "4f8e9abf-c4f8-4ef2-c9b9-f5efcc808dca",
        "colab": {
          "base_uri": "https://localhost:8080/",
          "height": 34
        }
      },
      "source": [
        "#Creamos un dataframe con la misma cantidad de filas que el dataframe con el que venimos trabajando. \n",
        "#Las columnas serán todas las clases de palabras existentes en la librería nltk que estén dentro de nuestras frecuencias. \n",
        "data = train_no_duplicates['pos_tagg_counts']\n",
        "word_classes_df = pd.DataFrame.from_records(data, columns = data.sum().keys())\n",
        "len(word_classes_df)"
      ],
      "execution_count": 60,
      "outputs": [
        {
          "output_type": "execute_result",
          "data": {
            "text/plain": [
              "6889"
            ]
          },
          "metadata": {
            "tags": []
          },
          "execution_count": 60
        }
      ]
    },
    {
      "cell_type": "code",
      "metadata": {
        "id": "SMVuUm2cp-Ax",
        "colab_type": "code",
        "outputId": "ea626f10-1eaa-4a45-b3e8-99a4d6dcadc7",
        "colab": {
          "base_uri": "https://localhost:8080/",
          "height": 426
        }
      },
      "source": [
        "#Dicho dataframe posee por fila el dato de la frecuencia para cada clase. \n",
        "word_classes_df.fillna(0,inplace=True)\n",
        "word_classes_df"
      ],
      "execution_count": 61,
      "outputs": [
        {
          "output_type": "execute_result",
          "data": {
            "text/html": [
              "<div>\n",
              "<style scoped>\n",
              "    .dataframe tbody tr th:only-of-type {\n",
              "        vertical-align: middle;\n",
              "    }\n",
              "\n",
              "    .dataframe tbody tr th {\n",
              "        vertical-align: top;\n",
              "    }\n",
              "\n",
              "    .dataframe thead th {\n",
              "        text-align: right;\n",
              "    }\n",
              "</style>\n",
              "<table border=\"1\" class=\"dataframe\">\n",
              "  <thead>\n",
              "    <tr style=\"text-align: right;\">\n",
              "      <th></th>\n",
              "      <th>PRP$</th>\n",
              "      <th>NNS</th>\n",
              "      <th>VBP</th>\n",
              "      <th>DT</th>\n",
              "      <th>NN</th>\n",
              "      <th>IN</th>\n",
              "      <th>MD</th>\n",
              "      <th>VB</th>\n",
              "      <th>JJ</th>\n",
              "      <th>PRP</th>\n",
              "      <th>JJS</th>\n",
              "      <th>VBD</th>\n",
              "      <th>TO</th>\n",
              "      <th>VBG</th>\n",
              "      <th>VBN</th>\n",
              "      <th>CC</th>\n",
              "      <th>CD</th>\n",
              "      <th>RB</th>\n",
              "      <th>EX</th>\n",
              "      <th>VBZ</th>\n",
              "      <th>WP</th>\n",
              "      <th>RP</th>\n",
              "      <th>JJR</th>\n",
              "      <th>NNP</th>\n",
              "      <th>WRB</th>\n",
              "      <th>$</th>\n",
              "      <th>WDT</th>\n",
              "      <th>RBR</th>\n",
              "      <th>RBS</th>\n",
              "      <th>PDT</th>\n",
              "      <th>FW</th>\n",
              "      <th>SYM</th>\n",
              "      <th>UH</th>\n",
              "      <th>WP$</th>\n",
              "      <th>''</th>\n",
              "    </tr>\n",
              "  </thead>\n",
              "  <tbody>\n",
              "    <tr>\n",
              "      <th>0</th>\n",
              "      <td>1.00</td>\n",
              "      <td>1.00</td>\n",
              "      <td>1.00</td>\n",
              "      <td>3.00</td>\n",
              "      <td>2.00</td>\n",
              "      <td>1.00</td>\n",
              "      <td>1.00</td>\n",
              "      <td>1.00</td>\n",
              "      <td>1.00</td>\n",
              "      <td>1.00</td>\n",
              "      <td>0.00</td>\n",
              "      <td>0.00</td>\n",
              "      <td>0.00</td>\n",
              "      <td>0.00</td>\n",
              "      <td>0.00</td>\n",
              "      <td>0.00</td>\n",
              "      <td>0.00</td>\n",
              "      <td>0.00</td>\n",
              "      <td>0.00</td>\n",
              "      <td>0.00</td>\n",
              "      <td>0.00</td>\n",
              "      <td>0.00</td>\n",
              "      <td>0.00</td>\n",
              "      <td>0.00</td>\n",
              "      <td>0.00</td>\n",
              "      <td>0.00</td>\n",
              "      <td>0.00</td>\n",
              "      <td>0.00</td>\n",
              "      <td>0.00</td>\n",
              "      <td>0.00</td>\n",
              "      <td>0.00</td>\n",
              "      <td>0.00</td>\n",
              "      <td>0.00</td>\n",
              "      <td>0.00</td>\n",
              "      <td>0.00</td>\n",
              "    </tr>\n",
              "    <tr>\n",
              "      <th>1</th>\n",
              "      <td>0.00</td>\n",
              "      <td>0.00</td>\n",
              "      <td>0.00</td>\n",
              "      <td>0.00</td>\n",
              "      <td>4.00</td>\n",
              "      <td>1.00</td>\n",
              "      <td>0.00</td>\n",
              "      <td>0.00</td>\n",
              "      <td>1.00</td>\n",
              "      <td>0.00</td>\n",
              "      <td>1.00</td>\n",
              "      <td>0.00</td>\n",
              "      <td>0.00</td>\n",
              "      <td>0.00</td>\n",
              "      <td>0.00</td>\n",
              "      <td>0.00</td>\n",
              "      <td>0.00</td>\n",
              "      <td>0.00</td>\n",
              "      <td>0.00</td>\n",
              "      <td>0.00</td>\n",
              "      <td>0.00</td>\n",
              "      <td>0.00</td>\n",
              "      <td>0.00</td>\n",
              "      <td>0.00</td>\n",
              "      <td>0.00</td>\n",
              "      <td>0.00</td>\n",
              "      <td>0.00</td>\n",
              "      <td>0.00</td>\n",
              "      <td>0.00</td>\n",
              "      <td>0.00</td>\n",
              "      <td>0.00</td>\n",
              "      <td>0.00</td>\n",
              "      <td>0.00</td>\n",
              "      <td>0.00</td>\n",
              "      <td>0.00</td>\n",
              "    </tr>\n",
              "    <tr>\n",
              "      <th>2</th>\n",
              "      <td>0.00</td>\n",
              "      <td>3.00</td>\n",
              "      <td>2.00</td>\n",
              "      <td>2.00</td>\n",
              "      <td>4.00</td>\n",
              "      <td>3.00</td>\n",
              "      <td>0.00</td>\n",
              "      <td>1.00</td>\n",
              "      <td>1.00</td>\n",
              "      <td>0.00</td>\n",
              "      <td>0.00</td>\n",
              "      <td>1.00</td>\n",
              "      <td>1.00</td>\n",
              "      <td>1.00</td>\n",
              "      <td>2.00</td>\n",
              "      <td>1.00</td>\n",
              "      <td>0.00</td>\n",
              "      <td>0.00</td>\n",
              "      <td>0.00</td>\n",
              "      <td>0.00</td>\n",
              "      <td>0.00</td>\n",
              "      <td>0.00</td>\n",
              "      <td>0.00</td>\n",
              "      <td>0.00</td>\n",
              "      <td>0.00</td>\n",
              "      <td>0.00</td>\n",
              "      <td>0.00</td>\n",
              "      <td>0.00</td>\n",
              "      <td>0.00</td>\n",
              "      <td>0.00</td>\n",
              "      <td>0.00</td>\n",
              "      <td>0.00</td>\n",
              "      <td>0.00</td>\n",
              "      <td>0.00</td>\n",
              "      <td>0.00</td>\n",
              "    </tr>\n",
              "    <tr>\n",
              "      <th>3</th>\n",
              "      <td>0.00</td>\n",
              "      <td>3.00</td>\n",
              "      <td>0.00</td>\n",
              "      <td>0.00</td>\n",
              "      <td>2.00</td>\n",
              "      <td>1.00</td>\n",
              "      <td>0.00</td>\n",
              "      <td>0.00</td>\n",
              "      <td>1.00</td>\n",
              "      <td>0.00</td>\n",
              "      <td>0.00</td>\n",
              "      <td>0.00</td>\n",
              "      <td>0.00</td>\n",
              "      <td>0.00</td>\n",
              "      <td>0.00</td>\n",
              "      <td>0.00</td>\n",
              "      <td>2.00</td>\n",
              "      <td>0.00</td>\n",
              "      <td>0.00</td>\n",
              "      <td>0.00</td>\n",
              "      <td>0.00</td>\n",
              "      <td>0.00</td>\n",
              "      <td>0.00</td>\n",
              "      <td>0.00</td>\n",
              "      <td>0.00</td>\n",
              "      <td>0.00</td>\n",
              "      <td>0.00</td>\n",
              "      <td>0.00</td>\n",
              "      <td>0.00</td>\n",
              "      <td>0.00</td>\n",
              "      <td>0.00</td>\n",
              "      <td>0.00</td>\n",
              "      <td>0.00</td>\n",
              "      <td>0.00</td>\n",
              "      <td>0.00</td>\n",
              "    </tr>\n",
              "    <tr>\n",
              "      <th>4</th>\n",
              "      <td>0.00</td>\n",
              "      <td>1.00</td>\n",
              "      <td>1.00</td>\n",
              "      <td>2.00</td>\n",
              "      <td>4.00</td>\n",
              "      <td>4.00</td>\n",
              "      <td>0.00</td>\n",
              "      <td>0.00</td>\n",
              "      <td>1.00</td>\n",
              "      <td>0.00</td>\n",
              "      <td>0.00</td>\n",
              "      <td>1.00</td>\n",
              "      <td>0.00</td>\n",
              "      <td>0.00</td>\n",
              "      <td>1.00</td>\n",
              "      <td>0.00</td>\n",
              "      <td>0.00</td>\n",
              "      <td>1.00</td>\n",
              "      <td>0.00</td>\n",
              "      <td>0.00</td>\n",
              "      <td>0.00</td>\n",
              "      <td>0.00</td>\n",
              "      <td>0.00</td>\n",
              "      <td>0.00</td>\n",
              "      <td>0.00</td>\n",
              "      <td>0.00</td>\n",
              "      <td>0.00</td>\n",
              "      <td>0.00</td>\n",
              "      <td>0.00</td>\n",
              "      <td>0.00</td>\n",
              "      <td>0.00</td>\n",
              "      <td>0.00</td>\n",
              "      <td>0.00</td>\n",
              "      <td>0.00</td>\n",
              "      <td>0.00</td>\n",
              "    </tr>\n",
              "    <tr>\n",
              "      <th>...</th>\n",
              "      <td>...</td>\n",
              "      <td>...</td>\n",
              "      <td>...</td>\n",
              "      <td>...</td>\n",
              "      <td>...</td>\n",
              "      <td>...</td>\n",
              "      <td>...</td>\n",
              "      <td>...</td>\n",
              "      <td>...</td>\n",
              "      <td>...</td>\n",
              "      <td>...</td>\n",
              "      <td>...</td>\n",
              "      <td>...</td>\n",
              "      <td>...</td>\n",
              "      <td>...</td>\n",
              "      <td>...</td>\n",
              "      <td>...</td>\n",
              "      <td>...</td>\n",
              "      <td>...</td>\n",
              "      <td>...</td>\n",
              "      <td>...</td>\n",
              "      <td>...</td>\n",
              "      <td>...</td>\n",
              "      <td>...</td>\n",
              "      <td>...</td>\n",
              "      <td>...</td>\n",
              "      <td>...</td>\n",
              "      <td>...</td>\n",
              "      <td>...</td>\n",
              "      <td>...</td>\n",
              "      <td>...</td>\n",
              "      <td>...</td>\n",
              "      <td>...</td>\n",
              "      <td>...</td>\n",
              "      <td>...</td>\n",
              "    </tr>\n",
              "    <tr>\n",
              "      <th>6884</th>\n",
              "      <td>0.00</td>\n",
              "      <td>0.00</td>\n",
              "      <td>0.00</td>\n",
              "      <td>2.00</td>\n",
              "      <td>4.00</td>\n",
              "      <td>1.00</td>\n",
              "      <td>0.00</td>\n",
              "      <td>0.00</td>\n",
              "      <td>0.00</td>\n",
              "      <td>1.00</td>\n",
              "      <td>0.00</td>\n",
              "      <td>1.00</td>\n",
              "      <td>0.00</td>\n",
              "      <td>0.00</td>\n",
              "      <td>0.00</td>\n",
              "      <td>1.00</td>\n",
              "      <td>0.00</td>\n",
              "      <td>2.00</td>\n",
              "      <td>0.00</td>\n",
              "      <td>1.00</td>\n",
              "      <td>0.00</td>\n",
              "      <td>0.00</td>\n",
              "      <td>0.00</td>\n",
              "      <td>0.00</td>\n",
              "      <td>0.00</td>\n",
              "      <td>0.00</td>\n",
              "      <td>0.00</td>\n",
              "      <td>0.00</td>\n",
              "      <td>0.00</td>\n",
              "      <td>0.00</td>\n",
              "      <td>0.00</td>\n",
              "      <td>0.00</td>\n",
              "      <td>0.00</td>\n",
              "      <td>0.00</td>\n",
              "      <td>0.00</td>\n",
              "    </tr>\n",
              "    <tr>\n",
              "      <th>6885</th>\n",
              "      <td>0.00</td>\n",
              "      <td>2.00</td>\n",
              "      <td>1.00</td>\n",
              "      <td>3.00</td>\n",
              "      <td>6.00</td>\n",
              "      <td>4.00</td>\n",
              "      <td>0.00</td>\n",
              "      <td>0.00</td>\n",
              "      <td>1.00</td>\n",
              "      <td>0.00</td>\n",
              "      <td>0.00</td>\n",
              "      <td>0.00</td>\n",
              "      <td>0.00</td>\n",
              "      <td>1.00</td>\n",
              "      <td>0.00</td>\n",
              "      <td>0.00</td>\n",
              "      <td>0.00</td>\n",
              "      <td>0.00</td>\n",
              "      <td>0.00</td>\n",
              "      <td>1.00</td>\n",
              "      <td>0.00</td>\n",
              "      <td>0.00</td>\n",
              "      <td>0.00</td>\n",
              "      <td>0.00</td>\n",
              "      <td>0.00</td>\n",
              "      <td>0.00</td>\n",
              "      <td>0.00</td>\n",
              "      <td>0.00</td>\n",
              "      <td>0.00</td>\n",
              "      <td>0.00</td>\n",
              "      <td>0.00</td>\n",
              "      <td>0.00</td>\n",
              "      <td>0.00</td>\n",
              "      <td>0.00</td>\n",
              "      <td>0.00</td>\n",
              "    </tr>\n",
              "    <tr>\n",
              "      <th>6886</th>\n",
              "      <td>0.00</td>\n",
              "      <td>5.00</td>\n",
              "      <td>1.00</td>\n",
              "      <td>0.00</td>\n",
              "      <td>4.00</td>\n",
              "      <td>1.00</td>\n",
              "      <td>0.00</td>\n",
              "      <td>0.00</td>\n",
              "      <td>1.00</td>\n",
              "      <td>0.00</td>\n",
              "      <td>0.00</td>\n",
              "      <td>1.00</td>\n",
              "      <td>1.00</td>\n",
              "      <td>0.00</td>\n",
              "      <td>2.00</td>\n",
              "      <td>0.00</td>\n",
              "      <td>1.00</td>\n",
              "      <td>0.00</td>\n",
              "      <td>0.00</td>\n",
              "      <td>0.00</td>\n",
              "      <td>1.00</td>\n",
              "      <td>1.00</td>\n",
              "      <td>0.00</td>\n",
              "      <td>0.00</td>\n",
              "      <td>0.00</td>\n",
              "      <td>0.00</td>\n",
              "      <td>0.00</td>\n",
              "      <td>0.00</td>\n",
              "      <td>0.00</td>\n",
              "      <td>0.00</td>\n",
              "      <td>0.00</td>\n",
              "      <td>0.00</td>\n",
              "      <td>0.00</td>\n",
              "      <td>0.00</td>\n",
              "      <td>0.00</td>\n",
              "    </tr>\n",
              "    <tr>\n",
              "      <th>6887</th>\n",
              "      <td>0.00</td>\n",
              "      <td>1.00</td>\n",
              "      <td>2.00</td>\n",
              "      <td>2.00</td>\n",
              "      <td>5.00</td>\n",
              "      <td>4.00</td>\n",
              "      <td>0.00</td>\n",
              "      <td>1.00</td>\n",
              "      <td>2.00</td>\n",
              "      <td>0.00</td>\n",
              "      <td>0.00</td>\n",
              "      <td>1.00</td>\n",
              "      <td>1.00</td>\n",
              "      <td>0.00</td>\n",
              "      <td>0.00</td>\n",
              "      <td>3.00</td>\n",
              "      <td>0.00</td>\n",
              "      <td>3.00</td>\n",
              "      <td>1.00</td>\n",
              "      <td>1.00</td>\n",
              "      <td>0.00</td>\n",
              "      <td>0.00</td>\n",
              "      <td>0.00</td>\n",
              "      <td>0.00</td>\n",
              "      <td>0.00</td>\n",
              "      <td>0.00</td>\n",
              "      <td>0.00</td>\n",
              "      <td>0.00</td>\n",
              "      <td>0.00</td>\n",
              "      <td>0.00</td>\n",
              "      <td>0.00</td>\n",
              "      <td>0.00</td>\n",
              "      <td>0.00</td>\n",
              "      <td>0.00</td>\n",
              "      <td>0.00</td>\n",
              "    </tr>\n",
              "    <tr>\n",
              "      <th>6888</th>\n",
              "      <td>0.00</td>\n",
              "      <td>2.00</td>\n",
              "      <td>0.00</td>\n",
              "      <td>0.00</td>\n",
              "      <td>8.00</td>\n",
              "      <td>2.00</td>\n",
              "      <td>0.00</td>\n",
              "      <td>0.00</td>\n",
              "      <td>2.00</td>\n",
              "      <td>0.00</td>\n",
              "      <td>0.00</td>\n",
              "      <td>0.00</td>\n",
              "      <td>0.00</td>\n",
              "      <td>0.00</td>\n",
              "      <td>0.00</td>\n",
              "      <td>0.00</td>\n",
              "      <td>1.00</td>\n",
              "      <td>0.00</td>\n",
              "      <td>0.00</td>\n",
              "      <td>0.00</td>\n",
              "      <td>0.00</td>\n",
              "      <td>0.00</td>\n",
              "      <td>0.00</td>\n",
              "      <td>0.00</td>\n",
              "      <td>0.00</td>\n",
              "      <td>0.00</td>\n",
              "      <td>0.00</td>\n",
              "      <td>0.00</td>\n",
              "      <td>0.00</td>\n",
              "      <td>0.00</td>\n",
              "      <td>0.00</td>\n",
              "      <td>0.00</td>\n",
              "      <td>0.00</td>\n",
              "      <td>0.00</td>\n",
              "      <td>0.00</td>\n",
              "    </tr>\n",
              "  </tbody>\n",
              "</table>\n",
              "<p>6889 rows × 35 columns</p>\n",
              "</div>"
            ],
            "text/plain": [
              "                     PRP$  ...                   ''\n",
              "0                    1.00  ...                 0.00\n",
              "1                    0.00  ...                 0.00\n",
              "2                    0.00  ...                 0.00\n",
              "3                    0.00  ...                 0.00\n",
              "4                    0.00  ...                 0.00\n",
              "...                   ...  ...                  ...\n",
              "6884                 0.00  ...                 0.00\n",
              "6885                 0.00  ...                 0.00\n",
              "6886                 0.00  ...                 0.00\n",
              "6887                 0.00  ...                 0.00\n",
              "6888                 0.00  ...                 0.00\n",
              "\n",
              "[6889 rows x 35 columns]"
            ]
          },
          "metadata": {
            "tags": []
          },
          "execution_count": 61
        }
      ]
    },
    {
      "cell_type": "code",
      "metadata": {
        "id": "k600SU152LjV",
        "colab_type": "code",
        "outputId": "bbb05da2-5d6d-468c-9590-603311d95105",
        "colab": {
          "base_uri": "https://localhost:8080/",
          "height": 34
        }
      },
      "source": [
        "#Creamos una lista con 6889 elementos, todos integeres desde el 0 al 6888 inclusive, para poder usar como indice de la tabla train_no_duplicates\n",
        "def create_integers_ascending_list(number_elements): \n",
        "  lista=[]\n",
        "  i=0\n",
        "  number=0\n",
        "  while i<number_elements: \n",
        "    lista.append(number)\n",
        "    number=number+1\n",
        "    i=i+1\n",
        "  return lista\n",
        "\n",
        "int_list=create_integers_ascending_list(6889)\n",
        "len(int_list)"
      ],
      "execution_count": 62,
      "outputs": [
        {
          "output_type": "execute_result",
          "data": {
            "text/plain": [
              "6889"
            ]
          },
          "metadata": {
            "tags": []
          },
          "execution_count": 62
        }
      ]
    },
    {
      "cell_type": "code",
      "metadata": {
        "id": "2yBYUWNS4Uye",
        "colab_type": "code",
        "colab": {}
      },
      "source": [
        "#incorporamos la lista de integers al dataframe\n",
        "train_no_duplicates['index']=int_list"
      ],
      "execution_count": 0,
      "outputs": []
    },
    {
      "cell_type": "code",
      "metadata": {
        "id": "40Eltbsa5Ifh",
        "colab_type": "code",
        "outputId": "16f25727-341a-4f9a-aab9-26d21447d30d",
        "colab": {
          "base_uri": "https://localhost:8080/",
          "height": 52
        }
      },
      "source": [
        "#Corroboramos que no haya generado nulls. \n",
        "train_no_duplicates['index'].isnull().value_counts()"
      ],
      "execution_count": 64,
      "outputs": [
        {
          "output_type": "execute_result",
          "data": {
            "text/plain": [
              "False    6889\n",
              "Name: index, dtype: int64"
            ]
          },
          "metadata": {
            "tags": []
          },
          "execution_count": 64
        }
      ]
    },
    {
      "cell_type": "code",
      "metadata": {
        "id": "kPEVgy355ZjN",
        "colab_type": "code",
        "colab": {}
      },
      "source": [
        "#seteamos un nuevo índice en train_no_duplicates para poder hacer el concat. \n",
        "train_no_duplicates.set_index('index', inplace=True)"
      ],
      "execution_count": 0,
      "outputs": []
    },
    {
      "cell_type": "code",
      "metadata": {
        "id": "dsEe5zeg51sb",
        "colab_type": "code",
        "outputId": "98df53cb-b4b2-4ed4-d3d4-caf716924ef7",
        "colab": {
          "base_uri": "https://localhost:8080/",
          "height": 34
        }
      },
      "source": [
        "#Obtenemos el nuevo dataframe\n",
        "train_no_duplicates_merge_word_classes=pd.concat([train_no_duplicates,word_classes_df],axis=1)\n",
        "train_no_duplicates_merge_word_classes.shape"
      ],
      "execution_count": 66,
      "outputs": [
        {
          "output_type": "execute_result",
          "data": {
            "text/plain": [
              "(6889, 57)"
            ]
          },
          "metadata": {
            "tags": []
          },
          "execution_count": 66
        }
      ]
    },
    {
      "cell_type": "code",
      "metadata": {
        "id": "AZIzAyoVcxgY",
        "colab_type": "code",
        "colab": {
          "base_uri": "https://localhost:8080/",
          "height": 180
        },
        "outputId": "13ed6fd3-2ecf-409f-bf29-cb7c6406db72"
      },
      "source": [
        "correlation = (train_no_duplicates_merge_word_classes.corr())['target'][14:]"
      ],
      "execution_count": 142,
      "outputs": [
        {
          "output_type": "error",
          "ename": "ValueError",
          "evalue": "ignored",
          "traceback": [
            "\u001b[0;31m---------------------------------------------------------------------------\u001b[0m",
            "\u001b[0;31mValueError\u001b[0m                                Traceback (most recent call last)",
            "\u001b[0;32m<ipython-input-142-7ca87809c65f>\u001b[0m in \u001b[0;36m<module>\u001b[0;34m()\u001b[0m\n\u001b[1;32m      1\u001b[0m \u001b[0mcorrelation\u001b[0m \u001b[0;34m=\u001b[0m \u001b[0;34m(\u001b[0m\u001b[0mtrain_no_duplicates_merge_word_classes\u001b[0m\u001b[0;34m.\u001b[0m\u001b[0mcorr\u001b[0m\u001b[0;34m(\u001b[0m\u001b[0;34m)\u001b[0m\u001b[0;34m)\u001b[0m\u001b[0;34m[\u001b[0m\u001b[0;34m'target'\u001b[0m\u001b[0;34m]\u001b[0m\u001b[0;34m[\u001b[0m\u001b[0;36m14\u001b[0m\u001b[0;34m:\u001b[0m\u001b[0;34m]\u001b[0m\u001b[0;34m\u001b[0m\u001b[0;34m\u001b[0m\u001b[0m\n\u001b[0;32m----> 2\u001b[0;31m \u001b[0mcorrelation\u001b[0m\u001b[0;34m[\u001b[0m\u001b[0mcorrelation\u001b[0m\u001b[0;34m.\u001b[0m\u001b[0mvalues\u001b[0m\u001b[0;34m>=\u001b[0m\u001b[0;36m0.1\u001b[0m \u001b[0;34m+\u001b[0m \u001b[0mcorrelation\u001b[0m\u001b[0;34m.\u001b[0m\u001b[0mvalues\u001b[0m\u001b[0;34m<=\u001b[0m\u001b[0;34m-\u001b[0m\u001b[0;36m0.1\u001b[0m\u001b[0;34m]\u001b[0m\u001b[0;34m\u001b[0m\u001b[0;34m\u001b[0m\u001b[0m\n\u001b[0m",
            "\u001b[0;31mValueError\u001b[0m: The truth value of an array with more than one element is ambiguous. Use a.any() or a.all()"
          ]
        }
      ]
    },
    {
      "cell_type": "code",
      "metadata": {
        "id": "-sq52qoafKt1",
        "colab_type": "code",
        "colab": {
          "base_uri": "https://localhost:8080/",
          "height": 102
        },
        "outputId": "fb3f7ec1-d826-4658-e5c0-80dd3d036db6"
      },
      "source": [
        "#Variables que tienen correlación mayor a 0.1\n",
        "correlation[correlation.values>=0.1]"
      ],
      "execution_count": 147,
      "outputs": [
        {
          "output_type": "execute_result",
          "data": {
            "text/plain": [
              "NNS                   0.15\n",
              "NN                    0.13\n",
              "IN                    0.13\n",
              "CD                    0.12\n",
              "Name: target, dtype: float64"
            ]
          },
          "metadata": {
            "tags": []
          },
          "execution_count": 147
        }
      ]
    },
    {
      "cell_type": "code",
      "metadata": {
        "id": "Y9b1oZSZfOz0",
        "colab_type": "code",
        "colab": {
          "base_uri": "https://localhost:8080/",
          "height": 119
        },
        "outputId": "2600cd10-9acb-428a-d214-6ca079cb458b"
      },
      "source": [
        "#Varibales que tienen correlación menor a -0.1\n",
        "correlation[correlation.values<=-0.1]"
      ],
      "execution_count": 146,
      "outputs": [
        {
          "output_type": "execute_result",
          "data": {
            "text/plain": [
              "PRP$                  -0.15\n",
              "VBP                   -0.10\n",
              "VB                    -0.13\n",
              "PRP                   -0.18\n",
              "RB                    -0.10\n",
              "Name: target, dtype: float64"
            ]
          },
          "metadata": {
            "tags": []
          },
          "execution_count": 146
        }
      ]
    },
    {
      "cell_type": "code",
      "metadata": {
        "id": "Xss3BYQOf_G8",
        "colab_type": "code",
        "colab": {
          "base_uri": "https://localhost:8080/",
          "height": 458
        },
        "outputId": "cc8c3e60-cc52-4409-fb98-004ddcd30a91"
      },
      "source": [
        "plt.subplot(1, 2, 1)\n",
        "\n",
        "#Variables que tienen correlación mayor a 0.1\n",
        "correlation[correlation.values>=0.1].plot(kind='bar', color='blue', figsize=(10,6))\n",
        "plt.title('Correlaciones de Sub-clases de Palabras \\n Coeficiente Mayor a 0.1',fontweight='bold', fontsize=15)\n",
        "plt.ylabel('Indice de Correlación', fontsize=15)\n",
        "plt.xlabel('Sub-clases de Palabras', fontsize=15)\n",
        "\n",
        "plt.subplot(1, 2, 2)\n",
        "\n",
        "#Varibales que tienen correlación menor a -0.1\n",
        "correlation[correlation.values<=-0.1].plot(kind='bar', color='red', figsize=(10,6))\n",
        "plt.title('Correlaciones de Sub-clases de Palabras \\n Coeficiente Menor a -0.1',fontweight='bold', fontsize=15)\n",
        "plt.ylabel('Indice de Correlación', fontsize=15)\n",
        "plt.xlabel('Sub-clases de Palabras', fontsize=15)\n",
        "\n",
        "plt.tight_layout()\n",
        "plt.show"
      ],
      "execution_count": 156,
      "outputs": [
        {
          "output_type": "execute_result",
          "data": {
            "text/plain": [
              "<function matplotlib.pyplot.show>"
            ]
          },
          "metadata": {
            "tags": []
          },
          "execution_count": 156
        },
        {
          "output_type": "display_data",
          "data": {
            "image/png": "[encoded data removed]",
            "text/plain": [
              "<Figure size 720x432 with 2 Axes>"
            ]
          },
          "metadata": {
            "tags": [],
            "needs_background": "light"
          }
        }
      ]
    },
    {
      "cell_type": "code",
      "metadata": {
        "id": "iEZfuJ-GVXES",
        "colab_type": "code",
        "outputId": "1d7c3dd4-30ac-4ab6-91bf-9b875d3a0f78",
        "colab": {
          "base_uri": "https://localhost:8080/",
          "height": 612
        }
      },
      "source": [
        "#Armo una lista con todos los nombres de las clases de palabras. \n",
        "agg_cols=train_no_duplicates_merge_word_classes.columns[22:].tolist()\n",
        "agg_cols"
      ],
      "execution_count": 84,
      "outputs": [
        {
          "output_type": "execute_result",
          "data": {
            "text/plain": [
              "['PRP$',\n",
              " 'NNS',\n",
              " 'VBP',\n",
              " 'DT',\n",
              " 'NN',\n",
              " 'IN',\n",
              " 'MD',\n",
              " 'VB',\n",
              " 'JJ',\n",
              " 'PRP',\n",
              " 'JJS',\n",
              " 'VBD',\n",
              " 'TO',\n",
              " 'VBG',\n",
              " 'VBN',\n",
              " 'CC',\n",
              " 'CD',\n",
              " 'RB',\n",
              " 'EX',\n",
              " 'VBZ',\n",
              " 'WP',\n",
              " 'RP',\n",
              " 'JJR',\n",
              " 'NNP',\n",
              " 'WRB',\n",
              " '$',\n",
              " 'WDT',\n",
              " 'RBR',\n",
              " 'RBS',\n",
              " 'PDT',\n",
              " 'FW',\n",
              " 'SYM',\n",
              " 'UH',\n",
              " 'WP$',\n",
              " \"''\"]"
            ]
          },
          "metadata": {
            "tags": []
          },
          "execution_count": 84
        }
      ]
    },
    {
      "cell_type": "code",
      "metadata": {
        "id": "8LB5ZDWf7eRC",
        "colab_type": "code",
        "colab": {}
      },
      "source": [
        "#Construyo la lista de nombres de columnas para poder hacer la agregación sólo sobre ellas. \n",
        "agg_cols.append('target')"
      ],
      "execution_count": 0,
      "outputs": []
    },
    {
      "cell_type": "code",
      "metadata": {
        "id": "q6432-PTQcIt",
        "colab_type": "code",
        "outputId": "ab4f6b97-aa62-40fa-9dc1-cbbbc2850abb",
        "colab": {
          "base_uri": "https://localhost:8080/",
          "height": 656
        }
      },
      "source": [
        "agg_cols"
      ],
      "execution_count": 86,
      "outputs": [
        {
          "output_type": "execute_result",
          "data": {
            "text/plain": [
              "['PRP$',\n",
              " 'NNS',\n",
              " 'VBP',\n",
              " 'DT',\n",
              " 'NN',\n",
              " 'IN',\n",
              " 'MD',\n",
              " 'VB',\n",
              " 'JJ',\n",
              " 'PRP',\n",
              " 'JJS',\n",
              " 'VBD',\n",
              " 'TO',\n",
              " 'VBG',\n",
              " 'VBN',\n",
              " 'CC',\n",
              " 'CD',\n",
              " 'RB',\n",
              " 'EX',\n",
              " 'VBZ',\n",
              " 'WP',\n",
              " 'RP',\n",
              " 'JJR',\n",
              " 'NNP',\n",
              " 'WRB',\n",
              " '$',\n",
              " 'WDT',\n",
              " 'RBR',\n",
              " 'RBS',\n",
              " 'PDT',\n",
              " 'FW',\n",
              " 'SYM',\n",
              " 'UH',\n",
              " 'WP$',\n",
              " \"''\",\n",
              " 'target']"
            ]
          },
          "metadata": {
            "tags": []
          },
          "execution_count": 86
        }
      ]
    },
    {
      "cell_type": "code",
      "metadata": {
        "id": "xyP1TeWC2VQS",
        "colab_type": "code",
        "outputId": "00912d0b-c23e-4a39-ee6a-344ea8f4c2d7",
        "colab": {
          "base_uri": "https://localhost:8080/",
          "height": 157
        }
      },
      "source": [
        "#Hacemos el agrupamiento sobre algunas columnas by 'target' con algunas medidas estadísticas\n",
        "tags_stats_by_target=train_no_duplicates_merge_word_classes[agg_cols].groupby('target').mean()\n",
        "tags_stats_by_target"
      ],
      "execution_count": 87,
      "outputs": [
        {
          "output_type": "execute_result",
          "data": {
            "text/html": [
              "<div>\n",
              "<style scoped>\n",
              "    .dataframe tbody tr th:only-of-type {\n",
              "        vertical-align: middle;\n",
              "    }\n",
              "\n",
              "    .dataframe tbody tr th {\n",
              "        vertical-align: top;\n",
              "    }\n",
              "\n",
              "    .dataframe thead th {\n",
              "        text-align: right;\n",
              "    }\n",
              "</style>\n",
              "<table border=\"1\" class=\"dataframe\">\n",
              "  <thead>\n",
              "    <tr style=\"text-align: right;\">\n",
              "      <th></th>\n",
              "      <th>PRP$</th>\n",
              "      <th>NNS</th>\n",
              "      <th>VBP</th>\n",
              "      <th>DT</th>\n",
              "      <th>NN</th>\n",
              "      <th>IN</th>\n",
              "      <th>MD</th>\n",
              "      <th>VB</th>\n",
              "      <th>JJ</th>\n",
              "      <th>PRP</th>\n",
              "      <th>JJS</th>\n",
              "      <th>VBD</th>\n",
              "      <th>TO</th>\n",
              "      <th>VBG</th>\n",
              "      <th>VBN</th>\n",
              "      <th>CC</th>\n",
              "      <th>CD</th>\n",
              "      <th>RB</th>\n",
              "      <th>EX</th>\n",
              "      <th>VBZ</th>\n",
              "      <th>WP</th>\n",
              "      <th>RP</th>\n",
              "      <th>JJR</th>\n",
              "      <th>NNP</th>\n",
              "      <th>WRB</th>\n",
              "      <th>$</th>\n",
              "      <th>WDT</th>\n",
              "      <th>RBR</th>\n",
              "      <th>RBS</th>\n",
              "      <th>PDT</th>\n",
              "      <th>FW</th>\n",
              "      <th>SYM</th>\n",
              "      <th>UH</th>\n",
              "      <th>WP$</th>\n",
              "      <th>''</th>\n",
              "    </tr>\n",
              "    <tr>\n",
              "      <th>target</th>\n",
              "      <th></th>\n",
              "      <th></th>\n",
              "      <th></th>\n",
              "      <th></th>\n",
              "      <th></th>\n",
              "      <th></th>\n",
              "      <th></th>\n",
              "      <th></th>\n",
              "      <th></th>\n",
              "      <th></th>\n",
              "      <th></th>\n",
              "      <th></th>\n",
              "      <th></th>\n",
              "      <th></th>\n",
              "      <th></th>\n",
              "      <th></th>\n",
              "      <th></th>\n",
              "      <th></th>\n",
              "      <th></th>\n",
              "      <th></th>\n",
              "      <th></th>\n",
              "      <th></th>\n",
              "      <th></th>\n",
              "      <th></th>\n",
              "      <th></th>\n",
              "      <th></th>\n",
              "      <th></th>\n",
              "      <th></th>\n",
              "      <th></th>\n",
              "      <th></th>\n",
              "      <th></th>\n",
              "      <th></th>\n",
              "      <th></th>\n",
              "      <th></th>\n",
              "      <th></th>\n",
              "    </tr>\n",
              "  </thead>\n",
              "  <tbody>\n",
              "    <tr>\n",
              "      <th>0</th>\n",
              "      <td>0.27</td>\n",
              "      <td>0.81</td>\n",
              "      <td>0.62</td>\n",
              "      <td>1.01</td>\n",
              "      <td>3.87</td>\n",
              "      <td>1.32</td>\n",
              "      <td>0.16</td>\n",
              "      <td>0.63</td>\n",
              "      <td>1.33</td>\n",
              "      <td>0.57</td>\n",
              "      <td>0.04</td>\n",
              "      <td>0.43</td>\n",
              "      <td>0.28</td>\n",
              "      <td>0.36</td>\n",
              "      <td>0.27</td>\n",
              "      <td>0.31</td>\n",
              "      <td>0.34</td>\n",
              "      <td>0.64</td>\n",
              "      <td>0.02</td>\n",
              "      <td>0.37</td>\n",
              "      <td>0.06</td>\n",
              "      <td>0.10</td>\n",
              "      <td>0.03</td>\n",
              "      <td>0.10</td>\n",
              "      <td>0.09</td>\n",
              "      <td>0.00</td>\n",
              "      <td>0.03</td>\n",
              "      <td>0.02</td>\n",
              "      <td>0.01</td>\n",
              "      <td>0.02</td>\n",
              "      <td>0.01</td>\n",
              "      <td>0.00</td>\n",
              "      <td>0.00</td>\n",
              "      <td>0.00</td>\n",
              "      <td>0.00</td>\n",
              "    </tr>\n",
              "    <tr>\n",
              "      <th>1</th>\n",
              "      <td>0.12</td>\n",
              "      <td>1.13</td>\n",
              "      <td>0.45</td>\n",
              "      <td>0.93</td>\n",
              "      <td>4.47</td>\n",
              "      <td>1.65</td>\n",
              "      <td>0.11</td>\n",
              "      <td>0.41</td>\n",
              "      <td>1.49</td>\n",
              "      <td>0.28</td>\n",
              "      <td>0.05</td>\n",
              "      <td>0.49</td>\n",
              "      <td>0.24</td>\n",
              "      <td>0.36</td>\n",
              "      <td>0.34</td>\n",
              "      <td>0.22</td>\n",
              "      <td>0.63</td>\n",
              "      <td>0.46</td>\n",
              "      <td>0.02</td>\n",
              "      <td>0.36</td>\n",
              "      <td>0.05</td>\n",
              "      <td>0.08</td>\n",
              "      <td>0.04</td>\n",
              "      <td>0.12</td>\n",
              "      <td>0.07</td>\n",
              "      <td>0.01</td>\n",
              "      <td>0.04</td>\n",
              "      <td>0.02</td>\n",
              "      <td>0.00</td>\n",
              "      <td>0.01</td>\n",
              "      <td>0.01</td>\n",
              "      <td>0.00</td>\n",
              "      <td>0.00</td>\n",
              "      <td>0.00</td>\n",
              "      <td>0.00</td>\n",
              "    </tr>\n",
              "  </tbody>\n",
              "</table>\n",
              "</div>"
            ],
            "text/plain": [
              "                       PRP$  ...                   ''\n",
              "target                       ...                     \n",
              "0                      0.27  ...                 0.00\n",
              "1                      0.12  ...                 0.00\n",
              "\n",
              "[2 rows x 35 columns]"
            ]
          },
          "metadata": {
            "tags": []
          },
          "execution_count": 87
        }
      ]
    },
    {
      "cell_type": "code",
      "metadata": {
        "id": "nIv8cBNU0Kh3",
        "colab_type": "code",
        "colab": {}
      },
      "source": [
        "#Eliminamos las que tienen valores bajos, es decir, por columna la suma sea inferior a 0.07\n",
        "barplot=tags_stats_by_target.loc[:,tags_stats_by_target.sum()>=0.07]"
      ],
      "execution_count": 0,
      "outputs": []
    },
    {
      "cell_type": "code",
      "metadata": {
        "id": "WfygbKnN2nJ6",
        "colab_type": "code",
        "outputId": "58444ef5-6ee2-4094-e11a-060283a04455",
        "colab": {
          "base_uri": "https://localhost:8080/",
          "height": 70
        }
      },
      "source": [
        "print(len(barplot.iloc[1,:].values))\n",
        "print(len(barplot.iloc[0,:].values))\n",
        "print(len(list(barplot.iloc[0,:].index)))"
      ],
      "execution_count": 89,
      "outputs": [
        {
          "output_type": "stream",
          "text": [
            "24\n",
            "24\n",
            "24\n"
          ],
          "name": "stdout"
        }
      ]
    },
    {
      "cell_type": "code",
      "metadata": {
        "id": "5pxdp0rbw4JT",
        "colab_type": "code",
        "outputId": "4de9b7b0-84d8-49c1-d970-9cae5251284f",
        "colab": {
          "base_uri": "https://localhost:8080/",
          "height": 658
        }
      },
      "source": [
        "# set width of bar\n",
        "barWidth = 0.50\n",
        " \n",
        "# set height of bar\n",
        "target_0_subclases = barplot.iloc[0,:].values\n",
        "target_1_subclases = barplot.iloc[1,:].values\n",
        "xticks_word_tags=list(barplot.iloc[0,:].index)\n",
        "\n",
        "# Set position of bar on X axis\n",
        "r1 = np.arange(len(target_0_subclases))\n",
        "r2 = [x + barWidth for x in r1]\n",
        " \n",
        "# Make the plot\n",
        "fig=plt.figure(figsize=(20,10))\n",
        "plt.bar(r1, target_0_subclases, color='#7f6d5f', width=barWidth, edgecolor='white', label='Not Real')\n",
        "plt.bar(r2, target_1_subclases, color='#557f2d', width=barWidth, edgecolor='white', label='Real')\n",
        " \n",
        "# Labels and titles\n",
        "plt.xlabel('Sub-clases de Palabras', fontweight='bold',fontsize=16)\n",
        "plt.ylabel('Promedio de Apariciones en Tweets', fontweight='bold',fontsize=16)\n",
        "plt.xticks([r + 0.25 for r in range(len(target_0_subclases))],xticks_word_tags,rotation='horizontal',fontsize=14)\n",
        "plt.title('Bar Plot: Sub-clases de Palabras \\n Promedio de Apariciones por Tweet - por Target', fontweight='bold',fontsize=20)\n",
        "\n",
        "# Create legend & Show graphic\n",
        "plt.legend(fontsize=12)\n",
        "plt.show()\n"
      ],
      "execution_count": 90,
      "outputs": [
        {
          "output_type": "display_data",
          "data": {
            "image/png": "[encoded data removed]",
            "text/plain": [
              "<Figure size 1440x720 with 1 Axes>"
            ]
          },
          "metadata": {
            "tags": [],
            "needs_background": "light"
          }
        }
      ]
    },
    {
      "cell_type": "code",
      "metadata": {
        "id": "ewKE4EiDci3A",
        "colab_type": "code",
        "colab": {}
      },
      "source": [
        ""
      ],
      "execution_count": 0,
      "outputs": []
    },
    {
      "cell_type": "code",
      "metadata": {
        "id": "2B2uNjA-1-lk",
        "colab_type": "code",
        "colab": {}
      },
      "source": [
        "#Vamos a volver a utilizar este dataframe para agrupar las sub-clases en clases y poder realizar el análisis por clase. \n",
        "word_classes_aggregation = train_no_duplicates_merge_word_classes[agg_cols]\n",
        "word_classes_aggregation = word_classes_aggregation.reindex(sorted(word_classes_aggregation.columns),axis=1)\n"
      ],
      "execution_count": 0,
      "outputs": []
    },
    {
      "cell_type": "code",
      "metadata": {
        "id": "G5JcCnJu5fCR",
        "colab_type": "code",
        "outputId": "41d5dd01-a478-4034-ea36-5b1c9d55e03f",
        "colab": {
          "base_uri": "https://localhost:8080/",
          "height": 123
        }
      },
      "source": [
        "#Vemos cuales son todas las subclases. \n",
        "print(word_classes_aggregation.columns[:-1])\n",
        "print(len(word_classes_aggregation.columns[:-1]))"
      ],
      "execution_count": 92,
      "outputs": [
        {
          "output_type": "stream",
          "text": [
            "Index(['$', '''', 'CC', 'CD', 'DT', 'EX', 'FW', 'IN', 'JJ', 'JJR', 'JJS', 'MD',\n",
            "       'NN', 'NNP', 'NNS', 'PDT', 'PRP', 'PRP$', 'RB', 'RBR', 'RBS', 'RP',\n",
            "       'SYM', 'TO', 'UH', 'VB', 'VBD', 'VBG', 'VBN', 'VBP', 'VBZ', 'WDT', 'WP',\n",
            "       'WP$', 'WRB'],\n",
            "      dtype='object')\n",
            "35\n"
          ],
          "name": "stdout"
        }
      ]
    },
    {
      "cell_type": "code",
      "metadata": {
        "id": "wixiRCkw54Gv",
        "colab_type": "code",
        "colab": {}
      },
      "source": [
        "#Acá estamos agregando las 35 sub-clases en 14 clases. \n",
        "word_classes_aggregation['nouns']=word_classes_aggregation['NN']+word_classes_aggregation['NNP']+word_classes_aggregation['NNS']\n",
        "word_classes_aggregation['verbs']=word_classes_aggregation['VB']+word_classes_aggregation['VBD']+word_classes_aggregation['VBG']+\\\n",
        "                                  word_classes_aggregation['VBN']+word_classes_aggregation['VBP']+word_classes_aggregation['VBZ']+\\\n",
        "                                  word_classes_aggregation['MD']\n",
        "word_classes_aggregation['adjectives']=word_classes_aggregation['JJ']+word_classes_aggregation['JJR']+word_classes_aggregation['JJS']\n",
        "word_classes_aggregation['pronouns']=word_classes_aggregation['PRP']+word_classes_aggregation['PRP$']+word_classes_aggregation['WP']+word_classes_aggregation['WP$']\n",
        "word_classes_aggregation['determiners']=word_classes_aggregation['PDT']+word_classes_aggregation['DT']+word_classes_aggregation['WDT']\n",
        "word_classes_aggregation['adverbs']=word_classes_aggregation['RB']+word_classes_aggregation['RBR']+word_classes_aggregation['RBS']+\\\n",
        "                                            word_classes_aggregation['RP']+word_classes_aggregation['WRB']+word_classes_aggregation['EX']\n",
        "word_classes_aggregation['prepositions']=word_classes_aggregation['IN']+word_classes_aggregation['TO']\n",
        "word_classes_aggregation['conjuctions']=word_classes_aggregation['CC']\n",
        "word_classes_aggregation['numerals_cardinals']=word_classes_aggregation['CD']\n",
        "word_classes_aggregation['foreing_words']=word_classes_aggregation['FW']\n",
        "word_classes_aggregation['quotes']=word_classes_aggregation[\"''\"]\n",
        "word_classes_aggregation['$']=word_classes_aggregation['$']\n",
        "word_classes_aggregation['interjections']=word_classes_aggregation['UH']\n",
        "word_classes_aggregation['symbols']=word_classes_aggregation['SYM']"
      ],
      "execution_count": 0,
      "outputs": []
    },
    {
      "cell_type": "code",
      "metadata": {
        "id": "c4saJb33KUKc",
        "colab_type": "code",
        "colab": {
          "base_uri": "https://localhost:8080/",
          "height": 406
        },
        "outputId": "119f6e07-f7bb-44c8-c11c-0c242969ae93"
      },
      "source": [
        "word_classes=word_classes_aggregation[['nouns','verbs','adjectives','pronouns','determiners','adverbs','prepositions','conjuctions','numerals_cardinals','interjections',\\\n",
        "                                       'foreing_words','quotes','$','symbols','target']]\n",
        "word_classes"
      ],
      "execution_count": 94,
      "outputs": [
        {
          "output_type": "execute_result",
          "data": {
            "text/html": [
              "<div>\n",
              "<style scoped>\n",
              "    .dataframe tbody tr th:only-of-type {\n",
              "        vertical-align: middle;\n",
              "    }\n",
              "\n",
              "    .dataframe tbody tr th {\n",
              "        vertical-align: top;\n",
              "    }\n",
              "\n",
              "    .dataframe thead th {\n",
              "        text-align: right;\n",
              "    }\n",
              "</style>\n",
              "<table border=\"1\" class=\"dataframe\">\n",
              "  <thead>\n",
              "    <tr style=\"text-align: right;\">\n",
              "      <th></th>\n",
              "      <th>nouns</th>\n",
              "      <th>verbs</th>\n",
              "      <th>adjectives</th>\n",
              "      <th>pronouns</th>\n",
              "      <th>determiners</th>\n",
              "      <th>adverbs</th>\n",
              "      <th>prepositions</th>\n",
              "      <th>conjuctions</th>\n",
              "      <th>numerals_cardinals</th>\n",
              "      <th>interjections</th>\n",
              "      <th>foreing_words</th>\n",
              "      <th>quotes</th>\n",
              "      <th>$</th>\n",
              "      <th>symbols</th>\n",
              "      <th>target</th>\n",
              "    </tr>\n",
              "  </thead>\n",
              "  <tbody>\n",
              "    <tr>\n",
              "      <th>0</th>\n",
              "      <td>3.00</td>\n",
              "      <td>3.00</td>\n",
              "      <td>1.00</td>\n",
              "      <td>2.00</td>\n",
              "      <td>3.00</td>\n",
              "      <td>0.00</td>\n",
              "      <td>1.00</td>\n",
              "      <td>0.00</td>\n",
              "      <td>0.00</td>\n",
              "      <td>0.00</td>\n",
              "      <td>0.00</td>\n",
              "      <td>0.00</td>\n",
              "      <td>0.00</td>\n",
              "      <td>0.00</td>\n",
              "      <td>1</td>\n",
              "    </tr>\n",
              "    <tr>\n",
              "      <th>1</th>\n",
              "      <td>4.00</td>\n",
              "      <td>0.00</td>\n",
              "      <td>2.00</td>\n",
              "      <td>0.00</td>\n",
              "      <td>0.00</td>\n",
              "      <td>0.00</td>\n",
              "      <td>1.00</td>\n",
              "      <td>0.00</td>\n",
              "      <td>0.00</td>\n",
              "      <td>0.00</td>\n",
              "      <td>0.00</td>\n",
              "      <td>0.00</td>\n",
              "      <td>0.00</td>\n",
              "      <td>0.00</td>\n",
              "      <td>1</td>\n",
              "    </tr>\n",
              "    <tr>\n",
              "      <th>2</th>\n",
              "      <td>7.00</td>\n",
              "      <td>7.00</td>\n",
              "      <td>1.00</td>\n",
              "      <td>0.00</td>\n",
              "      <td>2.00</td>\n",
              "      <td>0.00</td>\n",
              "      <td>4.00</td>\n",
              "      <td>1.00</td>\n",
              "      <td>0.00</td>\n",
              "      <td>0.00</td>\n",
              "      <td>0.00</td>\n",
              "      <td>0.00</td>\n",
              "      <td>0.00</td>\n",
              "      <td>0.00</td>\n",
              "      <td>1</td>\n",
              "    </tr>\n",
              "    <tr>\n",
              "      <th>3</th>\n",
              "      <td>5.00</td>\n",
              "      <td>0.00</td>\n",
              "      <td>1.00</td>\n",
              "      <td>0.00</td>\n",
              "      <td>0.00</td>\n",
              "      <td>0.00</td>\n",
              "      <td>1.00</td>\n",
              "      <td>0.00</td>\n",
              "      <td>2.00</td>\n",
              "      <td>0.00</td>\n",
              "      <td>0.00</td>\n",
              "      <td>0.00</td>\n",
              "      <td>0.00</td>\n",
              "      <td>0.00</td>\n",
              "      <td>1</td>\n",
              "    </tr>\n",
              "    <tr>\n",
              "      <th>4</th>\n",
              "      <td>5.00</td>\n",
              "      <td>3.00</td>\n",
              "      <td>1.00</td>\n",
              "      <td>0.00</td>\n",
              "      <td>2.00</td>\n",
              "      <td>1.00</td>\n",
              "      <td>4.00</td>\n",
              "      <td>0.00</td>\n",
              "      <td>0.00</td>\n",
              "      <td>0.00</td>\n",
              "      <td>0.00</td>\n",
              "      <td>0.00</td>\n",
              "      <td>0.00</td>\n",
              "      <td>0.00</td>\n",
              "      <td>1</td>\n",
              "    </tr>\n",
              "    <tr>\n",
              "      <th>...</th>\n",
              "      <td>...</td>\n",
              "      <td>...</td>\n",
              "      <td>...</td>\n",
              "      <td>...</td>\n",
              "      <td>...</td>\n",
              "      <td>...</td>\n",
              "      <td>...</td>\n",
              "      <td>...</td>\n",
              "      <td>...</td>\n",
              "      <td>...</td>\n",
              "      <td>...</td>\n",
              "      <td>...</td>\n",
              "      <td>...</td>\n",
              "      <td>...</td>\n",
              "      <td>...</td>\n",
              "    </tr>\n",
              "    <tr>\n",
              "      <th>6884</th>\n",
              "      <td>4.00</td>\n",
              "      <td>2.00</td>\n",
              "      <td>0.00</td>\n",
              "      <td>1.00</td>\n",
              "      <td>2.00</td>\n",
              "      <td>2.00</td>\n",
              "      <td>1.00</td>\n",
              "      <td>1.00</td>\n",
              "      <td>0.00</td>\n",
              "      <td>0.00</td>\n",
              "      <td>0.00</td>\n",
              "      <td>0.00</td>\n",
              "      <td>0.00</td>\n",
              "      <td>0.00</td>\n",
              "      <td>1</td>\n",
              "    </tr>\n",
              "    <tr>\n",
              "      <th>6885</th>\n",
              "      <td>8.00</td>\n",
              "      <td>3.00</td>\n",
              "      <td>1.00</td>\n",
              "      <td>0.00</td>\n",
              "      <td>3.00</td>\n",
              "      <td>0.00</td>\n",
              "      <td>4.00</td>\n",
              "      <td>0.00</td>\n",
              "      <td>0.00</td>\n",
              "      <td>0.00</td>\n",
              "      <td>0.00</td>\n",
              "      <td>0.00</td>\n",
              "      <td>0.00</td>\n",
              "      <td>0.00</td>\n",
              "      <td>1</td>\n",
              "    </tr>\n",
              "    <tr>\n",
              "      <th>6886</th>\n",
              "      <td>9.00</td>\n",
              "      <td>4.00</td>\n",
              "      <td>1.00</td>\n",
              "      <td>1.00</td>\n",
              "      <td>0.00</td>\n",
              "      <td>1.00</td>\n",
              "      <td>2.00</td>\n",
              "      <td>0.00</td>\n",
              "      <td>1.00</td>\n",
              "      <td>0.00</td>\n",
              "      <td>0.00</td>\n",
              "      <td>0.00</td>\n",
              "      <td>0.00</td>\n",
              "      <td>0.00</td>\n",
              "      <td>1</td>\n",
              "    </tr>\n",
              "    <tr>\n",
              "      <th>6887</th>\n",
              "      <td>6.00</td>\n",
              "      <td>5.00</td>\n",
              "      <td>2.00</td>\n",
              "      <td>0.00</td>\n",
              "      <td>2.00</td>\n",
              "      <td>4.00</td>\n",
              "      <td>5.00</td>\n",
              "      <td>3.00</td>\n",
              "      <td>0.00</td>\n",
              "      <td>0.00</td>\n",
              "      <td>0.00</td>\n",
              "      <td>0.00</td>\n",
              "      <td>0.00</td>\n",
              "      <td>0.00</td>\n",
              "      <td>1</td>\n",
              "    </tr>\n",
              "    <tr>\n",
              "      <th>6888</th>\n",
              "      <td>10.00</td>\n",
              "      <td>0.00</td>\n",
              "      <td>2.00</td>\n",
              "      <td>0.00</td>\n",
              "      <td>0.00</td>\n",
              "      <td>0.00</td>\n",
              "      <td>2.00</td>\n",
              "      <td>0.00</td>\n",
              "      <td>1.00</td>\n",
              "      <td>0.00</td>\n",
              "      <td>0.00</td>\n",
              "      <td>0.00</td>\n",
              "      <td>0.00</td>\n",
              "      <td>0.00</td>\n",
              "      <td>1</td>\n",
              "    </tr>\n",
              "  </tbody>\n",
              "</table>\n",
              "<p>6889 rows × 15 columns</p>\n",
              "</div>"
            ],
            "text/plain": [
              "                    nouns                verbs  ...              symbols  target\n",
              "0                    3.00                 3.00  ...                 0.00       1\n",
              "1                    4.00                 0.00  ...                 0.00       1\n",
              "2                    7.00                 7.00  ...                 0.00       1\n",
              "3                    5.00                 0.00  ...                 0.00       1\n",
              "4                    5.00                 3.00  ...                 0.00       1\n",
              "...                   ...                  ...  ...                  ...     ...\n",
              "6884                 4.00                 2.00  ...                 0.00       1\n",
              "6885                 8.00                 3.00  ...                 0.00       1\n",
              "6886                 9.00                 4.00  ...                 0.00       1\n",
              "6887                 6.00                 5.00  ...                 0.00       1\n",
              "6888                10.00                 0.00  ...                 0.00       1\n",
              "\n",
              "[6889 rows x 15 columns]"
            ]
          },
          "metadata": {
            "tags": []
          },
          "execution_count": 94
        }
      ]
    },
    {
      "cell_type": "code",
      "metadata": {
        "id": "zOBC_RzULl_Z",
        "colab_type": "code",
        "colab": {}
      },
      "source": [
        "word_classes_by_target=word_classes.groupby('target').agg(['sum','mean','std','min','max','count'])"
      ],
      "execution_count": 0,
      "outputs": []
    },
    {
      "cell_type": "code",
      "metadata": {
        "id": "kckpb--ZUOAr",
        "colab_type": "code",
        "colab": {
          "base_uri": "https://localhost:8080/",
          "height": 137
        },
        "outputId": "f3eb2733-53cf-4764-fb5a-dbe6e3a177cc"
      },
      "source": [
        "word_classes_by_target_mean=word_classes.groupby('target').mean()\n",
        "word_classes_by_target_mean=word_classes_by_target_mean.loc[:,word_classes_by_target_mean.sum()>0.05].round(2)\n",
        "word_classes_by_target_mean"
      ],
      "execution_count": 96,
      "outputs": [
        {
          "output_type": "execute_result",
          "data": {
            "text/html": [
              "<div>\n",
              "<style scoped>\n",
              "    .dataframe tbody tr th:only-of-type {\n",
              "        vertical-align: middle;\n",
              "    }\n",
              "\n",
              "    .dataframe tbody tr th {\n",
              "        vertical-align: top;\n",
              "    }\n",
              "\n",
              "    .dataframe thead th {\n",
              "        text-align: right;\n",
              "    }\n",
              "</style>\n",
              "<table border=\"1\" class=\"dataframe\">\n",
              "  <thead>\n",
              "    <tr style=\"text-align: right;\">\n",
              "      <th></th>\n",
              "      <th>nouns</th>\n",
              "      <th>verbs</th>\n",
              "      <th>adjectives</th>\n",
              "      <th>pronouns</th>\n",
              "      <th>determiners</th>\n",
              "      <th>adverbs</th>\n",
              "      <th>prepositions</th>\n",
              "      <th>conjuctions</th>\n",
              "      <th>numerals_cardinals</th>\n",
              "    </tr>\n",
              "    <tr>\n",
              "      <th>target</th>\n",
              "      <th></th>\n",
              "      <th></th>\n",
              "      <th></th>\n",
              "      <th></th>\n",
              "      <th></th>\n",
              "      <th></th>\n",
              "      <th></th>\n",
              "      <th></th>\n",
              "      <th></th>\n",
              "    </tr>\n",
              "  </thead>\n",
              "  <tbody>\n",
              "    <tr>\n",
              "      <th>0</th>\n",
              "      <td>4.78</td>\n",
              "      <td>2.85</td>\n",
              "      <td>1.40</td>\n",
              "      <td>0.90</td>\n",
              "      <td>1.06</td>\n",
              "      <td>0.87</td>\n",
              "      <td>1.60</td>\n",
              "      <td>0.31</td>\n",
              "      <td>0.34</td>\n",
              "    </tr>\n",
              "    <tr>\n",
              "      <th>1</th>\n",
              "      <td>5.72</td>\n",
              "      <td>2.52</td>\n",
              "      <td>1.58</td>\n",
              "      <td>0.44</td>\n",
              "      <td>0.97</td>\n",
              "      <td>0.65</td>\n",
              "      <td>1.88</td>\n",
              "      <td>0.22</td>\n",
              "      <td>0.63</td>\n",
              "    </tr>\n",
              "  </tbody>\n",
              "</table>\n",
              "</div>"
            ],
            "text/plain": [
              "                      nouns  ...   numerals_cardinals\n",
              "target                       ...                     \n",
              "0                      4.78  ...                 0.34\n",
              "1                      5.72  ...                 0.63\n",
              "\n",
              "[2 rows x 9 columns]"
            ]
          },
          "metadata": {
            "tags": []
          },
          "execution_count": 96
        }
      ]
    },
    {
      "cell_type": "code",
      "metadata": {
        "id": "gUyHjXaYux-A",
        "colab_type": "code",
        "colab": {
          "base_uri": "https://localhost:8080/",
          "height": 801
        },
        "outputId": "5cce2099-ca03-42ba-88dd-125b6e9fc965"
      },
      "source": [
        "# set width of bar\n",
        "barWidth = 0.30\n",
        " \n",
        "# set height of bar\n",
        "target_0 = word_classes_by_target_mean.iloc[0,:].values\n",
        "target_1 = word_classes_by_target_mean.iloc[1,:].values\n",
        "xticks_word_tags=list(word_classes_by_target_mean.iloc[0,:].index)\n",
        "\n",
        "# Set position of bar on X axis\n",
        "r1 = np.arange(len(target_0))\n",
        "r2 = [x + barWidth for x in r1]\n",
        " \n",
        "# Make the plot\n",
        "fig=plt.figure(figsize=(20,10))\n",
        "plt.bar(r1, target_0, color='#7f6d5f', width=barWidth, edgecolor='white', label='Not Real')\n",
        "plt.bar(r2, target_1, color='#557f2d', width=barWidth, edgecolor='white', label='Real')\n",
        " \n",
        "# Labels and titles\n",
        "plt.xlabel('Clases de Palabras', fontweight='bold',fontsize=16)\n",
        "plt.ylabel('Promedio de Apariciones en Tweets', fontweight='bold',fontsize=16)\n",
        "plt.xticks([r + 0.15 for r in range(len(target_0))],xticks_word_tags,rotation='vertical',fontsize=16)\n",
        "plt.title('Bar Plot: Clases de Palabras \\n Promedio de Apariciones por Tweet - por Target', fontweight='bold',fontsize=20)\n",
        "\n",
        "# Create legend & Show graphic\n",
        "plt.legend(fontsize=12)\n",
        "plt.show()\n",
        "\n"
      ],
      "execution_count": 98,
      "outputs": [
        {
          "output_type": "display_data",
          "data": {
            "image/png": "[encoded data removed]",
            "text/plain": [
              "<Figure size 1440x720 with 1 Axes>"
            ]
          },
          "metadata": {
            "tags": [],
            "needs_background": "light"
          }
        }
      ]
    },
    {
      "cell_type": "code",
      "metadata": {
        "id": "fpopSV8pF_N6",
        "colab_type": "code",
        "colab": {
          "base_uri": "https://localhost:8080/",
          "height": 34
        },
        "outputId": "f70b8bed-fc3e-4fb7-edfc-70381a8cdd69"
      },
      "source": [
        "#A cuánto se va el porcentaje de target 1 en la muestra cuando en el mismo texto se combinan verbos con advervios\n",
        "word_classes[(word_classes.loc[:,'verbs']>=1) & (word_classes.loc[:,'adverbs']>=1)]['target'].mean()"
      ],
      "execution_count": 99,
      "outputs": [
        {
          "output_type": "execute_result",
          "data": {
            "text/plain": [
              "0.35257016713970357"
            ]
          },
          "metadata": {
            "tags": []
          },
          "execution_count": 99
        }
      ]
    },
    {
      "cell_type": "code",
      "metadata": {
        "id": "4N-5cl6_Q43N",
        "colab_type": "code",
        "colab": {
          "base_uri": "https://localhost:8080/",
          "height": 34
        },
        "outputId": "34ff4ba0-50f4-4740-f1e7-022ce41eadb1"
      },
      "source": [
        "#A cuánto se va el porcentaje de target 1 en la muestra cuando en el mismo texto tenemos sustantivos pero no pronombres. \n",
        "word_classes[(word_classes.loc[:,'nouns']>=1) & (word_classes.loc[:,'pronouns']==0)]['target'].mean()"
      ],
      "execution_count": 100,
      "outputs": [
        {
          "output_type": "execute_result",
          "data": {
            "text/plain": [
              "0.5057063149885874"
            ]
          },
          "metadata": {
            "tags": []
          },
          "execution_count": 100
        }
      ]
    },
    {
      "cell_type": "code",
      "metadata": {
        "id": "y2RKHiDYTP3l",
        "colab_type": "code",
        "colab": {
          "base_uri": "https://localhost:8080/",
          "height": 34
        },
        "outputId": "c4a20912-f403-4c66-cd74-3a39dfc4bce0"
      },
      "source": [
        "#Otra prob cond. \n",
        "word_classes[(word_classes.loc[:,'nouns']>=1) & (word_classes.loc[:,'pronouns']==0) & (word_classes.loc[:,'prepositions']>=1) & \\\n",
        "             (word_classes.loc[:,'numerals_cardinals']>=1) & (word_classes.loc[:,'adjectives']>=1) & (word_classes.loc[:,'adverbs']==0)]['target'].mean()"
      ],
      "execution_count": 101,
      "outputs": [
        {
          "output_type": "execute_result",
          "data": {
            "text/plain": [
              "0.6746323529411765"
            ]
          },
          "metadata": {
            "tags": []
          },
          "execution_count": 101
        }
      ]
    },
    {
      "cell_type": "code",
      "metadata": {
        "id": "xQ5lt_R3XoGe",
        "colab_type": "code",
        "colab": {
          "base_uri": "https://localhost:8080/",
          "height": 34
        },
        "outputId": "7263ae3a-f970-4723-c405-95899e55e7e2"
      },
      "source": [
        "#Cuántos registros representan del total. \n",
        "(word_classes[(word_classes.loc[:,'nouns']>=1) & (word_classes.loc[:,'pronouns']==0) & (word_classes.loc[:,'prepositions']>=1) & \\\n",
        "             (word_classes.loc[:,'numerals_cardinals']>=1) & (word_classes.loc[:,'adjectives']>=1) & (word_classes.loc[:,'adverbs']==0)].shape[0])/word_classes.shape[0]"
      ],
      "execution_count": 105,
      "outputs": [
        {
          "output_type": "execute_result",
          "data": {
            "text/plain": [
              "0.07896646828276964"
            ]
          },
          "metadata": {
            "tags": []
          },
          "execution_count": 105
        }
      ]
    },
    {
      "cell_type": "code",
      "metadata": {
        "id": "qzAhboyvYl07",
        "colab_type": "code",
        "colab": {
          "base_uri": "https://localhost:8080/",
          "height": 34
        },
        "outputId": "f0b79944-d21d-42a7-8f2d-eee87dfbf8e8"
      },
      "source": [
        "#Otra prob cond. \n",
        "1-word_classes[(word_classes.loc[:,'prepositions']==0) & \n",
        "             (word_classes.loc[:,'numerals_cardinals']==0) & (word_classes.loc[:,'adjectives']==0) & (word_classes.loc[:,'adverbs']>1)]['target'].mean()"
      ],
      "execution_count": 125,
      "outputs": [
        {
          "output_type": "execute_result",
          "data": {
            "text/plain": [
              "0.8"
            ]
          },
          "metadata": {
            "tags": []
          },
          "execution_count": 125
        }
      ]
    },
    {
      "cell_type": "code",
      "metadata": {
        "id": "fPZJ1aMlbA4L",
        "colab_type": "code",
        "colab": {
          "base_uri": "https://localhost:8080/",
          "height": 34
        },
        "outputId": "7a8c72fb-7e8a-4f18-84a3-5c24345e8439"
      },
      "source": [
        "#Cuántos refistros representa\n",
        "(word_classes[(word_classes.loc[:,'prepositions']==0) & \n",
        "             (word_classes.loc[:,'numerals_cardinals']==0) & (word_classes.loc[:,'adjectives']==0) & (word_classes.loc[:,'adverbs']>1)].shape[0])/word_classes.shape[0]"
      ],
      "execution_count": 126,
      "outputs": [
        {
          "output_type": "execute_result",
          "data": {
            "text/plain": [
              "0.0058063579619683555"
            ]
          },
          "metadata": {
            "tags": []
          },
          "execution_count": 126
        }
      ]
    },
    {
      "cell_type": "code",
      "metadata": {
        "id": "b35w9utEG150",
        "colab_type": "code",
        "colab": {}
      },
      "source": [
        "word_classes['target'].mean()"
      ],
      "execution_count": 0,
      "outputs": []
    },
    {
      "cell_type": "code",
      "metadata": {
        "id": "MIJF36w-I5VN",
        "colab_type": "code",
        "colab": {
          "base_uri": "https://localhost:8080/",
          "height": 552
        },
        "outputId": "44ace920-db14-4f6c-9fa2-fb30b11529b7"
      },
      "source": [
        "#Correlaciono clase con target\n",
        "corr_cols=['nouns','verbs','adjectives','pronouns','determiners','adverbs','prepositions','conjuctions','numerals_cardinals','target']\n",
        "(word_classes.loc[:,corr_cols].corr())['target'][:-1].plot(kind='bar', color='blue', figsize=(10,6))\n",
        "plt.title('Correlaciones de Clases de Palabras con Target',fontweight='bold', fontsize=18)\n",
        "plt.ylabel('Indice de Correlación', fontsize=15)\n",
        "plt.xlabel('Clase de Palabra', fontsize=15)\n",
        "plt.show"
      ],
      "execution_count": 102,
      "outputs": [
        {
          "output_type": "execute_result",
          "data": {
            "text/plain": [
              "<function matplotlib.pyplot.show>"
            ]
          },
          "metadata": {
            "tags": []
          },
          "execution_count": 102
        },
        {
          "output_type": "display_data",
          "data": {
            "image/png": "[encoded data removed]",
            "text/plain": [
              "<Figure size 720x432 with 1 Axes>"
            ]
          },
          "metadata": {
            "tags": [],
            "needs_background": "light"
          }
        }
      ]
    },
    {
      "cell_type": "code",
      "metadata": {
        "id": "SOqMjFZWsBE5",
        "colab_type": "code",
        "colab": {}
      },
      "source": [
        "#Veamos cuales son los verbs de target 0 \n",
        "verbs_target_0=[]\n",
        "for x in train_no_duplicates[train_no_duplicates.loc[:,'target']==0]['pos_tagged_text']:\n",
        "  for word,pos in x:\n",
        "    if (pos == 'VB' or pos == 'VBD' or pos == 'VBG' or pos == 'VBN' or pos == 'VBP' or pos == 'VBZ' or pos == 'MD'): #'VB', 'VBD', 'VBG', 'VBN', 'VBP', 'VBZ' , 'MD'\n",
        "      verbs_target_0.append(word)\n",
        "\n",
        "verbs_target_0=pd.DataFrame(verbs_target_0)\n",
        "verbs_target_0.columns=['verb']\n",
        "verbs_target_0['len']=verbs_target_0.verb.apply(lambda x: len(x))\n",
        "verbs_target_0=verbs_target_0[verbs_target_0.loc[:,'len']>3] #Nos sacamos los verbos que tienen menos de tres letras\n",
        "\n",
        "#Los verbs de target 1\n",
        "verbs_target_1=[]\n",
        "for x in train_no_duplicates[train_no_duplicates.loc[:,'target']==1]['pos_tagged_text']:\n",
        "  for word,pos in x:\n",
        "    if (pos == 'VB' or pos == 'VBD' or pos == 'VBG' or pos == 'VBN' or pos == 'VBP' or pos == 'VBZ' or pos == 'MD'): #'VB', 'VBD', 'VBG', 'VBN', 'VBP', 'VBZ', 'MD'\n",
        "      verbs_target_1.append(word)\n",
        "\n",
        "verbs_target_1=pd.DataFrame(verbs_target_1)\n",
        "verbs_target_1.columns=['verb']\n",
        "verbs_target_1['len']=verbs_target_1.verb.apply(lambda x: len(x))\n",
        "verbs_target_1=verbs_target_1[verbs_target_1.loc[:,'len']>3] #Nos sacamos los verbos que tienen menos de tres letras\n"
      ],
      "execution_count": 0,
      "outputs": []
    },
    {
      "cell_type": "code",
      "metadata": {
        "id": "wBboyWw50dX-",
        "colab_type": "code",
        "colab": {}
      },
      "source": [
        "verbs_target_0['verb'].value_counts().head()"
      ],
      "execution_count": 0,
      "outputs": []
    },
    {
      "cell_type": "code",
      "metadata": {
        "id": "uXsXQFAG01lV",
        "colab_type": "code",
        "colab": {}
      },
      "source": [
        "verbs_target_1.verb.value_counts().head()"
      ],
      "execution_count": 0,
      "outputs": []
    },
    {
      "cell_type": "code",
      "metadata": {
        "id": "hc1cYSliyvcF",
        "colab_type": "code",
        "colab": {}
      },
      "source": [
        "#Veamos cuales son los nouns de target 0 \n",
        "nouns_target_0=[]\n",
        "for x in train_no_duplicates[train_no_duplicates.loc[:,'target']==0]['pos_tagged_text']:\n",
        "  for word,pos in x:\n",
        "    if (pos == 'NN' or pos == 'NNP' or pos == 'NNS' or pos == 'NNPS'):\n",
        "      nouns_target_0.append(word)\n",
        "\n",
        "nouns_target_0=pd.DataFrame(nouns_target_0)\n",
        "nouns_target_0.columns=['noun']\n",
        "nouns_target_0['len']=nouns_target_0.noun.apply(lambda x: len(x))\n",
        "nouns_target_0=nouns_target_0[nouns_target_0.loc[:,'len']>1] #Nos sacamos los sustantivos que tienen un solo caracter\n",
        "\n",
        "#Los verbs de target 1\n",
        "nouns_target_1=[]\n",
        "for x in train_no_duplicates[train_no_duplicates.loc[:,'target']==1]['pos_tagged_text']:\n",
        "  for word,pos in x:\n",
        "    if (pos == 'NN' or pos == 'NNP' or pos == 'NNS' or pos == 'NNPS'):\n",
        "      nouns_target_1.append(word)\n",
        "\n",
        "nouns_target_1=pd.DataFrame(nouns_target_1)\n",
        "nouns_target_1.columns=['noun']\n",
        "nouns_target_1['len']=nouns_target_1.noun.apply(lambda x: len(x)) #Obtenemos el length\n",
        "nouns_target_1=nouns_target_1[nouns_target_1.loc[:,'len']>1] #Nos sacamos los sustantivos que tienen un solo caracter"
      ],
      "execution_count": 0,
      "outputs": []
    },
    {
      "cell_type": "code",
      "metadata": {
        "id": "IdzreyAFvuer",
        "colab_type": "code",
        "colab": {}
      },
      "source": [
        "nouns_target_0['noun'].value_counts().head()"
      ],
      "execution_count": 0,
      "outputs": []
    },
    {
      "cell_type": "code",
      "metadata": {
        "id": "VhwwJoWAyBUv",
        "colab_type": "code",
        "colab": {}
      },
      "source": [
        "nouns_target_1['noun'].value_counts().head()"
      ],
      "execution_count": 0,
      "outputs": []
    },
    {
      "cell_type": "code",
      "metadata": {
        "id": "Uhxe0BJL1jBv",
        "colab_type": "code",
        "colab": {}
      },
      "source": [
        "#Veamos cuales son los nouns de target 0 \n",
        "adjectives_target_0=[]\n",
        "for x in train_no_duplicates[train_no_duplicates.loc[:,'target']==0]['pos_tagged_text']:\n",
        "  for word,pos in x:\n",
        "    if (pos == 'JJ' or pos == 'JJR' or pos == 'JJS'): #'JJ', 'JJR', 'JJS'\n",
        "      adjectives_target_0.append(word)\n",
        "\n",
        "adjectives_target_0=pd.DataFrame(adjectives_target_0)\n",
        "adjectives_target_0.columns=['adjective']\n",
        "adjectives_target_0['len']=adjectives_target_0.adjective.apply(lambda x: len(x))\n",
        "adjectives_target_0=adjectives_target_0[adjectives_target_0.loc[:,'len']>1] #Nos sacamos los sustantivos que tienen un solo caracter\n",
        "\n",
        "#Los verbs de target 1\n",
        "adjectives_target_1=[]\n",
        "for x in train_no_duplicates[train_no_duplicates.loc[:,'target']==1]['pos_tagged_text']:\n",
        "  for word,pos in x:\n",
        "    if (pos == 'JJ' or pos == 'JJR' or pos == 'JJS'): #'JJ', 'JJR', 'JJS'\n",
        "      adjectives_target_1.append(word)\n",
        "\n",
        "adjectives_target_1=pd.DataFrame(adjectives_target_1)\n",
        "adjectives_target_1.columns=['adjective']\n",
        "adjectives_target_1['len']=adjectives_target_1.adjective.apply(lambda x: len(x))\n",
        "adjectives_target_1=adjectives_target_1[adjectives_target_1.loc[:,'len']>1] #Nos sacamos los sustantivos que tienen un solo caracter\n"
      ],
      "execution_count": 0,
      "outputs": []
    },
    {
      "cell_type": "code",
      "metadata": {
        "id": "t9q-4eRz2kue",
        "colab_type": "code",
        "colab": {}
      },
      "source": [
        "adjectives_target_0.adjective.value_counts().head()"
      ],
      "execution_count": 0,
      "outputs": []
    },
    {
      "cell_type": "code",
      "metadata": {
        "id": "CSvtIQsI2sso",
        "colab_type": "code",
        "colab": {}
      },
      "source": [
        "adjectives_target_1.adjective.value_counts().head()"
      ],
      "execution_count": 0,
      "outputs": []
    },
    {
      "cell_type": "markdown",
      "metadata": {
        "id": "eEdGGvBGamx1",
        "colab_type": "text"
      },
      "source": [
        "# Análisis de Pronombres"
      ]
    },
    {
      "cell_type": "markdown",
      "metadata": {
        "id": "CK6OA798aqrE",
        "colab_type": "text"
      },
      "source": [
        "Se propone un análisis de cantidad de apariciones de pronombres en tweets según su target."
      ]
    },
    {
      "cell_type": "code",
      "metadata": {
        "id": "Oi7A0UUEVczt",
        "colab_type": "code",
        "colab": {}
      },
      "source": [
        "def generate_tokens(target):\n",
        "    text_tokens=[]\n",
        "    for x in train_no_duplicates[train_no_duplicates['target']==target]['text_clean'].str.split():\n",
        "        for i in x:\n",
        "            text_tokens.append(i)\n",
        "    return text_tokens\n",
        "\n",
        "#Analizo tweets con target Not Real\n",
        "corpus=generate_tokens(0)\n",
        "\n",
        "dic=defaultdict(int)\n",
        "pronouns={'I','me','my','mine','myself','you','your','yours','yourself',\\\n",
        "          'he','him','his','himself','she','her','hers','herself',\\\n",
        "          'it','its','itself','we','us','our','ours','ourselves',\\\n",
        "          'they','them','their','theirs','themselves','yourselves'}\n",
        "\n",
        "for word in corpus:\n",
        "    if word in pronouns:\n",
        "        dic[word]+=1\n",
        "        \n",
        "top0=sorted(dic.items(), key=lambda x:x[1],reverse=True)[:11]\n",
        "\n",
        "\n",
        "#Analizo tweets con target Real\n",
        "\n",
        "text_tokens=generate_tokens(1)\n",
        "dic=defaultdict(int)\n",
        "\n",
        "for word in text_tokens:\n",
        "    if word in pronouns:\n",
        "        dic[word]+=1\n",
        "\n",
        "top1=sorted(dic.items(), key=lambda x:x[1],reverse=True)[:11]\n",
        "\n"
      ],
      "execution_count": 0,
      "outputs": []
    },
    {
      "cell_type": "code",
      "metadata": {
        "id": "uT8DTRNM2mx_",
        "colab_type": "code",
        "colab": {}
      },
      "source": [
        "pronouns0=pd.DataFrame(top0,columns=['pronoun','cantidad_not_real'])\n",
        "pronouns1=pd.DataFrame(top1,columns=['pronoun','cantidad_real'])\n",
        "\n",
        "pronouns=pronouns0.merge(pronouns1, how='inner')\n",
        "pronouns['cantidad_not_real']=100*pronouns['cantidad_not_real']/len(train0)\n",
        "pronouns['cantidad_real']=100*pronouns['cantidad_real']/len(train1)\n",
        "\n",
        "# Setting the positions and width for the bars\n",
        "pos = list(range(len(pronouns['pronoun']))) \n",
        "width = 0.25 \n",
        "\n",
        "# Plotting the bars\n",
        "fig, ax = plt.subplots(figsize=(10,5))\n",
        "\n",
        "# Create a bar with cantidad_not_real data,\n",
        "# in position pos,\n",
        "plt.bar(pos, \n",
        "        #using df['pre_score'] data,\n",
        "        pronouns['cantidad_not_real'], \n",
        "        # of width\n",
        "        width, \n",
        "        # with alpha 0.5\n",
        "        alpha=0.5, \n",
        "        # with label the first value in first_name\n",
        "        label=pronouns['pronoun'][0]) \n",
        "\n",
        "# Create a bar with mid_score data,\n",
        "# in position pos + some width buffer,\n",
        "plt.bar([p + width for p in pos], \n",
        "        #using df['mid_score'] data,\n",
        "        pronouns['cantidad_real'],\n",
        "        # of width\n",
        "        width, \n",
        "        # with alpha 0.5\n",
        "        alpha=0.5,  \n",
        "        # with label the second value in first_name\n",
        "        label=pronouns['pronoun'][1]) \n",
        "\n",
        "# Set the y axis label\n",
        "ax.set_ylabel('Porcentaje de apariciones por target')\n",
        "\n",
        "# Set the chart's title\n",
        "ax.set_title('Top 10 de pronombres en tweets')\n",
        "\n",
        "\n",
        "# Set the position of the x ticks\n",
        "ax.set_xticks([p + 0.5 * width for p in pos])\n",
        "\n",
        "# Set the labels for the x ticks\n",
        "ax.set_xticklabels(pronouns['pronoun'])\n",
        "\n",
        "\n",
        "# Adding the legend and showing the plot\n",
        "plt.legend(['Not Real', 'Real'], loc='upper right')\n",
        "plt.show()"
      ],
      "execution_count": 0,
      "outputs": []
    },
    {
      "cell_type": "markdown",
      "metadata": {
        "id": "mltKoDDg2wZt",
        "colab_type": "text"
      },
      "source": [
        "En la figura se observan los pronombres con más apariciones para ambos targets. Se observa que los mismos 10 pronombres aparecen en ambos rankings. Sin embargo, todos los porcentajes de aparición de target Not Real superan a los de target Real. En partircular, los valores de \"I\", \"you\" y \"my\" para los targets Not Real triplican en porcentaje a los de target Real. \n",
        "La naturaleza de un tweet que expresa un desastre responde a un estilo de redacción con poca cantidad de pronombres respecto a un tweet \"normal\". Esto puede deberse a que no suele usarse la primera ni segunda persona del singular, y puede haber mayor cantidad de nombres propios."
      ]
    },
    {
      "cell_type": "markdown",
      "metadata": {
        "id": "p_kSAE8ZKEOv",
        "colab_type": "text"
      },
      "source": [
        "# Wordclouds: palabras más utilizadas según target"
      ]
    },
    {
      "cell_type": "code",
      "metadata": {
        "id": "tZfFUZlQ9z-4",
        "colab_type": "code",
        "colab": {}
      },
      "source": [
        "link='https://drive.google.com/open?id=1HX-1ZTbIXNVLzXIvhEBAPskz53MVXPtx'\n",
        "fluff, id2 = link.split('=')\n",
        "print (id2) # Verify that you have everything after '='"
      ],
      "execution_count": 0,
      "outputs": []
    },
    {
      "cell_type": "code",
      "metadata": {
        "id": "Xoh99Re1FTpQ",
        "colab_type": "code",
        "colab": {}
      },
      "source": [
        "downloaded = drive.CreateFile({'id':id2}) \n",
        "downloaded.GetContentFile('twitter_mask.png')"
      ],
      "execution_count": 0,
      "outputs": []
    },
    {
      "cell_type": "code",
      "metadata": {
        "id": "SBi196kOB0qv",
        "colab_type": "code",
        "colab": {}
      },
      "source": [
        "textWordcloud0=(train_no_duplicates[train_no_duplicates['target']==0]['text_clean_no_sw']).str.cat(sep=' ')\n",
        "wave_mask = np.array(Image.open('twitter_mask.png'))\n",
        "wordcloud0 = WordCloud(background_color='white',mask=wave_mask).generate(textWordcloud0)\n",
        "# Display the generated image:\n",
        "f, axes = plt.subplots( figsize=(20, 10), sharex=True)\n",
        "plt.imshow(wordcloud0, interpolation='bilinear')\n",
        "plt.axis(\"off\")\n",
        "plt.margins(x=0, y=0)\n",
        "plt.show()\n",
        "\n"
      ],
      "execution_count": 0,
      "outputs": []
    },
    {
      "cell_type": "code",
      "metadata": {
        "id": "oKodLn5YDMuD",
        "colab_type": "code",
        "colab": {}
      },
      "source": [
        "textWordcloud1=(train_no_duplicates[train_no_duplicates['target']==1]['text_clean_no_sw']).str.cat(sep=' ')\n",
        "wordcloud1 = WordCloud(background_color='white',mask=wave_mask).generate(textWordcloud1)\n",
        "# Display the generated image:\n",
        "f, axes = plt.subplots( figsize=(20, 10), sharex=True)\n",
        "plt.imshow(wordcloud1, interpolation='bilinear')\n",
        "plt.axis(\"off\")\n",
        "plt.margins(x=0, y=0)\n",
        "plt.show()"
      ],
      "execution_count": 0,
      "outputs": []
    },
    {
      "cell_type": "markdown",
      "metadata": {
        "id": "dMNPqXVViWNQ",
        "colab_type": "text"
      },
      "source": [
        "# N-gramas"
      ]
    },
    {
      "cell_type": "markdown",
      "metadata": {
        "id": "uuhgkPZeiae2",
        "colab_type": "text"
      },
      "source": [
        " **1-grama**"
      ]
    },
    {
      "cell_type": "markdown",
      "metadata": {
        "id": "mQwP3aS2ie0P",
        "colab_type": "text"
      },
      "source": [
        "Target=0"
      ]
    },
    {
      "cell_type": "code",
      "metadata": {
        "id": "3HfRyrOlTcNw",
        "colab_type": "code",
        "colab": {}
      },
      "source": [
        "tokenized=textWordcloud0.split()\n",
        "unigrams_0 = ngrams(tokenized, 1)\n",
        "unigramsFreq_0 = collections.Counter(unigrams_0)\n",
        "unigramsFreq_0.most_common(20)\n"
      ],
      "execution_count": 0,
      "outputs": []
    },
    {
      "cell_type": "markdown",
      "metadata": {
        "id": "Fq2i17iOiuEN",
        "colab_type": "text"
      },
      "source": [
        "Target=1"
      ]
    },
    {
      "cell_type": "code",
      "metadata": {
        "id": "OuQcL7x6hEns",
        "colab_type": "code",
        "colab": {}
      },
      "source": [
        "tokenized=textWordcloud1.split()\n",
        "unigrams_1 = ngrams(tokenized, 1)\n",
        "unigramsFreq_1 = collections.Counter(unigrams_1)\n",
        "unigramsFreq_1.most_common(20)\n"
      ],
      "execution_count": 0,
      "outputs": []
    },
    {
      "cell_type": "markdown",
      "metadata": {
        "id": "NqBuEjarjQqc",
        "colab_type": "text"
      },
      "source": [
        "**2-gramas**\n"
      ]
    },
    {
      "cell_type": "markdown",
      "metadata": {
        "id": "ZfWbtc6ljbUe",
        "colab_type": "text"
      },
      "source": [
        "Target=0"
      ]
    },
    {
      "cell_type": "code",
      "metadata": {
        "id": "Eu26CwHhgLld",
        "colab_type": "code",
        "colab": {}
      },
      "source": [
        "tokenized=textWordcloud0.split()\n",
        "bigrams_0 = ngrams(tokenized, 2)\n",
        "bigramsFreq_0 = collections.Counter(bigrams_0)\n",
        "bigramsFreq_0.most_common(20)\n",
        "\n"
      ],
      "execution_count": 0,
      "outputs": []
    },
    {
      "cell_type": "markdown",
      "metadata": {
        "id": "kwTd-xhTjiUB",
        "colab_type": "text"
      },
      "source": [
        "Target= 1"
      ]
    },
    {
      "cell_type": "code",
      "metadata": {
        "id": "iUG8Uz-zhL54",
        "colab_type": "code",
        "colab": {}
      },
      "source": [
        "tokenized=textWordcloud1.split()\n",
        "bigrams_1 = ngrams(tokenized, 2)\n",
        "bigramsFreq_1 = collections.Counter(bigrams_1)\n",
        "bigramsFreq_1.most_common(20)"
      ],
      "execution_count": 0,
      "outputs": []
    },
    {
      "cell_type": "markdown",
      "metadata": {
        "id": "pddM5QvojvCC",
        "colab_type": "text"
      },
      "source": [
        "**3-grama**"
      ]
    },
    {
      "cell_type": "markdown",
      "metadata": {
        "id": "WnvgWmvKjxUn",
        "colab_type": "text"
      },
      "source": [
        "Target=0"
      ]
    },
    {
      "cell_type": "code",
      "metadata": {
        "id": "biMlKS0VjzFY",
        "colab_type": "code",
        "colab": {}
      },
      "source": [
        "tokenized=textWordcloud0.split()\n",
        "trigrams_0 = ngrams(tokenized, 3)\n",
        "trigramsFreq_0 = collections.Counter(trigrams_0)\n",
        "trigramsFreq_0.most_common(20)"
      ],
      "execution_count": 0,
      "outputs": []
    },
    {
      "cell_type": "markdown",
      "metadata": {
        "id": "POhsy6Fsj723",
        "colab_type": "text"
      },
      "source": [
        "Target=1"
      ]
    },
    {
      "cell_type": "code",
      "metadata": {
        "id": "_DckH_Z_j7Dc",
        "colab_type": "code",
        "colab": {}
      },
      "source": [
        "tokenized=textWordcloud1.split()\n",
        "trigrams_1 = ngrams(tokenized, 3)\n",
        "trigramsFreq_1 = collections.Counter(trigrams_1)\n",
        "trigramsFreq_1.most_common(20)"
      ],
      "execution_count": 0,
      "outputs": []
    },
    {
      "cell_type": "code",
      "metadata": {
        "id": "XH1ZL3k4Js7D",
        "colab_type": "code",
        "colab": {}
      },
      "source": [
        "unigrams_frecuencies0 = pd.DataFrame.from_dict(unigramsFreq_0, orient='index').reset_index()\n",
        "unigrams_frecuencies1 = pd.DataFrame.from_dict(unigramsFreq_1, orient='index').reset_index()\n",
        "unigrams_frecuencies_inner=pd.merge(unigrams_frecuencies0,unigrams_frecuencies1,on='index')\n",
        "unigrams_frecuencies_outer=pd.merge(unigrams_frecuencies0,unigrams_frecuencies1,on='index', how='outer')"
      ],
      "execution_count": 0,
      "outputs": []
    },
    {
      "cell_type": "code",
      "metadata": {
        "id": "KhJObI75LSYr",
        "colab_type": "code",
        "colab": {}
      },
      "source": [
        "unigrams_frecuencies_inner.columns=['words','target0','target1']\n",
        "unigrams_frecuencies_inner['total']=unigrams_frecuencies_inner['target0']+unigrams_frecuencies_inner['target1']"
      ],
      "execution_count": 0,
      "outputs": []
    },
    {
      "cell_type": "code",
      "metadata": {
        "id": "vTbGiaz1QqDE",
        "colab_type": "code",
        "colab": {}
      },
      "source": [
        "unigrams_frecuencies_inner.sort_values(by='total', ascending=False)"
      ],
      "execution_count": 0,
      "outputs": []
    },
    {
      "cell_type": "code",
      "metadata": {
        "id": "UrBsyZq3Q6tg",
        "colab_type": "code",
        "colab": {}
      },
      "source": [
        "unigrams_frecuencies_outer.fillna(0,inplace=True)"
      ],
      "execution_count": 0,
      "outputs": []
    },
    {
      "cell_type": "code",
      "metadata": {
        "id": "X33lrFchRD4C",
        "colab_type": "code",
        "colab": {}
      },
      "source": [
        "unigrams_frecuencies_outer.columns=['words','target0','target1']\n",
        "unigrams_frecuencies_outer['total']=unigrams_frecuencies_outer['target0']+unigrams_frecuencies_outer['target1']"
      ],
      "execution_count": 0,
      "outputs": []
    },
    {
      "cell_type": "code",
      "metadata": {
        "id": "V97gIv5pTgXC",
        "colab_type": "code",
        "colab": {}
      },
      "source": [
        "unigrams_frecuencies_outer.sort_values(by='total', ascending=False)"
      ],
      "execution_count": 0,
      "outputs": []
    }
  ]
}
