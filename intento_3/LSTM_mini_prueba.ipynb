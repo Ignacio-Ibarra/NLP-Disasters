{
  "nbformat": 4,
  "nbformat_minor": 0,
  "metadata": {
    "colab": {
      "name": "LSTM mini prueba.ipynb",
      "provenance": [],
      "collapsed_sections": []
    },
    "kernelspec": {
      "name": "python3",
      "display_name": "Python 3"
    }
  },
  "cells": [
    {
      "cell_type": "markdown",
      "metadata": {
        "id": "fg9rYtXU6jFF",
        "colab_type": "text"
      },
      "source": [
        "# LSTM sin hacer mucho, 0.75635 en Kaggle. "
      ]
    },
    {
      "cell_type": "code",
      "metadata": {
        "id": "ZmfYhcuPgmvn",
        "colab_type": "code",
        "colab": {
          "base_uri": "https://localhost:8080/",
          "height": 35
        },
        "outputId": "1cc0ad40-62ed-49c6-f684-6488f435207d"
      },
      "source": [
        "from keras.preprocessing.text import Tokenizer\n",
        "from keras.preprocessing.sequence import pad_sequences\n",
        "from keras.models import Sequential\n",
        "from keras import layers\n",
        "from sklearn.model_selection import train_test_split\n",
        "from sklearn.metrics import confusion_matrix\n",
        "import pandas as pd"
      ],
      "execution_count": 1,
      "outputs": [
        {
          "output_type": "stream",
          "text": [
            "Using TensorFlow backend.\n"
          ],
          "name": "stderr"
        }
      ]
    },
    {
      "cell_type": "code",
      "metadata": {
        "id": "nS76xTlGgijN",
        "colab_type": "code",
        "colab": {}
      },
      "source": [
        "train = pd.read_csv(r'https://raw.githubusercontent.com/Ignacio-Ibarra/NLP-Disasters/intento_3_nachos/intento_3/train_clean.csv')\n",
        "test = pd.read_csv(r'https://raw.githubusercontent.com/Ignacio-Ibarra/NLP-Disasters/intento_3_nachos/intento_3/test_clean.csv')"
      ],
      "execution_count": 18,
      "outputs": []
    },
    {
      "cell_type": "code",
      "metadata": {
        "id": "F0A64EPFjwBf",
        "colab_type": "code",
        "colab": {}
      },
      "source": [
        "train_text = train['text_clean_nosw']\n",
        "y_train = train['target']\n",
        "test_text = test['text_clean_nosw']\n",
        "id_test = test['id']"
      ],
      "execution_count": 21,
      "outputs": []
    },
    {
      "cell_type": "code",
      "metadata": {
        "id": "EI-ptpdJlPfc",
        "colab_type": "code",
        "colab": {}
      },
      "source": [
        "complete = train_text.append(test_text)"
      ],
      "execution_count": 57,
      "outputs": []
    },
    {
      "cell_type": "code",
      "metadata": {
        "id": "MJRnAlH8m7OL",
        "colab_type": "code",
        "colab": {
          "base_uri": "https://localhost:8080/",
          "height": 35
        },
        "outputId": "7f8be801-e708-4808-edc4-b46123536bd8"
      },
      "source": [
        "uniques = []\n",
        "for i in list(complete.values): \n",
        "  for j in str(i).split():\n",
        "    if j not in uniques:\n",
        "      uniques.append(j)\n",
        "numwords = len(uniques)\n",
        "print('The number of unique words is {}'.format(numwords))\n",
        "\n"
      ],
      "execution_count": 45,
      "outputs": [
        {
          "output_type": "stream",
          "text": [
            "The number of unique words is 17140\n"
          ],
          "name": "stdout"
        }
      ]
    },
    {
      "cell_type": "code",
      "metadata": {
        "id": "jWm7_JBHu3n-",
        "colab_type": "code",
        "colab": {}
      },
      "source": [
        "complete = [str(x) for x in complete.values]"
      ],
      "execution_count": 58,
      "outputs": []
    },
    {
      "cell_type": "code",
      "metadata": {
        "id": "T9f3bgFxg7CD",
        "colab_type": "code",
        "colab": {}
      },
      "source": [
        "tokenizer = Tokenizer(num_words=17140)\n",
        "tokenizer.fit_on_texts(list(complete))"
      ],
      "execution_count": 60,
      "outputs": []
    },
    {
      "cell_type": "code",
      "metadata": {
        "id": "dh7rQ-gMxafV",
        "colab_type": "code",
        "colab": {}
      },
      "source": [
        "train_text = [str(x) for x in train_text.values]\n",
        "test_text = [str(x) for x in test_text.values]"
      ],
      "execution_count": 62,
      "outputs": []
    },
    {
      "cell_type": "code",
      "metadata": {
        "id": "YI9rgZd6yOJW",
        "colab_type": "code",
        "colab": {}
      },
      "source": [
        "train_text= tokenizer.texts_to_sequences(train_text)\n",
        "test_text= tokenizer.texts_to_sequences(test_text) "
      ],
      "execution_count": 64,
      "outputs": []
    },
    {
      "cell_type": "code",
      "metadata": {
        "id": "K_ztViOdhfyk",
        "colab_type": "code",
        "colab": {}
      },
      "source": [
        "# We'll apply a padding method to add zeros and set the fixed size into each vector.\n",
        "\n",
        "xtrain=pad_sequences(train_text,padding='post')\n",
        "xtest=pad_sequences(test_text,padding='post')"
      ],
      "execution_count": 65,
      "outputs": []
    },
    {
      "cell_type": "code",
      "metadata": {
        "id": "6odO6k5MhoFj",
        "colab_type": "code",
        "colab": {
          "base_uri": "https://localhost:8080/",
          "height": 381
        },
        "outputId": "e4848ca4-e8ec-4ab7-c28a-bdae0482cdbb"
      },
      "source": [
        "# Defining the LSTM model\n",
        "\n",
        "# We apply the Embedding layer for input data before adding the LSTM layer into the Keras sequential model. The model definition goes as a following.\n",
        "vocab_size=len(tokenizer.word_index)+1\n",
        "embedding_dim=50\n",
        "model=Sequential()\n",
        "model.add(layers.Embedding(input_dim=vocab_size,\n",
        "      output_dim=embedding_dim,\n",
        "      input_length=23))\n",
        "model.add(layers.LSTM(units=50,return_sequences=True))\n",
        "model.add(layers.LSTM(units=10))\n",
        "model.add(layers.Dropout(0.5))\n",
        "model.add(layers.Dense(8))\n",
        "model.add(layers.Dense(1, activation=\"sigmoid\"))\n",
        "model.compile(optimizer=\"adam\", loss=\"binary_crossentropy\", \n",
        "     metrics=['accuracy'])\n",
        "model.summary()"
      ],
      "execution_count": 68,
      "outputs": [
        {
          "output_type": "stream",
          "text": [
            "Model: \"sequential_4\"\n",
            "_________________________________________________________________\n",
            "Layer (type)                 Output Shape              Param #   \n",
            "=================================================================\n",
            "embedding_3 (Embedding)      (None, 23, 50)            857050    \n",
            "_________________________________________________________________\n",
            "lstm_5 (LSTM)                (None, 23, 50)            20200     \n",
            "_________________________________________________________________\n",
            "lstm_6 (LSTM)                (None, 10)                2440      \n",
            "_________________________________________________________________\n",
            "dropout_3 (Dropout)          (None, 10)                0         \n",
            "_________________________________________________________________\n",
            "dense_5 (Dense)              (None, 8)                 88        \n",
            "_________________________________________________________________\n",
            "dense_6 (Dense)              (None, 1)                 9         \n",
            "=================================================================\n",
            "Total params: 879,787\n",
            "Trainable params: 879,787\n",
            "Non-trainable params: 0\n",
            "_________________________________________________________________\n"
          ],
          "name": "stdout"
        }
      ]
    },
    {
      "cell_type": "code",
      "metadata": {
        "id": "YfRT8N_qh-Si",
        "colab_type": "code",
        "colab": {
          "base_uri": "https://localhost:8080/",
          "height": 92
        },
        "outputId": "48b28f79-95f4-4af4-d82a-3be90b141db1"
      },
      "source": [
        "#Finally, we'll train the model and check the training accuracy.\n",
        "\n",
        "model.fit(xtrain,y_train, epochs=20, batch_size=16, verbose=False)\n",
        "\n",
        "loss, acc = model.evaluate(xtrain, y_train, verbose=False)\n",
        "print(\"Training Accuracy: \", round(acc,2))"
      ],
      "execution_count": 69,
      "outputs": [
        {
          "output_type": "stream",
          "text": [
            "/usr/local/lib/python3.6/dist-packages/tensorflow/python/framework/indexed_slices.py:434: UserWarning: Converting sparse IndexedSlices to a dense Tensor of unknown shape. This may consume a large amount of memory.\n",
            "  \"Converting sparse IndexedSlices to a dense Tensor of unknown shape. \"\n"
          ],
          "name": "stderr"
        },
        {
          "output_type": "stream",
          "text": [
            "Training Accuracy:  0.99\n"
          ],
          "name": "stdout"
        }
      ]
    },
    {
      "cell_type": "code",
      "metadata": {
        "id": "4A8gole4fQ4q",
        "colab_type": "code",
        "colab": {}
      },
      "source": [
        "#Predicting test data\n",
        "\n",
        "#Finally, we can predict test data and check the prediction accuracy.\n",
        "\n",
        "ypred=model.predict(xtest)\n",
        "\n",
        "ypred[ypred>0.5]=1 \n",
        "ypred[ypred<=0.5]=0 "
      ],
      "execution_count": 81,
      "outputs": []
    },
    {
      "cell_type": "code",
      "metadata": {
        "id": "BRD7uhOK3rvY",
        "colab_type": "code",
        "colab": {}
      },
      "source": [
        "ypred = [int(x) for x in ypred]"
      ],
      "execution_count": 83,
      "outputs": []
    },
    {
      "cell_type": "code",
      "metadata": {
        "id": "oE3cNOCQ2SpV",
        "colab_type": "code",
        "colab": {
          "base_uri": "https://localhost:8080/",
          "height": 198
        },
        "outputId": "620acb8a-258b-4b89-bb10-041593ca516e"
      },
      "source": [
        "df = pd.DataFrame()\n",
        "df['id'] = [x for x in id_test.values]\n",
        "df['target'] = ypred\n",
        "df.head()"
      ],
      "execution_count": 84,
      "outputs": [
        {
          "output_type": "execute_result",
          "data": {
            "text/html": [
              "<div>\n",
              "<style scoped>\n",
              "    .dataframe tbody tr th:only-of-type {\n",
              "        vertical-align: middle;\n",
              "    }\n",
              "\n",
              "    .dataframe tbody tr th {\n",
              "        vertical-align: top;\n",
              "    }\n",
              "\n",
              "    .dataframe thead th {\n",
              "        text-align: right;\n",
              "    }\n",
              "</style>\n",
              "<table border=\"1\" class=\"dataframe\">\n",
              "  <thead>\n",
              "    <tr style=\"text-align: right;\">\n",
              "      <th></th>\n",
              "      <th>id</th>\n",
              "      <th>target</th>\n",
              "    </tr>\n",
              "  </thead>\n",
              "  <tbody>\n",
              "    <tr>\n",
              "      <th>0</th>\n",
              "      <td>0</td>\n",
              "      <td>1</td>\n",
              "    </tr>\n",
              "    <tr>\n",
              "      <th>1</th>\n",
              "      <td>2</td>\n",
              "      <td>1</td>\n",
              "    </tr>\n",
              "    <tr>\n",
              "      <th>2</th>\n",
              "      <td>3</td>\n",
              "      <td>1</td>\n",
              "    </tr>\n",
              "    <tr>\n",
              "      <th>3</th>\n",
              "      <td>9</td>\n",
              "      <td>1</td>\n",
              "    </tr>\n",
              "    <tr>\n",
              "      <th>4</th>\n",
              "      <td>11</td>\n",
              "      <td>1</td>\n",
              "    </tr>\n",
              "  </tbody>\n",
              "</table>\n",
              "</div>"
            ],
            "text/plain": [
              "   id  target\n",
              "0   0       1\n",
              "1   2       1\n",
              "2   3       1\n",
              "3   9       1\n",
              "4  11       1"
            ]
          },
          "metadata": {
            "tags": []
          },
          "execution_count": 84
        }
      ]
    },
    {
      "cell_type": "code",
      "metadata": {
        "id": "ma-5pF752tfa",
        "colab_type": "code",
        "colab": {}
      },
      "source": [
        "df.to_csv('16.submit.csv', index=False)"
      ],
      "execution_count": 85,
      "outputs": []
    }
  ]
}