{
  "nbformat": 4,
  "nbformat_minor": 0,
  "metadata": {
    "colab": {
      "name": "XGBoost with cluster feature.ipynb",
      "provenance": []
    },
    "kernelspec": {
      "name": "python3",
      "display_name": "Python 3"
    }
  },
  "cells": [
    {
      "cell_type": "code",
      "metadata": {
        "colab_type": "code",
        "id": "ehZQObPqSscY",
        "colab": {}
      },
      "source": [
        "import pandas as pd\n",
        "import numpy as np\n",
        "%matplotlib inline\n",
        "import matplotlib.pyplot as plt"
      ],
      "execution_count": 2,
      "outputs": []
    },
    {
      "cell_type": "code",
      "metadata": {
        "id": "Q2msf5dbBSEZ",
        "colab_type": "code",
        "colab": {}
      },
      "source": [
        "X_train = pd.read_csv('https://raw.githubusercontent.com/Ignacio-Ibarra/NLP-Disasters/intento_2_nacho/intento_2/X_train.csv')\n",
        "y_train = pd.read_csv('https://raw.githubusercontent.com/Ignacio-Ibarra/NLP-Disasters/intento_2_nacho/intento_2/y_train.csv')\n",
        "X_test = pd.read_csv('https://raw.githubusercontent.com/Ignacio-Ibarra/NLP-Disasters/intento_2_nacho/intento_2/X_test.csv')\n",
        "id_test = pd.read_csv('https://raw.githubusercontent.com/Ignacio-Ibarra/NLP-Disasters/intento_2_nacho/intento_2/id_test.csv')"
      ],
      "execution_count": 25,
      "outputs": []
    },
    {
      "cell_type": "code",
      "metadata": {
        "id": "Id9QRtlzSuRs",
        "colab_type": "code",
        "colab": {}
      },
      "source": [
        "id_test.columns = ['id']\n",
        "id = list(id_test.id) "
      ],
      "execution_count": null,
      "outputs": []
    },
    {
      "cell_type": "code",
      "metadata": {
        "id": "zFAZjoghB5Hk",
        "colab_type": "code",
        "colab": {}
      },
      "source": [
        "import xgboost as xgb"
      ],
      "execution_count": 5,
      "outputs": []
    },
    {
      "cell_type": "code",
      "metadata": {
        "id": "vee26GzACArT",
        "colab_type": "code",
        "colab": {}
      },
      "source": [
        "from scipy import stats\n",
        "from scipy.stats import randint\n",
        "from sklearn.model_selection import RandomizedSearchCV\n",
        "from sklearn.model_selection import cross_val_score\n",
        "from sklearn.metrics import accuracy_score,roc_auc_score"
      ],
      "execution_count": 6,
      "outputs": []
    },
    {
      "cell_type": "code",
      "metadata": {
        "id": "iXZdZOPxCPcL",
        "colab_type": "code",
        "colab": {
          "base_uri": "https://localhost:8080/",
          "height": 513
        },
        "outputId": "0f206876-b7d6-4ef2-87a1-9384da1c70a5"
      },
      "source": [
        "clf_xgb = xgb.XGBClassifier(objective = 'reg:logistic')\n",
        "param_dist = {'n_estimators': stats.randint(70, 1000),\n",
        "              'learning_rate': stats.uniform(0.01, 0.6),\n",
        "              'subsample': stats.uniform(0.3, 0.9),\n",
        "              'max_depth': [3, 4, 5, 6, 7, 8, 9],\n",
        "              'colsample_bytree': stats.uniform(0.3, 0.9),\n",
        "             }\n",
        "\n",
        "clf_random = RandomizedSearchCV(clf_xgb, param_distributions = param_dist, n_iter = 100, scoring = 'roc_auc',\\\n",
        "                         verbose = 2, n_jobs = -1, return_train_score=True, cv=5)\n",
        "\n",
        "clf_random.fit(X_train,y_train)"
      ],
      "execution_count": 8,
      "outputs": [
        {
          "output_type": "stream",
          "text": [
            "Fitting 5 folds for each of 100 candidates, totalling 500 fits\n"
          ],
          "name": "stdout"
        },
        {
          "output_type": "stream",
          "text": [
            "[Parallel(n_jobs=-1)]: Using backend LokyBackend with 2 concurrent workers.\n",
            "[Parallel(n_jobs=-1)]: Done  37 tasks      | elapsed:  2.7min\n",
            "[Parallel(n_jobs=-1)]: Done 158 tasks      | elapsed:  6.6min\n",
            "[Parallel(n_jobs=-1)]: Done 364 tasks      | elapsed: 19.8min\n",
            "[Parallel(n_jobs=-1)]: Done 500 out of 500 | elapsed: 24.4min finished\n",
            "/usr/local/lib/python3.6/dist-packages/sklearn/preprocessing/_label.py:235: DataConversionWarning: A column-vector y was passed when a 1d array was expected. Please change the shape of y to (n_samples, ), for example using ravel().\n",
            "  y = column_or_1d(y, warn=True)\n",
            "/usr/local/lib/python3.6/dist-packages/sklearn/preprocessing/_label.py:268: DataConversionWarning: A column-vector y was passed when a 1d array was expected. Please change the shape of y to (n_samples, ), for example using ravel().\n",
            "  y = column_or_1d(y, warn=True)\n"
          ],
          "name": "stderr"
        },
        {
          "output_type": "execute_result",
          "data": {
            "text/plain": [
              "RandomizedSearchCV(cv=5, error_score=nan,\n",
              "                   estimator=XGBClassifier(base_score=0.5, booster='gbtree',\n",
              "                                           colsample_bylevel=1,\n",
              "                                           colsample_bynode=1,\n",
              "                                           colsample_bytree=1, gamma=0,\n",
              "                                           learning_rate=0.1, max_delta_step=0,\n",
              "                                           max_depth=3, min_child_weight=1,\n",
              "                                           missing=None, n_estimators=100,\n",
              "                                           n_jobs=1, nthread=None,\n",
              "                                           objective='reg:logistic',\n",
              "                                           random_state=0, reg_alpha=0,\n",
              "                                           reg_lambda=1, scale...\n",
              "                                        'learning_rate': <scipy.stats._distn_infrastructure.rv_frozen object at 0x7fd4c503c2b0>,\n",
              "                                        'max_depth': [3, 4, 5, 6, 7, 8, 9],\n",
              "                                        'n_estimators': <scipy.stats._distn_infrastructure.rv_frozen object at 0x7fd4c503c278>,\n",
              "                                        'subsample': <scipy.stats._distn_infrastructure.rv_frozen object at 0x7fd4c503ccc0>},\n",
              "                   pre_dispatch='2*n_jobs', random_state=None, refit=True,\n",
              "                   return_train_score=True, scoring='roc_auc', verbose=2)"
            ]
          },
          "metadata": {
            "tags": []
          },
          "execution_count": 8
        }
      ]
    },
    {
      "cell_type": "code",
      "metadata": {
        "id": "RmDYXim6D0ba",
        "colab_type": "code",
        "colab": {
          "base_uri": "https://localhost:8080/",
          "height": 190
        },
        "outputId": "96ee1380-3bf2-4b21-92ea-ae11cba049d8"
      },
      "source": [
        "estimator = clf_random.best_estimator_\n",
        "cvs = cross_val_score(estimator, X_train, y_train, cv=10)\n",
        "results = pd.DataFrame(clf_random.cv_results_)\n",
        "\n",
        "print(\"##### Results\")\n",
        "print(\"Score best parameters: \", clf_random.best_score_)\n",
        "print(\"Best parameters: \", clf_random.best_params_)\n",
        "print(\"Cross-validation Score: \", cvs.mean())\n",
        "print(\"Parameter combinations evaluated: \",results.shape[0])"
      ],
      "execution_count": 9,
      "outputs": [
        {
          "output_type": "stream",
          "text": [
            "/usr/local/lib/python3.6/dist-packages/sklearn/preprocessing/_label.py:235: DataConversionWarning: A column-vector y was passed when a 1d array was expected. Please change the shape of y to (n_samples, ), for example using ravel().\n",
            "  y = column_or_1d(y, warn=True)\n",
            "/usr/local/lib/python3.6/dist-packages/sklearn/preprocessing/_label.py:268: DataConversionWarning: A column-vector y was passed when a 1d array was expected. Please change the shape of y to (n_samples, ), for example using ravel().\n",
            "  y = column_or_1d(y, warn=True)\n"
          ],
          "name": "stderr"
        },
        {
          "output_type": "stream",
          "text": [
            "##### Results\n",
            "Score best parameters:  0.7385802548414693\n",
            "Best parameters:  {'colsample_bytree': 0.8405594163418579, 'learning_rate': 0.03936722895726702, 'max_depth': 3, 'n_estimators': 146, 'subsample': 0.4040676848904611}\n",
            "Cross-validation Score:  0.6966194265366051\n",
            "Parameter combinations evaluated:  100\n"
          ],
          "name": "stdout"
        }
      ]
    },
    {
      "cell_type": "code",
      "metadata": {
        "id": "c_a46hlMD1ag",
        "colab_type": "code",
        "colab": {
          "base_uri": "https://localhost:8080/",
          "height": 105
        },
        "outputId": "ed8b08a7-499a-46b0-a422-dae88c0ba715"
      },
      "source": [
        "estimator.fit(X_train, y_train)\n",
        "preds = estimator.predict(X_test)"
      ],
      "execution_count": 10,
      "outputs": [
        {
          "output_type": "stream",
          "text": [
            "/usr/local/lib/python3.6/dist-packages/sklearn/preprocessing/_label.py:235: DataConversionWarning: A column-vector y was passed when a 1d array was expected. Please change the shape of y to (n_samples, ), for example using ravel().\n",
            "  y = column_or_1d(y, warn=True)\n",
            "/usr/local/lib/python3.6/dist-packages/sklearn/preprocessing/_label.py:268: DataConversionWarning: A column-vector y was passed when a 1d array was expected. Please change the shape of y to (n_samples, ), for example using ravel().\n",
            "  y = column_or_1d(y, warn=True)\n"
          ],
          "name": "stderr"
        }
      ]
    },
    {
      "cell_type": "code",
      "metadata": {
        "id": "Dqf49jK_9CTv",
        "colab_type": "code",
        "colab": {
          "base_uri": "https://localhost:8080/",
          "height": 779
        },
        "outputId": "76c717be-ca5f-456b-e78d-f703de29621b"
      },
      "source": [
        "results[[ 'rank_test_score',\n",
        "       'param_colsample_bytree', 'param_learning_rate', 'param_max_depth',\n",
        "       'param_n_estimators', 'param_subsample', 'params',\n",
        "       'mean_test_score', 'std_test_score',\n",
        "       'mean_train_score', 'std_train_score']].sort_values(by='rank_test_score')"
      ],
      "execution_count": 38,
      "outputs": [
        {
          "output_type": "execute_result",
          "data": {
            "text/html": [
              "<div>\n",
              "<style scoped>\n",
              "    .dataframe tbody tr th:only-of-type {\n",
              "        vertical-align: middle;\n",
              "    }\n",
              "\n",
              "    .dataframe tbody tr th {\n",
              "        vertical-align: top;\n",
              "    }\n",
              "\n",
              "    .dataframe thead th {\n",
              "        text-align: right;\n",
              "    }\n",
              "</style>\n",
              "<table border=\"1\" class=\"dataframe\">\n",
              "  <thead>\n",
              "    <tr style=\"text-align: right;\">\n",
              "      <th></th>\n",
              "      <th>rank_test_score</th>\n",
              "      <th>param_colsample_bytree</th>\n",
              "      <th>param_learning_rate</th>\n",
              "      <th>param_max_depth</th>\n",
              "      <th>param_n_estimators</th>\n",
              "      <th>param_subsample</th>\n",
              "      <th>params</th>\n",
              "      <th>mean_test_score</th>\n",
              "      <th>std_test_score</th>\n",
              "      <th>mean_train_score</th>\n",
              "      <th>std_train_score</th>\n",
              "    </tr>\n",
              "  </thead>\n",
              "  <tbody>\n",
              "    <tr>\n",
              "      <th>65</th>\n",
              "      <td>1</td>\n",
              "      <td>0.840559</td>\n",
              "      <td>0.0393672</td>\n",
              "      <td>3</td>\n",
              "      <td>146</td>\n",
              "      <td>0.404068</td>\n",
              "      <td>{'colsample_bytree': 0.8405594163418579, 'lear...</td>\n",
              "      <td>0.738580</td>\n",
              "      <td>0.019570</td>\n",
              "      <td>0.781949</td>\n",
              "      <td>0.004338</td>\n",
              "    </tr>\n",
              "    <tr>\n",
              "      <th>91</th>\n",
              "      <td>2</td>\n",
              "      <td>0.413012</td>\n",
              "      <td>0.0181841</td>\n",
              "      <td>3</td>\n",
              "      <td>126</td>\n",
              "      <td>0.448426</td>\n",
              "      <td>{'colsample_bytree': 0.41301170159985556, 'lea...</td>\n",
              "      <td>0.733551</td>\n",
              "      <td>0.018827</td>\n",
              "      <td>0.758566</td>\n",
              "      <td>0.004448</td>\n",
              "    </tr>\n",
              "    <tr>\n",
              "      <th>94</th>\n",
              "      <td>3</td>\n",
              "      <td>0.385724</td>\n",
              "      <td>0.0818049</td>\n",
              "      <td>8</td>\n",
              "      <td>75</td>\n",
              "      <td>0.716106</td>\n",
              "      <td>{'colsample_bytree': 0.38572444865669175, 'lea...</td>\n",
              "      <td>0.731999</td>\n",
              "      <td>0.016995</td>\n",
              "      <td>0.944986</td>\n",
              "      <td>0.002058</td>\n",
              "    </tr>\n",
              "    <tr>\n",
              "      <th>34</th>\n",
              "      <td>4</td>\n",
              "      <td>0.407663</td>\n",
              "      <td>0.0775888</td>\n",
              "      <td>3</td>\n",
              "      <td>645</td>\n",
              "      <td>0.38655</td>\n",
              "      <td>{'colsample_bytree': 0.4076630012944317, 'lear...</td>\n",
              "      <td>0.724483</td>\n",
              "      <td>0.017064</td>\n",
              "      <td>0.872687</td>\n",
              "      <td>0.001210</td>\n",
              "    </tr>\n",
              "    <tr>\n",
              "      <th>95</th>\n",
              "      <td>5</td>\n",
              "      <td>0.629457</td>\n",
              "      <td>0.182818</td>\n",
              "      <td>3</td>\n",
              "      <td>298</td>\n",
              "      <td>0.938112</td>\n",
              "      <td>{'colsample_bytree': 0.6294570126836345, 'lear...</td>\n",
              "      <td>0.722025</td>\n",
              "      <td>0.018201</td>\n",
              "      <td>0.888566</td>\n",
              "      <td>0.001962</td>\n",
              "    </tr>\n",
              "    <tr>\n",
              "      <th>...</th>\n",
              "      <td>...</td>\n",
              "      <td>...</td>\n",
              "      <td>...</td>\n",
              "      <td>...</td>\n",
              "      <td>...</td>\n",
              "      <td>...</td>\n",
              "      <td>...</td>\n",
              "      <td>...</td>\n",
              "      <td>...</td>\n",
              "      <td>...</td>\n",
              "      <td>...</td>\n",
              "    </tr>\n",
              "    <tr>\n",
              "      <th>58</th>\n",
              "      <td>96</td>\n",
              "      <td>1.1357</td>\n",
              "      <td>0.609226</td>\n",
              "      <td>4</td>\n",
              "      <td>202</td>\n",
              "      <td>0.546426</td>\n",
              "      <td>{'colsample_bytree': 1.1356967380443717, 'lear...</td>\n",
              "      <td>NaN</td>\n",
              "      <td>NaN</td>\n",
              "      <td>NaN</td>\n",
              "      <td>NaN</td>\n",
              "    </tr>\n",
              "    <tr>\n",
              "      <th>67</th>\n",
              "      <td>97</td>\n",
              "      <td>0.820962</td>\n",
              "      <td>0.334191</td>\n",
              "      <td>3</td>\n",
              "      <td>319</td>\n",
              "      <td>1.06518</td>\n",
              "      <td>{'colsample_bytree': 0.8209624524610704, 'lear...</td>\n",
              "      <td>NaN</td>\n",
              "      <td>NaN</td>\n",
              "      <td>NaN</td>\n",
              "      <td>NaN</td>\n",
              "    </tr>\n",
              "    <tr>\n",
              "      <th>68</th>\n",
              "      <td>98</td>\n",
              "      <td>1.11924</td>\n",
              "      <td>0.385262</td>\n",
              "      <td>5</td>\n",
              "      <td>583</td>\n",
              "      <td>0.500373</td>\n",
              "      <td>{'colsample_bytree': 1.1192351950792954, 'lear...</td>\n",
              "      <td>NaN</td>\n",
              "      <td>NaN</td>\n",
              "      <td>NaN</td>\n",
              "      <td>NaN</td>\n",
              "    </tr>\n",
              "    <tr>\n",
              "      <th>70</th>\n",
              "      <td>99</td>\n",
              "      <td>0.842646</td>\n",
              "      <td>0.333394</td>\n",
              "      <td>6</td>\n",
              "      <td>518</td>\n",
              "      <td>1.19982</td>\n",
              "      <td>{'colsample_bytree': 0.8426455929214594, 'lear...</td>\n",
              "      <td>NaN</td>\n",
              "      <td>NaN</td>\n",
              "      <td>NaN</td>\n",
              "      <td>NaN</td>\n",
              "    </tr>\n",
              "    <tr>\n",
              "      <th>99</th>\n",
              "      <td>100</td>\n",
              "      <td>0.329194</td>\n",
              "      <td>0.536682</td>\n",
              "      <td>5</td>\n",
              "      <td>575</td>\n",
              "      <td>1.02515</td>\n",
              "      <td>{'colsample_bytree': 0.3291939622914348, 'lear...</td>\n",
              "      <td>NaN</td>\n",
              "      <td>NaN</td>\n",
              "      <td>NaN</td>\n",
              "      <td>NaN</td>\n",
              "    </tr>\n",
              "  </tbody>\n",
              "</table>\n",
              "<p>100 rows × 11 columns</p>\n",
              "</div>"
            ],
            "text/plain": [
              "    rank_test_score param_colsample_bytree  ... mean_train_score std_train_score\n",
              "65                1               0.840559  ...         0.781949        0.004338\n",
              "91                2               0.413012  ...         0.758566        0.004448\n",
              "94                3               0.385724  ...         0.944986        0.002058\n",
              "34                4               0.407663  ...         0.872687        0.001210\n",
              "95                5               0.629457  ...         0.888566        0.001962\n",
              "..              ...                    ...  ...              ...             ...\n",
              "58               96                 1.1357  ...              NaN             NaN\n",
              "67               97               0.820962  ...              NaN             NaN\n",
              "68               98                1.11924  ...              NaN             NaN\n",
              "70               99               0.842646  ...              NaN             NaN\n",
              "99              100               0.329194  ...              NaN             NaN\n",
              "\n",
              "[100 rows x 11 columns]"
            ]
          },
          "metadata": {
            "tags": []
          },
          "execution_count": 38
        }
      ]
    },
    {
      "cell_type": "code",
      "metadata": {
        "id": "98e5j50A_Um0",
        "colab_type": "code",
        "colab": {
          "base_uri": "https://localhost:8080/",
          "height": 337
        },
        "outputId": "99ba53f1-2e1c-4e0d-81ff-2ab7fe7e3cc1"
      },
      "source": [
        "a = ['param_colsample_bytree', 'param_learning_rate', 'param_max_depth',\n",
        "       'param_n_estimators', 'param_subsample'] \n",
        "plt.rcParams['figure.figsize'] = [5,5]\n",
        "plt.scatter(results.param_colsample_bytree, results.mean_test_score)"
      ],
      "execution_count": 39,
      "outputs": [
        {
          "output_type": "execute_result",
          "data": {
            "text/plain": [
              "<matplotlib.collections.PathCollection at 0x7fd4c48990b8>"
            ]
          },
          "metadata": {
            "tags": []
          },
          "execution_count": 39
        },
        {
          "output_type": "display_data",
          "data": {
            "image/png": "[encoded data removed]",
            "text/plain": [
              "<Figure size 360x360 with 1 Axes>"
            ]
          },
          "metadata": {
            "tags": [],
            "needs_background": "light"
          }
        }
      ]
    },
    {
      "cell_type": "code",
      "metadata": {
        "id": "bNo3aejNl19D",
        "colab_type": "code",
        "colab": {
          "base_uri": "https://localhost:8080/",
          "height": 337
        },
        "outputId": "f3009957-0f83-4f62-d454-de72df841fbe"
      },
      "source": [
        "plt.rcParams['figure.figsize'] = [5,5]\n",
        "plt.scatter(results.param_learning_rate, results.mean_test_score)"
      ],
      "execution_count": 40,
      "outputs": [
        {
          "output_type": "execute_result",
          "data": {
            "text/plain": [
              "<matplotlib.collections.PathCollection at 0x7fd4c4820c88>"
            ]
          },
          "metadata": {
            "tags": []
          },
          "execution_count": 40
        },
        {
          "output_type": "display_data",
          "data": {
            "image/png": "[encoded data removed]",
            "text/plain": [
              "<Figure size 360x360 with 1 Axes>"
            ]
          },
          "metadata": {
            "tags": [],
            "needs_background": "light"
          }
        }
      ]
    },
    {
      "cell_type": "code",
      "metadata": {
        "id": "HvY8mv08maAm",
        "colab_type": "code",
        "colab": {
          "base_uri": "https://localhost:8080/",
          "height": 337
        },
        "outputId": "8da27f2e-dda1-434f-c56c-94f8b9b1cd14"
      },
      "source": [
        "plt.rcParams['figure.figsize'] = [5,5]\n",
        "plt.scatter(results.param_max_depth, results.mean_test_score)"
      ],
      "execution_count": 41,
      "outputs": [
        {
          "output_type": "execute_result",
          "data": {
            "text/plain": [
              "<matplotlib.collections.PathCollection at 0x7fd4c433f390>"
            ]
          },
          "metadata": {
            "tags": []
          },
          "execution_count": 41
        },
        {
          "output_type": "display_data",
          "data": {
            "image/png": "[encoded data removed]",
            "text/plain": [
              "<Figure size 360x360 with 1 Axes>"
            ]
          },
          "metadata": {
            "tags": [],
            "needs_background": "light"
          }
        }
      ]
    },
    {
      "cell_type": "code",
      "metadata": {
        "id": "TPhN60hjmn36",
        "colab_type": "code",
        "colab": {
          "base_uri": "https://localhost:8080/",
          "height": 337
        },
        "outputId": "32de4786-3f85-402f-f37e-8e83e39f94d1"
      },
      "source": [
        "plt.rcParams['figure.figsize'] = [5,5]\n",
        "plt.scatter(results.param_n_estimators, results.mean_test_score)"
      ],
      "execution_count": 42,
      "outputs": [
        {
          "output_type": "execute_result",
          "data": {
            "text/plain": [
              "<matplotlib.collections.PathCollection at 0x7fd4c431b390>"
            ]
          },
          "metadata": {
            "tags": []
          },
          "execution_count": 42
        },
        {
          "output_type": "display_data",
          "data": {
            "image/png": "[encoded data removed]",
            "text/plain": [
              "<Figure size 360x360 with 1 Axes>"
            ]
          },
          "metadata": {
            "tags": [],
            "needs_background": "light"
          }
        }
      ]
    },
    {
      "cell_type": "code",
      "metadata": {
        "id": "qmXBTPWEmhAD",
        "colab_type": "code",
        "colab": {
          "base_uri": "https://localhost:8080/",
          "height": 337
        },
        "outputId": "a1f1f9e6-c5e4-4a9c-feab-d4bf6a1652c3"
      },
      "source": [
        "plt.rcParams['figure.figsize'] = [5,5]\n",
        "plt.scatter(results.param_subsample, results.mean_test_score)"
      ],
      "execution_count": 43,
      "outputs": [
        {
          "output_type": "execute_result",
          "data": {
            "text/plain": [
              "<matplotlib.collections.PathCollection at 0x7fd4c4271780>"
            ]
          },
          "metadata": {
            "tags": []
          },
          "execution_count": 43
        },
        {
          "output_type": "display_data",
          "data": {
            "image/png": "[encoded data removed]",
            "text/plain": [
              "<Figure size 360x360 with 1 Axes>"
            ]
          },
          "metadata": {
            "tags": [],
            "needs_background": "light"
          }
        }
      ]
    },
    {
      "cell_type": "code",
      "metadata": {
        "id": "JjdbKVZAM7am",
        "colab_type": "code",
        "colab": {
          "base_uri": "https://localhost:8080/",
          "height": 272
        },
        "outputId": "beb618f4-178e-48c7-9e5e-d7bd2b344055"
      },
      "source": [
        "# GridSearch\n",
        "\n",
        "from sklearn.model_selection import GridSearchCV\n",
        "\n",
        "#Objective function\n",
        "objective = ['binary:logistic']\n",
        "\n",
        "# Number of trees in random forest\n",
        "n_estimators = [int(x) for x in np.linspace(start = 100, stop = 200, num = 10)]\n",
        "\n",
        "# Col sample by tree\n",
        "import random\n",
        "\n",
        "randomFloatList = []\n",
        "for i in range(0, 2):\n",
        "    x = random.uniform(0.3, 0.4)\n",
        "    y = random.uniform(0.8,0.9)\n",
        "    randomFloatList.append(x)\n",
        "    randomFloatList.append(y)\n",
        "colsample_bytree = randomFloatList\n",
        "\n",
        "# Maximum number of levels in tree\n",
        "max_depth = [3,4]\n",
        "\n",
        "#Learning rate\n",
        "randomFloatList = []\n",
        "for i in range(0, 3):\n",
        "    x = random.uniform(0.01, 0.03)\n",
        "    randomFloatList.append(x)\n",
        "learning_rate = randomFloatList\n",
        "\n",
        "# Subsample\n",
        "randomFloatList = []\n",
        "for i in range(0, 2):\n",
        "    x = random.uniform(0.625, 0.675)\n",
        "    y = random.uniform(0.355,0.445)\n",
        "    randomFloatList.append(x)\n",
        "    randomFloatList.append(y)\n",
        "subsample = randomFloatList\n",
        "\n",
        "combinations = len(n_estimators)*len(colsample_bytree)*len(max_depth)*len(learning_rate)*len(subsample)*len(objective)\n",
        "\n",
        "# Create the random grid\n",
        "grid = {       'objective': objective, \n",
        "               'n_estimators': n_estimators,\n",
        "               'colsample_bytree': colsample_bytree,\n",
        "               'max_depth': max_depth,\n",
        "               'learning_rate': learning_rate,\n",
        "               'subsample': subsample\n",
        "       }\n",
        "\n",
        "from pprint import pprint\n",
        "pprint(grid)\n",
        "print(\"With this grid ww have \",combinations,\"combinations\")"
      ],
      "execution_count": 44,
      "outputs": [
        {
          "output_type": "stream",
          "text": [
            "{'colsample_bytree': [0.3369486299315777,\n",
            "                      0.8677217419011616,\n",
            "                      0.3679580461411956,\n",
            "                      0.8591581399334879],\n",
            " 'learning_rate': [0.02037634792772786,\n",
            "                   0.029984956306127186,\n",
            "                   0.01323444557332439],\n",
            " 'max_depth': [3, 4],\n",
            " 'n_estimators': [100, 111, 122, 133, 144, 155, 166, 177, 188, 200],\n",
            " 'objective': ['binary:logistic'],\n",
            " 'subsample': [0.63313098199269,\n",
            "               0.4088235842903493,\n",
            "               0.6311629735135249,\n",
            "               0.4094771815461732]}\n",
            "With this grid ww have  960 combinations\n"
          ],
          "name": "stdout"
        }
      ]
    },
    {
      "cell_type": "code",
      "metadata": {
        "id": "mUfwEzSeVlY7",
        "colab_type": "code",
        "colab": {
          "base_uri": "https://localhost:8080/",
          "height": 700
        },
        "outputId": "1be3437d-f009-4081-d345-1a63d52abf60"
      },
      "source": [
        "# Using GridSearchCV to search for best hyperparameters\n",
        "# First create the base model to tune\n",
        "xgb_clf = xgb.XGBClassifier()\n",
        "\n",
        "xgb_clf_search = GridSearchCV(estimator = xgb_clf, param_grid = grid, cv = 5, n_jobs = -1,\n",
        "                              scoring='roc_auc', verbose=2)\n",
        "\n",
        "# Fitting the grid search model\n",
        "xgb_clf_search.fit(X_train, y_train)"
      ],
      "execution_count": 45,
      "outputs": [
        {
          "output_type": "stream",
          "text": [
            "Fitting 5 folds for each of 960 candidates, totalling 4800 fits\n"
          ],
          "name": "stdout"
        },
        {
          "output_type": "stream",
          "text": [
            "[Parallel(n_jobs=-1)]: Using backend LokyBackend with 2 concurrent workers.\n",
            "[Parallel(n_jobs=-1)]: Done  37 tasks      | elapsed:   16.4s\n",
            "[Parallel(n_jobs=-1)]: Done 158 tasks      | elapsed:  1.4min\n",
            "[Parallel(n_jobs=-1)]: Done 361 tasks      | elapsed:  3.6min\n",
            "[Parallel(n_jobs=-1)]: Done 644 tasks      | elapsed:  6.4min\n",
            "[Parallel(n_jobs=-1)]: Done 1009 tasks      | elapsed: 10.3min\n",
            "[Parallel(n_jobs=-1)]: Done 1454 tasks      | elapsed: 16.4min\n",
            "[Parallel(n_jobs=-1)]: Done 1981 tasks      | elapsed: 25.9min\n",
            "[Parallel(n_jobs=-1)]: Done 2588 tasks      | elapsed: 35.1min\n",
            "[Parallel(n_jobs=-1)]: Done 3277 tasks      | elapsed: 42.5min\n",
            "[Parallel(n_jobs=-1)]: Done 4046 tasks      | elapsed: 53.6min\n",
            "[Parallel(n_jobs=-1)]: Done 4800 out of 4800 | elapsed: 66.9min finished\n",
            "/usr/local/lib/python3.6/dist-packages/sklearn/preprocessing/_label.py:235: DataConversionWarning: A column-vector y was passed when a 1d array was expected. Please change the shape of y to (n_samples, ), for example using ravel().\n",
            "  y = column_or_1d(y, warn=True)\n",
            "/usr/local/lib/python3.6/dist-packages/sklearn/preprocessing/_label.py:268: DataConversionWarning: A column-vector y was passed when a 1d array was expected. Please change the shape of y to (n_samples, ), for example using ravel().\n",
            "  y = column_or_1d(y, warn=True)\n"
          ],
          "name": "stderr"
        },
        {
          "output_type": "execute_result",
          "data": {
            "text/plain": [
              "GridSearchCV(cv=5, error_score=nan,\n",
              "             estimator=XGBClassifier(base_score=0.5, booster='gbtree',\n",
              "                                     colsample_bylevel=1, colsample_bynode=1,\n",
              "                                     colsample_bytree=1, gamma=0,\n",
              "                                     learning_rate=0.1, max_delta_step=0,\n",
              "                                     max_depth=3, min_child_weight=1,\n",
              "                                     missing=None, n_estimators=100, n_jobs=1,\n",
              "                                     nthread=None, objective='binary:logistic',\n",
              "                                     random_state=0, reg_alpha=0, reg_lambda=1,\n",
              "                                     scale_po...\n",
              "                         'learning_rate': [0.02037634792772786,\n",
              "                                           0.029984956306127186,\n",
              "                                           0.01323444557332439],\n",
              "                         'max_depth': [3, 4],\n",
              "                         'n_estimators': [100, 111, 122, 133, 144, 155, 166,\n",
              "                                          177, 188, 200],\n",
              "                         'objective': ['binary:logistic'],\n",
              "                         'subsample': [0.63313098199269, 0.4088235842903493,\n",
              "                                       0.6311629735135249,\n",
              "                                       0.4094771815461732]},\n",
              "             pre_dispatch='2*n_jobs', refit=True, return_train_score=False,\n",
              "             scoring='roc_auc', verbose=2)"
            ]
          },
          "metadata": {
            "tags": []
          },
          "execution_count": 45
        }
      ]
    },
    {
      "cell_type": "code",
      "metadata": {
        "id": "_hQBATprS2Dq",
        "colab_type": "code",
        "colab": {
          "base_uri": "https://localhost:8080/",
          "height": 190
        },
        "outputId": "5b3de5e2-75f7-4655-977c-317cd4c701e3"
      },
      "source": [
        "estimator = xgb_clf_search.best_estimator_\n",
        "cvs = cross_val_score(estimator, X_train, y_train, cv=10)\n",
        "results = pd.DataFrame(xgb_clf_search.cv_results_)\n",
        "\n",
        "print(\"##### Results\")\n",
        "print(\"Score best parameters: \", xgb_clf_search.best_score_)\n",
        "print(\"Best parameters: \", xgb_clf_search.best_params_)\n",
        "print(\"Cross-validation Score: \", cvs.mean())\n",
        "print(\"Parameter combinations evaluated: \",results.shape[0])"
      ],
      "execution_count": 46,
      "outputs": [
        {
          "output_type": "stream",
          "text": [
            "/usr/local/lib/python3.6/dist-packages/sklearn/preprocessing/_label.py:235: DataConversionWarning: A column-vector y was passed when a 1d array was expected. Please change the shape of y to (n_samples, ), for example using ravel().\n",
            "  y = column_or_1d(y, warn=True)\n",
            "/usr/local/lib/python3.6/dist-packages/sklearn/preprocessing/_label.py:268: DataConversionWarning: A column-vector y was passed when a 1d array was expected. Please change the shape of y to (n_samples, ), for example using ravel().\n",
            "  y = column_or_1d(y, warn=True)\n"
          ],
          "name": "stderr"
        },
        {
          "output_type": "stream",
          "text": [
            "##### Results\n",
            "Score best parameters:  0.7400193373235451\n",
            "Best parameters:  {'colsample_bytree': 0.3679580461411956, 'learning_rate': 0.029984956306127186, 'max_depth': 4, 'n_estimators': 200, 'objective': 'binary:logistic', 'subsample': 0.6311629735135249}\n",
            "Cross-validation Score:  0.6977805295845005\n",
            "Parameter combinations evaluated:  960\n"
          ],
          "name": "stdout"
        }
      ]
    },
    {
      "cell_type": "code",
      "metadata": {
        "id": "7wM1F5T4mhAE",
        "colab_type": "code",
        "colab": {
          "base_uri": "https://localhost:8080/",
          "height": 357
        },
        "outputId": "5492e1f6-0143-4e5b-8f02-39557ab735b3"
      },
      "source": [
        "estimator.get_xgb_params()"
      ],
      "execution_count": 50,
      "outputs": [
        {
          "output_type": "execute_result",
          "data": {
            "text/plain": [
              "{'base_score': 0.5,\n",
              " 'booster': 'gbtree',\n",
              " 'colsample_bylevel': 1,\n",
              " 'colsample_bynode': 1,\n",
              " 'colsample_bytree': 0.3679580461411956,\n",
              " 'gamma': 0,\n",
              " 'learning_rate': 0.029984956306127186,\n",
              " 'max_delta_step': 0,\n",
              " 'max_depth': 4,\n",
              " 'min_child_weight': 1,\n",
              " 'missing': None,\n",
              " 'n_estimators': 200,\n",
              " 'nthread': 1,\n",
              " 'objective': 'binary:logistic',\n",
              " 'reg_alpha': 0,\n",
              " 'reg_lambda': 1,\n",
              " 'scale_pos_weight': 1,\n",
              " 'seed': 0,\n",
              " 'subsample': 0.6311629735135249,\n",
              " 'verbosity': 1}"
            ]
          },
          "metadata": {
            "tags": []
          },
          "execution_count": 50
        }
      ]
    },
    {
      "cell_type": "code",
      "metadata": {
        "id": "EvDhGQYSS2AR",
        "colab_type": "code",
        "colab": {}
      },
      "source": [
        "preds = estimator.predict(X_test)"
      ],
      "execution_count": 48,
      "outputs": []
    },
    {
      "cell_type": "code",
      "metadata": {
        "id": "S5qeOnJDS0zI",
        "colab_type": "code",
        "colab": {}
      },
      "source": [
        "df = pd.DataFrame()\n",
        "df['target'] = preds\n",
        "df['id'] = id\n",
        "df.to_csv('15.submit.csv', sep=',', index=False)"
      ],
      "execution_count": 49,
      "outputs": []
    }
  ]
}