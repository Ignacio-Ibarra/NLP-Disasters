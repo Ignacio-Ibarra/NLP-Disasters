{
  "nbformat": 4,
  "nbformat_minor": 0,
  "metadata": {
    "colab": {
      "name": "Copy of TP1 version Ale.ipynb",
      "provenance": [],
      "collapsed_sections": [
        "XFKceNBd4zVp"
      ],
      "include_colab_link": true
    },
    "kernelspec": {
      "name": "python3",
      "display_name": "Python 3"
    }
  },
  "cells": [
    {
      "cell_type": "markdown",
      "metadata": {
        "id": "view-in-github",
        "colab_type": "text"
      },
      "source": [
        "<a href=\"https://colab.research.google.com/github/Ignacio-Ibarra/NLP-Disasters/blob/tp1_nlp_disasters---edits/Nacho%20sobre_version_Ale.ipynb\" target=\"_parent\"><img src=\"https://colab.research.google.com/assets/colab-badge.svg\" alt=\"Open In Colab\"/></a>"
      ]
    },
    {
      "cell_type": "markdown",
      "metadata": {
        "id": "YJlc0AI_QZYr",
        "colab_type": "text"
      },
      "source": [
        "# Librerias\n"
      ]
    },
    {
      "cell_type": "code",
      "metadata": {
        "id": "AD5hp2AiNQDz",
        "colab_type": "code",
        "outputId": "557f86c7-8e41-49be-bdc6-23b21df957e0",
        "colab": {
          "base_uri": "https://localhost:8080/",
          "height": 121
        }
      },
      "source": [
        "import pandas as pd\n",
        "import numpy as np\n",
        "import matplotlib.pyplot as plt\n",
        "import seaborn as sns\n",
        "plt.style.use('ggplot')\n",
        "from wordcloud import WordCloud\n",
        "import PIL\n",
        "import itertools\n",
        "from collections import defaultdict\n",
        "import nltk\n",
        "nltk.download('stopwords')\n",
        "from nltk.corpus import stopwords\n",
        "stop=set(stopwords.words('english'))\n",
        "from nltk.tokenize import word_tokenize\n",
        "nltk.download('punkt')\n",
        "import string\n",
        "\n",
        "\n",
        "\n",
        "%matplotlib inline\n",
        "\n",
        "#para suprimir notacion cientifica en los outputs\n",
        "pd.options.display.float_format='{:20,.2f}'.format\n",
        "\n",
        "import warnings\n",
        "warnings.filterwarnings('ignore')"
      ],
      "execution_count": 1,
      "outputs": [
        {
          "output_type": "stream",
          "text": [
            "/usr/local/lib/python3.6/dist-packages/statsmodels/tools/_testing.py:19: FutureWarning: pandas.util.testing is deprecated. Use the functions in the public API at pandas.testing instead.\n",
            "  import pandas.util.testing as tm\n"
          ],
          "name": "stderr"
        },
        {
          "output_type": "stream",
          "text": [
            "[nltk_data] Downloading package stopwords to /root/nltk_data...\n",
            "[nltk_data]   Unzipping corpora/stopwords.zip.\n",
            "[nltk_data] Downloading package punkt to /root/nltk_data...\n",
            "[nltk_data]   Unzipping tokenizers/punkt.zip.\n"
          ],
          "name": "stdout"
        }
      ]
    },
    {
      "cell_type": "markdown",
      "metadata": {
        "id": "PAUmA9iHTe--",
        "colab_type": "text"
      },
      "source": [
        "# Google Drive"
      ]
    },
    {
      "cell_type": "code",
      "metadata": {
        "id": "BI1kyzzgSAbM",
        "colab_type": "code",
        "colab": {}
      },
      "source": [
        "# Code to read csv file into Colaboratory:\n",
        "!pip install -U -q PyDrive\n",
        "from pydrive.auth import GoogleAuth\n",
        "from pydrive.drive import GoogleDrive\n",
        "from google.colab import auth\n",
        "from oauth2client.client import GoogleCredentials\n",
        "\n",
        "# Authenticate and create the PyDrive client.\n",
        "auth.authenticate_user()\n",
        "gauth = GoogleAuth()\n",
        "gauth.credentials = GoogleCredentials.get_application_default()\n",
        "drive = GoogleDrive(gauth)"
      ],
      "execution_count": 0,
      "outputs": []
    },
    {
      "cell_type": "code",
      "metadata": {
        "id": "4Ui6ouJ_SVwz",
        "colab_type": "code",
        "outputId": "9b007fbf-5851-4881-c9db-d9c815b2b310",
        "colab": {
          "base_uri": "https://localhost:8080/",
          "height": 34
        }
      },
      "source": [
        "link='https://drive.google.com/open?id=1Wuo42Fju9VOh2m5PV7q95TTUAIkrEwDD'\n",
        "fluff, id = link.split('=')\n",
        "print (id) # Verify that you have everything after '='"
      ],
      "execution_count": 3,
      "outputs": [
        {
          "output_type": "stream",
          "text": [
            "1Wuo42Fju9VOh2m5PV7q95TTUAIkrEwDD\n"
          ],
          "name": "stdout"
        }
      ]
    },
    {
      "cell_type": "code",
      "metadata": {
        "id": "_FljNTbTSigo",
        "colab_type": "code",
        "colab": {}
      },
      "source": [
        "downloaded = drive.CreateFile({'id':id}) \n",
        "downloaded.GetContentFile('train.csv')"
      ],
      "execution_count": 0,
      "outputs": []
    },
    {
      "cell_type": "markdown",
      "metadata": {
        "id": "mkZHvF9eSUqL",
        "colab_type": "text"
      },
      "source": [
        "# Carga DF"
      ]
    },
    {
      "cell_type": "code",
      "metadata": {
        "id": "AHLtylTOSxYC",
        "colab_type": "code",
        "outputId": "3386b424-edbb-49b5-9ce8-5a071918c7b1",
        "colab": {
          "base_uri": "https://localhost:8080/",
          "height": 356
        }
      },
      "source": [
        "#Loading 'train.csv' into DataFrame\n",
        "train=pd.read_csv('train.csv')\n",
        "train.head(10) #Let's have a first view of the DataFrame"
      ],
      "execution_count": 52,
      "outputs": [
        {
          "output_type": "execute_result",
          "data": {
            "text/html": [
              "<div>\n",
              "<style scoped>\n",
              "    .dataframe tbody tr th:only-of-type {\n",
              "        vertical-align: middle;\n",
              "    }\n",
              "\n",
              "    .dataframe tbody tr th {\n",
              "        vertical-align: top;\n",
              "    }\n",
              "\n",
              "    .dataframe thead th {\n",
              "        text-align: right;\n",
              "    }\n",
              "</style>\n",
              "<table border=\"1\" class=\"dataframe\">\n",
              "  <thead>\n",
              "    <tr style=\"text-align: right;\">\n",
              "      <th></th>\n",
              "      <th>id</th>\n",
              "      <th>keyword</th>\n",
              "      <th>location</th>\n",
              "      <th>text</th>\n",
              "      <th>target</th>\n",
              "    </tr>\n",
              "  </thead>\n",
              "  <tbody>\n",
              "    <tr>\n",
              "      <th>0</th>\n",
              "      <td>1</td>\n",
              "      <td>NaN</td>\n",
              "      <td>NaN</td>\n",
              "      <td>Our Deeds are the Reason of this #earthquake M...</td>\n",
              "      <td>1</td>\n",
              "    </tr>\n",
              "    <tr>\n",
              "      <th>1</th>\n",
              "      <td>4</td>\n",
              "      <td>NaN</td>\n",
              "      <td>NaN</td>\n",
              "      <td>Forest fire near La Ronge Sask. Canada</td>\n",
              "      <td>1</td>\n",
              "    </tr>\n",
              "    <tr>\n",
              "      <th>2</th>\n",
              "      <td>5</td>\n",
              "      <td>NaN</td>\n",
              "      <td>NaN</td>\n",
              "      <td>All residents asked to 'shelter in place' are ...</td>\n",
              "      <td>1</td>\n",
              "    </tr>\n",
              "    <tr>\n",
              "      <th>3</th>\n",
              "      <td>6</td>\n",
              "      <td>NaN</td>\n",
              "      <td>NaN</td>\n",
              "      <td>13,000 people receive #wildfires evacuation or...</td>\n",
              "      <td>1</td>\n",
              "    </tr>\n",
              "    <tr>\n",
              "      <th>4</th>\n",
              "      <td>7</td>\n",
              "      <td>NaN</td>\n",
              "      <td>NaN</td>\n",
              "      <td>Just got sent this photo from Ruby #Alaska as ...</td>\n",
              "      <td>1</td>\n",
              "    </tr>\n",
              "    <tr>\n",
              "      <th>5</th>\n",
              "      <td>8</td>\n",
              "      <td>NaN</td>\n",
              "      <td>NaN</td>\n",
              "      <td>#RockyFire Update =&gt; California Hwy. 20 closed...</td>\n",
              "      <td>1</td>\n",
              "    </tr>\n",
              "    <tr>\n",
              "      <th>6</th>\n",
              "      <td>10</td>\n",
              "      <td>NaN</td>\n",
              "      <td>NaN</td>\n",
              "      <td>#flood #disaster Heavy rain causes flash flood...</td>\n",
              "      <td>1</td>\n",
              "    </tr>\n",
              "    <tr>\n",
              "      <th>7</th>\n",
              "      <td>13</td>\n",
              "      <td>NaN</td>\n",
              "      <td>NaN</td>\n",
              "      <td>I'm on top of the hill and I can see a fire in...</td>\n",
              "      <td>1</td>\n",
              "    </tr>\n",
              "    <tr>\n",
              "      <th>8</th>\n",
              "      <td>14</td>\n",
              "      <td>NaN</td>\n",
              "      <td>NaN</td>\n",
              "      <td>There's an emergency evacuation happening now ...</td>\n",
              "      <td>1</td>\n",
              "    </tr>\n",
              "    <tr>\n",
              "      <th>9</th>\n",
              "      <td>15</td>\n",
              "      <td>NaN</td>\n",
              "      <td>NaN</td>\n",
              "      <td>I'm afraid that the tornado is coming to our a...</td>\n",
              "      <td>1</td>\n",
              "    </tr>\n",
              "  </tbody>\n",
              "</table>\n",
              "</div>"
            ],
            "text/plain": [
              "   id keyword  ...                                               text target\n",
              "0   1     NaN  ...  Our Deeds are the Reason of this #earthquake M...      1\n",
              "1   4     NaN  ...             Forest fire near La Ronge Sask. Canada      1\n",
              "2   5     NaN  ...  All residents asked to 'shelter in place' are ...      1\n",
              "3   6     NaN  ...  13,000 people receive #wildfires evacuation or...      1\n",
              "4   7     NaN  ...  Just got sent this photo from Ruby #Alaska as ...      1\n",
              "5   8     NaN  ...  #RockyFire Update => California Hwy. 20 closed...      1\n",
              "6  10     NaN  ...  #flood #disaster Heavy rain causes flash flood...      1\n",
              "7  13     NaN  ...  I'm on top of the hill and I can see a fire in...      1\n",
              "8  14     NaN  ...  There's an emergency evacuation happening now ...      1\n",
              "9  15     NaN  ...  I'm afraid that the tornado is coming to our a...      1\n",
              "\n",
              "[10 rows x 5 columns]"
            ]
          },
          "metadata": {
            "tags": []
          },
          "execution_count": 52
        }
      ]
    },
    {
      "cell_type": "code",
      "metadata": {
        "id": "xM8fF1mfLlQG",
        "colab_type": "code",
        "outputId": "a9e9b757-ee2d-4099-bbe3-56f676db5ec2",
        "colab": {
          "base_uri": "https://localhost:8080/",
          "height": 35
        }
      },
      "source": [
        "print('El DataFrame cuenta con {} filas y {} columnas'.format(train.shape[0],train.shape[1]))"
      ],
      "execution_count": 0,
      "outputs": [
        {
          "output_type": "stream",
          "text": [
            "El DataFrame cuenta con 7613 filas y 5 columnas\n"
          ],
          "name": "stdout"
        }
      ]
    },
    {
      "cell_type": "markdown",
      "metadata": {
        "id": "XFKceNBd4zVp",
        "colab_type": "text"
      },
      "source": [
        "## Basic statistics"
      ]
    },
    {
      "cell_type": "code",
      "metadata": {
        "id": "8BKjes-RVOjV",
        "colab_type": "code",
        "outputId": "ce0383cd-7bdc-4b2e-e1ed-80dfee37b014",
        "colab": {
          "base_uri": "https://localhost:8080/",
          "height": 52
        }
      },
      "source": [
        "#Counting rows, columns, values\n",
        "print('the shape is: ',train.shape)\n",
        "print('the size is: ', train.size)"
      ],
      "execution_count": 0,
      "outputs": [
        {
          "output_type": "stream",
          "text": [
            "the shape is:  (7613, 5)\n",
            "the size is:  38065\n"
          ],
          "name": "stdout"
        }
      ]
    },
    {
      "cell_type": "code",
      "metadata": {
        "id": "kYW_0LJaVOqT",
        "colab_type": "code",
        "outputId": "89f2b79e-0081-4747-96d8-9bd9216eaf1b",
        "colab": {
          "base_uri": "https://localhost:8080/",
          "height": 225
        }
      },
      "source": [
        "#Get info of each column\n",
        "train.info()"
      ],
      "execution_count": 0,
      "outputs": [
        {
          "output_type": "stream",
          "text": [
            "<class 'pandas.core.frame.DataFrame'>\n",
            "RangeIndex: 7613 entries, 0 to 7612\n",
            "Data columns (total 5 columns):\n",
            " #   Column    Non-Null Count  Dtype \n",
            "---  ------    --------------  ----- \n",
            " 0   id        7613 non-null   int64 \n",
            " 1   keyword   7552 non-null   object\n",
            " 2   location  5080 non-null   object\n",
            " 3   text      7613 non-null   object\n",
            " 4   target    7613 non-null   int64 \n",
            "dtypes: int64(2), object(3)\n",
            "memory usage: 297.5+ KB\n"
          ],
          "name": "stdout"
        }
      ]
    },
    {
      "cell_type": "code",
      "metadata": {
        "id": "XCKj9WIHVOvh",
        "colab_type": "code",
        "outputId": "1c0f6958-c1f5-42a5-c3fa-cf6ec082cf6d",
        "colab": {
          "base_uri": "https://localhost:8080/",
          "height": 121
        }
      },
      "source": [
        "#Is there any null value per column?\n",
        "train.isnull().any()"
      ],
      "execution_count": 0,
      "outputs": [
        {
          "output_type": "execute_result",
          "data": {
            "text/plain": [
              "id          False\n",
              "keyword      True\n",
              "location     True\n",
              "text        False\n",
              "target      False\n",
              "dtype: bool"
            ]
          },
          "metadata": {
            "tags": []
          },
          "execution_count": 8
        }
      ]
    },
    {
      "cell_type": "code",
      "metadata": {
        "id": "ECZpTLySVO0P",
        "colab_type": "code",
        "outputId": "96f922b1-96ac-4b77-defd-c859500f7f33",
        "colab": {
          "base_uri": "https://localhost:8080/",
          "height": 121
        }
      },
      "source": [
        "#How many nulls per column? \n",
        "train.isnull().mean()*(train['id'].count()) #We know that the 'id' column has no nulls"
      ],
      "execution_count": 0,
      "outputs": [
        {
          "output_type": "execute_result",
          "data": {
            "text/plain": [
              "id                         0.00\n",
              "keyword                   61.00\n",
              "location               2,533.00\n",
              "text                       0.00\n",
              "target                     0.00\n",
              "dtype: float64"
            ]
          },
          "metadata": {
            "tags": []
          },
          "execution_count": 9
        }
      ]
    },
    {
      "cell_type": "markdown",
      "metadata": {
        "id": "gJIJuoFZVO45",
        "colab_type": "text"
      },
      "source": [
        "The 'location' column has null values ​​in 33% (2,533) of its rows, we may have to leave it out of the analysis. On the other hand, the 'keyword' column has 0.8% (61) null values"
      ]
    },
    {
      "cell_type": "markdown",
      "metadata": {
        "id": "rZNmQNq2XafS",
        "colab_type": "text"
      },
      "source": [
        "# Cleanning dataset"
      ]
    },
    {
      "cell_type": "markdown",
      "metadata": {
        "id": "eaC9F1FHGejH",
        "colab_type": "text"
      },
      "source": [
        "Vemos si hay repetidos "
      ]
    },
    {
      "cell_type": "code",
      "metadata": {
        "id": "Z33WpJZB-Fx9",
        "colab_type": "code",
        "outputId": "6f624a92-3a91-4acb-adae-191dcd96e2c5",
        "colab": {
          "base_uri": "https://localhost:8080/",
          "height": 34
        }
      },
      "source": [
        "train.duplicated().sum()"
      ],
      "execution_count": 0,
      "outputs": [
        {
          "output_type": "execute_result",
          "data": {
            "text/plain": [
              "0"
            ]
          },
          "metadata": {
            "tags": []
          },
          "execution_count": 34
        }
      ]
    },
    {
      "cell_type": "markdown",
      "metadata": {
        "id": "_UHTHbEYGlpP",
        "colab_type": "text"
      },
      "source": [
        "Vemos si haytweets que tengan textos repetidos pero con dos valores distintos de target. "
      ]
    },
    {
      "cell_type": "code",
      "metadata": {
        "id": "5uj3rciXX0Yp",
        "colab_type": "code",
        "outputId": "8643f79f-99a9-4c0f-82a3-b2006fd7acbf",
        "colab": {
          "base_uri": "https://localhost:8080/",
          "height": 446
        }
      },
      "source": [
        "duplicated=train.groupby(['text']).agg({'target':['nunique']}).reset_index()\n",
        "duplicated.sort_values(by=('target','nunique'),ascending=False)"
      ],
      "execution_count": 53,
      "outputs": [
        {
          "output_type": "execute_result",
          "data": {
            "text/html": [
              "<div>\n",
              "<style scoped>\n",
              "    .dataframe tbody tr th:only-of-type {\n",
              "        vertical-align: middle;\n",
              "    }\n",
              "\n",
              "    .dataframe tbody tr th {\n",
              "        vertical-align: top;\n",
              "    }\n",
              "\n",
              "    .dataframe thead tr th {\n",
              "        text-align: left;\n",
              "    }\n",
              "</style>\n",
              "<table border=\"1\" class=\"dataframe\">\n",
              "  <thead>\n",
              "    <tr>\n",
              "      <th></th>\n",
              "      <th>text</th>\n",
              "      <th>target</th>\n",
              "    </tr>\n",
              "    <tr>\n",
              "      <th></th>\n",
              "      <th></th>\n",
              "      <th>nunique</th>\n",
              "    </tr>\n",
              "  </thead>\n",
              "  <tbody>\n",
              "    <tr>\n",
              "      <th>7265</th>\n",
              "      <td>like for the music video I want some real acti...</td>\n",
              "      <td>2</td>\n",
              "    </tr>\n",
              "    <tr>\n",
              "      <th>3618</th>\n",
              "      <td>Hellfire! We donÛªt even want to think about ...</td>\n",
              "      <td>2</td>\n",
              "    </tr>\n",
              "    <tr>\n",
              "      <th>6131</th>\n",
              "      <td>The Prophet (peace be upon him) said 'Save you...</td>\n",
              "      <td>2</td>\n",
              "    </tr>\n",
              "    <tr>\n",
              "      <th>4193</th>\n",
              "      <td>In #islam saving a person is equal in reward t...</td>\n",
              "      <td>2</td>\n",
              "    </tr>\n",
              "    <tr>\n",
              "      <th>6353</th>\n",
              "      <td>To fight bioterrorism sir.</td>\n",
              "      <td>2</td>\n",
              "    </tr>\n",
              "    <tr>\n",
              "      <th>...</th>\n",
              "      <td>...</td>\n",
              "      <td>...</td>\n",
              "    </tr>\n",
              "    <tr>\n",
              "      <th>2496</th>\n",
              "      <td>Back from Seattle Tacoma and Portland. Whirlwi...</td>\n",
              "      <td>1</td>\n",
              "    </tr>\n",
              "    <tr>\n",
              "      <th>2495</th>\n",
              "      <td>Baby elephant dies just days after surviving m...</td>\n",
              "      <td>1</td>\n",
              "    </tr>\n",
              "    <tr>\n",
              "      <th>2494</th>\n",
              "      <td>BUT I will be uploading these videos ASAP so y...</td>\n",
              "      <td>1</td>\n",
              "    </tr>\n",
              "    <tr>\n",
              "      <th>2493</th>\n",
              "      <td>BREAKING: Terror Attack On\\nPolice Post #Udhampur</td>\n",
              "      <td>1</td>\n",
              "    </tr>\n",
              "    <tr>\n",
              "      <th>7502</th>\n",
              "      <td>åÈMGN-AFRICAå¨ pin:263789F4 åÈ Correction: Ten...</td>\n",
              "      <td>1</td>\n",
              "    </tr>\n",
              "  </tbody>\n",
              "</table>\n",
              "<p>7503 rows × 2 columns</p>\n",
              "</div>"
            ],
            "text/plain": [
              "                                                   text  target\n",
              "                                                        nunique\n",
              "7265  like for the music video I want some real acti...       2\n",
              "3618  Hellfire! We donÛªt even want to think about ...       2\n",
              "6131  The Prophet (peace be upon him) said 'Save you...       2\n",
              "4193  In #islam saving a person is equal in reward t...       2\n",
              "6353                         To fight bioterrorism sir.       2\n",
              "...                                                 ...     ...\n",
              "2496  Back from Seattle Tacoma and Portland. Whirlwi...       1\n",
              "2495  Baby elephant dies just days after surviving m...       1\n",
              "2494  BUT I will be uploading these videos ASAP so y...       1\n",
              "2493  BREAKING: Terror Attack On\\nPolice Post #Udhampur       1\n",
              "7502  åÈMGN-AFRICAå¨ pin:263789F4 åÈ Correction: Ten...       1\n",
              "\n",
              "[7503 rows x 2 columns]"
            ]
          },
          "metadata": {
            "tags": []
          },
          "execution_count": 53
        }
      ]
    },
    {
      "cell_type": "markdown",
      "metadata": {
        "id": "3fUR24geTUgc",
        "colab_type": "text"
      },
      "source": [
        "Existen tweets a los que se les asignaron 2 targets al mismo tiempo (columna nunique). Estos se deben elimnar ya que afectan al set de entrenamiento."
      ]
    },
    {
      "cell_type": "code",
      "metadata": {
        "id": "TH3PF_CqYLJ2",
        "colab_type": "code",
        "colab": {}
      },
      "source": [
        "contradiction=train.loc[:,['text','target']].groupby(['text']).transform('nunique')"
      ],
      "execution_count": 0,
      "outputs": []
    },
    {
      "cell_type": "code",
      "metadata": {
        "id": "XNzbABy-BQT7",
        "colab_type": "code",
        "colab": {}
      },
      "source": [
        "train['count_targets']=contradiction\n",
        "train=train[train.count_targets==1]\n",
        "train.drop('count_targets',axis=1,inplace=True)"
      ],
      "execution_count": 0,
      "outputs": []
    },
    {
      "cell_type": "code",
      "metadata": {
        "id": "wpCLoc7_CPew",
        "colab_type": "code",
        "outputId": "13aa840e-0616-4e2c-f5a2-2ecbfdefa402",
        "colab": {
          "base_uri": "https://localhost:8080/",
          "height": 121
        }
      },
      "source": [
        "train.count()"
      ],
      "execution_count": 56,
      "outputs": [
        {
          "output_type": "execute_result",
          "data": {
            "text/plain": [
              "id          7558\n",
              "keyword     7497\n",
              "location    5055\n",
              "text        7558\n",
              "target      7558\n",
              "dtype: int64"
            ]
          },
          "metadata": {
            "tags": []
          },
          "execution_count": 56
        }
      ]
    },
    {
      "cell_type": "markdown",
      "metadata": {
        "id": "Hh9xXis561Yq",
        "colab_type": "text"
      },
      "source": [
        "Admás completamos los null values con strings. "
      ]
    },
    {
      "cell_type": "code",
      "metadata": {
        "id": "7aG49xBt650C",
        "colab_type": "code",
        "colab": {}
      },
      "source": [
        "#Filling the nulls values of both columns \n",
        "values = {'keyword': 'no_keyword', 'location': 'no_location'}\n",
        "train.fillna(value=values, inplace=True)"
      ],
      "execution_count": 0,
      "outputs": []
    },
    {
      "cell_type": "markdown",
      "metadata": {
        "id": "EIUPO9Xh7PSF",
        "colab_type": "text"
      },
      "source": [
        "Eliminamos la columna `id` porque ya no es necesaria. "
      ]
    },
    {
      "cell_type": "code",
      "metadata": {
        "id": "9T2wg4GHFz3X",
        "colab_type": "code",
        "outputId": "9eee877d-689f-4347-f4cd-4944bd32dd03",
        "colab": {
          "base_uri": "https://localhost:8080/",
          "height": 34
        }
      },
      "source": [
        "train=train.drop(columns='id')\n",
        "train.shape"
      ],
      "execution_count": 58,
      "outputs": [
        {
          "output_type": "execute_result",
          "data": {
            "text/plain": [
              "(7558, 4)"
            ]
          },
          "metadata": {
            "tags": []
          },
          "execution_count": 58
        }
      ]
    },
    {
      "cell_type": "markdown",
      "metadata": {
        "id": "BPfL1H9INgqJ",
        "colab_type": "text"
      },
      "source": [
        "# Proporción de Target Real/Not Real"
      ]
    },
    {
      "cell_type": "code",
      "metadata": {
        "id": "aRYvc-RRNqAz",
        "colab_type": "code",
        "outputId": "19f40f11-aa25-4b01-8773-620b53b46f75",
        "colab": {
          "base_uri": "https://localhost:8080/",
          "height": 298
        }
      },
      "source": [
        "#Cantidad de muestras \n",
        "sns.set_context('paper')\n",
        "\n",
        "x=train['target'].value_counts()\n",
        "g=sns.barplot(x.index,x)\n",
        "g.set_title('Barplot: Cantidad de tweets por Target\\n',fontsize=14)\n",
        "g.set_ylabel('Muestras')\n",
        "plt.xticks([0, 1], ['Not Real', 'Real'])\n",
        "plt.show()\n"
      ],
      "execution_count": 59,
      "outputs": [
        {
          "output_type": "display_data",
          "data": {
            "image/png": "[encoded data removed]",
            "text/plain": [
              "<Figure size 432x288 with 1 Axes>"
            ]
          },
          "metadata": {
            "tags": [],
            "needs_background": "light"
          }
        }
      ]
    },
    {
      "cell_type": "code",
      "metadata": {
        "id": "9q50NXU9OF9L",
        "colab_type": "code",
        "outputId": "2d5e7234-4c85-413d-d9f1-4b4017475792",
        "colab": {
          "base_uri": "https://localhost:8080/",
          "height": 262
        }
      },
      "source": [
        "labels='Not Real','Real'\n",
        "g2=plt.pie(x,labels=labels,autopct='%1.1f%%',startangle=140)\n",
        "plt.axis('equal')\n",
        "plt.title('Pie chart: Training Tweets: Real or not?')\n",
        "plt.show()\n"
      ],
      "execution_count": 60,
      "outputs": [
        {
          "output_type": "display_data",
          "data": {
            "image/png": "[encoded data removed]",
            "text/plain": [
              "<Figure size 432x288 with 1 Axes>"
            ]
          },
          "metadata": {
            "tags": []
          }
        }
      ]
    },
    {
      "cell_type": "markdown",
      "metadata": {
        "id": "zZou9mMjOQ_S",
        "colab_type": "text"
      },
      "source": [
        "Se observa mayor proporción de tweets de clase \"Not Real\" sobre los de clase \"Real\". "
      ]
    },
    {
      "cell_type": "markdown",
      "metadata": {
        "id": "LBQCRHaV2WK0",
        "colab_type": "text"
      },
      "source": [
        "Se puede dividir el DF en 2 subsets"
      ]
    },
    {
      "cell_type": "code",
      "metadata": {
        "id": "CgsgsgTr2bbK",
        "colab_type": "code",
        "colab": {}
      },
      "source": [
        "train1=train[train['target']==1]\n",
        "train0=train[train['target']==0]"
      ],
      "execution_count": 0,
      "outputs": []
    },
    {
      "cell_type": "markdown",
      "metadata": {
        "id": "bxKae_zvPHxh",
        "colab_type": "text"
      },
      "source": [
        "# Análisis de Keywords"
      ]
    },
    {
      "cell_type": "code",
      "metadata": {
        "id": "WtoQH4z3cquj",
        "colab_type": "code",
        "outputId": "d5df1fca-2757-4b5b-b9a1-e92a44d45c58",
        "colab": {
          "base_uri": "https://localhost:8080/",
          "height": 34
        }
      },
      "source": [
        "#Uniques values\n",
        "keyword=train['keyword']\n",
        "print(round(100.00*len(keyword.unique())/(len(keyword)),2),'% of the rows present unique values')"
      ],
      "execution_count": 63,
      "outputs": [
        {
          "output_type": "stream",
          "text": [
            "2.94 % of the rows present unique values\n"
          ],
          "name": "stdout"
        }
      ]
    },
    {
      "cell_type": "code",
      "metadata": {
        "id": "p8DgrCRxcrWf",
        "colab_type": "code",
        "outputId": "e7ab7073-d16e-429e-acde-d3800cf177c6",
        "colab": {
          "base_uri": "https://localhost:8080/",
          "height": 225
        }
      },
      "source": [
        "#Frecuency for each keyword. \n",
        "frequency_keywords=keyword.value_counts() \n",
        "frequency_keywords"
      ],
      "execution_count": 64,
      "outputs": [
        {
          "output_type": "execute_result",
          "data": {
            "text/plain": [
              "no_keyword               61\n",
              "fatalities               45\n",
              "deluge                   42\n",
              "armageddon               42\n",
              "harm                     41\n",
              "                         ..\n",
              "forest%20fire            19\n",
              "epicentre                12\n",
              "threat                   11\n",
              "inundation               10\n",
              "radiation%20emergency     9\n",
              "Name: keyword, Length: 222, dtype: int64"
            ]
          },
          "metadata": {
            "tags": []
          },
          "execution_count": 64
        }
      ]
    },
    {
      "cell_type": "code",
      "metadata": {
        "id": "Annu4qvFPOD_",
        "colab_type": "code",
        "colab": {}
      },
      "source": [
        "def percent_real_disaster(x):\n",
        "    return x.mean()*100 \n",
        "\n",
        "\n",
        "grouped=train.groupby(['keyword']).agg({'target':[percent_real_disaster]}).sort_values(by=('target','percent_real_disaster'),ascending=False)\n",
        "grouped=grouped.reset_index()\n"
      ],
      "execution_count": 0,
      "outputs": []
    },
    {
      "cell_type": "code",
      "metadata": {
        "id": "LDwMGdaDPffb",
        "colab_type": "code",
        "outputId": "303eef12-a781-47e3-ffe8-cdfef09d8d11",
        "colab": {
          "base_uri": "https://localhost:8080/",
          "height": 1000
        }
      },
      "source": [
        "#Plot \n",
        "sns.set_context('paper')\n",
        "#Ploteo el total de tweets por keyword\n",
        "f, axes = plt.subplots(1,2, figsize=(20,30), sharex=True)\n",
        "\n",
        "#Los keywords con mayor proporción de tweets Reales\n",
        "sns.set_color_codes(\"pastel\")\n",
        "g1=sns.barplot(ax=axes[0],x=100,y='keyword',data=grouped.head(25),label='Not Real', color=\"b\")\n",
        "sns.set_color_codes(\"muted\")\n",
        "sns.barplot(ax=axes[0],x=('target','percent_real_disaster'),y='keyword',data=grouped.head(25), label='Real',color=\"b\")\n",
        "g1.set_ylabel('keywords')\n",
        "g1.set_xlabel('Porcentaje')\n",
        "g1.set_title('Top 25 Real Disasters by Keyword', fontsize=14)\n",
        "\n",
        "#los peores 10\n",
        "sns.set_color_codes(\"pastel\")\n",
        "g2=sns.barplot(ax=axes[1],x=100,y='keyword',data=grouped.tail(25), label='Not Real',color=\"r\")\n",
        "sns.set_color_codes(\"muted\")\n",
        "sns.barplot(ax=axes[1],x=('target','percent_real_disaster'),y='keyword',data=grouped.tail(25),label='Real', color=\"r\")\n",
        "g2.set_ylabel('')\n",
        "g2.set_xlabel('Porcentaje')\n",
        "g2.set_title('Top 25 NOT Real Disasters by Keyword', fontsize=14)\n",
        "\n",
        "# Legend\n",
        "g1.legend(ncol=1, loc=\"lower right\", frameon=True)\n",
        "g2.legend(ncol=1, loc=\"lower right\", frameon=True)\n",
        "\n",
        "plt.show()"
      ],
      "execution_count": 92,
      "outputs": [
        {
          "output_type": "display_data",
          "data": {
            "image/png": "[encoded data removed]",
            "text/plain": [
              "<Figure size 1440x2160 with 2 Axes>"
            ]
          },
          "metadata": {
            "tags": [],
            "needs_background": "light"
          }
        }
      ]
    },
    {
      "cell_type": "markdown",
      "metadata": {
        "id": "1ZTHL46kRJlz",
        "colab_type": "text"
      },
      "source": [
        "En la figura se la izquiera se ilustran 25 keywords con porcentajes de Target \"Real\" mayores al 75%. Se observan keywords referentes a desastres naturales (*drought, forest fire, violent storm)* o edilicios (*bridge collapse, buildings on fire*). También se encuentran tragedias mortales (*mass murder, airplane accident, nuclear disaster, suicide bombing*). Otros keywords incluyen lenguaje de noticias (*casualties, evacuated, rescuers*). \n",
        "\n",
        "Por otro lado, en la figura de la derecha, se observan los 25 keywords con menores porcentajes de veracidad. En su mayoría se trata de palabras que servirían para describir tragedias pero que a su vez pueden usarse en muchos otros contextos. Un ejemplo de esto es el keyword \"body bag\", con un porcentaje de targets Reales menor al 5%. El término por si solo sonaría alarmante, pero veamos las acepciones de la palabra:\n",
        "\n",
        "1.   Bolsa para guardar cadáveres\n",
        "2.   Una clase de cartera/mochila\n",
        "3.   Según *Urban Dictionary*, \"To boddybag an oponent\" es asegurar la victoria sobre el oponente (algo así como \"kick ass\"), es un slang muy utilizado en las batallas de rap.\n",
        "4.   Otra acepción de *Urban Dictionary*, \"Bodybagging\" es robarle un chiste a otro comediante y hacerlo pasar como propio. \n",
        "\n",
        "\n",
        "\n",
        "\n"
      ]
    },
    {
      "cell_type": "markdown",
      "metadata": {
        "id": "qZ13YQYj6K1Q",
        "colab_type": "text"
      },
      "source": [
        "## Keyword: frecuencias de frecuencias.  (mejorar el gráfico) \n",
        "\n",
        "Analizamos cuántas veces se repite cada repetición"
      ]
    },
    {
      "cell_type": "code",
      "metadata": {
        "id": "Sandpaxr6f7n",
        "colab_type": "code",
        "colab": {
          "base_uri": "https://localhost:8080/",
          "height": 298
        },
        "outputId": "c164e1e0-3dad-480d-914e-58647047a47b"
      },
      "source": [
        "#Frecuency of frecuencies\n",
        "freq_freq_keywords=pd.Series(frequency_keywords.values)\n",
        "freq_freq_keywords.plot.hist(bins=30)\n",
        "plt.title('Histograma: Frecuencia de frecuencias', fontsize =16)\n",
        "plt.ylabel('Cantidad por Frecuencia')\n",
        "plt.xlabel('Frecuencia de las keyword')\n",
        "plt.show()"
      ],
      "execution_count": 66,
      "outputs": [
        {
          "output_type": "display_data",
          "data": {
            "image/png": "[encoded data removed]",
            "text/plain": [
              "<Figure size 432x288 with 1 Axes>"
            ]
          },
          "metadata": {
            "tags": [],
            "needs_background": "light"
          }
        }
      ]
    },
    {
      "cell_type": "code",
      "metadata": {
        "id": "sgnOWpKsNBD9",
        "colab_type": "code",
        "colab": {
          "base_uri": "https://localhost:8080/",
          "height": 173
        },
        "outputId": "f2517d85-5f4c-4717-da85-5f2b64eaa30f"
      },
      "source": [
        "#Some stats \n",
        "freq_freq_keywords.describe()"
      ],
      "execution_count": 67,
      "outputs": [
        {
          "output_type": "execute_result",
          "data": {
            "text/plain": [
              "count                 222.00\n",
              "mean                   34.05\n",
              "std                     5.14\n",
              "min                     9.00\n",
              "25%                    32.00\n",
              "50%                    34.00\n",
              "75%                    37.00\n",
              "max                    61.00\n",
              "dtype: float64"
            ]
          },
          "metadata": {
            "tags": []
          },
          "execution_count": 67
        }
      ]
    },
    {
      "cell_type": "code",
      "metadata": {
        "id": "hyiHHwnyNUA5",
        "colab_type": "code",
        "colab": {
          "base_uri": "https://localhost:8080/",
          "height": 34
        },
        "outputId": "ac1147e7-782e-4fcd-e3b6-5c60126e9239"
      },
      "source": [
        "#Cuántos registros tenemos que tengan keywords con frecuencias entre 30 y 40 sobre el total de registros?\n",
        "train_key_30_40=train[train.loc[:,'keyword'].isin(frequency_keywords[(frequency_keywords>=30) & (frequency_keywords<=40)].index)]\n",
        "round(100*len(train_key_30_40)/len(train),2)"
      ],
      "execution_count": 84,
      "outputs": [
        {
          "output_type": "execute_result",
          "data": {
            "text/plain": [
              "88.57"
            ]
          },
          "metadata": {
            "tags": []
          },
          "execution_count": 84
        }
      ]
    },
    {
      "cell_type": "code",
      "metadata": {
        "id": "FKBfvz87RZ71",
        "colab_type": "code",
        "colab": {
          "base_uri": "https://localhost:8080/",
          "height": 34
        },
        "outputId": "7be75e7f-e69f-4996-b1f7-4f031759d467"
      },
      "source": [
        "frequency_keywords[(frequency_keywords>=30) & (frequency_keywords<=40)].count()"
      ],
      "execution_count": 85,
      "outputs": [
        {
          "output_type": "execute_result",
          "data": {
            "text/plain": [
              "192"
            ]
          },
          "metadata": {
            "tags": []
          },
          "execution_count": 85
        }
      ]
    },
    {
      "cell_type": "markdown",
      "metadata": {
        "id": "tlC4bK2DR8PW",
        "colab_type": "text"
      },
      "source": [
        "¿Hay alguna relación entre el uso de la keyword y el porcentaje de veracidad?"
      ]
    },
    {
      "cell_type": "code",
      "metadata": {
        "id": "QKsMs17xSd1q",
        "colab_type": "code",
        "colab": {}
      },
      "source": [
        "grouped2=train.groupby('keyword').agg({'target':['mean','count']}).reset_index()"
      ],
      "execution_count": 0,
      "outputs": []
    },
    {
      "cell_type": "code",
      "metadata": {
        "id": "w_Hoi4gdTAns",
        "colab_type": "code",
        "colab": {
          "base_uri": "https://localhost:8080/",
          "height": 352
        },
        "outputId": "8375475e-a125-4c18-966b-1c9205e0a7d2"
      },
      "source": [
        "grouped2.columns=['keyword','percentage','count']\n",
        "grouped2.plot.scatter(x='percentage',y='count',figsize=(10,5))\n",
        "plt.title('Sctatter plot: Relación entre el porcentaje de veracidad y frecuencia del `keyword`',fontsize=14)\n",
        "plt.show()"
      ],
      "execution_count": 109,
      "outputs": [
        {
          "output_type": "display_data",
          "data": {
            "image/png": "[encoded data removed]",
            "text/plain": [
              "<Figure size 720x360 with 1 Axes>"
            ]
          },
          "metadata": {
            "tags": [],
            "needs_background": "light"
          }
        }
      ]
    },
    {
      "cell_type": "code",
      "metadata": {
        "id": "nS5nKXF0VF8r",
        "colab_type": "code",
        "colab": {
          "base_uri": "https://localhost:8080/",
          "height": 110
        },
        "outputId": "1f550631-1384-47b8-8824-e19e878bf34f"
      },
      "source": [
        "#Una correlación casi nula. \n",
        "grouped2[['percentage','count']].corr()"
      ],
      "execution_count": 101,
      "outputs": [
        {
          "output_type": "execute_result",
          "data": {
            "text/html": [
              "<div>\n",
              "<style scoped>\n",
              "    .dataframe tbody tr th:only-of-type {\n",
              "        vertical-align: middle;\n",
              "    }\n",
              "\n",
              "    .dataframe tbody tr th {\n",
              "        vertical-align: top;\n",
              "    }\n",
              "\n",
              "    .dataframe thead th {\n",
              "        text-align: right;\n",
              "    }\n",
              "</style>\n",
              "<table border=\"1\" class=\"dataframe\">\n",
              "  <thead>\n",
              "    <tr style=\"text-align: right;\">\n",
              "      <th></th>\n",
              "      <th>percentage</th>\n",
              "      <th>count</th>\n",
              "    </tr>\n",
              "  </thead>\n",
              "  <tbody>\n",
              "    <tr>\n",
              "      <th>percentage</th>\n",
              "      <td>1.00</td>\n",
              "      <td>0.08</td>\n",
              "    </tr>\n",
              "    <tr>\n",
              "      <th>count</th>\n",
              "      <td>0.08</td>\n",
              "      <td>1.00</td>\n",
              "    </tr>\n",
              "  </tbody>\n",
              "</table>\n",
              "</div>"
            ],
            "text/plain": [
              "                     percentage                count\n",
              "percentage                 1.00                 0.08\n",
              "count                      0.08                 1.00"
            ]
          },
          "metadata": {
            "tags": []
          },
          "execution_count": 101
        }
      ]
    },
    {
      "cell_type": "markdown",
      "metadata": {
        "id": "0bBX5Vz7dYlE",
        "colab_type": "text"
      },
      "source": [
        "# Cleaning: elimino signos de puntuación"
      ]
    },
    {
      "cell_type": "markdown",
      "metadata": {
        "id": "GonroTVYfG4M",
        "colab_type": "text"
      },
      "source": [
        "Se eliminan los signos de puntuación salvo @, # y (:,/,.) ya que representan elementos característicos de tweets : menciones, hashtags y links. \n",
        "\n"
      ]
    },
    {
      "cell_type": "code",
      "metadata": {
        "id": "Sph7dxnBdgRu",
        "colab_type": "code",
        "colab": {}
      },
      "source": [
        "\n",
        "def deletePunctuation(inputString):\n",
        "  aux=string.punctuation\n",
        "  puncts=aux.translate(str.maketrans(\"#@:/.\",\"     \"))\n",
        "  auxstring=\" \" * len(puncts)\n",
        "  outputString=inputString.translate(str.maketrans(puncts,auxstring))\n",
        "  return outputString\n",
        "\n",
        "train['text'] = train['text'].apply(lambda x: deletePunctuation(x))\n"
      ],
      "execution_count": 0,
      "outputs": []
    },
    {
      "cell_type": "markdown",
      "metadata": {
        "id": "eEdGGvBGamx1",
        "colab_type": "text"
      },
      "source": [
        "# Análisis de Pronombres"
      ]
    },
    {
      "cell_type": "markdown",
      "metadata": {
        "id": "CK6OA798aqrE",
        "colab_type": "text"
      },
      "source": [
        "Se propone un análisis de cantidad de apariciones de pronombres en tweets según su target."
      ]
    },
    {
      "cell_type": "code",
      "metadata": {
        "id": "Oi7A0UUEVczt",
        "colab_type": "code",
        "colab": {}
      },
      "source": [
        "def generate_tokens(target):\n",
        "    text_tokens=[]\n",
        "    for x in train[train['target']==target]['text'].str.split():\n",
        "        for i in x:\n",
        "            text_tokens.append(i)\n",
        "    return text_tokens\n",
        "\n",
        "#Analizo tweets con target Not Real\n",
        "corpus=generate_tokens(0)\n",
        "\n",
        "dic=defaultdict(int)\n",
        "pronouns={'I','me','my','mine','myself','you','your','yours','yourself',\\\n",
        "          'he','him','his','himself','she','her','hers','herself',\\\n",
        "          'it','its','itself','we','us','our','ours','ourselves',\\\n",
        "          'they','them','their','theirs','themselves','yourselves'}\n",
        "\n",
        "for word in corpus:\n",
        "    if word in pronouns:\n",
        "        dic[word]+=1\n",
        "        \n",
        "top0=sorted(dic.items(), key=lambda x:x[1],reverse=True)[:11]\n",
        "x0,y=zip(*top0)\n",
        "y0=tuple(i/(len(train0['text'])) for i in y)\n",
        "\n",
        "#Analizo tweets con target Real\n",
        "\n",
        "text_tokens=generate_tokens(1)\n",
        "dic=defaultdict(int)\n",
        "\n",
        "for word in text_tokens:\n",
        "    if word in pronouns:\n",
        "        dic[word]+=1\n",
        "\n",
        "top1=sorted(dic.items(), key=lambda x:x[1],reverse=True)[:11]\n",
        "x1,y=zip(*top1)\n",
        "y1=tuple(i/(len(train1['text'])) for i in y)\n",
        "\n",
        "\n",
        "\n"
      ],
      "execution_count": 0,
      "outputs": []
    },
    {
      "cell_type": "code",
      "metadata": {
        "id": "uT8DTRNM2mx_",
        "colab_type": "code",
        "outputId": "ac5b362d-cc70-4d01-f8ec-4d24c31a803d",
        "colab": {
          "base_uri": "https://localhost:8080/",
          "height": 334
        }
      },
      "source": [
        "pronouns0=pd.DataFrame(top0,columns=['pronoun','cantidad_not_real'])\n",
        "pronouns1=pd.DataFrame(top1,columns=['pronoun','cantidad_real'])\n",
        "\n",
        "pronouns=pronouns0.merge(pronouns1, how='inner')\n",
        "pronouns['cantidad_not_real']=100*pronouns['cantidad_not_real']/len(train0)\n",
        "pronouns['cantidad_real']=100*pronouns['cantidad_real']/len(train1)\n",
        "\n",
        "# Setting the positions and width for the bars\n",
        "pos = list(range(len(pronouns['pronoun']))) \n",
        "width = 0.25 \n",
        "\n",
        "# Plotting the bars\n",
        "fig, ax = plt.subplots(figsize=(10,5))\n",
        "\n",
        "# Create a bar with cantidad_not_real data,\n",
        "# in position pos,\n",
        "plt.bar(pos, \n",
        "        #using df['pre_score'] data,\n",
        "        pronouns['cantidad_not_real'], \n",
        "        # of width\n",
        "        width, \n",
        "        # with alpha 0.5\n",
        "        alpha=0.5, \n",
        "        # with label the first value in first_name\n",
        "        label=pronouns['pronoun'][0]) \n",
        "\n",
        "# Create a bar with mid_score data,\n",
        "# in position pos + some width buffer,\n",
        "plt.bar([p + width for p in pos], \n",
        "        #using df['mid_score'] data,\n",
        "        pronouns['cantidad_real'],\n",
        "        # of width\n",
        "        width, \n",
        "        # with alpha 0.5\n",
        "        alpha=0.5,  \n",
        "        # with label the second value in first_name\n",
        "        label=pronouns['pronoun'][1]) \n",
        "\n",
        "# Set the y axis label\n",
        "ax.set_ylabel('Porcentaje de apariciones por target')\n",
        "\n",
        "# Set the chart's title\n",
        "ax.set_title('Top 10 de pronombres en tweets')\n",
        "\n",
        "\n",
        "# Set the position of the x ticks\n",
        "ax.set_xticks([p + 0.5 * width for p in pos])\n",
        "\n",
        "# Set the labels for the x ticks\n",
        "ax.set_xticklabels(pronouns['pronoun'])\n",
        "\n",
        "\n",
        "# Adding the legend and showing the plot\n",
        "plt.legend(['Not Real', 'Real'], loc='upper right')\n",
        "plt.show()"
      ],
      "execution_count": 0,
      "outputs": [
        {
          "output_type": "display_data",
          "data": {
            "image/png": "[encoded data removed]",
            "text/plain": [
              "<Figure size 720x360 with 1 Axes>"
            ]
          },
          "metadata": {
            "tags": [],
            "needs_background": "light"
          }
        }
      ]
    },
    {
      "cell_type": "markdown",
      "metadata": {
        "id": "mltKoDDg2wZt",
        "colab_type": "text"
      },
      "source": [
        "En la figura se observan los pronombres con más apariciones para ambos targets. Se observa que los mismos 10 pronombres aparecen en ambos rankings. Sin embargo, todos los porcentajes de aparición de target Not Real superan a los de target Real. En partircular, los valores de \"I\", \"you\" y \"my\" para los targets Not Real triplican en porcentaje a los de target Real. \n",
        "La naturaleza de un tweet que expresa un desastre responde a un estilo de redacción con poca cantidad de pronombres respecto a un tweet \"normal\". Esto puede deberse a que no suele usarse la primera ni segunda persona del singular, y pueden haber mayor cantidad de nombres propios."
      ]
    },
    {
      "cell_type": "markdown",
      "metadata": {
        "id": "uMyjy7lL8jdY",
        "colab_type": "text"
      },
      "source": [
        "# Análisis de características de tweets"
      ]
    },
    {
      "cell_type": "code",
      "metadata": {
        "id": "pCURBzI68oz6",
        "colab_type": "code",
        "colab": {}
      },
      "source": [
        "def hasNumbers(inputString):\n",
        "  return any(w.isdigit() for w in str(inputString).split())\n",
        "\n",
        "train['characters_count'] = train['text'].apply(lambda x: len(str(x)))\n",
        "train['word_count'] = train['text'].apply(lambda x: len(str(x).split()))\n",
        "train['unique_word_count'] = train['text'].apply(lambda x: len(set(str(x).split())))\n",
        "train['url_count'] = train['text'].apply(lambda x: len([w for w in str(x).lower().split() if 'http' in w]))\n",
        "train['hashtag_count'] = train['text'].apply(lambda x: len([c for c in str(x) if c == '#']))\n",
        "train['mention_count'] = train['text'].apply(lambda x: len([c for c in str(x) if c == '@']))\n",
        "train['digits'] = train['text'].apply(lambda x: hasNumbers(x))\n"
      ],
      "execution_count": 0,
      "outputs": []
    },
    {
      "cell_type": "code",
      "metadata": {
        "id": "4NZ60mBjUTEk",
        "colab_type": "code",
        "outputId": "8623d41f-e83a-47e1-afbc-072453d01864",
        "colab": {
          "base_uri": "https://localhost:8080/",
          "height": 581
        }
      },
      "source": [
        "train\n",
        " "
      ],
      "execution_count": 0,
      "outputs": [
        {
          "output_type": "execute_result",
          "data": {
            "text/html": [
              "<div>\n",
              "<style scoped>\n",
              "    .dataframe tbody tr th:only-of-type {\n",
              "        vertical-align: middle;\n",
              "    }\n",
              "\n",
              "    .dataframe tbody tr th {\n",
              "        vertical-align: top;\n",
              "    }\n",
              "\n",
              "    .dataframe thead th {\n",
              "        text-align: right;\n",
              "    }\n",
              "</style>\n",
              "<table border=\"1\" class=\"dataframe\">\n",
              "  <thead>\n",
              "    <tr style=\"text-align: right;\">\n",
              "      <th></th>\n",
              "      <th>id</th>\n",
              "      <th>keyword</th>\n",
              "      <th>location</th>\n",
              "      <th>text</th>\n",
              "      <th>target</th>\n",
              "      <th>characters_count</th>\n",
              "      <th>word_count</th>\n",
              "      <th>unique_word_count</th>\n",
              "      <th>url_count</th>\n",
              "      <th>hashtag_count</th>\n",
              "      <th>mention_count</th>\n",
              "      <th>digits</th>\n",
              "    </tr>\n",
              "  </thead>\n",
              "  <tbody>\n",
              "    <tr>\n",
              "      <th>0</th>\n",
              "      <td>1</td>\n",
              "      <td>NaN</td>\n",
              "      <td>NaN</td>\n",
              "      <td>Our Deeds are the Reason of this #earthquake M...</td>\n",
              "      <td>1</td>\n",
              "      <td>69</td>\n",
              "      <td>13</td>\n",
              "      <td>13</td>\n",
              "      <td>0</td>\n",
              "      <td>1</td>\n",
              "      <td>0</td>\n",
              "      <td>False</td>\n",
              "    </tr>\n",
              "    <tr>\n",
              "      <th>1</th>\n",
              "      <td>4</td>\n",
              "      <td>NaN</td>\n",
              "      <td>NaN</td>\n",
              "      <td>Forest fire near La Ronge Sask. Canada</td>\n",
              "      <td>1</td>\n",
              "      <td>38</td>\n",
              "      <td>7</td>\n",
              "      <td>7</td>\n",
              "      <td>0</td>\n",
              "      <td>0</td>\n",
              "      <td>0</td>\n",
              "      <td>False</td>\n",
              "    </tr>\n",
              "    <tr>\n",
              "      <th>2</th>\n",
              "      <td>5</td>\n",
              "      <td>NaN</td>\n",
              "      <td>NaN</td>\n",
              "      <td>All residents asked to  shelter in place  are ...</td>\n",
              "      <td>1</td>\n",
              "      <td>133</td>\n",
              "      <td>22</td>\n",
              "      <td>18</td>\n",
              "      <td>0</td>\n",
              "      <td>0</td>\n",
              "      <td>0</td>\n",
              "      <td>False</td>\n",
              "    </tr>\n",
              "    <tr>\n",
              "      <th>3</th>\n",
              "      <td>6</td>\n",
              "      <td>NaN</td>\n",
              "      <td>NaN</td>\n",
              "      <td>13 000 people receive #wildfires evacuation or...</td>\n",
              "      <td>1</td>\n",
              "      <td>65</td>\n",
              "      <td>9</td>\n",
              "      <td>9</td>\n",
              "      <td>0</td>\n",
              "      <td>1</td>\n",
              "      <td>0</td>\n",
              "      <td>True</td>\n",
              "    </tr>\n",
              "    <tr>\n",
              "      <th>4</th>\n",
              "      <td>7</td>\n",
              "      <td>NaN</td>\n",
              "      <td>NaN</td>\n",
              "      <td>Just got sent this photo from Ruby #Alaska as ...</td>\n",
              "      <td>1</td>\n",
              "      <td>88</td>\n",
              "      <td>16</td>\n",
              "      <td>15</td>\n",
              "      <td>0</td>\n",
              "      <td>2</td>\n",
              "      <td>0</td>\n",
              "      <td>False</td>\n",
              "    </tr>\n",
              "    <tr>\n",
              "      <th>...</th>\n",
              "      <td>...</td>\n",
              "      <td>...</td>\n",
              "      <td>...</td>\n",
              "      <td>...</td>\n",
              "      <td>...</td>\n",
              "      <td>...</td>\n",
              "      <td>...</td>\n",
              "      <td>...</td>\n",
              "      <td>...</td>\n",
              "      <td>...</td>\n",
              "      <td>...</td>\n",
              "      <td>...</td>\n",
              "    </tr>\n",
              "    <tr>\n",
              "      <th>7604</th>\n",
              "      <td>10863</td>\n",
              "      <td>NaN</td>\n",
              "      <td>NaN</td>\n",
              "      <td>#WorldNews Fallen powerlines on G:link tram: U...</td>\n",
              "      <td>1</td>\n",
              "      <td>136</td>\n",
              "      <td>19</td>\n",
              "      <td>19</td>\n",
              "      <td>1</td>\n",
              "      <td>1</td>\n",
              "      <td>0</td>\n",
              "      <td>True</td>\n",
              "    </tr>\n",
              "    <tr>\n",
              "      <th>7605</th>\n",
              "      <td>10864</td>\n",
              "      <td>NaN</td>\n",
              "      <td>NaN</td>\n",
              "      <td>on the flip side I m at Walmart and there is a...</td>\n",
              "      <td>1</td>\n",
              "      <td>114</td>\n",
              "      <td>27</td>\n",
              "      <td>25</td>\n",
              "      <td>0</td>\n",
              "      <td>0</td>\n",
              "      <td>0</td>\n",
              "      <td>False</td>\n",
              "    </tr>\n",
              "    <tr>\n",
              "      <th>7606</th>\n",
              "      <td>10866</td>\n",
              "      <td>NaN</td>\n",
              "      <td>NaN</td>\n",
              "      <td>Suicide bomber kills 15 in Saudi security site...</td>\n",
              "      <td>1</td>\n",
              "      <td>121</td>\n",
              "      <td>17</td>\n",
              "      <td>17</td>\n",
              "      <td>1</td>\n",
              "      <td>0</td>\n",
              "      <td>0</td>\n",
              "      <td>True</td>\n",
              "    </tr>\n",
              "    <tr>\n",
              "      <th>7608</th>\n",
              "      <td>10869</td>\n",
              "      <td>NaN</td>\n",
              "      <td>NaN</td>\n",
              "      <td>Two giant cranes holding a bridge collapse int...</td>\n",
              "      <td>1</td>\n",
              "      <td>83</td>\n",
              "      <td>11</td>\n",
              "      <td>11</td>\n",
              "      <td>1</td>\n",
              "      <td>0</td>\n",
              "      <td>0</td>\n",
              "      <td>False</td>\n",
              "    </tr>\n",
              "    <tr>\n",
              "      <th>7612</th>\n",
              "      <td>10873</td>\n",
              "      <td>NaN</td>\n",
              "      <td>NaN</td>\n",
              "      <td>The Latest: More Homes Razed by Northern Calif...</td>\n",
              "      <td>1</td>\n",
              "      <td>94</td>\n",
              "      <td>12</td>\n",
              "      <td>12</td>\n",
              "      <td>1</td>\n",
              "      <td>0</td>\n",
              "      <td>0</td>\n",
              "      <td>False</td>\n",
              "    </tr>\n",
              "  </tbody>\n",
              "</table>\n",
              "<p>7485 rows × 12 columns</p>\n",
              "</div>"
            ],
            "text/plain": [
              "         id keyword location  ... hashtag_count  mention_count  digits\n",
              "0         1     NaN      NaN  ...             1              0   False\n",
              "1         4     NaN      NaN  ...             0              0   False\n",
              "2         5     NaN      NaN  ...             0              0   False\n",
              "3         6     NaN      NaN  ...             1              0    True\n",
              "4         7     NaN      NaN  ...             2              0   False\n",
              "...     ...     ...      ...  ...           ...            ...     ...\n",
              "7604  10863     NaN      NaN  ...             1              0    True\n",
              "7605  10864     NaN      NaN  ...             0              0   False\n",
              "7606  10866     NaN      NaN  ...             0              0    True\n",
              "7608  10869     NaN      NaN  ...             0              0   False\n",
              "7612  10873     NaN      NaN  ...             0              0   False\n",
              "\n",
              "[7485 rows x 12 columns]"
            ]
          },
          "metadata": {
            "tags": []
          },
          "execution_count": 191
        }
      ]
    },
    {
      "cell_type": "code",
      "metadata": {
        "id": "v7PD-7hieSDt",
        "colab_type": "code",
        "outputId": "6893229f-b432-4fc7-d81f-5107e6d49f1d",
        "colab": {
          "base_uri": "https://localhost:8080/",
          "height": 35
        }
      },
      "source": [
        "\n"
      ],
      "execution_count": 0,
      "outputs": [
        {
          "output_type": "execute_result",
          "data": {
            "text/plain": [
              "'@bbcmtd Wholesale Markets ablaze http://t.co/lHYXEOHY6C'"
            ]
          },
          "metadata": {
            "tags": []
          },
          "execution_count": 193
        }
      ]
    }
  ]
}