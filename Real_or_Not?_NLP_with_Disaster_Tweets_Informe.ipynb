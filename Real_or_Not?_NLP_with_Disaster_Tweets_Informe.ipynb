{
  "nbformat": 4,
  "nbformat_minor": 0,
  "metadata": {
    "colab": {
      "name": "Real or Not? - NLP with Disaster Tweets - Informe.ipynb",
      "provenance": [],
      "collapsed_sections": [],
      "authorship_tag": "ABX9TyOXx/ShvPTzLxT6+u0GN53K",
      "include_colab_link": true
    },
    "kernelspec": {
      "name": "python3",
      "display_name": "Python 3"
    }
  },
  "cells": [
    {
      "cell_type": "markdown",
      "metadata": {
        "id": "view-in-github",
        "colab_type": "text"
      },
      "source": [
        "<a href=\"https://colab.research.google.com/github/Ignacio-Ibarra/NLP-Disasters/blob/master/Real_or_Not%3F_NLP_with_Disaster_Tweets_Informe.ipynb\" target=\"_parent\"><img src=\"https://colab.research.google.com/assets/colab-badge.svg\" alt=\"Open In Colab\"/></a>"
      ]
    },
    {
      "cell_type": "markdown",
      "metadata": {
        "id": "wRAmuBkydUYh",
        "colab_type": "text"
      },
      "source": [
        "# **Real or Not? NLP with Disaster Tweets**"
      ]
    },
    {
      "cell_type": "markdown",
      "metadata": {
        "id": "OGY1eOl-dgNY",
        "colab_type": "text"
      },
      "source": [
        "### **Autores**: Alejandra Toscano - Diego Sanchez - Erik Cirilo - Ignacio Ibarra"
      ]
    },
    {
      "cell_type": "markdown",
      "metadata": {
        "id": "xv8GPg0HRtjI",
        "colab_type": "text"
      },
      "source": [
        "## **Introducción** \n",
        "\n",
        "Esta es un trabajo práctico realizado para la materia 7506 - Organización de Datos de la Facultad de Ingniería de la Universidad de Buenos Aires. Se trata de una competencia lanzada en la plataforma Kaggle (ver [aquí](https://www.kaggle.com/c/nlp-getting-started)), la cual consiste en predecir si un tweet nos está hablando de una desastre o no, implementando técnicas de _natural language processing_ (NLP).   \n",
        "\n",
        "Para ello contamos con un _dataset_ de entrenamiento y otro para testear nuestro modelo de _machine learning._ \n",
        "\n",
        "Este trabajo consta de dos entregas: \n",
        "\n",
        "* **Primera parte: Análisis Exploratorio de los Datos**\n",
        "\n",
        ">El principal objetivo de esta parte es hallar algunos _insights_ mediante visualizaciones de las distintas relaciones entre las variables. Este trabajo se realizará sobre el _dataset_ de entrenamiento. Las variables presentes en el mismo son: \n",
        "\n",
        "  >- `id` : una identificación única de cada una de las observaciones\n",
        "  \n",
        "  >-  `keyword`: es una palabra que el usuario de Twitter puede cargar al momento de postear un tweet con el objetivo de asociar el texto a dicha palabra o concepto. Podría ser totalmente arbitraria la elección del _keyword_\n",
        "\n",
        "  >- `location`: el usuario también puede cargar la locación desde dónde realiza el posteo. También es arbitraria dicha elección porque no se carga desde la locación del GPS. \n",
        "\n",
        "  >- `text`: es el texto del tweet. \n",
        "\n",
        "  >- `target`: es una variable binaria que toma valor 1 cuando el tweet corresponde con un desastre y 0 cuando no. \n",
        "\n",
        "* **Segunda parte: Modelo de machine learning basado en NLP** \n",
        "\n",
        ">El objetivo de esta segunda parte es desarrollar un modelo que luego de ser probado en la base de entrenamiento podamos utilizarlo para predecir la variable target. "
      ]
    },
    {
      "cell_type": "markdown",
      "metadata": {
        "id": "Qqru32v6eJJz",
        "colab_type": "text"
      },
      "source": [
        "## **Pre-procesamiento**\n",
        "\n"
      ]
    },
    {
      "cell_type": "markdown",
      "metadata": {
        "id": "L3oqZuW-ep-O",
        "colab_type": "text"
      },
      "source": [
        "### **Limpieza del dataset** \n",
        "\n",
        "Existen tweets que tienen textos iguales pero que se les asignaron 2 targets distintos. \n",
        "\n",
        "index|text|nunique\n",
        "---|---|---|\n",
        "7265\t|like for the music video I want some real acti...|\t2\n",
        "3618|\tHellfire! We donÛªt even want to think about ...|\t2\n",
        "6131\t|The Prophet (peace be upon him) said 'Save you...|\t2\n",
        "4193\t|In #islam saving a person is equal in reward t...|\t2\n",
        "6353\t|To fight bioterrorism sir.\t|2\n",
        "...\t|...\t|...\n",
        "2496|\tBack from Seattle Tacoma and Portland. Whirlwi...|\t1\n",
        "2495|\tBaby elephant dies just days after surviving m...\t|1\n",
        "2494|\tBUT I will be uploading these videos ASAP so y...\t|1\n",
        "2493|\tBREAKING: Terror Attack On\\nPolice Post #Udhampur\t|1\n",
        "7502|\tåÈMGN-AFRICAå¨ pin:263789F4 åÈ Correction: Ten...\t|1\n",
        "\n",
        "Eliminamos dichos registros ya que afectan el set de entreamiento. \n",
        "\n",
        "Por otro lado, hemos reemplazado los _null values_ de las columnas `keyword` y `location` por 'no_keyword' y 'no_location' respectivamente, para no perder ni filas ni columnas. \n",
        "\n",
        "Por último, hemos eliminado la columan `id` dado que no tiene utilidad en el set. \n",
        "\n",
        "El DataFrame post cleaning cuenta con 7558 filas y 4 columnas"
      ]
    },
    {
      "cell_type": "markdown",
      "metadata": {
        "id": "2JFJ0qI3iXD_",
        "colab_type": "text"
      },
      "source": [
        "### **Nuevas variables creadas** (corregir)\n",
        "\n",
        "Hemos creado nuevas variables a partir de la variable `text`: \n",
        "\n",
        ">-`tweet_len`: cantidad de caracteres que posee cada tweet. \n",
        "\n",
        ">-`list_words`: hemos obtenido una lista de _strings_ para cada tweet. Y de esa variable hemos deducido otras como: \n",
        "\n",
        ">>-`words_count`: cantidad de palabras de cada tweet. \n",
        "\n",
        ">>>-`avg_characters_per_word`: es el cociente entre `words_count` y `tweet_len`\n",
        "\n",
        ">>-`hashtag`: hemos obtenido los hashtags de cada tweet.\n",
        "\n",
        ">>-`words_freq`: calculamos la frecuencia que tiene cada palabra. \n",
        "\n",
        "Para más información ver [aquí](poner link al repo)  "
      ]
    },
    {
      "cell_type": "markdown",
      "metadata": {
        "id": "clIF73AhtsLG",
        "colab_type": "text"
      },
      "source": [
        "## **Proporción de Target Real y No Real**\n",
        "\n",
        "La variable `target` está distribuida de la siguiente forma en el _dataset_ de entrenamiento. \n",
        "\n",
        "![Bar Chart - Cantidad de Tweets por Target](https://drive.google.com/uc?id=1xIAFSh3PyCGB1Z0pRFbykBULTl8IyJFH)\n",
        "\n",
        "![Pie Chart - Porcentaje de Tweets por Target](https://drive.google.com/uc?id=1r7NAc0aH19QOXHxXlwMrrMaO3Z2cl1ng)\n"
      ]
    },
    {
      "cell_type": "markdown",
      "metadata": {
        "id": "-JuRmiE5mkGh",
        "colab_type": "text"
      },
      "source": [
        "### **Analizando `keyword`**\n",
        "\n",
        "La palabra clave es cargada por el usuario de Twitter al momento del post. Sirve para relacionar un tweet con un concepto y facilita que el motor de búsqueda de Twitter devuelva dicho post si alguien realiza una búsqueda utilizando dicha palabra clave. \n",
        "\n",
        "Si bien la elección del 'keyword' por parte del usuario puede guardar algún tipo de relación con el texto del tweet, no se puede asegurar que eso suceda ya que dicha elección es a _priori_ arbitraria. \n",
        "\n",
        "La variable en análisis puede presentarse como una única palabra o como una conjunción de más de una. \n",
        "\n",
        "Los _unique values_ son el 2.92% del total de registros de dicha variable. En la siguiente tabla podemos ver las palabras que más se repiten y las que menos, sin tomar en cuenta el valor 'no_keyword'.  \n",
        "\n",
        "keyword|Frecuencia absoluta\n",
        "---|---|\n",
        "fatalities |              45\n",
        "deluge      |             42\n",
        "armageddon   |            42\n",
        "harm          |           41\n",
        "..|                         ..\n",
        "forest%20fire     |       19\n",
        "epicentre     |           12\n",
        "threat        |           11\n",
        "inundation    |           10\n",
        "radiation%20emergency |    9\n",
        "\n",
        "A su vez, el valor 'no_keyword' aparece 61 veces en la muestra, pero a los fines de saber cuáles son las palabras o conceptos que los tweets están volcando, el valor 'no_keyword' no aporta información valiosa. \n",
        "\n",
        "#### **`keyword` por `target`**\n",
        "\n",
        "Agrupando por `keyword` obtenemos la proporción de registros que tienen un valor de `target` igual a 1 y calculamos el porcentaje sobre el total de registros para ese valor de `keyword`. De las 222 keywords hemos seleccionado las 25 con porcentaje más alto y las 25 con porcentaje más bajo. \n",
        "\n",
        "![Horizontal Bar Chart: Top 25 Keywords Frecuentes por Target](https://drive.google.com/uc?id=1rl4_gsGLuY1al6EJcH-oo-Q7Yr2ANN4e)\n",
        "\n",
        "En la figura de la izquierda, se observan keywords referentes a desastres naturales (_drought, forest fire, violent storm) o edilicios (bridge collapse, buildings on fire_). También se encuentran tragedias mortales (_mass murder, airplane accident, nuclear disaster, suicide bombing_). Otros keywords incluyen lenguaje de noticias (_casualties, evacuated, rescuers_).\n",
        "\n",
        "En la figura de la derecha, su mayoría se trata de palabras que servirían para describir tragedias pero que a su vez pueden usarse en muchos otros contextos. Un ejemplo de esto es el keyword \"body bag\", con un porcentaje de targets Reales menor al 5%. El término por si solo sonaría alarmante, pero veamos las acepciones de la palabra:\n",
        "\n",
        "1.   Bolsa para guardar cadáveres\n",
        "2.   Una clase de cartera/mochila\n",
        "3.   Según *Urban Dictionary*, \"To boddybag an oponent\" es asegurar la victoria sobre el oponente (algo así como \"kick ass\"), es un slang muy utilizado en las batallas de rap.\n",
        "4.   Otra acepción de *Urban Dictionary*, \"Bodybagging\" es robarle un chiste a otro comediante y hacerlo pasar como propio. \n",
        "\n",
        "#### **Frecuencia de Frecuencias** \n",
        "\n",
        "Por otro lado es llamativo observar la frecuencia de las frecuencias, es decir, cuántas veces se repiten ciertas frecuencias. La mayor parte de las `keyword` se repiten entre 30 y 40 veces. \n",
        "\n",
        "![Frecuencia de Frecuencias](https://drive.google.com/uc?id=1IpUAmYu1HgDe7qnnm84sBnMKzvaf6CJ_)\n",
        "\n",
        "El 88,57% de los registros posee un valor de `keyword` que se encuentra dentro del grupo de las `keyword` que se repiten entre 30 y 40 veces. De las 222 keywords, 192 se repiten entre 30 y 40 veces. \n",
        "\n",
        "Observamos que no hay relación entre la cantidad de apariciones de un `keyword` y el porcentage de veracidad de dicho keyword, calculado éste como la media del `target` para cada keyword. \n",
        "\n",
        "![Sctatter plot: Relación entre el porcentaje de veracidad y frecuencia del `keyword` ](https://drive.google.com/uc?id=13CcSoLQG1Hwu4ToR9vZcj5x3eWAab9g5)\n",
        "\n",
        "Lo mismo muestra la matriz de correlaciones. \n",
        "\n",
        "corr|percentage|\tcount\n",
        "---|---|---\n",
        "percentage|\t1.00|\t0.08\n",
        "count\t|0.08|\t1.00\n",
        "\n",
        "\n"
      ]
    }
  ]
}