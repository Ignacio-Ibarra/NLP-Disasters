{
  "nbformat": 4,
  "nbformat_minor": 0,
  "metadata": {
    "colab": {
      "name": "Real or Not? - NLP with Disaster Tweets - Informe.ipynb",
      "provenance": [],
      "collapsed_sections": [],
      "authorship_tag": "ABX9TyPav6KoZPH2ygfLu1ZYkDkS",
      "include_colab_link": true
    },
    "kernelspec": {
      "name": "python3",
      "display_name": "Python 3"
    }
  },
  "cells": [
    {
      "cell_type": "markdown",
      "metadata": {
        "id": "view-in-github",
        "colab_type": "text"
      },
      "source": [
        "<a href=\"https://colab.research.google.com/github/Ignacio-Ibarra/NLP-Disasters/blob/master/Real_or_Not%3F_NLP_with_Disaster_Tweets_Informe.ipynb\" target=\"_parent\"><img src=\"https://colab.research.google.com/assets/colab-badge.svg\" alt=\"Open In Colab\"/></a>"
      ]
    },
    {
      "cell_type": "markdown",
      "metadata": {
        "id": "wRAmuBkydUYh",
        "colab_type": "text"
      },
      "source": [
        "# **Real or Not? NLP with Disaster Tweets**"
      ]
    },
    {
      "cell_type": "markdown",
      "metadata": {
        "id": "OGY1eOl-dgNY",
        "colab_type": "text"
      },
      "source": [
        "### **Autores**: Alejandra Toscano - Diego Sanchez - Erik Cirilo - Ignacio Ibarra"
      ]
    },
    {
      "cell_type": "markdown",
      "metadata": {
        "id": "xv8GPg0HRtjI",
        "colab_type": "text"
      },
      "source": [
        "## **Introducción** \n",
        "\n",
        "Esta es un trabajo práctico realizado para la materia 7506 - Organización de Datos de la Facultad de Ingniería de la Universidad de Buenos Aires. Se trata de una competencia lanzada en la plataforma Kaggle (ver [aquí](https://www.kaggle.com/c/nlp-getting-started)), la cual consiste en predecir si un tweet nos está hablando de una desastre o no, implementando técnicas de _natural language processing_ (NLP).   \n",
        "\n",
        "Para ello contamos con un _dataset_ de entrenamiento y otro para testear nuestro modelo de _machine learning._ \n",
        "\n",
        "Este trabajo consta de dos entregas: \n",
        "\n",
        "* **Primera parte: Análisis Exploratorio de los Datos**\n",
        "\n",
        ">El principal objetivo de esta parte es hallar algunos _insights_ mediante visualizaciones de las distintas relaciones entre las variables. Este trabajo se realizará sobre el _dataset_ de entrenamiento. Las variables presentes en el mismo son: \n",
        "\n",
        "  >- `id` : una identificación única de cada una de las observaciones\n",
        "  \n",
        "  >-  `keyword`: es una palabra que el usuario de Twitter puede cargar al momento de postear un tweet con el objetivo de asociar el texto a dicha palabra o concepto. Podría ser totalmente arbitraria la elección del _keyword_\n",
        "\n",
        "  >- `location`: el usuario también puede cargar la locación desde dónde realiza el posteo. También es arbitraria dicha elección porque no se carga desde la locación del GPS. \n",
        "\n",
        "  >- `text`: es el texto del tweet. \n",
        "\n",
        "  >- `target`: es una variable binaria que toma valor 1 cuando el tweet corresponde con un desastre y 0 cuando no. \n",
        "\n",
        "* **Segunda parte: Modelo de machine learning basado en NLP** \n",
        "\n",
        ">El objetivo de esta segunda parte es desarrollar un modelo que luego de ser probado en la base de entrenamiento podamos utilizarlo para predecir la variable target. "
      ]
    },
    {
      "cell_type": "markdown",
      "metadata": {
        "id": "Qqru32v6eJJz",
        "colab_type": "text"
      },
      "source": [
        "## **Pre-procesamiento**\n",
        "\n"
      ]
    },
    {
      "cell_type": "markdown",
      "metadata": {
        "id": "L3oqZuW-ep-O",
        "colab_type": "text"
      },
      "source": [
        "### **Limpieza del dataset** \n",
        "\n"
      ]
    },
    {
      "cell_type": "markdown",
      "metadata": {
        "id": "cUEDG7Gsuy-z",
        "colab_type": "text"
      },
      "source": [
        "#### **Limpieza variable `text`**\n",
        "\n",
        "Para trabajar con más claridad con esta variable hemos eliminado las url, los _hashtags_, las _mentions_ del texto de cada tweet, esto nos permitirá luego hacer un mejor análisis sobre los \"duplicados\". \n",
        "\n",
        "#### **Registros duplicados**\n",
        "\n",
        "En primer lugar comprobamos que dado que el id es una clave única no hay filas duplicadas. \n",
        "\n",
        "Sin embargo, lo que cuenta es definir también un criterio para contabilizar valores como 'duplicados'. Para ello hemos redefinido la variable `text` como una variable que alberga sólo oraciones (sin url, _hashtags_, _mentions_)  y hemos considerado los repetidos sin tener en cuenta el `id`. No se consideraron diferencias en la puntuación.  \n",
        " \n",
        "De esta manera comprobamos que había muchos textos repetidos y que además tenían valores de `target` contradictorios. Para un mismo texto había dos o más filas que tenían distinto valor de `target`. Como se ve en la siguiente tabla. \n",
        "\n",
        "texto|count|number_of_uniques\n",
        "---|:---:|:---:|\t\t\n",
        "Enugu Government to demolish illegal structures at International Conference Centre\t|3|\t2\n",
        ".POTUS is a strategy for refugees; IDP Internally displaced people; horror; etc.\t|5|\t2\n",
        "Why are you deluged with low self-image? Take the quiz:|\t2\t|2\n",
        "Pandemonium In Aba As Woman Delivers Baby Without Face (Photos) -|\t5\t|2\n",
        "Mmmmmm I'm burning.... I'm burning buildings I'm building.... Oooooohhhh oooh ooh...\t|2\t|2\n",
        "RT NotExplained: The only known image of infamous hijacker D.B. Cooper.\t|2\t|2\n",
        "FedEx no longer to transport bioterror germs in wake of anthrax lab mishaps via\t|4\t|2\n",
        "that horrible sinking feeling when youÛªve been at home on your phone for a while and you realise its been on 3G this whole time|4|\t2\n",
        "slips into loss after unsafe and hazardous for|\t3\t|2\n",
        "TY for the follow Go To BRUTALLY ABUSED+DESOLATE&amp;LOST + HER LOVELY MUM DIES..Is it Murder?|\t2|\t2\n",
        "The Prophet (peace be upon him) said 'Save yourself from Hellfire even if it is by giving half a date in charity.'|\t6\t|2\n",
        "To fight bioterrorism sir.|\t4\t|2\n",
        "Angry Woman Openly Accuses NEMA Of Stealing Relief Materials Meant For IDPs: An angry Internally Displaced wom...|\t3|\t2\n",
        "describes piling up thinking it would last as the description of the people of in Surah Humaza.\t|3|\t2\n",
        "Sassy city girl country hunk stranded in Smoky Mountain snowstorm|\t3|\t2\n",
        "\n",
        "Los registros contradictorios fueron eliminados, pasando de tener 7613 a 7368 filas. "
      ]
    },
    {
      "cell_type": "markdown",
      "metadata": {
        "id": "--fvb50eu8Xh",
        "colab_type": "text"
      },
      "source": [
        "#### **Tratamiento _null values_**\n",
        "\n",
        "Por otro lado, hemos reemplazado los _null values_ de las columnas `keyword` y `location` por 'no_keyword' y 'no_location' respectivamente, para no perder ni filas ni columnas. "
      ]
    },
    {
      "cell_type": "markdown",
      "metadata": {
        "id": "2JFJ0qI3iXD_",
        "colab_type": "text"
      },
      "source": [
        "### **Nuevas variables creadas** (corregir)\n",
        "\n",
        "Hemos creado nuevas variables a partir de la variable `text`: \n",
        "\n",
        ">-`tweet_len`: cantidad de caracteres que posee cada tweet. \n",
        "\n",
        ">-`list_words`: hemos obtenido una lista de _strings_ para cada tweet. Y de esa variable hemos deducido otras como: \n",
        "\n",
        ">>-`words_count`: cantidad de palabras de cada tweet. \n",
        "\n",
        ">>>-`avg_characters_per_word`: es el cociente entre `words_count` y `tweet_len`\n",
        "\n",
        ">>-`hashtag`: hemos obtenido los hashtags de cada tweet.\n",
        "\n",
        ">>-`words_freq`: calculamos la frecuencia que tiene cada palabra. \n",
        "\n",
        "Para más información ver [aquí](poner link al repo)  "
      ]
    },
    {
      "cell_type": "markdown",
      "metadata": {
        "id": "clIF73AhtsLG",
        "colab_type": "text"
      },
      "source": [
        "## **Proporción de Target Real y No Real**\n",
        "\n",
        "La variable `target` está distribuida de la siguiente forma en el _dataset_ de entrenamiento. \n",
        "\n",
        "![Bar Chart - Cantidad de Tweets por Target](https://drive.google.com/uc?id=1xIAFSh3PyCGB1Z0pRFbykBULTl8IyJFH)\n",
        "\n",
        "![Pie Chart - Porcentaje de Tweets por Target](https://drive.google.com/uc?id=1r7NAc0aH19QOXHxXlwMrrMaO3Z2cl1ng)\n"
      ]
    },
    {
      "cell_type": "markdown",
      "metadata": {
        "id": "-JuRmiE5mkGh",
        "colab_type": "text"
      },
      "source": [
        "### **Analizando `keyword`**\n",
        "\n",
        "La palabra clave es cargada por el usuario de Twitter al momento del post. Sirve para relacionar un tweet con un concepto y facilita que el motor de búsqueda de Twitter devuelva dicho post si alguien realiza una búsqueda utilizando dicha palabra clave. \n",
        "\n",
        "Si bien la elección del 'keyword' por parte del usuario puede guardar algún tipo de relación con el texto del tweet, no se puede asegurar que eso suceda ya que dicha elección es a _priori_ arbitraria. \n",
        "\n",
        "La variable en análisis puede presentarse como una única palabra o como una conjunción de más de una. \n",
        "\n",
        "Los _unique values_ son el 2.92% del total de registros de dicha variable. En la siguiente tabla podemos ver las palabras que más se repiten y las que menos, sin tomar en cuenta el valor 'no_keyword'.  \n",
        "\n",
        "keyword|Frecuencia absoluta\n",
        "---|---|\n",
        "fatalities |              45\n",
        "deluge      |             42\n",
        "armageddon   |            42\n",
        "harm          |           41\n",
        "..|                         ..\n",
        "forest%20fire     |       19\n",
        "epicentre     |           12\n",
        "threat        |           11\n",
        "inundation    |           10\n",
        "radiation%20emergency |    9\n",
        "\n",
        "A su vez, el valor 'no_keyword' aparece 61 veces en la muestra, pero a los fines de saber cuáles son las palabras o conceptos que los tweets están volcando, el valor 'no_keyword' no aporta información valiosa. \n",
        "\n",
        "#### **`keyword` por `target`**\n",
        "\n",
        "Agrupando por `keyword` obtenemos la proporción de registros que tienen un valor de `target` igual a 1 y calculamos el porcentaje sobre el total de registros para ese valor de `keyword`. De las 222 keywords hemos seleccionado las 25 con porcentaje más alto y las 25 con porcentaje más bajo. \n",
        "\n",
        "![Horizontal Bar Chart: Top 25 Keywords Frecuentes por Target](https://drive.google.com/uc?id=1rl4_gsGLuY1al6EJcH-oo-Q7Yr2ANN4e)\n",
        "\n",
        "En la figura de la izquierda, se observan keywords referentes a desastres naturales (_drought, forest fire, violent storm) o edilicios (bridge collapse, buildings on fire_). También se encuentran tragedias mortales (_mass murder, airplane accident, nuclear disaster, suicide bombing_). Otros keywords incluyen lenguaje de noticias (_casualties, evacuated, rescuers_).\n",
        "\n",
        "En la figura de la derecha, su mayoría se trata de palabras que servirían para describir tragedias pero que a su vez pueden usarse en muchos otros contextos. Un ejemplo de esto es el keyword \"body bag\", con un porcentaje de targets Reales menor al 5%. El término por si solo sonaría alarmante, pero veamos las acepciones de la palabra:\n",
        "\n",
        "1.   Bolsa para guardar cadáveres\n",
        "2.   Una clase de cartera/mochila\n",
        "3.   Según *Urban Dictionary*, \"To boddybag an oponent\" es asegurar la victoria sobre el oponente (algo así como \"kick ass\"), es un slang muy utilizado en las batallas de rap.\n",
        "4.   Otra acepción de *Urban Dictionary*, \"Bodybagging\" es robarle un chiste a otro comediante y hacerlo pasar como propio. \n",
        "\n",
        "#### **Frecuencia de Frecuencias** \n",
        "\n",
        "Por otro lado es llamativo observar la frecuencia de las frecuencias, es decir, cuántas veces se repiten ciertas frecuencias. La mayor parte de las `keyword` se repiten entre 30 y 40 veces. \n",
        "\n",
        "![Frecuencia de Frecuencias](https://drive.google.com/uc?id=1IpUAmYu1HgDe7qnnm84sBnMKzvaf6CJ_)\n",
        "\n",
        "El 88,57% de los registros posee un valor de `keyword` que se encuentra dentro del grupo de las `keyword` que se repiten entre 30 y 40 veces. De las 222 keywords, 192 se repiten entre 30 y 40 veces. \n",
        "\n",
        "Observamos que no hay relación entre la cantidad de apariciones de un `keyword` y el porcentage de veracidad de dicho keyword, calculado éste como la media del `target` para cada keyword. \n",
        "\n",
        "![Sctatter plot: Relación entre el porcentaje de veracidad y frecuencia del `keyword` ](https://drive.google.com/uc?id=13CcSoLQG1Hwu4ToR9vZcj5x3eWAab9g5)\n",
        "\n",
        "Lo mismo muestra la matriz de correlaciones. \n",
        "\n",
        "corr|percentage|\tcount\n",
        "---|---|---\n",
        "percentage|\t1.00|\t0.08\n",
        "count\t|0.08|\t1.00\n",
        "\n",
        "\n"
      ]
    }
  ]
}