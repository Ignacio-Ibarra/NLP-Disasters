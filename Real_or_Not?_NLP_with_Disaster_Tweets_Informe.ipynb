{
  "nbformat": 4,
  "nbformat_minor": 0,
  "metadata": {
    "colab": {
      "name": "Real or Not? - NLP with Disaster Tweets - Informe.ipynb",
      "provenance": [],
      "collapsed_sections": [],
      "authorship_tag": "ABX9TyMJxn6igKkPp86RyMh7Adtx",
      "include_colab_link": true
    },
    "kernelspec": {
      "name": "python3",
      "display_name": "Python 3"
    }
  },
  "cells": [
    {
      "cell_type": "markdown",
      "metadata": {
        "id": "view-in-github",
        "colab_type": "text"
      },
      "source": [
        "<a href=\"https://colab.research.google.com/github/Ignacio-Ibarra/NLP-Disasters/blob/master/Real_or_Not%3F_NLP_with_Disaster_Tweets_Informe.ipynb\" target=\"_parent\"><img src=\"https://colab.research.google.com/assets/colab-badge.svg\" alt=\"Open In Colab\"/></a>"
      ]
    },
    {
      "cell_type": "markdown",
      "metadata": {
        "id": "wRAmuBkydUYh",
        "colab_type": "text"
      },
      "source": [
        "# **Real or Not? NLP with Disaster Tweets**"
      ]
    },
    {
      "cell_type": "markdown",
      "metadata": {
        "id": "OGY1eOl-dgNY",
        "colab_type": "text"
      },
      "source": [
        "### **Autores**: Alejandra Toscano - Diego Sanchez - Erik Cirilo - Ignacio Ibarra"
      ]
    },
    {
      "cell_type": "markdown",
      "metadata": {
        "id": "xv8GPg0HRtjI",
        "colab_type": "text"
      },
      "source": [
        "## **Introducción** \n",
        "\n",
        "Esta es un trabajo práctico realizado para la materia 7506 - Organización de Datos de la Facultad de Ingniería de la Universidad de Buenos Aires. Se trata de una competencia lanzada en la plataforma Kaggle (ver [aquí](https://www.kaggle.com/c/nlp-getting-started)), la cual consiste en predecir si un tweet nos está hablando de una desastre o no, implementando técnicas de _natural language processing_ (NLP).   \n",
        "\n",
        "Para ello contamos con un _dataset_ de entrenamiento y otro para testear nuestro modelo de _machine learning._ \n",
        "\n",
        "Este trabajo consta de dos entregas: \n",
        "\n",
        "* **Primera parte: Análisis Exploratorio de los Datos**\n",
        "\n",
        ">El principal objetivo de esta parte es hallar algunos _insights_ mediante visualizaciones de las distintas relaciones entre las variables. Este trabajo se realizará sobre el _dataset_ de entrenamiento. Las variables presentes en el mismo son: \n",
        "\n",
        "  >- `id` : una identificación única de cada una de las observaciones\n",
        "  \n",
        "  >-  `keyword`: es una palabra que el usuario de Twitter puede cargar al momento de postear un tweet con el objetivo de asociar el texto a dicha palabra o concepto. Podría ser totalmente arbitraria la elección del _keyword_\n",
        "\n",
        "  >- `location`: el usuario también puede cargar la locación desde dónde realiza el posteo. También es arbitraria dicha elección porque no se carga desde la locación del GPS. \n",
        "\n",
        "  >- `text`: es el texto del tweet. \n",
        "\n",
        "  >- `target`: es una variable binaria que toma valor 1 cuando el tweet corresponde con un desastre y 0 cuando no. \n",
        "\n",
        "* **Segunda parte: Modelo de machine learning basado en NLP** \n",
        "\n",
        ">El objetivo de esta segunda parte es desarrollar un modelo que luego de ser probado en la base de entrenamiento podamos utilizarlo para predecir la variable target. "
      ]
    },
    {
      "cell_type": "markdown",
      "metadata": {
        "id": "Qqru32v6eJJz",
        "colab_type": "text"
      },
      "source": [
        "## **Pre-procesamiento**\n",
        "\n"
      ]
    },
    {
      "cell_type": "markdown",
      "metadata": {
        "id": "L3oqZuW-ep-O",
        "colab_type": "text"
      },
      "source": [
        "### **Limpieza del dataset** \n",
        "\n"
      ]
    },
    {
      "cell_type": "markdown",
      "metadata": {
        "id": "cUEDG7Gsuy-z",
        "colab_type": "text"
      },
      "source": [
        "#### **Limpieza variable `text`**\n",
        "\n",
        "Para trabajar con más claridad con esta variable hemos eliminado las url, los _hashtags_, las _mentions_ del texto de cada tweet, esto nos permitirá luego hacer un mejor análisis sobre los \"duplicados\". \n",
        "\n",
        "#### **Registros duplicados**\n",
        "\n",
        "En primer lugar comprobamos que dado que el id es una clave única no hay filas duplicadas. \n",
        "\n",
        "Sin embargo, lo que cuenta es definir también un criterio para contabilizar valores como 'duplicados'. Para ello hemos redefinido la variable `text` como una variable que alberga sólo oraciones (sin url, _hashtags_, _mentions_)  y hemos considerado los repetidos sin tener en cuenta el `id`. No se consideraron diferencias en la puntuación.  \n",
        " \n",
        "De esta manera comprobamos que para un mismo texto había dos o más filas que tenían distinto valor de `target`. Como se ve en la siguiente tabla, la columna 'number_of_uniques' indica cuántos valores distintos en la columna `target` tiene dicho texto, viendo sólo los primeros 15 casos ordenados por la cantidad de repeticiones de manera descendente. \n",
        "\n",
        "clean_text|count|number_of_uniques\n",
        "---|:---:|:---:|\t\t\n",
        "watch this airport get swallowed up by a sandstorm in under a minute |24|\t1\n",
        "wreckage 'conclusively confirmed' as from mh370: malaysia pm: investigators and the families of those who were...\t|20|\t1\n",
        "families to sue over legionnaires: more than 40 families affected by the fatal outbreak of legionnaires' disea...\t|19|\t1\n",
        "funtenna: hijacking computers to send data as sound waves [black hat 2015]\t|17|\t2\n",
        "christian attacked by muslims at the temple mount after waving israeli flag via pamela geller - ...\t|15|\t1\n",
        "obama declares disaster for typhoon-devastated saipan: obama signs disaster declaration for northern marians a...\t|13\t|1\n",
        "the latest: more homes razed by northern california wildfire - abc news\t|13|\t1\n",
        "11-year-old boy charged with manslaughter of toddler: report: an 11-year-old boy has been charged with manslaughter over the fatal sh...\t|10|\t1\n",
        "70 years after atomic bombs japan still struggles with war past: the anniversary of the devastation wrought b...\t|9|\t1\n",
        "refugio oil spill may have been costlier bigger than projected\t|9|\t1\n",
        "the latest: more homes razed by northern california wildfire -\t|9|\t1\n",
        "c-130 specially modified to land in a stadium and rescue hostages in iran in 1980\t|8|\t2\n",
        "u.s national park services tonto national forest: stop the annihilation of the salt river wild horse... via\t|8|\t2\n",
        "twelve feared killed in pakistani air ambulance helicopter crash\t|8|\t1\n",
        "rly tragedy in mp: some live to recount horror: ûïwhen i saw coaches of my train plunging into water i called ...\t|8|\t1\n",
        "\n",
        "\n",
        "Que la variable `text` tenga repetidos puede ser por múltiples razones. Puede deberse a un mal trabajo de data-entry. También puede que haya distintos usuarios copiando y pegando el mismo texto. Es decir, no es del todo claro si corresponde borrarlos o no, básicamente porque no conocemos bien cómo se ha armando el _train set_. \n",
        "\n",
        "Dado que los textos repetidos pueden llegar a ser un problema en nuestro modelo: tendremos que tener en consideración dos modelos uno que trabaje con estos textos duplicados y otro que trabaje sin los textos duplicados.\n",
        "\n",
        "No quedan dudas con respecto a los registros que tienen `target` contradictorio. Esto fueron eliminados, pasando de tener 7613 a 7364 filas. "
      ]
    },
    {
      "cell_type": "markdown",
      "metadata": {
        "id": "--fvb50eu8Xh",
        "colab_type": "text"
      },
      "source": [
        "#### **Tratamiento _null values_**\n",
        "\n",
        "Por otro lado, hemos reemplazado los _null values_ de las columnas `keyword` (61) y `location` (2533) por 'no_keyword' y 'no_location' respectivamente, para no perder ni filas ni columnas. "
      ]
    },
    {
      "cell_type": "markdown",
      "metadata": {
        "id": "clIF73AhtsLG",
        "colab_type": "text"
      },
      "source": [
        "## **Proporción de Target Real y No Real**\n",
        "\n",
        "La variable `target` está distribuida de la siguiente forma en el _dataset_ de entrenamiento. \n",
        "\n",
        "![Bar Chart - Cantidad de Tweets por Target](https://drive.google.com/uc?id=1xIAFSh3PyCGB1Z0pRFbykBULTl8IyJFH)\n",
        "\n",
        "![Pie Chart - Porcentaje de Tweets por Target](https://drive.google.com/uc?id=1r7NAc0aH19QOXHxXlwMrrMaO3Z2cl1ng)\n"
      ]
    },
    {
      "cell_type": "markdown",
      "metadata": {
        "id": "-JuRmiE5mkGh",
        "colab_type": "text"
      },
      "source": [
        "### **Analizando `keyword`**\n",
        "\n",
        "La palabra clave es cargada por el usuario de Twitter al momento del post. Sirve para relacionar un tweet con un concepto y facilita que el motor de búsqueda de Twitter devuelva dicho post si alguien realiza una búsqueda utilizando dicha palabra clave. \n",
        "\n",
        "Si bien la elección del 'keyword' por parte del usuario puede guardar algún tipo de relación con el texto del tweet, no se puede asegurar que eso suceda ya que dicha elección es a _priori_ arbitraria. \n",
        "\n",
        "La variable en análisis puede presentarse como una única palabra o como una conjunción de más de una. \n",
        "\n",
        "Los _unique values_ son el 2.92% del total de registros de dicha variable. En la siguiente tabla podemos ver las palabras que más se repiten y las que menos, sin tomar en cuenta el valor 'no_keyword'.  \n",
        "\n",
        "keyword|Frecuencia absoluta\n",
        "---|---|\n",
        "fatalities |              45\n",
        "deluge      |             42\n",
        "armageddon   |            42\n",
        "harm          |           41\n",
        "..|                         ..\n",
        "forest%20fire     |       19\n",
        "epicentre     |           12\n",
        "threat        |           11\n",
        "inundation    |           10\n",
        "radiation%20emergency |    9\n",
        "\n",
        "A su vez, el valor 'no_keyword' aparece 61 veces en la muestra, pero a los fines de saber cuáles son las palabras o conceptos que los tweets están volcando, el valor 'no_keyword' no aporta información valiosa. \n",
        "\n",
        "#### **`keyword` por `target`**\n",
        "\n",
        "Agrupando por `keyword` obtenemos la proporción de registros que tienen un valor de `target` igual a 1 y calculamos el porcentaje de \"veracidad\" sobre el total de registros para ese valor de `keyword`. El porcentaje de veracidad no es más que la media por 100. De las 222 keywords hemos seleccionado las 25 con porcentaje más alto y las 25 con porcentaje más bajo. \n",
        "\n",
        "![Horizontal Bar Chart: Top 25 Keywords Frecuentes por Target](https://drive.google.com/uc?id=1dguMuchm5IN8vV3JwbW5sCAVJTevI8p4)\n",
        "\n",
        "En la figura de la izquierda, se observan keywords referentes a desastres naturales (_drought, forest fire, violent storm) o edilicios (bridge collapse, buildings on fire_). También se encuentran tragedias mortales (_mass murder, airplane accident, nuclear disaster, suicide bombing_). Otros keywords incluyen lenguaje de noticias (_casualties, evacuated, rescuers_).\n",
        "\n",
        "En la figura de la derecha, su mayoría se trata de palabras que servirían para describir tragedias pero que a su vez pueden usarse en muchos otros contextos. Un ejemplo de esto es el keyword \"body bag\", con un porcentaje de targets Reales menor al 5%. El término por si solo sonaría alarmante, pero veamos las acepciones de la palabra:\n",
        "\n",
        "1.   Bolsa para guardar cadáveres\n",
        "2.   Una clase de cartera/mochila\n",
        "3.   Según *Urban Dictionary*, \"To boddybag an oponent\" es asegurar la victoria sobre el oponente (algo así como \"kick ass\"), es un slang muy utilizado en las batallas de rap.\n",
        "4.   Otra acepción de *Urban Dictionary*, \"Bodybagging\" es robarle un chiste a otro comediante y hacerlo pasar como propio. \n",
        "\n",
        "#### **¿Hay alguna relación entre la frecuencia del `keyword` y el porcentaje de veracidad?** \n",
        "\n",
        "Nos preguntamos si las keyword que tienen un porcentaje de veracidad más elevado tienen a su vez una frecuencia más alta. \n",
        "\n",
        "Observamos que la relación entre la cantidad de apariciones de un `keyword` y el porcentage de veracidad de dicho keyword es débil. Como lo muestra la dispersión de puntos de manera horizontal. \n",
        "\n",
        "![Sctatter plot: Relación entre el porcentaje de veracidad y frecuencia del `keyword` ](https://drive.google.com/uc?id=13CcSoLQG1Hwu4ToR9vZcj5x3eWAab9g5)\n",
        "\n",
        "Lo mismo muestra la matriz de correlaciones, con valores cercanos a cero. \n",
        "\n",
        "corr|percentage|\tcount\n",
        "---|---|---\n",
        "percentage|\t1.00|\t0.08\n",
        "count\t|0.08|\t1.00\n",
        "\n",
        "#### **¿Hay keywords distintas para un mismo texto?**\n",
        "\n",
        "Agrupando los datos por `clean_text` (variable que creamos para analizar los duplicados) vimos que existen 29 casos en los que hay dos `keyword` distintas por cada `texto`. Esto implicaría o bien que hay conexiones entre las `keyword` o bien que son errores de data-entry. (FALTA DESCRIBIR CUALES SON LAS KEYWORDS CONECTADAS) \n",
        "\n",
        "\n",
        "\n"
      ]
    },
    {
      "cell_type": "markdown",
      "metadata": {
        "id": "6kqLNLZZXQaZ",
        "colab_type": "text"
      },
      "source": [
        "### **Analizando `location`**\n",
        "\n",
        "#### **Distribución**\n",
        "\n",
        "\n",
        "\n",
        "\n"
      ]
    }
  ]
}