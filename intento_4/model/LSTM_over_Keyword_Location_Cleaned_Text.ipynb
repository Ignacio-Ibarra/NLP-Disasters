{
  "nbformat": 4,
  "nbformat_minor": 0,
  "metadata": {
    "colab": {
      "name": "LSTM over Keyword-Location-Cleaned_Text.ipynb",
      "provenance": [],
      "collapsed_sections": [],
      "authorship_tag": "ABX9TyMHYy98eBgD+Dg/RngVpFMh",
      "include_colab_link": true
    },
    "kernelspec": {
      "name": "python3",
      "display_name": "Python 3"
    }
  },
  "cells": [
    {
      "cell_type": "markdown",
      "metadata": {
        "id": "view-in-github",
        "colab_type": "text"
      },
      "source": [
        "<a href=\"https://colab.research.google.com/github/Ignacio-Ibarra/NLP-Disasters/blob/intento_4/intento_4/model/LSTM_over_Keyword_Location_Cleaned_Text.ipynb\" target=\"_parent\"><img src=\"https://colab.research.google.com/assets/colab-badge.svg\" alt=\"Open In Colab\"/></a>"
      ]
    },
    {
      "cell_type": "code",
      "metadata": {
        "id": "KgRLlP2Np0Wv",
        "colab_type": "code",
        "colab": {}
      },
      "source": [
        ""
      ],
      "execution_count": null,
      "outputs": []
    },
    {
      "cell_type": "markdown",
      "metadata": {
        "id": "fg9rYtXU6jFF",
        "colab_type": "text"
      },
      "source": [
        "# Libraries"
      ]
    },
    {
      "cell_type": "code",
      "metadata": {
        "id": "ZmfYhcuPgmvn",
        "colab_type": "code",
        "colab": {}
      },
      "source": [
        "from keras.preprocessing.text import Tokenizer\n",
        "from keras.preprocessing.sequence import pad_sequences\n",
        "from keras.preprocessing import sequence\n",
        "import pandas as pd\n",
        "import numpy as np\n",
        "import matplotlib.pyplot as plt\n",
        "%matplotlib inline"
      ],
      "execution_count": null,
      "outputs": []
    },
    {
      "cell_type": "markdown",
      "metadata": {
        "id": "yTgjv7q4k4JS",
        "colab_type": "text"
      },
      "source": [
        "# Reading CSV files"
      ]
    },
    {
      "cell_type": "code",
      "metadata": {
        "id": "nS76xTlGgijN",
        "colab_type": "code",
        "colab": {}
      },
      "source": [
        "x_train = pd.read_csv(r'https://raw.githubusercontent.com/Ignacio-Ibarra/NLP-Disasters/intento_4/intento_4/csv/x_train_cleaned.csv', \n",
        "                    usecols = ['text_cleaned','location_cleaned','keyword_cleaned'])\n",
        "x_test = pd.read_csv(r'https://raw.githubusercontent.com/Ignacio-Ibarra/NLP-Disasters/intento_4/intento_4/csv/x_test_cleaned.csv',\n",
        "                    usecols = ['text_cleaned','location_cleaned','keyword_cleaned'])\n",
        "id_test = pd.read_csv(r'https://raw.githubusercontent.com/Ignacio-Ibarra/NLP-Disasters/intento_4/intento_4/csv/x_test_cleaned.csv',\n",
        "                    usecols = ['id'])\n",
        "y_train = pd.read_csv(r'https://raw.githubusercontent.com/Ignacio-Ibarra/NLP-Disasters/intento_4/intento_4/csv/y_train_cleaned.csv')"
      ],
      "execution_count": null,
      "outputs": []
    },
    {
      "cell_type": "code",
      "metadata": {
        "id": "Sflp5rdVhWom",
        "colab_type": "code",
        "colab": {
          "base_uri": "https://localhost:8080/",
          "height": 34
        },
        "outputId": "c28d3154-3049-4ab2-86b7-4786816c7a64"
      },
      "source": [
        "len(x_train) "
      ],
      "execution_count": null,
      "outputs": [
        {
          "output_type": "execute_result",
          "data": {
            "text/plain": [
              "6879"
            ]
          },
          "metadata": {
            "tags": []
          },
          "execution_count": 3
        }
      ]
    },
    {
      "cell_type": "code",
      "metadata": {
        "id": "MJSl2nZZ4fIh",
        "colab_type": "code",
        "colab": {}
      },
      "source": [
        "x_train['text_cleaned'] = x_train['text_cleaned'].apply(lambda x: \" \".join([str(i) for i in str(x).split()]))\n",
        "x_train['keyword_cleaned'] = x_train['keyword_cleaned'].apply(lambda x: \" \".join([str(i) for i in str(x).split()]))\n",
        "x_train['location_cleaned'] = x_train['location_cleaned'].apply(lambda x: \" \".join([str(i) for i in str(x).split()]))\n",
        "\n",
        "x_test['text_cleaned'] = x_test['text_cleaned'].apply(lambda x: \" \".join([str(i) for i in str(x).split()]))\n",
        "x_test['keyword_cleaned'] = x_test['keyword_cleaned'].apply(lambda x: \" \".join([str(i) for i in str(x).split()]))\n",
        "x_test['location_cleaned'] = x_test['location_cleaned'].apply(lambda x: \" \".join([str(i) for i in str(x).split()]))"
      ],
      "execution_count": null,
      "outputs": []
    },
    {
      "cell_type": "markdown",
      "metadata": {
        "id": "NiWrqWjIk_rK",
        "colab_type": "text"
      },
      "source": [
        "# Tokenizer"
      ]
    },
    {
      "cell_type": "code",
      "metadata": {
        "id": "5OszUwSYtNWZ",
        "colab_type": "code",
        "colab": {
          "base_uri": "https://localhost:8080/",
          "height": 123
        },
        "outputId": "8e33bdb6-41ef-4892-c511-7854438e4251"
      },
      "source": [
        "pd.set_option('max_colwidth', 200)\n",
        "(x_train['text_cleaned'] + (' ') + x_train['keyword_cleaned'] + (' ') + x_train['location_cleaned']).head()"
      ],
      "execution_count": null,
      "outputs": [
        {
          "output_type": "execute_result",
          "data": {
            "text/plain": [
              "0                                                deeds reason earthquake may allah forgive us keyword location\n",
              "1                                                        forest fire near la range ask canada keyword location\n",
              "2    residents asked shelter place notified officers evacuation shelter place orders expected keyword location\n",
              "3                                  13000 people receive wildfire evacuation orders california keyword location\n",
              "4                                      got sent photo ruby alaska smoke wildfire pours school keyword location\n",
              "dtype: object"
            ]
          },
          "metadata": {
            "tags": []
          },
          "execution_count": 5
        }
      ]
    },
    {
      "cell_type": "markdown",
      "metadata": {
        "id": "acLGHaLlzErC",
        "colab_type": "text"
      },
      "source": [
        "## Instantiating the Tokenizer"
      ]
    },
    {
      "cell_type": "code",
      "metadata": {
        "id": "OnF92Z8dztyS",
        "colab_type": "code",
        "colab": {}
      },
      "source": [
        "#Top word is the quantity of differents words that our word_index will have. \n",
        "top_word = 35000"
      ],
      "execution_count": null,
      "outputs": []
    },
    {
      "cell_type": "code",
      "metadata": {
        "id": "T9f3bgFxg7CD",
        "colab_type": "code",
        "colab": {}
      },
      "source": [
        "#Here we instantiate the tokenizer\n",
        "tokenizer = Tokenizer(num_words=top_word)\n",
        "\n",
        "#Here we make the fit we three features that are strings\n",
        "tokenizer.fit_on_texts((x_train['text_cleaned'] + (' ') + x_train['keyword_cleaned'] + (' ') + x_train['location_cleaned']))"
      ],
      "execution_count": null,
      "outputs": []
    },
    {
      "cell_type": "markdown",
      "metadata": {
        "id": "YhWZc6pCzzSa",
        "colab_type": "text"
      },
      "source": [
        "## Text to sequences of word_indexes"
      ]
    },
    {
      "cell_type": "markdown",
      "metadata": {
        "id": "WqXyZEemzVzs",
        "colab_type": "text"
      },
      "source": [
        "Converting the text into a sequence of integers, all of them are indexes of the tokenizer.word_index"
      ]
    },
    {
      "cell_type": "code",
      "metadata": {
        "id": "YI9rgZd6yOJW",
        "colab_type": "code",
        "colab": {}
      },
      "source": [
        "#Training set to sequence\n",
        "x_train_txt = tokenizer.texts_to_sequences(x_train['text_cleaned'])\n",
        "x_train_key = tokenizer.texts_to_sequences(x_train['keyword_cleaned'])\n",
        "x_train_loc = tokenizer.texts_to_sequences(x_train['location_cleaned'])\n",
        "\n",
        "#Test set to sequence\n",
        "x_test_txt = tokenizer.texts_to_sequences(x_test['text_cleaned'])\n",
        "x_test_key = tokenizer.texts_to_sequences(x_test['keyword_cleaned'])\n",
        "x_test_loc = tokenizer.texts_to_sequences(x_test['location_cleaned'])\n"
      ],
      "execution_count": null,
      "outputs": []
    },
    {
      "cell_type": "markdown",
      "metadata": {
        "id": "8XWho2Vi0cBl",
        "colab_type": "text"
      },
      "source": [
        "## Padding sequence"
      ]
    },
    {
      "cell_type": "markdown",
      "metadata": {
        "id": "d7y2yRFD0gNA",
        "colab_type": "text"
      },
      "source": [
        "We add zeros into each sequence unitl complete a maximum of lenght"
      ]
    },
    {
      "cell_type": "code",
      "metadata": {
        "id": "N0x1TpDY1Zlq",
        "colab_type": "code",
        "colab": {
          "base_uri": "https://localhost:8080/",
          "height": 87
        },
        "outputId": "b10fdb58-54fc-4e24-877c-b9a332e718d6"
      },
      "source": [
        "#MAXLEN for text, location and keyword\n",
        "max_words_txt = max([len(x) for x in x_train_txt]) + 1\n",
        "max_words_key = max([len(x) for x in x_train_key]) + 1\n",
        "max_words_loc = max([len(x) for x in x_train_loc]) + 1\n",
        "\n",
        "print(\"top_word: \", str(top_word))\n",
        "print(\"max_words: \", str(max_words_txt))\n",
        "print(\"max_words_ky: \", str(max_words_key))\n",
        "print(\"max_words_lc: \", str(max_words_loc))"
      ],
      "execution_count": null,
      "outputs": [
        {
          "output_type": "stream",
          "text": [
            "top_word:  35000\n",
            "max_words:  25\n",
            "max_words_ky:  4\n",
            "max_words_lc:  8\n"
          ],
          "name": "stdout"
        }
      ]
    },
    {
      "cell_type": "code",
      "metadata": {
        "id": "ig1DpbgL3RKy",
        "colab_type": "code",
        "colab": {
          "base_uri": "https://localhost:8080/",
          "height": 70
        },
        "outputId": "d52b2f7f-9963-48db-a070-e836d485e3d8"
      },
      "source": [
        "#Padding\n",
        "\n",
        "\n",
        "x_train_txt = sequence.pad_sequences(x_train_txt, maxlen=max_words_txt)\n",
        "x_train_key = sequence.pad_sequences(x_train_key, maxlen=max_words_key)\n",
        "x_train_loc = sequence.pad_sequences(x_train_loc, maxlen=max_words_loc)\n",
        "\n",
        "x_test_txt = sequence.pad_sequences(x_test_txt, maxlen=max_words_txt)\n",
        "x_test_key = sequence.pad_sequences(x_test_key, maxlen=max_words_key)\n",
        "x_test_loc = sequence.pad_sequences(x_test_loc, maxlen=max_words_loc)\n",
        "\n",
        "print(\"X_train_txt.shape: \", x_train_txt.shape)\n",
        "print(\"X_train_key.shape: \", x_train_key.shape)\n",
        "print(\"X_train_loc.shape: \", x_train_loc.shape)"
      ],
      "execution_count": null,
      "outputs": [
        {
          "output_type": "stream",
          "text": [
            "X_train_txt.shape:  (6879, 25)\n",
            "X_train_key.shape:  (6879, 4)\n",
            "X_train_loc.shape:  (6879, 8)\n"
          ],
          "name": "stdout"
        }
      ]
    },
    {
      "cell_type": "markdown",
      "metadata": {
        "id": "EYSoOqDWlGwK",
        "colab_type": "text"
      },
      "source": [
        "# y_train to_categorical"
      ]
    },
    {
      "cell_type": "code",
      "metadata": {
        "id": "F42OTM5Yj-3F",
        "colab_type": "code",
        "colab": {
          "base_uri": "https://localhost:8080/",
          "height": 34
        },
        "outputId": "d5920351-f450-43ef-8103-edbf0d5ff8f2"
      },
      "source": [
        "# One-hot category\n",
        "from keras.utils import to_categorical\n",
        "y_train = to_categorical(y_train)\n",
        "print(\"y_train.shape: \", y_train.shape)"
      ],
      "execution_count": null,
      "outputs": [
        {
          "output_type": "stream",
          "text": [
            "y_train.shape:  (6879, 2)\n"
          ],
          "name": "stdout"
        }
      ]
    },
    {
      "cell_type": "markdown",
      "metadata": {
        "id": "HeMD42LLhlTJ",
        "colab_type": "text"
      },
      "source": [
        "## Loading word embedding file\n",
        "\n",
        "---\n",
        "\n"
      ]
    },
    {
      "cell_type": "code",
      "metadata": {
        "id": "Vs7hSCnqZt7-",
        "colab_type": "code",
        "colab": {
          "base_uri": "https://localhost:8080/",
          "height": 265
        },
        "outputId": "08720a90-7192-452e-bbe6-0b1cfe919c5c"
      },
      "source": [
        "#Installing PyDrive\n",
        "!pip install PyDrive"
      ],
      "execution_count": null,
      "outputs": [
        {
          "output_type": "stream",
          "text": [
            "Requirement already satisfied: PyDrive in /usr/local/lib/python3.6/dist-packages (1.3.1)\n",
            "Requirement already satisfied: google-api-python-client>=1.2 in /usr/local/lib/python3.6/dist-packages (from PyDrive) (1.7.12)\n",
            "Requirement already satisfied: oauth2client>=4.0.0 in /usr/local/lib/python3.6/dist-packages (from PyDrive) (4.1.3)\n",
            "Requirement already satisfied: PyYAML>=3.0 in /usr/local/lib/python3.6/dist-packages (from PyDrive) (3.13)\n",
            "Requirement already satisfied: httplib2<1dev,>=0.17.0 in /usr/local/lib/python3.6/dist-packages (from google-api-python-client>=1.2->PyDrive) (0.17.4)\n",
            "Requirement already satisfied: google-auth-httplib2>=0.0.3 in /usr/local/lib/python3.6/dist-packages (from google-api-python-client>=1.2->PyDrive) (0.0.4)\n",
            "Requirement already satisfied: six<2dev,>=1.6.1 in /usr/local/lib/python3.6/dist-packages (from google-api-python-client>=1.2->PyDrive) (1.15.0)\n",
            "Requirement already satisfied: google-auth>=1.4.1 in /usr/local/lib/python3.6/dist-packages (from google-api-python-client>=1.2->PyDrive) (1.17.2)\n",
            "Requirement already satisfied: uritemplate<4dev,>=3.0.0 in /usr/local/lib/python3.6/dist-packages (from google-api-python-client>=1.2->PyDrive) (3.0.1)\n",
            "Requirement already satisfied: pyasn1-modules>=0.0.5 in /usr/local/lib/python3.6/dist-packages (from oauth2client>=4.0.0->PyDrive) (0.2.8)\n",
            "Requirement already satisfied: rsa>=3.1.4 in /usr/local/lib/python3.6/dist-packages (from oauth2client>=4.0.0->PyDrive) (4.6)\n",
            "Requirement already satisfied: pyasn1>=0.1.7 in /usr/local/lib/python3.6/dist-packages (from oauth2client>=4.0.0->PyDrive) (0.4.8)\n",
            "Requirement already satisfied: setuptools>=40.3.0 in /usr/local/lib/python3.6/dist-packages (from google-auth>=1.4.1->google-api-python-client>=1.2->PyDrive) (49.2.0)\n",
            "Requirement already satisfied: cachetools<5.0,>=2.0.0 in /usr/local/lib/python3.6/dist-packages (from google-auth>=1.4.1->google-api-python-client>=1.2->PyDrive) (4.1.1)\n"
          ],
          "name": "stdout"
        }
      ]
    },
    {
      "cell_type": "code",
      "metadata": {
        "id": "eRclqajX71NJ",
        "colab_type": "code",
        "colab": {}
      },
      "source": [
        "#Importing modules\n",
        "from pydrive.auth import GoogleAuth\n",
        "from pydrive.drive import GoogleDrive\n",
        "from google.colab import auth\n",
        "from oauth2client.client import GoogleCredentials"
      ],
      "execution_count": null,
      "outputs": []
    },
    {
      "cell_type": "code",
      "metadata": {
        "id": "AZRrfStr7SnT",
        "colab_type": "code",
        "colab": {}
      },
      "source": [
        "#Authenticating and creating the PyDrive client (ACA TENES QUE ENTRAR AL LINK, ENTRAR CON TU CUENTA DE GMAIL, TE VA A DAR UN ID UNA VEZ QUE LE DES 'ALLOW' \n",
        "#Y LUEGO TENES QUE COPIAR EL ID EN EL CAMPO QUE TE VA A GENERAR EN ESTA CELDA)\n",
        "auth.authenticate_user()\n",
        "gauth = GoogleAuth()\n",
        "gauth.credentials = GoogleCredentials.get_application_default()\n",
        "drive = GoogleDrive(gauth)"
      ],
      "execution_count": null,
      "outputs": []
    },
    {
      "cell_type": "code",
      "metadata": {
        "id": "0z33WZr8C5XB",
        "colab_type": "code",
        "colab": {}
      },
      "source": [
        "#Getting the file\n",
        "downloaded2 = drive.CreateFile({'id':\"1LA2yR5TRNPQu2btbbFVVHMqcHsj3yCuS\"})   # replace the id with id of file you want to access\n",
        "downloaded2.GetContentFile('glove.twitter.27B.200d.txt')                             # replace the filename of file you want to access   "
      ],
      "execution_count": null,
      "outputs": []
    },
    {
      "cell_type": "code",
      "metadata": {
        "id": "mMwja2QLkZ99",
        "colab_type": "code",
        "colab": {}
      },
      "source": [
        "embeddings_dictionary = dict()\n",
        "glove_file = open('glove.twitter.27B.200d.txt', encoding=\"utf8\")"
      ],
      "execution_count": null,
      "outputs": []
    },
    {
      "cell_type": "code",
      "metadata": {
        "id": "IR-DYysrl80g",
        "colab_type": "code",
        "colab": {}
      },
      "source": [
        "from numpy import array\n",
        "from numpy import asarray\n",
        "from numpy import zeros\n",
        "\n",
        "for line in glove_file:\n",
        "    records = line.split()\n",
        "    word = records[0]\n",
        "    vector_dimensions = asarray(records[1:], dtype='float32')\n",
        "    \n",
        "    embeddings_dictionary [word] = vector_dimensions\n",
        "\n",
        "glove_file.close()"
      ],
      "execution_count": null,
      "outputs": []
    },
    {
      "cell_type": "code",
      "metadata": {
        "id": "b6LE4atAmAid",
        "colab_type": "code",
        "colab": {}
      },
      "source": [
        "embedding_dim = 200\n",
        "embedding_matrix = zeros((top_word, embedding_dim))\n",
        "for word, index in tokenizer.word_index.items():\n",
        "    embedding_vector = embeddings_dictionary.get(word)\n",
        "    if embedding_vector is not None:\n",
        "        embedding_matrix[index] = embedding_vector"
      ],
      "execution_count": null,
      "outputs": []
    },
    {
      "cell_type": "markdown",
      "metadata": {
        "id": "BxjIgytUm9gk",
        "colab_type": "text"
      },
      "source": [
        "# LSTM Model"
      ]
    },
    {
      "cell_type": "code",
      "metadata": {
        "id": "gWA8cx9DnA71",
        "colab_type": "code",
        "colab": {}
      },
      "source": [
        "from keras.models import Sequential\n",
        "from keras.models import Model\n",
        "from keras.layers import Dense, Dropout, Embedding, LSTM, Input, Conv2D, MaxPooling2D,Conv1D,MaxPooling1D\n",
        "from keras.layers import Bidirectional,  Reshape, Flatten, GRU\n",
        "from keras.layers.merge import concatenate"
      ],
      "execution_count": null,
      "outputs": []
    },
    {
      "cell_type": "markdown",
      "metadata": {
        "id": "zomaxM-IpwrY",
        "colab_type": "text"
      },
      "source": [
        "## Model 1 - Muy baja 'val_accuracy'[location, text, keyword] in Kaggle 0.79098"
      ]
    },
    {
      "cell_type": "code",
      "metadata": {
        "id": "6odO6k5MhoFj",
        "colab_type": "code",
        "colab": {
          "base_uri": "https://localhost:8080/",
          "height": 1000
        },
        "outputId": "16c4cb85-e3c3-424a-caf0-49b576cc2da1"
      },
      "source": [
        "# Defining the LSTM model 1\n",
        "\n",
        "input1 = Input(shape=(max_words_txt,))\n",
        "embedding_layer1 = Embedding(top_word, embedding_dim, weights=[embedding_matrix], input_length=max_words_txt, trainable=False)(input1)\n",
        "dropout1 = Dropout(0.2)(embedding_layer1)\n",
        "lstm1_1 = LSTM(128,return_sequences = True)(dropout1)\n",
        "lstm1_2 = LSTM(128,return_sequences = True)(lstm1_1)\n",
        "lstm1_2a = LSTM(128,return_sequences = True)(lstm1_2)\n",
        "lstm1_3 = LSTM(128)(lstm1_2a)\n",
        "\n",
        "input2 = Input(shape=(max_words_key,))\n",
        "embedding_layer2 = Embedding(top_word, embedding_dim, weights=[embedding_matrix], input_length=max_words_key, trainable=False)(input2)\n",
        "dropout2 = Dropout(0.2)(embedding_layer2)\n",
        "lstm2_1 = LSTM(64,return_sequences = True)(dropout2)\n",
        "lstm2_2 = LSTM(64,return_sequences = True)(lstm2_1)\n",
        "lstm2_3 = LSTM(64)(lstm2_2)\n",
        "\n",
        "input3 = Input(shape=(max_words_loc,))\n",
        "embedding_layer3 = Embedding(top_word, embedding_dim, weights=[embedding_matrix], input_length=max_words_loc, trainable=False)(input3)\n",
        "dropout3 = Dropout(0.2)(embedding_layer3)\n",
        "lstm3_1 = LSTM(32,return_sequences = True)(dropout3)\n",
        "lstm3_2 = LSTM(32,return_sequences = True)(lstm3_1)\n",
        "lstm3_3 = LSTM(32)(lstm3_2)\n",
        "\n",
        "merge = concatenate([lstm1_3, lstm2_3,lstm3_3])\n",
        "\n",
        "dropout = Dropout(0.8)(merge)\n",
        "dense1 = Dense(256, activation='relu')(dropout)\n",
        "dense2 = Dense(128, activation='relu')(dense1)\n",
        "output = Dense(2, activation='softmax')(dense2)\n",
        "model1 = Model(inputs=[input1,input2,input3], outputs=output)\n",
        "model1.summary()"
      ],
      "execution_count": null,
      "outputs": [
        {
          "output_type": "stream",
          "text": [
            "Model: \"model_3\"\n",
            "__________________________________________________________________________________________________\n",
            "Layer (type)                    Output Shape         Param #     Connected to                     \n",
            "==================================================================================================\n",
            "input_8 (InputLayer)            (None, 25)           0                                            \n",
            "__________________________________________________________________________________________________\n",
            "embedding_7 (Embedding)         (None, 25, 200)      7000000     input_8[0][0]                    \n",
            "__________________________________________________________________________________________________\n",
            "input_9 (InputLayer)            (None, 4)            0                                            \n",
            "__________________________________________________________________________________________________\n",
            "input_10 (InputLayer)           (None, 8)            0                                            \n",
            "__________________________________________________________________________________________________\n",
            "dropout_9 (Dropout)             (None, 25, 200)      0           embedding_7[0][0]                \n",
            "__________________________________________________________________________________________________\n",
            "embedding_8 (Embedding)         (None, 4, 200)       7000000     input_9[0][0]                    \n",
            "__________________________________________________________________________________________________\n",
            "embedding_9 (Embedding)         (None, 8, 200)       7000000     input_10[0][0]                   \n",
            "__________________________________________________________________________________________________\n",
            "lstm_21 (LSTM)                  (None, 25, 128)      168448      dropout_9[0][0]                  \n",
            "__________________________________________________________________________________________________\n",
            "dropout_10 (Dropout)            (None, 4, 200)       0           embedding_8[0][0]                \n",
            "__________________________________________________________________________________________________\n",
            "dropout_11 (Dropout)            (None, 8, 200)       0           embedding_9[0][0]                \n",
            "__________________________________________________________________________________________________\n",
            "lstm_22 (LSTM)                  (None, 25, 128)      131584      lstm_21[0][0]                    \n",
            "__________________________________________________________________________________________________\n",
            "lstm_25 (LSTM)                  (None, 4, 64)        67840       dropout_10[0][0]                 \n",
            "__________________________________________________________________________________________________\n",
            "lstm_28 (LSTM)                  (None, 8, 32)        29824       dropout_11[0][0]                 \n",
            "__________________________________________________________________________________________________\n",
            "lstm_23 (LSTM)                  (None, 25, 128)      131584      lstm_22[0][0]                    \n",
            "__________________________________________________________________________________________________\n",
            "lstm_26 (LSTM)                  (None, 4, 64)        33024       lstm_25[0][0]                    \n",
            "__________________________________________________________________________________________________\n",
            "lstm_29 (LSTM)                  (None, 8, 32)        8320        lstm_28[0][0]                    \n",
            "__________________________________________________________________________________________________\n",
            "lstm_24 (LSTM)                  (None, 128)          131584      lstm_23[0][0]                    \n",
            "__________________________________________________________________________________________________\n",
            "lstm_27 (LSTM)                  (None, 64)           33024       lstm_26[0][0]                    \n",
            "__________________________________________________________________________________________________\n",
            "lstm_30 (LSTM)                  (None, 32)           8320        lstm_29[0][0]                    \n",
            "__________________________________________________________________________________________________\n",
            "concatenate_3 (Concatenate)     (None, 224)          0           lstm_24[0][0]                    \n",
            "                                                                 lstm_27[0][0]                    \n",
            "                                                                 lstm_30[0][0]                    \n",
            "__________________________________________________________________________________________________\n",
            "dropout_12 (Dropout)            (None, 224)          0           concatenate_3[0][0]              \n",
            "__________________________________________________________________________________________________\n",
            "dense_7 (Dense)                 (None, 256)          57600       dropout_12[0][0]                 \n",
            "__________________________________________________________________________________________________\n",
            "dense_8 (Dense)                 (None, 128)          32896       dense_7[0][0]                    \n",
            "__________________________________________________________________________________________________\n",
            "dense_9 (Dense)                 (None, 2)            258         dense_8[0][0]                    \n",
            "==================================================================================================\n",
            "Total params: 21,834,306\n",
            "Trainable params: 834,306\n",
            "Non-trainable params: 21,000,000\n",
            "__________________________________________________________________________________________________\n"
          ],
          "name": "stdout"
        }
      ]
    },
    {
      "cell_type": "markdown",
      "metadata": {
        "id": "ROz4GYOG0Ext",
        "colab_type": "text"
      },
      "source": [
        "### Optimizer"
      ]
    },
    {
      "cell_type": "code",
      "metadata": {
        "id": "YfRT8N_qh-Si",
        "colab_type": "code",
        "colab": {}
      },
      "source": [
        "from keras.optimizers import Adam\n",
        "\n",
        "optimizer1 = Adam(lr = .0001, beta_1 = .9, beta_2 = .999, epsilon = 1e-10, decay = .0, amsgrad = False)\n",
        "model1.compile(loss=\"binary_crossentropy\", optimizer=optimizer1,\n",
        "              metrics=[\"accuracy\"])\n"
      ],
      "execution_count": null,
      "outputs": []
    },
    {
      "cell_type": "markdown",
      "metadata": {
        "id": "ygPgr54C0Hze",
        "colab_type": "text"
      },
      "source": [
        "### Training"
      ]
    },
    {
      "cell_type": "code",
      "metadata": {
        "id": "npv5TchGpC8J",
        "colab_type": "code",
        "colab": {
          "base_uri": "https://localhost:8080/",
          "height": 301
        },
        "outputId": "d17444bd-e84f-4674-ec01-a6c93e37d8d9"
      },
      "source": [
        "from keras.callbacks import EarlyStopping, ReduceLROnPlateau\n",
        "es = EarlyStopping(monitor='val_loss', mode='min',verbose=1, patience = 4)\n",
        "learning_rate_reduction = ReduceLROnPlateau(monitor = 'val_accuracy', patience = 2, verbose = 1, \n",
        "                                           factor = 0.5, min_lr = 1e-8, cooldown=1)\n",
        "\n",
        "prueba  = model1.fit([x_train_txt,x_train_key,x_train_loc], y_train, validation_split=0.2, epochs=20, batch_size=16, verbose=2, callbacks=[es, learning_rate_reduction])"
      ],
      "execution_count": null,
      "outputs": [
        {
          "output_type": "stream",
          "text": [
            "Train on 5503 samples, validate on 1376 samples\n",
            "Epoch 1/20\n",
            " - 49s - loss: 0.4351 - accuracy: 0.8094 - val_loss: 0.4488 - val_accuracy: 0.7958\n",
            "Epoch 2/20\n",
            " - 50s - loss: 0.4258 - accuracy: 0.8143 - val_loss: 0.4578 - val_accuracy: 0.7871\n",
            "Epoch 3/20\n",
            " - 50s - loss: 0.4163 - accuracy: 0.8196 - val_loss: 0.4582 - val_accuracy: 0.7958\n",
            "\n",
            "Epoch 00003: ReduceLROnPlateau reducing learning rate to 4.999999873689376e-05.\n",
            "Epoch 4/20\n",
            " - 50s - loss: 0.4083 - accuracy: 0.8243 - val_loss: 0.4514 - val_accuracy: 0.7900\n",
            "Epoch 5/20\n",
            " - 50s - loss: 0.4015 - accuracy: 0.8268 - val_loss: 0.4828 - val_accuracy: 0.7674\n",
            "\n",
            "Epoch 00005: ReduceLROnPlateau reducing learning rate to 2.499999936844688e-05.\n",
            "Epoch 00005: early stopping\n"
          ],
          "name": "stdout"
        }
      ]
    },
    {
      "cell_type": "markdown",
      "metadata": {
        "id": "EnvrBsUVrjGy",
        "colab_type": "text"
      },
      "source": [
        "### Plotting results"
      ]
    },
    {
      "cell_type": "code",
      "metadata": {
        "id": "avWQdMO1rmUP",
        "colab_type": "code",
        "colab": {}
      },
      "source": [
        "#Function to plot loss + accuracy in training and validation sets\n",
        "\n",
        "def result_eva (loss,val_loss,acc,val_acc):\n",
        "       \n",
        "    epochs = range(1,len(loss)+1)\n",
        "    plt.plot(epochs, loss,'b-o', label ='Training Loss')\n",
        "    plt.plot(epochs, val_loss,'r-o', label ='Validation Loss')\n",
        "    plt.title(\"Training and Validation Loss\")\n",
        "    plt.xlabel('Epochs')\n",
        "    plt.ylabel('Loss')\n",
        "    plt.legend()\n",
        "    plt.show()\n",
        "    \n",
        "    epochs = range(1, len(acc)+1)\n",
        "    plt.plot(epochs, acc, \"b-o\", label=\"Training Acc\")\n",
        "    plt.plot(epochs, val_acc, \"r-o\", label=\"Validation Acc\")\n",
        "    plt.title(\"Training and Validation Accuracy\")\n",
        "    plt.xlabel(\"Epochs\")\n",
        "    plt.ylabel(\"Accuracy\")\n",
        "    plt.legend()\n",
        "    plt.show()"
      ],
      "execution_count": null,
      "outputs": []
    },
    {
      "cell_type": "code",
      "metadata": {
        "id": "VdDJyZr6rtNm",
        "colab_type": "code",
        "colab": {
          "base_uri": "https://localhost:8080/",
          "height": 573
        },
        "outputId": "732ccc33-2f7c-4885-9db2-cc11aa26cb2f"
      },
      "source": [
        "result_eva(prueba.history['loss'], prueba.history['val_loss'], prueba.history['accuracy'], prueba.history['val_accuracy'])"
      ],
      "execution_count": null,
      "outputs": [
        {
          "output_type": "display_data",
          "data": {
            "image/png": "[encoded data removed]",
            "text/plain": [
              "<Figure size 432x288 with 1 Axes>"
            ]
          },
          "metadata": {
            "tags": [],
            "needs_background": "light"
          }
        },
        {
          "output_type": "display_data",
          "data": {
            "image/png": "[encoded data removed]",
            "text/plain": [
              "<Figure size 432x288 with 1 Axes>"
            ]
          },
          "metadata": {
            "tags": [],
            "needs_background": "light"
          }
        }
      ]
    },
    {
      "cell_type": "markdown",
      "metadata": {
        "id": "GRgvxtIrxnlI",
        "colab_type": "text"
      },
      "source": [
        "### Predicting"
      ]
    },
    {
      "cell_type": "code",
      "metadata": {
        "id": "4A8gole4fQ4q",
        "colab_type": "code",
        "colab": {}
      },
      "source": [
        "#Predicting test data\n",
        "\n",
        "y_pred = model1.predict([x_test_txt,x_test_key,x_test_loc], batch_size=16, verbose=2)"
      ],
      "execution_count": null,
      "outputs": []
    },
    {
      "cell_type": "code",
      "metadata": {
        "id": "rgijxuZQstQ4",
        "colab_type": "code",
        "colab": {}
      },
      "source": [
        "y_pred = np.argmax(y_pred,axis=1)"
      ],
      "execution_count": null,
      "outputs": []
    },
    {
      "cell_type": "markdown",
      "metadata": {
        "id": "_IGqm9_ZxsfW",
        "colab_type": "text"
      },
      "source": [
        "### Creating df for make the submission"
      ]
    },
    {
      "cell_type": "code",
      "metadata": {
        "id": "oE3cNOCQ2SpV",
        "colab_type": "code",
        "colab": {}
      },
      "source": [
        "df = pd.DataFrame()\n",
        "df['id'] = [int(x) for x in id_test.values]\n",
        "df['target'] = y_pred\n"
      ],
      "execution_count": null,
      "outputs": []
    },
    {
      "cell_type": "code",
      "metadata": {
        "id": "ma-5pF752tfa",
        "colab_type": "code",
        "colab": {
          "base_uri": "https://localhost:8080/",
          "height": 16
        },
        "outputId": "17215ae8-63f7-4711-ee7d-5d68bbcd763f"
      },
      "source": [
        "from google.colab import files\n",
        "df.to_csv('24.submit.csv', index=False)\n",
        "files.download('24.submit.csv')"
      ],
      "execution_count": null,
      "outputs": [
        {
          "output_type": "display_data",
          "data": {
            "application/javascript": [
              "\n",
              "    async function download(id, filename, size) {\n",
              "      if (!google.colab.kernel.accessAllowed) {\n",
              "        return;\n",
              "      }\n",
              "      const div = document.createElement('div');\n",
              "      const label = document.createElement('label');\n",
              "      label.textContent = `Downloading \"${filename}\": `;\n",
              "      div.appendChild(label);\n",
              "      const progress = document.createElement('progress');\n",
              "      progress.max = size;\n",
              "      div.appendChild(progress);\n",
              "      document.body.appendChild(div);\n",
              "\n",
              "      const buffers = [];\n",
              "      let downloaded = 0;\n",
              "\n",
              "      const channel = await google.colab.kernel.comms.open(id);\n",
              "      // Send a message to notify the kernel that we're ready.\n",
              "      channel.send({})\n",
              "\n",
              "      for await (const message of channel.messages) {\n",
              "        // Send a message to notify the kernel that we're ready.\n",
              "        channel.send({})\n",
              "        if (message.buffers) {\n",
              "          for (const buffer of message.buffers) {\n",
              "            buffers.push(buffer);\n",
              "            downloaded += buffer.byteLength;\n",
              "            progress.value = downloaded;\n",
              "          }\n",
              "        }\n",
              "      }\n",
              "      const blob = new Blob(buffers, {type: 'application/binary'});\n",
              "      const a = document.createElement('a');\n",
              "      a.href = window.URL.createObjectURL(blob);\n",
              "      a.download = filename;\n",
              "      div.appendChild(a);\n",
              "      a.click();\n",
              "      div.remove();\n",
              "    }\n",
              "  "
            ],
            "text/plain": [
              "<IPython.core.display.Javascript object>"
            ]
          },
          "metadata": {
            "tags": []
          }
        },
        {
          "output_type": "display_data",
          "data": {
            "application/javascript": [
              "download(\"download_ef350a00-8805-404c-90a5-eaaa3dcbbea0\", \"24.submit.csv\", 22746)"
            ],
            "text/plain": [
              "<IPython.core.display.Javascript object>"
            ]
          },
          "metadata": {
            "tags": []
          }
        }
      ]
    },
    {
      "cell_type": "markdown",
      "metadata": {
        "id": "_5uUuLexyB1o",
        "colab_type": "text"
      },
      "source": [
        "## Model 2 - LSTM+CNN over [location, text, keyword] - in Kaggle  0.80723\n",
        "\n"
      ]
    },
    {
      "cell_type": "code",
      "metadata": {
        "id": "Qs95kPjMyEfi",
        "colab_type": "code",
        "colab": {
          "base_uri": "https://localhost:8080/",
          "height": 1000
        },
        "outputId": "1a432d2d-b15b-4bb0-9ff6-e3f2b215edc1"
      },
      "source": [
        "input1 = Input(shape=(max_words_txt,))\n",
        "embedding_layer1 = Embedding(top_word, embedding_dim, weights=[embedding_matrix], input_length=max_words_txt, trainable=False)(input1)\n",
        "lstm1_1 = Bidirectional(LSTM(100, return_sequences=True,dropout = 0.2))(embedding_layer1)\n",
        "lstm1_1a = Bidirectional(LSTM(100, return_sequences=True,dropout = 0.2))(lstm1_1)\n",
        "lstm1_1b = Bidirectional(LSTM(100, return_sequences=True,dropout = 0.2))(lstm1_1a)\n",
        "res = Reshape((-1, x_train_txt.shape[1], 100))(lstm1_1b)\n",
        "conv1 = Conv2D(100, (3,3), padding='same',activation=\"relu\")(res)\n",
        "pool1 = MaxPooling2D(pool_size=(2,2))(conv1)\n",
        "flat1 = Flatten()(pool1)\n",
        "\n",
        "input2 = Input(shape=(max_words_key,))\n",
        "embedding_layer2 = Embedding(top_word, embedding_dim, weights=[embedding_matrix], input_length=max_words_key, trainable=False)(input2)\n",
        "lstm2_1 = Bidirectional(LSTM(100, return_sequences=True,dropout = 0.2))(embedding_layer2)\n",
        "lstm2_1a = Bidirectional(LSTM(100, return_sequences=True,dropout = 0.2))(lstm2_1)\n",
        "lstm2_1b = Bidirectional(LSTM(100, return_sequences=True,dropout = 0.2))(lstm2_1a)\n",
        "res2 = Reshape((-1, x_train_key.shape[1], 100))(lstm2_1b)\n",
        "conv2 = Conv2D(100, (3,3), padding='same',activation=\"relu\")(res2)\n",
        "pool2 = MaxPooling2D(pool_size=(2,2))(conv2)\n",
        "flat2 = Flatten()(pool2)\n",
        "\n",
        "input3 = Input(shape=(max_words_loc,))\n",
        "embedding_layer3 = Embedding(top_word, embedding_dim, weights=[embedding_matrix], input_length=max_words_loc, trainable=False)(input3)\n",
        "lstm3_1 = Bidirectional(LSTM(100, return_sequences=True,dropout = 0.2))(embedding_layer3)\n",
        "lstm3_1a = Bidirectional(LSTM(100, return_sequences=True,dropout = 0.2))(lstm3_1)\n",
        "lstm3_1b = Bidirectional(LSTM(100, return_sequences=True,dropout = 0.2))(lstm3_1a)\n",
        "res3 = Reshape((-1, x_train_loc.shape[1], 100))(lstm3_1b)\n",
        "conv3 = Conv2D(100, (3,3), padding='same',activation=\"relu\")(res3)\n",
        "pool3 = MaxPooling2D(pool_size=(2,2))(conv3)\n",
        "flat3 = Flatten()(pool3)\n",
        "\n",
        "merge = concatenate([flat1, flat2, flat3])\n",
        "\n",
        "dropout = Dropout(0.4)(merge)\n",
        "dense1 = Dense(256, activation='relu')(dropout)\n",
        "dense2 = Dense(128, activation='relu')(dense1)\n",
        "output = Dense(2, activation='softmax')(dense2)\n",
        "model2 = Model(inputs=[input1,input2,input3], outputs=output)\n",
        "model2.summary()"
      ],
      "execution_count": null,
      "outputs": [
        {
          "output_type": "stream",
          "text": [
            "Model: \"functional_1\"\n",
            "__________________________________________________________________________________________________\n",
            "Layer (type)                    Output Shape         Param #     Connected to                     \n",
            "==================================================================================================\n",
            "input_1 (InputLayer)            [(None, 25)]         0                                            \n",
            "__________________________________________________________________________________________________\n",
            "input_2 (InputLayer)            [(None, 4)]          0                                            \n",
            "__________________________________________________________________________________________________\n",
            "input_3 (InputLayer)            [(None, 8)]          0                                            \n",
            "__________________________________________________________________________________________________\n",
            "embedding (Embedding)           (None, 25, 200)      7000000     input_1[0][0]                    \n",
            "__________________________________________________________________________________________________\n",
            "embedding_1 (Embedding)         (None, 4, 200)       7000000     input_2[0][0]                    \n",
            "__________________________________________________________________________________________________\n",
            "embedding_2 (Embedding)         (None, 8, 200)       7000000     input_3[0][0]                    \n",
            "__________________________________________________________________________________________________\n",
            "bidirectional (Bidirectional)   (None, 25, 200)      240800      embedding[0][0]                  \n",
            "__________________________________________________________________________________________________\n",
            "bidirectional_3 (Bidirectional) (None, 4, 200)       240800      embedding_1[0][0]                \n",
            "__________________________________________________________________________________________________\n",
            "bidirectional_6 (Bidirectional) (None, 8, 200)       240800      embedding_2[0][0]                \n",
            "__________________________________________________________________________________________________\n",
            "bidirectional_1 (Bidirectional) (None, 25, 200)      240800      bidirectional[0][0]              \n",
            "__________________________________________________________________________________________________\n",
            "bidirectional_4 (Bidirectional) (None, 4, 200)       240800      bidirectional_3[0][0]            \n",
            "__________________________________________________________________________________________________\n",
            "bidirectional_7 (Bidirectional) (None, 8, 200)       240800      bidirectional_6[0][0]            \n",
            "__________________________________________________________________________________________________\n",
            "bidirectional_2 (Bidirectional) (None, 25, 200)      240800      bidirectional_1[0][0]            \n",
            "__________________________________________________________________________________________________\n",
            "bidirectional_5 (Bidirectional) (None, 4, 200)       240800      bidirectional_4[0][0]            \n",
            "__________________________________________________________________________________________________\n",
            "bidirectional_8 (Bidirectional) (None, 8, 200)       240800      bidirectional_7[0][0]            \n",
            "__________________________________________________________________________________________________\n",
            "reshape (Reshape)               (None, 2, 25, 100)   0           bidirectional_2[0][0]            \n",
            "__________________________________________________________________________________________________\n",
            "reshape_1 (Reshape)             (None, 2, 4, 100)    0           bidirectional_5[0][0]            \n",
            "__________________________________________________________________________________________________\n",
            "reshape_2 (Reshape)             (None, 2, 8, 100)    0           bidirectional_8[0][0]            \n",
            "__________________________________________________________________________________________________\n",
            "conv2d (Conv2D)                 (None, 2, 25, 100)   90100       reshape[0][0]                    \n",
            "__________________________________________________________________________________________________\n",
            "conv2d_1 (Conv2D)               (None, 2, 4, 100)    90100       reshape_1[0][0]                  \n",
            "__________________________________________________________________________________________________\n",
            "conv2d_2 (Conv2D)               (None, 2, 8, 100)    90100       reshape_2[0][0]                  \n",
            "__________________________________________________________________________________________________\n",
            "max_pooling2d (MaxPooling2D)    (None, 1, 12, 100)   0           conv2d[0][0]                     \n",
            "__________________________________________________________________________________________________\n",
            "max_pooling2d_1 (MaxPooling2D)  (None, 1, 2, 100)    0           conv2d_1[0][0]                   \n",
            "__________________________________________________________________________________________________\n",
            "max_pooling2d_2 (MaxPooling2D)  (None, 1, 4, 100)    0           conv2d_2[0][0]                   \n",
            "__________________________________________________________________________________________________\n",
            "flatten (Flatten)               (None, 1200)         0           max_pooling2d[0][0]              \n",
            "__________________________________________________________________________________________________\n",
            "flatten_1 (Flatten)             (None, 200)          0           max_pooling2d_1[0][0]            \n",
            "__________________________________________________________________________________________________\n",
            "flatten_2 (Flatten)             (None, 400)          0           max_pooling2d_2[0][0]            \n",
            "__________________________________________________________________________________________________\n",
            "concatenate (Concatenate)       (None, 1800)         0           flatten[0][0]                    \n",
            "                                                                 flatten_1[0][0]                  \n",
            "                                                                 flatten_2[0][0]                  \n",
            "__________________________________________________________________________________________________\n",
            "dropout (Dropout)               (None, 1800)         0           concatenate[0][0]                \n",
            "__________________________________________________________________________________________________\n",
            "dense (Dense)                   (None, 256)          461056      dropout[0][0]                    \n",
            "__________________________________________________________________________________________________\n",
            "dense_1 (Dense)                 (None, 128)          32896       dense[0][0]                      \n",
            "__________________________________________________________________________________________________\n",
            "dense_2 (Dense)                 (None, 2)            258         dense_1[0][0]                    \n",
            "==================================================================================================\n",
            "Total params: 23,931,710\n",
            "Trainable params: 2,931,710\n",
            "Non-trainable params: 21,000,000\n",
            "__________________________________________________________________________________________________\n"
          ],
          "name": "stdout"
        }
      ]
    },
    {
      "cell_type": "code",
      "metadata": {
        "id": "Hz7SAlWxzN87",
        "colab_type": "code",
        "colab": {}
      },
      "source": [
        "from keras.optimizers import Adam\n",
        "\n",
        "optimizer2 = Adam(lr = .0001, beta_1 = .9, beta_2 = .999, epsilon = 1e-10, decay = .0, amsgrad = False)"
      ],
      "execution_count": null,
      "outputs": []
    },
    {
      "cell_type": "code",
      "metadata": {
        "id": "wn2rEWqSzliO",
        "colab_type": "code",
        "colab": {}
      },
      "source": [
        "model2.compile(loss=\"binary_crossentropy\", optimizer=optimizer2,\n",
        "              metrics=[\"accuracy\"])"
      ],
      "execution_count": null,
      "outputs": []
    },
    {
      "cell_type": "code",
      "metadata": {
        "id": "xF_xXi5Jzn4J",
        "colab_type": "code",
        "colab": {
          "base_uri": "https://localhost:8080/",
          "height": 158
        },
        "outputId": "e96d98f6-e05c-4468-9eb7-3aa1cf41faf8"
      },
      "source": [
        "from keras.callbacks import EarlyStopping, ReduceLROnPlateau\n",
        "es = EarlyStopping(monitor='val_loss', mode='min',verbose=1, patience = 4)\n",
        "learning_rate_reduction = ReduceLROnPlateau(monitor = 'val_accuracy', patience = 2, verbose = 1, \n",
        "                                           factor = 0.5, min_lr = 1e-8, cooldown=1)\n",
        "\n",
        "prueba2 = model2.fit([x_train_txt,x_train_key,x_train_loc], y_train, validation_split=0.2, epochs=3, batch_size=16, verbose=2, callbacks=[es, learning_rate_reduction])"
      ],
      "execution_count": null,
      "outputs": [
        {
          "output_type": "stream",
          "text": [
            "Epoch 1/3\n",
            "344/344 - 77s - loss: 0.3544 - accuracy: 0.8492 - val_loss: 0.4689 - val_accuracy: 0.8016\n",
            "Epoch 2/3\n",
            "344/344 - 76s - loss: 0.3400 - accuracy: 0.8561 - val_loss: 0.4769 - val_accuracy: 0.7958\n",
            "Epoch 3/3\n",
            "\n",
            "Epoch 00003: ReduceLROnPlateau reducing learning rate to 2.499999936844688e-05.\n",
            "344/344 - 76s - loss: 0.3271 - accuracy: 0.8644 - val_loss: 0.5056 - val_accuracy: 0.7965\n"
          ],
          "name": "stdout"
        }
      ]
    },
    {
      "cell_type": "code",
      "metadata": {
        "id": "UzLxQsv00Wo1",
        "colab_type": "code",
        "colab": {
          "base_uri": "https://localhost:8080/",
          "height": 573
        },
        "outputId": "02a944e8-7cca-4028-d6e5-7e5cde5753a0"
      },
      "source": [
        "result_eva(prueba2.history['loss'], prueba2.history['val_loss'], prueba2.history['accuracy'], prueba2.history['val_accuracy'])"
      ],
      "execution_count": null,
      "outputs": [
        {
          "output_type": "display_data",
          "data": {
            "image/png": "[encoded data removed]",
            "text/plain": [
              "<Figure size 432x288 with 1 Axes>"
            ]
          },
          "metadata": {
            "tags": [],
            "needs_background": "light"
          }
        },
        {
          "output_type": "display_data",
          "data": {
            "image/png": "[encoded data removed]",
            "text/plain": [
              "<Figure size 432x288 with 1 Axes>"
            ]
          },
          "metadata": {
            "tags": [],
            "needs_background": "light"
          }
        }
      ]
    },
    {
      "cell_type": "code",
      "metadata": {
        "id": "CITB_YwL2DyF",
        "colab_type": "code",
        "colab": {
          "base_uri": "https://localhost:8080/",
          "height": 34
        },
        "outputId": "031d3068-186d-4125-e368-921d529d12af"
      },
      "source": [
        "#Predicting test data\n",
        "\n",
        "y_pred = model2.predict([x_test_txt,x_test_key,x_test_loc], batch_size=16, verbose=2)"
      ],
      "execution_count": null,
      "outputs": [
        {
          "output_type": "stream",
          "text": [
            "204/204 - 18s\n"
          ],
          "name": "stdout"
        }
      ]
    },
    {
      "cell_type": "code",
      "metadata": {
        "id": "G90dzdjw2UK2",
        "colab_type": "code",
        "colab": {}
      },
      "source": [
        "y_pred = np.argmax(y_pred,axis=1)"
      ],
      "execution_count": null,
      "outputs": []
    },
    {
      "cell_type": "code",
      "metadata": {
        "id": "iQ42xFNb2VK2",
        "colab_type": "code",
        "colab": {}
      },
      "source": [
        "df = pd.DataFrame()\n",
        "df['id'] = [int(x) for x in id_test.values]\n",
        "df['target'] = y_pred\n",
        "df.to_csv('28.submit.csv', index=False)"
      ],
      "execution_count": null,
      "outputs": []
    },
    {
      "cell_type": "code",
      "metadata": {
        "id": "HN8xADOiv81z",
        "colab_type": "code",
        "colab": {
          "base_uri": "https://localhost:8080/",
          "height": 16
        },
        "outputId": "c95a4a75-32c2-4f26-f6fc-219558ece244"
      },
      "source": [
        "from google.colab import files\n",
        "files.download('28.submit.csv')"
      ],
      "execution_count": null,
      "outputs": [
        {
          "output_type": "display_data",
          "data": {
            "application/javascript": [
              "\n",
              "    async function download(id, filename, size) {\n",
              "      if (!google.colab.kernel.accessAllowed) {\n",
              "        return;\n",
              "      }\n",
              "      const div = document.createElement('div');\n",
              "      const label = document.createElement('label');\n",
              "      label.textContent = `Downloading \"${filename}\": `;\n",
              "      div.appendChild(label);\n",
              "      const progress = document.createElement('progress');\n",
              "      progress.max = size;\n",
              "      div.appendChild(progress);\n",
              "      document.body.appendChild(div);\n",
              "\n",
              "      const buffers = [];\n",
              "      let downloaded = 0;\n",
              "\n",
              "      const channel = await google.colab.kernel.comms.open(id);\n",
              "      // Send a message to notify the kernel that we're ready.\n",
              "      channel.send({})\n",
              "\n",
              "      for await (const message of channel.messages) {\n",
              "        // Send a message to notify the kernel that we're ready.\n",
              "        channel.send({})\n",
              "        if (message.buffers) {\n",
              "          for (const buffer of message.buffers) {\n",
              "            buffers.push(buffer);\n",
              "            downloaded += buffer.byteLength;\n",
              "            progress.value = downloaded;\n",
              "          }\n",
              "        }\n",
              "      }\n",
              "      const blob = new Blob(buffers, {type: 'application/binary'});\n",
              "      const a = document.createElement('a');\n",
              "      a.href = window.URL.createObjectURL(blob);\n",
              "      a.download = filename;\n",
              "      div.appendChild(a);\n",
              "      a.click();\n",
              "      div.remove();\n",
              "    }\n",
              "  "
            ],
            "text/plain": [
              "<IPython.core.display.Javascript object>"
            ]
          },
          "metadata": {
            "tags": []
          }
        },
        {
          "output_type": "display_data",
          "data": {
            "application/javascript": [
              "download(\"download_87f801ff-5b27-444a-a2de-2a3ce66b6025\", \"28.submit.csv\", 22746)"
            ],
            "text/plain": [
              "<IPython.core.display.Javascript object>"
            ]
          },
          "metadata": {
            "tags": []
          }
        }
      ]
    }
  ]
}