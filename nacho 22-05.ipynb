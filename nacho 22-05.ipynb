{
  "nbformat": 4,
  "nbformat_minor": 0,
  "metadata": {
    "colab": {
      "name": "Copy of Copy of Copia_de_TP1_cambios_v4.ipynb",
      "provenance": [],
      "collapsed_sections": [
        "1TViThuFzIpn",
        "BdM5u4gsH3ss",
        "eEdGGvBGamx1"
      ],
      "include_colab_link": true
    },
    "kernelspec": {
      "name": "python3",
      "display_name": "Python 3"
    }
  },
  "cells": [
    {
      "cell_type": "markdown",
      "metadata": {
        "id": "view-in-github",
        "colab_type": "text"
      },
      "source": [
        "<a href=\"https://colab.research.google.com/github/Ignacio-Ibarra/NLP-Disasters/blob/master/Copy_of_Copia_de_TP1_cambios_v4.ipynb\" target=\"_parent\"><img src=\"https://colab.research.google.com/assets/colab-badge.svg\" alt=\"Open In Colab\"/></a>"
      ]
    },
    {
      "cell_type": "markdown",
      "metadata": {
        "id": "YJlc0AI_QZYr",
        "colab_type": "text"
      },
      "source": [
        "# Librerias\n"
      ]
    },
    {
      "cell_type": "code",
      "metadata": {
        "id": "AD5hp2AiNQDz",
        "colab_type": "code",
        "outputId": "9dbb3df9-a6cd-4e89-9542-f9f9d68659f0",
        "colab": {
          "base_uri": "https://localhost:8080/",
          "height": 190
        }
      },
      "source": [
        "import pandas as pd\n",
        "import numpy as np\n",
        "import matplotlib.pyplot as plt\n",
        "import seaborn as sns\n",
        "plt.style.use('ggplot')\n",
        "from wordcloud import WordCloud\n",
        "import PIL\n",
        "import itertools\n",
        "from collections import defaultdict\n",
        "import nltk\n",
        "nltk.download('stopwords')\n",
        "from nltk.corpus import stopwords\n",
        "stop=set(stopwords.words('english'))\n",
        "from nltk.tokenize import word_tokenize\n",
        "nltk.download('punkt')\n",
        "nltk.download('averaged_perceptron_tagger')\n",
        "import string\n",
        "import re\n",
        "from PIL import Image    # to import the image\n",
        "from google.colab import files\n",
        "from nltk.util import ngrams # function for making ngrams\n",
        "import collections\n",
        "\n",
        "sns.set_context('paper',font_scale=1.5)\n",
        "\n",
        "\n",
        "\n",
        "\n",
        "%matplotlib inline\n",
        "\n",
        "#para suprimir notacion cientifica en los outputs\n",
        "pd.options.display.float_format='{:20,.2f}'.format\n",
        "\n",
        "import warnings\n",
        "warnings.filterwarnings('ignore')"
      ],
      "execution_count": 1,
      "outputs": [
        {
          "output_type": "stream",
          "text": [
            "/usr/local/lib/python3.6/dist-packages/statsmodels/tools/_testing.py:19: FutureWarning: pandas.util.testing is deprecated. Use the functions in the public API at pandas.testing instead.\n",
            "  import pandas.util.testing as tm\n"
          ],
          "name": "stderr"
        },
        {
          "output_type": "stream",
          "text": [
            "[nltk_data] Downloading package stopwords to /root/nltk_data...\n",
            "[nltk_data]   Unzipping corpora/stopwords.zip.\n",
            "[nltk_data] Downloading package punkt to /root/nltk_data...\n",
            "[nltk_data]   Unzipping tokenizers/punkt.zip.\n",
            "[nltk_data] Downloading package averaged_perceptron_tagger to\n",
            "[nltk_data]     /root/nltk_data...\n",
            "[nltk_data]   Unzipping taggers/averaged_perceptron_tagger.zip.\n"
          ],
          "name": "stdout"
        }
      ]
    },
    {
      "cell_type": "markdown",
      "metadata": {
        "id": "PAUmA9iHTe--",
        "colab_type": "text"
      },
      "source": [
        "# Google Drive"
      ]
    },
    {
      "cell_type": "code",
      "metadata": {
        "id": "BI1kyzzgSAbM",
        "colab_type": "code",
        "colab": {}
      },
      "source": [
        "# Code to read csv file into Colaboratory:\n",
        "!pip install -U -q PyDrive\n",
        "from pydrive.auth import GoogleAuth\n",
        "from pydrive.drive import GoogleDrive\n",
        "from google.colab import auth\n",
        "from oauth2client.client import GoogleCredentials\n",
        "\n",
        "# Authenticate and create the PyDrive client.\n",
        "auth.authenticate_user()\n",
        "gauth = GoogleAuth()\n",
        "gauth.credentials = GoogleCredentials.get_application_default()\n",
        "drive = GoogleDrive(gauth)"
      ],
      "execution_count": 0,
      "outputs": []
    },
    {
      "cell_type": "code",
      "metadata": {
        "id": "4Ui6ouJ_SVwz",
        "colab_type": "code",
        "outputId": "91804515-0ce5-4638-949a-6a0adc7649c7",
        "colab": {
          "base_uri": "https://localhost:8080/",
          "height": 34
        }
      },
      "source": [
        "link='https://drive.google.com/open?id=1Wuo42Fju9VOh2m5PV7q95TTUAIkrEwDD'\n",
        "fluff, id = link.split('=')\n",
        "print (id) # Verify that you have everything after '='"
      ],
      "execution_count": 3,
      "outputs": [
        {
          "output_type": "stream",
          "text": [
            "1Wuo42Fju9VOh2m5PV7q95TTUAIkrEwDD\n"
          ],
          "name": "stdout"
        }
      ]
    },
    {
      "cell_type": "code",
      "metadata": {
        "id": "_FljNTbTSigo",
        "colab_type": "code",
        "colab": {}
      },
      "source": [
        "downloaded = drive.CreateFile({'id':id}) \n",
        "downloaded.GetContentFile('train.csv')"
      ],
      "execution_count": 0,
      "outputs": []
    },
    {
      "cell_type": "markdown",
      "metadata": {
        "id": "mkZHvF9eSUqL",
        "colab_type": "text"
      },
      "source": [
        "# Carga DF"
      ]
    },
    {
      "cell_type": "code",
      "metadata": {
        "id": "AHLtylTOSxYC",
        "colab_type": "code",
        "outputId": "4054913c-6d8c-454f-cb06-a2af6e9d9d94",
        "colab": {
          "base_uri": "https://localhost:8080/",
          "height": 359
        }
      },
      "source": [
        "#Loading 'train.csv' into DataFrame\n",
        "train=pd.read_csv('train.csv')\n",
        "train.head(10) #Let's have a first view of the DataFrame"
      ],
      "execution_count": 143,
      "outputs": [
        {
          "output_type": "execute_result",
          "data": {
            "text/html": [
              "<div>\n",
              "<style scoped>\n",
              "    .dataframe tbody tr th:only-of-type {\n",
              "        vertical-align: middle;\n",
              "    }\n",
              "\n",
              "    .dataframe tbody tr th {\n",
              "        vertical-align: top;\n",
              "    }\n",
              "\n",
              "    .dataframe thead th {\n",
              "        text-align: right;\n",
              "    }\n",
              "</style>\n",
              "<table border=\"1\" class=\"dataframe\">\n",
              "  <thead>\n",
              "    <tr style=\"text-align: right;\">\n",
              "      <th></th>\n",
              "      <th>id</th>\n",
              "      <th>keyword</th>\n",
              "      <th>location</th>\n",
              "      <th>text</th>\n",
              "      <th>target</th>\n",
              "    </tr>\n",
              "  </thead>\n",
              "  <tbody>\n",
              "    <tr>\n",
              "      <th>0</th>\n",
              "      <td>1</td>\n",
              "      <td>NaN</td>\n",
              "      <td>NaN</td>\n",
              "      <td>Our Deeds are the Reason of this #earthquake M...</td>\n",
              "      <td>1</td>\n",
              "    </tr>\n",
              "    <tr>\n",
              "      <th>1</th>\n",
              "      <td>4</td>\n",
              "      <td>NaN</td>\n",
              "      <td>NaN</td>\n",
              "      <td>Forest fire near La Ronge Sask. Canada</td>\n",
              "      <td>1</td>\n",
              "    </tr>\n",
              "    <tr>\n",
              "      <th>2</th>\n",
              "      <td>5</td>\n",
              "      <td>NaN</td>\n",
              "      <td>NaN</td>\n",
              "      <td>All residents asked to 'shelter in place' are ...</td>\n",
              "      <td>1</td>\n",
              "    </tr>\n",
              "    <tr>\n",
              "      <th>3</th>\n",
              "      <td>6</td>\n",
              "      <td>NaN</td>\n",
              "      <td>NaN</td>\n",
              "      <td>13,000 people receive #wildfires evacuation or...</td>\n",
              "      <td>1</td>\n",
              "    </tr>\n",
              "    <tr>\n",
              "      <th>4</th>\n",
              "      <td>7</td>\n",
              "      <td>NaN</td>\n",
              "      <td>NaN</td>\n",
              "      <td>Just got sent this photo from Ruby #Alaska as ...</td>\n",
              "      <td>1</td>\n",
              "    </tr>\n",
              "    <tr>\n",
              "      <th>5</th>\n",
              "      <td>8</td>\n",
              "      <td>NaN</td>\n",
              "      <td>NaN</td>\n",
              "      <td>#RockyFire Update =&gt; California Hwy. 20 closed...</td>\n",
              "      <td>1</td>\n",
              "    </tr>\n",
              "    <tr>\n",
              "      <th>6</th>\n",
              "      <td>10</td>\n",
              "      <td>NaN</td>\n",
              "      <td>NaN</td>\n",
              "      <td>#flood #disaster Heavy rain causes flash flood...</td>\n",
              "      <td>1</td>\n",
              "    </tr>\n",
              "    <tr>\n",
              "      <th>7</th>\n",
              "      <td>13</td>\n",
              "      <td>NaN</td>\n",
              "      <td>NaN</td>\n",
              "      <td>I'm on top of the hill and I can see a fire in...</td>\n",
              "      <td>1</td>\n",
              "    </tr>\n",
              "    <tr>\n",
              "      <th>8</th>\n",
              "      <td>14</td>\n",
              "      <td>NaN</td>\n",
              "      <td>NaN</td>\n",
              "      <td>There's an emergency evacuation happening now ...</td>\n",
              "      <td>1</td>\n",
              "    </tr>\n",
              "    <tr>\n",
              "      <th>9</th>\n",
              "      <td>15</td>\n",
              "      <td>NaN</td>\n",
              "      <td>NaN</td>\n",
              "      <td>I'm afraid that the tornado is coming to our a...</td>\n",
              "      <td>1</td>\n",
              "    </tr>\n",
              "  </tbody>\n",
              "</table>\n",
              "</div>"
            ],
            "text/plain": [
              "   id keyword  ...                                               text target\n",
              "0   1     NaN  ...  Our Deeds are the Reason of this #earthquake M...      1\n",
              "1   4     NaN  ...             Forest fire near La Ronge Sask. Canada      1\n",
              "2   5     NaN  ...  All residents asked to 'shelter in place' are ...      1\n",
              "3   6     NaN  ...  13,000 people receive #wildfires evacuation or...      1\n",
              "4   7     NaN  ...  Just got sent this photo from Ruby #Alaska as ...      1\n",
              "5   8     NaN  ...  #RockyFire Update => California Hwy. 20 closed...      1\n",
              "6  10     NaN  ...  #flood #disaster Heavy rain causes flash flood...      1\n",
              "7  13     NaN  ...  I'm on top of the hill and I can see a fire in...      1\n",
              "8  14     NaN  ...  There's an emergency evacuation happening now ...      1\n",
              "9  15     NaN  ...  I'm afraid that the tornado is coming to our a...      1\n",
              "\n",
              "[10 rows x 5 columns]"
            ]
          },
          "metadata": {
            "tags": []
          },
          "execution_count": 143
        }
      ]
    },
    {
      "cell_type": "markdown",
      "metadata": {
        "id": "-7OZlJ90ViIM",
        "colab_type": "text"
      },
      "source": [
        "# Primer análisis"
      ]
    },
    {
      "cell_type": "code",
      "metadata": {
        "id": "xM8fF1mfLlQG",
        "colab_type": "code",
        "outputId": "a52d20a5-12b4-47f8-c0e6-1f6af33264f2",
        "colab": {
          "base_uri": "https://localhost:8080/",
          "height": 34
        }
      },
      "source": [
        "print('El DataFrame cuenta con {} filas y {} columnas'.format(train.shape[0],train.shape[1]))"
      ],
      "execution_count": 144,
      "outputs": [
        {
          "output_type": "stream",
          "text": [
            "El DataFrame cuenta con 7613 filas y 5 columnas\n"
          ],
          "name": "stdout"
        }
      ]
    },
    {
      "cell_type": "code",
      "metadata": {
        "id": "3URAudSlVlI5",
        "colab_type": "code",
        "outputId": "eaeec6d9-e32c-4fd9-9a27-68d7110e8041",
        "colab": {
          "base_uri": "https://localhost:8080/",
          "height": 221
        }
      },
      "source": [
        "train.info()"
      ],
      "execution_count": 145,
      "outputs": [
        {
          "output_type": "stream",
          "text": [
            "<class 'pandas.core.frame.DataFrame'>\n",
            "RangeIndex: 7613 entries, 0 to 7612\n",
            "Data columns (total 5 columns):\n",
            " #   Column    Non-Null Count  Dtype \n",
            "---  ------    --------------  ----- \n",
            " 0   id        7613 non-null   int64 \n",
            " 1   keyword   7552 non-null   object\n",
            " 2   location  5080 non-null   object\n",
            " 3   text      7613 non-null   object\n",
            " 4   target    7613 non-null   int64 \n",
            "dtypes: int64(2), object(3)\n",
            "memory usage: 297.5+ KB\n"
          ],
          "name": "stdout"
        }
      ]
    },
    {
      "cell_type": "markdown",
      "metadata": {
        "id": "erasBATmVwIp",
        "colab_type": "text"
      },
      "source": [
        "Se observa que no se tienen todos los keywords ni todas las locations. A esos objetos se les asignarán los valores \"no_keyword\" y \"no_location\" respectivamente"
      ]
    },
    {
      "cell_type": "code",
      "metadata": {
        "id": "tKljmaVYWllU",
        "colab_type": "code",
        "colab": {}
      },
      "source": [
        "train['keyword']=train['keyword'].fillna('no_keyword')\n",
        "train['location']=train['location'].fillna('no_location')"
      ],
      "execution_count": 0,
      "outputs": []
    },
    {
      "cell_type": "markdown",
      "metadata": {
        "id": "G3UR2pUBYYAi",
        "colab_type": "text"
      },
      "source": [
        "Analicemos \"location\" y veamos si tiene sentido mantenerlo en el análisis..."
      ]
    },
    {
      "cell_type": "code",
      "metadata": {
        "id": "LR9Rfe2aYd6l",
        "colab_type": "code",
        "outputId": "cbb26560-2637-4153-d657-6855b0f26a6d",
        "colab": {
          "base_uri": "https://localhost:8080/",
          "height": 34
        }
      },
      "source": [
        "locations=train.location.value_counts()\n",
        "print('El {} % de los locations son valores únicos en el DF'.format(((locations==1).value_counts(normalize=True))[1]*100))"
      ],
      "execution_count": 147,
      "outputs": [
        {
          "output_type": "stream",
          "text": [
            "El 84.32076600837821 % de los locations son valores únicos en el DF\n"
          ],
          "name": "stdout"
        }
      ]
    },
    {
      "cell_type": "markdown",
      "metadata": {
        "id": "KS-bjmEQcd1o",
        "colab_type": "text"
      },
      "source": [
        "El 84.32% de los locations son valores únicos en el DF. Esto se debe a que la ubicación es un input que genera el usuario. No se considerará esta columna en el análisis exploratorio"
      ]
    },
    {
      "cell_type": "markdown",
      "metadata": {
        "id": "rZNmQNq2XafS",
        "colab_type": "text"
      },
      "source": [
        "# Cleaning de tweets repetidos"
      ]
    },
    {
      "cell_type": "markdown",
      "metadata": {
        "id": "S4lex527G6R1",
        "colab_type": "text"
      },
      "source": [
        "Pasos del cleaning:\n",
        "\n",
        "\n",
        "1.   En columna 'text', identificar strings repetidos\n",
        "2.   Para los strings identificados en el punto 1, identificar los que tengan 2 targets distintos\n",
        "3. Eliminar las filas identificadas en el punto 2\n",
        "4. Generar un nuevo DF (train_no_duplicates), con una columna que indique cantidad de repeticiones de cada 'text'(con target único)\n",
        "5. Descartar las repeticiones de 'text' salvo por la primera ocurrencia\n",
        "6. Eliminar mentions y urls de cada 'text' y asignar los resultados a una nueva columna 'text_clean'\n",
        "7. Eliminar signos de puntuación y caracteres especiales de cada 'text_clean'\n",
        "8. Para 'text_clean' repetir los pasos 1-5 dentro del DF train_no_duplicates.\n",
        "\n",
        "\n"
      ]
    },
    {
      "cell_type": "markdown",
      "metadata": {
        "id": "Kfkb-ANd_gAL",
        "colab_type": "text"
      },
      "source": [
        "Se busca ver si los textos se repiten o no, y en caso de repetirse si contienen targets distintos."
      ]
    },
    {
      "cell_type": "code",
      "metadata": {
        "id": "5uj3rciXX0Yp",
        "colab_type": "code",
        "outputId": "b6b09f21-5fe2-48e9-92e5-c26d99445221",
        "colab": {
          "base_uri": "https://localhost:8080/",
          "height": 450
        }
      },
      "source": [
        "duplicated=train.groupby(['text']).agg({'target':['count','nunique']}).reset_index()\n",
        "duplicated.sort_values(by=('target','count'),ascending=False)"
      ],
      "execution_count": 148,
      "outputs": [
        {
          "output_type": "execute_result",
          "data": {
            "text/html": [
              "<div>\n",
              "<style scoped>\n",
              "    .dataframe tbody tr th:only-of-type {\n",
              "        vertical-align: middle;\n",
              "    }\n",
              "\n",
              "    .dataframe tbody tr th {\n",
              "        vertical-align: top;\n",
              "    }\n",
              "\n",
              "    .dataframe thead tr th {\n",
              "        text-align: left;\n",
              "    }\n",
              "</style>\n",
              "<table border=\"1\" class=\"dataframe\">\n",
              "  <thead>\n",
              "    <tr>\n",
              "      <th></th>\n",
              "      <th>text</th>\n",
              "      <th colspan=\"2\" halign=\"left\">target</th>\n",
              "    </tr>\n",
              "    <tr>\n",
              "      <th></th>\n",
              "      <th></th>\n",
              "      <th>count</th>\n",
              "      <th>nunique</th>\n",
              "    </tr>\n",
              "  </thead>\n",
              "  <tbody>\n",
              "    <tr>\n",
              "      <th>646</th>\n",
              "      <td>11-Year-Old Boy Charged With Manslaughter of T...</td>\n",
              "      <td>10</td>\n",
              "      <td>1</td>\n",
              "    </tr>\n",
              "    <tr>\n",
              "      <th>45</th>\n",
              "      <td>#Bestnaijamade: 16yr old PKK suicide bomber wh...</td>\n",
              "      <td>6</td>\n",
              "      <td>1</td>\n",
              "    </tr>\n",
              "    <tr>\n",
              "      <th>6131</th>\n",
              "      <td>The Prophet (peace be upon him) said 'Save you...</td>\n",
              "      <td>6</td>\n",
              "      <td>2</td>\n",
              "    </tr>\n",
              "    <tr>\n",
              "      <th>3589</th>\n",
              "      <td>He came to a land which was engulfed in tribal...</td>\n",
              "      <td>6</td>\n",
              "      <td>2</td>\n",
              "    </tr>\n",
              "    <tr>\n",
              "      <th>4589</th>\n",
              "      <td>Madhya Pradesh Train Derailment: Village Youth...</td>\n",
              "      <td>5</td>\n",
              "      <td>1</td>\n",
              "    </tr>\n",
              "    <tr>\n",
              "      <th>...</th>\n",
              "      <td>...</td>\n",
              "      <td>...</td>\n",
              "      <td>...</td>\n",
              "    </tr>\n",
              "    <tr>\n",
              "      <th>2507</th>\n",
              "      <td>Bamenda Floods Kill Animals Birds - http://t.c...</td>\n",
              "      <td>1</td>\n",
              "      <td>1</td>\n",
              "    </tr>\n",
              "    <tr>\n",
              "      <th>2506</th>\n",
              "      <td>Baltimore City : I-95 NORTH AT MP 54.8 (FORT M...</td>\n",
              "      <td>1</td>\n",
              "      <td>1</td>\n",
              "    </tr>\n",
              "    <tr>\n",
              "      <th>2505</th>\n",
              "      <td>Bairstow dropped his buffet ticket there. Deva...</td>\n",
              "      <td>1</td>\n",
              "      <td>1</td>\n",
              "    </tr>\n",
              "    <tr>\n",
              "      <th>2504</th>\n",
              "      <td>Bad day</td>\n",
              "      <td>1</td>\n",
              "      <td>1</td>\n",
              "    </tr>\n",
              "    <tr>\n",
              "      <th>7502</th>\n",
              "      <td>åÈMGN-AFRICAå¨ pin:263789F4 åÈ Correction: Ten...</td>\n",
              "      <td>1</td>\n",
              "      <td>1</td>\n",
              "    </tr>\n",
              "  </tbody>\n",
              "</table>\n",
              "<p>7503 rows × 3 columns</p>\n",
              "</div>"
            ],
            "text/plain": [
              "                                                   text target        \n",
              "                                                         count nunique\n",
              "646   11-Year-Old Boy Charged With Manslaughter of T...     10       1\n",
              "45    #Bestnaijamade: 16yr old PKK suicide bomber wh...      6       1\n",
              "6131  The Prophet (peace be upon him) said 'Save you...      6       2\n",
              "3589  He came to a land which was engulfed in tribal...      6       2\n",
              "4589  Madhya Pradesh Train Derailment: Village Youth...      5       1\n",
              "...                                                 ...    ...     ...\n",
              "2507  Bamenda Floods Kill Animals Birds - http://t.c...      1       1\n",
              "2506  Baltimore City : I-95 NORTH AT MP 54.8 (FORT M...      1       1\n",
              "2505  Bairstow dropped his buffet ticket there. Deva...      1       1\n",
              "2504                                            Bad day      1       1\n",
              "7502  åÈMGN-AFRICAå¨ pin:263789F4 åÈ Correction: Ten...      1       1\n",
              "\n",
              "[7503 rows x 3 columns]"
            ]
          },
          "metadata": {
            "tags": []
          },
          "execution_count": 148
        }
      ]
    },
    {
      "cell_type": "markdown",
      "metadata": {
        "id": "8sBs9zTH_rWi",
        "colab_type": "text"
      },
      "source": [
        "Se observa que hay tweets que se repiten hasta 10 veces. A su vez, existen tweets a los que se les asignaron 2 targets al mismo tiempo (columna nunique). Esos datos se deben eliminar ya que afectan al set de entrenamiento."
      ]
    },
    {
      "cell_type": "markdown",
      "metadata": {
        "id": "jkwPg5FK-2hk",
        "colab_type": "text"
      },
      "source": [
        "Incorporaremos una columna donde diga cuántas veces se repiten los tweets. "
      ]
    },
    {
      "cell_type": "code",
      "metadata": {
        "id": "X-oU8LFHnXQ3",
        "colab_type": "code",
        "colab": {}
      },
      "source": [
        "train_no_duplicates=train\n",
        "duplicate_texts=train_no_duplicates.loc[:,['text','target']].groupby(['text']).transform('count')\n",
        "train_no_duplicates['duplicate_text_count']=duplicate_texts\n"
      ],
      "execution_count": 0,
      "outputs": []
    },
    {
      "cell_type": "markdown",
      "metadata": {
        "id": "3fUR24geTUgc",
        "colab_type": "text"
      },
      "source": [
        "Eliminamos los textos duplicados con tweets contradictorios\n"
      ]
    },
    {
      "cell_type": "code",
      "metadata": {
        "id": "TH3PF_CqYLJ2",
        "colab_type": "code",
        "colab": {}
      },
      "source": [
        "contradiction=train_no_duplicates.loc[:,['text','target']].groupby(['text']).transform('nunique')\n",
        "train_no_duplicates['count_targets']=contradiction\n",
        "train_no_duplicates=train_no_duplicates[train.count_targets==1]\n",
        "train_no_duplicates.drop('count_targets',axis=1,inplace=True)"
      ],
      "execution_count": 0,
      "outputs": []
    },
    {
      "cell_type": "markdown",
      "metadata": {
        "id": "GjhM7POiQXRo",
        "colab_type": "text"
      },
      "source": [
        "Una vez eliminados los tweets contradictorios, se eliminan los tweets duplicados (salvo la primera ocurrencia)"
      ]
    },
    {
      "cell_type": "code",
      "metadata": {
        "id": "PG-uiorsSw4z",
        "colab_type": "code",
        "colab": {}
      },
      "source": [
        "train_no_duplicates.drop_duplicates(subset ='text', keep = 'first', inplace = True)"
      ],
      "execution_count": 0,
      "outputs": []
    },
    {
      "cell_type": "code",
      "metadata": {
        "id": "VPHIwA-YR_4e",
        "colab_type": "code",
        "outputId": "af86ac47-9e03-46dd-cdea-a43c3a28972d",
        "colab": {
          "base_uri": "https://localhost:8080/",
          "height": 34
        }
      },
      "source": [
        "print('El DataFrame post cleaning cuenta con {} filas y {} columnas'.format(train_no_duplicates.shape[0],train.shape[1]))"
      ],
      "execution_count": 152,
      "outputs": [
        {
          "output_type": "stream",
          "text": [
            "El DataFrame post cleaning cuenta con 7485 filas y 7 columnas\n"
          ],
          "name": "stdout"
        }
      ]
    },
    {
      "cell_type": "markdown",
      "metadata": {
        "id": "cw4-TBdcNly4",
        "colab_type": "text"
      },
      "source": [
        "Se eliminan urls y mentions de cada 'text'"
      ]
    },
    {
      "cell_type": "code",
      "metadata": {
        "id": "wYLvppmOJfRS",
        "colab_type": "code",
        "colab": {}
      },
      "source": [
        "def cleanText(inputString):\n",
        "  text = re.sub(r'http\\S+', '', inputString)  \n",
        "  text2 = re.sub(r'@\\S+', '', text)\n",
        "  text3 = re.sub(r'&\\S+', '', text2)\n",
        "  text4 = re.sub(r'Ã\\S+', '', text3)\n",
        "  text5 = re.sub(r'www\\S+','',text4)\n",
        "    \n",
        "  return (text5)\n",
        " \n",
        "train_no_duplicates['text_clean'] = train_no_duplicates['text'].apply(lambda x: cleanText(x))\n"
      ],
      "execution_count": 0,
      "outputs": []
    },
    {
      "cell_type": "markdown",
      "metadata": {
        "id": "8r87zSW0G1-Z",
        "colab_type": "text"
      },
      "source": [
        "Se eliminan los signos de puntuación\n"
      ]
    },
    {
      "cell_type": "code",
      "metadata": {
        "id": "Va4LQ0CfIgDD",
        "colab_type": "code",
        "colab": {}
      },
      "source": [
        "def deletePunctuation(inputString):\n",
        "  aux=string.punctuation\n",
        "  special_characters='ÃŒ©‰¥¼ªû'\n",
        "  #puncts=aux.translate(str.maketrans(\"#@:/.\",\"     \"))\n",
        "  auxstring=\" \" * len(aux)\n",
        "  auxstring2=\" \" * len(special_characters)\n",
        "  outputString=inputString.translate(str.maketrans(aux,auxstring))\n",
        "  outputString=outputString.translate(str.maketrans(special_characters,auxstring2))\n",
        "  return outputString\n",
        "\n",
        "train_no_duplicates['text_clean'] = train_no_duplicates['text_clean'].apply(lambda x:deletePunctuation(x))"
      ],
      "execution_count": 0,
      "outputs": []
    },
    {
      "cell_type": "code",
      "metadata": {
        "id": "JyNf7iGTIjWw",
        "colab_type": "code",
        "outputId": "f9b280f5-63de-4a80-dece-6e973f0e8558",
        "colab": {
          "base_uri": "https://localhost:8080/",
          "height": 669
        }
      },
      "source": [
        "train_no_duplicates.head(20)"
      ],
      "execution_count": 155,
      "outputs": [
        {
          "output_type": "execute_result",
          "data": {
            "text/html": [
              "<div>\n",
              "<style scoped>\n",
              "    .dataframe tbody tr th:only-of-type {\n",
              "        vertical-align: middle;\n",
              "    }\n",
              "\n",
              "    .dataframe tbody tr th {\n",
              "        vertical-align: top;\n",
              "    }\n",
              "\n",
              "    .dataframe thead th {\n",
              "        text-align: right;\n",
              "    }\n",
              "</style>\n",
              "<table border=\"1\" class=\"dataframe\">\n",
              "  <thead>\n",
              "    <tr style=\"text-align: right;\">\n",
              "      <th></th>\n",
              "      <th>id</th>\n",
              "      <th>keyword</th>\n",
              "      <th>location</th>\n",
              "      <th>text</th>\n",
              "      <th>target</th>\n",
              "      <th>duplicate_text_count</th>\n",
              "      <th>text_clean</th>\n",
              "    </tr>\n",
              "  </thead>\n",
              "  <tbody>\n",
              "    <tr>\n",
              "      <th>0</th>\n",
              "      <td>1</td>\n",
              "      <td>no_keyword</td>\n",
              "      <td>no_location</td>\n",
              "      <td>Our Deeds are the Reason of this #earthquake M...</td>\n",
              "      <td>1</td>\n",
              "      <td>1</td>\n",
              "      <td>Our Deeds are the Reason of this  earthquake M...</td>\n",
              "    </tr>\n",
              "    <tr>\n",
              "      <th>1</th>\n",
              "      <td>4</td>\n",
              "      <td>no_keyword</td>\n",
              "      <td>no_location</td>\n",
              "      <td>Forest fire near La Ronge Sask. Canada</td>\n",
              "      <td>1</td>\n",
              "      <td>1</td>\n",
              "      <td>Forest fire near La Ronge Sask  Canada</td>\n",
              "    </tr>\n",
              "    <tr>\n",
              "      <th>2</th>\n",
              "      <td>5</td>\n",
              "      <td>no_keyword</td>\n",
              "      <td>no_location</td>\n",
              "      <td>All residents asked to 'shelter in place' are ...</td>\n",
              "      <td>1</td>\n",
              "      <td>1</td>\n",
              "      <td>All residents asked to  shelter in place  are ...</td>\n",
              "    </tr>\n",
              "    <tr>\n",
              "      <th>3</th>\n",
              "      <td>6</td>\n",
              "      <td>no_keyword</td>\n",
              "      <td>no_location</td>\n",
              "      <td>13,000 people receive #wildfires evacuation or...</td>\n",
              "      <td>1</td>\n",
              "      <td>1</td>\n",
              "      <td>13 000 people receive  wildfires evacuation or...</td>\n",
              "    </tr>\n",
              "    <tr>\n",
              "      <th>4</th>\n",
              "      <td>7</td>\n",
              "      <td>no_keyword</td>\n",
              "      <td>no_location</td>\n",
              "      <td>Just got sent this photo from Ruby #Alaska as ...</td>\n",
              "      <td>1</td>\n",
              "      <td>1</td>\n",
              "      <td>Just got sent this photo from Ruby  Alaska as ...</td>\n",
              "    </tr>\n",
              "    <tr>\n",
              "      <th>5</th>\n",
              "      <td>8</td>\n",
              "      <td>no_keyword</td>\n",
              "      <td>no_location</td>\n",
              "      <td>#RockyFire Update =&gt; California Hwy. 20 closed...</td>\n",
              "      <td>1</td>\n",
              "      <td>1</td>\n",
              "      <td>RockyFire Update    California Hwy  20 closed...</td>\n",
              "    </tr>\n",
              "    <tr>\n",
              "      <th>6</th>\n",
              "      <td>10</td>\n",
              "      <td>no_keyword</td>\n",
              "      <td>no_location</td>\n",
              "      <td>#flood #disaster Heavy rain causes flash flood...</td>\n",
              "      <td>1</td>\n",
              "      <td>1</td>\n",
              "      <td>flood  disaster Heavy rain causes flash flood...</td>\n",
              "    </tr>\n",
              "    <tr>\n",
              "      <th>7</th>\n",
              "      <td>13</td>\n",
              "      <td>no_keyword</td>\n",
              "      <td>no_location</td>\n",
              "      <td>I'm on top of the hill and I can see a fire in...</td>\n",
              "      <td>1</td>\n",
              "      <td>1</td>\n",
              "      <td>I m on top of the hill and I can see a fire in...</td>\n",
              "    </tr>\n",
              "    <tr>\n",
              "      <th>8</th>\n",
              "      <td>14</td>\n",
              "      <td>no_keyword</td>\n",
              "      <td>no_location</td>\n",
              "      <td>There's an emergency evacuation happening now ...</td>\n",
              "      <td>1</td>\n",
              "      <td>1</td>\n",
              "      <td>There s an emergency evacuation happening now ...</td>\n",
              "    </tr>\n",
              "    <tr>\n",
              "      <th>9</th>\n",
              "      <td>15</td>\n",
              "      <td>no_keyword</td>\n",
              "      <td>no_location</td>\n",
              "      <td>I'm afraid that the tornado is coming to our a...</td>\n",
              "      <td>1</td>\n",
              "      <td>1</td>\n",
              "      <td>I m afraid that the tornado is coming to our a...</td>\n",
              "    </tr>\n",
              "    <tr>\n",
              "      <th>10</th>\n",
              "      <td>16</td>\n",
              "      <td>no_keyword</td>\n",
              "      <td>no_location</td>\n",
              "      <td>Three people died from the heat wave so far</td>\n",
              "      <td>1</td>\n",
              "      <td>1</td>\n",
              "      <td>Three people died from the heat wave so far</td>\n",
              "    </tr>\n",
              "    <tr>\n",
              "      <th>11</th>\n",
              "      <td>17</td>\n",
              "      <td>no_keyword</td>\n",
              "      <td>no_location</td>\n",
              "      <td>Haha South Tampa is getting flooded hah- WAIT ...</td>\n",
              "      <td>1</td>\n",
              "      <td>1</td>\n",
              "      <td>Haha South Tampa is getting flooded hah  WAIT ...</td>\n",
              "    </tr>\n",
              "    <tr>\n",
              "      <th>12</th>\n",
              "      <td>18</td>\n",
              "      <td>no_keyword</td>\n",
              "      <td>no_location</td>\n",
              "      <td>#raining #flooding #Florida #TampaBay #Tampa 1...</td>\n",
              "      <td>1</td>\n",
              "      <td>1</td>\n",
              "      <td>raining  flooding  Florida  TampaBay  Tampa 1...</td>\n",
              "    </tr>\n",
              "    <tr>\n",
              "      <th>13</th>\n",
              "      <td>19</td>\n",
              "      <td>no_keyword</td>\n",
              "      <td>no_location</td>\n",
              "      <td>#Flood in Bago Myanmar #We arrived Bago</td>\n",
              "      <td>1</td>\n",
              "      <td>1</td>\n",
              "      <td>Flood in Bago Myanmar  We arrived Bago</td>\n",
              "    </tr>\n",
              "    <tr>\n",
              "      <th>14</th>\n",
              "      <td>20</td>\n",
              "      <td>no_keyword</td>\n",
              "      <td>no_location</td>\n",
              "      <td>Damage to school bus on 80 in multi car crash ...</td>\n",
              "      <td>1</td>\n",
              "      <td>1</td>\n",
              "      <td>Damage to school bus on 80 in multi car crash ...</td>\n",
              "    </tr>\n",
              "    <tr>\n",
              "      <th>15</th>\n",
              "      <td>23</td>\n",
              "      <td>no_keyword</td>\n",
              "      <td>no_location</td>\n",
              "      <td>What's up man?</td>\n",
              "      <td>0</td>\n",
              "      <td>1</td>\n",
              "      <td>What s up man</td>\n",
              "    </tr>\n",
              "    <tr>\n",
              "      <th>16</th>\n",
              "      <td>24</td>\n",
              "      <td>no_keyword</td>\n",
              "      <td>no_location</td>\n",
              "      <td>I love fruits</td>\n",
              "      <td>0</td>\n",
              "      <td>1</td>\n",
              "      <td>I love fruits</td>\n",
              "    </tr>\n",
              "    <tr>\n",
              "      <th>17</th>\n",
              "      <td>25</td>\n",
              "      <td>no_keyword</td>\n",
              "      <td>no_location</td>\n",
              "      <td>Summer is lovely</td>\n",
              "      <td>0</td>\n",
              "      <td>1</td>\n",
              "      <td>Summer is lovely</td>\n",
              "    </tr>\n",
              "    <tr>\n",
              "      <th>18</th>\n",
              "      <td>26</td>\n",
              "      <td>no_keyword</td>\n",
              "      <td>no_location</td>\n",
              "      <td>My car is so fast</td>\n",
              "      <td>0</td>\n",
              "      <td>1</td>\n",
              "      <td>My car is so fast</td>\n",
              "    </tr>\n",
              "    <tr>\n",
              "      <th>19</th>\n",
              "      <td>28</td>\n",
              "      <td>no_keyword</td>\n",
              "      <td>no_location</td>\n",
              "      <td>What a goooooooaaaaaal!!!!!!</td>\n",
              "      <td>0</td>\n",
              "      <td>1</td>\n",
              "      <td>What a goooooooaaaaaal</td>\n",
              "    </tr>\n",
              "  </tbody>\n",
              "</table>\n",
              "</div>"
            ],
            "text/plain": [
              "    id  ...                                         text_clean\n",
              "0    1  ...  Our Deeds are the Reason of this  earthquake M...\n",
              "1    4  ...             Forest fire near La Ronge Sask  Canada\n",
              "2    5  ...  All residents asked to  shelter in place  are ...\n",
              "3    6  ...  13 000 people receive  wildfires evacuation or...\n",
              "4    7  ...  Just got sent this photo from Ruby  Alaska as ...\n",
              "5    8  ...   RockyFire Update    California Hwy  20 closed...\n",
              "6   10  ...   flood  disaster Heavy rain causes flash flood...\n",
              "7   13  ...  I m on top of the hill and I can see a fire in...\n",
              "8   14  ...  There s an emergency evacuation happening now ...\n",
              "9   15  ...  I m afraid that the tornado is coming to our a...\n",
              "10  16  ...        Three people died from the heat wave so far\n",
              "11  17  ...  Haha South Tampa is getting flooded hah  WAIT ...\n",
              "12  18  ...   raining  flooding  Florida  TampaBay  Tampa 1...\n",
              "13  19  ...             Flood in Bago Myanmar  We arrived Bago\n",
              "14  20  ...  Damage to school bus on 80 in multi car crash ...\n",
              "15  23  ...                                     What s up man \n",
              "16  24  ...                                      I love fruits\n",
              "17  25  ...                                   Summer is lovely\n",
              "18  26  ...                                  My car is so fast\n",
              "19  28  ...                       What a goooooooaaaaaal      \n",
              "\n",
              "[20 rows x 7 columns]"
            ]
          },
          "metadata": {
            "tags": []
          },
          "execution_count": 155
        }
      ]
    },
    {
      "cell_type": "markdown",
      "metadata": {
        "id": "0IkgMp8bG4nS",
        "colab_type": "text"
      },
      "source": [
        "Se debe repetir el mismo análisis de tweets duplicados"
      ]
    },
    {
      "cell_type": "code",
      "metadata": {
        "id": "KFD2HZFbN-Tb",
        "colab_type": "code",
        "outputId": "cc912ea4-371c-4c9e-fa7c-e4fd3d673f7d",
        "colab": {
          "base_uri": "https://localhost:8080/",
          "height": 450
        }
      },
      "source": [
        "duplicated_clean=train_no_duplicates.groupby(['text_clean']).agg({'target':['count','nunique']}).reset_index()\n",
        "duplicated_clean=duplicated_clean.sort_values(by=('target','count'),ascending=False)\n",
        "duplicated_clean"
      ],
      "execution_count": 156,
      "outputs": [
        {
          "output_type": "execute_result",
          "data": {
            "text/html": [
              "<div>\n",
              "<style scoped>\n",
              "    .dataframe tbody tr th:only-of-type {\n",
              "        vertical-align: middle;\n",
              "    }\n",
              "\n",
              "    .dataframe tbody tr th {\n",
              "        vertical-align: top;\n",
              "    }\n",
              "\n",
              "    .dataframe thead tr th {\n",
              "        text-align: left;\n",
              "    }\n",
              "</style>\n",
              "<table border=\"1\" class=\"dataframe\">\n",
              "  <thead>\n",
              "    <tr>\n",
              "      <th></th>\n",
              "      <th>text_clean</th>\n",
              "      <th colspan=\"2\" halign=\"left\">target</th>\n",
              "    </tr>\n",
              "    <tr>\n",
              "      <th></th>\n",
              "      <th></th>\n",
              "      <th>count</th>\n",
              "      <th>nunique</th>\n",
              "    </tr>\n",
              "  </thead>\n",
              "  <tbody>\n",
              "    <tr>\n",
              "      <th>6241</th>\n",
              "      <td>Watch This Airport Get Swallowed Up By A Sands...</td>\n",
              "      <td>24</td>\n",
              "      <td>1</td>\n",
              "    </tr>\n",
              "    <tr>\n",
              "      <th>6467</th>\n",
              "      <td>Wreckage  Conclusively Confirmed  as From MH37...</td>\n",
              "      <td>20</td>\n",
              "      <td>1</td>\n",
              "    </tr>\n",
              "    <tr>\n",
              "      <th>3151</th>\n",
              "      <td>Families to sue over Legionnaires  More than 4...</td>\n",
              "      <td>19</td>\n",
              "      <td>1</td>\n",
              "    </tr>\n",
              "    <tr>\n",
              "      <th>1583</th>\n",
              "      <td>hot  Funtenna  hijacking computers to send da...</td>\n",
              "      <td>17</td>\n",
              "      <td>2</td>\n",
              "    </tr>\n",
              "    <tr>\n",
              "      <th>2728</th>\n",
              "      <td>Christian Attacked by Muslims at the Temple Mo...</td>\n",
              "      <td>15</td>\n",
              "      <td>1</td>\n",
              "    </tr>\n",
              "    <tr>\n",
              "      <th>...</th>\n",
              "      <td>...</td>\n",
              "      <td>...</td>\n",
              "      <td>...</td>\n",
              "    </tr>\n",
              "    <tr>\n",
              "      <th>2332</th>\n",
              "      <td>Another hour  It s August 05 2015 at 08 02PM H...</td>\n",
              "      <td>1</td>\n",
              "      <td>1</td>\n",
              "    </tr>\n",
              "    <tr>\n",
              "      <th>2331</th>\n",
              "      <td>Another fake hate crime Lesbians burn their ow...</td>\n",
              "      <td>1</td>\n",
              "      <td>1</td>\n",
              "    </tr>\n",
              "    <tr>\n",
              "      <th>2330</th>\n",
              "      <td>Another entity forced to close in Montego Bay ...</td>\n",
              "      <td>1</td>\n",
              "      <td>1</td>\n",
              "    </tr>\n",
              "    <tr>\n",
              "      <th>2329</th>\n",
              "      <td>Another day has passed and THANKFULLY Central ...</td>\n",
              "      <td>1</td>\n",
              "      <td>1</td>\n",
              "    </tr>\n",
              "    <tr>\n",
              "      <th>6939</th>\n",
              "      <td>åÈMGN AFRICAå¨ pin 263789F4 åÈ Correction  Ten...</td>\n",
              "      <td>1</td>\n",
              "      <td>1</td>\n",
              "    </tr>\n",
              "  </tbody>\n",
              "</table>\n",
              "<p>6940 rows × 3 columns</p>\n",
              "</div>"
            ],
            "text/plain": [
              "                                             text_clean target        \n",
              "                                                         count nunique\n",
              "6241  Watch This Airport Get Swallowed Up By A Sands...     24       1\n",
              "6467  Wreckage  Conclusively Confirmed  as From MH37...     20       1\n",
              "3151  Families to sue over Legionnaires  More than 4...     19       1\n",
              "1583   hot  Funtenna  hijacking computers to send da...     17       2\n",
              "2728  Christian Attacked by Muslims at the Temple Mo...     15       1\n",
              "...                                                 ...    ...     ...\n",
              "2332  Another hour  It s August 05 2015 at 08 02PM H...      1       1\n",
              "2331  Another fake hate crime Lesbians burn their ow...      1       1\n",
              "2330  Another entity forced to close in Montego Bay ...      1       1\n",
              "2329  Another day has passed and THANKFULLY Central ...      1       1\n",
              "6939  åÈMGN AFRICAå¨ pin 263789F4 åÈ Correction  Ten...      1       1\n",
              "\n",
              "[6940 rows x 3 columns]"
            ]
          },
          "metadata": {
            "tags": []
          },
          "execution_count": 156
        }
      ]
    },
    {
      "cell_type": "markdown",
      "metadata": {
        "id": "frRmqx2rQODo",
        "colab_type": "text"
      },
      "source": [
        "Se agrega una columna que especifique cuantos text_clean se repiten"
      ]
    },
    {
      "cell_type": "code",
      "metadata": {
        "id": "Hi5hrYr0QNTw",
        "colab_type": "code",
        "outputId": "a9e8ae20-ae58-40e6-cf30-276181e2210d",
        "colab": {
          "base_uri": "https://localhost:8080/",
          "height": 589
        }
      },
      "source": [
        "duplicate_texts_clean=train_no_duplicates.loc[:,['text_clean','target']].groupby(['text_clean']).transform('count')\n",
        "train_no_duplicates['duplicate_text_clean_count']=duplicate_texts_clean\n",
        "train_no_duplicates"
      ],
      "execution_count": 157,
      "outputs": [
        {
          "output_type": "execute_result",
          "data": {
            "text/html": [
              "<div>\n",
              "<style scoped>\n",
              "    .dataframe tbody tr th:only-of-type {\n",
              "        vertical-align: middle;\n",
              "    }\n",
              "\n",
              "    .dataframe tbody tr th {\n",
              "        vertical-align: top;\n",
              "    }\n",
              "\n",
              "    .dataframe thead th {\n",
              "        text-align: right;\n",
              "    }\n",
              "</style>\n",
              "<table border=\"1\" class=\"dataframe\">\n",
              "  <thead>\n",
              "    <tr style=\"text-align: right;\">\n",
              "      <th></th>\n",
              "      <th>id</th>\n",
              "      <th>keyword</th>\n",
              "      <th>location</th>\n",
              "      <th>text</th>\n",
              "      <th>target</th>\n",
              "      <th>duplicate_text_count</th>\n",
              "      <th>text_clean</th>\n",
              "      <th>duplicate_text_clean_count</th>\n",
              "    </tr>\n",
              "  </thead>\n",
              "  <tbody>\n",
              "    <tr>\n",
              "      <th>0</th>\n",
              "      <td>1</td>\n",
              "      <td>no_keyword</td>\n",
              "      <td>no_location</td>\n",
              "      <td>Our Deeds are the Reason of this #earthquake M...</td>\n",
              "      <td>1</td>\n",
              "      <td>1</td>\n",
              "      <td>Our Deeds are the Reason of this  earthquake M...</td>\n",
              "      <td>1</td>\n",
              "    </tr>\n",
              "    <tr>\n",
              "      <th>1</th>\n",
              "      <td>4</td>\n",
              "      <td>no_keyword</td>\n",
              "      <td>no_location</td>\n",
              "      <td>Forest fire near La Ronge Sask. Canada</td>\n",
              "      <td>1</td>\n",
              "      <td>1</td>\n",
              "      <td>Forest fire near La Ronge Sask  Canada</td>\n",
              "      <td>1</td>\n",
              "    </tr>\n",
              "    <tr>\n",
              "      <th>2</th>\n",
              "      <td>5</td>\n",
              "      <td>no_keyword</td>\n",
              "      <td>no_location</td>\n",
              "      <td>All residents asked to 'shelter in place' are ...</td>\n",
              "      <td>1</td>\n",
              "      <td>1</td>\n",
              "      <td>All residents asked to  shelter in place  are ...</td>\n",
              "      <td>1</td>\n",
              "    </tr>\n",
              "    <tr>\n",
              "      <th>3</th>\n",
              "      <td>6</td>\n",
              "      <td>no_keyword</td>\n",
              "      <td>no_location</td>\n",
              "      <td>13,000 people receive #wildfires evacuation or...</td>\n",
              "      <td>1</td>\n",
              "      <td>1</td>\n",
              "      <td>13 000 people receive  wildfires evacuation or...</td>\n",
              "      <td>1</td>\n",
              "    </tr>\n",
              "    <tr>\n",
              "      <th>4</th>\n",
              "      <td>7</td>\n",
              "      <td>no_keyword</td>\n",
              "      <td>no_location</td>\n",
              "      <td>Just got sent this photo from Ruby #Alaska as ...</td>\n",
              "      <td>1</td>\n",
              "      <td>1</td>\n",
              "      <td>Just got sent this photo from Ruby  Alaska as ...</td>\n",
              "      <td>1</td>\n",
              "    </tr>\n",
              "    <tr>\n",
              "      <th>...</th>\n",
              "      <td>...</td>\n",
              "      <td>...</td>\n",
              "      <td>...</td>\n",
              "      <td>...</td>\n",
              "      <td>...</td>\n",
              "      <td>...</td>\n",
              "      <td>...</td>\n",
              "      <td>...</td>\n",
              "    </tr>\n",
              "    <tr>\n",
              "      <th>7604</th>\n",
              "      <td>10863</td>\n",
              "      <td>no_keyword</td>\n",
              "      <td>no_location</td>\n",
              "      <td>#WorldNews Fallen powerlines on G:link tram: U...</td>\n",
              "      <td>1</td>\n",
              "      <td>1</td>\n",
              "      <td>WorldNews Fallen powerlines on G link tram  U...</td>\n",
              "      <td>1</td>\n",
              "    </tr>\n",
              "    <tr>\n",
              "      <th>7605</th>\n",
              "      <td>10864</td>\n",
              "      <td>no_keyword</td>\n",
              "      <td>no_location</td>\n",
              "      <td>on the flip side I'm at Walmart and there is a...</td>\n",
              "      <td>1</td>\n",
              "      <td>1</td>\n",
              "      <td>on the flip side I m at Walmart and there is a...</td>\n",
              "      <td>1</td>\n",
              "    </tr>\n",
              "    <tr>\n",
              "      <th>7606</th>\n",
              "      <td>10866</td>\n",
              "      <td>no_keyword</td>\n",
              "      <td>no_location</td>\n",
              "      <td>Suicide bomber kills 15 in Saudi security site...</td>\n",
              "      <td>1</td>\n",
              "      <td>1</td>\n",
              "      <td>Suicide bomber kills 15 in Saudi security site...</td>\n",
              "      <td>1</td>\n",
              "    </tr>\n",
              "    <tr>\n",
              "      <th>7608</th>\n",
              "      <td>10869</td>\n",
              "      <td>no_keyword</td>\n",
              "      <td>no_location</td>\n",
              "      <td>Two giant cranes holding a bridge collapse int...</td>\n",
              "      <td>1</td>\n",
              "      <td>1</td>\n",
              "      <td>Two giant cranes holding a bridge collapse int...</td>\n",
              "      <td>8</td>\n",
              "    </tr>\n",
              "    <tr>\n",
              "      <th>7612</th>\n",
              "      <td>10873</td>\n",
              "      <td>no_keyword</td>\n",
              "      <td>no_location</td>\n",
              "      <td>The Latest: More Homes Razed by Northern Calif...</td>\n",
              "      <td>1</td>\n",
              "      <td>1</td>\n",
              "      <td>The Latest  More Homes Razed by Northern Calif...</td>\n",
              "      <td>13</td>\n",
              "    </tr>\n",
              "  </tbody>\n",
              "</table>\n",
              "<p>7485 rows × 8 columns</p>\n",
              "</div>"
            ],
            "text/plain": [
              "         id  ... duplicate_text_clean_count\n",
              "0         1  ...                          1\n",
              "1         4  ...                          1\n",
              "2         5  ...                          1\n",
              "3         6  ...                          1\n",
              "4         7  ...                          1\n",
              "...     ...  ...                        ...\n",
              "7604  10863  ...                          1\n",
              "7605  10864  ...                          1\n",
              "7606  10866  ...                          1\n",
              "7608  10869  ...                          8\n",
              "7612  10873  ...                         13\n",
              "\n",
              "[7485 rows x 8 columns]"
            ]
          },
          "metadata": {
            "tags": []
          },
          "execution_count": 157
        }
      ]
    },
    {
      "cell_type": "markdown",
      "metadata": {
        "id": "2WwJtVHIQlj0",
        "colab_type": "text"
      },
      "source": [
        "Eliminar los que tienen targets contradictorios"
      ]
    },
    {
      "cell_type": "code",
      "metadata": {
        "id": "aFUoXNsZQuc7",
        "colab_type": "code",
        "colab": {}
      },
      "source": [
        "contradiction_clean=train_no_duplicates.loc[:,['text_clean','target']].groupby(['text_clean']).transform('nunique')\n",
        "train_no_duplicates['count_targets']=contradiction_clean\n",
        "train_no_duplicates=train_no_duplicates[train_no_duplicates.count_targets==1]\n",
        "train_no_duplicates.drop('count_targets',axis=1,inplace=True)"
      ],
      "execution_count": 0,
      "outputs": []
    },
    {
      "cell_type": "markdown",
      "metadata": {
        "id": "BIr7wwX4Qpi4",
        "colab_type": "text"
      },
      "source": [
        "Elimino rows de duplicados salvo primera ocurrencia"
      ]
    },
    {
      "cell_type": "code",
      "metadata": {
        "id": "hmNh8XefRJbC",
        "colab_type": "code",
        "colab": {}
      },
      "source": [
        "train_no_duplicates.drop_duplicates(subset ='text_clean', keep = 'first', inplace = True)"
      ],
      "execution_count": 0,
      "outputs": []
    },
    {
      "cell_type": "code",
      "metadata": {
        "id": "DN9q2RupRP3d",
        "colab_type": "code",
        "outputId": "546cd2ea-0f6a-461b-e48d-854fc66d26f9",
        "colab": {
          "base_uri": "https://localhost:8080/",
          "height": 34
        }
      },
      "source": [
        "print('El DataFrame post cleaning cuenta con {} filas y {} columnas'.format(train_no_duplicates.shape[0],train.shape[1]))"
      ],
      "execution_count": 160,
      "outputs": [
        {
          "output_type": "stream",
          "text": [
            "El DataFrame post cleaning cuenta con 6889 filas y 7 columnas\n"
          ],
          "name": "stdout"
        }
      ]
    },
    {
      "cell_type": "markdown",
      "metadata": {
        "id": "s6PP7R515dFv",
        "colab_type": "text"
      },
      "source": [
        "# Eliminación de stopwords"
      ]
    },
    {
      "cell_type": "code",
      "metadata": {
        "id": "ARfvfqF-5g5h",
        "colab_type": "code",
        "colab": {}
      },
      "source": [
        "def deleteStopwords(inputString):\n",
        "  inputString= inputString.lower()\n",
        "  text_tokens = word_tokenize(inputString)\n",
        "  tokens_without_sw = [word for word in text_tokens if not word in stopwords.words('english')]\n",
        "  filtered_sentence = (\" \").join(tokens_without_sw)\n",
        "  return filtered_sentence\n",
        "\n",
        "train_no_duplicates['text_clean_no_sw'] = train_no_duplicates['text_clean'].apply(lambda x:deleteStopwords(x))"
      ],
      "execution_count": 0,
      "outputs": []
    },
    {
      "cell_type": "markdown",
      "metadata": {
        "id": "BPfL1H9INgqJ",
        "colab_type": "text"
      },
      "source": [
        "# Proporción de Target Real/Not Real"
      ]
    },
    {
      "cell_type": "code",
      "metadata": {
        "id": "aRYvc-RRNqAz",
        "colab_type": "code",
        "outputId": "b33c8b99-dd49-42dd-c248-232f13ec11c6",
        "colab": {
          "base_uri": "https://localhost:8080/",
          "height": 303
        }
      },
      "source": [
        "#Cantidad de registros\n",
        "\n",
        "x=train_no_duplicates['target'].value_counts()\n",
        "g=sns.barplot(x.index,x)\n",
        "g.set_title('Barplot: Cantidad de tweets por Target\\n',fontsize=14)\n",
        "g.set_ylabel('Cantidad')\n",
        "plt.xticks([0, 1], ['Not Real', 'Real'])\n",
        "plt.show()\n"
      ],
      "execution_count": 162,
      "outputs": [
        {
          "output_type": "display_data",
          "data": {
            "image/png": "[encoded data removed]",
            "text/plain": [
              "<Figure size 432x288 with 1 Axes>"
            ]
          },
          "metadata": {
            "tags": [],
            "needs_background": "light"
          }
        }
      ]
    },
    {
      "cell_type": "code",
      "metadata": {
        "id": "9q50NXU9OF9L",
        "colab_type": "code",
        "outputId": "51c7c3aa-eaf9-4bdb-91e2-6a2b31c7966c",
        "colab": {
          "base_uri": "https://localhost:8080/",
          "height": 265
        }
      },
      "source": [
        "labels='Not Real','Real'\n",
        "g2=plt.pie(x,labels=labels,autopct='%1.1f%%',startangle=140)\n",
        "plt.axis('equal')\n",
        "plt.title('Pie chart:  Porcentaje de tweets por Target')\n",
        "plt.show()\n"
      ],
      "execution_count": 163,
      "outputs": [
        {
          "output_type": "display_data",
          "data": {
            "image/png": "[encoded data removed]",
            "text/plain": [
              "<Figure size 432x288 with 1 Axes>"
            ]
          },
          "metadata": {
            "tags": []
          }
        }
      ]
    },
    {
      "cell_type": "markdown",
      "metadata": {
        "id": "zZou9mMjOQ_S",
        "colab_type": "text"
      },
      "source": [
        "Se observa mayor proporción de tweets de clase \"Not Real\" sobre los de clase \"Real\". "
      ]
    },
    {
      "cell_type": "markdown",
      "metadata": {
        "id": "LBQCRHaV2WK0",
        "colab_type": "text"
      },
      "source": [
        "Se puede dividir el DF en 2 subsets"
      ]
    },
    {
      "cell_type": "code",
      "metadata": {
        "id": "CgsgsgTr2bbK",
        "colab_type": "code",
        "colab": {}
      },
      "source": [
        "train1=train_no_duplicates[train_no_duplicates['target']==1]\n",
        "train0=train_no_duplicates[train_no_duplicates['target']==0]"
      ],
      "execution_count": 0,
      "outputs": []
    },
    {
      "cell_type": "markdown",
      "metadata": {
        "id": "bxKae_zvPHxh",
        "colab_type": "text"
      },
      "source": [
        "# Análisis de Keywords"
      ]
    },
    {
      "cell_type": "code",
      "metadata": {
        "id": "Annu4qvFPOD_",
        "colab_type": "code",
        "colab": {}
      },
      "source": [
        "def percent_real_disaster(x):\n",
        "    return x.mean()*100 \n",
        "\n",
        "\n",
        "grouped=train_no_duplicates.groupby(['keyword']).agg({'target':[percent_real_disaster]}).sort_values(by=('target','percent_real_disaster'),ascending=False)\n",
        "grouped=grouped.reset_index()\n"
      ],
      "execution_count": 0,
      "outputs": []
    },
    {
      "cell_type": "code",
      "metadata": {
        "id": "LDwMGdaDPffb",
        "colab_type": "code",
        "outputId": "177d4f43-ff59-4753-9eb1-360fa7b83b4e",
        "colab": {
          "base_uri": "https://localhost:8080/",
          "height": 598
        }
      },
      "source": [
        "#Plot \n",
        "#Ploteo el total de tweets por keyword\n",
        "f, axes = plt.subplots(1,2, figsize=(20, 10), sharex=True)\n",
        "\n",
        "#Los keywords con mayor proporción de tweets Reales\n",
        "sns.set_color_codes(\"pastel\")\n",
        "g1=sns.barplot(ax=axes[0],x=100,y='keyword',data=grouped.head(25),label='Not Real', color=\"b\")\n",
        "sns.set_color_codes(\"muted\")\n",
        "sns.barplot(ax=axes[0],x=('target','percent_real_disaster'),y='keyword',data=grouped.head(25), label='Real',color=\"b\")\n",
        "g1.set_ylabel('keywords')\n",
        "g1.set_xlabel('Porcentaje')\n",
        "g1.set_title('Top 25 Real Disasters by Keyword')\n",
        "\n",
        "#los peores 10\n",
        "sns.set_color_codes(\"pastel\")\n",
        "g2=sns.barplot(ax=axes[1],x=100,y='keyword',data=grouped.tail(25), label='Not Real',color=\"r\")\n",
        "sns.set_color_codes(\"muted\")\n",
        "sns.barplot(ax=axes[1],x=('target','percent_real_disaster'),y='keyword',data=grouped.tail(25),label='Real', color=\"r\")\n",
        "g2.set_ylabel('')\n",
        "g2.set_xlabel('Porcentaje')\n",
        "g2.set_title('Top 25 NOT Real Disasters by Keyword')\n",
        "\n",
        "# Legend\n",
        "g1.legend(ncol=1, loc=\"lower right\", frameon=True)\n",
        "g2.legend(ncol=1, loc=\"lower right\", frameon=True)\n",
        "\n",
        "plt.show()"
      ],
      "execution_count": 166,
      "outputs": [
        {
          "output_type": "display_data",
          "data": {
            "image/png": "[encoded data removed]",
            "text/plain": [
              "<Figure size 1440x720 with 2 Axes>"
            ]
          },
          "metadata": {
            "tags": [],
            "needs_background": "light"
          }
        }
      ]
    },
    {
      "cell_type": "markdown",
      "metadata": {
        "id": "1ZTHL46kRJlz",
        "colab_type": "text"
      },
      "source": [
        "En la figura se la izquiera se ilustran 25 keywords con porcentajes de Target \"Real\" mayores al 75%. Se observan keywords referentes a desastres naturales (*drought, forest fire, violent storm)* o edilicios (*bridge collapse, buildings on fire*). También se encuentran tragedias mortales (*mass murder, airplane accident, nuclear disaster, suicide bombing*). Otros keywords incluyen lenguaje de noticias (*casualties, evacuated, rescuers*). \n",
        "\n",
        "Por otro lado, en la figura de la derecha, se observan los 25 keywords con menores porcentajes de veracidad. En su mayoría se trata de palabras que servirían para describir tragedias pero que a su vez pueden usarse en muchos otros contextos. Un ejemplo de esto es el keyword \"body bag\", con un porcentaje de targets Reales menor al 5%. El término por si solo sonaría alarmante, pero veamos las acepciones de la palabra:\n",
        "\n",
        "1.   Bolsa para guardar cadáveres\n",
        "2.   Una clase de cartera/mochila\n",
        "3.   Según *Urban Dictionary*, \"To boddybag an oponent\" es asegurar la victoria sobre el oponente (algo así como \"kick ass\"), slang muy utilizado en las batallas de rap.\n",
        "4.   Otra acepción de *Urban Dictionary*, \"Bodybagging\" es robarle un chiste a otro comediante y hacerlo pasar como propio. \n",
        "\n",
        "Se observa también mayor cantidad de verbos y adjetivos que en el otro target.\n",
        "\n",
        "\n"
      ]
    },
    {
      "cell_type": "markdown",
      "metadata": {
        "id": "uMyjy7lL8jdY",
        "colab_type": "text"
      },
      "source": [
        "# Análisis de características de tweets"
      ]
    },
    {
      "cell_type": "code",
      "metadata": {
        "id": "pCURBzI68oz6",
        "colab_type": "code",
        "colab": {}
      },
      "source": [
        "def Numbers_count(inputString):\n",
        "  count=0\n",
        "  i=0\n",
        "  inputString=inputString.split()\n",
        "  while i < len(inputString):\n",
        "    if inputString[i].isdigit() == True:\n",
        "      count=count+1\n",
        "    i=i+1\n",
        "    return count\n",
        "\n",
        "train_no_duplicates['url_count'] = train_no_duplicates['text'].apply(lambda x: len([w for w in str(x).lower().split() if ('http' or 'www') in w]))\n",
        "train_no_duplicates['hashtag_count'] = train_no_duplicates['text'].apply(lambda x: len([c for c in str(x) if c == '#']))\n",
        "train_no_duplicates['mention_count'] = train_no_duplicates['text'].apply(lambda x: len([c for c in str(x) if c == '@']))\n",
        "train_no_duplicates['digits_count'] = train_no_duplicates['text_clean'].apply(lambda x: Numbers_count(x))\n",
        "train_no_duplicates['characters_count'] = train_no_duplicates['text'].apply(lambda x: len(str(x)))\n",
        "train_no_duplicates['characters_count_clean'] = train_no_duplicates['text_clean'].apply(lambda x: len(str(x)))\n",
        "train_no_duplicates['characters_count_clean_sw'] = train_no_duplicates['text_clean_no_sw'].apply(lambda x: len(str(x)))\n",
        "train_no_duplicates['word_count'] = train_no_duplicates['text'].apply(lambda x: len(str(x).split()))\n",
        "train_no_duplicates['word_count_clean'] = train_no_duplicates['text_clean'].apply(lambda x: len(str(x).split()))\n",
        "train_no_duplicates['word_count_clean_sw'] = train_no_duplicates['text_clean_no_sw'].apply(lambda x: len(str(x).split()))\n",
        "train_no_duplicates['avg_word_len']= train_no_duplicates['characters_count']/ train_no_duplicates['word_count']\n",
        "train_no_duplicates['avg_word_len_clean_sw']= train_no_duplicates['characters_count_clean_sw']/ train_no_duplicates['word_count_clean_sw']"
      ],
      "execution_count": 0,
      "outputs": []
    },
    {
      "cell_type": "code",
      "metadata": {
        "id": "WSJIVxHy48la",
        "colab_type": "code",
        "colab": {}
      },
      "source": [
        "cols_stats= ['url_count','hashtag_count','mention_count','digits_count','characters_count','characters_count_clean_sw',\\\n",
        "             'word_count','word_count_clean_sw','avg_word_len','avg_word_len_clean_sw','target']"
      ],
      "execution_count": 0,
      "outputs": []
    },
    {
      "cell_type": "code",
      "metadata": {
        "id": "4Y0XQPW741bN",
        "colab_type": "code",
        "outputId": "8d2d7679-bbc2-4cbb-e708-24783923feba",
        "colab": {
          "base_uri": "https://localhost:8080/",
          "height": 193
        }
      },
      "source": [
        "train_no_duplicates[cols_stats].groupby('target').agg(['mean','std','skew'])"
      ],
      "execution_count": 170,
      "outputs": [
        {
          "output_type": "execute_result",
          "data": {
            "text/html": [
              "<div>\n",
              "<style scoped>\n",
              "    .dataframe tbody tr th:only-of-type {\n",
              "        vertical-align: middle;\n",
              "    }\n",
              "\n",
              "    .dataframe tbody tr th {\n",
              "        vertical-align: top;\n",
              "    }\n",
              "\n",
              "    .dataframe thead tr th {\n",
              "        text-align: left;\n",
              "    }\n",
              "\n",
              "    .dataframe thead tr:last-of-type th {\n",
              "        text-align: right;\n",
              "    }\n",
              "</style>\n",
              "<table border=\"1\" class=\"dataframe\">\n",
              "  <thead>\n",
              "    <tr>\n",
              "      <th></th>\n",
              "      <th colspan=\"3\" halign=\"left\">url_count</th>\n",
              "      <th colspan=\"3\" halign=\"left\">hashtag_count</th>\n",
              "      <th colspan=\"3\" halign=\"left\">mention_count</th>\n",
              "      <th colspan=\"3\" halign=\"left\">digits_count</th>\n",
              "      <th colspan=\"3\" halign=\"left\">characters_count</th>\n",
              "      <th colspan=\"3\" halign=\"left\">characters_count_clean_sw</th>\n",
              "      <th colspan=\"3\" halign=\"left\">word_count</th>\n",
              "      <th colspan=\"3\" halign=\"left\">word_count_clean_sw</th>\n",
              "      <th colspan=\"3\" halign=\"left\">avg_word_len</th>\n",
              "      <th colspan=\"3\" halign=\"left\">avg_word_len_clean_sw</th>\n",
              "    </tr>\n",
              "    <tr>\n",
              "      <th></th>\n",
              "      <th>mean</th>\n",
              "      <th>std</th>\n",
              "      <th>skew</th>\n",
              "      <th>mean</th>\n",
              "      <th>std</th>\n",
              "      <th>skew</th>\n",
              "      <th>mean</th>\n",
              "      <th>std</th>\n",
              "      <th>skew</th>\n",
              "      <th>mean</th>\n",
              "      <th>std</th>\n",
              "      <th>skew</th>\n",
              "      <th>mean</th>\n",
              "      <th>std</th>\n",
              "      <th>skew</th>\n",
              "      <th>mean</th>\n",
              "      <th>std</th>\n",
              "      <th>skew</th>\n",
              "      <th>mean</th>\n",
              "      <th>std</th>\n",
              "      <th>skew</th>\n",
              "      <th>mean</th>\n",
              "      <th>std</th>\n",
              "      <th>skew</th>\n",
              "      <th>mean</th>\n",
              "      <th>std</th>\n",
              "      <th>skew</th>\n",
              "      <th>mean</th>\n",
              "      <th>std</th>\n",
              "      <th>skew</th>\n",
              "    </tr>\n",
              "    <tr>\n",
              "      <th>target</th>\n",
              "      <th></th>\n",
              "      <th></th>\n",
              "      <th></th>\n",
              "      <th></th>\n",
              "      <th></th>\n",
              "      <th></th>\n",
              "      <th></th>\n",
              "      <th></th>\n",
              "      <th></th>\n",
              "      <th></th>\n",
              "      <th></th>\n",
              "      <th></th>\n",
              "      <th></th>\n",
              "      <th></th>\n",
              "      <th></th>\n",
              "      <th></th>\n",
              "      <th></th>\n",
              "      <th></th>\n",
              "      <th></th>\n",
              "      <th></th>\n",
              "      <th></th>\n",
              "      <th></th>\n",
              "      <th></th>\n",
              "      <th></th>\n",
              "      <th></th>\n",
              "      <th></th>\n",
              "      <th></th>\n",
              "      <th></th>\n",
              "      <th></th>\n",
              "      <th></th>\n",
              "    </tr>\n",
              "  </thead>\n",
              "  <tbody>\n",
              "    <tr>\n",
              "      <th>0</th>\n",
              "      <td>0.46</td>\n",
              "      <td>0.64</td>\n",
              "      <td>1.15</td>\n",
              "      <td>0.36</td>\n",
              "      <td>0.94</td>\n",
              "      <td>3.97</td>\n",
              "      <td>0.44</td>\n",
              "      <td>0.78</td>\n",
              "      <td>2.74</td>\n",
              "      <td>0.02</td>\n",
              "      <td>0.12</td>\n",
              "      <td>7.85</td>\n",
              "      <td>94.42</td>\n",
              "      <td>36.12</td>\n",
              "      <td>-0.39</td>\n",
              "      <td>54.81</td>\n",
              "      <td>25.50</td>\n",
              "      <td>0.06</td>\n",
              "      <td>14.66</td>\n",
              "      <td>6.24</td>\n",
              "      <td>0.08</td>\n",
              "      <td>8.41</td>\n",
              "      <td>3.88</td>\n",
              "      <td>0.20</td>\n",
              "      <td>6.72</td>\n",
              "      <td>1.71</td>\n",
              "      <td>1.40</td>\n",
              "      <td>6.55</td>\n",
              "      <td>1.12</td>\n",
              "      <td>0.69</td>\n",
              "    </tr>\n",
              "    <tr>\n",
              "      <th>1</th>\n",
              "      <td>0.73</td>\n",
              "      <td>0.63</td>\n",
              "      <td>0.32</td>\n",
              "      <td>0.52</td>\n",
              "      <td>1.14</td>\n",
              "      <td>3.86</td>\n",
              "      <td>0.30</td>\n",
              "      <td>0.66</td>\n",
              "      <td>2.77</td>\n",
              "      <td>0.03</td>\n",
              "      <td>0.18</td>\n",
              "      <td>5.11</td>\n",
              "      <td>107.30</td>\n",
              "      <td>29.90</td>\n",
              "      <td>-0.75</td>\n",
              "      <td>66.59</td>\n",
              "      <td>23.70</td>\n",
              "      <td>-0.14</td>\n",
              "      <td>15.18</td>\n",
              "      <td>5.23</td>\n",
              "      <td>0.00</td>\n",
              "      <td>9.81</td>\n",
              "      <td>3.66</td>\n",
              "      <td>0.23</td>\n",
              "      <td>7.35</td>\n",
              "      <td>1.53</td>\n",
              "      <td>1.02</td>\n",
              "      <td>6.87</td>\n",
              "      <td>1.01</td>\n",
              "      <td>0.40</td>\n",
              "    </tr>\n",
              "  </tbody>\n",
              "</table>\n",
              "</div>"
            ],
            "text/plain": [
              "                  url_count  ... avg_word_len_clean_sw\n",
              "                       mean  ...                  skew\n",
              "target                       ...                      \n",
              "0                      0.46  ...                  0.69\n",
              "1                      0.73  ...                  0.40\n",
              "\n",
              "[2 rows x 30 columns]"
            ]
          },
          "metadata": {
            "tags": []
          },
          "execution_count": 170
        }
      ]
    },
    {
      "cell_type": "code",
      "metadata": {
        "id": "1Tn5oQmg9qgi",
        "colab_type": "code",
        "outputId": "ef44b2bf-33d3-4082-ade1-8eab0db86146",
        "colab": {
          "base_uri": "https://localhost:8080/",
          "height": 329
        }
      },
      "source": [
        "#Correlacionamos con url, hashtag, mention y digits\n",
        "corr_cols=['target','url_count','hashtag_count','mention_count','digits_count']\n",
        "(train_no_duplicates.loc[:,corr_cols].corr())['target'][1:].plot(kind='bar', color='grey', figsize=(8,4))\n",
        "plt.title('Bar Plot: Correlaciones URL, Hashtag, Mentions y Números \\n con Target',fontweight='bold', fontsize=18)\n",
        "plt.ylabel('Indice de Correlación', fontsize=15, color='black')\n",
        "plt.xticks(fontsize=14, rotation='horizontal', color='black')\n",
        "plt.show"
      ],
      "execution_count": 171,
      "outputs": [
        {
          "output_type": "execute_result",
          "data": {
            "text/plain": [
              "<function matplotlib.pyplot.show>"
            ]
          },
          "metadata": {
            "tags": []
          },
          "execution_count": 171
        },
        {
          "output_type": "display_data",
          "data": {
            "image/png": "[encoded data removed]",
            "text/plain": [
              "<Figure size 576x288 with 1 Axes>"
            ]
          },
          "metadata": {
            "tags": [],
            "needs_background": "light"
          }
        }
      ]
    },
    {
      "cell_type": "code",
      "metadata": {
        "id": "1KjRiGDdHG3k",
        "colab_type": "code",
        "colab": {
          "base_uri": "https://localhost:8080/",
          "height": 111
        },
        "outputId": "802cb0a7-d82b-45a6-a2d8-4823e56b35ac"
      },
      "source": [
        "train_no_duplicates[['url_count', 'hashtag_count']].corr()"
      ],
      "execution_count": 180,
      "outputs": [
        {
          "output_type": "execute_result",
          "data": {
            "text/html": [
              "<div>\n",
              "<style scoped>\n",
              "    .dataframe tbody tr th:only-of-type {\n",
              "        vertical-align: middle;\n",
              "    }\n",
              "\n",
              "    .dataframe tbody tr th {\n",
              "        vertical-align: top;\n",
              "    }\n",
              "\n",
              "    .dataframe thead th {\n",
              "        text-align: right;\n",
              "    }\n",
              "</style>\n",
              "<table border=\"1\" class=\"dataframe\">\n",
              "  <thead>\n",
              "    <tr style=\"text-align: right;\">\n",
              "      <th></th>\n",
              "      <th>url_count</th>\n",
              "      <th>hashtag_count</th>\n",
              "    </tr>\n",
              "  </thead>\n",
              "  <tbody>\n",
              "    <tr>\n",
              "      <th>url_count</th>\n",
              "      <td>1.00</td>\n",
              "      <td>0.19</td>\n",
              "    </tr>\n",
              "    <tr>\n",
              "      <th>hashtag_count</th>\n",
              "      <td>0.19</td>\n",
              "      <td>1.00</td>\n",
              "    </tr>\n",
              "  </tbody>\n",
              "</table>\n",
              "</div>"
            ],
            "text/plain": [
              "                         url_count        hashtag_count\n",
              "url_count                     1.00                 0.19\n",
              "hashtag_count                 0.19                 1.00"
            ]
          },
          "metadata": {
            "tags": []
          },
          "execution_count": 180
        }
      ]
    },
    {
      "cell_type": "code",
      "metadata": {
        "id": "zfrqVyZfLQbk",
        "colab_type": "code",
        "colab": {
          "base_uri": "https://localhost:8080/",
          "height": 34
        },
        "outputId": "4aa83812-45f7-4dfe-e931-b7e3678ace24"
      },
      "source": [
        "train_no_duplicates[train_no_duplicates.loc[:,'digits_count']>0]['target'].mean()"
      ],
      "execution_count": 181,
      "outputs": [
        {
          "output_type": "execute_result",
          "data": {
            "text/plain": [
              "0.60625"
            ]
          },
          "metadata": {
            "tags": []
          },
          "execution_count": 181
        }
      ]
    },
    {
      "cell_type": "code",
      "metadata": {
        "id": "OmjJrJg7srAs",
        "colab_type": "code",
        "colab": {}
      },
      "source": [
        "!pip install ptitprince"
      ],
      "execution_count": 0,
      "outputs": []
    },
    {
      "cell_type": "code",
      "metadata": {
        "id": "6DAMOX7AsEhS",
        "colab_type": "code",
        "outputId": "fd408d89-00b2-4b8b-e423-d9b003cb9c05",
        "colab": {
          "base_uri": "https://localhost:8080/",
          "height": 321
        }
      },
      "source": [
        "import ptitprince as pt\n",
        "ax=pt.RainCloud(x='target',y='characters_count',data=train_no_duplicates, showmeans=True,\n",
        "width_viol=1.2,\n",
        "width_box=0.1,\n",
        "figsize=(8,15),\n",
        "orient='h')\n",
        "ax.set_title('RainCloud Plot: Distribución Largo del Tweet \\n por Target pre-cleaning',fontsize=14,fontweight='bold')\n",
        "ax.set_xlabel('Cantidad de caracteres')\n",
        "ax.set_ylabel('')\n",
        "plt.yticks([0, 1], ['Not Real', 'Real'])\n",
        "plt.show()"
      ],
      "execution_count": 196,
      "outputs": [
        {
          "output_type": "display_data",
          "data": {
            "image/png": "[encoded data removed]",
            "text/plain": [
              "<Figure size 432x288 with 1 Axes>"
            ]
          },
          "metadata": {
            "tags": [],
            "needs_background": "light"
          }
        }
      ]
    },
    {
      "cell_type": "code",
      "metadata": {
        "id": "5mxEhx-tuZ7o",
        "colab_type": "code",
        "outputId": "b24ce606-99ab-4977-f344-205893cb976a",
        "colab": {
          "base_uri": "https://localhost:8080/",
          "height": 321
        }
      },
      "source": [
        "import ptitprince as pt\n",
        "ax=pt.RainCloud(x='target',y='characters_count_clean_sw',data=train_no_duplicates, showmeans=True,\n",
        "width_viol=1.2,\n",
        "width_box=0.1,\n",
        "figsize=(8,15),\n",
        "orient='h')\n",
        "ax.set_title('RainCloud Plot: Distribución Largo del Tweet \\n por Target post-cleaning',fontsize=14,fontweight='bold')\n",
        "ax.set_xlabel('Cantidad de caracteres')\n",
        "ax.set_ylabel('')\n",
        "plt.yticks([0, 1], ['Not Real', 'Real'])\n",
        "plt.show()"
      ],
      "execution_count": 197,
      "outputs": [
        {
          "output_type": "display_data",
          "data": {
            "image/png": "[encoded data removed]",
            "text/plain": [
              "<Figure size 432x288 with 1 Axes>"
            ]
          },
          "metadata": {
            "tags": [],
            "needs_background": "light"
          }
        }
      ]
    },
    {
      "cell_type": "code",
      "metadata": {
        "id": "TDCE3wFuxsnr",
        "colab_type": "code",
        "outputId": "c91b1a06-a10d-4b8c-df73-c0006c419cb5",
        "colab": {
          "base_uri": "https://localhost:8080/",
          "height": 321
        }
      },
      "source": [
        "ax=pt.RainCloud(x='target',y='word_count',data=train_no_duplicates, showmeans=True,\n",
        "width_viol=1.2,\n",
        "width_box=0.1,\n",
        "figsize=(8,15),\n",
        "orient='h')\n",
        "ax.set_title('RainCloud Plot: Distribución Cantidad de Palabras \\n por Target - pre-cleaning',fontsize=14,fontweight='bold')\n",
        "ax.set_xlabel('Cantidad de palabras')\n",
        "ax.set_ylabel('')\n",
        "plt.yticks([0, 1], ['Not Real', 'Real'])\n",
        "plt.show()"
      ],
      "execution_count": 198,
      "outputs": [
        {
          "output_type": "display_data",
          "data": {
            "image/png": "[encoded data removed]",
            "text/plain": [
              "<Figure size 432x288 with 1 Axes>"
            ]
          },
          "metadata": {
            "tags": [],
            "needs_background": "light"
          }
        }
      ]
    },
    {
      "cell_type": "code",
      "metadata": {
        "id": "7Z2j4l1WkQKp",
        "colab_type": "code",
        "colab": {}
      },
      "source": [
        "plt.subplots(1,2,2)\n",
        "plt.stem(values)\n",
        "\n",
        "plt.show()\n",
        " \n",
        "# stem function: second way\n",
        " (markerline, stemlines, baseline) = plt.stem(x, values)\n",
        " plt.setp(baseline, visible=False)\n",
        " #plt.show()\n"
      ],
      "execution_count": 0,
      "outputs": []
    },
    {
      "cell_type": "code",
      "metadata": {
        "id": "G0E6fwA4yrQj",
        "colab_type": "code",
        "outputId": "49b40a3a-115d-4b74-9b3f-73366b02ed82",
        "colab": {
          "base_uri": "https://localhost:8080/",
          "height": 321
        }
      },
      "source": [
        "ax=pt.RainCloud(x='target',y='word_count_clean_sw',data=train_no_duplicates, showmeans=True,\n",
        "width_viol=1.2,\n",
        "width_box=0.1,\n",
        "figsize=(8,15),\n",
        "orient='h')\n",
        "ax.set_title('RainCloud Plot: Distribución Cantidad de Palabras \\n por Target - post-cleaning',fontsize=14,fontweight='bold')\n",
        "ax.set_xlabel('Cantidad de palabras')\n",
        "ax.set_ylabel('')\n",
        "plt.yticks([0, 1], ['Not Real', 'Real'])\n",
        "plt.show()"
      ],
      "execution_count": 199,
      "outputs": [
        {
          "output_type": "display_data",
          "data": {
            "image/png": "[encoded data removed]",
            "text/plain": [
              "<Figure size 432x288 with 1 Axes>"
            ]
          },
          "metadata": {
            "tags": [],
            "needs_background": "light"
          }
        }
      ]
    },
    {
      "cell_type": "code",
      "metadata": {
        "id": "AZf0s502TZN1",
        "colab_type": "code",
        "outputId": "c0d829d1-ea8d-4893-90da-312e88ce91c6",
        "colab": {
          "base_uri": "https://localhost:8080/",
          "height": 321
        }
      },
      "source": [
        "ax=pt.RainCloud(x='target',y='avg_word_len',data=train_no_duplicates, showmeans=True,\n",
        "width_viol=1.2,\n",
        "width_box=0.1,\n",
        "figsize=(8,15),\n",
        "orient='h')\n",
        "ax.set_title('RainCloud Plot: Distribución Cantidad de Caracteres Promedio por Palabra\\n por Target - pre-cleaning',fontsize=14,fontweight='bold')\n",
        "ax.set_xlabel('Cantidad de Caracteres Promedio por Palabra')\n",
        "ax.set_ylabel('')\n",
        "plt.yticks([0, 1], ['Not Real', 'Real'])\n",
        "plt.show()"
      ],
      "execution_count": 200,
      "outputs": [
        {
          "output_type": "display_data",
          "data": {
            "image/png": "[encoded data removed]",
            "text/plain": [
              "<Figure size 432x288 with 1 Axes>"
            ]
          },
          "metadata": {
            "tags": [],
            "needs_background": "light"
          }
        }
      ]
    },
    {
      "cell_type": "code",
      "metadata": {
        "id": "4iRRIKbLSask",
        "colab_type": "code",
        "colab": {
          "base_uri": "https://localhost:8080/",
          "height": 321
        },
        "outputId": "b513b88a-4263-4d5d-a9d0-3a68299bfb49"
      },
      "source": [
        "ax=pt.RainCloud(x='target',y='avg_word_len_clean_sw',data=train_no_duplicates, showmeans=True,\n",
        "width_viol=1.2,\n",
        "width_box=0.1,\n",
        "figsize=(8,15),\n",
        "orient='h')\n",
        "ax.set_title('RainCloud Plot: Distribución Cantidad de Caracteres Promedio por Palabra\\n por Target - post-cleaning',fontsize=14,fontweight='bold')\n",
        "ax.set_xlabel('Cantidad de Caracteres Promedio por Palabra')\n",
        "ax.set_ylabel('')\n",
        "plt.yticks([0, 1], ['Not Real', 'Real'])\n",
        "plt.show()"
      ],
      "execution_count": 201,
      "outputs": [
        {
          "output_type": "display_data",
          "data": {
            "image/png": "[encoded data removed]",
            "text/plain": [
              "<Figure size 432x288 with 1 Axes>"
            ]
          },
          "metadata": {
            "tags": [],
            "needs_background": "light"
          }
        }
      ]
    },
    {
      "cell_type": "code",
      "metadata": {
        "id": "6ZpP5J1rasRU",
        "colab_type": "code",
        "colab": {
          "base_uri": "https://localhost:8080/",
          "height": 51
        },
        "outputId": "b884fba4-3134-44ef-edce-2b3b977188e8"
      },
      "source": [
        "#Asimetrias para avg_word_len\n",
        "print(train_no_duplicates[train_no_duplicates.loc[:,'target']==0]['avg_word_len'].skew())\n",
        "print(train_no_duplicates[train_no_duplicates.loc[:,'target']==1]['avg_word_len'].skew())"
      ],
      "execution_count": 203,
      "outputs": [
        {
          "output_type": "stream",
          "text": [
            "1.403000246191955\n",
            "1.0159676672467375\n"
          ],
          "name": "stdout"
        }
      ]
    },
    {
      "cell_type": "code",
      "metadata": {
        "id": "Vl45-koKiptM",
        "colab_type": "code",
        "colab": {
          "base_uri": "https://localhost:8080/",
          "height": 51
        },
        "outputId": "3e2257e7-647e-43a3-e55e-400caf45e082"
      },
      "source": [
        "#Asimetría para av_word_len_clen_sw\n",
        "print(train_no_duplicates[train_no_duplicates.loc[:,'target']==0]['avg_word_len_clean_sw'].skew())\n",
        "print(train_no_duplicates[train_no_duplicates.loc[:,'target']==1]['avg_word_len_clean_sw'].skew())"
      ],
      "execution_count": 204,
      "outputs": [
        {
          "output_type": "stream",
          "text": [
            "0.6887646041189815\n",
            "0.399229049585233\n"
          ],
          "name": "stdout"
        }
      ]
    },
    {
      "cell_type": "code",
      "metadata": {
        "id": "Vb9-Y_sTl_yw",
        "colab_type": "code",
        "colab": {}
      },
      "source": [
        "#Comparamos las distribuciones de url count por target. \n",
        "import ptitprince as pt\n",
        "ax=pt.RainCloud(x='target',y='url_count',data=train_no_duplicates, showmeans=True,\n",
        "width_viol=1.2,\n",
        "width_box=0.1,\n",
        "figsize=(8,15),\n",
        "orient='h')\n",
        "ax.set_title('RainCloud Plot: Distribución de Cantidad de URLs por Target',fontsize=14,fontweight='bold')\n",
        "ax.set_xlabel('Cantidad de URL')\n",
        "ax.set_ylabel('')\n",
        "plt.yticks([0, 1], ['Not Real', 'Real'])\n",
        "plt.show()\n",
        "\n"
      ],
      "execution_count": 0,
      "outputs": []
    },
    {
      "cell_type": "code",
      "metadata": {
        "id": "py8S3w3_3xIY",
        "colab_type": "code",
        "colab": {}
      },
      "source": [
        "#Veamos la correlación entre estas dos variables. \n",
        "train_no_duplicates[['target','url_count']].corr()"
      ],
      "execution_count": 0,
      "outputs": []
    },
    {
      "cell_type": "code",
      "metadata": {
        "id": "5lOpUUl2wU-n",
        "colab_type": "code",
        "colab": {}
      },
      "source": [
        "#Comparamos la distribuciones de hashtags por target. \n",
        "import ptitprince as pt\n",
        "ax=pt.RainCloud(x='target',y='hashtag_count',data=train_no_duplicates, showmeans=True,\n",
        "width_viol=1.2,\n",
        "width_box=0.1,\n",
        "figsize=(8,15),\n",
        "orient='h')\n",
        "ax.set_title('RainCloud Plot: Distribución de Cantidad de Hashtags por Target',fontsize=14,fontweight='bold')\n",
        "ax.set_xlabel('Cantidad de Hashtags')\n",
        "ax.set_ylabel('')\n",
        "plt.yticks([0, 1], ['Not Real', 'Real'])\n",
        "plt.show()"
      ],
      "execution_count": 0,
      "outputs": []
    },
    {
      "cell_type": "code",
      "metadata": {
        "id": "Uab0Bst025XX",
        "colab_type": "code",
        "colab": {}
      },
      "source": [
        "#Comparamos la distribuciones de mentions_count por target. \n",
        "import ptitprince as pt\n",
        "ax=pt.RainCloud(x='target',y='mention_count',data=train_no_duplicates, showmeans=True,\n",
        "width_viol=1.2,\n",
        "width_box=0.1,\n",
        "figsize=(8,15),\n",
        "orient='h')\n",
        "ax.set_title('RainCloud Plot: Distribución de Cantidad de Mentions por Target',fontsize=14,fontweight='bold')\n",
        "ax.set_xlabel('Cantidad de Mentions')\n",
        "ax.set_ylabel('')\n",
        "plt.yticks([0, 1], ['Not Real', 'Real'])\n",
        "plt.show()"
      ],
      "execution_count": 0,
      "outputs": []
    },
    {
      "cell_type": "code",
      "metadata": {
        "id": "gpVxg8F2_xZc",
        "colab_type": "code",
        "colab": {}
      },
      "source": [
        "#Comparamos la distribuciones de digits_count por target. \n",
        "import ptitprince as pt\n",
        "ax=pt.RainCloud(x='target',y='digits_count',data=train_no_duplicates, showmeans=True,\n",
        "width_viol=1.2,\n",
        "width_box=0.1,\n",
        "figsize=(8,15),\n",
        "orient='h')\n",
        "ax.set_title('RainCloud Plot: Distribución de Cantidad de Dígitos por Target',fontsize=14,fontweight='bold')\n",
        "ax.set_xlabel('Cantidad de Dígitos')\n",
        "ax.set_ylabel('')\n",
        "plt.yticks([0, 1], ['Not Real', 'Real'])\n",
        "plt.show()"
      ],
      "execution_count": 0,
      "outputs": []
    },
    {
      "cell_type": "code",
      "metadata": {
        "id": "vR3glUR-EvF_",
        "colab_type": "code",
        "colab": {}
      },
      "source": [
        "#Value Counts de digits_count\n",
        "train_no_duplicates.digits_count.value_counts(normalize=True)"
      ],
      "execution_count": 0,
      "outputs": []
    },
    {
      "cell_type": "markdown",
      "metadata": {
        "id": "1TViThuFzIpn",
        "colab_type": "text"
      },
      "source": [
        "#Analisis de Stopwords "
      ]
    },
    {
      "cell_type": "code",
      "metadata": {
        "id": "oFr90V0szM_J",
        "colab_type": "code",
        "colab": {}
      },
      "source": [
        "sw = stopwords.words(\"english\")\n",
        "\n",
        "def generate_tokens(target):\n",
        "    text_tokens=[]\n",
        "    for x in train_no_duplicates[train_no_duplicates['target']==target]['text_clean'].str.split():\n",
        "        for i in x:\n",
        "            text_tokens.append(i)\n",
        "    return text_tokens\n",
        "\n",
        "#Analizo stopwords para target Not Real\n",
        "tokens_0=generate_tokens(0)\n",
        "\n",
        "dic=defaultdict(int)\n",
        "\n",
        "for word in tokens_0:\n",
        "    if word in sw:\n",
        "        dic[word]+=1\n",
        "\n",
        "stopwords_0=dic\n",
        "\n",
        "\n",
        "#Analizo stopwords para target Real\n",
        "\n",
        "tokens_1=generate_tokens(1)\n",
        "\n",
        "dic=defaultdict(int)\n",
        "\n",
        "for word in tokens_1:\n",
        "    if word in sw:\n",
        "        dic[word]+=1\n",
        "\n",
        "stopwords_1=dic\n"
      ],
      "execution_count": 0,
      "outputs": []
    },
    {
      "cell_type": "code",
      "metadata": {
        "id": "9zsGE11q5mZM",
        "colab_type": "code",
        "colab": {}
      },
      "source": [
        "stopwords_0=pd.DataFrame.from_dict(stopwords_0,orient='index').reset_index()\n",
        "stopwords_1=pd.DataFrame.from_dict(stopwords_1,orient='index').reset_index()"
      ],
      "execution_count": 0,
      "outputs": []
    },
    {
      "cell_type": "code",
      "metadata": {
        "id": "uynxyjN9BYLP",
        "colab_type": "code",
        "colab": {}
      },
      "source": [
        "stopwords_merged=pd.merge(stopwords_0,stopwords_1,how='outer',on='index')"
      ],
      "execution_count": 0,
      "outputs": []
    },
    {
      "cell_type": "code",
      "metadata": {
        "id": "UMOc2VsBDNSu",
        "colab_type": "code",
        "colab": {}
      },
      "source": [
        "stopwords_merged.columns=['stopwords','target_0','target_1']"
      ],
      "execution_count": 0,
      "outputs": []
    },
    {
      "cell_type": "code",
      "metadata": {
        "id": "HYwRIZvaIrP-",
        "colab_type": "code",
        "colab": {}
      },
      "source": [
        "stopwords_merged['target_0']=pd.to_numeric(stopwords_merged.target_0)\n",
        "stopwords_merged['target_1']=pd.to_numeric(stopwords_merged.target_1)"
      ],
      "execution_count": 0,
      "outputs": []
    },
    {
      "cell_type": "code",
      "metadata": {
        "id": "Vs5ptJCjEul0",
        "colab_type": "code",
        "colab": {}
      },
      "source": [
        "stopwords_merged.target_0.fillna(0,inplace=True)\n",
        "stopwords_merged.target_1.fillna(0,inplace=True)\n",
        "stopwords_merged"
      ],
      "execution_count": 0,
      "outputs": []
    },
    {
      "cell_type": "code",
      "metadata": {
        "id": "JQcPqxbRDjiX",
        "colab_type": "code",
        "colab": {}
      },
      "source": [
        "stopwords_merged['total_count']=stopwords_merged['target_0']+stopwords_merged['target_1']\n",
        "stopwords_merged['truthfulness']=stopwords_merged['target_1']/stopwords_merged['total_count']"
      ],
      "execution_count": 0,
      "outputs": []
    },
    {
      "cell_type": "code",
      "metadata": {
        "id": "2iQsZZLgMF2o",
        "colab_type": "code",
        "colab": {}
      },
      "source": [
        "#Le pido que me muestre cuando target_1 es mayor a target_0\n",
        "stopwords_merged[stopwords_merged.loc[:,'target_1']>stopwords_merged.loc[:,'target_0']].sort_values(by='total_count', ascending=False).head(20)"
      ],
      "execution_count": 0,
      "outputs": []
    },
    {
      "cell_type": "code",
      "metadata": {
        "id": "P5Wgb08kMHnS",
        "colab_type": "code",
        "colab": {}
      },
      "source": [
        "#Le pido que me muestre cuando target_0 es mayor que target_1\n",
        "stopwords_merged[stopwords_merged.loc[:,'target_0']>stopwords_merged.loc[:,'target_1']].sort_values(by='total_count', ascending=False).head(20)"
      ],
      "execution_count": 0,
      "outputs": []
    },
    {
      "cell_type": "markdown",
      "metadata": {
        "id": "8b7VDXjXHoTd",
        "colab_type": "text"
      },
      "source": [
        "Falta gráfico acá. "
      ]
    },
    {
      "cell_type": "markdown",
      "metadata": {
        "id": "BdM5u4gsH3ss",
        "colab_type": "text"
      },
      "source": [
        "# Análisis de clase de palabras"
      ]
    },
    {
      "cell_type": "markdown",
      "metadata": {
        "id": "QtMaSBnLNUQv",
        "colab_type": "text"
      },
      "source": [
        "Se requiere uso de librería TweetTokenizer para poder interpretar correctamente la clase de cada palabra, dado que no se puede realizar sacando las palabras de su contexto. Hay que hacerlo primero obteniendo los tags para cada fila, luego unificarlos. Los tags provienen del tagset Penn Treebank Tokenization. Hemos agrupado las sub-clases en clases. \n"
      ]
    },
    {
      "cell_type": "code",
      "metadata": {
        "id": "cbg2Lxy103ar",
        "colab_type": "code",
        "colab": {}
      },
      "source": [
        "clases_y_subclases = {'noun': [('NN','singular comon noun'), \n",
        "                             ('NNP','singular poper noun'),\n",
        "                             ('NNS', 'plural comon noun'),\n",
        "                             ('NNPS', 'plural proper noun')],\n",
        "                      'verb':  [('VB', 'base form verb'),\n",
        "                              ('VBD', 'past tense verb'),\n",
        "                              ('VBG','verb, present participle or gerund'),\n",
        "                              ('VBN', 'verb, past participle'),\n",
        "                              ('VBP','verb, present tense, not 3rd person singular'), \n",
        "                              ('VBZ','verb, present tense, 3rd person singular'),\n",
        "                              ('MD','modal auxiliary')],\n",
        "                      'adjetives': [('JJ','adjective or numeral, ordinal'),\n",
        "                                    ('JJR','adjective, comparative'),\n",
        "                                    ('JJS','adjective, superlative')],\n",
        "                      'pronouns': [('PRP','pronoun, personal'),\n",
        "                                   ('PRP$','pronoun, possessive'),\n",
        "                                   ('WP','WH-pronoun'),\n",
        "                                   ('WP$','WH-pronoun, possessive')],\n",
        "                      'determiners': [('PDT','pre-determiner'),\n",
        "                                      ('DT','determiner'),\n",
        "                                      ('WDT','WH-determiner')],\n",
        "                      'adverbs': [('RB','adverb'),\n",
        "                                  ('RBR','adverb, comparative'),\n",
        "                                  ('RBS','adverb, superlative'),\n",
        "                                  ('RP','particle'),\n",
        "                                  ('EX','existential there')],\n",
        "                      'prepositions': [('IN','preposition or conjunction, subordinating'),\n",
        "                                       ('TO','to as preposition or infinitive marker')],\n",
        "                      'conjuctions': [('CC','conjunction, coordinating')],\n",
        "                      'numerals_cardinals': [('CD','numeral, cardinal')],\n",
        "                      'foreing_words': [('FW','foreing word')],\n",
        "                      'quotes': [(\"''\",'quotes')],\n",
        "                      'interjections': [('UH','interjection')],\n",
        "                      '$': [('$','dolar')],\n",
        "                      'symbols': [('SYM','symbol')]\n",
        "}"
      ],
      "execution_count": 0,
      "outputs": []
    },
    {
      "cell_type": "code",
      "metadata": {
        "id": "aqSViCeBH-ZQ",
        "colab_type": "code",
        "outputId": "ffd6113a-92f8-4357-d1e8-24ec7e7045ed",
        "colab": {
          "base_uri": "https://localhost:8080/",
          "height": 221
        }
      },
      "source": [
        "#Obtenemos el token de cada texto. \n",
        "from nltk.tokenize import TweetTokenizer\n",
        "tt = TweetTokenizer()\n",
        "train_no_duplicates['tokenized_text']=train_no_duplicates['text_clean'].apply(lambda x: x.lower()).apply(tt.tokenize) \n",
        "train_no_duplicates['tokenized_text']"
      ],
      "execution_count": 205,
      "outputs": [
        {
          "output_type": "execute_result",
          "data": {
            "text/plain": [
              "0       [our, deeds, are, the, reason, of, this, earth...\n",
              "1           [forest, fire, near, la, ronge, sask, canada]\n",
              "2       [all, residents, asked, to, shelter, in, place...\n",
              "3       [13, 000, people, receive, wildfires, evacuati...\n",
              "4       [just, got, sent, this, photo, from, ruby, ala...\n",
              "                              ...                        \n",
              "7602    [a, siren, just, went, off, and, it, wasn, t, ...\n",
              "7603    [officials, say, a, quarantine, is, in, place,...\n",
              "7604    [worldnews, fallen, powerlines, on, g, link, t...\n",
              "7605    [on, the, flip, side, i, m, at, walmart, and, ...\n",
              "7606    [suicide, bomber, kills, 15, in, saudi, securi...\n",
              "Name: tokenized_text, Length: 6889, dtype: object"
            ]
          },
          "metadata": {
            "tags": []
          },
          "execution_count": 205
        }
      ]
    },
    {
      "cell_type": "code",
      "metadata": {
        "id": "xosVWiOQL1Gi",
        "colab_type": "code",
        "outputId": "2e6335a5-07cd-401b-fe18-2170acfa4518",
        "colab": {
          "base_uri": "https://localhost:8080/",
          "height": 221
        }
      },
      "source": [
        "#Para cada token obtenemos el tag (clase de palabra)\n",
        "train_no_duplicates['pos_tagged_text'] = train_no_duplicates['tokenized_text'].apply(nltk.Text).apply(nltk.pos_tag) #Este paso me transforma la lista en \n",
        "#un texto entre paréntesis (que no sé qué es) y luego me arma una lista de tuplas (k,v) con la palabra y la clase de palabra. \n",
        "train_no_duplicates['pos_tagged_text'] "
      ],
      "execution_count": 206,
      "outputs": [
        {
          "output_type": "execute_result",
          "data": {
            "text/plain": [
              "0       [(our, PRP$), (deeds, NNS), (are, VBP), (the, ...\n",
              "1       [(forest, JJS), (fire, NN), (near, IN), (la, J...\n",
              "2       [(all, DT), (residents, NNS), (asked, VBD), (t...\n",
              "3       [(13, CD), (000, CD), (people, NNS), (receive,...\n",
              "4       [(just, RB), (got, VBN), (sent, VBD), (this, D...\n",
              "                              ...                        \n",
              "7602    [(a, DT), (siren, NN), (just, RB), (went, VBD)...\n",
              "7603    [(officials, NNS), (say, VBP), (a, DT), (quara...\n",
              "7604    [(worldnews, NNS), (fallen, VBN), (powerlines,...\n",
              "7605    [(on, IN), (the, DT), (flip, JJ), (side, NN), ...\n",
              "7606    [(suicide, JJ), (bomber, NN), (kills, NNS), (1...\n",
              "Name: pos_tagged_text, Length: 6889, dtype: object"
            ]
          },
          "metadata": {
            "tags": []
          },
          "execution_count": 206
        }
      ]
    },
    {
      "cell_type": "code",
      "metadata": {
        "id": "k79hUagNSdf-",
        "colab_type": "code",
        "outputId": "170c75e7-68e6-4b1d-9026-cb5642af053e",
        "colab": {
          "base_uri": "https://localhost:8080/",
          "height": 221
        }
      },
      "source": [
        "#En cada fila contamos la frecuencia de las clases de palabras\n",
        "from collections import Counter\n",
        "train_no_duplicates['pos_tagg_counts']=train_no_duplicates['pos_tagged_text'].apply(lambda x: Counter(tag for word,tag in x))\n",
        "train_no_duplicates['pos_tagg_counts']"
      ],
      "execution_count": 207,
      "outputs": [
        {
          "output_type": "execute_result",
          "data": {
            "text/plain": [
              "0       {'PRP$': 1, 'NNS': 1, 'VBP': 1, 'DT': 3, 'NN':...\n",
              "1                   {'JJS': 1, 'NN': 4, 'IN': 1, 'JJ': 1}\n",
              "2       {'DT': 2, 'NNS': 3, 'VBD': 1, 'TO': 1, 'VB': 1...\n",
              "3          {'CD': 2, 'NNS': 3, 'JJ': 1, 'NN': 2, 'IN': 1}\n",
              "4       {'RB': 1, 'VBN': 1, 'VBD': 1, 'DT': 2, 'NN': 4...\n",
              "                              ...                        \n",
              "7602    {'DT': 2, 'NN': 4, 'RB': 2, 'VBD': 1, 'CC': 1,...\n",
              "7603    {'NNS': 2, 'VBP': 1, 'DT': 3, 'NN': 6, 'VBZ': ...\n",
              "7604    {'NNS': 5, 'VBN': 2, 'IN': 1, 'NN': 4, 'JJ': 1...\n",
              "7605    {'IN': 4, 'DT': 2, 'JJ': 2, 'NN': 5, 'VBP': 2,...\n",
              "7606       {'JJ': 2, 'NN': 8, 'NNS': 2, 'CD': 1, 'IN': 2}\n",
              "Name: pos_tagg_counts, Length: 6889, dtype: object"
            ]
          },
          "metadata": {
            "tags": []
          },
          "execution_count": 207
        }
      ]
    },
    {
      "cell_type": "code",
      "metadata": {
        "id": "ZTQdAcqbckQg",
        "colab_type": "code",
        "outputId": "f071877b-5dc3-45a0-f335-eb30b7600168",
        "colab": {
          "base_uri": "https://localhost:8080/",
          "height": 34
        }
      },
      "source": [
        "#Creamos un dataframe con la misma cantidad de filas que el dataframe con el que venimos trabajando. \n",
        "#Las columnas serán todas las clases de palabras existentes en la librería nltk que estén dentro de nuestras frecuencias. \n",
        "data = train_no_duplicates['pos_tagg_counts']\n",
        "word_classes_df = pd.DataFrame.from_records(data, columns = data.sum().keys())\n",
        "len(word_classes_df)"
      ],
      "execution_count": 208,
      "outputs": [
        {
          "output_type": "execute_result",
          "data": {
            "text/plain": [
              "6889"
            ]
          },
          "metadata": {
            "tags": []
          },
          "execution_count": 208
        }
      ]
    },
    {
      "cell_type": "code",
      "metadata": {
        "id": "SMVuUm2cp-Ax",
        "colab_type": "code",
        "outputId": "967c69e9-2514-4fe8-c84d-e2a2f41a4fb0",
        "colab": {
          "base_uri": "https://localhost:8080/",
          "height": 439
        }
      },
      "source": [
        "#Dicho dataframe posee por fila el dato de la frecuencia para cada clase. \n",
        "word_classes_df.fillna(0,inplace=True)\n",
        "word_classes_df"
      ],
      "execution_count": 209,
      "outputs": [
        {
          "output_type": "execute_result",
          "data": {
            "text/html": [
              "<div>\n",
              "<style scoped>\n",
              "    .dataframe tbody tr th:only-of-type {\n",
              "        vertical-align: middle;\n",
              "    }\n",
              "\n",
              "    .dataframe tbody tr th {\n",
              "        vertical-align: top;\n",
              "    }\n",
              "\n",
              "    .dataframe thead th {\n",
              "        text-align: right;\n",
              "    }\n",
              "</style>\n",
              "<table border=\"1\" class=\"dataframe\">\n",
              "  <thead>\n",
              "    <tr style=\"text-align: right;\">\n",
              "      <th></th>\n",
              "      <th>PRP$</th>\n",
              "      <th>NNS</th>\n",
              "      <th>VBP</th>\n",
              "      <th>DT</th>\n",
              "      <th>NN</th>\n",
              "      <th>IN</th>\n",
              "      <th>MD</th>\n",
              "      <th>VB</th>\n",
              "      <th>JJ</th>\n",
              "      <th>PRP</th>\n",
              "      <th>JJS</th>\n",
              "      <th>VBD</th>\n",
              "      <th>TO</th>\n",
              "      <th>VBG</th>\n",
              "      <th>VBN</th>\n",
              "      <th>CC</th>\n",
              "      <th>CD</th>\n",
              "      <th>RB</th>\n",
              "      <th>EX</th>\n",
              "      <th>VBZ</th>\n",
              "      <th>WP</th>\n",
              "      <th>RP</th>\n",
              "      <th>JJR</th>\n",
              "      <th>NNP</th>\n",
              "      <th>WRB</th>\n",
              "      <th>$</th>\n",
              "      <th>WDT</th>\n",
              "      <th>RBR</th>\n",
              "      <th>RBS</th>\n",
              "      <th>PDT</th>\n",
              "      <th>FW</th>\n",
              "      <th>SYM</th>\n",
              "      <th>UH</th>\n",
              "      <th>WP$</th>\n",
              "      <th>''</th>\n",
              "    </tr>\n",
              "  </thead>\n",
              "  <tbody>\n",
              "    <tr>\n",
              "      <th>0</th>\n",
              "      <td>1.00</td>\n",
              "      <td>1.00</td>\n",
              "      <td>1.00</td>\n",
              "      <td>3.00</td>\n",
              "      <td>2.00</td>\n",
              "      <td>1.00</td>\n",
              "      <td>1.00</td>\n",
              "      <td>1.00</td>\n",
              "      <td>1.00</td>\n",
              "      <td>1.00</td>\n",
              "      <td>0.00</td>\n",
              "      <td>0.00</td>\n",
              "      <td>0.00</td>\n",
              "      <td>0.00</td>\n",
              "      <td>0.00</td>\n",
              "      <td>0.00</td>\n",
              "      <td>0.00</td>\n",
              "      <td>0.00</td>\n",
              "      <td>0.00</td>\n",
              "      <td>0.00</td>\n",
              "      <td>0.00</td>\n",
              "      <td>0.00</td>\n",
              "      <td>0.00</td>\n",
              "      <td>0.00</td>\n",
              "      <td>0.00</td>\n",
              "      <td>0.00</td>\n",
              "      <td>0.00</td>\n",
              "      <td>0.00</td>\n",
              "      <td>0.00</td>\n",
              "      <td>0.00</td>\n",
              "      <td>0.00</td>\n",
              "      <td>0.00</td>\n",
              "      <td>0.00</td>\n",
              "      <td>0.00</td>\n",
              "      <td>0.00</td>\n",
              "    </tr>\n",
              "    <tr>\n",
              "      <th>1</th>\n",
              "      <td>0.00</td>\n",
              "      <td>0.00</td>\n",
              "      <td>0.00</td>\n",
              "      <td>0.00</td>\n",
              "      <td>4.00</td>\n",
              "      <td>1.00</td>\n",
              "      <td>0.00</td>\n",
              "      <td>0.00</td>\n",
              "      <td>1.00</td>\n",
              "      <td>0.00</td>\n",
              "      <td>1.00</td>\n",
              "      <td>0.00</td>\n",
              "      <td>0.00</td>\n",
              "      <td>0.00</td>\n",
              "      <td>0.00</td>\n",
              "      <td>0.00</td>\n",
              "      <td>0.00</td>\n",
              "      <td>0.00</td>\n",
              "      <td>0.00</td>\n",
              "      <td>0.00</td>\n",
              "      <td>0.00</td>\n",
              "      <td>0.00</td>\n",
              "      <td>0.00</td>\n",
              "      <td>0.00</td>\n",
              "      <td>0.00</td>\n",
              "      <td>0.00</td>\n",
              "      <td>0.00</td>\n",
              "      <td>0.00</td>\n",
              "      <td>0.00</td>\n",
              "      <td>0.00</td>\n",
              "      <td>0.00</td>\n",
              "      <td>0.00</td>\n",
              "      <td>0.00</td>\n",
              "      <td>0.00</td>\n",
              "      <td>0.00</td>\n",
              "    </tr>\n",
              "    <tr>\n",
              "      <th>2</th>\n",
              "      <td>0.00</td>\n",
              "      <td>3.00</td>\n",
              "      <td>2.00</td>\n",
              "      <td>2.00</td>\n",
              "      <td>4.00</td>\n",
              "      <td>3.00</td>\n",
              "      <td>0.00</td>\n",
              "      <td>1.00</td>\n",
              "      <td>1.00</td>\n",
              "      <td>0.00</td>\n",
              "      <td>0.00</td>\n",
              "      <td>1.00</td>\n",
              "      <td>1.00</td>\n",
              "      <td>1.00</td>\n",
              "      <td>2.00</td>\n",
              "      <td>1.00</td>\n",
              "      <td>0.00</td>\n",
              "      <td>0.00</td>\n",
              "      <td>0.00</td>\n",
              "      <td>0.00</td>\n",
              "      <td>0.00</td>\n",
              "      <td>0.00</td>\n",
              "      <td>0.00</td>\n",
              "      <td>0.00</td>\n",
              "      <td>0.00</td>\n",
              "      <td>0.00</td>\n",
              "      <td>0.00</td>\n",
              "      <td>0.00</td>\n",
              "      <td>0.00</td>\n",
              "      <td>0.00</td>\n",
              "      <td>0.00</td>\n",
              "      <td>0.00</td>\n",
              "      <td>0.00</td>\n",
              "      <td>0.00</td>\n",
              "      <td>0.00</td>\n",
              "    </tr>\n",
              "    <tr>\n",
              "      <th>3</th>\n",
              "      <td>0.00</td>\n",
              "      <td>3.00</td>\n",
              "      <td>0.00</td>\n",
              "      <td>0.00</td>\n",
              "      <td>2.00</td>\n",
              "      <td>1.00</td>\n",
              "      <td>0.00</td>\n",
              "      <td>0.00</td>\n",
              "      <td>1.00</td>\n",
              "      <td>0.00</td>\n",
              "      <td>0.00</td>\n",
              "      <td>0.00</td>\n",
              "      <td>0.00</td>\n",
              "      <td>0.00</td>\n",
              "      <td>0.00</td>\n",
              "      <td>0.00</td>\n",
              "      <td>2.00</td>\n",
              "      <td>0.00</td>\n",
              "      <td>0.00</td>\n",
              "      <td>0.00</td>\n",
              "      <td>0.00</td>\n",
              "      <td>0.00</td>\n",
              "      <td>0.00</td>\n",
              "      <td>0.00</td>\n",
              "      <td>0.00</td>\n",
              "      <td>0.00</td>\n",
              "      <td>0.00</td>\n",
              "      <td>0.00</td>\n",
              "      <td>0.00</td>\n",
              "      <td>0.00</td>\n",
              "      <td>0.00</td>\n",
              "      <td>0.00</td>\n",
              "      <td>0.00</td>\n",
              "      <td>0.00</td>\n",
              "      <td>0.00</td>\n",
              "    </tr>\n",
              "    <tr>\n",
              "      <th>4</th>\n",
              "      <td>0.00</td>\n",
              "      <td>1.00</td>\n",
              "      <td>1.00</td>\n",
              "      <td>2.00</td>\n",
              "      <td>4.00</td>\n",
              "      <td>4.00</td>\n",
              "      <td>0.00</td>\n",
              "      <td>0.00</td>\n",
              "      <td>1.00</td>\n",
              "      <td>0.00</td>\n",
              "      <td>0.00</td>\n",
              "      <td>1.00</td>\n",
              "      <td>0.00</td>\n",
              "      <td>0.00</td>\n",
              "      <td>1.00</td>\n",
              "      <td>0.00</td>\n",
              "      <td>0.00</td>\n",
              "      <td>1.00</td>\n",
              "      <td>0.00</td>\n",
              "      <td>0.00</td>\n",
              "      <td>0.00</td>\n",
              "      <td>0.00</td>\n",
              "      <td>0.00</td>\n",
              "      <td>0.00</td>\n",
              "      <td>0.00</td>\n",
              "      <td>0.00</td>\n",
              "      <td>0.00</td>\n",
              "      <td>0.00</td>\n",
              "      <td>0.00</td>\n",
              "      <td>0.00</td>\n",
              "      <td>0.00</td>\n",
              "      <td>0.00</td>\n",
              "      <td>0.00</td>\n",
              "      <td>0.00</td>\n",
              "      <td>0.00</td>\n",
              "    </tr>\n",
              "    <tr>\n",
              "      <th>...</th>\n",
              "      <td>...</td>\n",
              "      <td>...</td>\n",
              "      <td>...</td>\n",
              "      <td>...</td>\n",
              "      <td>...</td>\n",
              "      <td>...</td>\n",
              "      <td>...</td>\n",
              "      <td>...</td>\n",
              "      <td>...</td>\n",
              "      <td>...</td>\n",
              "      <td>...</td>\n",
              "      <td>...</td>\n",
              "      <td>...</td>\n",
              "      <td>...</td>\n",
              "      <td>...</td>\n",
              "      <td>...</td>\n",
              "      <td>...</td>\n",
              "      <td>...</td>\n",
              "      <td>...</td>\n",
              "      <td>...</td>\n",
              "      <td>...</td>\n",
              "      <td>...</td>\n",
              "      <td>...</td>\n",
              "      <td>...</td>\n",
              "      <td>...</td>\n",
              "      <td>...</td>\n",
              "      <td>...</td>\n",
              "      <td>...</td>\n",
              "      <td>...</td>\n",
              "      <td>...</td>\n",
              "      <td>...</td>\n",
              "      <td>...</td>\n",
              "      <td>...</td>\n",
              "      <td>...</td>\n",
              "      <td>...</td>\n",
              "    </tr>\n",
              "    <tr>\n",
              "      <th>6884</th>\n",
              "      <td>0.00</td>\n",
              "      <td>0.00</td>\n",
              "      <td>0.00</td>\n",
              "      <td>2.00</td>\n",
              "      <td>4.00</td>\n",
              "      <td>1.00</td>\n",
              "      <td>0.00</td>\n",
              "      <td>0.00</td>\n",
              "      <td>0.00</td>\n",
              "      <td>1.00</td>\n",
              "      <td>0.00</td>\n",
              "      <td>1.00</td>\n",
              "      <td>0.00</td>\n",
              "      <td>0.00</td>\n",
              "      <td>0.00</td>\n",
              "      <td>1.00</td>\n",
              "      <td>0.00</td>\n",
              "      <td>2.00</td>\n",
              "      <td>0.00</td>\n",
              "      <td>1.00</td>\n",
              "      <td>0.00</td>\n",
              "      <td>0.00</td>\n",
              "      <td>0.00</td>\n",
              "      <td>0.00</td>\n",
              "      <td>0.00</td>\n",
              "      <td>0.00</td>\n",
              "      <td>0.00</td>\n",
              "      <td>0.00</td>\n",
              "      <td>0.00</td>\n",
              "      <td>0.00</td>\n",
              "      <td>0.00</td>\n",
              "      <td>0.00</td>\n",
              "      <td>0.00</td>\n",
              "      <td>0.00</td>\n",
              "      <td>0.00</td>\n",
              "    </tr>\n",
              "    <tr>\n",
              "      <th>6885</th>\n",
              "      <td>0.00</td>\n",
              "      <td>2.00</td>\n",
              "      <td>1.00</td>\n",
              "      <td>3.00</td>\n",
              "      <td>6.00</td>\n",
              "      <td>4.00</td>\n",
              "      <td>0.00</td>\n",
              "      <td>0.00</td>\n",
              "      <td>1.00</td>\n",
              "      <td>0.00</td>\n",
              "      <td>0.00</td>\n",
              "      <td>0.00</td>\n",
              "      <td>0.00</td>\n",
              "      <td>1.00</td>\n",
              "      <td>0.00</td>\n",
              "      <td>0.00</td>\n",
              "      <td>0.00</td>\n",
              "      <td>0.00</td>\n",
              "      <td>0.00</td>\n",
              "      <td>1.00</td>\n",
              "      <td>0.00</td>\n",
              "      <td>0.00</td>\n",
              "      <td>0.00</td>\n",
              "      <td>0.00</td>\n",
              "      <td>0.00</td>\n",
              "      <td>0.00</td>\n",
              "      <td>0.00</td>\n",
              "      <td>0.00</td>\n",
              "      <td>0.00</td>\n",
              "      <td>0.00</td>\n",
              "      <td>0.00</td>\n",
              "      <td>0.00</td>\n",
              "      <td>0.00</td>\n",
              "      <td>0.00</td>\n",
              "      <td>0.00</td>\n",
              "    </tr>\n",
              "    <tr>\n",
              "      <th>6886</th>\n",
              "      <td>0.00</td>\n",
              "      <td>5.00</td>\n",
              "      <td>1.00</td>\n",
              "      <td>0.00</td>\n",
              "      <td>4.00</td>\n",
              "      <td>1.00</td>\n",
              "      <td>0.00</td>\n",
              "      <td>0.00</td>\n",
              "      <td>1.00</td>\n",
              "      <td>0.00</td>\n",
              "      <td>0.00</td>\n",
              "      <td>1.00</td>\n",
              "      <td>1.00</td>\n",
              "      <td>0.00</td>\n",
              "      <td>2.00</td>\n",
              "      <td>0.00</td>\n",
              "      <td>1.00</td>\n",
              "      <td>0.00</td>\n",
              "      <td>0.00</td>\n",
              "      <td>0.00</td>\n",
              "      <td>1.00</td>\n",
              "      <td>1.00</td>\n",
              "      <td>0.00</td>\n",
              "      <td>0.00</td>\n",
              "      <td>0.00</td>\n",
              "      <td>0.00</td>\n",
              "      <td>0.00</td>\n",
              "      <td>0.00</td>\n",
              "      <td>0.00</td>\n",
              "      <td>0.00</td>\n",
              "      <td>0.00</td>\n",
              "      <td>0.00</td>\n",
              "      <td>0.00</td>\n",
              "      <td>0.00</td>\n",
              "      <td>0.00</td>\n",
              "    </tr>\n",
              "    <tr>\n",
              "      <th>6887</th>\n",
              "      <td>0.00</td>\n",
              "      <td>1.00</td>\n",
              "      <td>2.00</td>\n",
              "      <td>2.00</td>\n",
              "      <td>5.00</td>\n",
              "      <td>4.00</td>\n",
              "      <td>0.00</td>\n",
              "      <td>1.00</td>\n",
              "      <td>2.00</td>\n",
              "      <td>0.00</td>\n",
              "      <td>0.00</td>\n",
              "      <td>1.00</td>\n",
              "      <td>1.00</td>\n",
              "      <td>0.00</td>\n",
              "      <td>0.00</td>\n",
              "      <td>3.00</td>\n",
              "      <td>0.00</td>\n",
              "      <td>3.00</td>\n",
              "      <td>1.00</td>\n",
              "      <td>1.00</td>\n",
              "      <td>0.00</td>\n",
              "      <td>0.00</td>\n",
              "      <td>0.00</td>\n",
              "      <td>0.00</td>\n",
              "      <td>0.00</td>\n",
              "      <td>0.00</td>\n",
              "      <td>0.00</td>\n",
              "      <td>0.00</td>\n",
              "      <td>0.00</td>\n",
              "      <td>0.00</td>\n",
              "      <td>0.00</td>\n",
              "      <td>0.00</td>\n",
              "      <td>0.00</td>\n",
              "      <td>0.00</td>\n",
              "      <td>0.00</td>\n",
              "    </tr>\n",
              "    <tr>\n",
              "      <th>6888</th>\n",
              "      <td>0.00</td>\n",
              "      <td>2.00</td>\n",
              "      <td>0.00</td>\n",
              "      <td>0.00</td>\n",
              "      <td>8.00</td>\n",
              "      <td>2.00</td>\n",
              "      <td>0.00</td>\n",
              "      <td>0.00</td>\n",
              "      <td>2.00</td>\n",
              "      <td>0.00</td>\n",
              "      <td>0.00</td>\n",
              "      <td>0.00</td>\n",
              "      <td>0.00</td>\n",
              "      <td>0.00</td>\n",
              "      <td>0.00</td>\n",
              "      <td>0.00</td>\n",
              "      <td>1.00</td>\n",
              "      <td>0.00</td>\n",
              "      <td>0.00</td>\n",
              "      <td>0.00</td>\n",
              "      <td>0.00</td>\n",
              "      <td>0.00</td>\n",
              "      <td>0.00</td>\n",
              "      <td>0.00</td>\n",
              "      <td>0.00</td>\n",
              "      <td>0.00</td>\n",
              "      <td>0.00</td>\n",
              "      <td>0.00</td>\n",
              "      <td>0.00</td>\n",
              "      <td>0.00</td>\n",
              "      <td>0.00</td>\n",
              "      <td>0.00</td>\n",
              "      <td>0.00</td>\n",
              "      <td>0.00</td>\n",
              "      <td>0.00</td>\n",
              "    </tr>\n",
              "  </tbody>\n",
              "</table>\n",
              "<p>6889 rows × 35 columns</p>\n",
              "</div>"
            ],
            "text/plain": [
              "                     PRP$  ...                   ''\n",
              "0                    1.00  ...                 0.00\n",
              "1                    0.00  ...                 0.00\n",
              "2                    0.00  ...                 0.00\n",
              "3                    0.00  ...                 0.00\n",
              "4                    0.00  ...                 0.00\n",
              "...                   ...  ...                  ...\n",
              "6884                 0.00  ...                 0.00\n",
              "6885                 0.00  ...                 0.00\n",
              "6886                 0.00  ...                 0.00\n",
              "6887                 0.00  ...                 0.00\n",
              "6888                 0.00  ...                 0.00\n",
              "\n",
              "[6889 rows x 35 columns]"
            ]
          },
          "metadata": {
            "tags": []
          },
          "execution_count": 209
        }
      ]
    },
    {
      "cell_type": "code",
      "metadata": {
        "id": "k600SU152LjV",
        "colab_type": "code",
        "outputId": "c87d3bca-d05c-4f44-bf5a-3a094183dadf",
        "colab": {
          "base_uri": "https://localhost:8080/",
          "height": 34
        }
      },
      "source": [
        "#Creamos una lista con 6889 elementos, todos integeres desde el 0 al 6888 inclusive, para poder usar como indice de la tabla train_no_duplicates\n",
        "def create_integers_ascending_list(number_elements): \n",
        "  lista=[]\n",
        "  i=0\n",
        "  number=0\n",
        "  while i<number_elements: \n",
        "    lista.append(number)\n",
        "    number=number+1\n",
        "    i=i+1\n",
        "  return lista\n",
        "\n",
        "int_list=create_integers_ascending_list(6889)\n",
        "len(int_list)"
      ],
      "execution_count": 210,
      "outputs": [
        {
          "output_type": "execute_result",
          "data": {
            "text/plain": [
              "6889"
            ]
          },
          "metadata": {
            "tags": []
          },
          "execution_count": 210
        }
      ]
    },
    {
      "cell_type": "code",
      "metadata": {
        "id": "2yBYUWNS4Uye",
        "colab_type": "code",
        "colab": {}
      },
      "source": [
        "#incorporamos la lista de integers al dataframe\n",
        "train_no_duplicates['index']=int_list"
      ],
      "execution_count": 0,
      "outputs": []
    },
    {
      "cell_type": "code",
      "metadata": {
        "id": "40Eltbsa5Ifh",
        "colab_type": "code",
        "outputId": "83003669-7a1d-4f0b-9bde-225e98c8b567",
        "colab": {
          "base_uri": "https://localhost:8080/",
          "height": 51
        }
      },
      "source": [
        "#Corroboramos que no haya generado nulls. \n",
        "train_no_duplicates['index'].isnull().value_counts()"
      ],
      "execution_count": 212,
      "outputs": [
        {
          "output_type": "execute_result",
          "data": {
            "text/plain": [
              "False    6889\n",
              "Name: index, dtype: int64"
            ]
          },
          "metadata": {
            "tags": []
          },
          "execution_count": 212
        }
      ]
    },
    {
      "cell_type": "code",
      "metadata": {
        "id": "kPEVgy355ZjN",
        "colab_type": "code",
        "colab": {}
      },
      "source": [
        "#seteamos un nuevo índice en train_no_duplicates para poder hacer el concat. \n",
        "train_no_duplicates.set_index('index', inplace=True)"
      ],
      "execution_count": 0,
      "outputs": []
    },
    {
      "cell_type": "code",
      "metadata": {
        "id": "dsEe5zeg51sb",
        "colab_type": "code",
        "outputId": "273e1ee4-f44b-447a-e92d-312e12f914e7",
        "colab": {
          "base_uri": "https://localhost:8080/",
          "height": 34
        }
      },
      "source": [
        "#Obtenemos el nuevo dataframe\n",
        "train_no_duplicates_merge_word_classes=pd.concat([train_no_duplicates,word_classes_df],axis=1)\n",
        "train_no_duplicates_merge_word_classes.shape"
      ],
      "execution_count": 214,
      "outputs": [
        {
          "output_type": "execute_result",
          "data": {
            "text/plain": [
              "(6889, 59)"
            ]
          },
          "metadata": {
            "tags": []
          },
          "execution_count": 214
        }
      ]
    },
    {
      "cell_type": "code",
      "metadata": {
        "id": "AZIzAyoVcxgY",
        "colab_type": "code",
        "colab": {}
      },
      "source": [
        "correlation = (train_no_duplicates_merge_word_classes.corr())['target'][16:]"
      ],
      "execution_count": 0,
      "outputs": []
    },
    {
      "cell_type": "code",
      "metadata": {
        "id": "-sq52qoafKt1",
        "colab_type": "code",
        "outputId": "3d39b4f6-81b4-4a51-a986-3c6b61f80ec4",
        "colab": {
          "base_uri": "https://localhost:8080/",
          "height": 102
        }
      },
      "source": [
        "#Variables que tienen correlación mayor a 0.1\n",
        "correlation[correlation.values>=0.1]"
      ],
      "execution_count": 220,
      "outputs": [
        {
          "output_type": "execute_result",
          "data": {
            "text/plain": [
              "NNS                   0.15\n",
              "NN                    0.13\n",
              "IN                    0.13\n",
              "CD                    0.12\n",
              "Name: target, dtype: float64"
            ]
          },
          "metadata": {
            "tags": []
          },
          "execution_count": 220
        }
      ]
    },
    {
      "cell_type": "code",
      "metadata": {
        "id": "Y9b1oZSZfOz0",
        "colab_type": "code",
        "outputId": "8b3a6088-bb2c-4b2a-aa72-3ae1c7fef169",
        "colab": {
          "base_uri": "https://localhost:8080/",
          "height": 119
        }
      },
      "source": [
        "#Varibales que tienen correlación menor a -0.1\n",
        "correlation[correlation.values<=-0.1]"
      ],
      "execution_count": 221,
      "outputs": [
        {
          "output_type": "execute_result",
          "data": {
            "text/plain": [
              "PRP$                  -0.15\n",
              "VBP                   -0.10\n",
              "VB                    -0.13\n",
              "PRP                   -0.18\n",
              "RB                    -0.10\n",
              "Name: target, dtype: float64"
            ]
          },
          "metadata": {
            "tags": []
          },
          "execution_count": 221
        }
      ]
    },
    {
      "cell_type": "code",
      "metadata": {
        "id": "Xss3BYQOf_G8",
        "colab_type": "code",
        "outputId": "fcf5de4e-014a-44a7-e5ce-6d4e9de30b9a",
        "colab": {
          "base_uri": "https://localhost:8080/",
          "height": 458
        }
      },
      "source": [
        "plt.subplot(1, 2, 1)\n",
        "\n",
        "#Variables que tienen correlación mayor a 0.1\n",
        "correlation[correlation.values>=0.1].plot(kind='bar', color='blue', figsize=(10,6))\n",
        "plt.title('Correlaciones de Sub-clases de Palabras \\n Coeficiente Mayor a 0.1',fontweight='bold', fontsize=15)\n",
        "plt.ylabel('Indice de Correlación', fontsize=15)\n",
        "plt.xlabel('Sub-clases de Palabras', fontsize=15)\n",
        "\n",
        "plt.subplot(1, 2, 2)\n",
        "\n",
        "#Varibales que tienen correlación menor a -0.1\n",
        "correlation[correlation.values<=-0.1].plot(kind='bar', color='red', figsize=(10,6))\n",
        "plt.title('Correlaciones de Sub-clases de Palabras \\n Coeficiente Menor a -0.1',fontweight='bold', fontsize=15)\n",
        "plt.ylabel('Indice de Correlación', fontsize=15)\n",
        "plt.xlabel('Sub-clases de Palabras', fontsize=15)\n",
        "\n",
        "plt.tight_layout()\n",
        "plt.show"
      ],
      "execution_count": 222,
      "outputs": [
        {
          "output_type": "execute_result",
          "data": {
            "text/plain": [
              "<function matplotlib.pyplot.show>"
            ]
          },
          "metadata": {
            "tags": []
          },
          "execution_count": 222
        },
        {
          "output_type": "display_data",
          "data": {
            "image/png": "[encoded data removed]",
            "text/plain": [
              "<Figure size 720x432 with 2 Axes>"
            ]
          },
          "metadata": {
            "tags": [],
            "needs_background": "light"
          }
        }
      ]
    },
    {
      "cell_type": "code",
      "metadata": {
        "id": "iEZfuJ-GVXES",
        "colab_type": "code",
        "outputId": "7457551e-1b73-428f-e169-0d11681d03d7",
        "colab": {
          "base_uri": "https://localhost:8080/",
          "height": 612
        }
      },
      "source": [
        "#Armo una lista con todos los nombres de las clases de palabras. \n",
        "agg_cols=train_no_duplicates_merge_word_classes.columns[24:].tolist()\n",
        "agg_cols"
      ],
      "execution_count": 224,
      "outputs": [
        {
          "output_type": "execute_result",
          "data": {
            "text/plain": [
              "['PRP$',\n",
              " 'NNS',\n",
              " 'VBP',\n",
              " 'DT',\n",
              " 'NN',\n",
              " 'IN',\n",
              " 'MD',\n",
              " 'VB',\n",
              " 'JJ',\n",
              " 'PRP',\n",
              " 'JJS',\n",
              " 'VBD',\n",
              " 'TO',\n",
              " 'VBG',\n",
              " 'VBN',\n",
              " 'CC',\n",
              " 'CD',\n",
              " 'RB',\n",
              " 'EX',\n",
              " 'VBZ',\n",
              " 'WP',\n",
              " 'RP',\n",
              " 'JJR',\n",
              " 'NNP',\n",
              " 'WRB',\n",
              " '$',\n",
              " 'WDT',\n",
              " 'RBR',\n",
              " 'RBS',\n",
              " 'PDT',\n",
              " 'FW',\n",
              " 'SYM',\n",
              " 'UH',\n",
              " 'WP$',\n",
              " \"''\"]"
            ]
          },
          "metadata": {
            "tags": []
          },
          "execution_count": 224
        }
      ]
    },
    {
      "cell_type": "code",
      "metadata": {
        "id": "8LB5ZDWf7eRC",
        "colab_type": "code",
        "colab": {}
      },
      "source": [
        "#Construyo la lista de nombres de columnas para poder hacer la agregación sólo sobre ellas. \n",
        "agg_cols.append('target')"
      ],
      "execution_count": 0,
      "outputs": []
    },
    {
      "cell_type": "code",
      "metadata": {
        "id": "q6432-PTQcIt",
        "colab_type": "code",
        "outputId": "e225172c-c91e-44bf-e454-23bd7633709e",
        "colab": {
          "base_uri": "https://localhost:8080/",
          "height": 629
        }
      },
      "source": [
        "agg_cols"
      ],
      "execution_count": 226,
      "outputs": [
        {
          "output_type": "execute_result",
          "data": {
            "text/plain": [
              "['PRP$',\n",
              " 'NNS',\n",
              " 'VBP',\n",
              " 'DT',\n",
              " 'NN',\n",
              " 'IN',\n",
              " 'MD',\n",
              " 'VB',\n",
              " 'JJ',\n",
              " 'PRP',\n",
              " 'JJS',\n",
              " 'VBD',\n",
              " 'TO',\n",
              " 'VBG',\n",
              " 'VBN',\n",
              " 'CC',\n",
              " 'CD',\n",
              " 'RB',\n",
              " 'EX',\n",
              " 'VBZ',\n",
              " 'WP',\n",
              " 'RP',\n",
              " 'JJR',\n",
              " 'NNP',\n",
              " 'WRB',\n",
              " '$',\n",
              " 'WDT',\n",
              " 'RBR',\n",
              " 'RBS',\n",
              " 'PDT',\n",
              " 'FW',\n",
              " 'SYM',\n",
              " 'UH',\n",
              " 'WP$',\n",
              " \"''\",\n",
              " 'target']"
            ]
          },
          "metadata": {
            "tags": []
          },
          "execution_count": 226
        }
      ]
    },
    {
      "cell_type": "code",
      "metadata": {
        "id": "xyP1TeWC2VQS",
        "colab_type": "code",
        "outputId": "efd561c8-3398-4926-a119-42e2c4679d9d",
        "colab": {
          "base_uri": "https://localhost:8080/",
          "height": 162
        }
      },
      "source": [
        "#Hacemos el agrupamiento sobre algunas columnas by 'target' con algunas medidas estadísticas\n",
        "tags_stats_by_target=train_no_duplicates_merge_word_classes[agg_cols].groupby('target').mean()\n",
        "tags_stats_by_target"
      ],
      "execution_count": 227,
      "outputs": [
        {
          "output_type": "execute_result",
          "data": {
            "text/html": [
              "<div>\n",
              "<style scoped>\n",
              "    .dataframe tbody tr th:only-of-type {\n",
              "        vertical-align: middle;\n",
              "    }\n",
              "\n",
              "    .dataframe tbody tr th {\n",
              "        vertical-align: top;\n",
              "    }\n",
              "\n",
              "    .dataframe thead th {\n",
              "        text-align: right;\n",
              "    }\n",
              "</style>\n",
              "<table border=\"1\" class=\"dataframe\">\n",
              "  <thead>\n",
              "    <tr style=\"text-align: right;\">\n",
              "      <th></th>\n",
              "      <th>PRP$</th>\n",
              "      <th>NNS</th>\n",
              "      <th>VBP</th>\n",
              "      <th>DT</th>\n",
              "      <th>NN</th>\n",
              "      <th>IN</th>\n",
              "      <th>MD</th>\n",
              "      <th>VB</th>\n",
              "      <th>JJ</th>\n",
              "      <th>PRP</th>\n",
              "      <th>JJS</th>\n",
              "      <th>VBD</th>\n",
              "      <th>TO</th>\n",
              "      <th>VBG</th>\n",
              "      <th>VBN</th>\n",
              "      <th>CC</th>\n",
              "      <th>CD</th>\n",
              "      <th>RB</th>\n",
              "      <th>EX</th>\n",
              "      <th>VBZ</th>\n",
              "      <th>WP</th>\n",
              "      <th>RP</th>\n",
              "      <th>JJR</th>\n",
              "      <th>NNP</th>\n",
              "      <th>WRB</th>\n",
              "      <th>$</th>\n",
              "      <th>WDT</th>\n",
              "      <th>RBR</th>\n",
              "      <th>RBS</th>\n",
              "      <th>PDT</th>\n",
              "      <th>FW</th>\n",
              "      <th>SYM</th>\n",
              "      <th>UH</th>\n",
              "      <th>WP$</th>\n",
              "      <th>''</th>\n",
              "    </tr>\n",
              "    <tr>\n",
              "      <th>target</th>\n",
              "      <th></th>\n",
              "      <th></th>\n",
              "      <th></th>\n",
              "      <th></th>\n",
              "      <th></th>\n",
              "      <th></th>\n",
              "      <th></th>\n",
              "      <th></th>\n",
              "      <th></th>\n",
              "      <th></th>\n",
              "      <th></th>\n",
              "      <th></th>\n",
              "      <th></th>\n",
              "      <th></th>\n",
              "      <th></th>\n",
              "      <th></th>\n",
              "      <th></th>\n",
              "      <th></th>\n",
              "      <th></th>\n",
              "      <th></th>\n",
              "      <th></th>\n",
              "      <th></th>\n",
              "      <th></th>\n",
              "      <th></th>\n",
              "      <th></th>\n",
              "      <th></th>\n",
              "      <th></th>\n",
              "      <th></th>\n",
              "      <th></th>\n",
              "      <th></th>\n",
              "      <th></th>\n",
              "      <th></th>\n",
              "      <th></th>\n",
              "      <th></th>\n",
              "      <th></th>\n",
              "    </tr>\n",
              "  </thead>\n",
              "  <tbody>\n",
              "    <tr>\n",
              "      <th>0</th>\n",
              "      <td>0.27</td>\n",
              "      <td>0.81</td>\n",
              "      <td>0.62</td>\n",
              "      <td>1.01</td>\n",
              "      <td>3.87</td>\n",
              "      <td>1.32</td>\n",
              "      <td>0.16</td>\n",
              "      <td>0.63</td>\n",
              "      <td>1.33</td>\n",
              "      <td>0.57</td>\n",
              "      <td>0.04</td>\n",
              "      <td>0.43</td>\n",
              "      <td>0.28</td>\n",
              "      <td>0.36</td>\n",
              "      <td>0.27</td>\n",
              "      <td>0.31</td>\n",
              "      <td>0.34</td>\n",
              "      <td>0.64</td>\n",
              "      <td>0.02</td>\n",
              "      <td>0.37</td>\n",
              "      <td>0.06</td>\n",
              "      <td>0.10</td>\n",
              "      <td>0.03</td>\n",
              "      <td>0.10</td>\n",
              "      <td>0.09</td>\n",
              "      <td>0.00</td>\n",
              "      <td>0.03</td>\n",
              "      <td>0.02</td>\n",
              "      <td>0.01</td>\n",
              "      <td>0.02</td>\n",
              "      <td>0.01</td>\n",
              "      <td>0.00</td>\n",
              "      <td>0.00</td>\n",
              "      <td>0.00</td>\n",
              "      <td>0.00</td>\n",
              "    </tr>\n",
              "    <tr>\n",
              "      <th>1</th>\n",
              "      <td>0.12</td>\n",
              "      <td>1.13</td>\n",
              "      <td>0.45</td>\n",
              "      <td>0.93</td>\n",
              "      <td>4.47</td>\n",
              "      <td>1.65</td>\n",
              "      <td>0.11</td>\n",
              "      <td>0.41</td>\n",
              "      <td>1.49</td>\n",
              "      <td>0.28</td>\n",
              "      <td>0.05</td>\n",
              "      <td>0.49</td>\n",
              "      <td>0.24</td>\n",
              "      <td>0.36</td>\n",
              "      <td>0.34</td>\n",
              "      <td>0.22</td>\n",
              "      <td>0.63</td>\n",
              "      <td>0.46</td>\n",
              "      <td>0.02</td>\n",
              "      <td>0.36</td>\n",
              "      <td>0.05</td>\n",
              "      <td>0.08</td>\n",
              "      <td>0.04</td>\n",
              "      <td>0.12</td>\n",
              "      <td>0.07</td>\n",
              "      <td>0.01</td>\n",
              "      <td>0.04</td>\n",
              "      <td>0.02</td>\n",
              "      <td>0.00</td>\n",
              "      <td>0.01</td>\n",
              "      <td>0.01</td>\n",
              "      <td>0.00</td>\n",
              "      <td>0.00</td>\n",
              "      <td>0.00</td>\n",
              "      <td>0.00</td>\n",
              "    </tr>\n",
              "  </tbody>\n",
              "</table>\n",
              "</div>"
            ],
            "text/plain": [
              "                       PRP$  ...                   ''\n",
              "target                       ...                     \n",
              "0                      0.27  ...                 0.00\n",
              "1                      0.12  ...                 0.00\n",
              "\n",
              "[2 rows x 35 columns]"
            ]
          },
          "metadata": {
            "tags": []
          },
          "execution_count": 227
        }
      ]
    },
    {
      "cell_type": "code",
      "metadata": {
        "id": "nIv8cBNU0Kh3",
        "colab_type": "code",
        "colab": {}
      },
      "source": [
        "#Eliminamos las que tienen valores bajos, es decir, por columna la suma sea inferior a 0.07\n",
        "barplot=tags_stats_by_target.loc[:,tags_stats_by_target.sum()>=0.07]"
      ],
      "execution_count": 0,
      "outputs": []
    },
    {
      "cell_type": "code",
      "metadata": {
        "id": "WfygbKnN2nJ6",
        "colab_type": "code",
        "outputId": "267ab91b-8539-4120-c296-25258eb23bbb",
        "colab": {
          "base_uri": "https://localhost:8080/",
          "height": 68
        }
      },
      "source": [
        "print(len(barplot.iloc[1,:].values))\n",
        "print(len(barplot.iloc[0,:].values))\n",
        "print(len(list(barplot.iloc[0,:].index)))"
      ],
      "execution_count": 229,
      "outputs": [
        {
          "output_type": "stream",
          "text": [
            "24\n",
            "24\n",
            "24\n"
          ],
          "name": "stdout"
        }
      ]
    },
    {
      "cell_type": "code",
      "metadata": {
        "id": "5pxdp0rbw4JT",
        "colab_type": "code",
        "outputId": "8e76a8b8-e425-41b0-d82f-1a2125294743",
        "colab": {
          "base_uri": "https://localhost:8080/",
          "height": 659
        }
      },
      "source": [
        "# set width of bar\n",
        "barWidth = 0.50\n",
        " \n",
        "# set height of bar\n",
        "target_0_subclases = barplot.iloc[0,:].values\n",
        "target_1_subclases = barplot.iloc[1,:].values\n",
        "xticks_word_tags=list(barplot.iloc[0,:].index)\n",
        "\n",
        "# Set position of bar on X axis\n",
        "r1 = np.arange(len(target_0_subclases))\n",
        "r2 = [x + barWidth for x in r1]\n",
        " \n",
        "# Make the plot\n",
        "fig=plt.figure(figsize=(20,10))\n",
        "plt.bar(r1, target_0_subclases, color='#7f6d5f', width=barWidth, edgecolor='white', label='Not Real')\n",
        "plt.bar(r2, target_1_subclases, color='#557f2d', width=barWidth, edgecolor='white', label='Real')\n",
        " \n",
        "# Labels and titles\n",
        "plt.xlabel('Sub-clases de Palabras', fontweight='bold',fontsize=16)\n",
        "plt.ylabel('Promedio de Apariciones en Tweets', fontweight='bold',fontsize=16)\n",
        "plt.xticks([r + 0.25 for r in range(len(target_0_subclases))],xticks_word_tags,rotation='horizontal',fontsize=14)\n",
        "plt.title('Bar Plot: Sub-clases de Palabras \\n Promedio de Apariciones por Tweet - por Target', fontweight='bold',fontsize=20)\n",
        "\n",
        "# Create legend & Show graphic\n",
        "plt.legend(fontsize=12)\n",
        "plt.show()\n"
      ],
      "execution_count": 230,
      "outputs": [
        {
          "output_type": "display_data",
          "data": {
            "image/png": "[encoded data removed]",
            "text/plain": [
              "<Figure size 1440x720 with 1 Axes>"
            ]
          },
          "metadata": {
            "tags": [],
            "needs_background": "light"
          }
        }
      ]
    },
    {
      "cell_type": "code",
      "metadata": {
        "id": "ewKE4EiDci3A",
        "colab_type": "code",
        "colab": {}
      },
      "source": [
        ""
      ],
      "execution_count": 0,
      "outputs": []
    },
    {
      "cell_type": "code",
      "metadata": {
        "id": "2B2uNjA-1-lk",
        "colab_type": "code",
        "colab": {}
      },
      "source": [
        "#Vamos a volver a utilizar este dataframe para agrupar las sub-clases en clases y poder realizar el análisis por clase. \n",
        "word_classes_aggregation = train_no_duplicates_merge_word_classes[agg_cols]\n",
        "word_classes_aggregation = word_classes_aggregation.reindex(sorted(word_classes_aggregation.columns),axis=1)\n"
      ],
      "execution_count": 0,
      "outputs": []
    },
    {
      "cell_type": "code",
      "metadata": {
        "id": "G5JcCnJu5fCR",
        "colab_type": "code",
        "outputId": "47cc0645-d26d-47d9-f828-889781003adf",
        "colab": {
          "base_uri": "https://localhost:8080/",
          "height": 119
        }
      },
      "source": [
        "#Vemos cuales son todas las subclases. \n",
        "print(word_classes_aggregation.columns[:-1])\n",
        "print(len(word_classes_aggregation.columns[:-1]))"
      ],
      "execution_count": 232,
      "outputs": [
        {
          "output_type": "stream",
          "text": [
            "Index(['$', '''', 'CC', 'CD', 'DT', 'EX', 'FW', 'IN', 'JJ', 'JJR', 'JJS', 'MD',\n",
            "       'NN', 'NNP', 'NNS', 'PDT', 'PRP', 'PRP$', 'RB', 'RBR', 'RBS', 'RP',\n",
            "       'SYM', 'TO', 'UH', 'VB', 'VBD', 'VBG', 'VBN', 'VBP', 'VBZ', 'WDT', 'WP',\n",
            "       'WP$', 'WRB'],\n",
            "      dtype='object')\n",
            "35\n"
          ],
          "name": "stdout"
        }
      ]
    },
    {
      "cell_type": "code",
      "metadata": {
        "id": "wixiRCkw54Gv",
        "colab_type": "code",
        "colab": {}
      },
      "source": [
        "#Acá estamos agregando las 35 sub-clases en 14 clases. \n",
        "word_classes_aggregation['nouns']=word_classes_aggregation['NN']+word_classes_aggregation['NNP']+word_classes_aggregation['NNS']\n",
        "word_classes_aggregation['verbs']=word_classes_aggregation['VB']+word_classes_aggregation['VBD']+word_classes_aggregation['VBG']+\\\n",
        "                                  word_classes_aggregation['VBN']+word_classes_aggregation['VBP']+word_classes_aggregation['VBZ']+\\\n",
        "                                  word_classes_aggregation['MD']\n",
        "word_classes_aggregation['adjectives']=word_classes_aggregation['JJ']+word_classes_aggregation['JJR']+word_classes_aggregation['JJS']\n",
        "word_classes_aggregation['pronouns']=word_classes_aggregation['PRP']+word_classes_aggregation['PRP$']+word_classes_aggregation['WP']+word_classes_aggregation['WP$']\n",
        "word_classes_aggregation['determiners']=word_classes_aggregation['PDT']+word_classes_aggregation['DT']+word_classes_aggregation['WDT']\n",
        "word_classes_aggregation['adverbs']=word_classes_aggregation['RB']+word_classes_aggregation['RBR']+word_classes_aggregation['RBS']+\\\n",
        "                                            word_classes_aggregation['RP']+word_classes_aggregation['WRB']+word_classes_aggregation['EX']\n",
        "word_classes_aggregation['prepositions']=word_classes_aggregation['IN']+word_classes_aggregation['TO']\n",
        "word_classes_aggregation['conjuctions']=word_classes_aggregation['CC']\n",
        "word_classes_aggregation['numerals_cardinals']=word_classes_aggregation['CD']\n",
        "word_classes_aggregation['foreing_words']=word_classes_aggregation['FW']\n",
        "word_classes_aggregation['quotes']=word_classes_aggregation[\"''\"]\n",
        "word_classes_aggregation['$']=word_classes_aggregation['$']\n",
        "word_classes_aggregation['interjections']=word_classes_aggregation['UH']\n",
        "word_classes_aggregation['symbols']=word_classes_aggregation['SYM']"
      ],
      "execution_count": 0,
      "outputs": []
    },
    {
      "cell_type": "code",
      "metadata": {
        "id": "c4saJb33KUKc",
        "colab_type": "code",
        "outputId": "215b8f56-1d01-491c-eb87-565f175212da",
        "colab": {
          "base_uri": "https://localhost:8080/",
          "height": 439
        }
      },
      "source": [
        "word_classes=word_classes_aggregation[['nouns','verbs','adjectives','pronouns','determiners','adverbs','prepositions','conjuctions','numerals_cardinals','interjections',\\\n",
        "                                       'foreing_words','quotes','$','symbols','target']]\n",
        "word_classes"
      ],
      "execution_count": 234,
      "outputs": [
        {
          "output_type": "execute_result",
          "data": {
            "text/html": [
              "<div>\n",
              "<style scoped>\n",
              "    .dataframe tbody tr th:only-of-type {\n",
              "        vertical-align: middle;\n",
              "    }\n",
              "\n",
              "    .dataframe tbody tr th {\n",
              "        vertical-align: top;\n",
              "    }\n",
              "\n",
              "    .dataframe thead th {\n",
              "        text-align: right;\n",
              "    }\n",
              "</style>\n",
              "<table border=\"1\" class=\"dataframe\">\n",
              "  <thead>\n",
              "    <tr style=\"text-align: right;\">\n",
              "      <th></th>\n",
              "      <th>nouns</th>\n",
              "      <th>verbs</th>\n",
              "      <th>adjectives</th>\n",
              "      <th>pronouns</th>\n",
              "      <th>determiners</th>\n",
              "      <th>adverbs</th>\n",
              "      <th>prepositions</th>\n",
              "      <th>conjuctions</th>\n",
              "      <th>numerals_cardinals</th>\n",
              "      <th>interjections</th>\n",
              "      <th>foreing_words</th>\n",
              "      <th>quotes</th>\n",
              "      <th>$</th>\n",
              "      <th>symbols</th>\n",
              "      <th>target</th>\n",
              "    </tr>\n",
              "  </thead>\n",
              "  <tbody>\n",
              "    <tr>\n",
              "      <th>0</th>\n",
              "      <td>3.00</td>\n",
              "      <td>3.00</td>\n",
              "      <td>1.00</td>\n",
              "      <td>2.00</td>\n",
              "      <td>3.00</td>\n",
              "      <td>0.00</td>\n",
              "      <td>1.00</td>\n",
              "      <td>0.00</td>\n",
              "      <td>0.00</td>\n",
              "      <td>0.00</td>\n",
              "      <td>0.00</td>\n",
              "      <td>0.00</td>\n",
              "      <td>0.00</td>\n",
              "      <td>0.00</td>\n",
              "      <td>1</td>\n",
              "    </tr>\n",
              "    <tr>\n",
              "      <th>1</th>\n",
              "      <td>4.00</td>\n",
              "      <td>0.00</td>\n",
              "      <td>2.00</td>\n",
              "      <td>0.00</td>\n",
              "      <td>0.00</td>\n",
              "      <td>0.00</td>\n",
              "      <td>1.00</td>\n",
              "      <td>0.00</td>\n",
              "      <td>0.00</td>\n",
              "      <td>0.00</td>\n",
              "      <td>0.00</td>\n",
              "      <td>0.00</td>\n",
              "      <td>0.00</td>\n",
              "      <td>0.00</td>\n",
              "      <td>1</td>\n",
              "    </tr>\n",
              "    <tr>\n",
              "      <th>2</th>\n",
              "      <td>7.00</td>\n",
              "      <td>7.00</td>\n",
              "      <td>1.00</td>\n",
              "      <td>0.00</td>\n",
              "      <td>2.00</td>\n",
              "      <td>0.00</td>\n",
              "      <td>4.00</td>\n",
              "      <td>1.00</td>\n",
              "      <td>0.00</td>\n",
              "      <td>0.00</td>\n",
              "      <td>0.00</td>\n",
              "      <td>0.00</td>\n",
              "      <td>0.00</td>\n",
              "      <td>0.00</td>\n",
              "      <td>1</td>\n",
              "    </tr>\n",
              "    <tr>\n",
              "      <th>3</th>\n",
              "      <td>5.00</td>\n",
              "      <td>0.00</td>\n",
              "      <td>1.00</td>\n",
              "      <td>0.00</td>\n",
              "      <td>0.00</td>\n",
              "      <td>0.00</td>\n",
              "      <td>1.00</td>\n",
              "      <td>0.00</td>\n",
              "      <td>2.00</td>\n",
              "      <td>0.00</td>\n",
              "      <td>0.00</td>\n",
              "      <td>0.00</td>\n",
              "      <td>0.00</td>\n",
              "      <td>0.00</td>\n",
              "      <td>1</td>\n",
              "    </tr>\n",
              "    <tr>\n",
              "      <th>4</th>\n",
              "      <td>5.00</td>\n",
              "      <td>3.00</td>\n",
              "      <td>1.00</td>\n",
              "      <td>0.00</td>\n",
              "      <td>2.00</td>\n",
              "      <td>1.00</td>\n",
              "      <td>4.00</td>\n",
              "      <td>0.00</td>\n",
              "      <td>0.00</td>\n",
              "      <td>0.00</td>\n",
              "      <td>0.00</td>\n",
              "      <td>0.00</td>\n",
              "      <td>0.00</td>\n",
              "      <td>0.00</td>\n",
              "      <td>1</td>\n",
              "    </tr>\n",
              "    <tr>\n",
              "      <th>...</th>\n",
              "      <td>...</td>\n",
              "      <td>...</td>\n",
              "      <td>...</td>\n",
              "      <td>...</td>\n",
              "      <td>...</td>\n",
              "      <td>...</td>\n",
              "      <td>...</td>\n",
              "      <td>...</td>\n",
              "      <td>...</td>\n",
              "      <td>...</td>\n",
              "      <td>...</td>\n",
              "      <td>...</td>\n",
              "      <td>...</td>\n",
              "      <td>...</td>\n",
              "      <td>...</td>\n",
              "    </tr>\n",
              "    <tr>\n",
              "      <th>6884</th>\n",
              "      <td>4.00</td>\n",
              "      <td>2.00</td>\n",
              "      <td>0.00</td>\n",
              "      <td>1.00</td>\n",
              "      <td>2.00</td>\n",
              "      <td>2.00</td>\n",
              "      <td>1.00</td>\n",
              "      <td>1.00</td>\n",
              "      <td>0.00</td>\n",
              "      <td>0.00</td>\n",
              "      <td>0.00</td>\n",
              "      <td>0.00</td>\n",
              "      <td>0.00</td>\n",
              "      <td>0.00</td>\n",
              "      <td>1</td>\n",
              "    </tr>\n",
              "    <tr>\n",
              "      <th>6885</th>\n",
              "      <td>8.00</td>\n",
              "      <td>3.00</td>\n",
              "      <td>1.00</td>\n",
              "      <td>0.00</td>\n",
              "      <td>3.00</td>\n",
              "      <td>0.00</td>\n",
              "      <td>4.00</td>\n",
              "      <td>0.00</td>\n",
              "      <td>0.00</td>\n",
              "      <td>0.00</td>\n",
              "      <td>0.00</td>\n",
              "      <td>0.00</td>\n",
              "      <td>0.00</td>\n",
              "      <td>0.00</td>\n",
              "      <td>1</td>\n",
              "    </tr>\n",
              "    <tr>\n",
              "      <th>6886</th>\n",
              "      <td>9.00</td>\n",
              "      <td>4.00</td>\n",
              "      <td>1.00</td>\n",
              "      <td>1.00</td>\n",
              "      <td>0.00</td>\n",
              "      <td>1.00</td>\n",
              "      <td>2.00</td>\n",
              "      <td>0.00</td>\n",
              "      <td>1.00</td>\n",
              "      <td>0.00</td>\n",
              "      <td>0.00</td>\n",
              "      <td>0.00</td>\n",
              "      <td>0.00</td>\n",
              "      <td>0.00</td>\n",
              "      <td>1</td>\n",
              "    </tr>\n",
              "    <tr>\n",
              "      <th>6887</th>\n",
              "      <td>6.00</td>\n",
              "      <td>5.00</td>\n",
              "      <td>2.00</td>\n",
              "      <td>0.00</td>\n",
              "      <td>2.00</td>\n",
              "      <td>4.00</td>\n",
              "      <td>5.00</td>\n",
              "      <td>3.00</td>\n",
              "      <td>0.00</td>\n",
              "      <td>0.00</td>\n",
              "      <td>0.00</td>\n",
              "      <td>0.00</td>\n",
              "      <td>0.00</td>\n",
              "      <td>0.00</td>\n",
              "      <td>1</td>\n",
              "    </tr>\n",
              "    <tr>\n",
              "      <th>6888</th>\n",
              "      <td>10.00</td>\n",
              "      <td>0.00</td>\n",
              "      <td>2.00</td>\n",
              "      <td>0.00</td>\n",
              "      <td>0.00</td>\n",
              "      <td>0.00</td>\n",
              "      <td>2.00</td>\n",
              "      <td>0.00</td>\n",
              "      <td>1.00</td>\n",
              "      <td>0.00</td>\n",
              "      <td>0.00</td>\n",
              "      <td>0.00</td>\n",
              "      <td>0.00</td>\n",
              "      <td>0.00</td>\n",
              "      <td>1</td>\n",
              "    </tr>\n",
              "  </tbody>\n",
              "</table>\n",
              "<p>6889 rows × 15 columns</p>\n",
              "</div>"
            ],
            "text/plain": [
              "                    nouns                verbs  ...              symbols  target\n",
              "0                    3.00                 3.00  ...                 0.00       1\n",
              "1                    4.00                 0.00  ...                 0.00       1\n",
              "2                    7.00                 7.00  ...                 0.00       1\n",
              "3                    5.00                 0.00  ...                 0.00       1\n",
              "4                    5.00                 3.00  ...                 0.00       1\n",
              "...                   ...                  ...  ...                  ...     ...\n",
              "6884                 4.00                 2.00  ...                 0.00       1\n",
              "6885                 8.00                 3.00  ...                 0.00       1\n",
              "6886                 9.00                 4.00  ...                 0.00       1\n",
              "6887                 6.00                 5.00  ...                 0.00       1\n",
              "6888                10.00                 0.00  ...                 0.00       1\n",
              "\n",
              "[6889 rows x 15 columns]"
            ]
          },
          "metadata": {
            "tags": []
          },
          "execution_count": 234
        }
      ]
    },
    {
      "cell_type": "code",
      "metadata": {
        "id": "zOBC_RzULl_Z",
        "colab_type": "code",
        "colab": {}
      },
      "source": [
        "word_classes_by_target=word_classes.groupby('target').agg(['sum','mean','std','min','max','count'])"
      ],
      "execution_count": 0,
      "outputs": []
    },
    {
      "cell_type": "code",
      "metadata": {
        "id": "kckpb--ZUOAr",
        "colab_type": "code",
        "outputId": "c1cce6ca-0ada-4199-ac11-c257dff580c7",
        "colab": {
          "base_uri": "https://localhost:8080/",
          "height": 142
        }
      },
      "source": [
        "word_classes_by_target_mean=word_classes.groupby('target').mean()\n",
        "word_classes_by_target_mean=word_classes_by_target_mean.loc[:,word_classes_by_target_mean.sum()>0.05].round(2)\n",
        "word_classes_by_target_mean"
      ],
      "execution_count": 237,
      "outputs": [
        {
          "output_type": "execute_result",
          "data": {
            "text/html": [
              "<div>\n",
              "<style scoped>\n",
              "    .dataframe tbody tr th:only-of-type {\n",
              "        vertical-align: middle;\n",
              "    }\n",
              "\n",
              "    .dataframe tbody tr th {\n",
              "        vertical-align: top;\n",
              "    }\n",
              "\n",
              "    .dataframe thead th {\n",
              "        text-align: right;\n",
              "    }\n",
              "</style>\n",
              "<table border=\"1\" class=\"dataframe\">\n",
              "  <thead>\n",
              "    <tr style=\"text-align: right;\">\n",
              "      <th></th>\n",
              "      <th>nouns</th>\n",
              "      <th>verbs</th>\n",
              "      <th>adjectives</th>\n",
              "      <th>pronouns</th>\n",
              "      <th>determiners</th>\n",
              "      <th>adverbs</th>\n",
              "      <th>prepositions</th>\n",
              "      <th>conjuctions</th>\n",
              "      <th>numerals_cardinals</th>\n",
              "    </tr>\n",
              "    <tr>\n",
              "      <th>target</th>\n",
              "      <th></th>\n",
              "      <th></th>\n",
              "      <th></th>\n",
              "      <th></th>\n",
              "      <th></th>\n",
              "      <th></th>\n",
              "      <th></th>\n",
              "      <th></th>\n",
              "      <th></th>\n",
              "    </tr>\n",
              "  </thead>\n",
              "  <tbody>\n",
              "    <tr>\n",
              "      <th>0</th>\n",
              "      <td>4.78</td>\n",
              "      <td>2.85</td>\n",
              "      <td>1.40</td>\n",
              "      <td>0.90</td>\n",
              "      <td>1.06</td>\n",
              "      <td>0.87</td>\n",
              "      <td>1.60</td>\n",
              "      <td>0.31</td>\n",
              "      <td>0.34</td>\n",
              "    </tr>\n",
              "    <tr>\n",
              "      <th>1</th>\n",
              "      <td>5.72</td>\n",
              "      <td>2.52</td>\n",
              "      <td>1.58</td>\n",
              "      <td>0.44</td>\n",
              "      <td>0.97</td>\n",
              "      <td>0.65</td>\n",
              "      <td>1.88</td>\n",
              "      <td>0.22</td>\n",
              "      <td>0.63</td>\n",
              "    </tr>\n",
              "  </tbody>\n",
              "</table>\n",
              "</div>"
            ],
            "text/plain": [
              "                      nouns  ...   numerals_cardinals\n",
              "target                       ...                     \n",
              "0                      4.78  ...                 0.34\n",
              "1                      5.72  ...                 0.63\n",
              "\n",
              "[2 rows x 9 columns]"
            ]
          },
          "metadata": {
            "tags": []
          },
          "execution_count": 237
        }
      ]
    },
    {
      "cell_type": "code",
      "metadata": {
        "id": "11lAJFhv7P4z",
        "colab_type": "code",
        "colab": {
          "base_uri": "https://localhost:8080/",
          "height": 170
        },
        "outputId": "cc9b0510-f8f8-4f6b-bc27-49033818c635"
      },
      "source": [
        "list(word_classes_by_target_mean.columns)"
      ],
      "execution_count": 262,
      "outputs": [
        {
          "output_type": "execute_result",
          "data": {
            "text/plain": [
              "['nouns',\n",
              " 'verbs',\n",
              " 'adjectives',\n",
              " 'pronouns',\n",
              " 'determiners',\n",
              " 'adverbs',\n",
              " 'prepositions',\n",
              " 'conjuctions',\n",
              " 'numerals_cardinals']"
            ]
          },
          "metadata": {
            "tags": []
          },
          "execution_count": 262
        }
      ]
    },
    {
      "cell_type": "code",
      "metadata": {
        "id": "9czvajgHphy9",
        "colab_type": "code",
        "colab": {}
      },
      "source": [
        "def f(df):\n",
        "\n",
        "  i=0\n",
        "  lista0=[]\n",
        "  lista1=[]\n",
        "  while i<len(df.iloc[0,:]): \n",
        "    serie_0=df.iloc[0,:]\n",
        "    serie_1=df.iloc[1,:]\n",
        "    element_0=df.iloc[0,i]\n",
        "    element_1=df.iloc[1,i]\n",
        "    serie0i=serie_0/element_0\n",
        "    serie1i=serie_1/element_1\n",
        "    lista0.append(list(serie0i))\n",
        "    lista1.append(list(serie1i))\n",
        "    i=i+1\n",
        "  return lista0,lista1\n",
        "\n",
        "a,b = f(word_classes_by_target_mean)"
      ],
      "execution_count": 0,
      "outputs": []
    },
    {
      "cell_type": "code",
      "metadata": {
        "id": "DXNmwIBd5w75",
        "colab_type": "code",
        "colab": {
          "base_uri": "https://localhost:8080/",
          "height": 170
        },
        "outputId": "db105652-67d7-4dd9-f3a3-43f095b3dee6"
      },
      "source": [
        "a[0]"
      ],
      "execution_count": 257,
      "outputs": [
        {
          "output_type": "execute_result",
          "data": {
            "text/plain": [
              "[1.0,\n",
              " 0.5962343096234309,\n",
              " 0.2928870292887029,\n",
              " 0.18828451882845187,\n",
              " 0.2217573221757322,\n",
              " 0.18200836820083682,\n",
              " 0.33472803347280333,\n",
              " 0.06485355648535565,\n",
              " 0.07112970711297072]"
            ]
          },
          "metadata": {
            "tags": []
          },
          "execution_count": 257
        }
      ]
    },
    {
      "cell_type": "code",
      "metadata": {
        "id": "aQMxSicN3rSR",
        "colab_type": "code",
        "colab": {
          "base_uri": "https://localhost:8080/",
          "height": 328
        },
        "outputId": "572cf7bd-225a-4176-d9f3-42d2d3bb4e26"
      },
      "source": [
        "dataframe_relta=pd.DataFrame({'nouns': a[0],\n",
        "                              'verbs': a[1],\n",
        "                              'adjetives':a[2],\n",
        "                              'pronouns': a[3],\n",
        "                              'determiners':a[4],\n",
        "                              'adverbs': a[5],\n",
        "                              'prepositions': a[6],\n",
        "                              'conjuctions': a[7],\n",
        "                              'numerals_cardinals': a[8]})"
      ],
      "execution_count": 261,
      "outputs": [
        {
          "output_type": "execute_result",
          "data": {
            "text/html": [
              "<div>\n",
              "<style scoped>\n",
              "    .dataframe tbody tr th:only-of-type {\n",
              "        vertical-align: middle;\n",
              "    }\n",
              "\n",
              "    .dataframe tbody tr th {\n",
              "        vertical-align: top;\n",
              "    }\n",
              "\n",
              "    .dataframe thead th {\n",
              "        text-align: right;\n",
              "    }\n",
              "</style>\n",
              "<table border=\"1\" class=\"dataframe\">\n",
              "  <thead>\n",
              "    <tr style=\"text-align: right;\">\n",
              "      <th></th>\n",
              "      <th>nouns</th>\n",
              "      <th>verbs</th>\n",
              "      <th>adjetives</th>\n",
              "      <th>pronouns</th>\n",
              "      <th>determiners</th>\n",
              "      <th>adverbs</th>\n",
              "      <th>prepositions</th>\n",
              "      <th>conjuctions</th>\n",
              "      <th>numerals_cardinals</th>\n",
              "    </tr>\n",
              "  </thead>\n",
              "  <tbody>\n",
              "    <tr>\n",
              "      <th>0</th>\n",
              "      <td>1.00</td>\n",
              "      <td>1.68</td>\n",
              "      <td>3.41</td>\n",
              "      <td>5.31</td>\n",
              "      <td>4.51</td>\n",
              "      <td>5.49</td>\n",
              "      <td>2.99</td>\n",
              "      <td>15.42</td>\n",
              "      <td>14.06</td>\n",
              "    </tr>\n",
              "    <tr>\n",
              "      <th>1</th>\n",
              "      <td>0.60</td>\n",
              "      <td>1.00</td>\n",
              "      <td>2.04</td>\n",
              "      <td>3.17</td>\n",
              "      <td>2.69</td>\n",
              "      <td>3.28</td>\n",
              "      <td>1.78</td>\n",
              "      <td>9.19</td>\n",
              "      <td>8.38</td>\n",
              "    </tr>\n",
              "    <tr>\n",
              "      <th>2</th>\n",
              "      <td>0.29</td>\n",
              "      <td>0.49</td>\n",
              "      <td>1.00</td>\n",
              "      <td>1.56</td>\n",
              "      <td>1.32</td>\n",
              "      <td>1.61</td>\n",
              "      <td>0.87</td>\n",
              "      <td>4.52</td>\n",
              "      <td>4.12</td>\n",
              "    </tr>\n",
              "    <tr>\n",
              "      <th>3</th>\n",
              "      <td>0.19</td>\n",
              "      <td>0.32</td>\n",
              "      <td>0.64</td>\n",
              "      <td>1.00</td>\n",
              "      <td>0.85</td>\n",
              "      <td>1.03</td>\n",
              "      <td>0.56</td>\n",
              "      <td>2.90</td>\n",
              "      <td>2.65</td>\n",
              "    </tr>\n",
              "    <tr>\n",
              "      <th>4</th>\n",
              "      <td>0.22</td>\n",
              "      <td>0.37</td>\n",
              "      <td>0.76</td>\n",
              "      <td>1.18</td>\n",
              "      <td>1.00</td>\n",
              "      <td>1.22</td>\n",
              "      <td>0.66</td>\n",
              "      <td>3.42</td>\n",
              "      <td>3.12</td>\n",
              "    </tr>\n",
              "    <tr>\n",
              "      <th>5</th>\n",
              "      <td>0.18</td>\n",
              "      <td>0.31</td>\n",
              "      <td>0.62</td>\n",
              "      <td>0.97</td>\n",
              "      <td>0.82</td>\n",
              "      <td>1.00</td>\n",
              "      <td>0.54</td>\n",
              "      <td>2.81</td>\n",
              "      <td>2.56</td>\n",
              "    </tr>\n",
              "    <tr>\n",
              "      <th>6</th>\n",
              "      <td>0.33</td>\n",
              "      <td>0.56</td>\n",
              "      <td>1.14</td>\n",
              "      <td>1.78</td>\n",
              "      <td>1.51</td>\n",
              "      <td>1.84</td>\n",
              "      <td>1.00</td>\n",
              "      <td>5.16</td>\n",
              "      <td>4.71</td>\n",
              "    </tr>\n",
              "    <tr>\n",
              "      <th>7</th>\n",
              "      <td>0.06</td>\n",
              "      <td>0.11</td>\n",
              "      <td>0.22</td>\n",
              "      <td>0.34</td>\n",
              "      <td>0.29</td>\n",
              "      <td>0.36</td>\n",
              "      <td>0.19</td>\n",
              "      <td>1.00</td>\n",
              "      <td>0.91</td>\n",
              "    </tr>\n",
              "    <tr>\n",
              "      <th>8</th>\n",
              "      <td>0.07</td>\n",
              "      <td>0.12</td>\n",
              "      <td>0.24</td>\n",
              "      <td>0.38</td>\n",
              "      <td>0.32</td>\n",
              "      <td>0.39</td>\n",
              "      <td>0.21</td>\n",
              "      <td>1.10</td>\n",
              "      <td>1.00</td>\n",
              "    </tr>\n",
              "  </tbody>\n",
              "</table>\n",
              "</div>"
            ],
            "text/plain": [
              "                 nouns  ...   numerals_cardinals\n",
              "0                 1.00  ...                14.06\n",
              "1                 0.60  ...                 8.38\n",
              "2                 0.29  ...                 4.12\n",
              "3                 0.19  ...                 2.65\n",
              "4                 0.22  ...                 3.12\n",
              "5                 0.18  ...                 2.56\n",
              "6                 0.33  ...                 4.71\n",
              "7                 0.06  ...                 0.91\n",
              "8                 0.07  ...                 1.00\n",
              "\n",
              "[9 rows x 9 columns]"
            ]
          },
          "metadata": {
            "tags": []
          },
          "execution_count": 261
        }
      ]
    },
    {
      "cell_type": "code",
      "metadata": {
        "id": "dCKbrVLk7b3b",
        "colab_type": "code",
        "colab": {
          "base_uri": "https://localhost:8080/",
          "height": 359
        },
        "outputId": "778285b4-cb71-44b2-b4a9-c6412a3a8c9d"
      },
      "source": [
        "dataframe_relta['index']=list(word_classes_by_target_mean.columns)\n",
        "dataframe_relta.set_index('index')"
      ],
      "execution_count": 264,
      "outputs": [
        {
          "output_type": "execute_result",
          "data": {
            "text/html": [
              "<div>\n",
              "<style scoped>\n",
              "    .dataframe tbody tr th:only-of-type {\n",
              "        vertical-align: middle;\n",
              "    }\n",
              "\n",
              "    .dataframe tbody tr th {\n",
              "        vertical-align: top;\n",
              "    }\n",
              "\n",
              "    .dataframe thead th {\n",
              "        text-align: right;\n",
              "    }\n",
              "</style>\n",
              "<table border=\"1\" class=\"dataframe\">\n",
              "  <thead>\n",
              "    <tr style=\"text-align: right;\">\n",
              "      <th></th>\n",
              "      <th>nouns</th>\n",
              "      <th>verbs</th>\n",
              "      <th>adjetives</th>\n",
              "      <th>pronouns</th>\n",
              "      <th>determiners</th>\n",
              "      <th>adverbs</th>\n",
              "      <th>prepositions</th>\n",
              "      <th>conjuctions</th>\n",
              "      <th>numerals_cardinals</th>\n",
              "    </tr>\n",
              "    <tr>\n",
              "      <th>index</th>\n",
              "      <th></th>\n",
              "      <th></th>\n",
              "      <th></th>\n",
              "      <th></th>\n",
              "      <th></th>\n",
              "      <th></th>\n",
              "      <th></th>\n",
              "      <th></th>\n",
              "      <th></th>\n",
              "    </tr>\n",
              "  </thead>\n",
              "  <tbody>\n",
              "    <tr>\n",
              "      <th>nouns</th>\n",
              "      <td>1.00</td>\n",
              "      <td>1.68</td>\n",
              "      <td>3.41</td>\n",
              "      <td>5.31</td>\n",
              "      <td>4.51</td>\n",
              "      <td>5.49</td>\n",
              "      <td>2.99</td>\n",
              "      <td>15.42</td>\n",
              "      <td>14.06</td>\n",
              "    </tr>\n",
              "    <tr>\n",
              "      <th>verbs</th>\n",
              "      <td>0.60</td>\n",
              "      <td>1.00</td>\n",
              "      <td>2.04</td>\n",
              "      <td>3.17</td>\n",
              "      <td>2.69</td>\n",
              "      <td>3.28</td>\n",
              "      <td>1.78</td>\n",
              "      <td>9.19</td>\n",
              "      <td>8.38</td>\n",
              "    </tr>\n",
              "    <tr>\n",
              "      <th>adjectives</th>\n",
              "      <td>0.29</td>\n",
              "      <td>0.49</td>\n",
              "      <td>1.00</td>\n",
              "      <td>1.56</td>\n",
              "      <td>1.32</td>\n",
              "      <td>1.61</td>\n",
              "      <td>0.87</td>\n",
              "      <td>4.52</td>\n",
              "      <td>4.12</td>\n",
              "    </tr>\n",
              "    <tr>\n",
              "      <th>pronouns</th>\n",
              "      <td>0.19</td>\n",
              "      <td>0.32</td>\n",
              "      <td>0.64</td>\n",
              "      <td>1.00</td>\n",
              "      <td>0.85</td>\n",
              "      <td>1.03</td>\n",
              "      <td>0.56</td>\n",
              "      <td>2.90</td>\n",
              "      <td>2.65</td>\n",
              "    </tr>\n",
              "    <tr>\n",
              "      <th>determiners</th>\n",
              "      <td>0.22</td>\n",
              "      <td>0.37</td>\n",
              "      <td>0.76</td>\n",
              "      <td>1.18</td>\n",
              "      <td>1.00</td>\n",
              "      <td>1.22</td>\n",
              "      <td>0.66</td>\n",
              "      <td>3.42</td>\n",
              "      <td>3.12</td>\n",
              "    </tr>\n",
              "    <tr>\n",
              "      <th>adverbs</th>\n",
              "      <td>0.18</td>\n",
              "      <td>0.31</td>\n",
              "      <td>0.62</td>\n",
              "      <td>0.97</td>\n",
              "      <td>0.82</td>\n",
              "      <td>1.00</td>\n",
              "      <td>0.54</td>\n",
              "      <td>2.81</td>\n",
              "      <td>2.56</td>\n",
              "    </tr>\n",
              "    <tr>\n",
              "      <th>prepositions</th>\n",
              "      <td>0.33</td>\n",
              "      <td>0.56</td>\n",
              "      <td>1.14</td>\n",
              "      <td>1.78</td>\n",
              "      <td>1.51</td>\n",
              "      <td>1.84</td>\n",
              "      <td>1.00</td>\n",
              "      <td>5.16</td>\n",
              "      <td>4.71</td>\n",
              "    </tr>\n",
              "    <tr>\n",
              "      <th>conjuctions</th>\n",
              "      <td>0.06</td>\n",
              "      <td>0.11</td>\n",
              "      <td>0.22</td>\n",
              "      <td>0.34</td>\n",
              "      <td>0.29</td>\n",
              "      <td>0.36</td>\n",
              "      <td>0.19</td>\n",
              "      <td>1.00</td>\n",
              "      <td>0.91</td>\n",
              "    </tr>\n",
              "    <tr>\n",
              "      <th>numerals_cardinals</th>\n",
              "      <td>0.07</td>\n",
              "      <td>0.12</td>\n",
              "      <td>0.24</td>\n",
              "      <td>0.38</td>\n",
              "      <td>0.32</td>\n",
              "      <td>0.39</td>\n",
              "      <td>0.21</td>\n",
              "      <td>1.10</td>\n",
              "      <td>1.00</td>\n",
              "    </tr>\n",
              "  </tbody>\n",
              "</table>\n",
              "</div>"
            ],
            "text/plain": [
              "                                  nouns  ...   numerals_cardinals\n",
              "index                                    ...                     \n",
              "nouns                              1.00  ...                14.06\n",
              "verbs                              0.60  ...                 8.38\n",
              "adjectives                         0.29  ...                 4.12\n",
              "pronouns                           0.19  ...                 2.65\n",
              "determiners                        0.22  ...                 3.12\n",
              "adverbs                            0.18  ...                 2.56\n",
              "prepositions                       0.33  ...                 4.71\n",
              "conjuctions                        0.06  ...                 0.91\n",
              "numerals_cardinals                 0.07  ...                 1.00\n",
              "\n",
              "[9 rows x 9 columns]"
            ]
          },
          "metadata": {
            "tags": []
          },
          "execution_count": 264
        }
      ]
    },
    {
      "cell_type": "code",
      "metadata": {
        "id": "of4BSqrj8geP",
        "colab_type": "code",
        "colab": {}
      },
      "source": [
        "dataframe_relat_target_0=dataframe_relta"
      ],
      "execution_count": 0,
      "outputs": []
    },
    {
      "cell_type": "code",
      "metadata": {
        "id": "dL-QfabX8bg7",
        "colab_type": "code",
        "colab": {}
      },
      "source": [
        "dataframe_relat_target_1=pd.DataFrame({'nouns': b[0],\n",
        "                              'verbs': b[1],\n",
        "                              'adjetives':b[2],\n",
        "                              'pronouns': b[3],\n",
        "                              'determiners':b[4],\n",
        "                              'adverbs': b[5],\n",
        "                              'prepositions': b[6],\n",
        "                              'conjuctions': b[7],\n",
        "                              'numerals_cardinals': b[8]})"
      ],
      "execution_count": 0,
      "outputs": []
    },
    {
      "cell_type": "code",
      "metadata": {
        "id": "hdP4V_dD81dr",
        "colab_type": "code",
        "colab": {}
      },
      "source": [
        "dataframe_relat_target_0.set_index('index',inplace=True)"
      ],
      "execution_count": 0,
      "outputs": []
    },
    {
      "cell_type": "code",
      "metadata": {
        "id": "GLgTCBMR9DIp",
        "colab_type": "code",
        "colab": {
          "base_uri": "https://localhost:8080/",
          "height": 359
        },
        "outputId": "1bd03632-0ee2-4cf1-af25-ceb64ba1a2b4"
      },
      "source": [
        "dataframe_relat_target_0"
      ],
      "execution_count": 269,
      "outputs": [
        {
          "output_type": "execute_result",
          "data": {
            "text/html": [
              "<div>\n",
              "<style scoped>\n",
              "    .dataframe tbody tr th:only-of-type {\n",
              "        vertical-align: middle;\n",
              "    }\n",
              "\n",
              "    .dataframe tbody tr th {\n",
              "        vertical-align: top;\n",
              "    }\n",
              "\n",
              "    .dataframe thead th {\n",
              "        text-align: right;\n",
              "    }\n",
              "</style>\n",
              "<table border=\"1\" class=\"dataframe\">\n",
              "  <thead>\n",
              "    <tr style=\"text-align: right;\">\n",
              "      <th></th>\n",
              "      <th>nouns</th>\n",
              "      <th>verbs</th>\n",
              "      <th>adjetives</th>\n",
              "      <th>pronouns</th>\n",
              "      <th>determiners</th>\n",
              "      <th>adverbs</th>\n",
              "      <th>prepositions</th>\n",
              "      <th>conjuctions</th>\n",
              "      <th>numerals_cardinals</th>\n",
              "    </tr>\n",
              "    <tr>\n",
              "      <th>index</th>\n",
              "      <th></th>\n",
              "      <th></th>\n",
              "      <th></th>\n",
              "      <th></th>\n",
              "      <th></th>\n",
              "      <th></th>\n",
              "      <th></th>\n",
              "      <th></th>\n",
              "      <th></th>\n",
              "    </tr>\n",
              "  </thead>\n",
              "  <tbody>\n",
              "    <tr>\n",
              "      <th>nouns</th>\n",
              "      <td>1.00</td>\n",
              "      <td>1.68</td>\n",
              "      <td>3.41</td>\n",
              "      <td>5.31</td>\n",
              "      <td>4.51</td>\n",
              "      <td>5.49</td>\n",
              "      <td>2.99</td>\n",
              "      <td>15.42</td>\n",
              "      <td>14.06</td>\n",
              "    </tr>\n",
              "    <tr>\n",
              "      <th>verbs</th>\n",
              "      <td>0.60</td>\n",
              "      <td>1.00</td>\n",
              "      <td>2.04</td>\n",
              "      <td>3.17</td>\n",
              "      <td>2.69</td>\n",
              "      <td>3.28</td>\n",
              "      <td>1.78</td>\n",
              "      <td>9.19</td>\n",
              "      <td>8.38</td>\n",
              "    </tr>\n",
              "    <tr>\n",
              "      <th>adjectives</th>\n",
              "      <td>0.29</td>\n",
              "      <td>0.49</td>\n",
              "      <td>1.00</td>\n",
              "      <td>1.56</td>\n",
              "      <td>1.32</td>\n",
              "      <td>1.61</td>\n",
              "      <td>0.87</td>\n",
              "      <td>4.52</td>\n",
              "      <td>4.12</td>\n",
              "    </tr>\n",
              "    <tr>\n",
              "      <th>pronouns</th>\n",
              "      <td>0.19</td>\n",
              "      <td>0.32</td>\n",
              "      <td>0.64</td>\n",
              "      <td>1.00</td>\n",
              "      <td>0.85</td>\n",
              "      <td>1.03</td>\n",
              "      <td>0.56</td>\n",
              "      <td>2.90</td>\n",
              "      <td>2.65</td>\n",
              "    </tr>\n",
              "    <tr>\n",
              "      <th>determiners</th>\n",
              "      <td>0.22</td>\n",
              "      <td>0.37</td>\n",
              "      <td>0.76</td>\n",
              "      <td>1.18</td>\n",
              "      <td>1.00</td>\n",
              "      <td>1.22</td>\n",
              "      <td>0.66</td>\n",
              "      <td>3.42</td>\n",
              "      <td>3.12</td>\n",
              "    </tr>\n",
              "    <tr>\n",
              "      <th>adverbs</th>\n",
              "      <td>0.18</td>\n",
              "      <td>0.31</td>\n",
              "      <td>0.62</td>\n",
              "      <td>0.97</td>\n",
              "      <td>0.82</td>\n",
              "      <td>1.00</td>\n",
              "      <td>0.54</td>\n",
              "      <td>2.81</td>\n",
              "      <td>2.56</td>\n",
              "    </tr>\n",
              "    <tr>\n",
              "      <th>prepositions</th>\n",
              "      <td>0.33</td>\n",
              "      <td>0.56</td>\n",
              "      <td>1.14</td>\n",
              "      <td>1.78</td>\n",
              "      <td>1.51</td>\n",
              "      <td>1.84</td>\n",
              "      <td>1.00</td>\n",
              "      <td>5.16</td>\n",
              "      <td>4.71</td>\n",
              "    </tr>\n",
              "    <tr>\n",
              "      <th>conjuctions</th>\n",
              "      <td>0.06</td>\n",
              "      <td>0.11</td>\n",
              "      <td>0.22</td>\n",
              "      <td>0.34</td>\n",
              "      <td>0.29</td>\n",
              "      <td>0.36</td>\n",
              "      <td>0.19</td>\n",
              "      <td>1.00</td>\n",
              "      <td>0.91</td>\n",
              "    </tr>\n",
              "    <tr>\n",
              "      <th>numerals_cardinals</th>\n",
              "      <td>0.07</td>\n",
              "      <td>0.12</td>\n",
              "      <td>0.24</td>\n",
              "      <td>0.38</td>\n",
              "      <td>0.32</td>\n",
              "      <td>0.39</td>\n",
              "      <td>0.21</td>\n",
              "      <td>1.10</td>\n",
              "      <td>1.00</td>\n",
              "    </tr>\n",
              "  </tbody>\n",
              "</table>\n",
              "</div>"
            ],
            "text/plain": [
              "                                  nouns  ...   numerals_cardinals\n",
              "index                                    ...                     \n",
              "nouns                              1.00  ...                14.06\n",
              "verbs                              0.60  ...                 8.38\n",
              "adjectives                         0.29  ...                 4.12\n",
              "pronouns                           0.19  ...                 2.65\n",
              "determiners                        0.22  ...                 3.12\n",
              "adverbs                            0.18  ...                 2.56\n",
              "prepositions                       0.33  ...                 4.71\n",
              "conjuctions                        0.06  ...                 0.91\n",
              "numerals_cardinals                 0.07  ...                 1.00\n",
              "\n",
              "[9 rows x 9 columns]"
            ]
          },
          "metadata": {
            "tags": []
          },
          "execution_count": 269
        }
      ]
    },
    {
      "cell_type": "code",
      "metadata": {
        "id": "MUEFI_Jd9HJ8",
        "colab_type": "code",
        "colab": {}
      },
      "source": [
        "dataframe_relat_target_1['index']=list(word_classes_by_target_mean.columns)\n",
        "dataframe_relat_target_1.set_index('index', inplace=True)"
      ],
      "execution_count": 0,
      "outputs": []
    },
    {
      "cell_type": "code",
      "metadata": {
        "id": "dLeOfKmY9vaE",
        "colab_type": "code",
        "colab": {
          "base_uri": "https://localhost:8080/",
          "height": 359
        },
        "outputId": "4f5a021e-4fd3-4271-b34f-eb43bf93d6f8"
      },
      "source": [
        "dataframe_relat_target_1"
      ],
      "execution_count": 274,
      "outputs": [
        {
          "output_type": "execute_result",
          "data": {
            "text/html": [
              "<div>\n",
              "<style scoped>\n",
              "    .dataframe tbody tr th:only-of-type {\n",
              "        vertical-align: middle;\n",
              "    }\n",
              "\n",
              "    .dataframe tbody tr th {\n",
              "        vertical-align: top;\n",
              "    }\n",
              "\n",
              "    .dataframe thead th {\n",
              "        text-align: right;\n",
              "    }\n",
              "</style>\n",
              "<table border=\"1\" class=\"dataframe\">\n",
              "  <thead>\n",
              "    <tr style=\"text-align: right;\">\n",
              "      <th></th>\n",
              "      <th>nouns</th>\n",
              "      <th>verbs</th>\n",
              "      <th>adjetives</th>\n",
              "      <th>pronouns</th>\n",
              "      <th>determiners</th>\n",
              "      <th>adverbs</th>\n",
              "      <th>prepositions</th>\n",
              "      <th>conjuctions</th>\n",
              "      <th>numerals_cardinals</th>\n",
              "    </tr>\n",
              "    <tr>\n",
              "      <th>index</th>\n",
              "      <th></th>\n",
              "      <th></th>\n",
              "      <th></th>\n",
              "      <th></th>\n",
              "      <th></th>\n",
              "      <th></th>\n",
              "      <th></th>\n",
              "      <th></th>\n",
              "      <th></th>\n",
              "    </tr>\n",
              "  </thead>\n",
              "  <tbody>\n",
              "    <tr>\n",
              "      <th>nouns</th>\n",
              "      <td>1.00</td>\n",
              "      <td>2.27</td>\n",
              "      <td>3.62</td>\n",
              "      <td>13.00</td>\n",
              "      <td>5.90</td>\n",
              "      <td>8.80</td>\n",
              "      <td>3.04</td>\n",
              "      <td>26.00</td>\n",
              "      <td>9.08</td>\n",
              "    </tr>\n",
              "    <tr>\n",
              "      <th>verbs</th>\n",
              "      <td>0.44</td>\n",
              "      <td>1.00</td>\n",
              "      <td>1.59</td>\n",
              "      <td>5.73</td>\n",
              "      <td>2.60</td>\n",
              "      <td>3.88</td>\n",
              "      <td>1.34</td>\n",
              "      <td>11.45</td>\n",
              "      <td>4.00</td>\n",
              "    </tr>\n",
              "    <tr>\n",
              "      <th>adjectives</th>\n",
              "      <td>0.28</td>\n",
              "      <td>0.63</td>\n",
              "      <td>1.00</td>\n",
              "      <td>3.59</td>\n",
              "      <td>1.63</td>\n",
              "      <td>2.43</td>\n",
              "      <td>0.84</td>\n",
              "      <td>7.18</td>\n",
              "      <td>2.51</td>\n",
              "    </tr>\n",
              "    <tr>\n",
              "      <th>pronouns</th>\n",
              "      <td>0.08</td>\n",
              "      <td>0.17</td>\n",
              "      <td>0.28</td>\n",
              "      <td>1.00</td>\n",
              "      <td>0.45</td>\n",
              "      <td>0.68</td>\n",
              "      <td>0.23</td>\n",
              "      <td>2.00</td>\n",
              "      <td>0.70</td>\n",
              "    </tr>\n",
              "    <tr>\n",
              "      <th>determiners</th>\n",
              "      <td>0.17</td>\n",
              "      <td>0.38</td>\n",
              "      <td>0.61</td>\n",
              "      <td>2.20</td>\n",
              "      <td>1.00</td>\n",
              "      <td>1.49</td>\n",
              "      <td>0.52</td>\n",
              "      <td>4.41</td>\n",
              "      <td>1.54</td>\n",
              "    </tr>\n",
              "    <tr>\n",
              "      <th>adverbs</th>\n",
              "      <td>0.11</td>\n",
              "      <td>0.26</td>\n",
              "      <td>0.41</td>\n",
              "      <td>1.48</td>\n",
              "      <td>0.67</td>\n",
              "      <td>1.00</td>\n",
              "      <td>0.35</td>\n",
              "      <td>2.95</td>\n",
              "      <td>1.03</td>\n",
              "    </tr>\n",
              "    <tr>\n",
              "      <th>prepositions</th>\n",
              "      <td>0.33</td>\n",
              "      <td>0.75</td>\n",
              "      <td>1.19</td>\n",
              "      <td>4.27</td>\n",
              "      <td>1.94</td>\n",
              "      <td>2.89</td>\n",
              "      <td>1.00</td>\n",
              "      <td>8.55</td>\n",
              "      <td>2.98</td>\n",
              "    </tr>\n",
              "    <tr>\n",
              "      <th>conjuctions</th>\n",
              "      <td>0.04</td>\n",
              "      <td>0.09</td>\n",
              "      <td>0.14</td>\n",
              "      <td>0.50</td>\n",
              "      <td>0.23</td>\n",
              "      <td>0.34</td>\n",
              "      <td>0.12</td>\n",
              "      <td>1.00</td>\n",
              "      <td>0.35</td>\n",
              "    </tr>\n",
              "    <tr>\n",
              "      <th>numerals_cardinals</th>\n",
              "      <td>0.11</td>\n",
              "      <td>0.25</td>\n",
              "      <td>0.40</td>\n",
              "      <td>1.43</td>\n",
              "      <td>0.65</td>\n",
              "      <td>0.97</td>\n",
              "      <td>0.34</td>\n",
              "      <td>2.86</td>\n",
              "      <td>1.00</td>\n",
              "    </tr>\n",
              "  </tbody>\n",
              "</table>\n",
              "</div>"
            ],
            "text/plain": [
              "                                  nouns  ...   numerals_cardinals\n",
              "index                                    ...                     \n",
              "nouns                              1.00  ...                 9.08\n",
              "verbs                              0.44  ...                 4.00\n",
              "adjectives                         0.28  ...                 2.51\n",
              "pronouns                           0.08  ...                 0.70\n",
              "determiners                        0.17  ...                 1.54\n",
              "adverbs                            0.11  ...                 1.03\n",
              "prepositions                       0.33  ...                 2.98\n",
              "conjuctions                        0.04  ...                 0.35\n",
              "numerals_cardinals                 0.11  ...                 1.00\n",
              "\n",
              "[9 rows x 9 columns]"
            ]
          },
          "metadata": {
            "tags": []
          },
          "execution_count": 274
        }
      ]
    },
    {
      "cell_type": "code",
      "metadata": {
        "id": "gUyHjXaYux-A",
        "colab_type": "code",
        "outputId": "6df64c2d-a757-4c22-ea0c-1173e589c57d",
        "colab": {
          "base_uri": "https://localhost:8080/",
          "height": 801
        }
      },
      "source": [
        "# set width of bar\n",
        "barWidth = 0.30\n",
        " \n",
        "# set height of bar\n",
        "target_0 = word_classes_by_target_mean.iloc[0,:].values\n",
        "target_1 = word_classes_by_target_mean.iloc[1,:].values\n",
        "xticks_word_tags=list(word_classes_by_target_mean.iloc[0,:].index)\n",
        "\n",
        "# Set position of bar on X axis\n",
        "r1 = np.arange(len(target_0))\n",
        "r2 = [x + barWidth for x in r1]\n",
        " \n",
        "# Make the plot\n",
        "fig=plt.figure(figsize=(20,10))\n",
        "plt.bar(r1, target_0, color='#7f6d5f', width=barWidth, edgecolor='white', label='Not Real')\n",
        "plt.bar(r2, target_1, color='#557f2d', width=barWidth, edgecolor='white', label='Real')\n",
        " \n",
        "# Labels and titles\n",
        "plt.xlabel('Clases de Palabras', fontweight='bold',fontsize=16)\n",
        "plt.ylabel('Promedio de Apariciones en Tweets', fontweight='bold',fontsize=16)\n",
        "plt.xticks([r + 0.15 for r in range(len(target_0))],xticks_word_tags,rotation='vertical',fontsize=16)\n",
        "plt.title('Bar Plot: Clases de Palabras \\n Promedio de Apariciones por Tweet - por Target', fontweight='bold',fontsize=20)\n",
        "\n",
        "# Create legend & Show graphic\n",
        "plt.legend(fontsize=12)\n",
        "plt.show()\n",
        "\n"
      ],
      "execution_count": 238,
      "outputs": [
        {
          "output_type": "display_data",
          "data": {
            "image/png": "[encoded data removed]",
            "text/plain": [
              "<Figure size 1440x720 with 1 Axes>"
            ]
          },
          "metadata": {
            "tags": [],
            "needs_background": "light"
          }
        }
      ]
    },
    {
      "cell_type": "code",
      "metadata": {
        "id": "fpopSV8pF_N6",
        "colab_type": "code",
        "colab": {}
      },
      "source": [
        "#A cuánto se va el porcentaje de target 1 en la muestra cuando en el mismo texto se combinan verbos con advervios\n",
        "word_classes[(word_classes.loc[:,'verbs']>=1) & (word_classes.loc[:,'adverbs']>=1)]['target'].mean()"
      ],
      "execution_count": 0,
      "outputs": []
    },
    {
      "cell_type": "code",
      "metadata": {
        "id": "4N-5cl6_Q43N",
        "colab_type": "code",
        "colab": {}
      },
      "source": [
        "#A cuánto se va el porcentaje de target 1 en la muestra cuando en el mismo texto tenemos sustantivos pero no pronombres. \n",
        "word_classes[(word_classes.loc[:,'nouns']>=1) & (word_classes.loc[:,'pronouns']==0)]['target'].mean()"
      ],
      "execution_count": 0,
      "outputs": []
    },
    {
      "cell_type": "code",
      "metadata": {
        "id": "y2RKHiDYTP3l",
        "colab_type": "code",
        "colab": {}
      },
      "source": [
        "#Otra prob cond. \n",
        "word_classes[(word_classes.loc[:,'nouns']>=1) & (word_classes.loc[:,'pronouns']==0) & (word_classes.loc[:,'prepositions']>=1) & \\\n",
        "             (word_classes.loc[:,'numerals_cardinals']>=1) & (word_classes.loc[:,'adjectives']>=1) & (word_classes.loc[:,'adverbs']==0)]['target'].mean()"
      ],
      "execution_count": 0,
      "outputs": []
    },
    {
      "cell_type": "code",
      "metadata": {
        "id": "xQ5lt_R3XoGe",
        "colab_type": "code",
        "colab": {}
      },
      "source": [
        "#Cuántos registros representan del total. \n",
        "(word_classes[(word_classes.loc[:,'nouns']>=1) & (word_classes.loc[:,'pronouns']==0) & (word_classes.loc[:,'prepositions']>=1) & \\\n",
        "             (word_classes.loc[:,'numerals_cardinals']>=1) & (word_classes.loc[:,'adjectives']>=1) & (word_classes.loc[:,'adverbs']==0)].shape[0])/word_classes.shape[0]"
      ],
      "execution_count": 0,
      "outputs": []
    },
    {
      "cell_type": "code",
      "metadata": {
        "id": "qzAhboyvYl07",
        "colab_type": "code",
        "colab": {}
      },
      "source": [
        "#Otra prob cond. \n",
        "1-word_classes[(word_classes.loc[:,'prepositions']==0) & \n",
        "             (word_classes.loc[:,'numerals_cardinals']==0) & (word_classes.loc[:,'adjectives']==0) & (word_classes.loc[:,'adverbs']>1)]['target'].mean()"
      ],
      "execution_count": 0,
      "outputs": []
    },
    {
      "cell_type": "code",
      "metadata": {
        "id": "fPZJ1aMlbA4L",
        "colab_type": "code",
        "colab": {}
      },
      "source": [
        "#Cuántos refistros representa\n",
        "(word_classes[(word_classes.loc[:,'prepositions']==0) & \n",
        "             (word_classes.loc[:,'numerals_cardinals']==0) & (word_classes.loc[:,'adjectives']==0) & (word_classes.loc[:,'adverbs']>1)].shape[0])/word_classes.shape[0]"
      ],
      "execution_count": 0,
      "outputs": []
    },
    {
      "cell_type": "code",
      "metadata": {
        "id": "b35w9utEG150",
        "colab_type": "code",
        "colab": {}
      },
      "source": [
        "word_classes['target'].mean()"
      ],
      "execution_count": 0,
      "outputs": []
    },
    {
      "cell_type": "code",
      "metadata": {
        "id": "MIJF36w-I5VN",
        "colab_type": "code",
        "outputId": "d8c678c3-ee02-4f24-aef5-4acf7896ab09",
        "colab": {
          "base_uri": "https://localhost:8080/",
          "height": 551
        }
      },
      "source": [
        "#Correlaciono clase con target\n",
        "corr_cols=['nouns','verbs','adjectives','pronouns','determiners','adverbs','prepositions','conjuctions','numerals_cardinals','target']\n",
        "(word_classes.loc[:,corr_cols].corr())['target'][:-1].plot(kind='bar', color='blue', figsize=(10,6))\n",
        "plt.title('Correlaciones de Clases de Palabras con Target',fontweight='bold', fontsize=18)\n",
        "plt.ylabel('Indice de Correlación', fontsize=15)\n",
        "plt.xlabel('Clase de Palabra', fontsize=15)\n",
        "plt.show"
      ],
      "execution_count": 239,
      "outputs": [
        {
          "output_type": "execute_result",
          "data": {
            "text/plain": [
              "<function matplotlib.pyplot.show>"
            ]
          },
          "metadata": {
            "tags": []
          },
          "execution_count": 239
        },
        {
          "output_type": "display_data",
          "data": {
            "image/png": "[encoded data removed]",
            "text/plain": [
              "<Figure size 720x432 with 1 Axes>"
            ]
          },
          "metadata": {
            "tags": [],
            "needs_background": "light"
          }
        }
      ]
    },
    {
      "cell_type": "markdown",
      "metadata": {
        "id": "eEdGGvBGamx1",
        "colab_type": "text"
      },
      "source": [
        "# Análisis de Pronombres"
      ]
    },
    {
      "cell_type": "markdown",
      "metadata": {
        "id": "CK6OA798aqrE",
        "colab_type": "text"
      },
      "source": [
        "Se propone un análisis de cantidad de apariciones de pronombres en tweets según su target."
      ]
    },
    {
      "cell_type": "code",
      "metadata": {
        "id": "Oi7A0UUEVczt",
        "colab_type": "code",
        "colab": {}
      },
      "source": [
        "def generate_tokens(target):\n",
        "    text_tokens=[]\n",
        "    for x in train_no_duplicates[train_no_duplicates['target']==target]['text_clean'].str.split():\n",
        "        for i in x:\n",
        "            text_tokens.append(i)\n",
        "    return text_tokens\n",
        "\n",
        "#Analizo tweets con target Not Real\n",
        "corpus=generate_tokens(0)\n",
        "\n",
        "dic=defaultdict(int)\n",
        "pronouns={'I','me','my','mine','myself','you','your','yours','yourself',\\\n",
        "          'he','him','his','himself','she','her','hers','herself',\\\n",
        "          'it','its','itself','we','us','our','ours','ourselves',\\\n",
        "          'they','them','their','theirs','themselves','yourselves'}\n",
        "\n",
        "for word in corpus:\n",
        "    if word in pronouns:\n",
        "        dic[word]+=1\n",
        "        \n",
        "top0=sorted(dic.items(), key=lambda x:x[1],reverse=True)[:11]\n",
        "\n",
        "\n",
        "#Analizo tweets con target Real\n",
        "\n",
        "text_tokens=generate_tokens(1)\n",
        "dic=defaultdict(int)\n",
        "\n",
        "for word in text_tokens:\n",
        "    if word in pronouns:\n",
        "        dic[word]+=1\n",
        "\n",
        "top1=sorted(dic.items(), key=lambda x:x[1],reverse=True)[:11]\n",
        "\n"
      ],
      "execution_count": 0,
      "outputs": []
    },
    {
      "cell_type": "code",
      "metadata": {
        "id": "uT8DTRNM2mx_",
        "colab_type": "code",
        "colab": {}
      },
      "source": [
        "pronouns0=pd.DataFrame(top0,columns=['pronoun','cantidad_not_real'])\n",
        "pronouns1=pd.DataFrame(top1,columns=['pronoun','cantidad_real'])\n",
        "\n",
        "pronouns=pronouns0.merge(pronouns1, how='inner')\n",
        "pronouns['cantidad_not_real']=100*pronouns['cantidad_not_real']/len(train0)\n",
        "pronouns['cantidad_real']=100*pronouns['cantidad_real']/len(train1)\n",
        "\n",
        "# Setting the positions and width for the bars\n",
        "pos = list(range(len(pronouns['pronoun']))) \n",
        "width = 0.25 \n",
        "\n",
        "# Plotting the bars\n",
        "fig, ax = plt.subplots(figsize=(10,5))\n",
        "\n",
        "# Create a bar with cantidad_not_real data,\n",
        "# in position pos,\n",
        "plt.bar(pos, \n",
        "        #using df['pre_score'] data,\n",
        "        pronouns['cantidad_not_real'], \n",
        "        # of width\n",
        "        width, \n",
        "        # with alpha 0.5\n",
        "        alpha=0.5, \n",
        "        # with label the first value in first_name\n",
        "        label=pronouns['pronoun'][0]) \n",
        "\n",
        "# Create a bar with mid_score data,\n",
        "# in position pos + some width buffer,\n",
        "plt.bar([p + width for p in pos], \n",
        "        #using df['mid_score'] data,\n",
        "        pronouns['cantidad_real'],\n",
        "        # of width\n",
        "        width, \n",
        "        # with alpha 0.5\n",
        "        alpha=0.5,  \n",
        "        # with label the second value in first_name\n",
        "        label=pronouns['pronoun'][1]) \n",
        "\n",
        "# Set the y axis label\n",
        "ax.set_ylabel('Porcentaje de apariciones por target')\n",
        "\n",
        "# Set the chart's title\n",
        "ax.set_title('Top 10 de pronombres en tweets')\n",
        "\n",
        "\n",
        "# Set the position of the x ticks\n",
        "ax.set_xticks([p + 0.5 * width for p in pos])\n",
        "\n",
        "# Set the labels for the x ticks\n",
        "ax.set_xticklabels(pronouns['pronoun'])\n",
        "\n",
        "\n",
        "# Adding the legend and showing the plot\n",
        "plt.legend(['Not Real', 'Real'], loc='upper right')\n",
        "plt.show()"
      ],
      "execution_count": 0,
      "outputs": []
    },
    {
      "cell_type": "code",
      "metadata": {
        "id": "pRIJWI9AI-2C",
        "colab_type": "code",
        "colab": {
          "base_uri": "https://localhost:8080/",
          "height": 328
        },
        "outputId": "16d95943-9087-490d-bb69-c36223577d86"
      },
      "source": [
        "pronouns"
      ],
      "execution_count": 278,
      "outputs": [
        {
          "output_type": "execute_result",
          "data": {
            "text/html": [
              "<div>\n",
              "<style scoped>\n",
              "    .dataframe tbody tr th:only-of-type {\n",
              "        vertical-align: middle;\n",
              "    }\n",
              "\n",
              "    .dataframe tbody tr th {\n",
              "        vertical-align: top;\n",
              "    }\n",
              "\n",
              "    .dataframe thead th {\n",
              "        text-align: right;\n",
              "    }\n",
              "</style>\n",
              "<table border=\"1\" class=\"dataframe\">\n",
              "  <thead>\n",
              "    <tr style=\"text-align: right;\">\n",
              "      <th></th>\n",
              "      <th>pronoun</th>\n",
              "      <th>cantidad_not_real</th>\n",
              "      <th>cantidad_real</th>\n",
              "    </tr>\n",
              "  </thead>\n",
              "  <tbody>\n",
              "    <tr>\n",
              "      <th>0</th>\n",
              "      <td>I</td>\n",
              "      <td>29.96</td>\n",
              "      <td>11.50</td>\n",
              "    </tr>\n",
              "    <tr>\n",
              "      <th>1</th>\n",
              "      <td>you</td>\n",
              "      <td>14.56</td>\n",
              "      <td>3.90</td>\n",
              "    </tr>\n",
              "    <tr>\n",
              "      <th>2</th>\n",
              "      <td>my</td>\n",
              "      <td>10.73</td>\n",
              "      <td>3.55</td>\n",
              "    </tr>\n",
              "    <tr>\n",
              "      <th>3</th>\n",
              "      <td>it</td>\n",
              "      <td>10.02</td>\n",
              "      <td>5.93</td>\n",
              "    </tr>\n",
              "    <tr>\n",
              "      <th>4</th>\n",
              "      <td>me</td>\n",
              "      <td>5.72</td>\n",
              "      <td>2.06</td>\n",
              "    </tr>\n",
              "    <tr>\n",
              "      <th>5</th>\n",
              "      <td>your</td>\n",
              "      <td>4.81</td>\n",
              "      <td>1.63</td>\n",
              "    </tr>\n",
              "    <tr>\n",
              "      <th>6</th>\n",
              "      <td>he</td>\n",
              "      <td>3.36</td>\n",
              "      <td>1.21</td>\n",
              "    </tr>\n",
              "    <tr>\n",
              "      <th>7</th>\n",
              "      <td>they</td>\n",
              "      <td>3.02</td>\n",
              "      <td>1.88</td>\n",
              "    </tr>\n",
              "    <tr>\n",
              "      <th>8</th>\n",
              "      <td>we</td>\n",
              "      <td>2.87</td>\n",
              "      <td>1.92</td>\n",
              "    </tr>\n",
              "  </tbody>\n",
              "</table>\n",
              "</div>"
            ],
            "text/plain": [
              "  pronoun    cantidad_not_real        cantidad_real\n",
              "0       I                29.96                11.50\n",
              "1     you                14.56                 3.90\n",
              "2      my                10.73                 3.55\n",
              "3      it                10.02                 5.93\n",
              "4      me                 5.72                 2.06\n",
              "5    your                 4.81                 1.63\n",
              "6      he                 3.36                 1.21\n",
              "7    they                 3.02                 1.88\n",
              "8      we                 2.87                 1.92"
            ]
          },
          "metadata": {
            "tags": []
          },
          "execution_count": 278
        }
      ]
    },
    {
      "cell_type": "markdown",
      "metadata": {
        "id": "mltKoDDg2wZt",
        "colab_type": "text"
      },
      "source": [
        "En la figura se observan los pronombres con más apariciones para ambos targets. Se observa que los mismos 10 pronombres aparecen en ambos rankings. Sin embargo, todos los porcentajes de aparición de target Not Real superan a los de target Real. En partircular, los valores de \"I\", \"you\" y \"my\" para los targets Not Real triplican en porcentaje a los de target Real. \n",
        "La naturaleza de un tweet que expresa un desastre responde a un estilo de redacción con poca cantidad de pronombres respecto a un tweet \"normal\". Esto puede deberse a que no suele usarse la primera ni segunda persona del singular, y puede haber mayor cantidad de nombres propios."
      ]
    },
    {
      "cell_type": "markdown",
      "metadata": {
        "id": "p_kSAE8ZKEOv",
        "colab_type": "text"
      },
      "source": [
        "# Wordclouds: palabras más utilizadas según target"
      ]
    },
    {
      "cell_type": "code",
      "metadata": {
        "id": "tZfFUZlQ9z-4",
        "colab_type": "code",
        "colab": {}
      },
      "source": [
        "link='https://drive.google.com/open?id=1HX-1ZTbIXNVLzXIvhEBAPskz53MVXPtx'\n",
        "fluff, id2 = link.split('=')\n",
        "print (id2) # Verify that you have everything after '='"
      ],
      "execution_count": 0,
      "outputs": []
    },
    {
      "cell_type": "code",
      "metadata": {
        "id": "Xoh99Re1FTpQ",
        "colab_type": "code",
        "colab": {}
      },
      "source": [
        "downloaded = drive.CreateFile({'id':id2}) \n",
        "downloaded.GetContentFile('twitter_mask.png')"
      ],
      "execution_count": 0,
      "outputs": []
    },
    {
      "cell_type": "code",
      "metadata": {
        "id": "SBi196kOB0qv",
        "colab_type": "code",
        "colab": {}
      },
      "source": [
        "textWordcloud0=(train_no_duplicates[train_no_duplicates['target']==0]['text_clean_no_sw']).str.cat(sep=' ')\n",
        "wave_mask = np.array(Image.open('twitter_mask.png'))\n",
        "wordcloud0 = WordCloud(background_color='white',mask=wave_mask).generate(textWordcloud0)\n",
        "# Display the generated image:\n",
        "f, axes = plt.subplots( figsize=(20, 10), sharex=True)\n",
        "plt.imshow(wordcloud0, interpolation='bilinear')\n",
        "plt.axis(\"off\")\n",
        "plt.margins(x=0, y=0)\n",
        "plt.show()\n",
        "\n"
      ],
      "execution_count": 0,
      "outputs": []
    },
    {
      "cell_type": "code",
      "metadata": {
        "id": "oKodLn5YDMuD",
        "colab_type": "code",
        "colab": {}
      },
      "source": [
        "textWordcloud1=(train_no_duplicates[train_no_duplicates['target']==1]['text_clean_no_sw']).str.cat(sep=' ')\n",
        "wordcloud1 = WordCloud(background_color='white',mask=wave_mask).generate(textWordcloud1)\n",
        "# Display the generated image:\n",
        "f, axes = plt.subplots( figsize=(20, 10), sharex=True)\n",
        "plt.imshow(wordcloud1, interpolation='bilinear')\n",
        "plt.axis(\"off\")\n",
        "plt.margins(x=0, y=0)\n",
        "plt.show()"
      ],
      "execution_count": 0,
      "outputs": []
    },
    {
      "cell_type": "markdown",
      "metadata": {
        "id": "dMNPqXVViWNQ",
        "colab_type": "text"
      },
      "source": [
        "# N-gramas"
      ]
    },
    {
      "cell_type": "markdown",
      "metadata": {
        "id": "uuhgkPZeiae2",
        "colab_type": "text"
      },
      "source": [
        " **1-grama**"
      ]
    },
    {
      "cell_type": "markdown",
      "metadata": {
        "id": "mQwP3aS2ie0P",
        "colab_type": "text"
      },
      "source": [
        "Target=0"
      ]
    },
    {
      "cell_type": "code",
      "metadata": {
        "id": "3HfRyrOlTcNw",
        "colab_type": "code",
        "colab": {}
      },
      "source": [
        "tokenized=textWordcloud0.split()\n",
        "unigrams_0 = ngrams(tokenized, 1)\n",
        "unigramsFreq_0 = collections.Counter(unigrams_0)\n",
        "unigramsFreq_0.most_common(20)\n"
      ],
      "execution_count": 0,
      "outputs": []
    },
    {
      "cell_type": "markdown",
      "metadata": {
        "id": "Fq2i17iOiuEN",
        "colab_type": "text"
      },
      "source": [
        "Target=1"
      ]
    },
    {
      "cell_type": "code",
      "metadata": {
        "id": "OuQcL7x6hEns",
        "colab_type": "code",
        "colab": {}
      },
      "source": [
        "tokenized=textWordcloud1.split()\n",
        "unigrams_1 = ngrams(tokenized, 1)\n",
        "unigramsFreq_1 = collections.Counter(unigrams_1)\n",
        "unigramsFreq_1.most_common(20)\n"
      ],
      "execution_count": 0,
      "outputs": []
    },
    {
      "cell_type": "markdown",
      "metadata": {
        "id": "NqBuEjarjQqc",
        "colab_type": "text"
      },
      "source": [
        "**2-gramas**\n"
      ]
    },
    {
      "cell_type": "markdown",
      "metadata": {
        "id": "ZfWbtc6ljbUe",
        "colab_type": "text"
      },
      "source": [
        "Target=0"
      ]
    },
    {
      "cell_type": "code",
      "metadata": {
        "id": "Eu26CwHhgLld",
        "colab_type": "code",
        "colab": {}
      },
      "source": [
        "tokenized=textWordcloud0.split()\n",
        "bigrams_0 = ngrams(tokenized, 2)\n",
        "bigramsFreq_0 = collections.Counter(bigrams_0)\n",
        "bigramsFreq_0.most_common(20)\n",
        "\n"
      ],
      "execution_count": 0,
      "outputs": []
    },
    {
      "cell_type": "markdown",
      "metadata": {
        "id": "kwTd-xhTjiUB",
        "colab_type": "text"
      },
      "source": [
        "Target= 1"
      ]
    },
    {
      "cell_type": "code",
      "metadata": {
        "id": "iUG8Uz-zhL54",
        "colab_type": "code",
        "colab": {}
      },
      "source": [
        "tokenized=textWordcloud1.split()\n",
        "bigrams_1 = ngrams(tokenized, 2)\n",
        "bigramsFreq_1 = collections.Counter(bigrams_1)\n",
        "bigramsFreq_1.most_common(20)"
      ],
      "execution_count": 0,
      "outputs": []
    },
    {
      "cell_type": "markdown",
      "metadata": {
        "id": "pddM5QvojvCC",
        "colab_type": "text"
      },
      "source": [
        "**3-grama**"
      ]
    },
    {
      "cell_type": "markdown",
      "metadata": {
        "id": "WnvgWmvKjxUn",
        "colab_type": "text"
      },
      "source": [
        "Target=0"
      ]
    },
    {
      "cell_type": "code",
      "metadata": {
        "id": "biMlKS0VjzFY",
        "colab_type": "code",
        "colab": {}
      },
      "source": [
        "tokenized=textWordcloud0.split()\n",
        "trigrams_0 = ngrams(tokenized, 3)\n",
        "trigramsFreq_0 = collections.Counter(trigrams_0)\n",
        "trigramsFreq_0.most_common(20)"
      ],
      "execution_count": 0,
      "outputs": []
    },
    {
      "cell_type": "markdown",
      "metadata": {
        "id": "POhsy6Fsj723",
        "colab_type": "text"
      },
      "source": [
        "Target=1"
      ]
    },
    {
      "cell_type": "code",
      "metadata": {
        "id": "_DckH_Z_j7Dc",
        "colab_type": "code",
        "colab": {}
      },
      "source": [
        "tokenized=textWordcloud1.split()\n",
        "trigrams_1 = ngrams(tokenized, 3)\n",
        "trigramsFreq_1 = collections.Counter(trigrams_1)\n",
        "trigramsFreq_1.most_common(20)"
      ],
      "execution_count": 0,
      "outputs": []
    },
    {
      "cell_type": "code",
      "metadata": {
        "id": "XH1ZL3k4Js7D",
        "colab_type": "code",
        "colab": {}
      },
      "source": [
        "unigrams_frecuencies0 = pd.DataFrame.from_dict(unigramsFreq_0, orient='index').reset_index()\n",
        "unigrams_frecuencies1 = pd.DataFrame.from_dict(unigramsFreq_1, orient='index').reset_index()\n",
        "unigrams_frecuencies_inner=pd.merge(unigrams_frecuencies0,unigrams_frecuencies1,on='index')\n",
        "unigrams_frecuencies_outer=pd.merge(unigrams_frecuencies0,unigrams_frecuencies1,on='index', how='outer')"
      ],
      "execution_count": 0,
      "outputs": []
    },
    {
      "cell_type": "code",
      "metadata": {
        "id": "KhJObI75LSYr",
        "colab_type": "code",
        "colab": {}
      },
      "source": [
        "unigrams_frecuencies_inner.columns=['words','target0','target1']\n",
        "unigrams_frecuencies_inner['total']=unigrams_frecuencies_inner['target0']+unigrams_frecuencies_inner['target1']"
      ],
      "execution_count": 0,
      "outputs": []
    },
    {
      "cell_type": "code",
      "metadata": {
        "id": "vTbGiaz1QqDE",
        "colab_type": "code",
        "colab": {}
      },
      "source": [
        "unigrams_frecuencies_inner.sort_values(by='total', ascending=False)"
      ],
      "execution_count": 0,
      "outputs": []
    },
    {
      "cell_type": "code",
      "metadata": {
        "id": "UrBsyZq3Q6tg",
        "colab_type": "code",
        "colab": {}
      },
      "source": [
        "unigrams_frecuencies_outer.fillna(0,inplace=True)"
      ],
      "execution_count": 0,
      "outputs": []
    },
    {
      "cell_type": "code",
      "metadata": {
        "id": "X33lrFchRD4C",
        "colab_type": "code",
        "colab": {}
      },
      "source": [
        "unigrams_frecuencies_outer.columns=['words','target0','target1']\n",
        "unigrams_frecuencies_outer['total']=unigrams_frecuencies_outer['target0']+unigrams_frecuencies_outer['target1']"
      ],
      "execution_count": 0,
      "outputs": []
    },
    {
      "cell_type": "code",
      "metadata": {
        "id": "V97gIv5pTgXC",
        "colab_type": "code",
        "colab": {}
      },
      "source": [
        "unigrams_frecuencies_outer.sort_values(by='total', ascending=False)"
      ],
      "execution_count": 0,
      "outputs": []
    }
  ]
}
