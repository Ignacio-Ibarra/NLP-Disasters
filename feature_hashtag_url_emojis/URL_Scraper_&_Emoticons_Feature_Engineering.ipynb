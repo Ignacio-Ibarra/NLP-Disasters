{
  "nbformat": 4,
  "nbformat_minor": 0,
  "metadata": {
    "colab": {
      "name": "URL Scraper & Emoticons - Feature Engineering.ipynb",
      "provenance": [],
      "collapsed_sections": []
    },
    "kernelspec": {
      "name": "python3",
      "display_name": "Python 3"
    }
  },
  "cells": [
    {
      "cell_type": "markdown",
      "metadata": {
        "id": "X1eNo6YhTVkF",
        "colab_type": "text"
      },
      "source": [
        "El objetivo de este notebook es sacarle jugo lo más posible a los emoticones, a los hashtags, a los URL. \n",
        "\n",
        "Problemas a resolver: \n",
        "  * **Hashtags**: tenemos 1587 rows que tienen hashtags, de las cuales 791 son target 1 y 796 son target 0. Habría que ver si hay algún patrón para identificar a partir del hashtag la clase a la que pertenece. \n",
        "  * **URL**: tenemos 3330 rows que tienen URLs, de las cuales 1775 son target 1. Twitter tiene un sistema que se llama Twitter's link service (http://t.co) que acorta los links por un tema de seguridad, estaría bueno extraer los links posta para ver si del link podemos extraer alguna información. Hay otros servicios que se usan para acortar links como (bit.ly)\n",
        "  * **Emojis**: hay que mejorar la función para extraer emojis y poder analizarlos porque me encuentra muy pocos, por ejemplo los que son tipo **\" :( \"** o **\" :-) \"** no los encuentra. "
      ]
    },
    {
      "cell_type": "code",
      "metadata": {
        "id": "oiwWr326emjS",
        "colab_type": "code",
        "colab": {}
      },
      "source": [
        "import pandas as pd\n",
        "import numpy as np\n",
        "import matplotlib as plt\n",
        "import re\n",
        "from bs4 import BeautifulSoup\n",
        "import requests\n",
        "%matplotlib inline"
      ],
      "execution_count": 83,
      "outputs": []
    },
    {
      "cell_type": "code",
      "metadata": {
        "id": "a8aJhrtkf32T",
        "colab_type": "code",
        "colab": {}
      },
      "source": [
        "!pip install emoji --upgrade"
      ],
      "execution_count": null,
      "outputs": []
    },
    {
      "cell_type": "code",
      "metadata": {
        "id": "VNDHJlizk6dK",
        "colab_type": "code",
        "colab": {}
      },
      "source": [
        "train = pd.read_csv('https://raw.githubusercontent.com/Ignacio-Ibarra/NLP-Disasters/intento_3_nachos/intento_3/train_clean.csv')"
      ],
      "execution_count": 2,
      "outputs": []
    },
    {
      "cell_type": "code",
      "metadata": {
        "id": "Zw50m3eNnqXk",
        "colab_type": "code",
        "colab": {}
      },
      "source": [
        "test = pd.read_csv('https://raw.githubusercontent.com/Ignacio-Ibarra/NLP-Disasters/intento_3_nachos/intento_3/test_clean.csv')"
      ],
      "execution_count": 3,
      "outputs": []
    },
    {
      "cell_type": "code",
      "metadata": {
        "id": "NK2R9vFfr3tw",
        "colab_type": "code",
        "colab": {}
      },
      "source": [
        "#Extracting URLs\n",
        "def extract_url(input_string): \n",
        "  url = []\n",
        "  if 'http://' in input_string or 'www.' in input_string or 'https://' in input_string:\n",
        "    input_string = input_string.split()\n",
        "    for i in input_string:\n",
        "      if 'http://' in i or 'www.' in i or 'https://' in i: \n",
        "        url.append(i)    \n",
        "    return str(url)\n",
        "  else: \n",
        "    return 'No_url'"
      ],
      "execution_count": 4,
      "outputs": []
    },
    {
      "cell_type": "code",
      "metadata": {
        "id": "PVbC57327y-W",
        "colab_type": "code",
        "colab": {}
      },
      "source": [
        "#Extracting emojis and flags # Funciona muy mal hay muchos emojis que no los identifica como los que son tipo  :(  o  :-) \n",
        "\n",
        "import emoji\n",
        "import regex\n",
        "\n",
        "def extract_emojis(input_string):\n",
        "\n",
        "  emoji_list = []\n",
        "  data = regex.findall(r'\\X', input_string)\n",
        "  for word in data:\n",
        "    if word in emoji.UNICODE_EMOJI:\n",
        "      emoji_list.append(emoji.UNICODE_EMOJI[word][1:-1])\n",
        "  if emoji_list == []:\n",
        "    return \"No_emoji\"\n",
        "  else:\n",
        "    return emoji_list"
      ],
      "execution_count": 51,
      "outputs": []
    },
    {
      "cell_type": "code",
      "metadata": {
        "id": "sDgiWWpvPaCs",
        "colab_type": "code",
        "colab": {}
      },
      "source": [
        "#Extracting hashtags\n",
        "\n",
        "def extract_hashtags(input_string):\n",
        "\n",
        "  hashtag_list = []\n",
        "  lista = input_string.split()\n",
        "  for word in lista:\n",
        "    if '#' in word:\n",
        "      hashtag_list.append(word)\n",
        "  if hashtag_list == []:\n",
        "    return 'No_hashtag'\n",
        "  else: \n",
        "    return hashtag_list"
      ],
      "execution_count": 70,
      "outputs": []
    },
    {
      "cell_type": "code",
      "metadata": {
        "id": "uwF4c4tmQKVr",
        "colab_type": "code",
        "colab": {}
      },
      "source": [
        "a = train['text'].apply(lambda x: extract_hashtags(x))\n",
        "b = train['text'].apply(lambda x: extract_url(x))\n",
        "c = train['text'].apply(lambda x: extract_emojis(x))"
      ],
      "execution_count": 95,
      "outputs": []
    },
    {
      "cell_type": "code",
      "metadata": {
        "id": "d0WSe6EiQVLp",
        "colab_type": "code",
        "colab": {
          "base_uri": "https://localhost:8080/",
          "height": 108
        },
        "outputId": "9bc0b672-6a2c-482f-f1a3-8199316684fa"
      },
      "source": [
        "print('Cantidad de rows con hashtags',len(train[a != 'No_hashtag']), '\\n','\\n',\n",
        "      'Cantidad de rows con urls',    len(train[b != 'No_url']), '\\n','\\n',\n",
        "      'Cantidad de rows con emojis',  len(train[c != 'No_emoji']))"
      ],
      "execution_count": 100,
      "outputs": [
        {
          "output_type": "stream",
          "text": [
            "Cantidad de rows con hashtags 1587 \n",
            " \n",
            " Cantidad de rows con urls 3330 \n",
            " \n",
            " Cantidad de rows con emojis 7\n"
          ],
          "name": "stdout"
        }
      ]
    },
    {
      "cell_type": "code",
      "metadata": {
        "id": "yJu7GRpnfaI7",
        "colab_type": "code",
        "colab": {
          "base_uri": "https://localhost:8080/",
          "height": 72
        },
        "outputId": "c6ae2338-2278-4daa-8495-80facf6d03d0"
      },
      "source": [
        "print(train[a != 'No_hashtag']['target'].sum())\n",
        "print(train[b != 'No_url']['target'].sum())\n",
        "print(train[c != 'No_emoji']['target'].sum())"
      ],
      "execution_count": 103,
      "outputs": [
        {
          "output_type": "stream",
          "text": [
            "791\n",
            "1775\n",
            "6\n"
          ],
          "name": "stdout"
        }
      ]
    }
  ]
}